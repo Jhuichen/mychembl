{
 "cells": [
  {
   "cell_type": "markdown",
   "metadata": {},
   "source": [
    "# Beaker: Using RDKit without RDKit"
   ]
  },
  {
   "cell_type": "markdown",
   "metadata": {},
   "source": [
    "### myChEMBL team, ChEMBL group, EMBL-EBI."
   ]
  },
  {
   "cell_type": "markdown",
   "metadata": {},
   "source": [
    "There are cases when one would need to use a chemoinformatics toolkit without having to install it. Such cases include a computer without sufficient privileges, a JavaScript web widget or mobile phone application. Another, very pragmatic, reason could be simply the lack of technical knowledge or experience to install such a toolkit or the need to quickly check some chemical properties without spending too much time on installation.\n",
    "\n",
    "In such cases, our tool called [Beaker](https://github.com/mnowotka/chembl_beaker) can be very helpful. To the less advanced users, Beaker can be seen as a part of public [web services](https://www.ebi.ac.uk/chembl/ws), provided by ChEMBL. In the same way, one can use ChEMBL web services to check details of a compound for the given ID, now one may call the same web services to convert molfiles to SMILES, depict them, calculate fingerprints, etc.\n",
    "\n",
    "The only requirement to use this functionality is having an internet connection. If you have myChEMBL VM, working internet connection is not required - web services are preloaded on the machine. This means you can use it straight away and the rest of this notebook shows how to do it in Python.\n",
    "\n",
    "In order to access web services from Python we will use official ChEMBL python client called \"chembl_webresource_client\"."
   ]
  },
  {
   "cell_type": "markdown",
   "metadata": {},
   "source": [
    "# Configuration"
   ]
  },
  {
   "cell_type": "code",
   "execution_count": 1,
   "metadata": {
    "collapsed": false
   },
   "outputs": [
    {
     "name": "stdout",
     "output_type": "stream",
     "text": [
      "['MMFFctab23D', 'MMFFsmiles23D', '__class__', '__delattr__', '__dict__', '__doc__', '__format__', '__getattribute__', '__hash__', '__init__', '__module__', '__new__', '__reduce__', '__reduce_ex__', '__repr__', '__setattr__', '__sizeof__', '__str__', '__subclasshook__', '__weakref__', 'addHs', 'atomIsInRing', 'atomRings', 'bondIsInRing', 'bondRings', 'breakBonds', 'call_spore_function', 'canonicalizeSmiles', 'cipStereoInfo', 'clean', 'ctab23D', 'ctab2image', 'ctab2inchi', 'ctab2inchiKey', 'ctab2json', 'ctab2smiles', 'ctab2svg', 'description', 'descriptors', 'getNumAtoms', 'getNumBonds', 'hydrogenize', 'image2ctab', 'image2smiles', 'inchi2ctab', 'inchi2inchiKey', 'inchi2svg', 'kekulize', 'logP', 'mcs', 'molExport', 'molWt', 'neutralise', 'numAtomRings', 'numBondRings', 'numRings', 'official', 'removeHs', 'rules', 'sanitize', 'sdf2SimilarityMap', 'sdf2fps', 'session', 'smiles23D', 'smiles2SimilarityMap', 'smiles2ctab', 'smiles2image', 'smiles2inchi', 'smiles2inchiKey', 'smiles2json', 'smiles2svg', 'sssr', 'standardise', 'status', 'symmSSSR', 'tpsa', 'unsalt']\n"
     ]
    }
   ],
   "source": [
    "# First of all we have to import some useful libraries:\n",
    "\n",
    "# json for converting python dicts to json objects back and forth\n",
    "import json\n",
    "\n",
    "# lxml.etree for pretty-printing XML documents\n",
    "from lxml import etree\n",
    "\n",
    "# Ipython helper for displaying images\n",
    "from IPython.display import Image, display\n",
    "from IPython.display import SVG\n",
    "from IPython.display import Javascript\n",
    "\n",
    "# By default our Python client will use public instance of web services, requiring internet connection.\n",
    "# We want to use a local instance provided with myChEMBL so we are doing some additional configuration.\n",
    "# You should skip this when using the client outside of myChEMBL\n",
    "from chembl_webresource_client.settings import Settings\n",
    "Settings.Instance().UTILS_SPORE_URL = 'http://localhost/utils/spore'\n",
    "\n",
    "# Finally, importing utils (aka Beaker) part of ChEMBL webservices, and we are ready to go!\n",
    "import chembl_webresource_client.utils as utils_mod\n",
    "utils = utils_mod.utils\n",
    "print dir(utils)\n"
   ]
  },
  {
   "cell_type": "markdown",
   "metadata": {},
   "source": [
    "# Format conversion"
   ]
  },
  {
   "cell_type": "code",
   "execution_count": 2,
   "metadata": {
    "collapsed": false
   },
   "outputs": [
    {
     "name": "stdout",
     "output_type": "stream",
     "text": [
      "\n",
      "     RDKit          2D\n",
      "\n",
      " 13 13  0  0  0  0  0  0  0  0999 V2000\n",
      "   -3.0122    1.1850    0.0000 O   0  0  0  0  0  0  0  0  0  0  0  0\n",
      "   -2.6987   -0.2818    0.0000 C   0  0  0  0  0  0  0  0  0  0  0  0\n",
      "   -1.2716   -0.7438    0.0000 O   0  0  0  0  0  0  0  0  0  0  0  0\n",
      "   -0.1580    0.2612    0.0000 C   0  0  0  0  0  0  0  0  0  0  0  0\n",
      "   -0.4715    1.7281    0.0000 C   0  0  0  0  0  0  0  0  0  0  0  0\n",
      "    0.6420    2.7330    0.0000 C   0  0  0  0  0  0  0  0  0  0  0  0\n",
      "    2.0691    2.2711    0.0000 C   0  0  0  0  0  0  0  0  0  0  0  0\n",
      "    2.3827    0.8043    0.0000 C   0  0  0  0  0  0  0  0  0  0  0  0\n",
      "    1.2691   -0.2007    0.0000 C   0  0  0  0  0  0  0  0  0  0  0  0\n",
      "    1.5826   -1.6676    0.0000 C   0  0  0  0  0  0  0  0  0  0  0  0\n",
      "    3.0097   -2.1295    0.0000 O   0  0  0  0  0  0  0  0  0  0  0  0\n",
      "    0.4690   -2.6725    0.0000 O   0  0  0  0  0  0  0  0  0  0  0  0\n",
      "   -3.8123   -1.2868    0.0000 C   0  0  0  0  0  0  0  0  0  0  0  0\n",
      "  1  2  2  0\n",
      "  2  3  1  0\n",
      "  3  4  1  0\n",
      "  4  5  2  0\n",
      "  5  6  1  0\n",
      "  6  7  2  0\n",
      "  7  8  1  0\n",
      "  8  9  2  0\n",
      "  9 10  1  0\n",
      " 10 11  2  0\n",
      " 10 12  1  0\n",
      "  2 13  1  0\n",
      "  9  4  1  0\n",
      "M  END\n",
      "$$$$\n",
      "\n"
     ]
    }
   ],
   "source": [
    "# We will start with converting SMILES to molfile\n",
    "\n",
    "# Lets take SMILES of aspirin:\n",
    "smiles = 'O=C(Oc1ccccc1C(=O)O)C'\n",
    "\n",
    "# And this is how we do the conversion, simple!\n",
    "ctab = utils.smiles2ctab(smiles)\n",
    "\n",
    "# And here we can see the result:\n",
    "print ctab"
   ]
  },
  {
   "cell_type": "code",
   "execution_count": 3,
   "metadata": {
    "collapsed": false
   },
   "outputs": [
    {
     "name": "stdout",
     "output_type": "stream",
     "text": [
      "SMILES Name \n",
      "CC(=O)Oc1ccccc1C(=O)O 0\n",
      "\n",
      "CC(=O)Oc1ccccc1C(=O)O\n"
     ]
    }
   ],
   "source": [
    "# OK, now having our molfile (ctab), let's convert is back to SMILES\n",
    "# By default, computed SMILES will be canonical:\n",
    "smi_file = utils.ctab2smiles(ctab)\n",
    "print smi_file\n",
    "# The result is a *.smi file with the header so in order to get only SMILES, we have to extract the relevant part:\n",
    "canonical_smiles = smi_file.split()[2]\n",
    "print canonical_smiles"
   ]
  },
  {
   "cell_type": "code",
   "execution_count": 4,
   "metadata": {
    "collapsed": false
   },
   "outputs": [
    {
     "name": "stdout",
     "output_type": "stream",
     "text": [
      "InChI=1S/C9H8O4/c1-6(10)13-8-5-3-2-4-7(8)9(11)12/h2-5H,1H3,(H,11,12)\n"
     ]
    }
   ],
   "source": [
    "# Having our aspirin molfile (ctab), we can compute InCHI:\n",
    "inchi = utils.ctab2inchi(ctab)\n",
    "print inchi"
   ]
  },
  {
   "cell_type": "code",
   "execution_count": 5,
   "metadata": {
    "collapsed": false
   },
   "outputs": [
    {
     "name": "stdout",
     "output_type": "stream",
     "text": [
      "BSYNRYMUTXBXSQ-UHFFFAOYSA-N\n"
     ]
    }
   ],
   "source": [
    "# And, of course, an InCHIKey from InCHI:\n",
    "inchiKey = utils.inchi2inchiKey(inchi)\n",
    "print inchiKey"
   ]
  },
  {
   "cell_type": "code",
   "execution_count": 6,
   "metadata": {
    "collapsed": false
   },
   "outputs": [
    {
     "data": {
      "text/plain": [
       "True"
      ]
     },
     "execution_count": 6,
     "metadata": {},
     "output_type": "execute_result"
    }
   ],
   "source": [
    "# It's also possible to convert InCHI back to molfile (ctab2):\n",
    "ctab2 = utils.inchi2ctab(inchi)\n",
    "\n",
    "# And a molfile to smiles:\n",
    "smiles2 = utils.ctab2smiles(ctab2).split()[2]\n",
    "\n",
    "# Let's check if we've go the same canonical SMILES after this round trip:\n",
    "canonical_smiles == smiles2"
   ]
  },
  {
   "cell_type": "markdown",
   "metadata": {},
   "source": [
    "# Marvin utils"
   ]
  },
  {
   "cell_type": "markdown",
   "metadata": {},
   "source": [
    "[Marvin 4 JS](https://www.chemaxon.com/products/marvin/marvin-js/) is a JavaScript port of very popular compound editor. To provide some extended functionality, such as importing/exporting from different formats, providing stereochemistry information or performing other calculations, Marvin 4 JS is using web services. The [specification](https://marvinjs-demo.chemaxon.com/latest/docs/dev/webservices.html) is open so everyone can provide own version of web services compatible with Marvin. Beaker provides set of methods conforming to that specification."
   ]
  },
  {
   "cell_type": "code",
   "execution_count": 7,
   "metadata": {
    "collapsed": false
   },
   "outputs": [
    {
     "name": "stdout",
     "output_type": "stream",
     "text": [
      "<cml>\n",
      "  <MDocument>\n",
      "    <MChemicalStruct>\n",
      "      <molecule molID=\"m1\">\n",
      "        <atomArray>\n",
      "          <atom elementType=\"O\" id=\"a1\" x2=\"-2.99879997601\" y2=\"1.1797333239\"/>\n",
      "          <atom elementType=\"C\" id=\"a2\" x2=\"-2.68669331184\" y2=\"-0.280559997756\"/>\n",
      "          <atom elementType=\"O\" id=\"a3\" x2=\"-1.26597332321\" y2=\"-0.740506660743\"/>\n",
      "          <atom elementType=\"C\" id=\"a4\" x2=\"-0.157359998741\" y2=\"0.260026664586\"/>\n",
      "          <atom elementType=\"C\" id=\"a5\" x2=\"-0.469466662911\" y2=\"1.72031998624\"/>\n",
      "          <atom elementType=\"C\" id=\"a6\" x2=\"0.639146661553\" y2=\"2.72085331157\"/>\n",
      "          <atom elementType=\"C\" id=\"a7\" x2=\"2.05986665019\" y2=\"2.26109331524\"/>\n",
      "          <atom elementType=\"C\" id=\"a8\" x2=\"2.37215998102\" y2=\"0.800613326928\"/>\n",
      "          <atom elementType=\"C\" id=\"a9\" x2=\"1.26354665656\" y2=\"-0.199733331735\"/>\n",
      "          <atom elementType=\"C\" id=\"a10\" x2=\"1.57565332073\" y2=\"-1.66021332005\"/>\n",
      "          <atom elementType=\"O\" id=\"a11\" x2=\"2.99637330936\" y2=\"-2.11997331637\"/>\n",
      "          <atom elementType=\"O\" id=\"a12\" x2=\"0.467039996264\" y2=\"-2.66074664538\"/>\n",
      "          <atom elementType=\"C\" id=\"a13\" x2=\"-3.7953066363\" y2=\"-1.28109332308\"/>\n",
      "        </atomArray>\n",
      "        <bondArray>\n",
      "          <bond atomRefs2=\"a1 a2\" order=\"2\"/>\n",
      "          <bond atomRefs2=\"a2 a3\" order=\"1\"/>\n",
      "          <bond atomRefs2=\"a3 a4\" order=\"1\"/>\n",
      "          <bond atomRefs2=\"a4 a5\" order=\"2\"/>\n",
      "          <bond atomRefs2=\"a5 a6\" order=\"1\"/>\n",
      "          <bond atomRefs2=\"a6 a7\" order=\"2\"/>\n",
      "          <bond atomRefs2=\"a7 a8\" order=\"1\"/>\n",
      "          <bond atomRefs2=\"a8 a9\" order=\"2\"/>\n",
      "          <bond atomRefs2=\"a9 a10\" order=\"1\"/>\n",
      "          <bond atomRefs2=\"a10 a11\" order=\"2\"/>\n",
      "          <bond atomRefs2=\"a10 a12\" order=\"1\"/>\n",
      "          <bond atomRefs2=\"a2 a13\" order=\"1\"/>\n",
      "          <bond atomRefs2=\"a9 a4\" order=\"1\"/>\n",
      "        </bondArray>\n",
      "      </molecule>\n",
      "    </MChemicalStruct>\n",
      "  </MDocument>\n",
      "</cml>\n",
      "\n"
     ]
    }
   ],
   "source": [
    "# Again, let's start from the SMILES for Aspirin\n",
    "smiles = 'O=C(Oc1ccccc1C(=O)O)C'\n",
    "\n",
    "# We will convert it to *.mrv format\n",
    "mrv = json.loads(utils.molExport(structure=smiles, parameters=\"mrv\"))['structure']\n",
    "\n",
    "# Since *.mrv files are XML-based we can pretty-print it:\n",
    "root = etree.fromstring(mrv).getroottree()\n",
    "print etree.tostring(root, pretty_print=True)"
   ]
  },
  {
   "cell_type": "code",
   "execution_count": 8,
   "metadata": {
    "collapsed": false
   },
   "outputs": [
    {
     "name": "stdout",
     "output_type": "stream",
     "text": [
      "{u'headers': {u'tetraHedral': {u'source': u'CALCULATOR', u'type': u'COMPLEX', u'name': u'tetraHedral'}, u'doubleBond': {u'source': u'CALCULATOR', u'type': u'COMPLEX', u'name': u'doubleBond'}}, u'tetraHedral': [{u'atomIndex': 6, u'chirality': u'S'}], u'doubleBond': []}\n"
     ]
    }
   ],
   "source": [
    "# OK, now let's do the opposite. Starting with some mrv (cml) file, let's compute a stereo information:\n",
    "cml = '''<cml>\n",
    "             <MDocument>\n",
    "                 <MChemicalStruct>\n",
    "                     <molecule molID=\"m1\">\n",
    "                         <atomArray>\n",
    "                             <atom id=\"a1\" elementType=\"C\" x2=\"-3.1249866416667733\" y2=\"-0.5015733293207466\"/>\n",
    "                             <atom id=\"a2\" elementType=\"C\" x2=\"-4.458533297665067\" y2=\"-1.2715733231607467\"/>\n",
    "                             <atom id=\"a3\" elementType=\"C\" x2=\"-4.458533297665067\" y2=\"-2.81175997750592\"/>\n",
    "                             <atom id=\"a4\" elementType=\"C\" x2=\"-3.1249866416667733\" y2=\"-3.58175997134592\"/>\n",
    "                             <atom id=\"a5\" elementType=\"C\" x2=\"-1.7912533190033066\" y2=\"-2.81175997750592\"/>\n",
    "                             <atom id=\"a6\" elementType=\"C\" x2=\"-1.7912533190033066\" y2=\"-1.2715733231607467\"/>\n",
    "                             <atom id=\"a7\" elementType=\"C\" x2=\"-0.45751999633984003\" y2=\"-0.5013866626555733\"/>\n",
    "                             <atom id=\"a8\" elementType=\"O\" x2=\"-0.45751999633984003\" y2=\"1.0384266583592534\"/>\n",
    "                             <atom id=\"a9\" elementType=\"C\" x2=\"0.87583999299328\" y2=\"-1.2713866564955734\"/>\n",
    "                             <atom id=\"a10\" elementType=\"C\" x2=\"0.87583999299328\" y2=\"-2.8113866441755735\"/>\n",
    "                         </atomArray>\n",
    "                         <bondArray>\n",
    "                             <bond atomRefs2=\"a1 a2\" order=\"2\"/>\n",
    "                             <bond atomRefs2=\"a2 a3\" order=\"1\"/>\n",
    "                             <bond atomRefs2=\"a3 a4\" order=\"2\"/>\n",
    "                             <bond atomRefs2=\"a4 a5\" order=\"1\"/>\n",
    "                             <bond atomRefs2=\"a5 a6\" order=\"2\"/>\n",
    "                             <bond atomRefs2=\"a6 a1\" order=\"1\"/>\n",
    "                             <bond atomRefs2=\"a6 a7\" order=\"1\"/>\n",
    "                             <bond atomRefs2=\"a7 a9\" order=\"1\"/>\n",
    "                             <bond atomRefs2=\"a9 a10\" order=\"1\"/>\n",
    "                             <bond atomRefs2=\"a7 a8\" order=\"1\">\n",
    "                                 <bondStereo>W</bondStereo>\n",
    "                             </bond>\n",
    "                         </bondArray>\n",
    "                     </molecule>\n",
    "                 </MChemicalStruct>\n",
    "             </MDocument>\n",
    "         </cml>\n",
    "'''\n",
    "\n",
    "# According to Marvin 4 JS WS specification, the result has to be json:\n",
    "stereo_info = json.loads(utils.cipStereoInfo(structure=cml))\n",
    "print stereo_info"
   ]
  },
  {
   "cell_type": "markdown",
   "metadata": {},
   "source": [
    "# Standardisation"
   ]
  },
  {
   "cell_type": "markdown",
   "metadata": {},
   "source": [
    "[Standardiser](https://github.com/flatkinson/standardiser) is a tool written by Francis Atkinson, designed to provide a simple way of standardising molecules as a prelude to e.g. molecular modelling exercises. Thanks to Beaker, we don't have to install standardiser to use it."
   ]
  },
  {
   "cell_type": "code",
   "execution_count": 9,
   "metadata": {
    "collapsed": false
   },
   "outputs": [
    {
     "name": "stdout",
     "output_type": "stream",
     "text": [
      "O=C([O-])c1ccccc1.[Na+]\n"
     ]
    },
    {
     "data": {
      "image/png": "[encoded data removed]",
      "text/plain": [
       "<IPython.core.display.Image object>"
      ]
     },
     "metadata": {},
     "output_type": "display_data"
    },
    {
     "data": {
      "image/png": "[encoded data removed]",
      "text/plain": [
       "<IPython.core.display.Image object>"
      ]
     },
     "metadata": {},
     "output_type": "display_data"
    },
    {
     "data": {
      "text/plain": [
       "[None, None]"
      ]
     },
     "execution_count": 9,
     "metadata": {},
     "output_type": "execute_result"
    }
   ],
   "source": [
    "# First method provided by standardiser is to break bonds to Group I and II metal atoms:\n",
    "# Before using it, we have to convert our input SMILES string to ctab:\n",
    "mol = utils.smiles2ctab(\"[Na]OC(=O)c1ccccc1\")\n",
    "\n",
    "# Now we can apply the function\n",
    "br = utils.breakBonds(mol)\n",
    "\n",
    "# In order to get our result back in SMILES format we have to make a conversion:\n",
    "smiles = utils.ctab2smiles(br).split()[2]\n",
    "\n",
    "# And here is the result:\n",
    "print smiles\n",
    "\n",
    "# We can even use Beaker to render input and output:\n",
    "[display(Image(utils.smiles2image(\"[Na]OC(=O)c1ccccc1\"))), display(Image(utils.smiles2image(\"[Na+].O=C([O-])c1ccccc1\")))]"
   ]
  },
  {
   "cell_type": "code",
   "execution_count": 10,
   "metadata": {
    "collapsed": false
   },
   "outputs": [
    {
     "name": "stdout",
     "output_type": "stream",
     "text": [
      "NCC(Cc1nn[nH]n1)(C[N+](=O)[O-])C(=O)O\n"
     ]
    },
    {
     "data": {
      "image/png": "[encoded data removed]",
      "text/plain": [
       "<IPython.core.display.Image object>"
      ]
     },
     "metadata": {},
     "output_type": "display_data"
    },
    {
     "data": {
      "image/png": "[encoded data removed]",
      "text/plain": [
       "<IPython.core.display.Image object>"
      ]
     },
     "metadata": {},
     "output_type": "display_data"
    },
    {
     "data": {
      "text/plain": [
       "[None, None]"
      ]
     },
     "execution_count": 10,
     "metadata": {},
     "output_type": "execute_result"
    }
   ],
   "source": [
    "# The second method neutralizes charges by adding/removing protons\n",
    "# Again, we have to convert SMILES to ctab first, then apply the method and convert result back to SMILES:\n",
    "mol = utils.smiles2ctab(\"C(C(=O)[O-])(Cc1n[n-]nn1)(C[NH3+])(C[N+](=O)[O-])\")\n",
    "ne = utils.neutralise(mol)\n",
    "smiles = utils.ctab2smiles(ne).split()[2]\n",
    "\n",
    "# Now we can print the result\n",
    "print smiles\n",
    "\n",
    "# And render input and output\n",
    "[display(Image(utils.smiles2image(\"C(C(=O)[O-])(Cc1n[n-]nn1)(C[NH3+])(C[N+](=O)[O-])\"))), display(Image(utils.smiles2image(\"NCC(Cc1nn[nH]n1)(C[N+](=O)[O-])C(=O)O\")))]"
   ]
  },
  {
   "cell_type": "code",
   "execution_count": 11,
   "metadata": {
    "collapsed": false
   },
   "outputs": [
    {
     "name": "stdout",
     "output_type": "stream",
     "text": [
      "Nc1nccc2cc[nH]c(=O)c12\n"
     ]
    },
    {
     "data": {
      "image/png": "[encoded data removed]",
      "text/plain": [
       "<IPython.core.display.Image object>"
      ]
     },
     "metadata": {},
     "output_type": "display_data"
    },
    {
     "data": {
      "image/png": "[encoded data removed]",
      "text/plain": [
       "<IPython.core.display.Image object>"
      ]
     },
     "metadata": {},
     "output_type": "display_data"
    },
    {
     "data": {
      "text/plain": [
       "[None, None]"
      ]
     },
     "execution_count": 11,
     "metadata": {},
     "output_type": "execute_result"
    }
   ],
   "source": [
    "# Third method applies many structure-normalisation transformations\n",
    "\n",
    "# Invoking it in standard way\n",
    "mol = utils.smiles2ctab(\"Oc1nccc2cc[nH]c(=N)c12\")\n",
    "ru = utils.rules(mol)\n",
    "smiles = utils.ctab2smiles(ru).split()[2]\n",
    "\n",
    "# Printing the results:\n",
    "print smiles\n",
    "\n",
    "# Rendering input and output:\n",
    "[display(Image(utils.smiles2image(\"Oc1nccc2cc[nH]c(=N)c12\"))), display(Image(utils.smiles2image(\"Nc1nccc2cc[nH]c(=O)c12\")))]"
   ]
  },
  {
   "cell_type": "code",
   "execution_count": 12,
   "metadata": {
    "collapsed": false
   },
   "outputs": [
    {
     "name": "stdout",
     "output_type": "stream",
     "text": [
      "NCc1ccc(CC(=O)O)cc1\n"
     ]
    },
    {
     "data": {
      "image/png": "[encoded data removed]",
      "text/plain": [
       "<IPython.core.display.Image object>"
      ]
     },
     "metadata": {},
     "output_type": "display_data"
    },
    {
     "data": {
      "image/png": "[encoded data removed]",
      "text/plain": [
       "<IPython.core.display.Image object>"
      ]
     },
     "metadata": {},
     "output_type": "display_data"
    },
    {
     "data": {
      "text/plain": [
       "[None, None]"
      ]
     },
     "execution_count": 12,
     "metadata": {},
     "output_type": "execute_result"
    }
   ],
   "source": [
    "# Forth method can be used to discard any salt/solvate components\n",
    "\n",
    "# We alredy know what to do:\n",
    "mol = utils.smiles2ctab(\"[Na+].OC(=O)Cc1ccc(CN)cc1.OS(=O)(=O)C(F)(F)F\")\n",
    "un = utils.unsalt(mol)\n",
    "smiles = utils.ctab2smiles(un).split()[2]\n",
    "\n",
    "# printing results:\n",
    "print smiles\n",
    "\n",
    "# rendering input and output:\n",
    "[display(Image(utils.smiles2image(\"[Na+].OC(=O)Cc1ccc(CN)cc1.OS(=O)(=O)C(F)(F)F\"))), display(Image(utils.smiles2image(\"NCc1ccc(CC(=O)O)cc1\")))]"
   ]
  },
  {
   "cell_type": "code",
   "execution_count": 13,
   "metadata": {
    "collapsed": false
   },
   "outputs": [
    {
     "name": "stdout",
     "output_type": "stream",
     "text": [
      "NCc1ccc(CC(=O)O)cc1\n"
     ]
    },
    {
     "data": {
      "image/png": "[encoded data removed]",
      "text/plain": [
       "<IPython.core.display.Image object>"
      ]
     },
     "metadata": {},
     "output_type": "display_data"
    },
    {
     "data": {
      "image/png": "[encoded data removed]",
      "text/plain": [
       "<IPython.core.display.Image object>"
      ]
     },
     "metadata": {},
     "output_type": "display_data"
    },
    {
     "data": {
      "text/plain": [
       "[None, None]"
      ]
     },
     "execution_count": 13,
     "metadata": {},
     "output_type": "execute_result"
    }
   ],
   "source": [
    "# The last method from the Standardiser package aggregates four previous into one:\n",
    "mol = utils.smiles2ctab(\"[Na]OC(=O)Cc1ccc(C[NH3+])cc1.c1nnn[n-]1.O\")\n",
    "st = utils.standardise(mol)\n",
    "smiles = utils.ctab2smiles(st).split()[2]\n",
    "print smiles\n",
    "[display(Image(utils.smiles2image(\"[Na]OC(=O)Cc1ccc(C[NH3+])cc1.c1nnn[n-]1.O\"))), display(Image(utils.smiles2image(\"NCc1ccc(CC(=O)O)cc1\")))]"
   ]
  },
  {
   "cell_type": "markdown",
   "metadata": {},
   "source": [
    "# Descriptors calculation"
   ]
  },
  {
   "cell_type": "code",
   "execution_count": 14,
   "metadata": {
    "collapsed": false
   },
   "outputs": [
    {
     "name": "stdout",
     "output_type": "stream",
     "text": [
      "num atoms = 13\n",
      "mol_wt = 180.159\n",
      "log_p = 1.3101\n",
      "tpsa = 63.6\n",
      "{u'MaxEStateIndex': 10.611948223733938, u'Chi4v': 0.8871712192374142, u'Kappa3': 2.297415032519928, u'Chi4n': 0.8871712192374142, u'SMR_VSA10': 11.938610575903699, u'MinAbsPartialCharge': 0.33900378687731025, u'MinPartialCharge': -0.4775395271554559, u'SlogP_VSA6': 24.26546827384644, u'ExactMolWt': 180.042258736, u'MolWt': 180.15899999999996, u'NumAromaticRings': 1, u'NumSaturatedHeterocycles': 0, u'NumAliphaticHeterocycles': 0, u'VSA_EState10': 0.0, u'TPSA': 63.60000000000001, u'PEOE_VSA14': 11.938610575903699, u'PEOE_VSA13': 0.0, u'PEOE_VSA12': 0.0, u'PEOE_VSA11': 0.0, u'PEOE_VSA10': 11.3129633249809, u'BalabanJ': 3.0435273546341013, u'Chi0n': 6.981359543650051, u'EState_VSA10': 9.589074368143644, u'EState_VSA11': 0.0, u'HeavyAtomMolWt': 172.09499999999997, u'Chi0': 9.844934982691242, u'Chi1': 6.109060905280622, u'NumAliphaticRings': 0, u'MolLogP': 1.3100999999999998, u'NumAliphaticCarbocycles': 0, u'NumValenceElectrons': 68.0, u'MinEStateIndex': -1.1140277777777772, u'HallKierAlpha': -1.8399999999999999, u'VSA_EState4': 0.0, u'VSA_EState5': 0.0, u'VSA_EState6': 0.0, u'VSA_EState7': 0.0, u'NumHDonors': 1, u'VSA_EState2': 0.0, u'VSA_EState3': 0.0, u'MaxAbsEStateIndex': 10.611948223733938, u'SlogP_VSA12': 0.0, u'VSA_EState9': 40.166666666666664, u'SlogP_VSA10': 0.0, u'SlogP_VSA11': 5.749511833283905, u'NHOHCount': 1, u'NumSaturatedRings': 0, u'MaxPartialCharge': 0.33900378687731025, u'Kappa2': 3.7092512583454584, u'SlogP_VSA8': 0.0, u'SlogP_VSA9': 0.0, u'SlogP_VSA4': 0.0, u'SlogP_VSA5': 17.281725875459443, u'NumAromaticCarbocycles': 1, u'SlogP_VSA7': 0.0, u'SlogP_VSA1': 4.736862953800049, u'SlogP_VSA2': 17.045137970744406, u'SlogP_VSA3': 4.794537184071822, u'NumRadicalElectrons': 0.0, u'NumHeteroatoms': 4, u'BertzCT': 343.2228677267164, u'LabuteASA': 74.75705264447721, u'Chi3n': 1.3711546649445034, u'SMR_VSA3': 0.0, u'SMR_VSA2': 0.0, u'SMR_VSA1': 19.432464716784395, u'Chi3v': 1.3711546649445034, u'SMR_VSA6': 0.0, u'SMR_VSA5': 6.923737199690624, u'SMR_VSA4': 0.0, u'EState_VSA6': 12.13273413692322, u'SMR_VSA7': 29.828919765543436, u'SMR_VSA9': 5.749511833283905, u'SMR_VSA8': 0.0, u'EState_VSA2': 11.3129633249809, u'EState_VSA3': 0.0, u'EState_VSA1': 11.938610575903699, u'EState_VSA8': 4.736862953800049, u'Ipc': 729.6807528797516, u'EState_VSA9': 5.106527394840706, u'EState_VSA7': 0.0, u'EState_VSA4': 0.0, u'VSA_EState1': 0.0, u'EState_VSA5': 19.056471336613846, u'Chi2n': 2.3949556783206725, u'Chi2v': 2.3949556783206725, u'HeavyAtomCount': 13, u'NumHAcceptors': 3, u'VSA_EState8': 0.0, u'NOCount': 4, u'Chi1n': 3.6174536478673316, u'PEOE_VSA8': 6.923737199690624, u'PEOE_VSA7': 12.13273413692322, u'PEOE_VSA6': 12.13273413692322, u'PEOE_VSA5': 0.0, u'PEOE_VSA4': 0.0, u'PEOE_VSA3': 4.794537184071822, u'PEOE_VSA2': 4.794537184071822, u'PEOE_VSA1': 9.843390348640755, u'NumSaturatedCarbocycles': 0, u'FractionCSP3': 0.1111111111111111, u'Chi1v': 3.6174536478673316, u'NumAromaticHeterocycles': 0, u'Kappa1': 9.249605734767023, u'MinAbsEStateIndex': 0.01601851851851821, u'MolMR': 44.71030000000002, u'PEOE_VSA9': 0.0, u'RingCount': 1, u'Chi0v': 6.981359543650051, u'NumRotatableBonds': 2, u'MaxAbsPartialCharge': 0.4775395271554559}\n"
     ]
    }
   ],
   "source": [
    "# We will now calculate a number of chemical descriptors\n",
    "\n",
    "# As prevously we will start with aspirin SMILES:\n",
    "aspirin = utils.smiles2ctab('O=C(Oc1ccccc1C(=O)O)C')\n",
    "\n",
    "# First descriptor will e the number of heavy atoms:\n",
    "num_atoms = json.loads(utils.getNumAtoms(aspirin))[0]\n",
    "print \"num atoms = %s\" % num_atoms\n",
    "\n",
    "# Molecular weight:\n",
    "mol_wt = json.loads(utils.molWt(aspirin))[0]\n",
    "print \"mol_wt = %s\" % mol_wt\n",
    "\n",
    "# Log_p:\n",
    "log_p = json.loads(utils.logP(aspirin))[0]\n",
    "print \"log_p = %s\" % log_p\n",
    "\n",
    "# TPSA:\n",
    "tpsa = json.loads(utils.tpsa(aspirin))[0]\n",
    "print \"tpsa = %s\" % tpsa\n",
    "\n",
    "# Or we can just calculate all those descriptors (and more!) at once: \n",
    "descriptors = json.loads(utils.descriptors(aspirin))[0]\n",
    "print descriptors"
   ]
  },
  {
   "cell_type": "markdown",
   "metadata": {},
   "source": [
    "# Fingerprints"
   ]
  },
  {
   "cell_type": "code",
   "execution_count": 15,
   "metadata": {
    "collapsed": false
   },
   "outputs": [
    {
     "name": "stdout",
     "output_type": "stream",
     "text": [
      "#FPS1\n",
      "#num_bits=2048\n",
      "#software=RDKit/2015.03.1\n",
      "00000000000000000000000000000000000000000000000000000000000000000000000000000000000000000000000020000000000000000001000000000000000000000000000000000000000000000004000000008000000000000000000000000000800000000000000000000000002000000000000000000000000000020008800002000000010000000000000000000000008000000000000000000000000000000000000000000000100000000400000080000010000000000000000000000000000000000000010000000000000000000000000002004000008000000000000000000000000002000000002000000000000004008000000000000000\tBSYNRYMUTXBXSQ-UHFFFAOYSA-N\n",
      "\n"
     ]
    }
   ],
   "source": [
    "# As well as descriptor we can compute fingerprints.\n",
    "# The output will be an FPS format. You can use optional \"type\" argument to choose type of fingerprints.\n",
    "# This can be \"morgan\", \"pair\" or \"maccs\". Default is \"morgan\".\n",
    "\n",
    "aspirin = utils.smiles2ctab('O=C(Oc1ccccc1C(=O)O)C')\n",
    "fingerprints = utils.sdf2fps(aspirin)\n",
    "print fingerprints"
   ]
  },
  {
   "cell_type": "markdown",
   "metadata": {},
   "source": [
    "# Compound Images"
   ]
  },
  {
   "cell_type": "code",
   "execution_count": 16,
   "metadata": {
    "collapsed": false
   },
   "outputs": [
    {
     "name": "stdout",
     "output_type": "stream",
     "text": [
      "[{\"path\": \"M0,0L200,0L200,200L0,200Z\", \"type\": \"path\", \"fill\": \"rgb(255, 255, 255)\"}, {\"height\": 10.554066799834093, \"width\": 10.554066799834093, \"stroke\": \"rgb(255, 255, 255)\", \"y\": 67.30090812747672, \"x\": 32.7215256071902, \"type\": \"rect\", \"fill\": \"rgb(255, 255, 255)\"}, {\"font-size\": 10.554066799834093, \"text\": \"O\", \"stroke\": \"rgb(255, 0, 0)\", \"y\": 72.57794152739376, \"x\": 37.99855900710725, \"type\": \"text\"}, {\"height\": 10.554066799834093, \"width\": 10.554066799834093, \"stroke\": \"rgb(255, 255, 255)\", \"y\": 113.10291896469946, \"x\": 74.05581960245203, \"type\": \"rect\", \"fill\": \"rgb(255, 255, 255)\"}, {\"font-size\": 10.554066799834093, \"text\": \"O\", \"stroke\": \"rgb(255, 0, 0)\", \"y\": 118.3799523646165, \"x\": 79.33285300236908, \"type\": \"text\"}, {\"height\": 10.554066799834093, \"width\": 10.554066799834093, \"stroke\": \"rgb(255, 255, 255)\", \"y\": 146.00938941490907, \"x\": 181.0, \"type\": \"rect\", \"fill\": \"rgb(255, 255, 255)\"}, {\"font-size\": 10.554066799834093, \"text\": \"O\", \"stroke\": \"rgb(255, 0, 0)\", \"y\": 151.28642281482612, \"x\": 186.27703339991706, \"type\": \"text\"}, {\"height\": 10.554066799834093, \"width\": 21.108133599668186, \"stroke\": \"rgb(255, 255, 255)\", \"y\": 158.90492980192218, \"x\": 99.55901339796274, \"type\": \"rect\", \"fill\": \"rgb(255, 255, 255)\"}, {\"font-size\": 10.554066799834093, \"text\": \"HO\", \"stroke\": \"rgb(255, 0, 0)\", \"y\": 164.18196320183924, \"x\": 110.11308019779683, \"type\": \"text\"}, {\"path\": \"M36.9974015195,80.517288044L39.9304856489,94.2399588128\", \"stroke\": \"rgb(255, 0, 0)\", \"stroke-width\": 1.2, \"type\": \"path\"}, {\"path\": \"M39.9304856489,94.2399588128L42.8635697783,107.962629582\", \"stroke\": \"rgb(0, 0, 0)\", \"stroke-width\": 1.2, \"type\": \"path\"}, {\"path\": \"M42.1578737437,79.4142885306L45.0909578731,93.1369592993\", \"stroke\": \"rgb(255, 0, 0)\", \"stroke-width\": 1.2, \"type\": \"path\"}, {\"path\": \"M45.0909578731,93.1369592993L48.0240420025,106.859630068\", \"stroke\": \"rgb(0, 0, 0)\", \"stroke-width\": 1.2, \"type\": \"path\"}, {\"path\": \"M45.4438058904,107.411129825L59.7498127464,112.041535924\", \"stroke\": \"rgb(0, 0, 0)\", \"stroke-width\": 1.2, \"type\": \"path\"}, {\"path\": \"M59.7498127464,112.041535924L74.0558196025,116.671942024\", \"stroke\": \"rgb(255, 0, 0)\", \"stroke-width\": 1.2, \"type\": \"path\"}, {\"path\": \"M84.6098864023,113.617663042L95.1932719398,104.066625532\", \"stroke\": \"rgb(255, 0, 0)\", \"stroke-width\": 1.2, \"type\": \"path\"}, {\"path\": \"M95.1932719398,104.066625532L105.776657477,94.5155880224\", \"stroke\": \"rgb(0, 0, 0)\", \"stroke-width\": 1.2, \"type\": \"path\"}, {\"path\": \"M105.776657477,94.5155880224L98.3314127172,59.6824011404\", \"stroke\": \"rgb(0, 0, 0)\", \"stroke-width\": 1.2, \"type\": \"path\"}, {\"path\": \"M110.192605281,89.9292700787L104.236409473,62.0627205731\", \"stroke\": \"rgb(0, 0, 0)\", \"stroke-width\": 1.2, \"type\": \"path\"}, {\"path\": \"M98.3314127172,59.6824011404L124.775216484,35.8180367982\", \"stroke\": \"rgb(0, 0, 0)\", \"stroke-width\": 1.2, \"type\": \"path\"}, {\"path\": \"M124.775216484,35.8180367982L158.664265012,46.7868579225\", \"stroke\": \"rgb(0, 0, 0)\", \"stroke-width\": 1.2, \"type\": \"path\"}, {\"path\": \"M126.539110798,41.9355187005L153.65034962,50.7105756\", \"stroke\": \"rgb(0, 0, 0)\", \"stroke-width\": 1.2, \"type\": \"path\"}, {\"path\": \"M158.664265012,46.7868579225L166.109506233,81.62004622\", \"stroke\": \"rgb(0, 0, 0)\", \"stroke-width\": 1.2, \"type\": \"path\"}, {\"path\": \"M166.109506233,81.62004622L139.665706005,105.484410916\", \"stroke\": \"rgb(0, 0, 0)\", \"stroke-width\": 1.2, \"type\": \"path\"}, {\"path\": \"M159.929664526,80.0888823807L138.774624343,99.1803741375\", \"stroke\": \"rgb(0, 0, 0)\", \"stroke-width\": 1.2, \"type\": \"path\"}, {\"path\": \"M139.665706005,105.484410916L147.110950057,140.31759886\", \"stroke\": \"rgb(0, 0, 0)\", \"stroke-width\": 1.2, \"type\": \"path\"}, {\"path\": \"M146.298444628,142.827898703L160.6044529,147.458305472\", \"stroke\": \"rgb(0, 0, 0)\", \"stroke-width\": 1.2, \"type\": \"path\"}, {\"path\": \"M160.6044529,147.458305472L174.910461171,152.08871224\", \"stroke\": \"rgb(255, 0, 0)\", \"stroke-width\": 1.2, \"type\": \"path\"}, {\"path\": \"M147.923455486,137.807299016L162.229463757,142.437705785\", \"stroke\": \"rgb(0, 0, 0)\", \"stroke-width\": 1.2, \"type\": \"path\"}, {\"path\": \"M162.229463757,142.437705785L176.535472029,147.068112553\", \"stroke\": \"rgb(255, 0, 0)\", \"stroke-width\": 1.2, \"type\": \"path\"}, {\"path\": \"M147.110950057,140.31759886L136.527565227,149.868636242\", \"stroke\": \"rgb(0, 0, 0)\", \"stroke-width\": 1.2, \"type\": \"path\"}, {\"path\": \"M136.527565227,149.868636242L125.944180398,159.419673624\", \"stroke\": \"rgb(255, 0, 0)\", \"stroke-width\": 1.2, \"type\": \"path\"}, {\"path\": \"M45.4438058904,107.411129825L19.0,131.275494167\", \"stroke\": \"rgb(0, 0, 0)\", \"stroke-width\": 1.2, \"type\": \"path\"}, {\"path\": \"M139.665706005,105.484410916L105.776657477,94.5155880224\", \"stroke\": \"rgb(0, 0, 0)\", \"stroke-width\": 1.2, \"type\": \"path\"}]\n"
     ]
    },
    {
     "data": {
      "application/javascript": [
       "\n",
       "window.define = undefined;\n",
       "$.getScript('https://cdnjs.cloudflare.com/ajax/libs/raphael/2.1.0/raphael-min.js', function(){\n",
       "    var target = $(':focus').parent('div');\n",
       "    var paper = Raphael(target, 320, 200);\n",
       "    paper.add([{\"path\": \"M0,0L200,0L200,200L0,200Z\", \"type\": \"path\", \"fill\": \"rgb(255, 255, 255)\"}, {\"height\": 10.554066799834093, \"width\": 10.554066799834093, \"stroke\": \"rgb(255, 255, 255)\", \"y\": 67.30090812747672, \"x\": 32.7215256071902, \"type\": \"rect\", \"fill\": \"rgb(255, 255, 255)\"}, {\"font-size\": 10.554066799834093, \"text\": \"O\", \"stroke\": \"rgb(255, 0, 0)\", \"y\": 72.57794152739376, \"x\": 37.99855900710725, \"type\": \"text\"}, {\"height\": 10.554066799834093, \"width\": 10.554066799834093, \"stroke\": \"rgb(255, 255, 255)\", \"y\": 113.10291896469946, \"x\": 74.05581960245203, \"type\": \"rect\", \"fill\": \"rgb(255, 255, 255)\"}, {\"font-size\": 10.554066799834093, \"text\": \"O\", \"stroke\": \"rgb(255, 0, 0)\", \"y\": 118.3799523646165, \"x\": 79.33285300236908, \"type\": \"text\"}, {\"height\": 10.554066799834093, \"width\": 10.554066799834093, \"stroke\": \"rgb(255, 255, 255)\", \"y\": 146.00938941490907, \"x\": 181.0, \"type\": \"rect\", \"fill\": \"rgb(255, 255, 255)\"}, {\"font-size\": 10.554066799834093, \"text\": \"O\", \"stroke\": \"rgb(255, 0, 0)\", \"y\": 151.28642281482612, \"x\": 186.27703339991706, \"type\": \"text\"}, {\"height\": 10.554066799834093, \"width\": 21.108133599668186, \"stroke\": \"rgb(255, 255, 255)\", \"y\": 158.90492980192218, \"x\": 99.55901339796274, \"type\": \"rect\", \"fill\": \"rgb(255, 255, 255)\"}, {\"font-size\": 10.554066799834093, \"text\": \"HO\", \"stroke\": \"rgb(255, 0, 0)\", \"y\": 164.18196320183924, \"x\": 110.11308019779683, \"type\": \"text\"}, {\"path\": \"M36.9974015195,80.517288044L39.9304856489,94.2399588128\", \"stroke\": \"rgb(255, 0, 0)\", \"stroke-width\": 1.2, \"type\": \"path\"}, {\"path\": \"M39.9304856489,94.2399588128L42.8635697783,107.962629582\", \"stroke\": \"rgb(0, 0, 0)\", \"stroke-width\": 1.2, \"type\": \"path\"}, {\"path\": \"M42.1578737437,79.4142885306L45.0909578731,93.1369592993\", \"stroke\": \"rgb(255, 0, 0)\", \"stroke-width\": 1.2, \"type\": \"path\"}, {\"path\": \"M45.0909578731,93.1369592993L48.0240420025,106.859630068\", \"stroke\": \"rgb(0, 0, 0)\", \"stroke-width\": 1.2, \"type\": \"path\"}, {\"path\": \"M45.4438058904,107.411129825L59.7498127464,112.041535924\", \"stroke\": \"rgb(0, 0, 0)\", \"stroke-width\": 1.2, \"type\": \"path\"}, {\"path\": \"M59.7498127464,112.041535924L74.0558196025,116.671942024\", \"stroke\": \"rgb(255, 0, 0)\", \"stroke-width\": 1.2, \"type\": \"path\"}, {\"path\": \"M84.6098864023,113.617663042L95.1932719398,104.066625532\", \"stroke\": \"rgb(255, 0, 0)\", \"stroke-width\": 1.2, \"type\": \"path\"}, {\"path\": \"M95.1932719398,104.066625532L105.776657477,94.5155880224\", \"stroke\": \"rgb(0, 0, 0)\", \"stroke-width\": 1.2, \"type\": \"path\"}, {\"path\": \"M105.776657477,94.5155880224L98.3314127172,59.6824011404\", \"stroke\": \"rgb(0, 0, 0)\", \"stroke-width\": 1.2, \"type\": \"path\"}, {\"path\": \"M110.192605281,89.9292700787L104.236409473,62.0627205731\", \"stroke\": \"rgb(0, 0, 0)\", \"stroke-width\": 1.2, \"type\": \"path\"}, {\"path\": \"M98.3314127172,59.6824011404L124.775216484,35.8180367982\", \"stroke\": \"rgb(0, 0, 0)\", \"stroke-width\": 1.2, \"type\": \"path\"}, {\"path\": \"M124.775216484,35.8180367982L158.664265012,46.7868579225\", \"stroke\": \"rgb(0, 0, 0)\", \"stroke-width\": 1.2, \"type\": \"path\"}, {\"path\": \"M126.539110798,41.9355187005L153.65034962,50.7105756\", \"stroke\": \"rgb(0, 0, 0)\", \"stroke-width\": 1.2, \"type\": \"path\"}, {\"path\": \"M158.664265012,46.7868579225L166.109506233,81.62004622\", \"stroke\": \"rgb(0, 0, 0)\", \"stroke-width\": 1.2, \"type\": \"path\"}, {\"path\": \"M166.109506233,81.62004622L139.665706005,105.484410916\", \"stroke\": \"rgb(0, 0, 0)\", \"stroke-width\": 1.2, \"type\": \"path\"}, {\"path\": \"M159.929664526,80.0888823807L138.774624343,99.1803741375\", \"stroke\": \"rgb(0, 0, 0)\", \"stroke-width\": 1.2, \"type\": \"path\"}, {\"path\": \"M139.665706005,105.484410916L147.110950057,140.31759886\", \"stroke\": \"rgb(0, 0, 0)\", \"stroke-width\": 1.2, \"type\": \"path\"}, {\"path\": \"M146.298444628,142.827898703L160.6044529,147.458305472\", \"stroke\": \"rgb(0, 0, 0)\", \"stroke-width\": 1.2, \"type\": \"path\"}, {\"path\": \"M160.6044529,147.458305472L174.910461171,152.08871224\", \"stroke\": \"rgb(255, 0, 0)\", \"stroke-width\": 1.2, \"type\": \"path\"}, {\"path\": \"M147.923455486,137.807299016L162.229463757,142.437705785\", \"stroke\": \"rgb(0, 0, 0)\", \"stroke-width\": 1.2, \"type\": \"path\"}, {\"path\": \"M162.229463757,142.437705785L176.535472029,147.068112553\", \"stroke\": \"rgb(255, 0, 0)\", \"stroke-width\": 1.2, \"type\": \"path\"}, {\"path\": \"M147.110950057,140.31759886L136.527565227,149.868636242\", \"stroke\": \"rgb(0, 0, 0)\", \"stroke-width\": 1.2, \"type\": \"path\"}, {\"path\": \"M136.527565227,149.868636242L125.944180398,159.419673624\", \"stroke\": \"rgb(255, 0, 0)\", \"stroke-width\": 1.2, \"type\": \"path\"}, {\"path\": \"M45.4438058904,107.411129825L19.0,131.275494167\", \"stroke\": \"rgb(0, 0, 0)\", \"stroke-width\": 1.2, \"type\": \"path\"}, {\"path\": \"M139.665706005,105.484410916L105.776657477,94.5155880224\", \"stroke\": \"rgb(0, 0, 0)\", \"stroke-width\": 1.2, \"type\": \"path\"}]);\n",
       "    $(paper.canvas).delay( 2000 ).fadeOut( 400 );\n",
       "});\n"
      ],
      "text/plain": [
       "<IPython.core.display.Javascript object>"
      ]
     },
     "execution_count": 16,
     "metadata": {},
     "output_type": "execute_result"
    }
   ],
   "source": [
    "# In addition to compute compound images in raster format (png), Beaker supports vector formats as well.\n",
    "# We will first introduce JSON-based format. You can for example use `smiles2json` method to generate json object\n",
    "# describing the visual representation. In order to render it, you can use raphael.js library and it's \n",
    "# `paper.add` method:\n",
    "\n",
    "aspirin = 'O=C(Oc1ccccc1C(=O)O)C'\n",
    "print utils.smiles2json(aspirin)\n",
    "code = \"\"\"\n",
    "window.define = undefined;\n",
    "$.getScript('https://cdnjs.cloudflare.com/ajax/libs/raphael/2.1.0/raphael-min.js', function(){\n",
    "    var target = $(':focus').parent('div');\n",
    "    var paper = Raphael(target, 320, 200);\n",
    "    paper.add(%s);\n",
    "    $(paper.canvas).delay( 2000 ).fadeOut( 400 );\n",
    "});\n",
    "\"\"\"\n",
    "Javascript(code % utils.smiles2json(aspirin))"
   ]
  },
  {
   "cell_type": "code",
   "execution_count": 17,
   "metadata": {
    "collapsed": false
   },
   "outputs": [
    {
     "name": "stdout",
     "output_type": "stream",
     "text": [
      "<svg xmlns=\"http://www.w3.org/2000/svg\" xmlns:xlink=\"http://www.w3.org/1999/xlink\" width=\"200pt\" height=\"200pt\" viewBox=\"0 0 200 200\" version=\"1.1\">\n",
      "<g id=\"surface77\">\n",
      "<rect x=\"0\" y=\"0\" width=\"200\" height=\"200\" style=\"fill:rgb(100%,100%,100%);fill-opacity:1;stroke:none;\"/>\n",
      "<path style=\"fill:none;stroke-width:1.2;stroke-linecap:butt;stroke-linejoin:miter;stroke:rgb(0%,0%,0%);stroke-opacity:1;stroke-miterlimit:10;\" d=\"M 127 100 L 113.5 123.382812 \"/>\n",
      "<path style=\"fill:none;stroke-width:1.2;stroke-linecap:butt;stroke-linejoin:miter;stroke:rgb(0%,0%,0%);stroke-opacity:1;stroke-miterlimit:10;\" d=\"M 122.1875 100.339844 L 111.386719 119.042969 \"/>\n",
      "<path style=\"fill:none;stroke-width:1.2;stroke-linecap:butt;stroke-linejoin:miter;stroke:rgb(0%,0%,0%);stroke-opacity:1;stroke-miterlimit:10;\" d=\"M 113.5 123.382812 L 86.5 123.382812 \"/>\n",
      "<path style=\"fill:none;stroke-width:1.2;stroke-linecap:butt;stroke-linejoin:miter;stroke:rgb(0%,0%,0%);stroke-opacity:1;stroke-miterlimit:10;\" d=\"M 86.5 123.382812 L 73 100 \"/>\n",
      "<path style=\"fill:none;stroke-width:1.2;stroke-linecap:butt;stroke-linejoin:miter;stroke:rgb(0%,0%,0%);stroke-opacity:1;stroke-miterlimit:10;\" d=\"M 88.613281 119.042969 L 77.8125 100.339844 \"/>\n",
      "<path style=\"fill:none;stroke-width:1.2;stroke-linecap:butt;stroke-linejoin:miter;stroke:rgb(0%,0%,0%);stroke-opacity:1;stroke-miterlimit:10;\" d=\"M 73 100 L 86.5 76.617188 \"/>\n",
      "<path style=\"fill:none;stroke-width:1.2;stroke-linecap:butt;stroke-linejoin:miter;stroke:rgb(0%,0%,0%);stroke-opacity:1;stroke-miterlimit:10;\" d=\"M 86.5 76.617188 L 113.5 76.617188 \"/>\n",
      "<path style=\"fill:none;stroke-width:1.2;stroke-linecap:butt;stroke-linejoin:miter;stroke:rgb(0%,0%,0%);stroke-opacity:1;stroke-miterlimit:10;\" d=\"M 89.199219 80.617188 L 110.800781 80.617188 \"/>\n",
      "<path style=\"fill:none;stroke-width:1.2;stroke-linecap:butt;stroke-linejoin:miter;stroke:rgb(0%,0%,0%);stroke-opacity:1;stroke-miterlimit:10;\" d=\"M 113.5 76.617188 L 127 100 \"/>\n",
      "</g>\n",
      "</svg>\n",
      "\n"
     ]
    },
    {
     "data": {
      "image/svg+xml": [
       "<svg height=\"200pt\" version=\"1.1\" viewBox=\"0 0 200 200\" width=\"200pt\" xmlns=\"http://www.w3.org/2000/svg\" xmlns:xlink=\"http://www.w3.org/1999/xlink\">\n",
       "<g id=\"surface77\">\n",
       "<rect height=\"200\" style=\"fill:rgb(100%,100%,100%);fill-opacity:1;stroke:none;\" width=\"200\" x=\"0\" y=\"0\"/>\n",
       "<path d=\"M 127 100 L 113.5 123.382812 \" style=\"fill:none;stroke-width:1.2;stroke-linecap:butt;stroke-linejoin:miter;stroke:rgb(0%,0%,0%);stroke-opacity:1;stroke-miterlimit:10;\"/>\n",
       "<path d=\"M 122.1875 100.339844 L 111.386719 119.042969 \" style=\"fill:none;stroke-width:1.2;stroke-linecap:butt;stroke-linejoin:miter;stroke:rgb(0%,0%,0%);stroke-opacity:1;stroke-miterlimit:10;\"/>\n",
       "<path d=\"M 113.5 123.382812 L 86.5 123.382812 \" style=\"fill:none;stroke-width:1.2;stroke-linecap:butt;stroke-linejoin:miter;stroke:rgb(0%,0%,0%);stroke-opacity:1;stroke-miterlimit:10;\"/>\n",
       "<path d=\"M 86.5 123.382812 L 73 100 \" style=\"fill:none;stroke-width:1.2;stroke-linecap:butt;stroke-linejoin:miter;stroke:rgb(0%,0%,0%);stroke-opacity:1;stroke-miterlimit:10;\"/>\n",
       "<path d=\"M 88.613281 119.042969 L 77.8125 100.339844 \" style=\"fill:none;stroke-width:1.2;stroke-linecap:butt;stroke-linejoin:miter;stroke:rgb(0%,0%,0%);stroke-opacity:1;stroke-miterlimit:10;\"/>\n",
       "<path d=\"M 73 100 L 86.5 76.617188 \" style=\"fill:none;stroke-width:1.2;stroke-linecap:butt;stroke-linejoin:miter;stroke:rgb(0%,0%,0%);stroke-opacity:1;stroke-miterlimit:10;\"/>\n",
       "<path d=\"M 86.5 76.617188 L 113.5 76.617188 \" style=\"fill:none;stroke-width:1.2;stroke-linecap:butt;stroke-linejoin:miter;stroke:rgb(0%,0%,0%);stroke-opacity:1;stroke-miterlimit:10;\"/>\n",
       "<path d=\"M 89.199219 80.617188 L 110.800781 80.617188 \" style=\"fill:none;stroke-width:1.2;stroke-linecap:butt;stroke-linejoin:miter;stroke:rgb(0%,0%,0%);stroke-opacity:1;stroke-miterlimit:10;\"/>\n",
       "<path d=\"M 113.5 76.617188 L 127 100 \" style=\"fill:none;stroke-width:1.2;stroke-linecap:butt;stroke-linejoin:miter;stroke:rgb(0%,0%,0%);stroke-opacity:1;stroke-miterlimit:10;\"/>\n",
       "</g>\n",
       "</svg>"
      ],
      "text/plain": [
       "<IPython.core.display.SVG object>"
      ]
     },
     "execution_count": 17,
     "metadata": {},
     "output_type": "execute_result"
    }
   ],
   "source": [
    "\n",
    "# Most popular vector graphics format is XML-based SVG, this is how we can render compound as a SVG image:\n",
    "benzene = 'c1ccccc1'\n",
    "svg = utils.smiles2svg(benzene)\n",
    "\n",
    "# pretty-printing SVG input, just to prove this is a vector graphic:\n",
    "root = etree.fromstring(svg).getroottree()\n",
    "print etree.tostring(root, pretty_print=True)\n",
    "\n",
    "# And finally displaying it:\n",
    "SVG(svg)"
   ]
  },
  {
   "cell_type": "code",
   "execution_count": 18,
   "metadata": {
    "collapsed": false
   },
   "outputs": [
    {
     "data": {
      "image/png": "[encoded data removed]",
      "text/plain": [
       "<IPython.core.display.Image object>"
      ]
     },
     "execution_count": 18,
     "metadata": {},
     "output_type": "execute_result"
    }
   ],
   "source": [
    "# And finally our old friends - raster images:\n",
    "aspirin = 'O=C(Oc1ccccc1C(=O)O)C'\n",
    "img = utils.smiles2image(aspirin)\n",
    "Image(img)"
   ]
  },
  {
   "cell_type": "markdown",
   "metadata": {},
   "source": [
    "# Maximum Common Substructure"
   ]
  },
  {
   "cell_type": "code",
   "execution_count": 19,
   "metadata": {
    "collapsed": false
   },
   "outputs": [
    {
     "name": "stdout",
     "output_type": "stream",
     "text": [
      "[#6]:1(:[#6]:[#6](:[#6](:[#6]:[#6]:1)-[#8])-[#8]-[#6])-[#6]\n"
     ]
    }
   ],
   "source": [
    "# This is how to find a maximum common substructure (MCS) of three molecules:\n",
    "smiles = [\"O=C(NCc1cc(OC)c(O)cc1)CCCC/C=C/C(C)C\", \"CC(C)CCCCCC(=O)NCC1=CC(=C(C=C1)O)OC\", \"c1(C=O)cc(OC)c(O)cc1\"]\n",
    "\n",
    "# converting out molecules SMILES to molfiles:\n",
    "mols = [utils.smiles2ctab(smile) for smile in smiles]\n",
    "\n",
    "# joining molfiles to create a SDF file:\n",
    "sdf = ''.join(mols)\n",
    "\n",
    "# and finally computing MCS\n",
    "result = utils.mcs(sdf)\n",
    "\n",
    "# and displaying results:\n",
    "print result"
   ]
  },
  {
   "cell_type": "markdown",
   "metadata": {},
   "source": [
    "# Compouting 3D coordinates"
   ]
  },
  {
   "cell_type": "code",
   "execution_count": 20,
   "metadata": {
    "collapsed": false
   },
   "outputs": [
    {
     "name": "stdout",
     "output_type": "stream",
     "text": [
      "\n",
      "     RDKit          3D\n",
      "\n",
      " 21 21  0  0  0  0  0  0  0  0999 V2000\n",
      "    2.4376    0.6881   -1.4041 O   0  0  0  0  0  0  0  0  0  0  0  0\n",
      "    2.3845   -0.1969   -0.5077 C   0  0  0  0  0  0  0  0  0  0  0  0\n",
      "    1.1672   -0.5490    0.0891 O   0  0  0  0  0  0  0  0  0  0  0  0\n",
      "   -0.0101    0.2162    0.0456 C   0  0  0  0  0  0  0  0  0  0  0  0\n",
      "    0.0378    1.6234    0.0045 C   0  0  0  0  0  0  0  0  0  0  0  0\n",
      "   -1.1394    2.3726   -0.0087 C   0  0  0  0  0  0  0  0  0  0  0  0\n",
      "   -2.3762    1.7311    0.0254 C   0  0  0  0  0  0  0  0  0  0  0  0\n",
      "   -2.4414    0.3379    0.0831 C   0  0  0  0  0  0  0  0  0  0  0  0\n",
      "   -1.2652   -0.4345    0.1029 C   0  0  0  0  0  0  0  0  0  0  0  0\n",
      "   -1.3587   -1.9150    0.1530 C   0  0  0  0  0  0  0  0  0  0  0  0\n",
      "   -0.4684   -2.6234   -0.3874 O   0  0  0  0  0  0  0  0  0  0  0  0\n",
      "   -2.4224   -2.5526    0.7899 O   0  0  0  0  0  0  0  0  0  0  0  0\n",
      "    3.6147   -0.9634   -0.1596 C   0  0  0  0  0  0  0  0  0  0  0  0\n",
      "    0.9839    2.1470    0.0163 H   0  0  0  0  0  0  0  0  0  0  0  0\n",
      "   -1.0923    3.4536   -0.0391 H   0  0  0  0  0  0  0  0  0  0  0  0\n",
      "   -3.2876    2.3148    0.0083 H   0  0  0  0  0  0  0  0  0  0  0  0\n",
      "   -3.4158   -0.1328    0.0875 H   0  0  0  0  0  0  0  0  0  0  0  0\n",
      "   -3.1218   -2.0424    1.3144 H   0  0  0  0  0  0  0  0  0  0  0  0\n",
      "    4.5068   -0.3053   -0.2249 H   0  0  0  0  0  0  0  0  0  0  0  0\n",
      "    3.7327   -1.8128   -0.8640 H   0  0  0  0  0  0  0  0  0  0  0  0\n",
      "    3.5345   -1.3564    0.8755 H   0  0  0  0  0  0  0  0  0  0  0  0\n",
      "  1  2  2  0\n",
      "  2  3  1  0\n",
      "  3  4  1  0\n",
      "  4  5  2  0\n",
      "  5  6  1  0\n",
      "  6  7  2  0\n",
      "  7  8  1  0\n",
      "  8  9  2  0\n",
      "  9 10  1  0\n",
      " 10 11  2  0\n",
      " 10 12  1  0\n",
      "  2 13  1  0\n",
      "  9  4  1  0\n",
      "  5 14  1  0\n",
      "  6 15  1  0\n",
      "  7 16  1  0\n",
      "  8 17  1  0\n",
      " 12 18  1  0\n",
      " 13 19  1  0\n",
      " 13 20  1  0\n",
      " 13 21  1  0\n",
      "M  END\n",
      "$$$$\n",
      "\n"
     ]
    }
   ],
   "source": [
    "# It's very easy to compute a molfile with 3D coordinates:\n",
    "aspirin = 'O=C(Oc1ccccc1C(=O)O)C'\n",
    "mol_3D = utils.smiles23D(aspirin)\n",
    "print mol_3D"
   ]
  },
  {
   "cell_type": "markdown",
   "metadata": {},
   "source": [
    "# Optical Structure Recognition - convering image to structure"
   ]
  },
  {
   "cell_type": "markdown",
   "metadata": {},
   "source": [
    "[OSRA](http://cactus.nci.nih.gov/osra/) is an open source tool performing Optical Structure Recognition - it can be used to convert an image, containing one or more compounds to it's structures in *smi or *mol format. Beaker uses OSRA to implement \"image2ctab\" method."
   ]
  },
  {
   "cell_type": "code",
   "execution_count": 27,
   "metadata": {
    "collapsed": false
   },
   "outputs": [
    {
     "data": {
      "text/plain": [
       "True"
      ]
     },
     "execution_count": 27,
     "metadata": {},
     "output_type": "execute_result"
    }
   ],
   "source": [
    "# Traditionally, let's start with aspirin SMILES:\n",
    "aspirin = 'CC(C)Oc1ccccc1C(=O)O'\n",
    "\n",
    "# Let's convert it to image:\n",
    "im = utils.smiles2image(aspirin)\n",
    "\n",
    "# And use OSRA to convert image to molfile:\n",
    "mol = utils.image2ctab(im)\n",
    "\n",
    "# We can now convert molfile to SMILES:\n",
    "smiles = utils.ctab2smiles(mol).split()[2]\n",
    "\n",
    "# And check if we get the same SMILES string:\n",
    "smiles == aspirin"
   ]
  },
  {
   "cell_type": "markdown",
   "metadata": {},
   "source": [
    "# Kekulisation"
   ]
  },
  {
   "cell_type": "code",
   "execution_count": 22,
   "metadata": {
    "collapsed": false
   },
   "outputs": [
    {
     "data": {
      "image/png": "[encoded data removed]",
      "text/plain": [
       "<IPython.core.display.Image object>"
      ]
     },
     "execution_count": 22,
     "metadata": {},
     "output_type": "execute_result"
    }
   ],
   "source": [
    "# Last piece of Beaker functionality is kekulisation:\n",
    "\n",
    "# This time we will start with molfile:\n",
    "aromatic='''\n",
    "  Mrv0541 08191414212D\n",
    "\n",
    "  6  6  0  0  0  0            999 V2000\n",
    "   -1.7679    1.5616    0.0000 C   0  0  0  0  0  0  0  0  0  0  0  0\n",
    "   -2.4823    1.1491    0.0000 C   0  0  0  0  0  0  0  0  0  0  0  0\n",
    "   -2.4823    0.3241    0.0000 C   0  0  0  0  0  0  0  0  0  0  0  0\n",
    "   -1.7679   -0.0884    0.0000 C   0  0  0  0  0  0  0  0  0  0  0  0\n",
    "   -1.0534    0.3241    0.0000 C   0  0  0  0  0  0  0  0  0  0  0  0\n",
    "   -1.0534    1.1491    0.0000 C   0  0  0  0  0  0  0  0  0  0  0  0\n",
    "  1  2  4  0  0  0  0\n",
    "  1  6  4  0  0  0  0\n",
    "  2  3  4  0  0  0  0\n",
    "  3  4  4  0  0  0  0\n",
    "  4  5  4  0  0  0  0\n",
    "  5  6  4  0  0  0  0\n",
    "M  END\n",
    "\n",
    "'''\n",
    "\n",
    "# Kekulising is trivial:\n",
    "kek = utils.kekulize(aromatic)\n",
    "\n",
    "# Rendering the result\n",
    "Image(utils.ctab2image(kek))"
   ]
  },
  {
   "cell_type": "code",
   "execution_count": null,
   "metadata": {
    "collapsed": true
   },
   "outputs": [],
   "source": []
  }
 ],
 "metadata": {
  "kernelspec": {
   "display_name": "Python 2",
   "language": "python",
   "name": "python2"
  },
  "language_info": {
   "codemirror_mode": {
    "name": "ipython",
    "version": 2
   },
   "file_extension": ".py",
   "mimetype": "text/x-python",
   "name": "python",
   "nbconvert_exporter": "python",
   "pygments_lexer": "ipython2",
   "version": "2.7.5"
  }
 },
 "nbformat": 4,
 "nbformat_minor": 0
}
