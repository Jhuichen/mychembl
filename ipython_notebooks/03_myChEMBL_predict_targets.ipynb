{
 "metadata": {
  "name": "",
  "signature": "sha256:52996ae1103e81a332aee774f555e4bf6e84600f12f81ab4a8d20092dc3c50f3"
 },
 "nbformat": 3,
 "nbformat_minor": 0,
 "worksheets": [
  {
   "cells": [
    {
     "cell_type": "heading",
     "level": 1,
     "metadata": {},
     "source": [
      "Ligand-based Target Prediction Tutorial"
     ]
    },
    {
     "cell_type": "heading",
     "level": 3,
     "metadata": {},
     "source": [
      "myChEMBL team, ChEMBL Group, EMBL-EBI."
     ]
    },
    {
     "cell_type": "markdown",
     "metadata": {},
     "source": [
      "This is a short tutorial on getting target predictions based on the current multi-category Naive Bayesian [ChEMBL_18 models](http://chembl.blogspot.co.uk/2014/04/ligand-based-target-predictions-in.html) for a single molecule input. The predictions are ranked by the output classifier probability or score."
     ]
    },
    {
     "cell_type": "markdown",
     "metadata": {},
     "source": [
      "This is the outline of the tutorial\n",
      "* Input a molecule to get target predictions for it\n",
      "* Assess the predictions\n",
      "* Retrieve individual feature contributions for a prediction"
     ]
    },
    {
     "cell_type": "markdown",
     "metadata": {},
     "source": [
      "The two models are under ~/models"
     ]
    },
    {
     "cell_type": "markdown",
     "metadata": {},
     "source": [
      "First of all, import the necessary modules:"
     ]
    },
    {
     "cell_type": "code",
     "collapsed": false,
     "input": [
      "from rdkit.Chem import AllChem as Chem\n",
      "from rdkit.Chem.Draw import IPythonConsole\n",
      "from rdkit.Chem import PandasTools\n",
      "from rdkit.Chem import Draw\n",
      "\n",
      "import pandas as pd\n",
      "from pandas import concat\n",
      "\n",
      "from collections import OrderedDict\n",
      "\n",
      "import requests"
     ],
     "language": "python",
     "metadata": {},
     "outputs": [],
     "prompt_number": 1
    },
    {
     "cell_type": "code",
     "collapsed": false,
     "input": [
      "from sklearn.externals import joblib"
     ],
     "language": "python",
     "metadata": {},
     "outputs": [],
     "prompt_number": 2
    },
    {
     "cell_type": "code",
     "collapsed": false,
     "input": [
      "rcParams['figure.figsize'] = 10,10"
     ],
     "language": "python",
     "metadata": {},
     "outputs": [],
     "prompt_number": 3
    },
    {
     "cell_type": "markdown",
     "metadata": {},
     "source": [
      "A couple of utility functions:"
     ]
    },
    {
     "cell_type": "code",
     "collapsed": false,
     "input": [
      "def calc_scores(classes):\n",
      "    p = []\n",
      "    for c in classes:\n",
      "        p.append(pred_score(c))\n",
      "    return p"
     ],
     "language": "python",
     "metadata": {},
     "outputs": [],
     "prompt_number": 4
    },
    {
     "cell_type": "code",
     "collapsed": false,
     "input": [
      "def pred_score(trgt):\n",
      "    diff = morgan_nb.estimators_[classes.index(trgt)].feature_log_prob_[1] - morgan_nb.estimators_[classes.index(trgt)].feature_log_prob_[0]\n",
      "    return sum(diff*fp)"
     ],
     "language": "python",
     "metadata": {},
     "outputs": [],
     "prompt_number": 5
    },
    {
     "cell_type": "markdown",
     "metadata": {},
     "source": [
      "Load one of the two models:"
     ]
    },
    {
     "cell_type": "code",
     "collapsed": false,
     "input": [
      "morgan_nb = joblib.load('./models/10uM/mNB_10uM_all.pkl')"
     ],
     "language": "python",
     "metadata": {},
     "outputs": [],
     "prompt_number": 6
    },
    {
     "cell_type": "code",
     "collapsed": false,
     "input": [
      "classes = list(morgan_nb.classes_)"
     ],
     "language": "python",
     "metadata": {},
     "outputs": [],
     "prompt_number": 7
    },
    {
     "cell_type": "code",
     "collapsed": false,
     "input": [
      "morgan_nb.multilabel_"
     ],
     "language": "python",
     "metadata": {},
     "outputs": [
      {
       "metadata": {},
       "output_type": "pyout",
       "prompt_number": 8,
       "text": [
        "True"
       ]
      }
     ],
     "prompt_number": 8
    },
    {
     "cell_type": "markdown",
     "metadata": {},
     "source": [
      "Check the number of classses/targets:"
     ]
    },
    {
     "cell_type": "code",
     "collapsed": false,
     "input": [
      "len(classes)"
     ],
     "language": "python",
     "metadata": {},
     "outputs": [
      {
       "metadata": {},
       "output_type": "pyout",
       "prompt_number": 9,
       "text": [
        "1244"
       ]
      }
     ],
     "prompt_number": 9
    },
    {
     "cell_type": "heading",
     "level": 3,
     "metadata": {},
     "source": [
      "Get predictions for a compound"
     ]
    },
    {
     "cell_type": "markdown",
     "metadata": {},
     "source": [
      "Let's use a molecule (GS-5759) found in [this](http://www.ncbi.nlm.nih.gov/pubmed/24513870) publication. It is a novel compound (not in ChEMBL) reported to have dual activity against PDE4 and beta-2 adrenergic receptor. "
     ]
    },
    {
     "cell_type": "code",
     "collapsed": false,
     "input": [
      "smiles = 'O[C@@H](CNCCCC#CC1=CC=C(C=C1)NC(=O)C=1C=C(C=CC1)S(=O)(=O)C=1C=C2C(=C(C=NC2=C(C1)C)C(=O)N)NC1=CC(=CC=C1)OC)C1=C2C=CC(NC2=C(C=C1)O)=O'"
     ],
     "language": "python",
     "metadata": {},
     "outputs": [],
     "prompt_number": 10
    },
    {
     "cell_type": "code",
     "collapsed": false,
     "input": [
      "mol = Chem.MolFromSmiles(smiles)"
     ],
     "language": "python",
     "metadata": {},
     "outputs": [],
     "prompt_number": 11
    },
    {
     "cell_type": "code",
     "collapsed": false,
     "input": [
      "mol"
     ],
     "language": "python",
     "metadata": {},
     "outputs": [
      {
       "metadata": {},
       "output_type": "pyout",
       "png": "[encoded data removed]",
       "prompt_number": 12,
       "text": [
        "<rdkit.Chem.rdchem.Mol at 0x41df750>"
       ]
      }
     ],
     "prompt_number": 12
    },
    {
     "cell_type": "markdown",
     "metadata": {},
     "source": [
      "Convert to the Morgan fingerprint and save the bit dictionary for later..."
     ]
    },
    {
     "cell_type": "code",
     "collapsed": false,
     "input": [
      "info={}\n",
      "fp = Chem.GetMorganFingerprintAsBitVect(mol,2,nBits=2048, bitInfo=info)"
     ],
     "language": "python",
     "metadata": {},
     "outputs": [],
     "prompt_number": 13
    },
    {
     "cell_type": "markdown",
     "metadata": {},
     "source": [
      "Get the predictions in a Pandas frame"
     ]
    },
    {
     "cell_type": "code",
     "collapsed": false,
     "input": [
      "predictions = pd.DataFrame(zip(classes, calc_scores(classes),list(morgan_nb.predict_proba(fp)[0])),columns=['id','score','proba'])"
     ],
     "language": "python",
     "metadata": {},
     "outputs": [],
     "prompt_number": 14
    },
    {
     "cell_type": "code",
     "collapsed": false,
     "input": [
      "predictions.head()"
     ],
     "language": "python",
     "metadata": {},
     "outputs": [
      {
       "html": [
        "<div style=\"max-height:1000px;max-width:1500px;overflow:auto;\">\n",
        "<table border=\"1\" class=\"dataframe\">\n",
        "  <thead>\n",
        "    <tr style=\"text-align: right;\">\n",
        "      <th></th>\n",
        "      <th>id</th>\n",
        "      <th>score</th>\n",
        "      <th>proba</th>\n",
        "    </tr>\n",
        "  </thead>\n",
        "  <tbody>\n",
        "    <tr>\n",
        "      <th>0</th>\n",
        "      <td> CHEMBL1075051</td>\n",
        "      <td>-49.683154</td>\n",
        "      <td> 5.836404e-26</td>\n",
        "    </tr>\n",
        "    <tr>\n",
        "      <th>1</th>\n",
        "      <td> CHEMBL1075104</td>\n",
        "      <td>-22.709670</td>\n",
        "      <td> 1.221899e-13</td>\n",
        "    </tr>\n",
        "    <tr>\n",
        "      <th>2</th>\n",
        "      <td> CHEMBL1075108</td>\n",
        "      <td>-76.563053</td>\n",
        "      <td> 6.262378e-38</td>\n",
        "    </tr>\n",
        "    <tr>\n",
        "      <th>3</th>\n",
        "      <td> CHEMBL1075111</td>\n",
        "      <td>-81.947712</td>\n",
        "      <td> 2.656745e-40</td>\n",
        "    </tr>\n",
        "    <tr>\n",
        "      <th>4</th>\n",
        "      <td> CHEMBL1075115</td>\n",
        "      <td>-13.045515</td>\n",
        "      <td> 5.122346e-10</td>\n",
        "    </tr>\n",
        "  </tbody>\n",
        "</table>\n",
        "<p>5 rows \u00d7 3 columns</p>\n",
        "</div>"
       ],
       "metadata": {},
       "output_type": "pyout",
       "prompt_number": 15,
       "text": [
        "              id      score         proba\n",
        "0  CHEMBL1075051 -49.683154  5.836404e-26\n",
        "1  CHEMBL1075104 -22.709670  1.221899e-13\n",
        "2  CHEMBL1075108 -76.563053  6.262378e-38\n",
        "3  CHEMBL1075111 -81.947712  2.656745e-40\n",
        "4  CHEMBL1075115 -13.045515  5.122346e-10\n",
        "\n",
        "[5 rows x 3 columns]"
       ]
      }
     ],
     "prompt_number": 15
    },
    {
     "cell_type": "markdown",
     "metadata": {},
     "source": [
      "Let's check the distributions of prediction probability and score for the 1244 targets."
     ]
    },
    {
     "cell_type": "code",
     "collapsed": false,
     "input": [
      "predictions['proba'].hist()"
     ],
     "language": "python",
     "metadata": {},
     "outputs": [
      {
       "metadata": {},
       "output_type": "pyout",
       "prompt_number": 16,
       "text": [
        "<matplotlib.axes.AxesSubplot at 0x4319e90>"
       ]
      },
      {
       "metadata": {},
       "output_type": "display_data",
       "png": "[encoded data removed]",
       "text": [
        "<matplotlib.figure.Figure at 0x4319c10>"
       ]
      }
     ],
     "prompt_number": 16
    },
    {
     "cell_type": "code",
     "collapsed": false,
     "input": [
      "predictions['score'].hist()"
     ],
     "language": "python",
     "metadata": {},
     "outputs": [
      {
       "metadata": {},
       "output_type": "pyout",
       "prompt_number": 17,
       "text": [
        "<matplotlib.axes.AxesSubplot at 0x50a03d0>"
       ]
      },
      {
       "metadata": {},
       "output_type": "display_data",
       "png": "[encoded data removed]",
       "text": [
        "<matplotlib.figure.Figure at 0x73ac210>"
       ]
      }
     ],
     "prompt_number": 17
    },
    {
     "cell_type": "markdown",
     "metadata": {},
     "source": [
      "Sort by probability and take top 10."
     ]
    },
    {
     "cell_type": "code",
     "collapsed": false,
     "input": [
      "top_preds = predictions.sort(columns=['proba'],ascending=False).head(10)"
     ],
     "language": "python",
     "metadata": {},
     "outputs": [],
     "prompt_number": 18
    },
    {
     "cell_type": "code",
     "collapsed": false,
     "input": [
      "top_preds"
     ],
     "language": "python",
     "metadata": {},
     "outputs": [
      {
       "html": [
        "<div style=\"max-height:1000px;max-width:1500px;overflow:auto;\">\n",
        "<table border=\"1\" class=\"dataframe\">\n",
        "  <thead>\n",
        "    <tr style=\"text-align: right;\">\n",
        "      <th></th>\n",
        "      <th>id</th>\n",
        "      <th>score</th>\n",
        "      <th>proba</th>\n",
        "    </tr>\n",
        "  </thead>\n",
        "  <tbody>\n",
        "    <tr>\n",
        "      <th>1124</th>\n",
        "      <td>    CHEMBL5414</td>\n",
        "      <td> 18.159497</td>\n",
        "      <td> 0.999977</td>\n",
        "    </tr>\n",
        "    <tr>\n",
        "      <th>568 </th>\n",
        "      <td>    CHEMBL3252</td>\n",
        "      <td> 10.654329</td>\n",
        "      <td> 0.874618</td>\n",
        "    </tr>\n",
        "    <tr>\n",
        "      <th>409 </th>\n",
        "      <td>     CHEMBL275</td>\n",
        "      <td>  7.960013</td>\n",
        "      <td> 0.843829</td>\n",
        "    </tr>\n",
        "    <tr>\n",
        "      <th>210 </th>\n",
        "      <td>     CHEMBL210</td>\n",
        "      <td>  6.068692</td>\n",
        "      <td> 0.558651</td>\n",
        "    </tr>\n",
        "    <tr>\n",
        "      <th>216 </th>\n",
        "      <td>     CHEMBL213</td>\n",
        "      <td> -1.089044</td>\n",
        "      <td> 0.000909</td>\n",
        "    </tr>\n",
        "    <tr>\n",
        "      <th>616 </th>\n",
        "      <td>    CHEMBL3397</td>\n",
        "      <td> -4.842163</td>\n",
        "      <td> 0.000119</td>\n",
        "    </tr>\n",
        "    <tr>\n",
        "      <th>85  </th>\n",
        "      <td>    CHEMBL1844</td>\n",
        "      <td> -4.558361</td>\n",
        "      <td> 0.000024</td>\n",
        "    </tr>\n",
        "    <tr>\n",
        "      <th>746 </th>\n",
        "      <td>    CHEMBL3864</td>\n",
        "      <td> -3.178081</td>\n",
        "      <td> 0.000024</td>\n",
        "    </tr>\n",
        "    <tr>\n",
        "      <th>28  </th>\n",
        "      <td> CHEMBL1293224</td>\n",
        "      <td> -8.120585</td>\n",
        "      <td> 0.000020</td>\n",
        "    </tr>\n",
        "    <tr>\n",
        "      <th>618 </th>\n",
        "      <td>     CHEMBL340</td>\n",
        "      <td> -7.057586</td>\n",
        "      <td> 0.000017</td>\n",
        "    </tr>\n",
        "  </tbody>\n",
        "</table>\n",
        "<p>10 rows \u00d7 3 columns</p>\n",
        "</div>"
       ],
       "metadata": {},
       "output_type": "pyout",
       "prompt_number": 19,
       "text": [
        "                 id      score     proba\n",
        "1124     CHEMBL5414  18.159497  0.999977\n",
        "568      CHEMBL3252  10.654329  0.874618\n",
        "409       CHEMBL275   7.960013  0.843829\n",
        "210       CHEMBL210   6.068692  0.558651\n",
        "216       CHEMBL213  -1.089044  0.000909\n",
        "616      CHEMBL3397  -4.842163  0.000119\n",
        "85       CHEMBL1844  -4.558361  0.000024\n",
        "746      CHEMBL3864  -3.178081  0.000024\n",
        "28    CHEMBL1293224  -8.120585  0.000020\n",
        "618       CHEMBL340  -7.057586  0.000017\n",
        "\n",
        "[10 rows x 3 columns]"
       ]
      }
     ],
     "prompt_number": 19
    },
    {
     "cell_type": "markdown",
     "metadata": {},
     "source": [
      "Use ChEMBL WS to merge with target information"
     ]
    },
    {
     "cell_type": "code",
     "collapsed": false,
     "input": [
      "def fetch_WS(trgt):\n",
      "    re = requests.get('https://www.ebi.ac.uk/chemblws/targets/{0}.json'.format(trgt))\n",
      "    return re.json()['target']"
     ],
     "language": "python",
     "metadata": {},
     "outputs": [],
     "prompt_number": 20
    },
    {
     "cell_type": "code",
     "collapsed": false,
     "input": [
      "plist = []\n",
      "for i,e in enumerate(top_preds['id']):\n",
      "    p = pd.DataFrame(fetch_WS(e), index=(i,))\n",
      "    plist.append(p)\n",
      "target_info = concat(plist)"
     ],
     "language": "python",
     "metadata": {},
     "outputs": [],
     "prompt_number": 21
    },
    {
     "cell_type": "code",
     "collapsed": false,
     "input": [
      "target_info.shape"
     ],
     "language": "python",
     "metadata": {},
     "outputs": [
      {
       "metadata": {},
       "output_type": "pyout",
       "prompt_number": 22,
       "text": [
        "(10, 10)"
       ]
      }
     ],
     "prompt_number": 22
    },
    {
     "cell_type": "code",
     "collapsed": false,
     "input": [
      "target_info"
     ],
     "language": "python",
     "metadata": {},
     "outputs": [
      {
       "html": [
        "<div style=\"max-height:1000px;max-width:1500px;overflow:auto;\">\n",
        "<table border=\"1\" class=\"dataframe\">\n",
        "  <thead>\n",
        "    <tr style=\"text-align: right;\">\n",
        "      <th></th>\n",
        "      <th>bioactivityCount</th>\n",
        "      <th>chemblId</th>\n",
        "      <th>compoundCount</th>\n",
        "      <th>description</th>\n",
        "      <th>geneNames</th>\n",
        "      <th>organism</th>\n",
        "      <th>preferredName</th>\n",
        "      <th>proteinAccession</th>\n",
        "      <th>synonyms</th>\n",
        "      <th>targetType</th>\n",
        "    </tr>\n",
        "  </thead>\n",
        "  <tbody>\n",
        "    <tr>\n",
        "      <th>0</th>\n",
        "      <td>  1038</td>\n",
        "      <td>    CHEMBL5414</td>\n",
        "      <td>   567</td>\n",
        "      <td>                      Beta-2 adrenergic receptor</td>\n",
        "      <td> Unspecified</td>\n",
        "      <td>   Cavia porcellus</td>\n",
        "      <td>                      Beta-2 adrenergic receptor</td>\n",
        "      <td> Q8K4Z4</td>\n",
        "      <td>                                                                                                                                                                                                                                                                                            Adrb2,Beta-2 adrenoreceptor,Beta-2 adrenoceptor,Beta-2 adrenergic receptor</td>\n",
        "      <td> SINGLE PROTEIN</td>\n",
        "    </tr>\n",
        "    <tr>\n",
        "      <th>1</th>\n",
        "      <td>   421</td>\n",
        "      <td>    CHEMBL3252</td>\n",
        "      <td>   298</td>\n",
        "      <td>                      Beta-1 adrenergic receptor</td>\n",
        "      <td> Unspecified</td>\n",
        "      <td> Rattus norvegicus</td>\n",
        "      <td>                      Beta-1 adrenergic receptor</td>\n",
        "      <td> P18090</td>\n",
        "      <td>                                                                                                                                                                                                                                                                                     Beta-1 adrenoceptor,Adrb1r,Beta-1 adrenergic receptor,Adrb1,Beta-1 adrenoreceptor</td>\n",
        "      <td> SINGLE PROTEIN</td>\n",
        "    </tr>\n",
        "    <tr>\n",
        "      <th>2</th>\n",
        "      <td>  1127</td>\n",
        "      <td>     CHEMBL275</td>\n",
        "      <td>   997</td>\n",
        "      <td>                            Phosphodiesterase 4B</td>\n",
        "      <td> Unspecified</td>\n",
        "      <td>      Homo sapiens</td>\n",
        "      <td>                            Phosphodiesterase 4B</td>\n",
        "      <td> Q07343</td>\n",
        "      <td>                                                                                                                                                                                                                                                                                            3.1.4.53,cAMP-specific 3',5'-cyclic phosphodiesterase 4B,DPDE4,PDE32,PDE4B</td>\n",
        "      <td> SINGLE PROTEIN</td>\n",
        "    </tr>\n",
        "    <tr>\n",
        "      <th>3</th>\n",
        "      <td>  6595</td>\n",
        "      <td>     CHEMBL210</td>\n",
        "      <td>  4320</td>\n",
        "      <td>                      Beta-2 adrenergic receptor</td>\n",
        "      <td> Unspecified</td>\n",
        "      <td>      Homo sapiens</td>\n",
        "      <td>                      Beta-2 adrenergic receptor</td>\n",
        "      <td> P07550</td>\n",
        "      <td>                                                                                                                                                                                                                                                                               Beta-2 adrenergic receptor,ADRB2,Beta-2 adrenoreceptor,Beta-2 adrenoceptor,ADRB2R ,B2AR</td>\n",
        "      <td> SINGLE PROTEIN</td>\n",
        "    </tr>\n",
        "    <tr>\n",
        "      <th>4</th>\n",
        "      <td>  4380</td>\n",
        "      <td>     CHEMBL213</td>\n",
        "      <td>  2716</td>\n",
        "      <td>                      Beta-1 adrenergic receptor</td>\n",
        "      <td> Unspecified</td>\n",
        "      <td>      Homo sapiens</td>\n",
        "      <td>                      Beta-1 adrenergic receptor</td>\n",
        "      <td> P08588</td>\n",
        "      <td>                                                                                                                                                                                                                                                                               ADRB1,ADRB1R ,B1AR,Beta-1 adrenergic receptor,Beta-1 adrenoreceptor,Beta-1 adrenoceptor</td>\n",
        "      <td> SINGLE PROTEIN</td>\n",
        "    </tr>\n",
        "    <tr>\n",
        "      <th>5</th>\n",
        "      <td> 26321</td>\n",
        "      <td>    CHEMBL3397</td>\n",
        "      <td> 21212</td>\n",
        "      <td>                             Cytochrome P450 2C9</td>\n",
        "      <td> Unspecified</td>\n",
        "      <td>      Homo sapiens</td>\n",
        "      <td>                             Cytochrome P450 2C9</td>\n",
        "      <td> P11712</td>\n",
        "      <td>                                                                            (R)-limonene 6-monooxygenase,CYP2C9,Cytochrome P450 MP-4,CYP2C10,Cytochrome P450 MP-8,(S)-limonene 7-monooxygenase,1.14.13.-,S-mephenytoin 4-hydroxylase,CYPIIC9,Cytochrome P-450MP,Cytochrome P450 2C9,1.14.13.48,1.14.13.49,1.14.13.80,(S)-limonene 6-monooxygenase,Cytochrome P450 PB-1</td>\n",
        "      <td> SINGLE PROTEIN</td>\n",
        "    </tr>\n",
        "    <tr>\n",
        "      <th>6</th>\n",
        "      <td>  3061</td>\n",
        "      <td>    CHEMBL1844</td>\n",
        "      <td>  2245</td>\n",
        "      <td> Macrophage colony stimulating factor  receptor </td>\n",
        "      <td> Unspecified</td>\n",
        "      <td>      Homo sapiens</td>\n",
        "      <td> Macrophage colony stimulating factor  receptor </td>\n",
        "      <td> P07333</td>\n",
        "      <td>                                                                                                                                                                                                                        CD_antigen=CD115,FMS,Proto-oncogene c-Fms,CSF-1 receptor,CSF1R,2.7.10.1,CSF-1R,Macrophage colony-stimulating factor 1 receptor,CSF-1-R,M-CSF-R</td>\n",
        "      <td> SINGLE PROTEIN</td>\n",
        "    </tr>\n",
        "    <tr>\n",
        "      <th>7</th>\n",
        "      <td>   578</td>\n",
        "      <td>    CHEMBL3864</td>\n",
        "      <td>   528</td>\n",
        "      <td>                 Protein-tyrosine phosphatase 2C</td>\n",
        "      <td> Unspecified</td>\n",
        "      <td>      Homo sapiens</td>\n",
        "      <td>                 Protein-tyrosine phosphatase 2C</td>\n",
        "      <td> Q06124</td>\n",
        "      <td>                                                                                                                                                                              PTP2C ,Protein-tyrosine phosphatase 1D,SH-PTP2,Shp2,PTP-2C,PTPN11,3.1.3.48,Protein-tyrosine phosphatase 2C,Tyrosine-protein phosphatase non-receptor type 11,PTP-1D,SHPTP2,SH-PTP3,SHP-2</td>\n",
        "      <td> SINGLE PROTEIN</td>\n",
        "    </tr>\n",
        "    <tr>\n",
        "      <th>8</th>\n",
        "      <td> 94907</td>\n",
        "      <td> CHEMBL1293224</td>\n",
        "      <td> 66755</td>\n",
        "      <td>              Microtubule-associated protein tau</td>\n",
        "      <td> Unspecified</td>\n",
        "      <td>      Homo sapiens</td>\n",
        "      <td>              Microtubule-associated protein tau</td>\n",
        "      <td> P10636</td>\n",
        "      <td>                                                                                                                                                                                                                                           Neurofibrillary tangle protein,TAU,Microtubule-associated protein tau,MAPT,MTBT1,MAPTL ,Paired helical filament-tau,PHF-tau</td>\n",
        "      <td> SINGLE PROTEIN</td>\n",
        "    </tr>\n",
        "    <tr>\n",
        "      <th>9</th>\n",
        "      <td> 41780</td>\n",
        "      <td>     CHEMBL340</td>\n",
        "      <td> 25658</td>\n",
        "      <td>                             Cytochrome P450 3A4</td>\n",
        "      <td> Unspecified</td>\n",
        "      <td>      Homo sapiens</td>\n",
        "      <td>                             Cytochrome P450 3A4</td>\n",
        "      <td> P08684</td>\n",
        "      <td> Cytochrome P450-PCN1,Quinine 3-monooxygenase,1.14.13.32,CYPIIIA3,CYPIIIA4,Cytochrome P450 3A4,Taurochenodeoxycholate 6-alpha-hydroxylase,1.14.13.157,1.14.13.97,CYP3A3,Nifedipine oxidase,Albendazole monooxygenase,Cytochrome P450 3A3,1,8-cineole 2-exo-monooxygenase,1.14.13.-,1.14.13.67,Albendazole sulfoxidase,Cytochrome P450 NF-25,CYP3A4,Cytochrome P450 HLp</td>\n",
        "      <td> SINGLE PROTEIN</td>\n",
        "    </tr>\n",
        "  </tbody>\n",
        "</table>\n",
        "<p>10 rows \u00d7 10 columns</p>\n",
        "</div>"
       ],
       "metadata": {},
       "output_type": "pyout",
       "prompt_number": 23,
       "text": [
        "   bioactivityCount       chemblId  compoundCount                                      description    geneNames           organism                                    preferredName proteinAccession                                                                                                                                                                                                                                                                                                                                                               synonyms      targetType\n",
        "0              1038     CHEMBL5414            567                       Beta-2 adrenergic receptor  Unspecified    Cavia porcellus                       Beta-2 adrenergic receptor           Q8K4Z4                                                                                                                                                                                                                                                                                             Adrb2,Beta-2 adrenoreceptor,Beta-2 adrenoceptor,Beta-2 adrenergic receptor  SINGLE PROTEIN\n",
        "1               421     CHEMBL3252            298                       Beta-1 adrenergic receptor  Unspecified  Rattus norvegicus                       Beta-1 adrenergic receptor           P18090                                                                                                                                                                                                                                                                                      Beta-1 adrenoceptor,Adrb1r,Beta-1 adrenergic receptor,Adrb1,Beta-1 adrenoreceptor  SINGLE PROTEIN\n",
        "2              1127      CHEMBL275            997                             Phosphodiesterase 4B  Unspecified       Homo sapiens                             Phosphodiesterase 4B           Q07343                                                                                                                                                                                                                                                                                             3.1.4.53,cAMP-specific 3',5'-cyclic phosphodiesterase 4B,DPDE4,PDE32,PDE4B  SINGLE PROTEIN\n",
        "3              6595      CHEMBL210           4320                       Beta-2 adrenergic receptor  Unspecified       Homo sapiens                       Beta-2 adrenergic receptor           P07550                                                                                                                                                                                                                                                                                Beta-2 adrenergic receptor,ADRB2,Beta-2 adrenoreceptor,Beta-2 adrenoceptor,ADRB2R ,B2AR  SINGLE PROTEIN\n",
        "4              4380      CHEMBL213           2716                       Beta-1 adrenergic receptor  Unspecified       Homo sapiens                       Beta-1 adrenergic receptor           P08588                                                                                                                                                                                                                                                                                ADRB1,ADRB1R ,B1AR,Beta-1 adrenergic receptor,Beta-1 adrenoreceptor,Beta-1 adrenoceptor  SINGLE PROTEIN\n",
        "5             26321     CHEMBL3397          21212                              Cytochrome P450 2C9  Unspecified       Homo sapiens                              Cytochrome P450 2C9           P11712                                                                             (R)-limonene 6-monooxygenase,CYP2C9,Cytochrome P450 MP-4,CYP2C10,Cytochrome P450 MP-8,(S)-limonene 7-monooxygenase,1.14.13.-,S-mephenytoin 4-hydroxylase,CYPIIC9,Cytochrome P-450MP,Cytochrome P450 2C9,1.14.13.48,1.14.13.49,1.14.13.80,(S)-limonene 6-monooxygenase,Cytochrome P450 PB-1  SINGLE PROTEIN\n",
        "6              3061     CHEMBL1844           2245  Macrophage colony stimulating factor  receptor   Unspecified       Homo sapiens  Macrophage colony stimulating factor  receptor            P07333                                                                                                                                                                                                                         CD_antigen=CD115,FMS,Proto-oncogene c-Fms,CSF-1 receptor,CSF1R,2.7.10.1,CSF-1R,Macrophage colony-stimulating factor 1 receptor,CSF-1-R,M-CSF-R  SINGLE PROTEIN\n",
        "7               578     CHEMBL3864            528                  Protein-tyrosine phosphatase 2C  Unspecified       Homo sapiens                  Protein-tyrosine phosphatase 2C           Q06124                                                                                                                                                                               PTP2C ,Protein-tyrosine phosphatase 1D,SH-PTP2,Shp2,PTP-2C,PTPN11,3.1.3.48,Protein-tyrosine phosphatase 2C,Tyrosine-protein phosphatase non-receptor type 11,PTP-1D,SHPTP2,SH-PTP3,SHP-2  SINGLE PROTEIN\n",
        "8             94907  CHEMBL1293224          66755               Microtubule-associated protein tau  Unspecified       Homo sapiens               Microtubule-associated protein tau           P10636                                                                                                                                                                                                                                            Neurofibrillary tangle protein,TAU,Microtubule-associated protein tau,MAPT,MTBT1,MAPTL ,Paired helical filament-tau,PHF-tau  SINGLE PROTEIN\n",
        "9             41780      CHEMBL340          25658                              Cytochrome P450 3A4  Unspecified       Homo sapiens                              Cytochrome P450 3A4           P08684  Cytochrome P450-PCN1,Quinine 3-monooxygenase,1.14.13.32,CYPIIIA3,CYPIIIA4,Cytochrome P450 3A4,Taurochenodeoxycholate 6-alpha-hydroxylase,1.14.13.157,1.14.13.97,CYP3A3,Nifedipine oxidase,Albendazole monooxygenase,Cytochrome P450 3A3,1,8-cineole 2-exo-monooxygenase,1.14.13.-,1.14.13.67,Albendazole sulfoxidase,Cytochrome P450 NF-25,CYP3A4,Cytochrome P450 HLp  SINGLE PROTEIN\n",
        "\n",
        "[10 rows x 10 columns]"
       ]
      }
     ],
     "prompt_number": 23
    },
    {
     "cell_type": "markdown",
     "metadata": {},
     "source": [
      "Finally, let's get the complete top 10 target predictions in descreasing order of probability."
     ]
    },
    {
     "cell_type": "code",
     "collapsed": false,
     "input": [
      "result = pd.merge(top_preds, target_info, left_on='id', right_on='chemblId')"
     ],
     "language": "python",
     "metadata": {},
     "outputs": [],
     "prompt_number": 24
    },
    {
     "cell_type": "code",
     "collapsed": false,
     "input": [
      "result"
     ],
     "language": "python",
     "metadata": {},
     "outputs": [
      {
       "html": [
        "<div style=\"max-height:1000px;max-width:1500px;overflow:auto;\">\n",
        "<table border=\"1\" class=\"dataframe\">\n",
        "  <thead>\n",
        "    <tr style=\"text-align: right;\">\n",
        "      <th></th>\n",
        "      <th>id</th>\n",
        "      <th>score</th>\n",
        "      <th>proba</th>\n",
        "      <th>bioactivityCount</th>\n",
        "      <th>chemblId</th>\n",
        "      <th>compoundCount</th>\n",
        "      <th>description</th>\n",
        "      <th>geneNames</th>\n",
        "      <th>organism</th>\n",
        "      <th>preferredName</th>\n",
        "      <th>proteinAccession</th>\n",
        "      <th>synonyms</th>\n",
        "      <th>targetType</th>\n",
        "    </tr>\n",
        "  </thead>\n",
        "  <tbody>\n",
        "    <tr>\n",
        "      <th>0</th>\n",
        "      <td>    CHEMBL5414</td>\n",
        "      <td> 18.159497</td>\n",
        "      <td> 0.999977</td>\n",
        "      <td>  1038</td>\n",
        "      <td>    CHEMBL5414</td>\n",
        "      <td>   567</td>\n",
        "      <td>                      Beta-2 adrenergic receptor</td>\n",
        "      <td> Unspecified</td>\n",
        "      <td>   Cavia porcellus</td>\n",
        "      <td>                      Beta-2 adrenergic receptor</td>\n",
        "      <td> Q8K4Z4</td>\n",
        "      <td>                                                                                                                                                                                                                                                                                            Adrb2,Beta-2 adrenoreceptor,Beta-2 adrenoceptor,Beta-2 adrenergic receptor</td>\n",
        "      <td> SINGLE PROTEIN</td>\n",
        "    </tr>\n",
        "    <tr>\n",
        "      <th>1</th>\n",
        "      <td>    CHEMBL3252</td>\n",
        "      <td> 10.654329</td>\n",
        "      <td> 0.874618</td>\n",
        "      <td>   421</td>\n",
        "      <td>    CHEMBL3252</td>\n",
        "      <td>   298</td>\n",
        "      <td>                      Beta-1 adrenergic receptor</td>\n",
        "      <td> Unspecified</td>\n",
        "      <td> Rattus norvegicus</td>\n",
        "      <td>                      Beta-1 adrenergic receptor</td>\n",
        "      <td> P18090</td>\n",
        "      <td>                                                                                                                                                                                                                                                                                     Beta-1 adrenoceptor,Adrb1r,Beta-1 adrenergic receptor,Adrb1,Beta-1 adrenoreceptor</td>\n",
        "      <td> SINGLE PROTEIN</td>\n",
        "    </tr>\n",
        "    <tr>\n",
        "      <th>2</th>\n",
        "      <td>     CHEMBL275</td>\n",
        "      <td>  7.960013</td>\n",
        "      <td> 0.843829</td>\n",
        "      <td>  1127</td>\n",
        "      <td>     CHEMBL275</td>\n",
        "      <td>   997</td>\n",
        "      <td>                            Phosphodiesterase 4B</td>\n",
        "      <td> Unspecified</td>\n",
        "      <td>      Homo sapiens</td>\n",
        "      <td>                            Phosphodiesterase 4B</td>\n",
        "      <td> Q07343</td>\n",
        "      <td>                                                                                                                                                                                                                                                                                            3.1.4.53,cAMP-specific 3',5'-cyclic phosphodiesterase 4B,DPDE4,PDE32,PDE4B</td>\n",
        "      <td> SINGLE PROTEIN</td>\n",
        "    </tr>\n",
        "    <tr>\n",
        "      <th>3</th>\n",
        "      <td>     CHEMBL210</td>\n",
        "      <td>  6.068692</td>\n",
        "      <td> 0.558651</td>\n",
        "      <td>  6595</td>\n",
        "      <td>     CHEMBL210</td>\n",
        "      <td>  4320</td>\n",
        "      <td>                      Beta-2 adrenergic receptor</td>\n",
        "      <td> Unspecified</td>\n",
        "      <td>      Homo sapiens</td>\n",
        "      <td>                      Beta-2 adrenergic receptor</td>\n",
        "      <td> P07550</td>\n",
        "      <td>                                                                                                                                                                                                                                                                               Beta-2 adrenergic receptor,ADRB2,Beta-2 adrenoreceptor,Beta-2 adrenoceptor,ADRB2R ,B2AR</td>\n",
        "      <td> SINGLE PROTEIN</td>\n",
        "    </tr>\n",
        "    <tr>\n",
        "      <th>4</th>\n",
        "      <td>     CHEMBL213</td>\n",
        "      <td> -1.089044</td>\n",
        "      <td> 0.000909</td>\n",
        "      <td>  4380</td>\n",
        "      <td>     CHEMBL213</td>\n",
        "      <td>  2716</td>\n",
        "      <td>                      Beta-1 adrenergic receptor</td>\n",
        "      <td> Unspecified</td>\n",
        "      <td>      Homo sapiens</td>\n",
        "      <td>                      Beta-1 adrenergic receptor</td>\n",
        "      <td> P08588</td>\n",
        "      <td>                                                                                                                                                                                                                                                                               ADRB1,ADRB1R ,B1AR,Beta-1 adrenergic receptor,Beta-1 adrenoreceptor,Beta-1 adrenoceptor</td>\n",
        "      <td> SINGLE PROTEIN</td>\n",
        "    </tr>\n",
        "    <tr>\n",
        "      <th>5</th>\n",
        "      <td>    CHEMBL3397</td>\n",
        "      <td> -4.842163</td>\n",
        "      <td> 0.000119</td>\n",
        "      <td> 26321</td>\n",
        "      <td>    CHEMBL3397</td>\n",
        "      <td> 21212</td>\n",
        "      <td>                             Cytochrome P450 2C9</td>\n",
        "      <td> Unspecified</td>\n",
        "      <td>      Homo sapiens</td>\n",
        "      <td>                             Cytochrome P450 2C9</td>\n",
        "      <td> P11712</td>\n",
        "      <td>                                                                            (R)-limonene 6-monooxygenase,CYP2C9,Cytochrome P450 MP-4,CYP2C10,Cytochrome P450 MP-8,(S)-limonene 7-monooxygenase,1.14.13.-,S-mephenytoin 4-hydroxylase,CYPIIC9,Cytochrome P-450MP,Cytochrome P450 2C9,1.14.13.48,1.14.13.49,1.14.13.80,(S)-limonene 6-monooxygenase,Cytochrome P450 PB-1</td>\n",
        "      <td> SINGLE PROTEIN</td>\n",
        "    </tr>\n",
        "    <tr>\n",
        "      <th>6</th>\n",
        "      <td>    CHEMBL1844</td>\n",
        "      <td> -4.558361</td>\n",
        "      <td> 0.000024</td>\n",
        "      <td>  3061</td>\n",
        "      <td>    CHEMBL1844</td>\n",
        "      <td>  2245</td>\n",
        "      <td> Macrophage colony stimulating factor  receptor </td>\n",
        "      <td> Unspecified</td>\n",
        "      <td>      Homo sapiens</td>\n",
        "      <td> Macrophage colony stimulating factor  receptor </td>\n",
        "      <td> P07333</td>\n",
        "      <td>                                                                                                                                                                                                                        CD_antigen=CD115,FMS,Proto-oncogene c-Fms,CSF-1 receptor,CSF1R,2.7.10.1,CSF-1R,Macrophage colony-stimulating factor 1 receptor,CSF-1-R,M-CSF-R</td>\n",
        "      <td> SINGLE PROTEIN</td>\n",
        "    </tr>\n",
        "    <tr>\n",
        "      <th>7</th>\n",
        "      <td>    CHEMBL3864</td>\n",
        "      <td> -3.178081</td>\n",
        "      <td> 0.000024</td>\n",
        "      <td>   578</td>\n",
        "      <td>    CHEMBL3864</td>\n",
        "      <td>   528</td>\n",
        "      <td>                 Protein-tyrosine phosphatase 2C</td>\n",
        "      <td> Unspecified</td>\n",
        "      <td>      Homo sapiens</td>\n",
        "      <td>                 Protein-tyrosine phosphatase 2C</td>\n",
        "      <td> Q06124</td>\n",
        "      <td>                                                                                                                                                                              PTP2C ,Protein-tyrosine phosphatase 1D,SH-PTP2,Shp2,PTP-2C,PTPN11,3.1.3.48,Protein-tyrosine phosphatase 2C,Tyrosine-protein phosphatase non-receptor type 11,PTP-1D,SHPTP2,SH-PTP3,SHP-2</td>\n",
        "      <td> SINGLE PROTEIN</td>\n",
        "    </tr>\n",
        "    <tr>\n",
        "      <th>8</th>\n",
        "      <td> CHEMBL1293224</td>\n",
        "      <td> -8.120585</td>\n",
        "      <td> 0.000020</td>\n",
        "      <td> 94907</td>\n",
        "      <td> CHEMBL1293224</td>\n",
        "      <td> 66755</td>\n",
        "      <td>              Microtubule-associated protein tau</td>\n",
        "      <td> Unspecified</td>\n",
        "      <td>      Homo sapiens</td>\n",
        "      <td>              Microtubule-associated protein tau</td>\n",
        "      <td> P10636</td>\n",
        "      <td>                                                                                                                                                                                                                                           Neurofibrillary tangle protein,TAU,Microtubule-associated protein tau,MAPT,MTBT1,MAPTL ,Paired helical filament-tau,PHF-tau</td>\n",
        "      <td> SINGLE PROTEIN</td>\n",
        "    </tr>\n",
        "    <tr>\n",
        "      <th>9</th>\n",
        "      <td>     CHEMBL340</td>\n",
        "      <td> -7.057586</td>\n",
        "      <td> 0.000017</td>\n",
        "      <td> 41780</td>\n",
        "      <td>     CHEMBL340</td>\n",
        "      <td> 25658</td>\n",
        "      <td>                             Cytochrome P450 3A4</td>\n",
        "      <td> Unspecified</td>\n",
        "      <td>      Homo sapiens</td>\n",
        "      <td>                             Cytochrome P450 3A4</td>\n",
        "      <td> P08684</td>\n",
        "      <td> Cytochrome P450-PCN1,Quinine 3-monooxygenase,1.14.13.32,CYPIIIA3,CYPIIIA4,Cytochrome P450 3A4,Taurochenodeoxycholate 6-alpha-hydroxylase,1.14.13.157,1.14.13.97,CYP3A3,Nifedipine oxidase,Albendazole monooxygenase,Cytochrome P450 3A3,1,8-cineole 2-exo-monooxygenase,1.14.13.-,1.14.13.67,Albendazole sulfoxidase,Cytochrome P450 NF-25,CYP3A4,Cytochrome P450 HLp</td>\n",
        "      <td> SINGLE PROTEIN</td>\n",
        "    </tr>\n",
        "  </tbody>\n",
        "</table>\n",
        "<p>10 rows \u00d7 13 columns</p>\n",
        "</div>"
       ],
       "metadata": {},
       "output_type": "pyout",
       "prompt_number": 25,
       "text": [
        "              id      score     proba  bioactivityCount       chemblId  compoundCount                                      description    geneNames           organism                                    preferredName proteinAccession                                                                                                                                                                                                                                                                                                                                                               synonyms      targetType\n",
        "0     CHEMBL5414  18.159497  0.999977              1038     CHEMBL5414            567                       Beta-2 adrenergic receptor  Unspecified    Cavia porcellus                       Beta-2 adrenergic receptor           Q8K4Z4                                                                                                                                                                                                                                                                                             Adrb2,Beta-2 adrenoreceptor,Beta-2 adrenoceptor,Beta-2 adrenergic receptor  SINGLE PROTEIN\n",
        "1     CHEMBL3252  10.654329  0.874618               421     CHEMBL3252            298                       Beta-1 adrenergic receptor  Unspecified  Rattus norvegicus                       Beta-1 adrenergic receptor           P18090                                                                                                                                                                                                                                                                                      Beta-1 adrenoceptor,Adrb1r,Beta-1 adrenergic receptor,Adrb1,Beta-1 adrenoreceptor  SINGLE PROTEIN\n",
        "2      CHEMBL275   7.960013  0.843829              1127      CHEMBL275            997                             Phosphodiesterase 4B  Unspecified       Homo sapiens                             Phosphodiesterase 4B           Q07343                                                                                                                                                                                                                                                                                             3.1.4.53,cAMP-specific 3',5'-cyclic phosphodiesterase 4B,DPDE4,PDE32,PDE4B  SINGLE PROTEIN\n",
        "3      CHEMBL210   6.068692  0.558651              6595      CHEMBL210           4320                       Beta-2 adrenergic receptor  Unspecified       Homo sapiens                       Beta-2 adrenergic receptor           P07550                                                                                                                                                                                                                                                                                Beta-2 adrenergic receptor,ADRB2,Beta-2 adrenoreceptor,Beta-2 adrenoceptor,ADRB2R ,B2AR  SINGLE PROTEIN\n",
        "4      CHEMBL213  -1.089044  0.000909              4380      CHEMBL213           2716                       Beta-1 adrenergic receptor  Unspecified       Homo sapiens                       Beta-1 adrenergic receptor           P08588                                                                                                                                                                                                                                                                                ADRB1,ADRB1R ,B1AR,Beta-1 adrenergic receptor,Beta-1 adrenoreceptor,Beta-1 adrenoceptor  SINGLE PROTEIN\n",
        "5     CHEMBL3397  -4.842163  0.000119             26321     CHEMBL3397          21212                              Cytochrome P450 2C9  Unspecified       Homo sapiens                              Cytochrome P450 2C9           P11712                                                                             (R)-limonene 6-monooxygenase,CYP2C9,Cytochrome P450 MP-4,CYP2C10,Cytochrome P450 MP-8,(S)-limonene 7-monooxygenase,1.14.13.-,S-mephenytoin 4-hydroxylase,CYPIIC9,Cytochrome P-450MP,Cytochrome P450 2C9,1.14.13.48,1.14.13.49,1.14.13.80,(S)-limonene 6-monooxygenase,Cytochrome P450 PB-1  SINGLE PROTEIN\n",
        "6     CHEMBL1844  -4.558361  0.000024              3061     CHEMBL1844           2245  Macrophage colony stimulating factor  receptor   Unspecified       Homo sapiens  Macrophage colony stimulating factor  receptor            P07333                                                                                                                                                                                                                         CD_antigen=CD115,FMS,Proto-oncogene c-Fms,CSF-1 receptor,CSF1R,2.7.10.1,CSF-1R,Macrophage colony-stimulating factor 1 receptor,CSF-1-R,M-CSF-R  SINGLE PROTEIN\n",
        "7     CHEMBL3864  -3.178081  0.000024               578     CHEMBL3864            528                  Protein-tyrosine phosphatase 2C  Unspecified       Homo sapiens                  Protein-tyrosine phosphatase 2C           Q06124                                                                                                                                                                               PTP2C ,Protein-tyrosine phosphatase 1D,SH-PTP2,Shp2,PTP-2C,PTPN11,3.1.3.48,Protein-tyrosine phosphatase 2C,Tyrosine-protein phosphatase non-receptor type 11,PTP-1D,SHPTP2,SH-PTP3,SHP-2  SINGLE PROTEIN\n",
        "8  CHEMBL1293224  -8.120585  0.000020             94907  CHEMBL1293224          66755               Microtubule-associated protein tau  Unspecified       Homo sapiens               Microtubule-associated protein tau           P10636                                                                                                                                                                                                                                            Neurofibrillary tangle protein,TAU,Microtubule-associated protein tau,MAPT,MTBT1,MAPTL ,Paired helical filament-tau,PHF-tau  SINGLE PROTEIN\n",
        "9      CHEMBL340  -7.057586  0.000017             41780      CHEMBL340          25658                              Cytochrome P450 3A4  Unspecified       Homo sapiens                              Cytochrome P450 3A4           P08684  Cytochrome P450-PCN1,Quinine 3-monooxygenase,1.14.13.32,CYPIIIA3,CYPIIIA4,Cytochrome P450 3A4,Taurochenodeoxycholate 6-alpha-hydroxylase,1.14.13.157,1.14.13.97,CYP3A3,Nifedipine oxidase,Albendazole monooxygenase,Cytochrome P450 3A3,1,8-cineole 2-exo-monooxygenase,1.14.13.-,1.14.13.67,Albendazole sulfoxidase,Cytochrome P450 NF-25,CYP3A4,Cytochrome P450 HLp  SINGLE PROTEIN\n",
        "\n",
        "[10 rows x 13 columns]"
       ]
      }
     ],
     "prompt_number": 25
    },
    {
     "cell_type": "markdown",
     "metadata": {},
     "source": [
      "Not bad! The model retrieved the correct targets in the top 4 predictions out of a pool of 1244 targets."
     ]
    },
    {
     "cell_type": "heading",
     "level": 3,
     "metadata": {},
     "source": [
      "Feature contribution"
     ]
    },
    {
     "cell_type": "markdown",
     "metadata": {},
     "source": [
      "Now let's look at contributions of specific substructural features to the PDE4 predictions. Which features of the active molecules in the training set were the most important?"
     ]
    },
    {
     "cell_type": "code",
     "collapsed": false,
     "input": [
      "bit_scores = (morgan_nb.estimators_[classes.index(result['id'][2])].feature_log_prob_[1] - morgan_nb.estimators_[classes.index(result['id'][2])].feature_log_prob_[0])*fp"
     ],
     "language": "python",
     "metadata": {},
     "outputs": [],
     "prompt_number": 26
    },
    {
     "cell_type": "markdown",
     "metadata": {},
     "source": [
      "The snippet below maps the specific bits back to atomic environments"
     ]
    },
    {
     "cell_type": "code",
     "collapsed": false,
     "input": [
      "frags = OrderedDict()\n",
      "for k in info.keys():\n",
      "    if bit_scores[k] > 0.1:\n",
      "        atomId,radius = info[k][0]\n",
      "        env=Chem.FindAtomEnvironmentOfRadiusN(mol,radius,atomId)\n",
      "        ats = set([atomId])\n",
      "        for bidx in env:\n",
      "            bond = mol.GetBondWithIdx(bidx)\n",
      "            ats.add(bond.GetBeginAtomIdx())\n",
      "            ats.add(bond.GetEndAtomIdx())\n",
      "            frag = Chem.MolFragmentToSmiles(mol,atomsToUse=list(ats),bondsToUse=env,rootedAtAtom=atomId)\n",
      "            legend = str(round(bit_scores[k],2))\n",
      "            frags[k] = (legend,frag)"
     ],
     "language": "python",
     "metadata": {},
     "outputs": [],
     "prompt_number": 27
    },
    {
     "cell_type": "code",
     "collapsed": false,
     "input": [
      "legends = [l[1][0] for l in sorted(frags.items(), key=lambda t: t[1][0], reverse=True)][:10]\n",
      "ffrags = [l[1][1] for l in sorted(frags.items(), key=lambda t: t[1][0], reverse=True)][:10]"
     ],
     "language": "python",
     "metadata": {},
     "outputs": [],
     "prompt_number": 28
    },
    {
     "cell_type": "code",
     "collapsed": false,
     "input": [
      "fmols=[Chem.MolFromSmarts(s) for s in ffrags]"
     ],
     "language": "python",
     "metadata": {},
     "outputs": [],
     "prompt_number": 29
    },
    {
     "cell_type": "markdown",
     "metadata": {},
     "source": [
      "This was the original molecule"
     ]
    },
    {
     "cell_type": "code",
     "collapsed": false,
     "input": [
      "mol"
     ],
     "language": "python",
     "metadata": {},
     "outputs": [
      {
       "metadata": {},
       "output_type": "pyout",
       "png": "[encoded data removed]",
       "prompt_number": 30,
       "text": [
        "<rdkit.Chem.rdchem.Mol at 0x41df750>"
       ]
      }
     ],
     "prompt_number": 30
    },
    {
     "cell_type": "markdown",
     "metadata": {},
     "source": [
      "And these are its most important features, based on their enrichent in PDE4B actives in ChEMBL. The legend is the Bayesian score for each feature. "
     ]
    },
    {
     "cell_type": "code",
     "collapsed": false,
     "input": [
      "Draw.MolsToGridImage(fmols, molsPerRow=5, legends=legends)"
     ],
     "language": "python",
     "metadata": {},
     "outputs": [
      {
       "metadata": {},
       "output_type": "pyout",
       "png": "[encoded data removed]",
       "prompt_number": 31,
       "text": [
        "<Image.Image image mode=RGBA size=1000x400 at 0x4496908>"
       ]
      }
     ],
     "prompt_number": 31
    },
    {
     "cell_type": "code",
     "collapsed": false,
     "input": [],
     "language": "python",
     "metadata": {},
     "outputs": [],
     "prompt_number": 31
    }
   ],
   "metadata": {}
  }
 ]
}