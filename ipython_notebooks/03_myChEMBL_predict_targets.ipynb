{
 "cells": [
  {
   "cell_type": "markdown",
   "metadata": {},
   "source": [
    "# Ligand-based Target Prediction Tutorial"
   ]
  },
  {
   "cell_type": "markdown",
   "metadata": {},
   "source": [
    "### myChEMBL team, ChEMBL Group, EMBL-EBI."
   ]
  },
  {
   "cell_type": "markdown",
   "metadata": {},
   "source": [
    "This is a short tutorial on getting target predictions based on the current multi-category Naive Bayesian [ChEMBL_XXX models](http://chembl.blogspot.co.uk/2014/04/ligand-based-target-predictions-in.html) for a single molecule input. The predictions are ranked by the output classifier probability or score."
   ]
  },
  {
   "cell_type": "markdown",
   "metadata": {},
   "source": [
    "Outline of the tutorial:\n",
    "* Input a molecule to get target predictions for it\n",
    "* Assess the predictions\n",
    "* Retrieve individual feature contributions for a prediction"
   ]
  },
  {
   "cell_type": "markdown",
   "metadata": {},
   "source": [
    "The two models are under ~/models"
   ]
  },
  {
   "cell_type": "markdown",
   "metadata": {},
   "source": [
    "First, import IPython helpers:"
   ]
  },
  {
   "cell_type": "code",
   "execution_count": 1,
   "metadata": {
    "collapsed": false
   },
   "outputs": [
    {
     "name": "stdout",
     "output_type": "stream",
     "text": [
      "Populating the interactive namespace from numpy and matplotlib\n"
     ]
    }
   ],
   "source": [
    "%matplotlib inline\n",
    "%pylab inline\n",
    "from IPython.display import Image"
   ]
  },
  {
   "cell_type": "markdown",
   "metadata": {},
   "source": [
    "Now, import the necessary modules:"
   ]
  },
  {
   "cell_type": "code",
   "execution_count": 2,
   "metadata": {
    "collapsed": false
   },
   "outputs": [],
   "source": [
    "from rdkit.Chem import AllChem as Chem\n",
    "from rdkit.Chem.Draw import IPythonConsole\n",
    "from rdkit.Chem import PandasTools\n",
    "from rdkit.Chem import Draw\n",
    "\n",
    "import pandas as pd\n",
    "from pandas import concat\n",
    "\n",
    "from collections import OrderedDict\n",
    "\n",
    "from chembl_webresource_client.new_client import new_client\n",
    "from chembl_webresource_client.settings import Settings"
   ]
  },
  {
   "cell_type": "code",
   "execution_count": 3,
   "metadata": {
    "collapsed": false
   },
   "outputs": [],
   "source": [
    "# By default, the API connects to the main ChEMBL database; set it to use the local version (i.e. myChEMBL) instead...\n",
    "\n",
    "Settings.Instance().NEW_CLIENT_URL = 'http://localhost/chemblws'"
   ]
  },
  {
   "cell_type": "code",
   "execution_count": 4,
   "metadata": {
    "collapsed": false
   },
   "outputs": [],
   "source": [
    "from sklearn.externals import joblib"
   ]
  },
  {
   "cell_type": "code",
   "execution_count": 5,
   "metadata": {
    "collapsed": false
   },
   "outputs": [],
   "source": [
    "rcParams['figure.figsize'] = 10,10"
   ]
  },
  {
   "cell_type": "markdown",
   "metadata": {},
   "source": [
    "A couple of utility functions:"
   ]
  },
  {
   "cell_type": "code",
   "execution_count": 6,
   "metadata": {
    "collapsed": false
   },
   "outputs": [],
   "source": [
    "def calc_scores(classes):\n",
    "    p = []\n",
    "    for c in classes:\n",
    "        p.append(pred_score(c))\n",
    "    return p"
   ]
  },
  {
   "cell_type": "code",
   "execution_count": 7,
   "metadata": {
    "collapsed": false
   },
   "outputs": [],
   "source": [
    "def pred_score(trgt):\n",
    "    diff = morgan_nb.estimators_[classes.index(trgt)].feature_log_prob_[1] - morgan_nb.estimators_[classes.index(trgt)].feature_log_prob_[0]\n",
    "    return sum(diff*fp)"
   ]
  },
  {
   "cell_type": "markdown",
   "metadata": {},
   "source": [
    "Load one of the two models:"
   ]
  },
  {
   "cell_type": "code",
   "execution_count": 8,
   "metadata": {
    "collapsed": false
   },
   "outputs": [],
   "source": [
    "morgan_nb = joblib.load('../models/10uM/mNB_10uM_all.pkl')"
   ]
  },
  {
   "cell_type": "code",
   "execution_count": 9,
   "metadata": {
    "collapsed": false
   },
   "outputs": [],
   "source": [
    "classes = list(morgan_nb.classes_)"
   ]
  },
  {
   "cell_type": "markdown",
   "metadata": {},
   "source": [
    "Check the number of classses/targets:"
   ]
  },
  {
   "cell_type": "code",
   "execution_count": 10,
   "metadata": {
    "collapsed": false
   },
   "outputs": [
    {
     "data": {
      "text/plain": [
       "1365"
      ]
     },
     "execution_count": 10,
     "metadata": {},
     "output_type": "execute_result"
    }
   ],
   "source": [
    "len(classes)"
   ]
  },
  {
   "cell_type": "markdown",
   "metadata": {},
   "source": [
    "We have to suppress some warnings because of: https://github.com/python-pillow/Pillow/issues/63"
   ]
  },
  {
   "cell_type": "code",
   "execution_count": 11,
   "metadata": {
    "collapsed": true
   },
   "outputs": [],
   "source": [
    "import warnings\n",
    "warnings.filterwarnings('ignore') \n",
    "warnings.filterwarnings(\"ignore\", category=DeprecationWarning)"
   ]
  },
  {
   "cell_type": "markdown",
   "metadata": {},
   "source": [
    "### Get predictions for a compound"
   ]
  },
  {
   "cell_type": "markdown",
   "metadata": {},
   "source": [
    "Let's use a molecule (GS-5759) found in [this](http://www.ncbi.nlm.nih.gov/pubmed/24513870) publication. It is a novel compound (not in ChEMBL) reported to have dual activity against PDE4 and beta-2 adrenergic receptor. "
   ]
  },
  {
   "cell_type": "code",
   "execution_count": 12,
   "metadata": {
    "collapsed": false
   },
   "outputs": [],
   "source": [
    "smiles = 'O[C@@H](CNCCCC#CC1=CC=C(C=C1)NC(=O)C=1C=C(C=CC1)S(=O)(=O)C=1C=C2C(=C(C=NC2=C(C1)C)C(=O)N)NC1=CC(=CC=C1)OC)C1=C2C=CC(NC2=C(C=C1)O)=O'"
   ]
  },
  {
   "cell_type": "code",
   "execution_count": 13,
   "metadata": {
    "collapsed": false
   },
   "outputs": [],
   "source": [
    "mol = Chem.MolFromSmiles(smiles)"
   ]
  },
  {
   "cell_type": "code",
   "execution_count": 14,
   "metadata": {
    "collapsed": false
   },
   "outputs": [
    {
     "data": {
      "image/png": "[encoded data removed]",
      "text/plain": [
       "<rdkit.Chem.rdchem.Mol at 0x53c4670>"
      ]
     },
     "execution_count": 14,
     "metadata": {},
     "output_type": "execute_result"
    }
   ],
   "source": [
    " mol"
   ]
  },
  {
   "cell_type": "markdown",
   "metadata": {},
   "source": [
    "Convert to the Morgan fingerprint and save the bit dictionary for later..."
   ]
  },
  {
   "cell_type": "code",
   "execution_count": 15,
   "metadata": {
    "collapsed": false
   },
   "outputs": [],
   "source": [
    "info={}\n",
    "fp = Chem.GetMorganFingerprintAsBitVect(mol,2,nBits=2048, bitInfo=info)"
   ]
  },
  {
   "cell_type": "markdown",
   "metadata": {},
   "source": [
    "Get the predictions in a Pandas frame"
   ]
  },
  {
   "cell_type": "code",
   "execution_count": 16,
   "metadata": {
    "collapsed": false
   },
   "outputs": [],
   "source": [
    "predictions = pd.DataFrame(zip(classes, calc_scores(classes),list(morgan_nb.predict_proba(fp)[0])),columns=['id','score','proba'])"
   ]
  },
  {
   "cell_type": "code",
   "execution_count": 17,
   "metadata": {
    "collapsed": false
   },
   "outputs": [
    {
     "data": {
      "text/html": [
       "<div style=\"max-height:1000px;max-width:1500px;overflow:auto;\">\n",
       "<table border=\"1\" class=\"dataframe\">\n",
       "  <thead>\n",
       "    <tr style=\"text-align: right;\">\n",
       "      <th></th>\n",
       "      <th>id</th>\n",
       "      <th>score</th>\n",
       "      <th>proba</th>\n",
       "    </tr>\n",
       "  </thead>\n",
       "  <tbody>\n",
       "    <tr>\n",
       "      <th>0</th>\n",
       "      <td>CHEMBL1075051</td>\n",
       "      <td>-50.449036</td>\n",
       "      <td>2.659662e-26</td>\n",
       "    </tr>\n",
       "    <tr>\n",
       "      <th>1</th>\n",
       "      <td>CHEMBL1075104</td>\n",
       "      <td>-25.192131</td>\n",
       "      <td>1.032862e-14</td>\n",
       "    </tr>\n",
       "    <tr>\n",
       "      <th>2</th>\n",
       "      <td>CHEMBL1075108</td>\n",
       "      <td>-76.400030</td>\n",
       "      <td>6.413147e-38</td>\n",
       "    </tr>\n",
       "    <tr>\n",
       "      <th>3</th>\n",
       "      <td>CHEMBL1075111</td>\n",
       "      <td>-81.784724</td>\n",
       "      <td>2.720615e-40</td>\n",
       "    </tr>\n",
       "    <tr>\n",
       "      <th>4</th>\n",
       "      <td>CHEMBL1075115</td>\n",
       "      <td>-12.274895</td>\n",
       "      <td>1.019762e-09</td>\n",
       "    </tr>\n",
       "  </tbody>\n",
       "</table>\n",
       "</div>"
      ],
      "text/plain": [
       "              id      score         proba\n",
       "0  CHEMBL1075051 -50.449036  2.659662e-26\n",
       "1  CHEMBL1075104 -25.192131  1.032862e-14\n",
       "2  CHEMBL1075108 -76.400030  6.413147e-38\n",
       "3  CHEMBL1075111 -81.784724  2.720615e-40\n",
       "4  CHEMBL1075115 -12.274895  1.019762e-09"
      ]
     },
     "execution_count": 17,
     "metadata": {},
     "output_type": "execute_result"
    }
   ],
   "source": [
    "predictions.head()"
   ]
  },
  {
   "cell_type": "markdown",
   "metadata": {},
   "source": [
    "Let's check the distributions of prediction probability and score for the 1244 targets."
   ]
  },
  {
   "cell_type": "code",
   "execution_count": 18,
   "metadata": {
    "collapsed": false
   },
   "outputs": [
    {
     "data": {
      "text/plain": [
       "<matplotlib.axes._subplots.AxesSubplot at 0x59e1d10>"
      ]
     },
     "execution_count": 18,
     "metadata": {},
     "output_type": "execute_result"
    },
    {
     "data": {
      "image/png": "[encoded data removed]",
      "text/plain": [
       "<matplotlib.figure.Figure at 0xad5e790>"
      ]
     },
     "metadata": {},
     "output_type": "display_data"
    }
   ],
   "source": [
    "predictions['proba'].hist()"
   ]
  },
  {
   "cell_type": "code",
   "execution_count": 19,
   "metadata": {
    "collapsed": false
   },
   "outputs": [
    {
     "data": {
      "text/plain": [
       "<matplotlib.axes._subplots.AxesSubplot at 0x96aae90>"
      ]
     },
     "execution_count": 19,
     "metadata": {},
     "output_type": "execute_result"
    },
    {
     "data": {
      "image/png": "[encoded data removed]",
      "text/plain": [
       "<matplotlib.figure.Figure at 0xa171950>"
      ]
     },
     "metadata": {},
     "output_type": "display_data"
    }
   ],
   "source": [
    "predictions['score'].hist()"
   ]
  },
  {
   "cell_type": "markdown",
   "metadata": {},
   "source": [
    "Sort by probability and take top 10."
   ]
  },
  {
   "cell_type": "code",
   "execution_count": 20,
   "metadata": {
    "collapsed": false
   },
   "outputs": [],
   "source": [
    "top_preds = predictions.sort(columns=['proba'],ascending=False).head(10)"
   ]
  },
  {
   "cell_type": "code",
   "execution_count": 21,
   "metadata": {
    "collapsed": false
   },
   "outputs": [
    {
     "data": {
      "text/html": [
       "<div style=\"max-height:1000px;max-width:1500px;overflow:auto;\">\n",
       "<table border=\"1\" class=\"dataframe\">\n",
       "  <thead>\n",
       "    <tr style=\"text-align: right;\">\n",
       "      <th></th>\n",
       "      <th>id</th>\n",
       "      <th>score</th>\n",
       "      <th>proba</th>\n",
       "    </tr>\n",
       "  </thead>\n",
       "  <tbody>\n",
       "    <tr>\n",
       "      <th>1230</th>\n",
       "      <td>CHEMBL5414</td>\n",
       "      <td>16.561540</td>\n",
       "      <td>0.999913</td>\n",
       "    </tr>\n",
       "    <tr>\n",
       "      <th>229</th>\n",
       "      <td>CHEMBL210</td>\n",
       "      <td>11.221284</td>\n",
       "      <td>0.995277</td>\n",
       "    </tr>\n",
       "    <tr>\n",
       "      <th>620</th>\n",
       "      <td>CHEMBL3252</td>\n",
       "      <td>10.345744</td>\n",
       "      <td>0.871797</td>\n",
       "    </tr>\n",
       "    <tr>\n",
       "      <th>235</th>\n",
       "      <td>CHEMBL213</td>\n",
       "      <td>6.710974</td>\n",
       "      <td>0.673253</td>\n",
       "    </tr>\n",
       "    <tr>\n",
       "      <th>450</th>\n",
       "      <td>CHEMBL275</td>\n",
       "      <td>6.395985</td>\n",
       "      <td>0.514802</td>\n",
       "    </tr>\n",
       "    <tr>\n",
       "      <th>673</th>\n",
       "      <td>CHEMBL3397</td>\n",
       "      <td>-4.369562</td>\n",
       "      <td>0.000175</td>\n",
       "    </tr>\n",
       "    <tr>\n",
       "      <th>675</th>\n",
       "      <td>CHEMBL340</td>\n",
       "      <td>-6.045646</td>\n",
       "      <td>0.000043</td>\n",
       "    </tr>\n",
       "    <tr>\n",
       "      <th>812</th>\n",
       "      <td>CHEMBL3864</td>\n",
       "      <td>-2.923390</td>\n",
       "      <td>0.000028</td>\n",
       "    </tr>\n",
       "    <tr>\n",
       "      <th>33</th>\n",
       "      <td>CHEMBL1293224</td>\n",
       "      <td>-7.800963</td>\n",
       "      <td>0.000025</td>\n",
       "    </tr>\n",
       "    <tr>\n",
       "      <th>1311</th>\n",
       "      <td>CHEMBL5819</td>\n",
       "      <td>-3.884439</td>\n",
       "      <td>0.000009</td>\n",
       "    </tr>\n",
       "  </tbody>\n",
       "</table>\n",
       "</div>"
      ],
      "text/plain": [
       "                 id      score     proba\n",
       "1230     CHEMBL5414  16.561540  0.999913\n",
       "229       CHEMBL210  11.221284  0.995277\n",
       "620      CHEMBL3252  10.345744  0.871797\n",
       "235       CHEMBL213   6.710974  0.673253\n",
       "450       CHEMBL275   6.395985  0.514802\n",
       "673      CHEMBL3397  -4.369562  0.000175\n",
       "675       CHEMBL340  -6.045646  0.000043\n",
       "812      CHEMBL3864  -2.923390  0.000028\n",
       "33    CHEMBL1293224  -7.800963  0.000025\n",
       "1311     CHEMBL5819  -3.884439  0.000009"
      ]
     },
     "execution_count": 21,
     "metadata": {},
     "output_type": "execute_result"
    }
   ],
   "source": [
    "top_preds"
   ]
  },
  {
   "cell_type": "markdown",
   "metadata": {},
   "source": [
    "Use ChEMBL WS to merge with target information"
   ]
  },
  {
   "cell_type": "code",
   "execution_count": 22,
   "metadata": {
    "collapsed": false
   },
   "outputs": [],
   "source": [
    "def fetch_WS(trgt):\n",
    "    targets = new_client.target\n",
    "    return targets.get(trgt)"
   ]
  },
  {
   "cell_type": "code",
   "execution_count": 23,
   "metadata": {
    "collapsed": false
   },
   "outputs": [],
   "source": [
    "plist = []\n",
    "for i,e in enumerate(top_preds['id']):\n",
    "    p = pd.DataFrame(fetch_WS(e), index=(i,))\n",
    "    plist.append(p)\n",
    "target_info = concat(plist)"
   ]
  },
  {
   "cell_type": "code",
   "execution_count": 24,
   "metadata": {
    "collapsed": false
   },
   "outputs": [
    {
     "data": {
      "text/plain": [
       "(10, 6)"
      ]
     },
     "execution_count": 24,
     "metadata": {},
     "output_type": "execute_result"
    }
   ],
   "source": [
    "target_info.shape"
   ]
  },
  {
   "cell_type": "code",
   "execution_count": 25,
   "metadata": {
    "collapsed": false
   },
   "outputs": [
    {
     "data": {
      "text/html": [
       "<div style=\"max-height:1000px;max-width:1500px;overflow:auto;\">\n",
       "<table border=\"1\" class=\"dataframe\">\n",
       "  <thead>\n",
       "    <tr style=\"text-align: right;\">\n",
       "      <th></th>\n",
       "      <th>organism</th>\n",
       "      <th>pref_name</th>\n",
       "      <th>species_group_flag</th>\n",
       "      <th>target_chembl_id</th>\n",
       "      <th>target_components</th>\n",
       "      <th>target_type</th>\n",
       "    </tr>\n",
       "  </thead>\n",
       "  <tbody>\n",
       "    <tr>\n",
       "      <th>0</th>\n",
       "      <td>Cavia porcellus</td>\n",
       "      <td>Beta-2 adrenergic receptor</td>\n",
       "      <td>False</td>\n",
       "      <td>CHEMBL5414</td>\n",
       "      <td>{u'component_id': 3708, u'accession': u'Q8K4Z4', u'component_type': u'PROTEIN', u'target_component_synonyms': [{u'component_synonym': u'Adrb2', u'syn_type': u'GENE_SYMBOL'}, {u'component_synonym': u'Beta-2 adrenergic receptor', u'syn_type': u'UNIPROT'}, {u'component_synonym': u'Beta-2 adrenoceptor', u'syn_type': u'UNIPROT'}, {u'component_synonym': u'Beta-2 adrenoreceptor', u'syn_type': u'UNIPROT'}]}</td>\n",
       "      <td>SINGLE PROTEIN</td>\n",
       "    </tr>\n",
       "    <tr>\n",
       "      <th>1</th>\n",
       "      <td>Homo sapiens</td>\n",
       "      <td>Beta-2 adrenergic receptor</td>\n",
       "      <td>False</td>\n",
       "      <td>CHEMBL210</td>\n",
       "      <td>{u'component_id': 213, u'accession': u'P07550', u'component_type': u'PROTEIN', u'target_component_synonyms': [{u'component_synonym': u'ADRB2', u'syn_type': u'GENE_SYMBOL'}, {u'component_synonym': u'ADRB2R ', u'syn_type': u'GENE_SYMBOL'}, {u'component_synonym': u'B2AR', u'syn_type': u'GENE_SYMBOL'}, {u'component_synonym': u'Beta-2 adrenergic receptor', u'syn_type': u'UNIPROT'}, {u'component_synonym': u'Beta-2 adrenoceptor', u'syn_type': u'UNIPROT'}, {u'component_synonym': u'Beta-2 adrenoreceptor', u'syn_type': u'UNIPROT'}]}</td>\n",
       "      <td>SINGLE PROTEIN</td>\n",
       "    </tr>\n",
       "    <tr>\n",
       "      <th>2</th>\n",
       "      <td>Rattus norvegicus</td>\n",
       "      <td>Beta-1 adrenergic receptor</td>\n",
       "      <td>False</td>\n",
       "      <td>CHEMBL3252</td>\n",
       "      <td>{u'component_id': 1573, u'accession': u'P18090', u'component_type': u'PROTEIN', u'target_component_synonyms': [{u'component_synonym': u'Adrb1', u'syn_type': u'GENE_SYMBOL'}, {u'component_synonym': u'Adrb1r', u'syn_type': u'GENE_SYMBOL'}, {u'component_synonym': u'Beta-1 adrenergic receptor', u'syn_type': u'UNIPROT'}, {u'component_synonym': u'Beta-1 adrenoceptor', u'syn_type': u'UNIPROT'}, {u'component_synonym': u'Beta-1 adrenoreceptor', u'syn_type': u'UNIPROT'}]}</td>\n",
       "      <td>SINGLE PROTEIN</td>\n",
       "    </tr>\n",
       "    <tr>\n",
       "      <th>3</th>\n",
       "      <td>Homo sapiens</td>\n",
       "      <td>Beta-1 adrenergic receptor</td>\n",
       "      <td>False</td>\n",
       "      <td>CHEMBL213</td>\n",
       "      <td>{u'component_id': 185, u'accession': u'P08588', u'component_type': u'PROTEIN', u'target_component_synonyms': [{u'component_synonym': u'ADRB1', u'syn_type': u'GENE_SYMBOL'}, {u'component_synonym': u'ADRB1R ', u'syn_type': u'GENE_SYMBOL'}, {u'component_synonym': u'B1AR', u'syn_type': u'GENE_SYMBOL'}, {u'component_synonym': u'Beta-1 adrenergic receptor', u'syn_type': u'UNIPROT'}, {u'component_synonym': u'Beta-1 adrenoceptor', u'syn_type': u'UNIPROT'}, {u'component_synonym': u'Beta-1 adrenoreceptor', u'syn_type': u'UNIPROT'}]}</td>\n",
       "      <td>SINGLE PROTEIN</td>\n",
       "    </tr>\n",
       "    <tr>\n",
       "      <th>4</th>\n",
       "      <td>Homo sapiens</td>\n",
       "      <td>Phosphodiesterase 4B</td>\n",
       "      <td>False</td>\n",
       "      <td>CHEMBL275</td>\n",
       "      <td>{u'component_id': 2177, u'accession': u'Q07343', u'component_type': u'PROTEIN', u'target_component_synonyms': [{u'component_synonym': u'3.1.4.53', u'syn_type': u'EC_NUMBER'}, {u'component_synonym': u'DPDE4', u'syn_type': u'GENE_SYMBOL'}, {u'component_synonym': u'DPDE4', u'syn_type': u'UNIPROT'}, {u'component_synonym': u'PDE32', u'syn_type': u'UNIPROT'}, {u'component_synonym': u'PDE4B', u'syn_type': u'GENE_SYMBOL'}, {u'component_synonym': u'cAMP-specific 3',5'-cyclic phosphodiesterase 4B', u'syn_type': u'UNIPROT'}]}</td>\n",
       "      <td>SINGLE PROTEIN</td>\n",
       "    </tr>\n",
       "    <tr>\n",
       "      <th>5</th>\n",
       "      <td>Homo sapiens</td>\n",
       "      <td>Cytochrome P450 2C9</td>\n",
       "      <td>False</td>\n",
       "      <td>CHEMBL3397</td>\n",
       "      <td>{u'component_id': 1718, u'accession': u'P11712', u'component_type': u'PROTEIN', u'target_component_synonyms': [{u'component_synonym': u'(R)-limonene 6-monooxygenase', u'syn_type': u'UNIPROT'}, {u'component_synonym': u'(S)-limonene 6-monooxygenase', u'syn_type': u'UNIPROT'}, {u'component_synonym': u'(S)-limonene 7-monooxygenase', u'syn_type': u'UNIPROT'}, {u'component_synonym': u'1.14.13.-', u'syn_type': u'EC_NUMBER'}, {u'component_synonym': u'1.14.13.48', u'syn_type': u'EC_NUMBER'}, {u'component_synonym': u'1.14.13.49', u'syn_type': u'EC_NUMBER'}, {u'component_synonym': u'1.14.13.80', u'syn_type': u'EC_NUMBER'}, {u'component_synonym': u'CYP2C10', u'syn_type': u'GENE_SYMBOL'}, {u'component_synonym': u'CYP2C9', u'syn_type': u'GENE_SYMBOL'}, {u'component_synonym': u'CYPIIC9', u'syn_type': u'UNIPROT'}, {u'component_synonym': u'Cytochrome P-450MP', u'syn_type': u'UNIPROT'}, {u'component_synonym': u'Cytochrome P450 2C9', u'syn_type': u'UNIPROT'}, {u'component_synonym': u'Cytochrome P450 MP-4', u'syn_type': u'UNIPROT'}, {u'component_synonym': u'Cytochrome P450 MP-8', u'syn_type': u'UNIPROT'}, {u'component_synonym': u'Cytochrome P450 PB-1', u'syn_type': u'UNIPROT'}, {u'component_synonym': u'S-mephenytoin 4-hydroxylase', u'syn_type': u'UNIPROT'}]}</td>\n",
       "      <td>SINGLE PROTEIN</td>\n",
       "    </tr>\n",
       "    <tr>\n",
       "      <th>6</th>\n",
       "      <td>Homo sapiens</td>\n",
       "      <td>Cytochrome P450 3A4</td>\n",
       "      <td>False</td>\n",
       "      <td>CHEMBL340</td>\n",
       "      <td>{u'component_id': 151, u'accession': u'P08684', u'component_type': u'PROTEIN', u'target_component_synonyms': [{u'component_synonym': u'1,8-cineole 2-exo-monooxygenase', u'syn_type': u'UNIPROT'}, {u'component_synonym': u'1.14.13.-', u'syn_type': u'EC_NUMBER'}, {u'component_synonym': u'1.14.13.157', u'syn_type': u'EC_NUMBER'}, {u'component_synonym': u'1.14.13.32', u'syn_type': u'EC_NUMBER'}, {u'component_synonym': u'1.14.13.67', u'syn_type': u'EC_NUMBER'}, {u'component_synonym': u'1.14.13.97', u'syn_type': u'EC_NUMBER'}, {u'component_synonym': u'Albendazole monooxygenase', u'syn_type': u'UNIPROT'}, {u'component_synonym': u'Albendazole sulfoxidase', u'syn_type': u'UNIPROT'}, {u'component_synonym': u'CYP3A3', u'syn_type': u'GENE_SYMBOL'}, {u'component_synonym': u'CYP3A4', u'syn_type': u'GENE_SYMBOL'}, {u'component_synonym': u'CYPIIIA3', u'syn_type': u'UNIPROT'}, {u'component_synonym': u'CYPIIIA4', u'syn_type': u'UNIPROT'}, {u'component_synonym': u'Cytochrome P450 3A3', u'syn_type': u'UNIPROT'}, {u'component_synonym': u'Cytochrome P450 3A4', u'syn_type': u'UNIPROT'}, {u'component_synonym': u'Cytochrome P450 HLp', u'syn_type': u'UNIPROT'}, {u'component_synonym': u'Cytochrome P450 NF-25', u'syn_type': u'UNIPROT'}, {u'component_synonym': u'Cytochrome P450-PCN1', u'syn_type': u'UNIPROT'}, {u'component_synonym': u'Nifedipine oxidase', u'syn_type': u'UNIPROT'}, {u'component_synonym': u'Quinine 3-monooxygenase', u'syn_type': u'UNIPROT'}, {u'component_synonym': u'Taurochenodeoxycholate 6-alpha-hydroxylase', u'syn_type': u'UNIPROT'}]}</td>\n",
       "      <td>SINGLE PROTEIN</td>\n",
       "    </tr>\n",
       "    <tr>\n",
       "      <th>7</th>\n",
       "      <td>Homo sapiens</td>\n",
       "      <td>Protein-tyrosine phosphatase 2C</td>\n",
       "      <td>False</td>\n",
       "      <td>CHEMBL3864</td>\n",
       "      <td>{u'component_id': 2182, u'accession': u'Q06124', u'component_type': u'PROTEIN', u'target_component_synonyms': [{u'component_synonym': u'3.1.3.48', u'syn_type': u'EC_NUMBER'}, {u'component_synonym': u'PTP-1D', u'syn_type': u'UNIPROT'}, {u'component_synonym': u'PTP-2C', u'syn_type': u'UNIPROT'}, {u'component_synonym': u'PTP2C ', u'syn_type': u'GENE_SYMBOL'}, {u'component_synonym': u'PTPN11', u'syn_type': u'GENE_SYMBOL'}, {u'component_synonym': u'Protein-tyrosine phosphatase 1D', u'syn_type': u'UNIPROT'}, {u'component_synonym': u'Protein-tyrosine phosphatase 2C', u'syn_type': u'UNIPROT'}, {u'component_synonym': u'SH-PTP2', u'syn_type': u'UNIPROT'}, {u'component_synonym': u'SH-PTP3', u'syn_type': u'UNIPROT'}, {u'component_synonym': u'SHP-2', u'syn_type': u'UNIPROT'}, {u'component_synonym': u'SHPTP2', u'syn_type': u'GENE_SYMBOL'}, {u'component_synonym': u'Shp2', u'syn_type': u'UNIPROT'}, {u'component_synonym': u'Tyrosine-protein phosphatase non-receptor type 11', u'syn_type': u'UNIPROT'}]}</td>\n",
       "      <td>SINGLE PROTEIN</td>\n",
       "    </tr>\n",
       "    <tr>\n",
       "      <th>8</th>\n",
       "      <td>Homo sapiens</td>\n",
       "      <td>Microtubule-associated protein tau</td>\n",
       "      <td>False</td>\n",
       "      <td>CHEMBL1293224</td>\n",
       "      <td>{u'component_id': 5140, u'accession': u'P10636', u'component_type': u'PROTEIN', u'target_component_synonyms': [{u'component_synonym': u'MAPT', u'syn_type': u'GENE_SYMBOL'}, {u'component_synonym': u'MAPTL ', u'syn_type': u'GENE_SYMBOL'}, {u'component_synonym': u'MTBT1', u'syn_type': u'GENE_SYMBOL'}, {u'component_synonym': u'Microtubule-associated protein tau', u'syn_type': u'UNIPROT'}, {u'component_synonym': u'Neurofibrillary tangle protein', u'syn_type': u'UNIPROT'}, {u'component_synonym': u'PHF-tau', u'syn_type': u'UNIPROT'}, {u'component_synonym': u'Paired helical filament-tau', u'syn_type': u'UNIPROT'}, {u'component_synonym': u'TAU', u'syn_type': u'GENE_SYMBOL'}]}</td>\n",
       "      <td>SINGLE PROTEIN</td>\n",
       "    </tr>\n",
       "    <tr>\n",
       "      <th>9</th>\n",
       "      <td>Homo sapiens</td>\n",
       "      <td>Serine/threonine-protein kinase Nek4</td>\n",
       "      <td>False</td>\n",
       "      <td>CHEMBL5819</td>\n",
       "      <td>{u'component_id': 4263, u'accession': u'P51957', u'component_type': u'PROTEIN', u'target_component_synonyms': [{u'component_synonym': u'2.7.11.1', u'syn_type': u'EC_NUMBER'}, {u'component_synonym': u'NEK4', u'syn_type': u'GENE_SYMBOL'}, {u'component_synonym': u'Never in mitosis A-related kinase 4', u'syn_type': u'UNIPROT'}, {u'component_synonym': u'NimA-related protein kinase 4', u'syn_type': u'UNIPROT'}, {u'component_synonym': u'STK2', u'syn_type': u'GENE_SYMBOL'}, {u'component_synonym': u'Serine/threonine-protein kinase 2', u'syn_type': u'UNIPROT'}, {u'component_synonym': u'Serine/threonine-protein kinase NRK2', u'syn_type': u'UNIPROT'}, {u'component_synonym': u'Serine/threonine-protein kinase Nek4', u'syn_type': u'UNIPROT'}]}</td>\n",
       "      <td>SINGLE PROTEIN</td>\n",
       "    </tr>\n",
       "  </tbody>\n",
       "</table>\n",
       "</div>"
      ],
      "text/plain": [
       "            organism                             pref_name species_group_flag target_chembl_id                                                                                                                                                                                                                                                                                                                                                                                                                                                                                                                                                                                                                                                                                                                                                                                                                                                                                                                                                                                                                                                                                                                                                                                                                                                                                                                                                                                                                                                                                                                                                                                           target_components     target_type\n",
       "0    Cavia porcellus            Beta-2 adrenergic receptor              False       CHEMBL5414                                                                                                                                                                                                                                                                                                                                                                                                                                                                                                                                                                                                                                                                                                                                                                                                                                                                                                                                                                                                                                                                                                                                                                                          {u'component_id': 3708, u'accession': u'Q8K4Z4', u'component_type': u'PROTEIN', u'target_component_synonyms': [{u'component_synonym': u'Adrb2', u'syn_type': u'GENE_SYMBOL'}, {u'component_synonym': u'Beta-2 adrenergic receptor', u'syn_type': u'UNIPROT'}, {u'component_synonym': u'Beta-2 adrenoceptor', u'syn_type': u'UNIPROT'}, {u'component_synonym': u'Beta-2 adrenoreceptor', u'syn_type': u'UNIPROT'}]}  SINGLE PROTEIN\n",
       "1       Homo sapiens            Beta-2 adrenergic receptor              False        CHEMBL210                                                                                                                                                                                                                                                                                                                                                                                                                                                                                                                                                                                                                                                                                                                                                                                                                                                                                                                                                                                                                                                            {u'component_id': 213, u'accession': u'P07550', u'component_type': u'PROTEIN', u'target_component_synonyms': [{u'component_synonym': u'ADRB2', u'syn_type': u'GENE_SYMBOL'}, {u'component_synonym': u'ADRB2R ', u'syn_type': u'GENE_SYMBOL'}, {u'component_synonym': u'B2AR', u'syn_type': u'GENE_SYMBOL'}, {u'component_synonym': u'Beta-2 adrenergic receptor', u'syn_type': u'UNIPROT'}, {u'component_synonym': u'Beta-2 adrenoceptor', u'syn_type': u'UNIPROT'}, {u'component_synonym': u'Beta-2 adrenoreceptor', u'syn_type': u'UNIPROT'}]}  SINGLE PROTEIN\n",
       "2  Rattus norvegicus            Beta-1 adrenergic receptor              False       CHEMBL3252                                                                                                                                                                                                                                                                                                                                                                                                                                                                                                                                                                                                                                                                                                                                                                                                                                                                                                                                                                                                                                                                                                                          {u'component_id': 1573, u'accession': u'P18090', u'component_type': u'PROTEIN', u'target_component_synonyms': [{u'component_synonym': u'Adrb1', u'syn_type': u'GENE_SYMBOL'}, {u'component_synonym': u'Adrb1r', u'syn_type': u'GENE_SYMBOL'}, {u'component_synonym': u'Beta-1 adrenergic receptor', u'syn_type': u'UNIPROT'}, {u'component_synonym': u'Beta-1 adrenoceptor', u'syn_type': u'UNIPROT'}, {u'component_synonym': u'Beta-1 adrenoreceptor', u'syn_type': u'UNIPROT'}]}  SINGLE PROTEIN\n",
       "3       Homo sapiens            Beta-1 adrenergic receptor              False        CHEMBL213                                                                                                                                                                                                                                                                                                                                                                                                                                                                                                                                                                                                                                                                                                                                                                                                                                                                                                                                                                                                                                                            {u'component_id': 185, u'accession': u'P08588', u'component_type': u'PROTEIN', u'target_component_synonyms': [{u'component_synonym': u'ADRB1', u'syn_type': u'GENE_SYMBOL'}, {u'component_synonym': u'ADRB1R ', u'syn_type': u'GENE_SYMBOL'}, {u'component_synonym': u'B1AR', u'syn_type': u'GENE_SYMBOL'}, {u'component_synonym': u'Beta-1 adrenergic receptor', u'syn_type': u'UNIPROT'}, {u'component_synonym': u'Beta-1 adrenoceptor', u'syn_type': u'UNIPROT'}, {u'component_synonym': u'Beta-1 adrenoreceptor', u'syn_type': u'UNIPROT'}]}  SINGLE PROTEIN\n",
       "4       Homo sapiens                  Phosphodiesterase 4B              False        CHEMBL275                                                                                                                                                                                                                                                                                                                                                                                                                                                                                                                                                                                                                                                                                                                                                                                                                                                                                                                                                                                                                                                                    {u'component_id': 2177, u'accession': u'Q07343', u'component_type': u'PROTEIN', u'target_component_synonyms': [{u'component_synonym': u'3.1.4.53', u'syn_type': u'EC_NUMBER'}, {u'component_synonym': u'DPDE4', u'syn_type': u'GENE_SYMBOL'}, {u'component_synonym': u'DPDE4', u'syn_type': u'UNIPROT'}, {u'component_synonym': u'PDE32', u'syn_type': u'UNIPROT'}, {u'component_synonym': u'PDE4B', u'syn_type': u'GENE_SYMBOL'}, {u'component_synonym': u'cAMP-specific 3',5'-cyclic phosphodiesterase 4B', u'syn_type': u'UNIPROT'}]}  SINGLE PROTEIN\n",
       "5       Homo sapiens                   Cytochrome P450 2C9              False       CHEMBL3397                                                                                                                                                                                                                                                                                                  {u'component_id': 1718, u'accession': u'P11712', u'component_type': u'PROTEIN', u'target_component_synonyms': [{u'component_synonym': u'(R)-limonene 6-monooxygenase', u'syn_type': u'UNIPROT'}, {u'component_synonym': u'(S)-limonene 6-monooxygenase', u'syn_type': u'UNIPROT'}, {u'component_synonym': u'(S)-limonene 7-monooxygenase', u'syn_type': u'UNIPROT'}, {u'component_synonym': u'1.14.13.-', u'syn_type': u'EC_NUMBER'}, {u'component_synonym': u'1.14.13.48', u'syn_type': u'EC_NUMBER'}, {u'component_synonym': u'1.14.13.49', u'syn_type': u'EC_NUMBER'}, {u'component_synonym': u'1.14.13.80', u'syn_type': u'EC_NUMBER'}, {u'component_synonym': u'CYP2C10', u'syn_type': u'GENE_SYMBOL'}, {u'component_synonym': u'CYP2C9', u'syn_type': u'GENE_SYMBOL'}, {u'component_synonym': u'CYPIIC9', u'syn_type': u'UNIPROT'}, {u'component_synonym': u'Cytochrome P-450MP', u'syn_type': u'UNIPROT'}, {u'component_synonym': u'Cytochrome P450 2C9', u'syn_type': u'UNIPROT'}, {u'component_synonym': u'Cytochrome P450 MP-4', u'syn_type': u'UNIPROT'}, {u'component_synonym': u'Cytochrome P450 MP-8', u'syn_type': u'UNIPROT'}, {u'component_synonym': u'Cytochrome P450 PB-1', u'syn_type': u'UNIPROT'}, {u'component_synonym': u'S-mephenytoin 4-hydroxylase', u'syn_type': u'UNIPROT'}]}  SINGLE PROTEIN\n",
       "6       Homo sapiens                   Cytochrome P450 3A4              False        CHEMBL340  {u'component_id': 151, u'accession': u'P08684', u'component_type': u'PROTEIN', u'target_component_synonyms': [{u'component_synonym': u'1,8-cineole 2-exo-monooxygenase', u'syn_type': u'UNIPROT'}, {u'component_synonym': u'1.14.13.-', u'syn_type': u'EC_NUMBER'}, {u'component_synonym': u'1.14.13.157', u'syn_type': u'EC_NUMBER'}, {u'component_synonym': u'1.14.13.32', u'syn_type': u'EC_NUMBER'}, {u'component_synonym': u'1.14.13.67', u'syn_type': u'EC_NUMBER'}, {u'component_synonym': u'1.14.13.97', u'syn_type': u'EC_NUMBER'}, {u'component_synonym': u'Albendazole monooxygenase', u'syn_type': u'UNIPROT'}, {u'component_synonym': u'Albendazole sulfoxidase', u'syn_type': u'UNIPROT'}, {u'component_synonym': u'CYP3A3', u'syn_type': u'GENE_SYMBOL'}, {u'component_synonym': u'CYP3A4', u'syn_type': u'GENE_SYMBOL'}, {u'component_synonym': u'CYPIIIA3', u'syn_type': u'UNIPROT'}, {u'component_synonym': u'CYPIIIA4', u'syn_type': u'UNIPROT'}, {u'component_synonym': u'Cytochrome P450 3A3', u'syn_type': u'UNIPROT'}, {u'component_synonym': u'Cytochrome P450 3A4', u'syn_type': u'UNIPROT'}, {u'component_synonym': u'Cytochrome P450 HLp', u'syn_type': u'UNIPROT'}, {u'component_synonym': u'Cytochrome P450 NF-25', u'syn_type': u'UNIPROT'}, {u'component_synonym': u'Cytochrome P450-PCN1', u'syn_type': u'UNIPROT'}, {u'component_synonym': u'Nifedipine oxidase', u'syn_type': u'UNIPROT'}, {u'component_synonym': u'Quinine 3-monooxygenase', u'syn_type': u'UNIPROT'}, {u'component_synonym': u'Taurochenodeoxycholate 6-alpha-hydroxylase', u'syn_type': u'UNIPROT'}]}  SINGLE PROTEIN\n",
       "7       Homo sapiens       Protein-tyrosine phosphatase 2C              False       CHEMBL3864                                                                                                                                                                                                                                                                                                                                                                                                                                                                                                                                                                     {u'component_id': 2182, u'accession': u'Q06124', u'component_type': u'PROTEIN', u'target_component_synonyms': [{u'component_synonym': u'3.1.3.48', u'syn_type': u'EC_NUMBER'}, {u'component_synonym': u'PTP-1D', u'syn_type': u'UNIPROT'}, {u'component_synonym': u'PTP-2C', u'syn_type': u'UNIPROT'}, {u'component_synonym': u'PTP2C ', u'syn_type': u'GENE_SYMBOL'}, {u'component_synonym': u'PTPN11', u'syn_type': u'GENE_SYMBOL'}, {u'component_synonym': u'Protein-tyrosine phosphatase 1D', u'syn_type': u'UNIPROT'}, {u'component_synonym': u'Protein-tyrosine phosphatase 2C', u'syn_type': u'UNIPROT'}, {u'component_synonym': u'SH-PTP2', u'syn_type': u'UNIPROT'}, {u'component_synonym': u'SH-PTP3', u'syn_type': u'UNIPROT'}, {u'component_synonym': u'SHP-2', u'syn_type': u'UNIPROT'}, {u'component_synonym': u'SHPTP2', u'syn_type': u'GENE_SYMBOL'}, {u'component_synonym': u'Shp2', u'syn_type': u'UNIPROT'}, {u'component_synonym': u'Tyrosine-protein phosphatase non-receptor type 11', u'syn_type': u'UNIPROT'}]}  SINGLE PROTEIN\n",
       "8       Homo sapiens    Microtubule-associated protein tau              False    CHEMBL1293224                                                                                                                                                                                                                                                                                                                                                                                                                                                                                                                                                                                                                                                                                                                                                                                                                                                                                                         {u'component_id': 5140, u'accession': u'P10636', u'component_type': u'PROTEIN', u'target_component_synonyms': [{u'component_synonym': u'MAPT', u'syn_type': u'GENE_SYMBOL'}, {u'component_synonym': u'MAPTL ', u'syn_type': u'GENE_SYMBOL'}, {u'component_synonym': u'MTBT1', u'syn_type': u'GENE_SYMBOL'}, {u'component_synonym': u'Microtubule-associated protein tau', u'syn_type': u'UNIPROT'}, {u'component_synonym': u'Neurofibrillary tangle protein', u'syn_type': u'UNIPROT'}, {u'component_synonym': u'PHF-tau', u'syn_type': u'UNIPROT'}, {u'component_synonym': u'Paired helical filament-tau', u'syn_type': u'UNIPROT'}, {u'component_synonym': u'TAU', u'syn_type': u'GENE_SYMBOL'}]}  SINGLE PROTEIN\n",
       "9       Homo sapiens  Serine/threonine-protein kinase Nek4              False       CHEMBL5819                                                                                                                                                                                                                                                                                                                                                                                                                                                                                                                                                                                                                                                                                                                                                                                                                                          {u'component_id': 4263, u'accession': u'P51957', u'component_type': u'PROTEIN', u'target_component_synonyms': [{u'component_synonym': u'2.7.11.1', u'syn_type': u'EC_NUMBER'}, {u'component_synonym': u'NEK4', u'syn_type': u'GENE_SYMBOL'}, {u'component_synonym': u'Never in mitosis A-related kinase 4', u'syn_type': u'UNIPROT'}, {u'component_synonym': u'NimA-related protein kinase 4', u'syn_type': u'UNIPROT'}, {u'component_synonym': u'STK2', u'syn_type': u'GENE_SYMBOL'}, {u'component_synonym': u'Serine/threonine-protein kinase 2', u'syn_type': u'UNIPROT'}, {u'component_synonym': u'Serine/threonine-protein kinase NRK2', u'syn_type': u'UNIPROT'}, {u'component_synonym': u'Serine/threonine-protein kinase Nek4', u'syn_type': u'UNIPROT'}]}  SINGLE PROTEIN"
      ]
     },
     "execution_count": 25,
     "metadata": {},
     "output_type": "execute_result"
    }
   ],
   "source": [
    "target_info"
   ]
  },
  {
   "cell_type": "markdown",
   "metadata": {},
   "source": [
    "Finally, let's get the complete top 10 target predictions in descreasing order of probability."
   ]
  },
  {
   "cell_type": "code",
   "execution_count": 26,
   "metadata": {
    "collapsed": false
   },
   "outputs": [],
   "source": [
    "result = pd.merge(top_preds, target_info, left_on='id', right_on='target_chembl_id')"
   ]
  },
  {
   "cell_type": "code",
   "execution_count": 27,
   "metadata": {
    "collapsed": false
   },
   "outputs": [
    {
     "data": {
      "text/html": [
       "<div style=\"max-height:1000px;max-width:1500px;overflow:auto;\">\n",
       "<table border=\"1\" class=\"dataframe\">\n",
       "  <thead>\n",
       "    <tr style=\"text-align: right;\">\n",
       "      <th></th>\n",
       "      <th>id</th>\n",
       "      <th>score</th>\n",
       "      <th>proba</th>\n",
       "      <th>organism</th>\n",
       "      <th>pref_name</th>\n",
       "      <th>species_group_flag</th>\n",
       "      <th>target_chembl_id</th>\n",
       "      <th>target_components</th>\n",
       "      <th>target_type</th>\n",
       "    </tr>\n",
       "  </thead>\n",
       "  <tbody>\n",
       "    <tr>\n",
       "      <th>0</th>\n",
       "      <td>CHEMBL5414</td>\n",
       "      <td>16.561540</td>\n",
       "      <td>0.999913</td>\n",
       "      <td>Cavia porcellus</td>\n",
       "      <td>Beta-2 adrenergic receptor</td>\n",
       "      <td>False</td>\n",
       "      <td>CHEMBL5414</td>\n",
       "      <td>{u'component_id': 3708, u'accession': u'Q8K4Z4', u'component_type': u'PROTEIN', u'target_component_synonyms': [{u'component_synonym': u'Adrb2', u'syn_type': u'GENE_SYMBOL'}, {u'component_synonym': u'Beta-2 adrenergic receptor', u'syn_type': u'UNIPROT'}, {u'component_synonym': u'Beta-2 adrenoceptor', u'syn_type': u'UNIPROT'}, {u'component_synonym': u'Beta-2 adrenoreceptor', u'syn_type': u'UNIPROT'}]}</td>\n",
       "      <td>SINGLE PROTEIN</td>\n",
       "    </tr>\n",
       "    <tr>\n",
       "      <th>1</th>\n",
       "      <td>CHEMBL210</td>\n",
       "      <td>11.221284</td>\n",
       "      <td>0.995277</td>\n",
       "      <td>Homo sapiens</td>\n",
       "      <td>Beta-2 adrenergic receptor</td>\n",
       "      <td>False</td>\n",
       "      <td>CHEMBL210</td>\n",
       "      <td>{u'component_id': 213, u'accession': u'P07550', u'component_type': u'PROTEIN', u'target_component_synonyms': [{u'component_synonym': u'ADRB2', u'syn_type': u'GENE_SYMBOL'}, {u'component_synonym': u'ADRB2R ', u'syn_type': u'GENE_SYMBOL'}, {u'component_synonym': u'B2AR', u'syn_type': u'GENE_SYMBOL'}, {u'component_synonym': u'Beta-2 adrenergic receptor', u'syn_type': u'UNIPROT'}, {u'component_synonym': u'Beta-2 adrenoceptor', u'syn_type': u'UNIPROT'}, {u'component_synonym': u'Beta-2 adrenoreceptor', u'syn_type': u'UNIPROT'}]}</td>\n",
       "      <td>SINGLE PROTEIN</td>\n",
       "    </tr>\n",
       "    <tr>\n",
       "      <th>2</th>\n",
       "      <td>CHEMBL3252</td>\n",
       "      <td>10.345744</td>\n",
       "      <td>0.871797</td>\n",
       "      <td>Rattus norvegicus</td>\n",
       "      <td>Beta-1 adrenergic receptor</td>\n",
       "      <td>False</td>\n",
       "      <td>CHEMBL3252</td>\n",
       "      <td>{u'component_id': 1573, u'accession': u'P18090', u'component_type': u'PROTEIN', u'target_component_synonyms': [{u'component_synonym': u'Adrb1', u'syn_type': u'GENE_SYMBOL'}, {u'component_synonym': u'Adrb1r', u'syn_type': u'GENE_SYMBOL'}, {u'component_synonym': u'Beta-1 adrenergic receptor', u'syn_type': u'UNIPROT'}, {u'component_synonym': u'Beta-1 adrenoceptor', u'syn_type': u'UNIPROT'}, {u'component_synonym': u'Beta-1 adrenoreceptor', u'syn_type': u'UNIPROT'}]}</td>\n",
       "      <td>SINGLE PROTEIN</td>\n",
       "    </tr>\n",
       "    <tr>\n",
       "      <th>3</th>\n",
       "      <td>CHEMBL213</td>\n",
       "      <td>6.710974</td>\n",
       "      <td>0.673253</td>\n",
       "      <td>Homo sapiens</td>\n",
       "      <td>Beta-1 adrenergic receptor</td>\n",
       "      <td>False</td>\n",
       "      <td>CHEMBL213</td>\n",
       "      <td>{u'component_id': 185, u'accession': u'P08588', u'component_type': u'PROTEIN', u'target_component_synonyms': [{u'component_synonym': u'ADRB1', u'syn_type': u'GENE_SYMBOL'}, {u'component_synonym': u'ADRB1R ', u'syn_type': u'GENE_SYMBOL'}, {u'component_synonym': u'B1AR', u'syn_type': u'GENE_SYMBOL'}, {u'component_synonym': u'Beta-1 adrenergic receptor', u'syn_type': u'UNIPROT'}, {u'component_synonym': u'Beta-1 adrenoceptor', u'syn_type': u'UNIPROT'}, {u'component_synonym': u'Beta-1 adrenoreceptor', u'syn_type': u'UNIPROT'}]}</td>\n",
       "      <td>SINGLE PROTEIN</td>\n",
       "    </tr>\n",
       "    <tr>\n",
       "      <th>4</th>\n",
       "      <td>CHEMBL275</td>\n",
       "      <td>6.395985</td>\n",
       "      <td>0.514802</td>\n",
       "      <td>Homo sapiens</td>\n",
       "      <td>Phosphodiesterase 4B</td>\n",
       "      <td>False</td>\n",
       "      <td>CHEMBL275</td>\n",
       "      <td>{u'component_id': 2177, u'accession': u'Q07343', u'component_type': u'PROTEIN', u'target_component_synonyms': [{u'component_synonym': u'3.1.4.53', u'syn_type': u'EC_NUMBER'}, {u'component_synonym': u'DPDE4', u'syn_type': u'GENE_SYMBOL'}, {u'component_synonym': u'DPDE4', u'syn_type': u'UNIPROT'}, {u'component_synonym': u'PDE32', u'syn_type': u'UNIPROT'}, {u'component_synonym': u'PDE4B', u'syn_type': u'GENE_SYMBOL'}, {u'component_synonym': u'cAMP-specific 3',5'-cyclic phosphodiesterase 4B', u'syn_type': u'UNIPROT'}]}</td>\n",
       "      <td>SINGLE PROTEIN</td>\n",
       "    </tr>\n",
       "    <tr>\n",
       "      <th>5</th>\n",
       "      <td>CHEMBL3397</td>\n",
       "      <td>-4.369562</td>\n",
       "      <td>0.000175</td>\n",
       "      <td>Homo sapiens</td>\n",
       "      <td>Cytochrome P450 2C9</td>\n",
       "      <td>False</td>\n",
       "      <td>CHEMBL3397</td>\n",
       "      <td>{u'component_id': 1718, u'accession': u'P11712', u'component_type': u'PROTEIN', u'target_component_synonyms': [{u'component_synonym': u'(R)-limonene 6-monooxygenase', u'syn_type': u'UNIPROT'}, {u'component_synonym': u'(S)-limonene 6-monooxygenase', u'syn_type': u'UNIPROT'}, {u'component_synonym': u'(S)-limonene 7-monooxygenase', u'syn_type': u'UNIPROT'}, {u'component_synonym': u'1.14.13.-', u'syn_type': u'EC_NUMBER'}, {u'component_synonym': u'1.14.13.48', u'syn_type': u'EC_NUMBER'}, {u'component_synonym': u'1.14.13.49', u'syn_type': u'EC_NUMBER'}, {u'component_synonym': u'1.14.13.80', u'syn_type': u'EC_NUMBER'}, {u'component_synonym': u'CYP2C10', u'syn_type': u'GENE_SYMBOL'}, {u'component_synonym': u'CYP2C9', u'syn_type': u'GENE_SYMBOL'}, {u'component_synonym': u'CYPIIC9', u'syn_type': u'UNIPROT'}, {u'component_synonym': u'Cytochrome P-450MP', u'syn_type': u'UNIPROT'}, {u'component_synonym': u'Cytochrome P450 2C9', u'syn_type': u'UNIPROT'}, {u'component_synonym': u'Cytochrome P450 MP-4', u'syn_type': u'UNIPROT'}, {u'component_synonym': u'Cytochrome P450 MP-8', u'syn_type': u'UNIPROT'}, {u'component_synonym': u'Cytochrome P450 PB-1', u'syn_type': u'UNIPROT'}, {u'component_synonym': u'S-mephenytoin 4-hydroxylase', u'syn_type': u'UNIPROT'}]}</td>\n",
       "      <td>SINGLE PROTEIN</td>\n",
       "    </tr>\n",
       "    <tr>\n",
       "      <th>6</th>\n",
       "      <td>CHEMBL340</td>\n",
       "      <td>-6.045646</td>\n",
       "      <td>0.000043</td>\n",
       "      <td>Homo sapiens</td>\n",
       "      <td>Cytochrome P450 3A4</td>\n",
       "      <td>False</td>\n",
       "      <td>CHEMBL340</td>\n",
       "      <td>{u'component_id': 151, u'accession': u'P08684', u'component_type': u'PROTEIN', u'target_component_synonyms': [{u'component_synonym': u'1,8-cineole 2-exo-monooxygenase', u'syn_type': u'UNIPROT'}, {u'component_synonym': u'1.14.13.-', u'syn_type': u'EC_NUMBER'}, {u'component_synonym': u'1.14.13.157', u'syn_type': u'EC_NUMBER'}, {u'component_synonym': u'1.14.13.32', u'syn_type': u'EC_NUMBER'}, {u'component_synonym': u'1.14.13.67', u'syn_type': u'EC_NUMBER'}, {u'component_synonym': u'1.14.13.97', u'syn_type': u'EC_NUMBER'}, {u'component_synonym': u'Albendazole monooxygenase', u'syn_type': u'UNIPROT'}, {u'component_synonym': u'Albendazole sulfoxidase', u'syn_type': u'UNIPROT'}, {u'component_synonym': u'CYP3A3', u'syn_type': u'GENE_SYMBOL'}, {u'component_synonym': u'CYP3A4', u'syn_type': u'GENE_SYMBOL'}, {u'component_synonym': u'CYPIIIA3', u'syn_type': u'UNIPROT'}, {u'component_synonym': u'CYPIIIA4', u'syn_type': u'UNIPROT'}, {u'component_synonym': u'Cytochrome P450 3A3', u'syn_type': u'UNIPROT'}, {u'component_synonym': u'Cytochrome P450 3A4', u'syn_type': u'UNIPROT'}, {u'component_synonym': u'Cytochrome P450 HLp', u'syn_type': u'UNIPROT'}, {u'component_synonym': u'Cytochrome P450 NF-25', u'syn_type': u'UNIPROT'}, {u'component_synonym': u'Cytochrome P450-PCN1', u'syn_type': u'UNIPROT'}, {u'component_synonym': u'Nifedipine oxidase', u'syn_type': u'UNIPROT'}, {u'component_synonym': u'Quinine 3-monooxygenase', u'syn_type': u'UNIPROT'}, {u'component_synonym': u'Taurochenodeoxycholate 6-alpha-hydroxylase', u'syn_type': u'UNIPROT'}]}</td>\n",
       "      <td>SINGLE PROTEIN</td>\n",
       "    </tr>\n",
       "    <tr>\n",
       "      <th>7</th>\n",
       "      <td>CHEMBL3864</td>\n",
       "      <td>-2.923390</td>\n",
       "      <td>0.000028</td>\n",
       "      <td>Homo sapiens</td>\n",
       "      <td>Protein-tyrosine phosphatase 2C</td>\n",
       "      <td>False</td>\n",
       "      <td>CHEMBL3864</td>\n",
       "      <td>{u'component_id': 2182, u'accession': u'Q06124', u'component_type': u'PROTEIN', u'target_component_synonyms': [{u'component_synonym': u'3.1.3.48', u'syn_type': u'EC_NUMBER'}, {u'component_synonym': u'PTP-1D', u'syn_type': u'UNIPROT'}, {u'component_synonym': u'PTP-2C', u'syn_type': u'UNIPROT'}, {u'component_synonym': u'PTP2C ', u'syn_type': u'GENE_SYMBOL'}, {u'component_synonym': u'PTPN11', u'syn_type': u'GENE_SYMBOL'}, {u'component_synonym': u'Protein-tyrosine phosphatase 1D', u'syn_type': u'UNIPROT'}, {u'component_synonym': u'Protein-tyrosine phosphatase 2C', u'syn_type': u'UNIPROT'}, {u'component_synonym': u'SH-PTP2', u'syn_type': u'UNIPROT'}, {u'component_synonym': u'SH-PTP3', u'syn_type': u'UNIPROT'}, {u'component_synonym': u'SHP-2', u'syn_type': u'UNIPROT'}, {u'component_synonym': u'SHPTP2', u'syn_type': u'GENE_SYMBOL'}, {u'component_synonym': u'Shp2', u'syn_type': u'UNIPROT'}, {u'component_synonym': u'Tyrosine-protein phosphatase non-receptor type 11', u'syn_type': u'UNIPROT'}]}</td>\n",
       "      <td>SINGLE PROTEIN</td>\n",
       "    </tr>\n",
       "    <tr>\n",
       "      <th>8</th>\n",
       "      <td>CHEMBL1293224</td>\n",
       "      <td>-7.800963</td>\n",
       "      <td>0.000025</td>\n",
       "      <td>Homo sapiens</td>\n",
       "      <td>Microtubule-associated protein tau</td>\n",
       "      <td>False</td>\n",
       "      <td>CHEMBL1293224</td>\n",
       "      <td>{u'component_id': 5140, u'accession': u'P10636', u'component_type': u'PROTEIN', u'target_component_synonyms': [{u'component_synonym': u'MAPT', u'syn_type': u'GENE_SYMBOL'}, {u'component_synonym': u'MAPTL ', u'syn_type': u'GENE_SYMBOL'}, {u'component_synonym': u'MTBT1', u'syn_type': u'GENE_SYMBOL'}, {u'component_synonym': u'Microtubule-associated protein tau', u'syn_type': u'UNIPROT'}, {u'component_synonym': u'Neurofibrillary tangle protein', u'syn_type': u'UNIPROT'}, {u'component_synonym': u'PHF-tau', u'syn_type': u'UNIPROT'}, {u'component_synonym': u'Paired helical filament-tau', u'syn_type': u'UNIPROT'}, {u'component_synonym': u'TAU', u'syn_type': u'GENE_SYMBOL'}]}</td>\n",
       "      <td>SINGLE PROTEIN</td>\n",
       "    </tr>\n",
       "    <tr>\n",
       "      <th>9</th>\n",
       "      <td>CHEMBL5819</td>\n",
       "      <td>-3.884439</td>\n",
       "      <td>0.000009</td>\n",
       "      <td>Homo sapiens</td>\n",
       "      <td>Serine/threonine-protein kinase Nek4</td>\n",
       "      <td>False</td>\n",
       "      <td>CHEMBL5819</td>\n",
       "      <td>{u'component_id': 4263, u'accession': u'P51957', u'component_type': u'PROTEIN', u'target_component_synonyms': [{u'component_synonym': u'2.7.11.1', u'syn_type': u'EC_NUMBER'}, {u'component_synonym': u'NEK4', u'syn_type': u'GENE_SYMBOL'}, {u'component_synonym': u'Never in mitosis A-related kinase 4', u'syn_type': u'UNIPROT'}, {u'component_synonym': u'NimA-related protein kinase 4', u'syn_type': u'UNIPROT'}, {u'component_synonym': u'STK2', u'syn_type': u'GENE_SYMBOL'}, {u'component_synonym': u'Serine/threonine-protein kinase 2', u'syn_type': u'UNIPROT'}, {u'component_synonym': u'Serine/threonine-protein kinase NRK2', u'syn_type': u'UNIPROT'}, {u'component_synonym': u'Serine/threonine-protein kinase Nek4', u'syn_type': u'UNIPROT'}]}</td>\n",
       "      <td>SINGLE PROTEIN</td>\n",
       "    </tr>\n",
       "  </tbody>\n",
       "</table>\n",
       "</div>"
      ],
      "text/plain": [
       "              id      score     proba           organism                             pref_name species_group_flag target_chembl_id                                                                                                                                                                                                                                                                                                                                                                                                                                                                                                                                                                                                                                                                                                                                                                                                                                                                                                                                                                                                                                                                                                                                                                                                                                                                                                                                                                                                                                                                                                                                                                                           target_components     target_type\n",
       "0     CHEMBL5414  16.561540  0.999913    Cavia porcellus            Beta-2 adrenergic receptor              False       CHEMBL5414                                                                                                                                                                                                                                                                                                                                                                                                                                                                                                                                                                                                                                                                                                                                                                                                                                                                                                                                                                                                                                                                                                                                                                                          {u'component_id': 3708, u'accession': u'Q8K4Z4', u'component_type': u'PROTEIN', u'target_component_synonyms': [{u'component_synonym': u'Adrb2', u'syn_type': u'GENE_SYMBOL'}, {u'component_synonym': u'Beta-2 adrenergic receptor', u'syn_type': u'UNIPROT'}, {u'component_synonym': u'Beta-2 adrenoceptor', u'syn_type': u'UNIPROT'}, {u'component_synonym': u'Beta-2 adrenoreceptor', u'syn_type': u'UNIPROT'}]}  SINGLE PROTEIN\n",
       "1      CHEMBL210  11.221284  0.995277       Homo sapiens            Beta-2 adrenergic receptor              False        CHEMBL210                                                                                                                                                                                                                                                                                                                                                                                                                                                                                                                                                                                                                                                                                                                                                                                                                                                                                                                                                                                                                                                            {u'component_id': 213, u'accession': u'P07550', u'component_type': u'PROTEIN', u'target_component_synonyms': [{u'component_synonym': u'ADRB2', u'syn_type': u'GENE_SYMBOL'}, {u'component_synonym': u'ADRB2R ', u'syn_type': u'GENE_SYMBOL'}, {u'component_synonym': u'B2AR', u'syn_type': u'GENE_SYMBOL'}, {u'component_synonym': u'Beta-2 adrenergic receptor', u'syn_type': u'UNIPROT'}, {u'component_synonym': u'Beta-2 adrenoceptor', u'syn_type': u'UNIPROT'}, {u'component_synonym': u'Beta-2 adrenoreceptor', u'syn_type': u'UNIPROT'}]}  SINGLE PROTEIN\n",
       "2     CHEMBL3252  10.345744  0.871797  Rattus norvegicus            Beta-1 adrenergic receptor              False       CHEMBL3252                                                                                                                                                                                                                                                                                                                                                                                                                                                                                                                                                                                                                                                                                                                                                                                                                                                                                                                                                                                                                                                                                                                          {u'component_id': 1573, u'accession': u'P18090', u'component_type': u'PROTEIN', u'target_component_synonyms': [{u'component_synonym': u'Adrb1', u'syn_type': u'GENE_SYMBOL'}, {u'component_synonym': u'Adrb1r', u'syn_type': u'GENE_SYMBOL'}, {u'component_synonym': u'Beta-1 adrenergic receptor', u'syn_type': u'UNIPROT'}, {u'component_synonym': u'Beta-1 adrenoceptor', u'syn_type': u'UNIPROT'}, {u'component_synonym': u'Beta-1 adrenoreceptor', u'syn_type': u'UNIPROT'}]}  SINGLE PROTEIN\n",
       "3      CHEMBL213   6.710974  0.673253       Homo sapiens            Beta-1 adrenergic receptor              False        CHEMBL213                                                                                                                                                                                                                                                                                                                                                                                                                                                                                                                                                                                                                                                                                                                                                                                                                                                                                                                                                                                                                                                            {u'component_id': 185, u'accession': u'P08588', u'component_type': u'PROTEIN', u'target_component_synonyms': [{u'component_synonym': u'ADRB1', u'syn_type': u'GENE_SYMBOL'}, {u'component_synonym': u'ADRB1R ', u'syn_type': u'GENE_SYMBOL'}, {u'component_synonym': u'B1AR', u'syn_type': u'GENE_SYMBOL'}, {u'component_synonym': u'Beta-1 adrenergic receptor', u'syn_type': u'UNIPROT'}, {u'component_synonym': u'Beta-1 adrenoceptor', u'syn_type': u'UNIPROT'}, {u'component_synonym': u'Beta-1 adrenoreceptor', u'syn_type': u'UNIPROT'}]}  SINGLE PROTEIN\n",
       "4      CHEMBL275   6.395985  0.514802       Homo sapiens                  Phosphodiesterase 4B              False        CHEMBL275                                                                                                                                                                                                                                                                                                                                                                                                                                                                                                                                                                                                                                                                                                                                                                                                                                                                                                                                                                                                                                                                    {u'component_id': 2177, u'accession': u'Q07343', u'component_type': u'PROTEIN', u'target_component_synonyms': [{u'component_synonym': u'3.1.4.53', u'syn_type': u'EC_NUMBER'}, {u'component_synonym': u'DPDE4', u'syn_type': u'GENE_SYMBOL'}, {u'component_synonym': u'DPDE4', u'syn_type': u'UNIPROT'}, {u'component_synonym': u'PDE32', u'syn_type': u'UNIPROT'}, {u'component_synonym': u'PDE4B', u'syn_type': u'GENE_SYMBOL'}, {u'component_synonym': u'cAMP-specific 3',5'-cyclic phosphodiesterase 4B', u'syn_type': u'UNIPROT'}]}  SINGLE PROTEIN\n",
       "5     CHEMBL3397  -4.369562  0.000175       Homo sapiens                   Cytochrome P450 2C9              False       CHEMBL3397                                                                                                                                                                                                                                                                                                  {u'component_id': 1718, u'accession': u'P11712', u'component_type': u'PROTEIN', u'target_component_synonyms': [{u'component_synonym': u'(R)-limonene 6-monooxygenase', u'syn_type': u'UNIPROT'}, {u'component_synonym': u'(S)-limonene 6-monooxygenase', u'syn_type': u'UNIPROT'}, {u'component_synonym': u'(S)-limonene 7-monooxygenase', u'syn_type': u'UNIPROT'}, {u'component_synonym': u'1.14.13.-', u'syn_type': u'EC_NUMBER'}, {u'component_synonym': u'1.14.13.48', u'syn_type': u'EC_NUMBER'}, {u'component_synonym': u'1.14.13.49', u'syn_type': u'EC_NUMBER'}, {u'component_synonym': u'1.14.13.80', u'syn_type': u'EC_NUMBER'}, {u'component_synonym': u'CYP2C10', u'syn_type': u'GENE_SYMBOL'}, {u'component_synonym': u'CYP2C9', u'syn_type': u'GENE_SYMBOL'}, {u'component_synonym': u'CYPIIC9', u'syn_type': u'UNIPROT'}, {u'component_synonym': u'Cytochrome P-450MP', u'syn_type': u'UNIPROT'}, {u'component_synonym': u'Cytochrome P450 2C9', u'syn_type': u'UNIPROT'}, {u'component_synonym': u'Cytochrome P450 MP-4', u'syn_type': u'UNIPROT'}, {u'component_synonym': u'Cytochrome P450 MP-8', u'syn_type': u'UNIPROT'}, {u'component_synonym': u'Cytochrome P450 PB-1', u'syn_type': u'UNIPROT'}, {u'component_synonym': u'S-mephenytoin 4-hydroxylase', u'syn_type': u'UNIPROT'}]}  SINGLE PROTEIN\n",
       "6      CHEMBL340  -6.045646  0.000043       Homo sapiens                   Cytochrome P450 3A4              False        CHEMBL340  {u'component_id': 151, u'accession': u'P08684', u'component_type': u'PROTEIN', u'target_component_synonyms': [{u'component_synonym': u'1,8-cineole 2-exo-monooxygenase', u'syn_type': u'UNIPROT'}, {u'component_synonym': u'1.14.13.-', u'syn_type': u'EC_NUMBER'}, {u'component_synonym': u'1.14.13.157', u'syn_type': u'EC_NUMBER'}, {u'component_synonym': u'1.14.13.32', u'syn_type': u'EC_NUMBER'}, {u'component_synonym': u'1.14.13.67', u'syn_type': u'EC_NUMBER'}, {u'component_synonym': u'1.14.13.97', u'syn_type': u'EC_NUMBER'}, {u'component_synonym': u'Albendazole monooxygenase', u'syn_type': u'UNIPROT'}, {u'component_synonym': u'Albendazole sulfoxidase', u'syn_type': u'UNIPROT'}, {u'component_synonym': u'CYP3A3', u'syn_type': u'GENE_SYMBOL'}, {u'component_synonym': u'CYP3A4', u'syn_type': u'GENE_SYMBOL'}, {u'component_synonym': u'CYPIIIA3', u'syn_type': u'UNIPROT'}, {u'component_synonym': u'CYPIIIA4', u'syn_type': u'UNIPROT'}, {u'component_synonym': u'Cytochrome P450 3A3', u'syn_type': u'UNIPROT'}, {u'component_synonym': u'Cytochrome P450 3A4', u'syn_type': u'UNIPROT'}, {u'component_synonym': u'Cytochrome P450 HLp', u'syn_type': u'UNIPROT'}, {u'component_synonym': u'Cytochrome P450 NF-25', u'syn_type': u'UNIPROT'}, {u'component_synonym': u'Cytochrome P450-PCN1', u'syn_type': u'UNIPROT'}, {u'component_synonym': u'Nifedipine oxidase', u'syn_type': u'UNIPROT'}, {u'component_synonym': u'Quinine 3-monooxygenase', u'syn_type': u'UNIPROT'}, {u'component_synonym': u'Taurochenodeoxycholate 6-alpha-hydroxylase', u'syn_type': u'UNIPROT'}]}  SINGLE PROTEIN\n",
       "7     CHEMBL3864  -2.923390  0.000028       Homo sapiens       Protein-tyrosine phosphatase 2C              False       CHEMBL3864                                                                                                                                                                                                                                                                                                                                                                                                                                                                                                                                                                     {u'component_id': 2182, u'accession': u'Q06124', u'component_type': u'PROTEIN', u'target_component_synonyms': [{u'component_synonym': u'3.1.3.48', u'syn_type': u'EC_NUMBER'}, {u'component_synonym': u'PTP-1D', u'syn_type': u'UNIPROT'}, {u'component_synonym': u'PTP-2C', u'syn_type': u'UNIPROT'}, {u'component_synonym': u'PTP2C ', u'syn_type': u'GENE_SYMBOL'}, {u'component_synonym': u'PTPN11', u'syn_type': u'GENE_SYMBOL'}, {u'component_synonym': u'Protein-tyrosine phosphatase 1D', u'syn_type': u'UNIPROT'}, {u'component_synonym': u'Protein-tyrosine phosphatase 2C', u'syn_type': u'UNIPROT'}, {u'component_synonym': u'SH-PTP2', u'syn_type': u'UNIPROT'}, {u'component_synonym': u'SH-PTP3', u'syn_type': u'UNIPROT'}, {u'component_synonym': u'SHP-2', u'syn_type': u'UNIPROT'}, {u'component_synonym': u'SHPTP2', u'syn_type': u'GENE_SYMBOL'}, {u'component_synonym': u'Shp2', u'syn_type': u'UNIPROT'}, {u'component_synonym': u'Tyrosine-protein phosphatase non-receptor type 11', u'syn_type': u'UNIPROT'}]}  SINGLE PROTEIN\n",
       "8  CHEMBL1293224  -7.800963  0.000025       Homo sapiens    Microtubule-associated protein tau              False    CHEMBL1293224                                                                                                                                                                                                                                                                                                                                                                                                                                                                                                                                                                                                                                                                                                                                                                                                                                                                                                         {u'component_id': 5140, u'accession': u'P10636', u'component_type': u'PROTEIN', u'target_component_synonyms': [{u'component_synonym': u'MAPT', u'syn_type': u'GENE_SYMBOL'}, {u'component_synonym': u'MAPTL ', u'syn_type': u'GENE_SYMBOL'}, {u'component_synonym': u'MTBT1', u'syn_type': u'GENE_SYMBOL'}, {u'component_synonym': u'Microtubule-associated protein tau', u'syn_type': u'UNIPROT'}, {u'component_synonym': u'Neurofibrillary tangle protein', u'syn_type': u'UNIPROT'}, {u'component_synonym': u'PHF-tau', u'syn_type': u'UNIPROT'}, {u'component_synonym': u'Paired helical filament-tau', u'syn_type': u'UNIPROT'}, {u'component_synonym': u'TAU', u'syn_type': u'GENE_SYMBOL'}]}  SINGLE PROTEIN\n",
       "9     CHEMBL5819  -3.884439  0.000009       Homo sapiens  Serine/threonine-protein kinase Nek4              False       CHEMBL5819                                                                                                                                                                                                                                                                                                                                                                                                                                                                                                                                                                                                                                                                                                                                                                                                                                          {u'component_id': 4263, u'accession': u'P51957', u'component_type': u'PROTEIN', u'target_component_synonyms': [{u'component_synonym': u'2.7.11.1', u'syn_type': u'EC_NUMBER'}, {u'component_synonym': u'NEK4', u'syn_type': u'GENE_SYMBOL'}, {u'component_synonym': u'Never in mitosis A-related kinase 4', u'syn_type': u'UNIPROT'}, {u'component_synonym': u'NimA-related protein kinase 4', u'syn_type': u'UNIPROT'}, {u'component_synonym': u'STK2', u'syn_type': u'GENE_SYMBOL'}, {u'component_synonym': u'Serine/threonine-protein kinase 2', u'syn_type': u'UNIPROT'}, {u'component_synonym': u'Serine/threonine-protein kinase NRK2', u'syn_type': u'UNIPROT'}, {u'component_synonym': u'Serine/threonine-protein kinase Nek4', u'syn_type': u'UNIPROT'}]}  SINGLE PROTEIN"
      ]
     },
     "execution_count": 27,
     "metadata": {},
     "output_type": "execute_result"
    }
   ],
   "source": [
    "result"
   ]
  },
  {
   "cell_type": "markdown",
   "metadata": {},
   "source": [
    "Not bad! The model retrieved the correct targets in the top 4 predictions out of a pool of 1342 targets."
   ]
  },
  {
   "cell_type": "markdown",
   "metadata": {},
   "source": [
    "### Feature contribution"
   ]
  },
  {
   "cell_type": "markdown",
   "metadata": {},
   "source": [
    "Now let's look at contributions of specific substructural features to the PDE4 predictions. Which features of the active molecules in the training set were the most important?"
   ]
  },
  {
   "cell_type": "code",
   "execution_count": 28,
   "metadata": {
    "collapsed": false
   },
   "outputs": [],
   "source": [
    "bit_scores = (morgan_nb.estimators_[classes.index(result['id'][2])].feature_log_prob_[1] - morgan_nb.estimators_[classes.index(result['id'][2])].feature_log_prob_[0])*fp"
   ]
  },
  {
   "cell_type": "markdown",
   "metadata": {},
   "source": [
    "The snippet below maps the specific bits back to atomic environments"
   ]
  },
  {
   "cell_type": "code",
   "execution_count": 29,
   "metadata": {
    "collapsed": false
   },
   "outputs": [],
   "source": [
    "frags = OrderedDict()\n",
    "for k in info.keys():\n",
    "    if bit_scores[k] > 0.1:\n",
    "        atomId,radius = info[k][0]\n",
    "        env=Chem.FindAtomEnvironmentOfRadiusN(mol,radius,atomId)\n",
    "        ats = set([atomId])\n",
    "        for bidx in env:\n",
    "            bond = mol.GetBondWithIdx(bidx)\n",
    "            ats.add(bond.GetBeginAtomIdx())\n",
    "            ats.add(bond.GetEndAtomIdx())\n",
    "            frag = Chem.MolFragmentToSmiles(mol,atomsToUse=list(ats),bondsToUse=env,rootedAtAtom=atomId)\n",
    "            legend = str(round(bit_scores[k],2))\n",
    "            frags[k] = (legend,frag)"
   ]
  },
  {
   "cell_type": "code",
   "execution_count": 30,
   "metadata": {
    "collapsed": false
   },
   "outputs": [],
   "source": [
    "legends = [l[1][0] for l in sorted(frags.items(), key=lambda t: t[1][0], reverse=True)][:10]\n",
    "ffrags = [l[1][1] for l in sorted(frags.items(), key=lambda t: t[1][0], reverse=True)][:10]"
   ]
  },
  {
   "cell_type": "code",
   "execution_count": 31,
   "metadata": {
    "collapsed": false
   },
   "outputs": [],
   "source": [
    "fmols=[Chem.MolFromSmarts(s) for s in ffrags]"
   ]
  },
  {
   "cell_type": "markdown",
   "metadata": {},
   "source": [
    "This was the original molecule"
   ]
  },
  {
   "cell_type": "code",
   "execution_count": 32,
   "metadata": {
    "collapsed": false
   },
   "outputs": [
    {
     "data": {
      "image/png": "[encoded data removed]",
      "text/plain": [
       "<rdkit.Chem.rdchem.Mol at 0x53c4670>"
      ]
     },
     "execution_count": 32,
     "metadata": {},
     "output_type": "execute_result"
    }
   ],
   "source": [
    "mol"
   ]
  },
  {
   "cell_type": "markdown",
   "metadata": {},
   "source": [
    "And these are its most important features, based on their enrichent in PDE4B actives in ChEMBL. The legend is the Bayesian score for each feature. "
   ]
  },
  {
   "cell_type": "code",
   "execution_count": 33,
   "metadata": {
    "collapsed": false
   },
   "outputs": [
    {
     "data": {
      "image/png": "[encoded data removed]",
      "text/plain": [
       "<PIL.Image.Image image mode=RGBA size=1000x400 at 0x7296758>"
      ]
     },
     "execution_count": 33,
     "metadata": {},
     "output_type": "execute_result"
    }
   ],
   "source": [
    "Draw.MolsToGridImage(fmols, molsPerRow=5, legends=legends)"
   ]
  },
  {
   "cell_type": "code",
   "execution_count": 62,
   "metadata": {
    "collapsed": false
   },
   "outputs": [],
   "source": []
  }
 ],
 "metadata": {
  "kernelspec": {
   "display_name": "Python 2",
   "language": "python",
   "name": "python2"
  },
  "language_info": {
   "codemirror_mode": {
    "name": "ipython",
    "version": 2
   },
   "file_extension": ".py",
   "mimetype": "text/x-python",
   "name": "python",
   "nbconvert_exporter": "python",
   "pygments_lexer": "ipython2",
   "version": "2.7.5"
  }
 },
 "nbformat": 4,
 "nbformat_minor": 0
}
