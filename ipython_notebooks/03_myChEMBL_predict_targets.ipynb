{
 "metadata": {
  "name": "",
  "signature": "sha256:cc7b8bc6d5a0b71f67371f61ee3d01eb2eb6231d84d7bfebc764d6f3948b2188"
 },
 "nbformat": 3,
 "nbformat_minor": 0,
 "worksheets": [
  {
   "cells": [
    {
     "cell_type": "heading",
     "level": 1,
     "metadata": {},
     "source": [
      "Ligand-based Target Prediction Tutorial"
     ]
    },
    {
     "cell_type": "heading",
     "level": 3,
     "metadata": {},
     "source": [
      "myChEMBL team, ChEMBL Group, EMBL-EBI."
     ]
    },
    {
     "cell_type": "markdown",
     "metadata": {},
     "source": [
      "This is a short tutorial on getting target predictions based on the current multi-category Naive Bayesian [ChEMBL_XXX models](http://chembl.blogspot.co.uk/2014/04/ligand-based-target-predictions-in.html) for a single molecule input. The predictions are ranked by the output classifier probability or score."
     ]
    },
    {
     "cell_type": "markdown",
     "metadata": {},
     "source": [
      "Outline of the tutorial:\n",
      "* Input a molecule to get target predictions for it\n",
      "* Assess the predictions\n",
      "* Retrieve individual feature contributions for a prediction"
     ]
    },
    {
     "cell_type": "markdown",
     "metadata": {},
     "source": [
      "The two models are under ~/models"
     ]
    },
    {
     "cell_type": "markdown",
     "metadata": {},
     "source": [
      "First of all, import the necessary modules:"
     ]
    },
    {
     "cell_type": "code",
     "collapsed": false,
     "input": [
      "from rdkit.Chem import AllChem as Chem\n",
      "from rdkit.Chem.Draw import IPythonConsole\n",
      "from rdkit.Chem import PandasTools\n",
      "from rdkit.Chem import Draw\n",
      "\n",
      "import pandas as pd\n",
      "from pandas import concat\n",
      "\n",
      "from collections import OrderedDict\n",
      "\n",
      "from chembl_webresource_client import *\n",
      "from chembl_webresource_client.settings import Settings\n",
      "import warnings\n",
      "warnings.filterwarnings('ignore')"
     ],
     "language": "python",
     "metadata": {},
     "outputs": [],
     "prompt_number": 32
    },
    {
     "cell_type": "code",
     "collapsed": false,
     "input": [
      "# By default, the API connects to the main ChEMBL database; set it to use the local version (i.e. myChEMBL) instead...\n",
      "\n",
      "Settings.Instance().WEBSERVICE_DOMAIN = 'localhost'\n",
      "Settings.Instance().WEBSERVICE_PROTOCOL = 'http'\n",
      "\n",
      "#If your VM is slow, you can consider increasing timeout from default 3 seconds, just uncomment line below:\n",
      "Settings.Instance().TIMEOUT = 120"
     ],
     "language": "python",
     "metadata": {},
     "outputs": [],
     "prompt_number": 33
    },
    {
     "cell_type": "code",
     "collapsed": false,
     "input": [
      "from sklearn.externals import joblib"
     ],
     "language": "python",
     "metadata": {},
     "outputs": [],
     "prompt_number": 34
    },
    {
     "cell_type": "code",
     "collapsed": false,
     "input": [
      "rcParams['figure.figsize'] = 10,10"
     ],
     "language": "python",
     "metadata": {},
     "outputs": [],
     "prompt_number": 35
    },
    {
     "cell_type": "markdown",
     "metadata": {},
     "source": [
      "A couple of utility functions:"
     ]
    },
    {
     "cell_type": "code",
     "collapsed": false,
     "input": [
      "def calc_scores(classes):\n",
      "    p = []\n",
      "    for c in classes:\n",
      "        p.append(pred_score(c))\n",
      "    return p"
     ],
     "language": "python",
     "metadata": {},
     "outputs": [],
     "prompt_number": 36
    },
    {
     "cell_type": "code",
     "collapsed": false,
     "input": [
      "def pred_score(trgt):\n",
      "    diff = morgan_nb.estimators_[classes.index(trgt)].feature_log_prob_[1] - morgan_nb.estimators_[classes.index(trgt)].feature_log_prob_[0]\n",
      "    return sum(diff*fp)"
     ],
     "language": "python",
     "metadata": {},
     "outputs": [],
     "prompt_number": 37
    },
    {
     "cell_type": "markdown",
     "metadata": {},
     "source": [
      "Load one of the two models:"
     ]
    },
    {
     "cell_type": "code",
     "collapsed": false,
     "input": [
      "morgan_nb = joblib.load('../models/10uM/mNB_10uM_all.pkl')"
     ],
     "language": "python",
     "metadata": {},
     "outputs": [],
     "prompt_number": 38
    },
    {
     "cell_type": "code",
     "collapsed": false,
     "input": [
      "classes = list(morgan_nb.classes_)"
     ],
     "language": "python",
     "metadata": {},
     "outputs": [],
     "prompt_number": 39
    },
    {
     "cell_type": "markdown",
     "metadata": {},
     "source": [
      "Check the number of classses/targets:"
     ]
    },
    {
     "cell_type": "code",
     "collapsed": false,
     "input": [
      "len(classes)"
     ],
     "language": "python",
     "metadata": {},
     "outputs": [
      {
       "metadata": {},
       "output_type": "pyout",
       "prompt_number": 40,
       "text": [
        "1342"
       ]
      }
     ],
     "prompt_number": 40
    },
    {
     "cell_type": "heading",
     "level": 3,
     "metadata": {},
     "source": [
      "Get predictions for a compound"
     ]
    },
    {
     "cell_type": "markdown",
     "metadata": {},
     "source": [
      "Let's use a molecule (GS-5759) found in [this](http://www.ncbi.nlm.nih.gov/pubmed/24513870) publication. It is a novel compound (not in ChEMBL) reported to have dual activity against PDE4 and beta-2 adrenergic receptor. "
     ]
    },
    {
     "cell_type": "code",
     "collapsed": false,
     "input": [
      "smiles = 'O[C@@H](CNCCCC#CC1=CC=C(C=C1)NC(=O)C=1C=C(C=CC1)S(=O)(=O)C=1C=C2C(=C(C=NC2=C(C1)C)C(=O)N)NC1=CC(=CC=C1)OC)C1=C2C=CC(NC2=C(C=C1)O)=O'"
     ],
     "language": "python",
     "metadata": {},
     "outputs": [],
     "prompt_number": 41
    },
    {
     "cell_type": "code",
     "collapsed": false,
     "input": [
      "mol = Chem.MolFromSmiles(smiles)"
     ],
     "language": "python",
     "metadata": {},
     "outputs": [],
     "prompt_number": 42
    },
    {
     "cell_type": "code",
     "collapsed": false,
     "input": [
      "mol"
     ],
     "language": "python",
     "metadata": {},
     "outputs": [
      {
       "metadata": {},
       "output_type": "pyout",
       "png": "[encoded data removed]",
       "prompt_number": 43,
       "text": [
        "<rdkit.Chem.rdchem.Mol at 0x7f2066f42670>"
       ]
      }
     ],
     "prompt_number": 43
    },
    {
     "cell_type": "markdown",
     "metadata": {},
     "source": [
      "Convert to the Morgan fingerprint and save the bit dictionary for later..."
     ]
    },
    {
     "cell_type": "code",
     "collapsed": false,
     "input": [
      "info={}\n",
      "fp = Chem.GetMorganFingerprintAsBitVect(mol,2,nBits=2048, bitInfo=info)"
     ],
     "language": "python",
     "metadata": {},
     "outputs": [],
     "prompt_number": 44
    },
    {
     "cell_type": "markdown",
     "metadata": {},
     "source": [
      "Get the predictions in a Pandas frame"
     ]
    },
    {
     "cell_type": "code",
     "collapsed": false,
     "input": [
      "predictions = pd.DataFrame(zip(classes, calc_scores(classes),list(morgan_nb.predict_proba(fp)[0])),columns=['id','score','proba'])"
     ],
     "language": "python",
     "metadata": {},
     "outputs": [],
     "prompt_number": 45
    },
    {
     "cell_type": "code",
     "collapsed": false,
     "input": [
      "predictions.head()"
     ],
     "language": "python",
     "metadata": {},
     "outputs": [
      {
       "html": [
        "<div style=\"max-height:1000px;max-width:1500px;overflow:auto;\">\n",
        "<table border=\"1\" class=\"dataframe\">\n",
        "  <thead>\n",
        "    <tr style=\"text-align: right;\">\n",
        "      <th></th>\n",
        "      <th>id</th>\n",
        "      <th>score</th>\n",
        "      <th>proba</th>\n",
        "    </tr>\n",
        "  </thead>\n",
        "  <tbody>\n",
        "    <tr>\n",
        "      <th>0</th>\n",
        "      <td> CHEMBL1075051</td>\n",
        "      <td>-50.269763</td>\n",
        "      <td> 3.222449e-26</td>\n",
        "    </tr>\n",
        "    <tr>\n",
        "      <th>1</th>\n",
        "      <td> CHEMBL1075104</td>\n",
        "      <td>-25.021314</td>\n",
        "      <td> 1.240890e-14</td>\n",
        "    </tr>\n",
        "    <tr>\n",
        "      <th>2</th>\n",
        "      <td> CHEMBL1075108</td>\n",
        "      <td>-76.221010</td>\n",
        "      <td> 7.768201e-38</td>\n",
        "    </tr>\n",
        "    <tr>\n",
        "      <th>3</th>\n",
        "      <td> CHEMBL1075111</td>\n",
        "      <td>-81.605693</td>\n",
        "      <td> 3.295496e-40</td>\n",
        "    </tr>\n",
        "    <tr>\n",
        "      <th>4</th>\n",
        "      <td> CHEMBL1075115</td>\n",
        "      <td>-12.095638</td>\n",
        "      <td> 1.235525e-09</td>\n",
        "    </tr>\n",
        "  </tbody>\n",
        "</table>\n",
        "</div>"
       ],
       "metadata": {},
       "output_type": "pyout",
       "prompt_number": 46,
       "text": [
        "              id      score         proba\n",
        "0  CHEMBL1075051 -50.269763  3.222449e-26\n",
        "1  CHEMBL1075104 -25.021314  1.240890e-14\n",
        "2  CHEMBL1075108 -76.221010  7.768201e-38\n",
        "3  CHEMBL1075111 -81.605693  3.295496e-40\n",
        "4  CHEMBL1075115 -12.095638  1.235525e-09"
       ]
      }
     ],
     "prompt_number": 46
    },
    {
     "cell_type": "markdown",
     "metadata": {},
     "source": [
      "Let's check the distributions of prediction probability and score for the 1244 targets."
     ]
    },
    {
     "cell_type": "code",
     "collapsed": false,
     "input": [
      "predictions['proba'].hist()"
     ],
     "language": "python",
     "metadata": {},
     "outputs": [
      {
       "metadata": {},
       "output_type": "pyout",
       "prompt_number": 47,
       "text": [
        "<matplotlib.axes.AxesSubplot at 0x7f206015d550>"
       ]
      },
      {
       "metadata": {},
       "output_type": "display_data",
       "png": "[encoded data removed]",
       "text": [
        "<matplotlib.figure.Figure at 0x7f2060249090>"
       ]
      }
     ],
     "prompt_number": 47
    },
    {
     "cell_type": "code",
     "collapsed": false,
     "input": [
      "predictions['score'].hist()"
     ],
     "language": "python",
     "metadata": {},
     "outputs": [
      {
       "metadata": {},
       "output_type": "pyout",
       "prompt_number": 48,
       "text": [
        "<matplotlib.axes.AxesSubplot at 0x7f20600daa90>"
       ]
      },
      {
       "metadata": {},
       "output_type": "display_data",
       "png": "[encoded data removed]",
       "text": [
        "<matplotlib.figure.Figure at 0x7f2060208250>"
       ]
      }
     ],
     "prompt_number": 48
    },
    {
     "cell_type": "markdown",
     "metadata": {},
     "source": [
      "Sort by probability and take top 10."
     ]
    },
    {
     "cell_type": "code",
     "collapsed": false,
     "input": [
      "top_preds = predictions.sort(columns=['proba'],ascending=False).head(10)"
     ],
     "language": "python",
     "metadata": {},
     "outputs": [],
     "prompt_number": 49
    },
    {
     "cell_type": "code",
     "collapsed": false,
     "input": [
      "top_preds"
     ],
     "language": "python",
     "metadata": {},
     "outputs": [
      {
       "html": [
        "<div style=\"max-height:1000px;max-width:1500px;overflow:auto;\">\n",
        "<table border=\"1\" class=\"dataframe\">\n",
        "  <thead>\n",
        "    <tr style=\"text-align: right;\">\n",
        "      <th></th>\n",
        "      <th>id</th>\n",
        "      <th>score</th>\n",
        "      <th>proba</th>\n",
        "    </tr>\n",
        "  </thead>\n",
        "  <tbody>\n",
        "    <tr>\n",
        "      <th>1210</th>\n",
        "      <td>    CHEMBL5414</td>\n",
        "      <td> 13.725368</td>\n",
        "      <td> 0.998385</td>\n",
        "    </tr>\n",
        "    <tr>\n",
        "      <th>608 </th>\n",
        "      <td>    CHEMBL3252</td>\n",
        "      <td>  9.421035</td>\n",
        "      <td> 0.715839</td>\n",
        "    </tr>\n",
        "    <tr>\n",
        "      <th>224 </th>\n",
        "      <td>     CHEMBL210</td>\n",
        "      <td>  6.466131</td>\n",
        "      <td> 0.635678</td>\n",
        "    </tr>\n",
        "    <tr>\n",
        "      <th>441 </th>\n",
        "      <td>     CHEMBL275</td>\n",
        "      <td>  5.068963</td>\n",
        "      <td> 0.219674</td>\n",
        "    </tr>\n",
        "    <tr>\n",
        "      <th>230 </th>\n",
        "      <td>     CHEMBL213</td>\n",
        "      <td>  0.129760</td>\n",
        "      <td> 0.002834</td>\n",
        "    </tr>\n",
        "    <tr>\n",
        "      <th>660 </th>\n",
        "      <td>    CHEMBL3397</td>\n",
        "      <td> -4.056707</td>\n",
        "      <td> 0.000241</td>\n",
        "    </tr>\n",
        "    <tr>\n",
        "      <th>662 </th>\n",
        "      <td>     CHEMBL340</td>\n",
        "      <td> -5.904003</td>\n",
        "      <td> 0.000049</td>\n",
        "    </tr>\n",
        "    <tr>\n",
        "      <th>799 </th>\n",
        "      <td>    CHEMBL3864</td>\n",
        "      <td> -2.625547</td>\n",
        "      <td> 0.000038</td>\n",
        "    </tr>\n",
        "    <tr>\n",
        "      <th>30  </th>\n",
        "      <td> CHEMBL1293224</td>\n",
        "      <td> -7.597321</td>\n",
        "      <td> 0.000031</td>\n",
        "    </tr>\n",
        "    <tr>\n",
        "      <th>1289</th>\n",
        "      <td>    CHEMBL5819</td>\n",
        "      <td> -3.704959</td>\n",
        "      <td> 0.000011</td>\n",
        "    </tr>\n",
        "  </tbody>\n",
        "</table>\n",
        "</div>"
       ],
       "metadata": {},
       "output_type": "pyout",
       "prompt_number": 50,
       "text": [
        "                 id      score     proba\n",
        "1210     CHEMBL5414  13.725368  0.998385\n",
        "608      CHEMBL3252   9.421035  0.715839\n",
        "224       CHEMBL210   6.466131  0.635678\n",
        "441       CHEMBL275   5.068963  0.219674\n",
        "230       CHEMBL213   0.129760  0.002834\n",
        "660      CHEMBL3397  -4.056707  0.000241\n",
        "662       CHEMBL340  -5.904003  0.000049\n",
        "799      CHEMBL3864  -2.625547  0.000038\n",
        "30    CHEMBL1293224  -7.597321  0.000031\n",
        "1289     CHEMBL5819  -3.704959  0.000011"
       ]
      }
     ],
     "prompt_number": 50
    },
    {
     "cell_type": "markdown",
     "metadata": {},
     "source": [
      "Use ChEMBL WS to merge with target information"
     ]
    },
    {
     "cell_type": "code",
     "collapsed": false,
     "input": [
      "def fetch_WS(trgt):\n",
      "    targets = TargetResource()\n",
      "    return targets.get(trgt)"
     ],
     "language": "python",
     "metadata": {},
     "outputs": [],
     "prompt_number": 51
    },
    {
     "cell_type": "code",
     "collapsed": false,
     "input": [
      "plist = []\n",
      "for i,e in enumerate(top_preds['id']):\n",
      "    p = pd.DataFrame(fetch_WS(e), index=(i,))\n",
      "    plist.append(p)\n",
      "target_info = concat(plist)"
     ],
     "language": "python",
     "metadata": {},
     "outputs": [],
     "prompt_number": 52
    },
    {
     "cell_type": "code",
     "collapsed": false,
     "input": [
      "target_info.shape"
     ],
     "language": "python",
     "metadata": {},
     "outputs": [
      {
       "metadata": {},
       "output_type": "pyout",
       "prompt_number": 53,
       "text": [
        "(10, 10)"
       ]
      }
     ],
     "prompt_number": 53
    },
    {
     "cell_type": "code",
     "collapsed": false,
     "input": [
      "target_info"
     ],
     "language": "python",
     "metadata": {},
     "outputs": [
      {
       "html": [
        "<div style=\"max-height:1000px;max-width:1500px;overflow:auto;\">\n",
        "<table border=\"1\" class=\"dataframe\">\n",
        "  <thead>\n",
        "    <tr style=\"text-align: right;\">\n",
        "      <th></th>\n",
        "      <th>bioactivityCount</th>\n",
        "      <th>chemblId</th>\n",
        "      <th>compoundCount</th>\n",
        "      <th>description</th>\n",
        "      <th>geneNames</th>\n",
        "      <th>organism</th>\n",
        "      <th>preferredName</th>\n",
        "      <th>proteinAccession</th>\n",
        "      <th>synonyms</th>\n",
        "      <th>targetType</th>\n",
        "    </tr>\n",
        "  </thead>\n",
        "  <tbody>\n",
        "    <tr>\n",
        "      <th>0</th>\n",
        "      <td>  1068</td>\n",
        "      <td>    CHEMBL5414</td>\n",
        "      <td>   575</td>\n",
        "      <td>           Beta-2 adrenergic receptor</td>\n",
        "      <td> Unspecified</td>\n",
        "      <td>   Cavia porcellus</td>\n",
        "      <td>           Beta-2 adrenergic receptor</td>\n",
        "      <td> Q8K4Z4</td>\n",
        "      <td>                                                                                                                                                                                                                                                                                            Beta-2 adrenergic receptor,Beta-2 adrenoceptor,Beta-2 adrenoreceptor,Adrb2</td>\n",
        "      <td> SINGLE PROTEIN</td>\n",
        "    </tr>\n",
        "    <tr>\n",
        "      <th>1</th>\n",
        "      <td>   451</td>\n",
        "      <td>    CHEMBL3252</td>\n",
        "      <td>   313</td>\n",
        "      <td>           Beta-1 adrenergic receptor</td>\n",
        "      <td> Unspecified</td>\n",
        "      <td> Rattus norvegicus</td>\n",
        "      <td>           Beta-1 adrenergic receptor</td>\n",
        "      <td> P18090</td>\n",
        "      <td>                                                                                                                                                                                                                                                                                     Beta-1 adrenergic receptor,Adrb1r,Beta-1 adrenoceptor,Adrb1,Beta-1 adrenoreceptor</td>\n",
        "      <td> SINGLE PROTEIN</td>\n",
        "    </tr>\n",
        "    <tr>\n",
        "      <th>2</th>\n",
        "      <td>  6769</td>\n",
        "      <td>     CHEMBL210</td>\n",
        "      <td>  4386</td>\n",
        "      <td>           Beta-2 adrenergic receptor</td>\n",
        "      <td> Unspecified</td>\n",
        "      <td>      Homo sapiens</td>\n",
        "      <td>           Beta-2 adrenergic receptor</td>\n",
        "      <td> P07550</td>\n",
        "      <td>                                                                                                                                                                                                                                                                               Beta-2 adrenoreceptor,ADRB2,ADRB2R ,Beta-2 adrenergic receptor,B2AR,Beta-2 adrenoceptor</td>\n",
        "      <td> SINGLE PROTEIN</td>\n",
        "    </tr>\n",
        "    <tr>\n",
        "      <th>3</th>\n",
        "      <td>  1225</td>\n",
        "      <td>     CHEMBL275</td>\n",
        "      <td>  1078</td>\n",
        "      <td>                 Phosphodiesterase 4B</td>\n",
        "      <td> Unspecified</td>\n",
        "      <td>      Homo sapiens</td>\n",
        "      <td>                 Phosphodiesterase 4B</td>\n",
        "      <td> Q07343</td>\n",
        "      <td>                                                                                                                                                                                                                                                                                            cAMP-specific 3',5'-cyclic phosphodiesterase 4B,PDE32,DPDE4,3.1.4.53,PDE4B</td>\n",
        "      <td> SINGLE PROTEIN</td>\n",
        "    </tr>\n",
        "    <tr>\n",
        "      <th>4</th>\n",
        "      <td>  4451</td>\n",
        "      <td>     CHEMBL213</td>\n",
        "      <td>  2766</td>\n",
        "      <td>           Beta-1 adrenergic receptor</td>\n",
        "      <td> Unspecified</td>\n",
        "      <td>      Homo sapiens</td>\n",
        "      <td>           Beta-1 adrenergic receptor</td>\n",
        "      <td> P08588</td>\n",
        "      <td>                                                                                                                                                                                                                                                                               Beta-1 adrenergic receptor,ADRB1,ADRB1R ,Beta-1 adrenoceptor,B1AR,Beta-1 adrenoreceptor</td>\n",
        "      <td> SINGLE PROTEIN</td>\n",
        "    </tr>\n",
        "    <tr>\n",
        "      <th>5</th>\n",
        "      <td> 26469</td>\n",
        "      <td>    CHEMBL3397</td>\n",
        "      <td> 21350</td>\n",
        "      <td>                  Cytochrome P450 2C9</td>\n",
        "      <td> Unspecified</td>\n",
        "      <td>      Homo sapiens</td>\n",
        "      <td>                  Cytochrome P450 2C9</td>\n",
        "      <td> P11712</td>\n",
        "      <td>                                                                            S-mephenytoin 4-hydroxylase,Cytochrome P450 PB-1,1.14.13.-,(S)-limonene 6-monooxygenase,(S)-limonene 7-monooxygenase,Cytochrome P450 MP-8,1.14.13.49,CYPIIC9,1.14.13.48,Cytochrome P450 2C9,(R)-limonene 6-monooxygenase,Cytochrome P450 MP-4,CYP2C10,CYP2C9,Cytochrome P-450MP,1.14.13.80</td>\n",
        "      <td> SINGLE PROTEIN</td>\n",
        "    </tr>\n",
        "    <tr>\n",
        "      <th>6</th>\n",
        "      <td> 42295</td>\n",
        "      <td>     CHEMBL340</td>\n",
        "      <td> 26038</td>\n",
        "      <td>                  Cytochrome P450 3A4</td>\n",
        "      <td> Unspecified</td>\n",
        "      <td>      Homo sapiens</td>\n",
        "      <td>                  Cytochrome P450 3A4</td>\n",
        "      <td> P08684</td>\n",
        "      <td> 1.14.13.67,Cytochrome P450 3A4,Cytochrome P450-PCN1,Albendazole sulfoxidase,CYPIIIA4,Nifedipine oxidase,Albendazole monooxygenase,1.14.13.-,CYPIIIA3,Quinine 3-monooxygenase,CYP3A3,Cytochrome P450 3A3,1.14.13.157,CYP3A4,Cytochrome P450 NF-25,1.14.13.32,Cytochrome P450 HLp,Taurochenodeoxycholate 6-alpha-hydroxylase,1.14.13.97,1,8-cineole 2-exo-monooxygenase</td>\n",
        "      <td> SINGLE PROTEIN</td>\n",
        "    </tr>\n",
        "    <tr>\n",
        "      <th>7</th>\n",
        "      <td>   578</td>\n",
        "      <td>    CHEMBL3864</td>\n",
        "      <td>   528</td>\n",
        "      <td>      Protein-tyrosine phosphatase 2C</td>\n",
        "      <td> Unspecified</td>\n",
        "      <td>      Homo sapiens</td>\n",
        "      <td>      Protein-tyrosine phosphatase 2C</td>\n",
        "      <td> Q06124</td>\n",
        "      <td>                                                                                                                                                                              Protein-tyrosine phosphatase 2C,SH-PTP3,Tyrosine-protein phosphatase non-receptor type 11,Shp2,SH-PTP2,SHP-2,PTP2C ,PTPN11,PTP-2C,PTP-1D,SHPTP2,Protein-tyrosine phosphatase 1D,3.1.3.48</td>\n",
        "      <td> SINGLE PROTEIN</td>\n",
        "    </tr>\n",
        "    <tr>\n",
        "      <th>8</th>\n",
        "      <td> 94908</td>\n",
        "      <td> CHEMBL1293224</td>\n",
        "      <td> 66755</td>\n",
        "      <td>   Microtubule-associated protein tau</td>\n",
        "      <td> Unspecified</td>\n",
        "      <td>      Homo sapiens</td>\n",
        "      <td>   Microtubule-associated protein tau</td>\n",
        "      <td> P10636</td>\n",
        "      <td>                                                                                                                                                                                                                                           MTBT1,Paired helical filament-tau,TAU,PHF-tau,Microtubule-associated protein tau,MAPTL ,MAPT,Neurofibrillary tangle protein</td>\n",
        "      <td> SINGLE PROTEIN</td>\n",
        "    </tr>\n",
        "    <tr>\n",
        "      <th>9</th>\n",
        "      <td>   700</td>\n",
        "      <td>    CHEMBL5819</td>\n",
        "      <td>   674</td>\n",
        "      <td> Serine/threonine-protein kinase Nek4</td>\n",
        "      <td> Unspecified</td>\n",
        "      <td>      Homo sapiens</td>\n",
        "      <td> Serine/threonine-protein kinase Nek4</td>\n",
        "      <td> P51957</td>\n",
        "      <td>                                                                                                                                                                      Serine/threonine-protein kinase 2,STK2,Never in mitosis A-related kinase 4,Serine/threonine-protein kinase NRK2,2.7.11.1,NEK4,NimA-related protein kinase 4,Serine/threonine-protein kinase Nek4</td>\n",
        "      <td> SINGLE PROTEIN</td>\n",
        "    </tr>\n",
        "  </tbody>\n",
        "</table>\n",
        "</div>"
       ],
       "metadata": {},
       "output_type": "pyout",
       "prompt_number": 54,
       "text": [
        "   bioactivityCount       chemblId  compoundCount                           description    geneNames           organism                         preferredName proteinAccession                                                                                                                                                                                                                                                                                                                                                               synonyms      targetType\n",
        "0              1068     CHEMBL5414            575            Beta-2 adrenergic receptor  Unspecified    Cavia porcellus            Beta-2 adrenergic receptor           Q8K4Z4                                                                                                                                                                                                                                                                                             Beta-2 adrenergic receptor,Beta-2 adrenoceptor,Beta-2 adrenoreceptor,Adrb2  SINGLE PROTEIN\n",
        "1               451     CHEMBL3252            313            Beta-1 adrenergic receptor  Unspecified  Rattus norvegicus            Beta-1 adrenergic receptor           P18090                                                                                                                                                                                                                                                                                      Beta-1 adrenergic receptor,Adrb1r,Beta-1 adrenoceptor,Adrb1,Beta-1 adrenoreceptor  SINGLE PROTEIN\n",
        "2              6769      CHEMBL210           4386            Beta-2 adrenergic receptor  Unspecified       Homo sapiens            Beta-2 adrenergic receptor           P07550                                                                                                                                                                                                                                                                                Beta-2 adrenoreceptor,ADRB2,ADRB2R ,Beta-2 adrenergic receptor,B2AR,Beta-2 adrenoceptor  SINGLE PROTEIN\n",
        "3              1225      CHEMBL275           1078                  Phosphodiesterase 4B  Unspecified       Homo sapiens                  Phosphodiesterase 4B           Q07343                                                                                                                                                                                                                                                                                             cAMP-specific 3',5'-cyclic phosphodiesterase 4B,PDE32,DPDE4,3.1.4.53,PDE4B  SINGLE PROTEIN\n",
        "4              4451      CHEMBL213           2766            Beta-1 adrenergic receptor  Unspecified       Homo sapiens            Beta-1 adrenergic receptor           P08588                                                                                                                                                                                                                                                                                Beta-1 adrenergic receptor,ADRB1,ADRB1R ,Beta-1 adrenoceptor,B1AR,Beta-1 adrenoreceptor  SINGLE PROTEIN\n",
        "5             26469     CHEMBL3397          21350                   Cytochrome P450 2C9  Unspecified       Homo sapiens                   Cytochrome P450 2C9           P11712                                                                             S-mephenytoin 4-hydroxylase,Cytochrome P450 PB-1,1.14.13.-,(S)-limonene 6-monooxygenase,(S)-limonene 7-monooxygenase,Cytochrome P450 MP-8,1.14.13.49,CYPIIC9,1.14.13.48,Cytochrome P450 2C9,(R)-limonene 6-monooxygenase,Cytochrome P450 MP-4,CYP2C10,CYP2C9,Cytochrome P-450MP,1.14.13.80  SINGLE PROTEIN\n",
        "6             42295      CHEMBL340          26038                   Cytochrome P450 3A4  Unspecified       Homo sapiens                   Cytochrome P450 3A4           P08684  1.14.13.67,Cytochrome P450 3A4,Cytochrome P450-PCN1,Albendazole sulfoxidase,CYPIIIA4,Nifedipine oxidase,Albendazole monooxygenase,1.14.13.-,CYPIIIA3,Quinine 3-monooxygenase,CYP3A3,Cytochrome P450 3A3,1.14.13.157,CYP3A4,Cytochrome P450 NF-25,1.14.13.32,Cytochrome P450 HLp,Taurochenodeoxycholate 6-alpha-hydroxylase,1.14.13.97,1,8-cineole 2-exo-monooxygenase  SINGLE PROTEIN\n",
        "7               578     CHEMBL3864            528       Protein-tyrosine phosphatase 2C  Unspecified       Homo sapiens       Protein-tyrosine phosphatase 2C           Q06124                                                                                                                                                                               Protein-tyrosine phosphatase 2C,SH-PTP3,Tyrosine-protein phosphatase non-receptor type 11,Shp2,SH-PTP2,SHP-2,PTP2C ,PTPN11,PTP-2C,PTP-1D,SHPTP2,Protein-tyrosine phosphatase 1D,3.1.3.48  SINGLE PROTEIN\n",
        "8             94908  CHEMBL1293224          66755    Microtubule-associated protein tau  Unspecified       Homo sapiens    Microtubule-associated protein tau           P10636                                                                                                                                                                                                                                            MTBT1,Paired helical filament-tau,TAU,PHF-tau,Microtubule-associated protein tau,MAPTL ,MAPT,Neurofibrillary tangle protein  SINGLE PROTEIN\n",
        "9               700     CHEMBL5819            674  Serine/threonine-protein kinase Nek4  Unspecified       Homo sapiens  Serine/threonine-protein kinase Nek4           P51957                                                                                                                                                                       Serine/threonine-protein kinase 2,STK2,Never in mitosis A-related kinase 4,Serine/threonine-protein kinase NRK2,2.7.11.1,NEK4,NimA-related protein kinase 4,Serine/threonine-protein kinase Nek4  SINGLE PROTEIN"
       ]
      }
     ],
     "prompt_number": 54
    },
    {
     "cell_type": "markdown",
     "metadata": {},
     "source": [
      "Finally, let's get the complete top 10 target predictions in descreasing order of probability."
     ]
    },
    {
     "cell_type": "code",
     "collapsed": false,
     "input": [
      "result = pd.merge(top_preds, target_info, left_on='id', right_on='chemblId')"
     ],
     "language": "python",
     "metadata": {},
     "outputs": [],
     "prompt_number": 55
    },
    {
     "cell_type": "code",
     "collapsed": false,
     "input": [
      "result"
     ],
     "language": "python",
     "metadata": {},
     "outputs": [
      {
       "html": [
        "<div style=\"max-height:1000px;max-width:1500px;overflow:auto;\">\n",
        "<table border=\"1\" class=\"dataframe\">\n",
        "  <thead>\n",
        "    <tr style=\"text-align: right;\">\n",
        "      <th></th>\n",
        "      <th>id</th>\n",
        "      <th>score</th>\n",
        "      <th>proba</th>\n",
        "      <th>bioactivityCount</th>\n",
        "      <th>chemblId</th>\n",
        "      <th>compoundCount</th>\n",
        "      <th>description</th>\n",
        "      <th>geneNames</th>\n",
        "      <th>organism</th>\n",
        "      <th>preferredName</th>\n",
        "      <th>proteinAccession</th>\n",
        "      <th>synonyms</th>\n",
        "      <th>targetType</th>\n",
        "    </tr>\n",
        "  </thead>\n",
        "  <tbody>\n",
        "    <tr>\n",
        "      <th>0</th>\n",
        "      <td>    CHEMBL5414</td>\n",
        "      <td> 13.725368</td>\n",
        "      <td> 0.998385</td>\n",
        "      <td>  1068</td>\n",
        "      <td>    CHEMBL5414</td>\n",
        "      <td>   575</td>\n",
        "      <td>           Beta-2 adrenergic receptor</td>\n",
        "      <td> Unspecified</td>\n",
        "      <td>   Cavia porcellus</td>\n",
        "      <td>           Beta-2 adrenergic receptor</td>\n",
        "      <td> Q8K4Z4</td>\n",
        "      <td>                                                                                                                                                                                                                                                                                            Beta-2 adrenergic receptor,Beta-2 adrenoceptor,Beta-2 adrenoreceptor,Adrb2</td>\n",
        "      <td> SINGLE PROTEIN</td>\n",
        "    </tr>\n",
        "    <tr>\n",
        "      <th>1</th>\n",
        "      <td>    CHEMBL3252</td>\n",
        "      <td>  9.421035</td>\n",
        "      <td> 0.715839</td>\n",
        "      <td>   451</td>\n",
        "      <td>    CHEMBL3252</td>\n",
        "      <td>   313</td>\n",
        "      <td>           Beta-1 adrenergic receptor</td>\n",
        "      <td> Unspecified</td>\n",
        "      <td> Rattus norvegicus</td>\n",
        "      <td>           Beta-1 adrenergic receptor</td>\n",
        "      <td> P18090</td>\n",
        "      <td>                                                                                                                                                                                                                                                                                     Beta-1 adrenergic receptor,Adrb1r,Beta-1 adrenoceptor,Adrb1,Beta-1 adrenoreceptor</td>\n",
        "      <td> SINGLE PROTEIN</td>\n",
        "    </tr>\n",
        "    <tr>\n",
        "      <th>2</th>\n",
        "      <td>     CHEMBL210</td>\n",
        "      <td>  6.466131</td>\n",
        "      <td> 0.635678</td>\n",
        "      <td>  6769</td>\n",
        "      <td>     CHEMBL210</td>\n",
        "      <td>  4386</td>\n",
        "      <td>           Beta-2 adrenergic receptor</td>\n",
        "      <td> Unspecified</td>\n",
        "      <td>      Homo sapiens</td>\n",
        "      <td>           Beta-2 adrenergic receptor</td>\n",
        "      <td> P07550</td>\n",
        "      <td>                                                                                                                                                                                                                                                                               Beta-2 adrenoreceptor,ADRB2,ADRB2R ,Beta-2 adrenergic receptor,B2AR,Beta-2 adrenoceptor</td>\n",
        "      <td> SINGLE PROTEIN</td>\n",
        "    </tr>\n",
        "    <tr>\n",
        "      <th>3</th>\n",
        "      <td>     CHEMBL275</td>\n",
        "      <td>  5.068963</td>\n",
        "      <td> 0.219674</td>\n",
        "      <td>  1225</td>\n",
        "      <td>     CHEMBL275</td>\n",
        "      <td>  1078</td>\n",
        "      <td>                 Phosphodiesterase 4B</td>\n",
        "      <td> Unspecified</td>\n",
        "      <td>      Homo sapiens</td>\n",
        "      <td>                 Phosphodiesterase 4B</td>\n",
        "      <td> Q07343</td>\n",
        "      <td>                                                                                                                                                                                                                                                                                            cAMP-specific 3',5'-cyclic phosphodiesterase 4B,PDE32,DPDE4,3.1.4.53,PDE4B</td>\n",
        "      <td> SINGLE PROTEIN</td>\n",
        "    </tr>\n",
        "    <tr>\n",
        "      <th>4</th>\n",
        "      <td>     CHEMBL213</td>\n",
        "      <td>  0.129760</td>\n",
        "      <td> 0.002834</td>\n",
        "      <td>  4451</td>\n",
        "      <td>     CHEMBL213</td>\n",
        "      <td>  2766</td>\n",
        "      <td>           Beta-1 adrenergic receptor</td>\n",
        "      <td> Unspecified</td>\n",
        "      <td>      Homo sapiens</td>\n",
        "      <td>           Beta-1 adrenergic receptor</td>\n",
        "      <td> P08588</td>\n",
        "      <td>                                                                                                                                                                                                                                                                               Beta-1 adrenergic receptor,ADRB1,ADRB1R ,Beta-1 adrenoceptor,B1AR,Beta-1 adrenoreceptor</td>\n",
        "      <td> SINGLE PROTEIN</td>\n",
        "    </tr>\n",
        "    <tr>\n",
        "      <th>5</th>\n",
        "      <td>    CHEMBL3397</td>\n",
        "      <td> -4.056707</td>\n",
        "      <td> 0.000241</td>\n",
        "      <td> 26469</td>\n",
        "      <td>    CHEMBL3397</td>\n",
        "      <td> 21350</td>\n",
        "      <td>                  Cytochrome P450 2C9</td>\n",
        "      <td> Unspecified</td>\n",
        "      <td>      Homo sapiens</td>\n",
        "      <td>                  Cytochrome P450 2C9</td>\n",
        "      <td> P11712</td>\n",
        "      <td>                                                                            S-mephenytoin 4-hydroxylase,Cytochrome P450 PB-1,1.14.13.-,(S)-limonene 6-monooxygenase,(S)-limonene 7-monooxygenase,Cytochrome P450 MP-8,1.14.13.49,CYPIIC9,1.14.13.48,Cytochrome P450 2C9,(R)-limonene 6-monooxygenase,Cytochrome P450 MP-4,CYP2C10,CYP2C9,Cytochrome P-450MP,1.14.13.80</td>\n",
        "      <td> SINGLE PROTEIN</td>\n",
        "    </tr>\n",
        "    <tr>\n",
        "      <th>6</th>\n",
        "      <td>     CHEMBL340</td>\n",
        "      <td> -5.904003</td>\n",
        "      <td> 0.000049</td>\n",
        "      <td> 42295</td>\n",
        "      <td>     CHEMBL340</td>\n",
        "      <td> 26038</td>\n",
        "      <td>                  Cytochrome P450 3A4</td>\n",
        "      <td> Unspecified</td>\n",
        "      <td>      Homo sapiens</td>\n",
        "      <td>                  Cytochrome P450 3A4</td>\n",
        "      <td> P08684</td>\n",
        "      <td> 1.14.13.67,Cytochrome P450 3A4,Cytochrome P450-PCN1,Albendazole sulfoxidase,CYPIIIA4,Nifedipine oxidase,Albendazole monooxygenase,1.14.13.-,CYPIIIA3,Quinine 3-monooxygenase,CYP3A3,Cytochrome P450 3A3,1.14.13.157,CYP3A4,Cytochrome P450 NF-25,1.14.13.32,Cytochrome P450 HLp,Taurochenodeoxycholate 6-alpha-hydroxylase,1.14.13.97,1,8-cineole 2-exo-monooxygenase</td>\n",
        "      <td> SINGLE PROTEIN</td>\n",
        "    </tr>\n",
        "    <tr>\n",
        "      <th>7</th>\n",
        "      <td>    CHEMBL3864</td>\n",
        "      <td> -2.625547</td>\n",
        "      <td> 0.000038</td>\n",
        "      <td>   578</td>\n",
        "      <td>    CHEMBL3864</td>\n",
        "      <td>   528</td>\n",
        "      <td>      Protein-tyrosine phosphatase 2C</td>\n",
        "      <td> Unspecified</td>\n",
        "      <td>      Homo sapiens</td>\n",
        "      <td>      Protein-tyrosine phosphatase 2C</td>\n",
        "      <td> Q06124</td>\n",
        "      <td>                                                                                                                                                                              Protein-tyrosine phosphatase 2C,SH-PTP3,Tyrosine-protein phosphatase non-receptor type 11,Shp2,SH-PTP2,SHP-2,PTP2C ,PTPN11,PTP-2C,PTP-1D,SHPTP2,Protein-tyrosine phosphatase 1D,3.1.3.48</td>\n",
        "      <td> SINGLE PROTEIN</td>\n",
        "    </tr>\n",
        "    <tr>\n",
        "      <th>8</th>\n",
        "      <td> CHEMBL1293224</td>\n",
        "      <td> -7.597321</td>\n",
        "      <td> 0.000031</td>\n",
        "      <td> 94908</td>\n",
        "      <td> CHEMBL1293224</td>\n",
        "      <td> 66755</td>\n",
        "      <td>   Microtubule-associated protein tau</td>\n",
        "      <td> Unspecified</td>\n",
        "      <td>      Homo sapiens</td>\n",
        "      <td>   Microtubule-associated protein tau</td>\n",
        "      <td> P10636</td>\n",
        "      <td>                                                                                                                                                                                                                                           MTBT1,Paired helical filament-tau,TAU,PHF-tau,Microtubule-associated protein tau,MAPTL ,MAPT,Neurofibrillary tangle protein</td>\n",
        "      <td> SINGLE PROTEIN</td>\n",
        "    </tr>\n",
        "    <tr>\n",
        "      <th>9</th>\n",
        "      <td>    CHEMBL5819</td>\n",
        "      <td> -3.704959</td>\n",
        "      <td> 0.000011</td>\n",
        "      <td>   700</td>\n",
        "      <td>    CHEMBL5819</td>\n",
        "      <td>   674</td>\n",
        "      <td> Serine/threonine-protein kinase Nek4</td>\n",
        "      <td> Unspecified</td>\n",
        "      <td>      Homo sapiens</td>\n",
        "      <td> Serine/threonine-protein kinase Nek4</td>\n",
        "      <td> P51957</td>\n",
        "      <td>                                                                                                                                                                      Serine/threonine-protein kinase 2,STK2,Never in mitosis A-related kinase 4,Serine/threonine-protein kinase NRK2,2.7.11.1,NEK4,NimA-related protein kinase 4,Serine/threonine-protein kinase Nek4</td>\n",
        "      <td> SINGLE PROTEIN</td>\n",
        "    </tr>\n",
        "  </tbody>\n",
        "</table>\n",
        "</div>"
       ],
       "metadata": {},
       "output_type": "pyout",
       "prompt_number": 56,
       "text": [
        "              id      score     proba  bioactivityCount       chemblId  compoundCount                           description    geneNames           organism                         preferredName proteinAccession                                                                                                                                                                                                                                                                                                                                                               synonyms      targetType\n",
        "0     CHEMBL5414  13.725368  0.998385              1068     CHEMBL5414            575            Beta-2 adrenergic receptor  Unspecified    Cavia porcellus            Beta-2 adrenergic receptor           Q8K4Z4                                                                                                                                                                                                                                                                                             Beta-2 adrenergic receptor,Beta-2 adrenoceptor,Beta-2 adrenoreceptor,Adrb2  SINGLE PROTEIN\n",
        "1     CHEMBL3252   9.421035  0.715839               451     CHEMBL3252            313            Beta-1 adrenergic receptor  Unspecified  Rattus norvegicus            Beta-1 adrenergic receptor           P18090                                                                                                                                                                                                                                                                                      Beta-1 adrenergic receptor,Adrb1r,Beta-1 adrenoceptor,Adrb1,Beta-1 adrenoreceptor  SINGLE PROTEIN\n",
        "2      CHEMBL210   6.466131  0.635678              6769      CHEMBL210           4386            Beta-2 adrenergic receptor  Unspecified       Homo sapiens            Beta-2 adrenergic receptor           P07550                                                                                                                                                                                                                                                                                Beta-2 adrenoreceptor,ADRB2,ADRB2R ,Beta-2 adrenergic receptor,B2AR,Beta-2 adrenoceptor  SINGLE PROTEIN\n",
        "3      CHEMBL275   5.068963  0.219674              1225      CHEMBL275           1078                  Phosphodiesterase 4B  Unspecified       Homo sapiens                  Phosphodiesterase 4B           Q07343                                                                                                                                                                                                                                                                                             cAMP-specific 3',5'-cyclic phosphodiesterase 4B,PDE32,DPDE4,3.1.4.53,PDE4B  SINGLE PROTEIN\n",
        "4      CHEMBL213   0.129760  0.002834              4451      CHEMBL213           2766            Beta-1 adrenergic receptor  Unspecified       Homo sapiens            Beta-1 adrenergic receptor           P08588                                                                                                                                                                                                                                                                                Beta-1 adrenergic receptor,ADRB1,ADRB1R ,Beta-1 adrenoceptor,B1AR,Beta-1 adrenoreceptor  SINGLE PROTEIN\n",
        "5     CHEMBL3397  -4.056707  0.000241             26469     CHEMBL3397          21350                   Cytochrome P450 2C9  Unspecified       Homo sapiens                   Cytochrome P450 2C9           P11712                                                                             S-mephenytoin 4-hydroxylase,Cytochrome P450 PB-1,1.14.13.-,(S)-limonene 6-monooxygenase,(S)-limonene 7-monooxygenase,Cytochrome P450 MP-8,1.14.13.49,CYPIIC9,1.14.13.48,Cytochrome P450 2C9,(R)-limonene 6-monooxygenase,Cytochrome P450 MP-4,CYP2C10,CYP2C9,Cytochrome P-450MP,1.14.13.80  SINGLE PROTEIN\n",
        "6      CHEMBL340  -5.904003  0.000049             42295      CHEMBL340          26038                   Cytochrome P450 3A4  Unspecified       Homo sapiens                   Cytochrome P450 3A4           P08684  1.14.13.67,Cytochrome P450 3A4,Cytochrome P450-PCN1,Albendazole sulfoxidase,CYPIIIA4,Nifedipine oxidase,Albendazole monooxygenase,1.14.13.-,CYPIIIA3,Quinine 3-monooxygenase,CYP3A3,Cytochrome P450 3A3,1.14.13.157,CYP3A4,Cytochrome P450 NF-25,1.14.13.32,Cytochrome P450 HLp,Taurochenodeoxycholate 6-alpha-hydroxylase,1.14.13.97,1,8-cineole 2-exo-monooxygenase  SINGLE PROTEIN\n",
        "7     CHEMBL3864  -2.625547  0.000038               578     CHEMBL3864            528       Protein-tyrosine phosphatase 2C  Unspecified       Homo sapiens       Protein-tyrosine phosphatase 2C           Q06124                                                                                                                                                                               Protein-tyrosine phosphatase 2C,SH-PTP3,Tyrosine-protein phosphatase non-receptor type 11,Shp2,SH-PTP2,SHP-2,PTP2C ,PTPN11,PTP-2C,PTP-1D,SHPTP2,Protein-tyrosine phosphatase 1D,3.1.3.48  SINGLE PROTEIN\n",
        "8  CHEMBL1293224  -7.597321  0.000031             94908  CHEMBL1293224          66755    Microtubule-associated protein tau  Unspecified       Homo sapiens    Microtubule-associated protein tau           P10636                                                                                                                                                                                                                                            MTBT1,Paired helical filament-tau,TAU,PHF-tau,Microtubule-associated protein tau,MAPTL ,MAPT,Neurofibrillary tangle protein  SINGLE PROTEIN\n",
        "9     CHEMBL5819  -3.704959  0.000011               700     CHEMBL5819            674  Serine/threonine-protein kinase Nek4  Unspecified       Homo sapiens  Serine/threonine-protein kinase Nek4           P51957                                                                                                                                                                       Serine/threonine-protein kinase 2,STK2,Never in mitosis A-related kinase 4,Serine/threonine-protein kinase NRK2,2.7.11.1,NEK4,NimA-related protein kinase 4,Serine/threonine-protein kinase Nek4  SINGLE PROTEIN"
       ]
      }
     ],
     "prompt_number": 56
    },
    {
     "cell_type": "markdown",
     "metadata": {},
     "source": [
      "Not bad! The model retrieved the correct targets in the top 4 predictions out of a pool of 1342 targets."
     ]
    },
    {
     "cell_type": "heading",
     "level": 3,
     "metadata": {},
     "source": [
      "Feature contribution"
     ]
    },
    {
     "cell_type": "markdown",
     "metadata": {},
     "source": [
      "Now let's look at contributions of specific substructural features to the PDE4 predictions. Which features of the active molecules in the training set were the most important?"
     ]
    },
    {
     "cell_type": "code",
     "collapsed": false,
     "input": [
      "bit_scores = (morgan_nb.estimators_[classes.index(result['id'][2])].feature_log_prob_[1] - morgan_nb.estimators_[classes.index(result['id'][2])].feature_log_prob_[0])*fp"
     ],
     "language": "python",
     "metadata": {},
     "outputs": [],
     "prompt_number": 57
    },
    {
     "cell_type": "markdown",
     "metadata": {},
     "source": [
      "The snippet below maps the specific bits back to atomic environments"
     ]
    },
    {
     "cell_type": "code",
     "collapsed": false,
     "input": [
      "frags = OrderedDict()\n",
      "for k in info.keys():\n",
      "    if bit_scores[k] > 0.1:\n",
      "        atomId,radius = info[k][0]\n",
      "        env=Chem.FindAtomEnvironmentOfRadiusN(mol,radius,atomId)\n",
      "        ats = set([atomId])\n",
      "        for bidx in env:\n",
      "            bond = mol.GetBondWithIdx(bidx)\n",
      "            ats.add(bond.GetBeginAtomIdx())\n",
      "            ats.add(bond.GetEndAtomIdx())\n",
      "            frag = Chem.MolFragmentToSmiles(mol,atomsToUse=list(ats),bondsToUse=env,rootedAtAtom=atomId)\n",
      "            legend = str(round(bit_scores[k],2))\n",
      "            frags[k] = (legend,frag)"
     ],
     "language": "python",
     "metadata": {},
     "outputs": [],
     "prompt_number": 58
    },
    {
     "cell_type": "code",
     "collapsed": false,
     "input": [
      "legends = [l[1][0] for l in sorted(frags.items(), key=lambda t: t[1][0], reverse=True)][:10]\n",
      "ffrags = [l[1][1] for l in sorted(frags.items(), key=lambda t: t[1][0], reverse=True)][:10]"
     ],
     "language": "python",
     "metadata": {},
     "outputs": [],
     "prompt_number": 59
    },
    {
     "cell_type": "code",
     "collapsed": false,
     "input": [
      "fmols=[Chem.MolFromSmarts(s) for s in ffrags]"
     ],
     "language": "python",
     "metadata": {},
     "outputs": [],
     "prompt_number": 60
    },
    {
     "cell_type": "markdown",
     "metadata": {},
     "source": [
      "This was the original molecule"
     ]
    },
    {
     "cell_type": "code",
     "collapsed": false,
     "input": [
      "mol"
     ],
     "language": "python",
     "metadata": {},
     "outputs": [
      {
       "metadata": {},
       "output_type": "pyout",
       "png": "[encoded data removed]",
       "prompt_number": 61,
       "text": [
        "<rdkit.Chem.rdchem.Mol at 0x7f2066f42670>"
       ]
      }
     ],
     "prompt_number": 61
    },
    {
     "cell_type": "markdown",
     "metadata": {},
     "source": [
      "And these are its most important features, based on their enrichent in PDE4B actives in ChEMBL. The legend is the Bayesian score for each feature. "
     ]
    },
    {
     "cell_type": "code",
     "collapsed": false,
     "input": [
      "Draw.MolsToGridImage(fmols, molsPerRow=5, legends=legends)"
     ],
     "language": "python",
     "metadata": {},
     "outputs": [
      {
       "metadata": {},
       "output_type": "pyout",
       "png": "[encoded data removed]",
       "prompt_number": 62,
       "text": [
        "<PIL.Image.Image image mode=RGBA size=1000x400 at 0x7F20601B0560>"
       ]
      }
     ],
     "prompt_number": 62
    },
    {
     "cell_type": "code",
     "collapsed": false,
     "input": [],
     "language": "python",
     "metadata": {},
     "outputs": [],
     "prompt_number": 62
    }
   ],
   "metadata": {}
  }
 ]
}
