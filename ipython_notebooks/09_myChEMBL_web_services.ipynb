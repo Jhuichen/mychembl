{
 "cells": [
  {
   "cell_type": "markdown",
   "metadata": {},
   "source": [
<<<<<<< HEAD
    "# myChEMBL webservices version 2.x\n",
=======
    "# myChEMBL webservices v. 2.x\n",
>>>>>>> origin/master
    "\n",
    "### myChEMBL team, ChEMBL Group, EMBL-EBI."
   ]
  },
  {
   "cell_type": "markdown",
   "metadata": {},
   "source": [
    "## Introduction\n",
    "\n",
    "This notebook will provide some examples of using the **`myChEMBL`** webservices.\n",
    "\n",
<<<<<<< HEAD
    "The web services have recently been updated to the 2.x version and are **not** backwards compatible.\n",
    "The main features introduced by this latest version are:\n",
=======
    "The web services have recently been updated to the 2.x version and are not backwards compatible.\n",
    "Main features introduced by this latest version are:\n",
>>>>>>> origin/master
    "\n",
    " - more resources\n",
    " - filtering\n",
    " - paging\n",
    " - ordering\n",
    " \n",
<<<<<<< HEAD
    "You can call the web services in the following two ways: \n",
    " \n",
    "1) Directly _via_ URLs (see the 'Web Services' link on the **`myChEMBL`** LaunchPad for a list of the available endpoints). The advantage of using the URLs is that it is language-agnostic: although the examples below use Python, any other language with a library for executing HTTP requests would do just as well.\n",
    "\n",
    "\n",
    "2) Using the API provided by the Python package **`chembl_webresource_client`**. This has the following advantages:\n",
    " - the usage is simpler\n",
    " - some extra functionality is available\n",
    " - there are performance benefits\n",
    "\n",
    "For the reasons above, we recommend using the API where possible.\n",
    "\n",
    "Note that the **`chembl_webresource_client`** module is aleady installed on the **`myChEMBL`** VM; if you wish to use it on other machines, it can be installed using **`pip`**.\n",
    "\n",
    "Please note that the code below attempts to balance clarity and brevity, and is not intended to be a template for production code: error checking, for example, should be much more thorough in practice. "
=======
    "1) Directly _via_ URLs (see the 'Web Services' link on the **`myChEMBL`** LaunchPad for a list of the available endpoints). The advantage of using the URLs is that it is language-agnostic: although the examples below use Python, any other language with a library for executing HTTP requests would do just as well.\n",
    "\n",
    "\n",
    "2) Using the API provided by the Python package **`chembl_webresource_client`**. This has the advantages that...\n",
    "    - the usage is simpler\n",
    "    - some extra functionality is available\n",
    "    - there are performance benefits\n",
    "\n",
    "For the reasons outlined above, we recommend using the API where possible.\n",
    "\n",
    "Note that the **`chembl_webresource_client`** module is aleady installed on the **`myChEMBL`** VM; if you wish to use it on other machines, it can be installed using **`pip`**.\n",
    "\n",
    "Please note that the code below attempts to balance clarity and concision, and is not intended to be a template for production code: error checking, for example, should be much more thorough in practice. "
>>>>>>> origin/master
   ]
  },
  {
   "cell_type": "markdown",
   "metadata": {},
   "source": [
    "## Configuration and setup"
   ]
  },
  {
   "cell_type": "code",
   "execution_count": 1,
   "metadata": {
    "collapsed": true
   },
   "outputs": [],
   "source": [
    "import logging\n",
    "\n",
    "from collections import Counter\n",
    "from operator import itemgetter\n",
    "\n",
    "from lxml import etree\n",
    "\n",
    "from rdkit import Chem\n",
    "from rdkit.Chem import Draw \n",
    "from rdkit.Chem.Draw import IPythonConsole\n",
    "\n",
    "from IPython.display import Image, display"
   ]
  },
  {
   "cell_type": "code",
   "execution_count": 2,
   "metadata": {
    "collapsed": true
   },
   "outputs": [],
   "source": [
    "# Python modules used for API access...\n",
    "# By default, the API connects to the main ChEMBL database; set it to use the local version (i.e. myChEMBL) instead...\n",
    "from chembl_webresource_client.settings import Settings\n",
    "Settings.Instance().NEW_CLIENT_URL = 'http://localhost/chemblws'\n",
    "\n",
    "from chembl_webresource_client.new_client import new_client"
   ]
  },
  {
   "cell_type": "markdown",
   "metadata": {},
   "source": [
    "## List of available resources\n",
    "It's easy to get a list of available resources by invoking:"
   ]
  },
  {
   "cell_type": "code",
   "execution_count": 3,
   "metadata": {
    "collapsed": false
   },
   "outputs": [
    {
     "name": "stdout",
     "output_type": "stream",
     "text": [
      "['activity', 'assay', 'atc_class', 'binding_site', 'biotherapeutic', 'cell_line', 'chembl_id_lookup', 'description', 'document', 'image', 'mechanism', 'molecule', 'molecule_form', 'official', 'protein_class', 'similarity', 'source', 'substructure', 'target', 'target_component']\n",
      "20\n"
     ]
    }
   ],
   "source": [
    "available_resources = [resource for resource in dir(new_client) if not resource.startswith('_')]\n",
    "print available_resources\n",
    "print len(available_resources)"
   ]
  },
  {
   "cell_type": "markdown",
   "metadata": {},
   "source": [
<<<<<<< HEAD
    "Which means there are 20 different types of resources available _via_ web services. In this notebook only the most important of these are covered."
=======
    "Which means there are 20 different kids of resources available via web services. In this notebook only most imortant kinds will be covered."
>>>>>>> origin/master
   ]
  },
  {
   "cell_type": "markdown",
   "metadata": {},
   "source": [
    "## Molecules\n",
    "\n",
<<<<<<< HEAD
    "Molecule records may be retrieved in a number of ways, such as lookup of single molecules using various identifiers or searching for compounds _via_ substruture or similarity. "
=======
    "Molecule records may be retrieved in a number of ways, such as lookup of single molecules using various identifiers, or searching for compounds _via_ substruture or similarity. "
>>>>>>> origin/master
   ]
  },
  {
   "cell_type": "code",
   "execution_count": 4,
   "metadata": {
    "collapsed": false
   },
   "outputs": [
    {
     "name": "stdout",
     "output_type": "stream",
     "text": [
      "1463270 molecules available in myChEMBL_20\n"
     ]
    }
   ],
   "source": [
    "# Get a molecule-handler object for API access and check the connection to the database...\n",
    "\n",
    "molecule = new_client.molecule\n",
    "molecule.set_format('json')\n",
    "print \"%s molecules available in myChEMBL_20\" % len(molecule.all())"
   ]
  },
  {
   "cell_type": "markdown",
   "metadata": {},
   "source": [
    "### Getting a single molecule\n",
    "\n",
<<<<<<< HEAD
    "In order to retrieve a single molecule from the web services, you need to know its unique and unambiguous identifier. In case of molecule resource this can be one of three types:\n",
    "\n",
    " 1. ChEMBL_ID\n",
=======
    "In order to retreive a single molecule from the web services you need to know its unique and unambiguous identifier. In case of molecule resource this can be one ot three things:\n",
    "\n",
    " 1. ChEMBL_id\n",
>>>>>>> origin/master
    " 2. InChI Key\n",
    " 3. Canonical SMILES (non-canonical SMILES will be covered later in this notebook)"
   ]
  },
  {
   "cell_type": "code",
   "execution_count": 5,
   "metadata": {
    "collapsed": false
   },
   "outputs": [
    {
     "data": {
      "text/plain": [
       "True"
      ]
     },
     "execution_count": 5,
     "metadata": {},
     "output_type": "execute_result"
    }
   ],
   "source": [
    "# so this:\n",
    "# 1.\n",
    "m1 = molecule.get('CHEMBL25')\n",
    "# 2.\n",
    "m2 = molecule.get('BSYNRYMUTXBXSQ-UHFFFAOYSA-N')\n",
    "#\n",
    "m3 = molecule.get('CC(=O)Oc1ccccc1C(=O)O')\n",
    "# will return the same data:\n",
    "m1 == m2 == m3"
   ]
  },
  {
   "cell_type": "markdown",
   "metadata": {},
   "source": [
    "### ChEMBL ID\n",
    "\n",
<<<<<<< HEAD
    "All the main entities in the ChEMBL database have a ChEMBL ID. It is a stable identifier designed for straightforward lookup of data."
=======
    "All entities in the ChEMBL database have a ChEMBL ID. It is a stable identifier designed for straightforward lookup of data."
>>>>>>> origin/master
   ]
  },
  {
   "cell_type": "code",
   "execution_count": 6,
   "metadata": {
    "collapsed": true
   },
   "outputs": [],
   "source": [
    "# Lapatinib, the bioactive component of the anti-cancer drug Tykerb\n",
    "\n",
    "chembl_id = \"CHEMBL554\" "
   ]
  },
  {
   "cell_type": "code",
   "execution_count": 7,
   "metadata": {
    "collapsed": false
   },
   "outputs": [
    {
     "data": {
      "text/plain": [
       "{u'atc_classifications': [u'L01XE07'],\n",
       " u'availability_type': u'1',\n",
       " u'biotherapeutic': None,\n",
       " u'black_box_warning': u'1',\n",
       " u'chebi_par_id': 49603,\n",
       " u'chirality': u'2',\n",
       " u'dosed_ingredient': False,\n",
       " u'first_approval': 2007,\n",
       " u'first_in_class': u'0',\n",
       " u'helm_notation': None,\n",
       " u'indication_class': None,\n",
       " u'inorganic_flag': u'0',\n",
       " u'max_phase': 4,\n",
       " u'molecule_chembl_id': u'CHEMBL554',\n",
       " u'molecule_hierarchy': {u'molecule_chembl_id': u'CHEMBL554',\n",
       "  u'parent_chembl_id': u'CHEMBL554'},\n",
       " u'molecule_properties': {u'acd_logd': u'6.26',\n",
       "  u'acd_logp': u'6.30',\n",
       "  u'acd_most_apka': None,\n",
       "  u'acd_most_bpka': u'6.34',\n",
       "  u'alogp': u'6.04',\n",
       "  u'aromatic_rings': 5,\n",
       "  u'full_molformula': u'C29H26ClFN4O4S',\n",
       "  u'full_mwt': u'581.06',\n",
       "  u'hba': 7,\n",
       "  u'hbd': 2,\n",
       "  u'heavy_atoms': 40,\n",
       "  u'med_chem_friendly': u'Y',\n",
       "  u'molecular_species': u'NEUTRAL',\n",
       "  u'mw_freebase': u'581.06',\n",
       "  u'mw_monoisotopic': u'580.1347',\n",
       "  u'num_alerts': 1,\n",
       "  u'num_ro5_violations': 2,\n",
       "  u'psa': u'114.72',\n",
       "  u'qed_weighted': u'0.18',\n",
       "  u'ro3_pass': u'N',\n",
       "  u'rtb': 11},\n",
       " u'molecule_structures': {u'canonical_smiles': u'CS(=O)(=O)CCNCc1oc(cc1)c2ccc3ncnc(Nc4ccc(OCc5cccc(F)c5)c(Cl)c4)c3c2',\n",
       "  u'standard_inchi': u'InChI=1S/C29H26ClFN4O4S/c1-40(36,37)12-11-32-16-23-7-10-27(39-23)20-5-8-26-24(14-20)29(34-18-33-26)35-22-6-9-28(25(30)15-22)38-17-19-3-2-4-21(31)13-19/h2-10,13-15,18,32H,11-12,16-17H2,1H3,(H,33,34,35)',\n",
       "  u'standard_inchi_key': u'BCFGMOOMADDAQU-UHFFFAOYSA-N'},\n",
       " u'molecule_synonyms': [{u'syn_type': u'FDA', u'synonyms': u'Lapatinib'},\n",
       "  {u'syn_type': u'TRADE_NAME', u'synonyms': u'Tykerb'},\n",
       "  {u'syn_type': u'INN', u'synonyms': u'Lapatinib'},\n",
       "  {u'syn_type': u'OTHER', u'synonyms': u'Lapatinib'}],\n",
       " u'molecule_type': u'Small molecule',\n",
       " u'natural_product': u'0',\n",
       " u'oral': True,\n",
       " u'parenteral': False,\n",
       " u'polymer_flag': False,\n",
       " u'pref_name': u'LAPATINIB',\n",
       " u'prodrug': u'0',\n",
       " u'structure_type': u'MOL',\n",
       " u'therapeutic_flag': True,\n",
       " u'topical': False,\n",
       " u'usan_stem': None,\n",
       " u'usan_stem_definition': None,\n",
       " u'usan_substem': None,\n",
       " u'usan_year': 2003}"
      ]
     },
     "execution_count": 7,
     "metadata": {},
     "output_type": "execute_result"
    }
   ],
   "source": [
    "# Get compound record using client...\n",
    "\n",
    "record_via_client = molecule.get(chembl_id)\n",
    "\n",
    "record_via_client"
   ]
  },
  {
   "cell_type": "markdown",
   "metadata": {},
   "source": [
    "As noted above, a URLs may also be used to access the data, and, although the examples here use Python, any other language with a library for executing HTTP requests would do as well."
   ]
  },
  {
   "cell_type": "code",
   "execution_count": 8,
   "metadata": {
    "collapsed": true
   },
   "outputs": [],
   "source": [
    "# Import a Python module to allow URL-based access...\n",
    "\n",
    "import requests\n",
    "from urllib import quote\n",
    "\n",
    "# Stem of URL for local version of web services...\n",
    "\n",
    "url_stem = \"http://localhost/chemblws\""
   ]
  },
  {
   "cell_type": "code",
   "execution_count": 9,
   "metadata": {
    "collapsed": false
   },
   "outputs": [
    {
     "name": "stdout",
     "output_type": "stream",
     "text": [
      "http://localhost/chemblws/molecule/CHEMBL554.json\n",
      "200\n"
     ]
    }
   ],
   "source": [
    "# Note that, for historical reasons, the URL-based webservices return XML by default, so JSON\n",
    "# must be requested explicity by appending '.json' to the URL.\n",
    "\n",
    "# Get request object...\n",
    "url = url_stem + \"/molecule/\" + chembl_id + \".json\"\n",
    "request = requests.get(url)\n",
    "\n",
    "print url\n",
    "\n",
    "# Check reqest status: should be 200 if everything went OK...\n",
    "print request.status_code"
   ]
  },
  {
   "cell_type": "code",
   "execution_count": 10,
   "metadata": {
    "collapsed": false
   },
   "outputs": [
    {
     "data": {
      "text/plain": [
       "{u'atc_classifications': [u'L01XE07'],\n",
       " u'availability_type': u'1',\n",
       " u'biotherapeutic': None,\n",
       " u'black_box_warning': u'1',\n",
       " u'chebi_par_id': 49603,\n",
       " u'chirality': u'2',\n",
       " u'dosed_ingredient': False,\n",
       " u'first_approval': 2007,\n",
       " u'first_in_class': u'0',\n",
       " u'helm_notation': None,\n",
       " u'indication_class': None,\n",
       " u'inorganic_flag': u'0',\n",
       " u'max_phase': 4,\n",
       " u'molecule_chembl_id': u'CHEMBL554',\n",
       " u'molecule_hierarchy': {u'molecule_chembl_id': u'CHEMBL554',\n",
       "  u'parent_chembl_id': u'CHEMBL554'},\n",
       " u'molecule_properties': {u'acd_logd': u'6.26',\n",
       "  u'acd_logp': u'6.30',\n",
       "  u'acd_most_apka': None,\n",
       "  u'acd_most_bpka': u'6.34',\n",
       "  u'alogp': u'6.04',\n",
       "  u'aromatic_rings': 5,\n",
       "  u'full_molformula': u'C29H26ClFN4O4S',\n",
       "  u'full_mwt': u'581.06',\n",
       "  u'hba': 7,\n",
       "  u'hbd': 2,\n",
       "  u'heavy_atoms': 40,\n",
       "  u'med_chem_friendly': u'Y',\n",
       "  u'molecular_species': u'NEUTRAL',\n",
       "  u'mw_freebase': u'581.06',\n",
       "  u'mw_monoisotopic': u'580.1347',\n",
       "  u'num_alerts': 1,\n",
       "  u'num_ro5_violations': 2,\n",
       "  u'psa': u'114.72',\n",
       "  u'qed_weighted': u'0.18',\n",
       "  u'ro3_pass': u'N',\n",
       "  u'rtb': 11},\n",
       " u'molecule_structures': {u'canonical_smiles': u'CS(=O)(=O)CCNCc1oc(cc1)c2ccc3ncnc(Nc4ccc(OCc5cccc(F)c5)c(Cl)c4)c3c2',\n",
       "  u'standard_inchi': u'InChI=1S/C29H26ClFN4O4S/c1-40(36,37)12-11-32-16-23-7-10-27(39-23)20-5-8-26-24(14-20)29(34-18-33-26)35-22-6-9-28(25(30)15-22)38-17-19-3-2-4-21(31)13-19/h2-10,13-15,18,32H,11-12,16-17H2,1H3,(H,33,34,35)',\n",
       "  u'standard_inchi_key': u'BCFGMOOMADDAQU-UHFFFAOYSA-N'},\n",
       " u'molecule_synonyms': [{u'syn_type': u'FDA', u'synonyms': u'Lapatinib'},\n",
       "  {u'syn_type': u'TRADE_NAME', u'synonyms': u'Tykerb'},\n",
       "  {u'syn_type': u'INN', u'synonyms': u'Lapatinib'},\n",
       "  {u'syn_type': u'OTHER', u'synonyms': u'Lapatinib'}],\n",
       " u'molecule_type': u'Small molecule',\n",
       " u'natural_product': u'0',\n",
       " u'oral': True,\n",
       " u'parenteral': False,\n",
       " u'polymer_flag': False,\n",
       " u'pref_name': u'LAPATINIB',\n",
       " u'prodrug': u'0',\n",
       " u'structure_type': u'MOL',\n",
       " u'therapeutic_flag': True,\n",
       " u'topical': False,\n",
       " u'usan_stem': None,\n",
       " u'usan_stem_definition': None,\n",
       " u'usan_substem': None,\n",
       " u'usan_year': 2003}"
      ]
     },
     "execution_count": 10,
     "metadata": {},
     "output_type": "execute_result"
    }
   ],
   "source": [
    "record_via_url = request.json()\n",
    "record_via_url "
   ]
  },
  {
   "cell_type": "markdown",
   "metadata": {},
   "source": [
    "Note that in both cases we are getting exactly the same results:"
   ]
  },
  {
   "cell_type": "code",
   "execution_count": 11,
   "metadata": {
    "collapsed": false
   },
   "outputs": [
    {
     "data": {
      "text/plain": [
       "True"
      ]
     },
     "execution_count": 11,
     "metadata": {},
     "output_type": "execute_result"
    }
   ],
   "source": [
    "record_via_client == record_via_url"
   ]
  },
  {
   "cell_type": "markdown",
   "metadata": {},
   "source": [
<<<<<<< HEAD
    "When retrieved in JSON format, a record is a nested dictionary, so to get, say, a SMILES string we have to write:"
=======
    "When retrieved in JSON format, a record is a nested dictionary, so for example to get SMILES string we have to write:"
>>>>>>> origin/master
   ]
  },
  {
   "cell_type": "code",
   "execution_count": 12,
   "metadata": {
<<<<<<< HEAD
    "collapsed": false
=======
    "collapsed": true
>>>>>>> origin/master
   },
   "outputs": [],
   "source": [
    "smiles_from_json = record_via_client['molecule_structures']['canonical_smiles']"
   ]
  },
  {
   "cell_type": "markdown",
   "metadata": {},
   "source": [
    "It is possible to retrieve data in XML format as well:"
   ]
  },
  {
   "cell_type": "code",
   "execution_count": 13,
   "metadata": {
<<<<<<< HEAD
    "collapsed": false
=======
    "collapsed": true
>>>>>>> origin/master
   },
   "outputs": [],
   "source": [
    "# Get compound record in XML format...\n",
    "\n",
    "molecule.set_format('xml')\n",
    "xml = molecule.get(chembl_id).encode('utf-8')\n",
    "#print xml\n",
    "# The XML must be parsed (e.g. using the lxml.etree module in Python) to enable extraction of the data...\n",
    "\n",
    "root = etree.fromstring(xml).getroottree()"
   ]
  },
  {
   "cell_type": "code",
   "execution_count": 14,
   "metadata": {
    "collapsed": false
   },
   "outputs": [
    {
     "name": "stdout",
     "output_type": "stream",
     "text": [
      "CS(=O)(=O)CCNCc1oc(cc1)c2ccc3ncnc(Nc4ccc(OCc5cccc(F)c5)c(Cl)c4)c3c2\n",
      "True\n"
     ]
    }
   ],
   "source": [
    "# Extract SMILES via xpath...\n",
    "\n",
    "smiles_from_xml = root.xpath(\"/molecule/molecule_structures/canonical_smiles/text()\")[0]\n",
    "\n",
    "print smiles_from_xml\n",
    "print smiles_from_xml == smiles_from_json"
   ]
  },
  {
   "cell_type": "code",
   "execution_count": 15,
   "metadata": {
    "collapsed": false
   },
   "outputs": [
    {
     "name": "stdout",
     "output_type": "stream",
     "text": [
      "<molecule>\n",
      "  <atc_classifications>\n",
      "    <level5>L01XE07</level5>\n",
      "  </atc_classifications>\n",
      "  <availability_type>1</availability_type>\n",
      "  <biotherapeutic/>\n",
      "  <black_box_warning>1</black_box_warning>\n",
      "  <chebi_par_id>49603</chebi_par_id>\n",
      "  <chirality>2</chirality>\n",
      "  <dosed_ingredient/>\n",
      "  <first_approval>2007</first_approval>\n",
      "  <first_in_class>0</first_in_class>\n",
      "  <helm_notation/>\n",
      "  <indication_class/>\n",
      "  <inorganic_flag>0</inorganic_flag>\n",
      "  <max_phase>4</max_phase>\n",
      "  <molecule_chembl_id>CHEMBL554</molecule_chembl_id>\n",
      "  <molecule_hierarchy>\n",
      "    <molecule_chembl_id>CHEMBL554</molecule_chembl_id>\n",
      "    <parent_chembl_id>CHEMBL554</parent_chembl_id>\n",
      "  </molecule_hierarchy>\n",
      "  <molecule_properties>\n",
      "    <acd_logd>6.26</acd_logd>\n",
      "    <acd_logp>6.30</acd_logp>\n",
      "    <acd_most_apka/>\n",
      "    <acd_most_bpka>6.34</acd_most_bpka>\n",
      "    <alogp>6.04</alogp>\n",
      "    <aromatic_rings>5</aromatic_rings>\n",
      "    <full_molformula>C29H26ClFN4O4S</full_molformula>\n",
      "    <full_mwt>581.06</full_mwt>\n",
      "    <hba>7</hba>\n",
      "    <hbd>2</hbd>\n",
      "    <heavy_atoms>40</heavy_atoms>\n",
      "    <med_chem_friendly>Y</med_chem_friendly>\n",
      "    <molecular_species>NEUTRAL</molecular_species>\n",
      "    <mw_freebase>581.06</mw_freebase>\n",
      "    <mw_monoisotopic>580.1347</mw_monoisotopic>\n",
      "    <num_alerts>1</num_alerts>\n",
      "    <num_ro5_violations>2</num_ro5_violations>\n",
      "    <psa>114.72</psa>\n",
      "    <qed_weighted>0.18</qed_weighted>\n",
      "    <ro3_pass>N</ro3_pass>\n",
      "    <rtb>11</rtb>\n",
      "  </molecule_properties>\n",
      "  <molecule_structures>\n",
      "    <canonical_smiles>CS(=O)(=O)CCNCc1oc(cc1)c2ccc3ncnc(Nc4ccc(OCc5cccc(F)c5)c(Cl)c4)c3c2</canonical_smiles>\n",
      "    <standard_inchi>InChI=1S/C29H26ClFN4O4S/c1-40(36,37)12-11-32-16-23-7-10-27(39-23)20-5-8-26-24(14-20)29(34-18-33-26)35-22-6-9-28(25(30)15-22)38-17-19-3-2-4-21(31)13-19/h2-10,13-15,18,32H,11-12,16-17H2,1H3,(H,33,34,35)</standard_inchi>\n",
      "    <standard_inchi_key>BCFGMOOMADDAQU-UHFFFAOYSA-N</standard_inchi_key>\n",
      "  </molecule_structures>\n",
      "  <molecule_synonyms>\n",
      "    <synonym>\n",
      "      <syn_type>FDA</syn_type>\n",
      "      <synonyms>Lapatinib</synonyms>\n",
      "    </synonym>\n",
      "    <synonym>\n",
      "      <syn_type>TRADE_NAME</syn_type>\n",
      "      <synonyms>Tykerb</synonyms>\n",
      "    </synonym>\n",
      "    <synonym>\n",
      "      <syn_type>INN</syn_type>\n",
      "      <synonyms>Lapatinib</synonyms>\n",
      "    </synonym>\n",
      "    <synonym>\n",
      "      <syn_type>OTHER</syn_type>\n",
      "      <synonyms>Lapatinib</synonyms>\n",
      "    </synonym>\n",
      "  </molecule_synonyms>\n",
      "  <molecule_type>Small molecule</molecule_type>\n",
      "  <natural_product>0</natural_product>\n",
      "  <oral>True</oral>\n",
      "  <parenteral/>\n",
      "  <polymer_flag/>\n",
      "  <pref_name>LAPATINIB</pref_name>\n",
      "  <prodrug>0</prodrug>\n",
      "  <structure_type>MOL</structure_type>\n",
      "  <therapeutic_flag>True</therapeutic_flag>\n",
      "  <topical/>\n",
      "  <usan_stem/>\n",
      "  <usan_stem_definition/>\n",
      "  <usan_substem/>\n",
      "  <usan_year>2003</usan_year>\n",
      "</molecule>\n",
      "\n"
     ]
    }
   ],
   "source": [
    "# Pretty-print XML...\n",
    "\n",
    "print etree.tostring(root, pretty_print=True)"
   ]
  },
  {
   "cell_type": "markdown",
   "metadata": {},
   "source": [
    "### InChIKey\n",
    "\n",
    "Compound records may also be retrieved _via_ InChI Key lookup."
   ]
  },
  {
   "cell_type": "code",
   "execution_count": 16,
   "metadata": {
    "collapsed": false
   },
   "outputs": [
    {
     "name": "stdout",
     "output_type": "stream",
     "text": [
      "http://localhost/chemblws/molecule/BCFGMOOMADDAQU-UHFFFAOYSA-N.json\n",
      "True\n"
     ]
    }
   ],
   "source": [
    "# InChI Key for Lapatinib\n",
    "inchi_key = \"BCFGMOOMADDAQU-UHFFFAOYSA-N\"\n",
    "\n",
    "# getting molecule via client\n",
    "molecule.set_format('json')\n",
    "record_via_client = molecule.get(inchi_key)\n",
    "\n",
    "# getting molecule via url\n",
    "url = url_stem + \"/molecule/\" + inchi_key + \".json\"\n",
    "record_via_url = requests.get(url).json()\n",
    "\n",
    "print url\n",
    "\n",
    "# they are the same\n",
    "print record_via_url == record_via_client"
   ]
  },
  {
   "cell_type": "markdown",
   "metadata": {},
   "source": [
    "### SMILES\n",
    "\n",
    "Compound records may also be retrieved _via_ SMILES lookup.\n",
    "\n",
    "The purpose of the `get` method is to return objects identified by their unique and unambiguous properties.\n",
    "This is why SMILES provided as arguments to the `get` method need to be canonical.\n",
    "But you can still search for molecules, using non-canonical SMILES - this functionaly will be covered later in this notebook."
   ]
  },
  {
   "cell_type": "code",
   "execution_count": 17,
   "metadata": {
    "collapsed": false
   },
   "outputs": [
    {
     "name": "stdout",
     "output_type": "stream",
     "text": [
      "http://localhost/chemblws/molecule/CS%28%3DO%29%28%3DO%29CCNCc1oc%28cc1%29c2ccc3ncnc%28Nc4ccc%28OCc5cccc%28F%29c5%29c%28Cl%29c4%29c3c2.json\n"
     ]
    },
    {
     "data": {
      "text/plain": [
       "True"
      ]
     },
     "execution_count": 17,
     "metadata": {},
     "output_type": "execute_result"
    }
   ],
   "source": [
    "# Canonoical SMILES for Lapatinib\n",
    "canonical_smiles = \"CS(=O)(=O)CCNCc1oc(cc1)c2ccc3ncnc(Nc4ccc(OCc5cccc(F)c5)c(Cl)c4)c3c2\"\n",
    "\n",
    "# getting molecule via client\n",
    "molecule.set_format('json')\n",
    "record_via_client = molecule.get(canonical_smiles)\n",
    "\n",
    "# getting molecule via url\n",
    "url = url_stem + \"/molecule/\" + quote(canonical_smiles) + \".json\"\n",
    "record_via_url = requests.get(url).json()\n",
    "\n",
    "print url\n",
    "\n",
    "# they are the same\n",
    "record_via_url == record_via_client"
   ]
  },
  {
   "cell_type": "markdown",
   "metadata": {},
   "source": [
    "### Batch queries\n",
    "\n",
    "Multiple records may be requested at once. The `get` method can accept a list of homogenous identifiers."
   ]
  },
  {
   "cell_type": "code",
   "execution_count": 18,
   "metadata": {
    "collapsed": false
   },
   "outputs": [
    {
     "data": {
      "text/plain": [
       "True"
      ]
     },
     "execution_count": 18,
     "metadata": {},
     "output_type": "execute_result"
    }
   ],
   "source": [
    "records1 = molecule.get(['CHEMBL6498', 'CHEMBL6499', 'CHEMBL6505'])\n",
    "records2 = molecule.get(['XSQLHVPPXBBUPP-UHFFFAOYSA-N', 'JXHVRXRRSSBGPY-UHFFFAOYSA-N', 'TUHYVXGNMOGVMR-GASGPIRDSA-N'])\n",
    "records3 = molecule.get(['CNC(=O)c1ccc(cc1)N(CC#C)Cc2ccc3nc(C)nc(O)c3c2',\n",
    "            'Cc1cc2SC(C)(C)CC(C)(C)c2cc1\\\\N=C(/S)\\\\Nc3ccc(cc3)S(=O)(=O)N',\n",
    "            'CC(C)C[C@H](NC(=O)[C@@H](NC(=O)[C@H](Cc1c[nH]c2ccccc12)NC(=O)[C@H]3CCCN3C(=O)C(CCCCN)CCCCN)C(C)(C)C)C(=O)O'])\n",
    "records1 == records2 == records3"
   ]
  },
  {
   "cell_type": "markdown",
   "metadata": {},
   "source": [
<<<<<<< HEAD
    "The same can be done _via_ urls:"
=======
    "The same can be done via urls:"
>>>>>>> origin/master
   ]
  },
  {
   "cell_type": "code",
   "execution_count": 19,
   "metadata": {
    "collapsed": false
   },
   "outputs": [
    {
     "name": "stdout",
     "output_type": "stream",
     "text": [
      "http://localhost/chemblws/molecule/set/CHEMBL6498;CHEMBL6499;CHEMBL6505.json\n",
      "http://localhost/chemblws/molecule/set/XSQLHVPPXBBUPP-UHFFFAOYSA-N;JXHVRXRRSSBGPY-UHFFFAOYSA-N;TUHYVXGNMOGVMR-GASGPIRDSA-N.json\n",
      "http://localhost/chemblws/molecule/set/CNC%28%3DO%29c1ccc%28cc1%29N%28CC%23C%29Cc2ccc3nc%28C%29nc%28O%29c3c2;Cc1cc2SC%28C%29%28C%29CC%28C%29%28C%29c2cc1%5CN%3DC%28/S%29%5CNc3ccc%28cc3%29S%28%3DO%29%28%3DO%29N;CC%28C%29C%5BC%40H%5D%28NC%28%3DO%29%5BC%40%40H%5D%28NC%28%3DO%29%5BC%40H%5D%28Cc1c%5BnH%5Dc2ccccc12%29NC%28%3DO%29%5BC%40H%5D3CCCN3C%28%3DO%29C%28CCCCN%29CCCCN%29C%28C%29%28C%29C%29C%28%3DO%29O.json\n"
     ]
    },
    {
     "data": {
      "text/plain": [
       "True"
      ]
     },
     "execution_count": 19,
     "metadata": {},
     "output_type": "execute_result"
    }
   ],
   "source": [
    "url1 = url_stem + \"/molecule/set/%s;%s;%s\" % ('CHEMBL6498', 'CHEMBL6499', 'CHEMBL6505') + \".json\"\n",
    "records1 = requests.get(url1).json()\n",
    "\n",
    "url2 = url_stem + \"/molecule/set/%s;%s;%s\" % ('XSQLHVPPXBBUPP-UHFFFAOYSA-N', 'JXHVRXRRSSBGPY-UHFFFAOYSA-N', 'TUHYVXGNMOGVMR-GASGPIRDSA-N') + \".json\"\n",
    "records2 = requests.get(url2).json()\n",
    "\n",
    "url3 = url_stem + \"/molecule/set/%s;%s;%s\" % (quote('CNC(=O)c1ccc(cc1)N(CC#C)Cc2ccc3nc(C)nc(O)c3c2'),\n",
    "            quote('Cc1cc2SC(C)(C)CC(C)(C)c2cc1\\\\N=C(/S)\\\\Nc3ccc(cc3)S(=O)(=O)N'),\n",
    "            quote('CC(C)C[C@H](NC(=O)[C@@H](NC(=O)[C@H](Cc1c[nH]c2ccccc12)NC(=O)[C@H]3CCCN3C(=O)C(CCCCN)CCCCN)C(C)(C)C)C(=O)O')) + \".json\"\n",
    "records3 = requests.get(url3).json()\n",
    "\n",
    "print url1\n",
    "print url2\n",
    "print url3\n",
    "\n",
    "records1 == records2 == records3\n"
   ]
  },
  {
   "cell_type": "markdown",
   "metadata": {},
   "source": [
    "Please note that the length of url can't be more than 4000 characters. This is why url-based approach should not be used for a very long lists of identifiers. Also `molecule.get` call needs to be modified slightly in that case."
   ]
  },
  {
   "cell_type": "code",
   "execution_count": 20,
   "metadata": {
    "collapsed": false
   },
   "outputs": [
    {
     "data": {
      "text/plain": [
       "169"
      ]
     },
     "execution_count": 20,
     "metadata": {},
     "output_type": "execute_result"
    }
   ],
   "source": [
    "# Generate a list of 300 ChEMBL IDs (N.B. not all will be valid)...\n",
    "\n",
    "chembl_ids = ['CHEMBL{}'.format(x) for x in range(1, 301)]\n",
    "\n",
    "# Get compound records, note `molecule_chembl_id` named parameter.\n",
    "# Named parameters should always be used for longer lists\n",
    "\n",
    "records = molecule.get(molecule_chembl_id=chembl_ids)\n",
    "\n",
    "len(records)"
   ]
  },
  {
   "cell_type": "markdown",
   "metadata": {},
   "source": [
<<<<<<< HEAD
    "Note that we expect to see a number that is less than 300 (169). This is because for some identifiers in range `(CHEMBL1, ..., CHEMBL300)` there are no molecule mapped to them."
=======
    "Note that we expect to see a number that is less than 300 (169). This is because for some indentifiers in range `(CHEMBL1, ..., CHEMBL300)` there is no molecule with such identifier."
>>>>>>> origin/master
   ]
  },
  {
   "cell_type": "markdown",
   "metadata": {},
   "source": [
    "### Filtering\n",
    "All resources available through ChEMBL web services can be filtered.\n",
    "Some examples of filtering applied to molecules:\n",
    "\n",
    "1. Get all approved drugs\n",
    "2. Get all molecules in ChEMBL with no Rule-of-Five violations\n",
    "3. Get all biotherapeutic molecules\n",
    "4. Return molecules with molecular weight <= 300\n",
<<<<<<< HEAD
    "5. Return molecules with molecular weight <= 300 AND pref_name ends with -nib"
=======
    "5. Return molecules with molecular weight <= 300 AND pref_name ends with nib"
>>>>>>> origin/master
   ]
  },
  {
   "cell_type": "code",
   "execution_count": 21,
   "metadata": {
    "collapsed": false
   },
   "outputs": [],
   "source": [
    "# First, filtering using the client:\n",
    "\n",
    "# 1. Get all approved drugs\n",
    "approved_drugs = molecule.filter(max_phase=4)\n",
    "\n",
    "# 2. Get all molecules in ChEMBL with no Rule-of-Five violations\n",
    "no_violations = molecule.filter(molecule_properties__num_ro5_violations=0)\n",
    "\n",
    "# 3. Get all biotherapeutic molecules\n",
    "biotherapeutics = molecule.filter(biotherapeutic__isnull=False)\n",
    "\n",
    "# 4. Return molecules with molecular weight <= 300\n",
    "light_molecules = molecule.filter(molecule_properties__mw_freebase__lte=300)\n",
    "\n",
    "# 5. Return molecules with molecular weight <= 300 AND pref_name ends with nib\n",
    "light_nib_molecules = molecule.filter(molecule_properties__mw_freebase__lte=300).filter(pref_name__iendswith=\"nib\")"
   ]
  },
  {
   "cell_type": "code",
   "execution_count": 22,
   "metadata": {
    "collapsed": false
   },
   "outputs": [
    {
     "name": "stdout",
     "output_type": "stream",
     "text": [
      "http://localhost/chemblws/molecule.json?max_phase=4\n",
      "http://localhost/chemblws/molecule.json?molecule_properties__num_ro5_violations=0\n",
      "http://localhost/chemblws/molecule.json?biotherapeutic__isnull=false\n",
      "http://localhost/chemblws/molecule.json?molecule_properties__mw_freebase__lte=300\n",
      "http://localhost/chemblws/molecule.json?molecule_properties__mw_freebase__lte=300&pref_name__iendswith=nib\n"
     ]
    }
   ],
   "source": [
    "# Secondly, fltering using url endpoint:\n",
    "\n",
    "# 1. Get all approved drugs\n",
    "url_1 = url_stem + \"/molecule.json?max_phase=4\"\n",
    "url_approved_drugs = requests.get(url_1).json()\n",
    "\n",
    "# 2. Get all molecules in ChEMBL with no Rule-of-Five violations\n",
    "url_2 = url_stem + \"/molecule.json?molecule_properties__num_ro5_violations=0\"\n",
    "ulr_no_violations = requests.get(url_2).json()\n",
    "\n",
    "# 3. Get all biotherapeutic molecules\n",
    "url_3 = url_stem + \"/molecule.json?biotherapeutic__isnull=false\"\n",
    "url_biotherapeutics = requests.get(url_3).json()\n",
    "\n",
    "# 4. Return molecules with molecular weight <= 300\n",
    "url_4 = url_stem + \"/molecule.json?molecule_properties__mw_freebase__lte=300\"\n",
    "url_light_molecules = requests.get(url_4).json()\n",
    "\n",
    "# 5. Return molecules with molecular weight <= 300 AND pref_name ends with nib\n",
    "url_5 = url_stem + \"/molecule.json?molecule_properties__mw_freebase__lte=300&pref_name__iendswith=nib\"\n",
    "url_light_nib_molecules = requests.get(url_5).json()\n",
    "\n",
    "print url_1\n",
    "print url_2\n",
    "print url_3\n",
    "print url_4\n",
    "print url_5"
   ]
  },
  {
   "cell_type": "markdown",
   "metadata": {},
   "source": [
    "### Deferences between filtering with client and url endpoint - paging\n",
    "There are some important differences between filering results returned by the client and generated using URL endpoint.\n",
<<<<<<< HEAD
    "Let's have a look at them."
=======
    "Let's the a look at them."
>>>>>>> origin/master
   ]
  },
  {
   "cell_type": "code",
   "execution_count": 23,
   "metadata": {
    "collapsed": false
   },
   "outputs": [
    {
     "name": "stdout",
     "output_type": "stream",
     "text": [
      "False\n",
      "<type 'dict'>\n",
      "<class 'chembl_webresource_client.query_set.QuerySet'>\n"
     ]
    }
   ],
   "source": [
    "# First off, they are not the same thing:\n",
    "print approved_drugs == url_approved_drugs\n",
    "\n",
    "# Not surprisingly, url-endpoint produced JSON data, which has been paresed into python dict:\n",
    "print type(url_approved_drugs)\n",
    "\n",
    "# Whereas the client has returned an object of type `QuerySet`\n",
    "print type(approved_drugs)"
   ]
  },
  {
   "cell_type": "code",
   "execution_count": 24,
   "metadata": {
    "collapsed": false
   },
   "outputs": [
    {
     "data": {
      "text/plain": [
       "{u'molecules': [{u'atc_classifications': [u'C02CA01'],\n",
       "   u'availability_type': u'1',\n",
       "   u'biotherapeutic': None,\n",
       "   u'black_box_warning': u'0',\n",
       "   u'chebi_par_id': 8364,\n",
       "   u'chirality': u'2',\n",
       "   u'dosed_ingredient': False,\n",
       "   u'first_approval': 1976,\n",
       "   u'first_in_class': u'0',\n",
       "   u'helm_notation': None,\n",
       "   u'indication_class': None,\n",
       "   u'inorganic_flag': u'0',\n",
       "   u'max_phase': 4,\n",
       "   u'molecule_chembl_id': u'CHEMBL2',\n",
       "   u'molecule_hierarchy': {u'molecule_chembl_id': u'CHEMBL2',\n",
       "    u'parent_chembl_id': u'CHEMBL2'},\n",
       "   u'molecule_properties': {u'acd_logd': u'2.09',\n",
       "    u'acd_logp': u'2.14',\n",
       "    u'acd_most_apka': None,\n",
       "    u'acd_most_bpka': u'6.52',\n",
       "    u'alogp': u'2.11',\n",
       "    u'aromatic_rings': 3,\n",
       "    u'full_molformula': u'C19H21N5O4',\n",
       "    u'full_mwt': u'383.40',\n",
       "    u'hba': 7,\n",
       "    u'hbd': 1,\n",
       "    u'heavy_atoms': 28,\n",
       "    u'med_chem_friendly': u'Y',\n",
       "    u'molecular_species': u'NEUTRAL',\n",
       "    u'mw_freebase': u'383.40',\n",
       "    u'mw_monoisotopic': u'383.1594',\n",
       "    u'num_alerts': 0,\n",
       "    u'num_ro5_violations': 0,\n",
       "    u'psa': u'106.95',\n",
       "    u'qed_weighted': u'0.74',\n",
       "    u'ro3_pass': u'N',\n",
       "    u'rtb': 4},\n",
       "   u'molecule_structures': {u'canonical_smiles': u'COc1cc2nc(nc(N)c2cc1OC)N3CCN(CC3)C(=O)c4occc4',\n",
       "    u'standard_inchi': u'InChI=1S/C19H21N5O4/c1-26-15-10-12-13(11-16(15)27-2)21-19(22-17(12)20)24-7-5-23(6-8-24)18(25)14-4-3-9-28-14/h3-4,9-11H,5-8H2,1-2H3,(H2,20,21,22)',\n",
       "    u'standard_inchi_key': u'IENZQIKPVFGBNW-UHFFFAOYSA-N'},\n",
       "   u'molecule_synonyms': [{u'syn_type': u'RESEARCH_CODE',\n",
       "     u'synonyms': u'CP-12299'},\n",
       "    {u'syn_type': u'FDA', u'synonyms': u'Prazosin'},\n",
       "    {u'syn_type': u'BAN', u'synonyms': u'Prazosin'},\n",
       "    {u'syn_type': u'INN', u'synonyms': u'Prazosin'}],\n",
       "   u'molecule_type': u'Small molecule',\n",
       "   u'natural_product': u'0',\n",
       "   u'oral': True,\n",
       "   u'parenteral': False,\n",
       "   u'polymer_flag': False,\n",
       "   u'pref_name': u'PRAZOSIN',\n",
       "   u'prodrug': u'0',\n",
       "   u'structure_type': u'MOL',\n",
       "   u'therapeutic_flag': True,\n",
       "   u'topical': False,\n",
       "   u'usan_stem': None,\n",
       "   u'usan_stem_definition': None,\n",
       "   u'usan_substem': None,\n",
       "   u'usan_year': 1968},\n",
       "  {u'atc_classifications': [u'N07BA01'],\n",
       "   u'availability_type': u'2',\n",
       "   u'biotherapeutic': None,\n",
       "   u'black_box_warning': u'0',\n",
       "   u'chebi_par_id': 17688,\n",
       "   u'chirality': u'1',\n",
       "   u'dosed_ingredient': True,\n",
       "   u'first_approval': 1984,\n",
       "   u'first_in_class': u'0',\n",
       "   u'helm_notation': None,\n",
       "   u'indication_class': u'Smoking Cessation Adjunct',\n",
       "   u'inorganic_flag': u'0',\n",
       "   u'max_phase': 4,\n",
       "   u'molecule_chembl_id': u'CHEMBL3',\n",
       "   u'molecule_hierarchy': {u'molecule_chembl_id': u'CHEMBL3',\n",
       "    u'parent_chembl_id': u'CHEMBL3'},\n",
       "   u'molecule_properties': {u'acd_logd': u'-0.62',\n",
       "    u'acd_logp': u'0.57',\n",
       "    u'acd_most_apka': None,\n",
       "    u'acd_most_bpka': u'8.00',\n",
       "    u'alogp': u'1.24',\n",
       "    u'aromatic_rings': 1,\n",
       "    u'full_molformula': u'C10H14N2',\n",
       "    u'full_mwt': u'162.23',\n",
       "    u'hba': 2,\n",
       "    u'hbd': 0,\n",
       "    u'heavy_atoms': 12,\n",
       "    u'med_chem_friendly': u'Y',\n",
       "    u'molecular_species': u'NEUTRAL',\n",
       "    u'mw_freebase': u'162.23',\n",
       "    u'mw_monoisotopic': u'162.1157',\n",
       "    u'num_alerts': 0,\n",
       "    u'num_ro5_violations': 0,\n",
       "    u'psa': u'16.13',\n",
       "    u'qed_weighted': u'0.62',\n",
       "    u'ro3_pass': u'Y',\n",
       "    u'rtb': 1},\n",
       "   u'molecule_structures': {u'canonical_smiles': u'CN1CCC[C@H]1c2cccnc2',\n",
       "    u'standard_inchi': u'InChI=1S/C10H14N2/c1-12-7-3-5-10(12)9-4-2-6-11-8-9/h2,4,6,8,10H,3,5,7H2,1H3/t10-/m0/s1',\n",
       "    u'standard_inchi_key': u'SNICXCGAKADSCV-JTQLQIEISA-N'},\n",
       "   u'molecule_synonyms': [{u'syn_type': u'TRADE_NAME',\n",
       "     u'synonyms': u'Habitrol'},\n",
       "    {u'syn_type': u'TRADE_NAME', u'synonyms': u'Nicoderm CQ'},\n",
       "    {u'syn_type': u'TRADE_NAME', u'synonyms': u'Nicotine'},\n",
       "    {u'syn_type': u'USAN', u'synonyms': u'Nicotine'},\n",
       "    {u'syn_type': u'TRADE_NAME', u'synonyms': u'Nicotrol'},\n",
       "    {u'syn_type': u'TRADE_NAME', u'synonyms': u'Prostep'},\n",
       "    {u'syn_type': u'TRADE_NAME', u'synonyms': u'Nicotrol Inhaler'},\n",
       "    {u'syn_type': u'TRADE_NAME', u'synonyms': u'Nicotrol NS'},\n",
       "    {u'syn_type': u'TRADE_NAME', u'synonyms': u'Nicoderm'},\n",
       "    {u'syn_type': u'MERCK_INDEX', u'synonyms': u'Nicotine'},\n",
       "    {u'syn_type': u'FDA', u'synonyms': u'Nicotine'},\n",
       "    {u'syn_type': u'USP', u'synonyms': u'Nicotine'}],\n",
       "   u'molecule_type': u'Small molecule',\n",
       "   u'natural_product': u'1',\n",
       "   u'oral': True,\n",
       "   u'parenteral': False,\n",
       "   u'polymer_flag': True,\n",
       "   u'pref_name': u'NICOTINE',\n",
       "   u'prodrug': u'0',\n",
       "   u'structure_type': u'MOL',\n",
       "   u'therapeutic_flag': True,\n",
       "   u'topical': True,\n",
       "   u'usan_stem': None,\n",
       "   u'usan_stem_definition': None,\n",
       "   u'usan_substem': None,\n",
       "   u'usan_year': 1985},\n",
       "  {u'atc_classifications': [u'S02AA16', u'J01MA01', u'S01AE01'],\n",
       "   u'availability_type': u'1',\n",
       "   u'biotherapeutic': None,\n",
       "   u'black_box_warning': u'1',\n",
       "   u'chebi_par_id': 7731,\n",
       "   u'chirality': u'0',\n",
       "   u'dosed_ingredient': True,\n",
       "   u'first_approval': 1990,\n",
       "   u'first_in_class': u'0',\n",
       "   u'helm_notation': None,\n",
       "   u'indication_class': u'Antibacterial',\n",
       "   u'inorganic_flag': u'0',\n",
       "   u'max_phase': 4,\n",
       "   u'molecule_chembl_id': u'CHEMBL4',\n",
       "   u'molecule_hierarchy': {u'molecule_chembl_id': u'CHEMBL4',\n",
       "    u'parent_chembl_id': u'CHEMBL4'},\n",
       "   u'molecule_properties': {u'acd_logd': u'-0.39',\n",
       "    u'acd_logp': u'1.86',\n",
       "    u'acd_most_apka': u'5.19',\n",
       "    u'acd_most_bpka': u'7.37',\n",
       "    u'alogp': u'-1.37',\n",
       "    u'aromatic_rings': 1,\n",
       "    u'full_molformula': u'C18H20FN3O4',\n",
       "    u'full_mwt': u'361.37',\n",
       "    u'hba': 7,\n",
       "    u'hbd': 1,\n",
       "    u'heavy_atoms': 26,\n",
       "    u'med_chem_friendly': u'N',\n",
       "    u'molecular_species': u'ACID',\n",
       "    u'mw_freebase': u'361.37',\n",
       "    u'mw_monoisotopic': u'361.1438',\n",
       "    u'num_alerts': 1,\n",
       "    u'num_ro5_violations': 0,\n",
       "    u'psa': u'73.32',\n",
       "    u'qed_weighted': u'0.65',\n",
       "    u'ro3_pass': u'N',\n",
       "    u'rtb': 2},\n",
       "   u'molecule_structures': {u'canonical_smiles': u'CC1COc2c(N3CCN(C)CC3)c(F)cc4C(=O)C(=CN1c24)C(=O)O',\n",
       "    u'standard_inchi': u'InChI=1S/C18H20FN3O4/c1-10-9-26-17-14-11(16(23)12(18(24)25)8-22(10)14)7-13(19)15(17)21-5-3-20(2)4-6-21/h7-8,10H,3-6,9H2,1-2H3,(H,24,25)',\n",
       "    u'standard_inchi_key': u'GSDSWSVVBLHKDQ-UHFFFAOYSA-N'},\n",
       "   u'molecule_synonyms': [{u'syn_type': u'TRADE_NAME', u'synonyms': u'Floxin'},\n",
       "    {u'syn_type': u'TRADE_NAME', u'synonyms': u'Floxin Otic'},\n",
       "    {u'syn_type': u'RESEARCH_CODE', u'synonyms': u'HOE-280'},\n",
       "    {u'syn_type': u'TRADE_NAME', u'synonyms': u'Ocuflox'},\n",
       "    {u'syn_type': u'TRADE_NAME', u'synonyms': u'Ofloxacin'},\n",
       "    {u'syn_type': u'TRADE_NAME', u'synonyms': u'Visiren'},\n",
       "    {u'syn_type': u'TRADE_NAME', u'synonyms': u'Tarivid'},\n",
       "    {u'syn_type': u'RESEARCH_CODE', u'synonyms': u'DL-8280'},\n",
       "    {u'syn_type': u'BAN', u'synonyms': u'Ofloxacin'},\n",
       "    {u'syn_type': u'FDA', u'synonyms': u'Ofloxacin'},\n",
       "    {u'syn_type': u'INN', u'synonyms': u'Ofloxacin'},\n",
       "    {u'syn_type': u'JAN', u'synonyms': u'Ofloxacin'},\n",
       "    {u'syn_type': u'USP', u'synonyms': u'Ofloxacin'},\n",
       "    {u'syn_type': u'USAN', u'synonyms': u'Ofloxacin'}],\n",
       "   u'molecule_type': u'Small molecule',\n",
       "   u'natural_product': u'0',\n",
       "   u'oral': True,\n",
       "   u'parenteral': True,\n",
       "   u'polymer_flag': False,\n",
       "   u'pref_name': u'OFLOXACIN',\n",
       "   u'prodrug': u'0',\n",
       "   u'structure_type': u'MOL',\n",
       "   u'therapeutic_flag': True,\n",
       "   u'topical': True,\n",
       "   u'usan_stem': u'-oxacin',\n",
       "   u'usan_stem_definition': u'antibacterials (quinolone derivatives)',\n",
       "   u'usan_substem': None,\n",
       "   u'usan_year': 1984},\n",
       "  {u'atc_classifications': [u'J01MB02'],\n",
       "   u'availability_type': u'0',\n",
       "   u'biotherapeutic': None,\n",
       "   u'black_box_warning': u'0',\n",
       "   u'chebi_par_id': 100147,\n",
       "   u'chirality': u'2',\n",
       "   u'dosed_ingredient': True,\n",
       "   u'first_approval': 1964,\n",
       "   u'first_in_class': u'0',\n",
       "   u'helm_notation': None,\n",
       "   u'indication_class': u'Antibacterial',\n",
       "   u'inorganic_flag': u'0',\n",
       "   u'max_phase': 4,\n",
       "   u'molecule_chembl_id': u'CHEMBL5',\n",
       "   u'molecule_hierarchy': {u'molecule_chembl_id': u'CHEMBL5',\n",
       "    u'parent_chembl_id': u'CHEMBL5'},\n",
       "   u'molecule_properties': {u'acd_logd': u'-1.54',\n",
       "    u'acd_logp': u'0.03',\n",
       "    u'acd_most_apka': u'3.45',\n",
       "    u'acd_most_bpka': u'6.12',\n",
       "    u'alogp': u'1.18',\n",
       "    u'aromatic_rings': 1,\n",
       "    u'full_molformula': u'C12H12N2O3',\n",
       "    u'full_mwt': u'232.24',\n",
       "    u'hba': 5,\n",
       "    u'hbd': 1,\n",
       "    u'heavy_atoms': 17,\n",
       "    u'med_chem_friendly': u'N',\n",
       "    u'molecular_species': u'ACID',\n",
       "    u'mw_freebase': u'232.24',\n",
       "    u'mw_monoisotopic': u'232.0848',\n",
       "    u'num_alerts': 1,\n",
       "    u'num_ro5_violations': 0,\n",
       "    u'psa': u'70.50',\n",
       "    u'qed_weighted': u'0.78',\n",
       "    u'ro3_pass': u'N',\n",
       "    u'rtb': 2},\n",
       "   u'molecule_structures': {u'canonical_smiles': u'CCN1C=C(C(=O)O)C(=O)c2ccc(C)nc12',\n",
       "    u'standard_inchi': u'InChI=1S/C12H12N2O3/c1-3-14-6-9(12(16)17)10(15)8-5-4-7(2)13-11(8)14/h4-6H,3H2,1-2H3,(H,16,17)',\n",
       "    u'standard_inchi_key': u'MHWLWQUZZRMNGJ-UHFFFAOYSA-N'},\n",
       "   u'molecule_synonyms': [{u'syn_type': u'TRADE_NAME',\n",
       "     u'synonyms': u'Nalidixic Acid'},\n",
       "    {u'syn_type': u'TRADE_NAME', u'synonyms': u'Neggram'},\n",
       "    {u'syn_type': u'RESEARCH_CODE', u'synonyms': u'WIN-18320'},\n",
       "    {u'syn_type': u'TRADE_NAME', u'synonyms': u'Neg Gram'},\n",
       "    {u'syn_type': u'TRADE_NAME', u'synonyms': u'Uroneg'},\n",
       "    {u'syn_type': u'TRADE_NAME', u'synonyms': u'Wintomylon'},\n",
       "    {u'syn_type': u'OTHER', u'synonyms': u'Nalidixane'},\n",
       "    {u'syn_type': u'BAN', u'synonyms': u'Nalidixic Acid'},\n",
       "    {u'syn_type': u'FDA', u'synonyms': u'Nalidixic Acid'},\n",
       "    {u'syn_type': u'INN', u'synonyms': u'Nalidixic Acid'},\n",
       "    {u'syn_type': u'JAN', u'synonyms': u'Nalidixic Acid'},\n",
       "    {u'syn_type': u'USP', u'synonyms': u'Nalidixic Acid'},\n",
       "    {u'syn_type': u'USAN', u'synonyms': u'Nalidixic Acid'}],\n",
       "   u'molecule_type': u'Small molecule',\n",
       "   u'natural_product': u'0',\n",
       "   u'oral': True,\n",
       "   u'parenteral': False,\n",
       "   u'polymer_flag': False,\n",
       "   u'pref_name': u'NALIDIXIC ACID',\n",
       "   u'prodrug': u'0',\n",
       "   u'structure_type': u'MOL',\n",
       "   u'therapeutic_flag': True,\n",
       "   u'topical': False,\n",
       "   u'usan_stem': None,\n",
       "   u'usan_stem_definition': None,\n",
       "   u'usan_substem': None,\n",
       "   u'usan_year': 1962},\n",
       "  {u'atc_classifications': [u'M01AB51',\n",
       "    u'M02AA23',\n",
       "    u'C01EB03',\n",
       "    u'S01BC01',\n",
       "    u'M01AB01'],\n",
       "   u'availability_type': u'1',\n",
       "   u'biotherapeutic': None,\n",
       "   u'black_box_warning': u'1',\n",
       "   u'chebi_par_id': 49662,\n",
       "   u'chirality': u'2',\n",
       "   u'dosed_ingredient': True,\n",
       "   u'first_approval': 1965,\n",
       "   u'first_in_class': u'0',\n",
       "   u'helm_notation': None,\n",
       "   u'indication_class': u'Anti-Inflammatory',\n",
       "   u'inorganic_flag': u'0',\n",
       "   u'max_phase': 4,\n",
       "   u'molecule_chembl_id': u'CHEMBL6',\n",
       "   u'molecule_hierarchy': {u'molecule_chembl_id': u'CHEMBL6',\n",
       "    u'parent_chembl_id': u'CHEMBL6'},\n",
       "   u'molecule_properties': {u'acd_logd': u'0.98',\n",
       "    u'acd_logp': u'4.25',\n",
       "    u'acd_most_apka': u'3.96',\n",
       "    u'acd_most_bpka': None,\n",
       "    u'alogp': u'4.24',\n",
       "    u'aromatic_rings': 3,\n",
       "    u'full_molformula': u'C19H16ClNO4',\n",
       "    u'full_mwt': u'357.79',\n",
       "    u'hba': 4,\n",
       "    u'hbd': 1,\n",
       "    u'heavy_atoms': 25,\n",
       "    u'med_chem_friendly': u'Y',\n",
       "    u'molecular_species': u'ACID',\n",
       "    u'mw_freebase': u'357.79',\n",
       "    u'mw_monoisotopic': u'357.0768',\n",
       "    u'num_alerts': 0,\n",
       "    u'num_ro5_violations': 0,\n",
       "    u'psa': u'68.53',\n",
       "    u'qed_weighted': u'0.76',\n",
       "    u'ro3_pass': u'N',\n",
       "    u'rtb': 4},\n",
       "   u'molecule_structures': {u'canonical_smiles': u'COc1ccc2c(c1)c(CC(=O)O)c(C)n2C(=O)c3ccc(Cl)cc3',\n",
       "    u'standard_inchi': u'InChI=1S/C19H16ClNO4/c1-11-15(10-18(22)23)16-9-14(25-2)7-8-17(16)21(11)19(24)12-3-5-13(20)6-4-12/h3-9H,10H2,1-2H3,(H,22,23)',\n",
       "    u'standard_inchi_key': u'CGIGDMFJXJATDK-UHFFFAOYSA-N'},\n",
       "   u'molecule_synonyms': [{u'syn_type': u'TRADE_NAME',\n",
       "     u'synonyms': u'Indo-Lemmon'},\n",
       "    {u'syn_type': u'TRADE_NAME', u'synonyms': u'Indocin'},\n",
       "    {u'syn_type': u'TRADE_NAME', u'synonyms': u'Indocin SR'},\n",
       "    {u'syn_type': u'TRADE_NAME', u'synonyms': u'Indomethacin'},\n",
       "    {u'syn_type': u'BAN', u'synonyms': u'Indometacin'},\n",
       "    {u'syn_type': u'DCF', u'synonyms': u'Indometacin'},\n",
       "    {u'syn_type': u'INN', u'synonyms': u'Indometacin'},\n",
       "    {u'syn_type': u'JAN', u'synonyms': u'Indometacin'},\n",
       "    {u'syn_type': u'FDA', u'synonyms': u'Indomethacin'},\n",
       "    {u'syn_type': u'USP', u'synonyms': u'Indomethacin'},\n",
       "    {u'syn_type': u'USAN', u'synonyms': u'Indomethacin'},\n",
       "    {u'syn_type': u'OTHER', u'synonyms': u'Indomethacin'},\n",
       "    {u'syn_type': u'JAN', u'synonyms': u'Indometacin Farnesil'}],\n",
       "   u'molecule_type': u'Small molecule',\n",
       "   u'natural_product': u'0',\n",
       "   u'oral': True,\n",
       "   u'parenteral': True,\n",
       "   u'polymer_flag': False,\n",
       "   u'pref_name': u'INDOMETHACIN',\n",
       "   u'prodrug': u'0',\n",
       "   u'structure_type': u'MOL',\n",
       "   u'therapeutic_flag': True,\n",
       "   u'topical': True,\n",
       "   u'usan_stem': None,\n",
       "   u'usan_stem_definition': None,\n",
       "   u'usan_substem': None,\n",
       "   u'usan_year': 1963},\n",
       "  {u'atc_classifications': [u'J01CG01'],\n",
       "   u'availability_type': u'1',\n",
       "   u'biotherapeutic': None,\n",
       "   u'black_box_warning': u'0',\n",
       "   u'chebi_par_id': 9321,\n",
       "   u'chirality': u'1',\n",
       "   u'dosed_ingredient': False,\n",
       "   u'first_approval': 1986,\n",
       "   u'first_in_class': u'0',\n",
       "   u'helm_notation': None,\n",
       "   u'indication_class': None,\n",
       "   u'inorganic_flag': u'0',\n",
       "   u'max_phase': 4,\n",
       "   u'molecule_chembl_id': u'CHEMBL403',\n",
       "   u'molecule_hierarchy': {u'molecule_chembl_id': u'CHEMBL403',\n",
       "    u'parent_chembl_id': u'CHEMBL403'},\n",
       "   u'molecule_properties': {u'acd_logd': u'-3.33',\n",
       "    u'acd_logp': u'0.39',\n",
       "    u'acd_most_apka': u'2.62',\n",
       "    u'acd_most_bpka': None,\n",
       "    u'alogp': u'-0.67',\n",
       "    u'aromatic_rings': 0,\n",
       "    u'full_molformula': u'C8H11NO5S',\n",
       "    u'full_mwt': u'233.24',\n",
       "    u'hba': 5,\n",
       "    u'hbd': 1,\n",
       "    u'heavy_atoms': 15,\n",
       "    u'med_chem_friendly': u'Y',\n",
       "    u'molecular_species': u'ACID',\n",
       "    u'mw_freebase': u'233.24',\n",
       "    u'mw_monoisotopic': u'233.0358',\n",
       "    u'num_alerts': 1,\n",
       "    u'num_ro5_violations': 0,\n",
       "    u'psa': u'100.13',\n",
       "    u'qed_weighted': u'0.61',\n",
       "    u'ro3_pass': u'N',\n",
       "    u'rtb': 1},\n",
       "   u'molecule_structures': {u'canonical_smiles': u'CC1(C)[C@@H](N2[C@@H](CC2=O)S1(=O)=O)C(=O)O',\n",
       "    u'standard_inchi': u'InChI=1S/C8H11NO5S/c1-8(2)6(7(11)12)9-4(10)3-5(9)15(8,13)14/h5-6H,3H2,1-2H3,(H,11,12)/t5-,6+/m1/s1',\n",
       "    u'standard_inchi_key': u'FKENQMMABCRJMK-RITPCOANSA-N'},\n",
       "   u'molecule_synonyms': [{u'syn_type': u'RESEARCH_CODE',\n",
       "     u'synonyms': u'CP-45899'},\n",
       "    {u'syn_type': u'FDA', u'synonyms': u'Sulbactam'},\n",
       "    {u'syn_type': u'BAN', u'synonyms': u'Sulbactam'},\n",
       "    {u'syn_type': u'INN', u'synonyms': u'Sulbactam'}],\n",
       "   u'molecule_type': u'Small molecule',\n",
       "   u'natural_product': u'1',\n",
       "   u'oral': False,\n",
       "   u'parenteral': True,\n",
       "   u'polymer_flag': False,\n",
       "   u'pref_name': u'SULBACTAM',\n",
       "   u'prodrug': u'0',\n",
       "   u'structure_type': u'MOL',\n",
       "   u'therapeutic_flag': True,\n",
       "   u'topical': False,\n",
       "   u'usan_stem': None,\n",
       "   u'usan_stem_definition': None,\n",
       "   u'usan_substem': None,\n",
       "   u'usan_year': 1980},\n",
       "  {u'atc_classifications': [u'J01CG02'],\n",
       "   u'availability_type': u'1',\n",
       "   u'biotherapeutic': None,\n",
       "   u'black_box_warning': u'0',\n",
       "   u'chebi_par_id': None,\n",
       "   u'chirality': u'1',\n",
       "   u'dosed_ingredient': True,\n",
       "   u'first_approval': 1993,\n",
       "   u'first_in_class': u'0',\n",
       "   u'helm_notation': None,\n",
       "   u'indication_class': u'Inhibitor (beta-lactamase)',\n",
       "   u'inorganic_flag': u'0',\n",
       "   u'max_phase': 4,\n",
       "   u'molecule_chembl_id': u'CHEMBL404',\n",
       "   u'molecule_hierarchy': {u'molecule_chembl_id': u'CHEMBL404',\n",
       "    u'parent_chembl_id': u'CHEMBL404'},\n",
       "   u'molecule_properties': {u'acd_logd': u'-3.13',\n",
       "    u'acd_logp': u'0.60',\n",
       "    u'acd_most_apka': u'2.33',\n",
       "    u'acd_most_bpka': u'0.85',\n",
       "    u'alogp': u'-1.19',\n",
       "    u'aromatic_rings': 1,\n",
       "    u'full_molformula': u'C10H12N4O5S',\n",
       "    u'full_mwt': u'300.29',\n",
       "    u'hba': 7,\n",
       "    u'hbd': 1,\n",
       "    u'heavy_atoms': 20,\n",
       "    u'med_chem_friendly': u'Y',\n",
       "    u'molecular_species': u'ACID',\n",
       "    u'mw_freebase': u'300.29',\n",
       "    u'mw_monoisotopic': u'300.0528',\n",
       "    u'num_alerts': 1,\n",
       "    u'num_ro5_violations': 0,\n",
       "    u'psa': u'130.83',\n",
       "    u'qed_weighted': u'0.69',\n",
       "    u'ro3_pass': u'N',\n",
       "    u'rtb': 3},\n",
       "   u'molecule_structures': {u'canonical_smiles': u'C[C@]1(Cn2ccnn2)[C@@H](N3[C@@H](CC3=O)S1(=O)=O)C(=O)O',\n",
       "    u'standard_inchi': u'InChI=1S/C10H12N4O5S/c1-10(5-13-3-2-11-12-13)8(9(16)17)14-6(15)4-7(14)20(10,18)19/h2-3,7-8H,4-5H2,1H3,(H,16,17)/t7-,8+,10+/m1/s1',\n",
       "    u'standard_inchi_key': u'LPQZKKCYTLCDGQ-WEDXCCLWSA-N'},\n",
       "   u'molecule_synonyms': [{u'syn_type': u'RESEARCH_CODE',\n",
       "     u'synonyms': u'CL-298741'},\n",
       "    {u'syn_type': u'FDA', u'synonyms': u'Tazobactam'},\n",
       "    {u'syn_type': u'RESEARCH_CODE', u'synonyms': u'YTR-830H'},\n",
       "    {u'syn_type': u'BAN', u'synonyms': u'Tazobactam'},\n",
       "    {u'syn_type': u'INN', u'synonyms': u'Tazobactam'},\n",
       "    {u'syn_type': u'USAN', u'synonyms': u'Tazobactam'}],\n",
       "   u'molecule_type': u'Small molecule',\n",
       "   u'natural_product': u'1',\n",
       "   u'oral': False,\n",
       "   u'parenteral': True,\n",
       "   u'polymer_flag': False,\n",
       "   u'pref_name': u'TAZOBACTAM',\n",
       "   u'prodrug': u'0',\n",
       "   u'structure_type': u'MOL',\n",
       "   u'therapeutic_flag': True,\n",
       "   u'topical': False,\n",
       "   u'usan_stem': u'-bactam',\n",
       "   u'usan_stem_definition': u'beta-lactamase inhibitors',\n",
       "   u'usan_substem': None,\n",
       "   u'usan_year': 1989},\n",
       "  {u'atc_classifications': [u'S02AA15', u'S03AA07', u'J01MA02', u'S01AE03'],\n",
       "   u'availability_type': u'1',\n",
       "   u'biotherapeutic': None,\n",
       "   u'black_box_warning': u'1',\n",
       "   u'chebi_par_id': 100241,\n",
       "   u'chirality': u'2',\n",
       "   u'dosed_ingredient': True,\n",
       "   u'first_approval': 1987,\n",
       "   u'first_in_class': u'0',\n",
       "   u'helm_notation': None,\n",
       "   u'indication_class': u'Antibacterial',\n",
       "   u'inorganic_flag': u'0',\n",
       "   u'max_phase': 4,\n",
       "   u'molecule_chembl_id': u'CHEMBL8',\n",
       "   u'molecule_hierarchy': {u'molecule_chembl_id': u'CHEMBL8',\n",
       "    u'parent_chembl_id': u'CHEMBL8'},\n",
       "   u'molecule_properties': {u'acd_logd': u'-0.29',\n",
       "    u'acd_logp': u'1.63',\n",
       "    u'acd_most_apka': u'6.43',\n",
       "    u'acd_most_bpka': u'8.68',\n",
       "    u'alogp': u'-1.27',\n",
       "    u'aromatic_rings': 1,\n",
       "    u'full_molformula': u'C17H18FN3O3',\n",
       "    u'full_mwt': u'331.34',\n",
       "    u'hba': 6,\n",
       "    u'hbd': 2,\n",
       "    u'heavy_atoms': 24,\n",
       "    u'med_chem_friendly': u'N',\n",
       "    u'molecular_species': u'ZWITTERION',\n",
       "    u'mw_freebase': u'331.34',\n",
       "    u'mw_monoisotopic': u'331.1332',\n",
       "    u'num_alerts': 1,\n",
       "    u'num_ro5_violations': 0,\n",
       "    u'psa': u'72.88',\n",
       "    u'qed_weighted': u'0.67',\n",
       "    u'ro3_pass': u'N',\n",
       "    u'rtb': 3},\n",
       "   u'molecule_structures': {u'canonical_smiles': u'OC(=O)C1=CN(C2CC2)c3cc(N4CCNCC4)c(F)cc3C1=O',\n",
       "    u'standard_inchi': u'InChI=1S/C17H18FN3O3/c18-13-7-11-14(8-15(13)20-5-3-19-4-6-20)21(10-1-2-10)9-12(16(11)22)17(23)24/h7-10,19H,1-6H2,(H,23,24)',\n",
       "    u'standard_inchi_key': u'MYSWGUAQZAJSOK-UHFFFAOYSA-N'},\n",
       "   u'molecule_synonyms': [{u'syn_type': u'RESEARCH_CODE',\n",
       "     u'synonyms': u'BAY-Q-3939'},\n",
       "    {u'syn_type': u'OTHER', u'synonyms': u'Ciloxan'},\n",
       "    {u'syn_type': u'TRADE_NAME', u'synonyms': u'Cipro'},\n",
       "    {u'syn_type': u'TRADE_NAME', u'synonyms': u'Ciprofloxacin'},\n",
       "    {u'syn_type': u'TRADE_NAME', u'synonyms': u'Ciloxan'},\n",
       "    {u'syn_type': u'TRADE_NAME', u'synonyms': u'Velmonit'},\n",
       "    {u'syn_type': u'TRADE_NAME', u'synonyms': u'Ciprobay'},\n",
       "    {u'syn_type': u'BAN', u'synonyms': u'Ciprofloxacin'},\n",
       "    {u'syn_type': u'FDA', u'synonyms': u'Ciprofloxacin'},\n",
       "    {u'syn_type': u'INN', u'synonyms': u'Ciprofloxacin'},\n",
       "    {u'syn_type': u'USP', u'synonyms': u'Ciprofloxacin'},\n",
       "    {u'syn_type': u'USAN', u'synonyms': u'Ciprofloxacin'}],\n",
       "   u'molecule_type': u'Small molecule',\n",
       "   u'natural_product': u'0',\n",
       "   u'oral': True,\n",
       "   u'parenteral': True,\n",
       "   u'polymer_flag': False,\n",
       "   u'pref_name': u'CIPROFLOXACIN',\n",
       "   u'prodrug': u'0',\n",
       "   u'structure_type': u'MOL',\n",
       "   u'therapeutic_flag': True,\n",
       "   u'topical': True,\n",
       "   u'usan_stem': u'-oxacin',\n",
       "   u'usan_stem_definition': u'antibacterials (quinolone derivatives)',\n",
       "   u'usan_substem': None,\n",
       "   u'usan_year': 1987},\n",
       "  {u'atc_classifications': [u'J01MA06', u'S01AE02'],\n",
       "   u'availability_type': u'1',\n",
       "   u'biotherapeutic': None,\n",
       "   u'black_box_warning': u'1',\n",
       "   u'chebi_par_id': 100246,\n",
       "   u'chirality': u'2',\n",
       "   u'dosed_ingredient': True,\n",
       "   u'first_approval': 1986,\n",
       "   u'first_in_class': u'0',\n",
       "   u'helm_notation': None,\n",
       "   u'indication_class': u'Antibacterial',\n",
       "   u'inorganic_flag': u'0',\n",
       "   u'max_phase': 4,\n",
       "   u'molecule_chembl_id': u'CHEMBL9',\n",
       "   u'molecule_hierarchy': {u'molecule_chembl_id': u'CHEMBL9',\n",
       "    u'parent_chembl_id': u'CHEMBL9'},\n",
       "   u'molecule_properties': {u'acd_logd': u'-0.66',\n",
       "    u'acd_logp': u'1.74',\n",
       "    u'acd_most_apka': u'0.16',\n",
       "    u'acd_most_bpka': u'8.68',\n",
       "    u'alogp': u'-1.41',\n",
       "    u'aromatic_rings': 1,\n",
       "    u'full_molformula': u'C16H18FN3O3',\n",
       "    u'full_mwt': u'319.33',\n",
       "    u'hba': 6,\n",
       "    u'hbd': 2,\n",
       "    u'heavy_atoms': 23,\n",
       "    u'med_chem_friendly': u'N',\n",
       "    u'molecular_species': u'ZWITTERION',\n",
       "    u'mw_freebase': u'319.33',\n",
       "    u'mw_monoisotopic': u'319.1332',\n",
       "    u'num_alerts': 1,\n",
       "    u'num_ro5_violations': 0,\n",
       "    u'psa': u'72.88',\n",
       "    u'qed_weighted': u'0.67',\n",
       "    u'ro3_pass': u'N',\n",
       "    u'rtb': 3},\n",
       "   u'molecule_structures': {u'canonical_smiles': u'CCN1C=C(C(=O)O)C(=O)c2cc(F)c(cc12)N3CCNCC3',\n",
       "    u'standard_inchi': u'InChI=1S/C16H18FN3O3/c1-2-19-9-11(16(22)23)15(21)10-7-12(17)14(8-13(10)19)20-5-3-18-4-6-20/h7-9,18H,2-6H2,1H3,(H,22,23)',\n",
       "    u'standard_inchi_key': u'OGJPXUAPXNRGGI-UHFFFAOYSA-N'},\n",
       "   u'molecule_synonyms': [{u'syn_type': u'TRADE_NAME',\n",
       "     u'synonyms': u'Chibroxin'},\n",
       "    {u'syn_type': u'TRADE_NAME', u'synonyms': u'Noroxin'},\n",
       "    {u'syn_type': u'TRADE_NAME', u'synonyms': u'Baccidal'},\n",
       "    {u'syn_type': u'TRADE_NAME', u'synonyms': u'Quinabic'},\n",
       "    {u'syn_type': u'OTHER', u'synonyms': u'Noroxin'},\n",
       "    {u'syn_type': u'RESEARCH_CODE', u'synonyms': u'MK-366'},\n",
       "    {u'syn_type': u'BAN', u'synonyms': u'Norfloxacin'},\n",
       "    {u'syn_type': u'FDA', u'synonyms': u'Norfloxacin'},\n",
       "    {u'syn_type': u'INN', u'synonyms': u'Norfloxacin'},\n",
       "    {u'syn_type': u'JAN', u'synonyms': u'Norfloxacin'},\n",
       "    {u'syn_type': u'USP', u'synonyms': u'Norfloxacin'},\n",
       "    {u'syn_type': u'USAN', u'synonyms': u'Norfloxacin'}],\n",
       "   u'molecule_type': u'Small molecule',\n",
       "   u'natural_product': u'0',\n",
       "   u'oral': True,\n",
       "   u'parenteral': False,\n",
       "   u'polymer_flag': False,\n",
       "   u'pref_name': u'NORFLOXACIN',\n",
       "   u'prodrug': u'0',\n",
       "   u'structure_type': u'MOL',\n",
       "   u'therapeutic_flag': True,\n",
       "   u'topical': True,\n",
       "   u'usan_stem': u'-oxacin',\n",
       "   u'usan_stem_definition': u'antibacterials (quinolone derivatives)',\n",
       "   u'usan_substem': None,\n",
       "   u'usan_year': 1984},\n",
       "  {u'atc_classifications': [u'N06BA01'],\n",
       "   u'availability_type': u'1',\n",
       "   u'biotherapeutic': None,\n",
       "   u'black_box_warning': u'1',\n",
       "   u'chebi_par_id': 2679,\n",
       "   u'chirality': u'0',\n",
       "   u'dosed_ingredient': True,\n",
       "   u'first_approval': 1955,\n",
       "   u'first_in_class': u'0',\n",
       "   u'helm_notation': None,\n",
       "   u'indication_class': None,\n",
       "   u'inorganic_flag': u'0',\n",
       "   u'max_phase': 4,\n",
       "   u'molecule_chembl_id': u'CHEMBL405',\n",
       "   u'molecule_hierarchy': {u'molecule_chembl_id': u'CHEMBL405',\n",
       "    u'parent_chembl_id': u'CHEMBL405'},\n",
       "   u'molecule_properties': {u'acd_logd': u'-0.65',\n",
       "    u'acd_logp': u'1.79',\n",
       "    u'acd_most_apka': None,\n",
       "    u'acd_most_bpka': u'9.94',\n",
       "    u'alogp': u'1.63',\n",
       "    u'aromatic_rings': 1,\n",
       "    u'full_molformula': u'C9H13N',\n",
       "    u'full_mwt': u'135.21',\n",
       "    u'hba': 1,\n",
       "    u'hbd': 1,\n",
       "    u'heavy_atoms': 10,\n",
       "    u'med_chem_friendly': u'Y',\n",
       "    u'molecular_species': u'BASE',\n",
       "    u'mw_freebase': u'135.21',\n",
       "    u'mw_monoisotopic': u'135.1048',\n",
       "    u'num_alerts': 0,\n",
       "    u'num_ro5_violations': 0,\n",
       "    u'psa': u'26.02',\n",
       "    u'qed_weighted': u'0.66',\n",
       "    u'ro3_pass': u'Y',\n",
       "    u'rtb': 2},\n",
       "   u'molecule_structures': {u'canonical_smiles': u'CC(N)Cc1ccccc1',\n",
       "    u'standard_inchi': u'InChI=1S/C9H13N/c1-8(10)7-9-5-3-2-4-6-9/h2-6,8H,7,10H2,1H3',\n",
       "    u'standard_inchi_key': u'KWTSXDURSIMDCE-UHFFFAOYSA-N'},\n",
       "   u'molecule_synonyms': [{u'syn_type': u'FDA', u'synonyms': u'Amphetamine'},\n",
       "    {u'syn_type': u'USAN', u'synonyms': u'Amphetamine'},\n",
       "    {u'syn_type': u'INN', u'synonyms': u'Amphetamine'},\n",
       "    {u'syn_type': u'INN', u'synonyms': u'Amfetamine'},\n",
       "    {u'syn_type': u'OTHER', u'synonyms': u'Amphetamine'},\n",
       "    {u'syn_type': u'FDA', u'synonyms': u'Amphetamine resin complex'}],\n",
       "   u'molecule_type': u'Small molecule',\n",
       "   u'natural_product': u'0',\n",
       "   u'oral': True,\n",
       "   u'parenteral': False,\n",
       "   u'polymer_flag': False,\n",
       "   u'pref_name': u'AMPHETAMINE',\n",
       "   u'prodrug': u'0',\n",
       "   u'structure_type': u'MOL',\n",
       "   u'therapeutic_flag': True,\n",
       "   u'topical': False,\n",
       "   u'usan_stem': None,\n",
       "   u'usan_stem_definition': None,\n",
       "   u'usan_substem': None,\n",
       "   u'usan_year': None},\n",
       "  {u'atc_classifications': [u'C05AE02', u'C01DA08', u'C01DA58'],\n",
       "   u'availability_type': u'1',\n",
       "   u'biotherapeutic': None,\n",
       "   u'black_box_warning': u'0',\n",
       "   u'chebi_par_id': 6061,\n",
       "   u'chirality': u'1',\n",
       "   u'dosed_ingredient': True,\n",
       "   u'first_approval': 1986,\n",
       "   u'first_in_class': u'0',\n",
       "   u'helm_notation': None,\n",
       "   u'indication_class': u'Vasodilator (coronary)',\n",
       "   u'inorganic_flag': u'0',\n",
       "   u'max_phase': 4,\n",
       "   u'molecule_chembl_id': u'CHEMBL6622',\n",
       "   u'molecule_hierarchy': {u'molecule_chembl_id': u'CHEMBL6622',\n",
       "    u'parent_chembl_id': u'CHEMBL6622'},\n",
       "   u'molecule_properties': {u'acd_logd': u'0.95',\n",
       "    u'acd_logp': u'0.95',\n",
       "    u'acd_most_apka': None,\n",
       "    u'acd_most_bpka': None,\n",
       "    u'alogp': u'3.41',\n",
       "    u'aromatic_rings': 0,\n",
       "    u'full_molformula': u'C6H8N2O8',\n",
       "    u'full_mwt': u'236.14',\n",
       "    u'hba': 8,\n",
       "    u'hbd': 0,\n",
       "    u'heavy_atoms': 16,\n",
       "    u'med_chem_friendly': u'N',\n",
       "    u'molecular_species': None,\n",
       "    u'mw_freebase': u'236.14',\n",
       "    u'mw_monoisotopic': u'236.0281',\n",
       "    u'num_alerts': 2,\n",
       "    u'num_ro5_violations': 0,\n",
       "    u'psa': u'128.56',\n",
       "    u'qed_weighted': u'0.54',\n",
       "    u'ro3_pass': u'N',\n",
       "    u'rtb': 4},\n",
       "   u'molecule_structures': {u'canonical_smiles': u'[O-][N+](=O)O[C@H]1CO[C@@H]2[C@@H](CO[C@H]12)O[N+](=O)[O-]',\n",
       "    u'standard_inchi': u'InChI=1S/C6H8N2O8/c9-7(10)15-3-1-13-6-4(16-8(11)12)2-14-5(3)6/h3-6H,1-2H2/t3-,4+,5-,6-/m1/s1',\n",
       "    u'standard_inchi_key': u'MOYKHGMNXAOIAT-JGWLITMVSA-N'},\n",
       "   u'molecule_synonyms': [{u'syn_type': u'TRADE_NAME',\n",
       "     u'synonyms': u'Isordil'},\n",
       "    {u'syn_type': u'TRADE_NAME', u'synonyms': u'Dilatrate-Sr'},\n",
       "    {u'syn_type': u'TRADE_NAME', u'synonyms': u'Isosorbide Dinitrate'},\n",
       "    {u'syn_type': u'TRADE_NAME', u'synonyms': u'Sorbitrate'},\n",
       "    {u'syn_type': u'TRADE_NAME', u'synonyms': u'Dilatrate'},\n",
       "    {u'syn_type': u'OTHER', u'synonyms': u'Sorbide Nitrate'},\n",
       "    {u'syn_type': u'BAN', u'synonyms': u'Isosorbide Dinitrate'},\n",
       "    {u'syn_type': u'FDA', u'synonyms': u'Isosorbide Dinitrate'},\n",
       "    {u'syn_type': u'INN', u'synonyms': u'Isosorbide Dinitrate'},\n",
       "    {u'syn_type': u'JAN', u'synonyms': u'Isosorbide Dinitrate'},\n",
       "    {u'syn_type': u'USP', u'synonyms': u'Isosorbide Dinitrate'},\n",
       "    {u'syn_type': u'USAN', u'synonyms': u'Isosorbide Dinitrate'}],\n",
       "   u'molecule_type': u'Small molecule',\n",
       "   u'natural_product': u'1',\n",
       "   u'oral': True,\n",
       "   u'parenteral': False,\n",
       "   u'polymer_flag': False,\n",
       "   u'pref_name': u'ISOSORBIDE DINITRATE',\n",
       "   u'prodrug': u'1',\n",
       "   u'structure_type': u'MOL',\n",
       "   u'therapeutic_flag': True,\n",
       "   u'topical': True,\n",
       "   u'usan_stem': None,\n",
       "   u'usan_stem_definition': None,\n",
       "   u'usan_substem': None,\n",
       "   u'usan_year': 1966},\n",
       "  {u'atc_classifications': [u'N06AA02'],\n",
       "   u'availability_type': u'1',\n",
       "   u'biotherapeutic': None,\n",
       "   u'black_box_warning': u'1',\n",
       "   u'chebi_par_id': 47499,\n",
       "   u'chirality': u'2',\n",
       "   u'dosed_ingredient': False,\n",
       "   u'first_approval': 1959,\n",
       "   u'first_in_class': u'0',\n",
       "   u'helm_notation': None,\n",
       "   u'indication_class': None,\n",
       "   u'inorganic_flag': u'0',\n",
       "   u'max_phase': 4,\n",
       "   u'molecule_chembl_id': u'CHEMBL11',\n",
       "   u'molecule_hierarchy': {u'molecule_chembl_id': u'CHEMBL11',\n",
       "    u'parent_chembl_id': u'CHEMBL11'},\n",
       "   u'molecule_properties': {u'acd_logd': u'2.35',\n",
       "    u'acd_logp': u'4.36',\n",
       "    u'acd_most_apka': None,\n",
       "    u'acd_most_bpka': u'9.49',\n",
       "    u'alogp': u'4.39',\n",
       "    u'aromatic_rings': 2,\n",
       "    u'full_molformula': u'C19H24N2',\n",
       "    u'full_mwt': u'280.41',\n",
       "    u'hba': 2,\n",
       "    u'hbd': 0,\n",
       "    u'heavy_atoms': 21,\n",
       "    u'med_chem_friendly': u'Y',\n",
       "    u'molecular_species': u'BASE',\n",
       "    u'mw_freebase': u'280.41',\n",
       "    u'mw_monoisotopic': u'280.1939',\n",
       "    u'num_alerts': 0,\n",
       "    u'num_ro5_violations': 0,\n",
       "    u'psa': u'6.48',\n",
       "    u'qed_weighted': u'0.82',\n",
       "    u'ro3_pass': u'N',\n",
       "    u'rtb': 4},\n",
       "   u'molecule_structures': {u'canonical_smiles': u'CN(C)CCCN1c2ccccc2CCc3ccccc13',\n",
       "    u'standard_inchi': u'InChI=1S/C19H24N2/c1-20(2)14-7-15-21-18-10-5-3-8-16(18)12-13-17-9-4-6-11-19(17)21/h3-6,8-11H,7,12-15H2,1-2H3',\n",
       "    u'standard_inchi_key': u'BCGWQEUPMDMJNV-UHFFFAOYSA-N'},\n",
       "   u'molecule_synonyms': [{u'syn_type': u'FDA', u'synonyms': u'Imipramine'},\n",
       "    {u'syn_type': u'OTHER', u'synonyms': u'Janimine'},\n",
       "    {u'syn_type': u'OTHER', u'synonyms': u'Pramine'},\n",
       "    {u'syn_type': u'OTHER', u'synonyms': u'Presamine'},\n",
       "    {u'syn_type': u'OTHER', u'synonyms': u'Tofranil'},\n",
       "    {u'syn_type': u'OTHER', u'synonyms': u'Tofranil-PM'},\n",
       "    {u'syn_type': u'TRADE_NAME', u'synonyms': u'Tofranil'},\n",
       "    {u'syn_type': u'TRADE_NAME', u'synonyms': u'Tofranil-Pm'},\n",
       "    {u'syn_type': u'BAN', u'synonyms': u'Imipramine'},\n",
       "    {u'syn_type': u'INN', u'synonyms': u'Imipramine'}],\n",
       "   u'molecule_type': u'Small molecule',\n",
       "   u'natural_product': u'0',\n",
       "   u'oral': True,\n",
       "   u'parenteral': True,\n",
       "   u'polymer_flag': False,\n",
       "   u'pref_name': u'IMIPRAMINE',\n",
       "   u'prodrug': u'0',\n",
       "   u'structure_type': u'MOL',\n",
       "   u'therapeutic_flag': True,\n",
       "   u'topical': False,\n",
       "   u'usan_stem': None,\n",
       "   u'usan_stem_definition': None,\n",
       "   u'usan_substem': None,\n",
       "   u'usan_year': None},\n",
       "  {u'atc_classifications': [u'C03BA11'],\n",
       "   u'availability_type': u'1',\n",
       "   u'biotherapeutic': None,\n",
       "   u'black_box_warning': u'0',\n",
       "   u'chebi_par_id': 5893,\n",
       "   u'chirality': u'0',\n",
       "   u'dosed_ingredient': True,\n",
       "   u'first_approval': 1983,\n",
       "   u'first_in_class': u'0',\n",
       "   u'helm_notation': None,\n",
       "   u'indication_class': u'Antihypertensive; Diuretic',\n",
       "   u'inorganic_flag': u'0',\n",
       "   u'max_phase': 4,\n",
       "   u'molecule_chembl_id': u'CHEMBL406',\n",
       "   u'molecule_hierarchy': {u'molecule_chembl_id': u'CHEMBL406',\n",
       "    u'parent_chembl_id': u'CHEMBL406'},\n",
       "   u'molecule_properties': {u'acd_logd': u'1.96',\n",
       "    u'acd_logp': u'1.96',\n",
       "    u'acd_most_apka': u'9.35',\n",
       "    u'acd_most_bpka': u'1.87',\n",
       "    u'alogp': u'2.66',\n",
       "    u'aromatic_rings': 2,\n",
       "    u'full_molformula': u'C16H16ClN3O3S',\n",
       "    u'full_mwt': u'365.83',\n",
       "    u'hba': 4,\n",
       "    u'hbd': 2,\n",
       "    u'heavy_atoms': 24,\n",
       "    u'med_chem_friendly': u'Y',\n",
       "    u'molecular_species': u'NEUTRAL',\n",
       "    u'mw_freebase': u'365.83',\n",
       "    u'mw_monoisotopic': u'365.0601',\n",
       "    u'num_alerts': 0,\n",
       "    u'num_ro5_violations': 0,\n",
       "    u'psa': u'100.88',\n",
       "    u'qed_weighted': u'0.87',\n",
       "    u'ro3_pass': u'N',\n",
       "    u'rtb': 3},\n",
       "   u'molecule_structures': {u'canonical_smiles': u'CC1Cc2ccccc2N1NC(=O)c3ccc(Cl)c(c3)S(=O)(=O)N',\n",
       "    u'standard_inchi': u'InChI=1S/C16H16ClN3O3S/c1-10-8-11-4-2-3-5-14(11)20(10)19-16(21)12-6-7-13(17)15(9-12)24(18,22)23/h2-7,9-10H,8H2,1H3,(H,19,21)(H2,18,22,23)',\n",
       "    u'standard_inchi_key': u'NDDAHWYSQHTHNT-UHFFFAOYSA-N'},\n",
       "   u'molecule_synonyms': [{u'syn_type': u'TRADE_NAME',\n",
       "     u'synonyms': u'Indapamide'},\n",
       "    {u'syn_type': u'TRADE_NAME', u'synonyms': u'Lozol'},\n",
       "    {u'syn_type': u'BAN', u'synonyms': u'Indapamide'},\n",
       "    {u'syn_type': u'FDA', u'synonyms': u'Indapamide'},\n",
       "    {u'syn_type': u'INN', u'synonyms': u'Indapamide'},\n",
       "    {u'syn_type': u'JAN', u'synonyms': u'Indapamide'},\n",
       "    {u'syn_type': u'USP', u'synonyms': u'Indapamide'},\n",
       "    {u'syn_type': u'USAN', u'synonyms': u'Indapamide'}],\n",
       "   u'molecule_type': u'Small molecule',\n",
       "   u'natural_product': u'0',\n",
       "   u'oral': True,\n",
       "   u'parenteral': False,\n",
       "   u'polymer_flag': False,\n",
       "   u'pref_name': u'INDAPAMIDE',\n",
       "   u'prodrug': u'0',\n",
       "   u'structure_type': u'MOL',\n",
       "   u'therapeutic_flag': True,\n",
       "   u'topical': False,\n",
       "   u'usan_stem': u'-pamide',\n",
       "   u'usan_stem_definition': u'diuretics (sulfamoylbenzoic acid derivatives)',\n",
       "   u'usan_substem': None,\n",
       "   u'usan_year': 1979},\n",
       "  {u'atc_classifications': [u'V03AB25'],\n",
       "   u'availability_type': u'1',\n",
       "   u'biotherapeutic': None,\n",
       "   u'black_box_warning': u'1',\n",
       "   u'chebi_par_id': 5103,\n",
       "   u'chirality': u'2',\n",
       "   u'dosed_ingredient': True,\n",
       "   u'first_approval': 1991,\n",
       "   u'first_in_class': u'0',\n",
       "   u'helm_notation': None,\n",
       "   u'indication_class': u'Antagonist (to benzodiazepine)',\n",
       "   u'inorganic_flag': u'0',\n",
       "   u'max_phase': 4,\n",
       "   u'molecule_chembl_id': u'CHEMBL407',\n",
       "   u'molecule_hierarchy': {u'molecule_chembl_id': u'CHEMBL407',\n",
       "    u'parent_chembl_id': u'CHEMBL407'},\n",
       "   u'molecule_properties': {u'acd_logd': u'2.15',\n",
       "    u'acd_logp': u'2.15',\n",
       "    u'acd_most_apka': None,\n",
       "    u'acd_most_bpka': u'0.86',\n",
       "    u'alogp': u'1.58',\n",
       "    u'aromatic_rings': 2,\n",
       "    u'full_molformula': u'C15H14FN3O3',\n",
       "    u'full_mwt': u'303.29',\n",
       "    u'hba': 4,\n",
       "    u'hbd': 0,\n",
       "    u'heavy_atoms': 22,\n",
       "    u'med_chem_friendly': u'Y',\n",
       "    u'molecular_species': u'NEUTRAL',\n",
       "    u'mw_freebase': u'303.29',\n",
       "    u'mw_monoisotopic': u'303.1019',\n",
       "    u'num_alerts': 1,\n",
       "    u'num_ro5_violations': 0,\n",
       "    u'psa': u'64.43',\n",
       "    u'qed_weighted': u'0.81',\n",
       "    u'ro3_pass': u'N',\n",
       "    u'rtb': 3},\n",
       "   u'molecule_structures': {u'canonical_smiles': u'CCOC(=O)c1ncn2c1CN(C)C(=O)c3cc(F)ccc23',\n",
       "    u'standard_inchi': u'InChI=1S/C15H14FN3O3/c1-3-22-15(21)13-12-7-18(2)14(20)10-6-9(16)4-5-11(10)19(12)8-17-13/h4-6,8H,3,7H2,1-2H3',\n",
       "    u'standard_inchi_key': u'OFBIFZUFASYYRE-UHFFFAOYSA-N'},\n",
       "   u'molecule_synonyms': [{u'syn_type': u'TRADE_NAME',\n",
       "     u'synonyms': u'Flumazenil'},\n",
       "    {u'syn_type': u'RESEARCH_CODE', u'synonyms': u'Ro-151788'},\n",
       "    {u'syn_type': u'TRADE_NAME', u'synonyms': u'Romazicon'},\n",
       "    {u'syn_type': u'TRADE_NAME', u'synonyms': u'Anexate'},\n",
       "    {u'syn_type': u'TRADE_NAME', u'synonyms': u'Flumazepil'},\n",
       "    {u'syn_type': u'TRADE_NAME', u'synonyms': u'Mazicon'},\n",
       "    {u'syn_type': u'BAN', u'synonyms': u'Flumazenil'},\n",
       "    {u'syn_type': u'FDA', u'synonyms': u'Flumazenil'},\n",
       "    {u'syn_type': u'INN', u'synonyms': u'Flumazenil'},\n",
       "    {u'syn_type': u'USP', u'synonyms': u'Flumazenil'},\n",
       "    {u'syn_type': u'USAN', u'synonyms': u'Flumazenil'},\n",
       "    {u'syn_type': u'OTHER', u'synonyms': u'Flumazepil'},\n",
       "    {u'syn_type': u'RESEARCH_CODE', u'synonyms': u'Ro-151788000'}],\n",
       "   u'molecule_type': u'Small molecule',\n",
       "   u'natural_product': u'0',\n",
       "   u'oral': False,\n",
       "   u'parenteral': True,\n",
       "   u'polymer_flag': False,\n",
       "   u'pref_name': u'FLUMAZENIL',\n",
       "   u'prodrug': u'0',\n",
       "   u'structure_type': u'MOL',\n",
       "   u'therapeutic_flag': True,\n",
       "   u'topical': False,\n",
       "   u'usan_stem': u'-azenil',\n",
       "   u'usan_stem_definition': u'benzodiazepine receptor agonists/antagonists (benzodiazepine derivatives)',\n",
       "   u'usan_substem': None,\n",
       "   u'usan_year': 1987},\n",
       "  {u'atc_classifications': [u'A10BG01'],\n",
       "   u'availability_type': u'0',\n",
       "   u'biotherapeutic': None,\n",
       "   u'black_box_warning': u'0',\n",
       "   u'chebi_par_id': 9753,\n",
       "   u'chirality': u'0',\n",
       "   u'dosed_ingredient': True,\n",
       "   u'first_approval': 1997,\n",
       "   u'first_in_class': u'0',\n",
       "   u'helm_notation': None,\n",
       "   u'indication_class': u'Antidiabetic',\n",
       "   u'inorganic_flag': u'0',\n",
       "   u'max_phase': 4,\n",
       "   u'molecule_chembl_id': u'CHEMBL408',\n",
       "   u'molecule_hierarchy': {u'molecule_chembl_id': u'CHEMBL408',\n",
       "    u'parent_chembl_id': u'CHEMBL408'},\n",
       "   u'molecule_properties': {u'acd_logd': u'3.65',\n",
       "    u'acd_logp': u'4.69',\n",
       "    u'acd_most_apka': u'6.35',\n",
       "    u'acd_most_bpka': None,\n",
       "    u'alogp': u'5.68',\n",
       "    u'aromatic_rings': 2,\n",
       "    u'full_molformula': u'C24H27NO5S',\n",
       "    u'full_mwt': u'441.54',\n",
       "    u'hba': 6,\n",
       "    u'hbd': 2,\n",
       "    u'heavy_atoms': 31,\n",
       "    u'med_chem_friendly': u'Y',\n",
       "    u'molecular_species': u'ACID',\n",
       "    u'mw_freebase': u'441.54',\n",
       "    u'mw_monoisotopic': u'441.1610',\n",
       "    u'num_alerts': 0,\n",
       "    u'num_ro5_violations': 1,\n",
       "    u'psa': u'110.16',\n",
       "    u'qed_weighted': u'0.62',\n",
       "    u'ro3_pass': u'N',\n",
       "    u'rtb': 5},\n",
       "   u'molecule_structures': {u'canonical_smiles': u'Cc1c(C)c2OC(C)(COc3ccc(CC4SC(=O)NC4=O)cc3)CCc2c(C)c1O',\n",
       "    u'standard_inchi': u'InChI=1S/C24H27NO5S/c1-13-14(2)21-18(15(3)20(13)26)9-10-24(4,30-21)12-29-17-7-5-16(6-8-17)11-19-22(27)25-23(28)31-19/h5-8,19,26H,9-12H2,1-4H3,(H,25,27,28)',\n",
       "    u'standard_inchi_key': u'GXPHKUHSUJUWKP-UHFFFAOYSA-N'},\n",
       "   u'molecule_synonyms': [{u'syn_type': u'RESEARCH_CODE',\n",
       "     u'synonyms': u'GR-92132X'},\n",
       "    {u'syn_type': u'TRADE_NAME', u'synonyms': u'Prelay'},\n",
       "    {u'syn_type': u'TRADE_NAME', u'synonyms': u'Rezulin'},\n",
       "    {u'syn_type': u'OTHER', u'synonyms': u'Rezulin'},\n",
       "    {u'syn_type': u'RESEARCH_CODE', u'synonyms': u'CI-991'},\n",
       "    {u'syn_type': u'RESEARCH_CODE', u'synonyms': u'CS-045'},\n",
       "    {u'syn_type': u'RESEARCH_CODE', u'synonyms': u'Gr92132X'},\n",
       "    {u'syn_type': u'BAN', u'synonyms': u'Troglitazone'},\n",
       "    {u'syn_type': u'FDA', u'synonyms': u'Troglitazone'},\n",
       "    {u'syn_type': u'INN', u'synonyms': u'Troglitazone'},\n",
       "    {u'syn_type': u'USAN', u'synonyms': u'Troglitazone'}],\n",
       "   u'molecule_type': u'Small molecule',\n",
       "   u'natural_product': u'0',\n",
       "   u'oral': True,\n",
       "   u'parenteral': False,\n",
       "   u'polymer_flag': False,\n",
       "   u'pref_name': u'TROGLITAZONE',\n",
       "   u'prodrug': u'0',\n",
       "   u'structure_type': u'MOL',\n",
       "   u'therapeutic_flag': True,\n",
       "   u'topical': False,\n",
       "   u'usan_stem': u'-glitazone',\n",
       "   u'usan_stem_definition': u'PPST agonists (thiazolidene derivatives)',\n",
       "   u'usan_substem': None,\n",
       "   u'usan_year': 1995},\n",
       "  {u'atc_classifications': [u'L02BB03'],\n",
       "   u'availability_type': u'1',\n",
       "   u'biotherapeutic': None,\n",
       "   u'black_box_warning': u'0',\n",
       "   u'chebi_par_id': None,\n",
       "   u'chirality': u'0',\n",
       "   u'dosed_ingredient': True,\n",
       "   u'first_approval': 1995,\n",
       "   u'first_in_class': u'0',\n",
       "   u'helm_notation': None,\n",
       "   u'indication_class': u'Antineoplastic',\n",
       "   u'inorganic_flag': u'0',\n",
       "   u'max_phase': 4,\n",
       "   u'molecule_chembl_id': u'CHEMBL409',\n",
       "   u'molecule_hierarchy': {u'molecule_chembl_id': u'CHEMBL409',\n",
       "    u'parent_chembl_id': u'CHEMBL409'},\n",
       "   u'molecule_properties': {u'acd_logd': u'4.14',\n",
       "    u'acd_logp': u'4.14',\n",
       "    u'acd_most_apka': u'11.49',\n",
       "    u'acd_most_bpka': None,\n",
       "    u'alogp': u'2.93',\n",
       "    u'aromatic_rings': 2,\n",
       "    u'full_molformula': u'C18H14F4N2O4S',\n",
       "    u'full_mwt': u'430.37',\n",
       "    u'hba': 5,\n",
       "    u'hbd': 2,\n",
       "    u'heavy_atoms': 29,\n",
       "    u'med_chem_friendly': u'Y',\n",
       "    u'molecular_species': u'NEUTRAL',\n",
       "    u'mw_freebase': u'430.37',\n",
       "    u'mw_monoisotopic': u'430.0610',\n",
       "    u'num_alerts': 2,\n",
       "    u'num_ro5_violations': 0,\n",
       "    u'psa': u'115.64',\n",
       "    u'qed_weighted': u'0.54',\n",
       "    u'ro3_pass': u'N',\n",
       "    u'rtb': 6},\n",
       "   u'molecule_structures': {u'canonical_smiles': u'CC(O)(CS(=O)(=O)c1ccc(F)cc1)C(=O)Nc2ccc(C#N)c(c2)C(F)(F)F',\n",
       "    u'standard_inchi': u'InChI=1S/C18H14F4N2O4S/c1-17(26,10-29(27,28)14-6-3-12(19)4-7-14)16(25)24-13-5-2-11(9-23)15(8-13)18(20,21)22/h2-8,26H,10H2,1H3,(H,24,25)',\n",
       "    u'standard_inchi_key': u'LKJPYSCBVHEWIU-UHFFFAOYSA-N'},\n",
       "   u'molecule_synonyms': [{u'syn_type': u'TRADE_NAME',\n",
       "     u'synonyms': u'Casodex'},\n",
       "    {u'syn_type': u'TRADE_NAME', u'synonyms': u'Cosudex'},\n",
       "    {u'syn_type': u'TRADE_NAME', u'synonyms': u'Calutide'},\n",
       "    {u'syn_type': u'TRADE_NAME', u'synonyms': u'Kalumid'},\n",
       "    {u'syn_type': u'OTHER', u'synonyms': u'Casodex'},\n",
       "    {u'syn_type': u'TRADE_NAME', u'synonyms': u'Bicalutamide'},\n",
       "    {u'syn_type': u'RESEARCH_CODE', u'synonyms': u'ICI-176334'},\n",
       "    {u'syn_type': u'BAN', u'synonyms': u'Bicalutamide'},\n",
       "    {u'syn_type': u'FDA', u'synonyms': u'Bicalutamide'},\n",
       "    {u'syn_type': u'INN', u'synonyms': u'Bicalutamide'},\n",
       "    {u'syn_type': u'USAN', u'synonyms': u'Bicalutamide'}],\n",
       "   u'molecule_type': u'Small molecule',\n",
       "   u'natural_product': u'0',\n",
       "   u'oral': True,\n",
       "   u'parenteral': False,\n",
       "   u'polymer_flag': False,\n",
       "   u'pref_name': u'BICALUTAMIDE',\n",
       "   u'prodrug': u'0',\n",
       "   u'structure_type': u'MOL',\n",
       "   u'therapeutic_flag': True,\n",
       "   u'topical': False,\n",
       "   u'usan_stem': u'-lutamide',\n",
       "   u'usan_stem_definition': u'non-steroid antiandrogens',\n",
       "   u'usan_substem': None,\n",
       "   u'usan_year': 1994},\n",
       "  {u'atc_classifications': [u'N05BA01'],\n",
       "   u'availability_type': u'1',\n",
       "   u'biotherapeutic': None,\n",
       "   u'black_box_warning': u'0',\n",
       "   u'chebi_par_id': 49575,\n",
       "   u'chirality': u'2',\n",
       "   u'dosed_ingredient': True,\n",
       "   u'first_approval': 1963,\n",
       "   u'first_in_class': u'0',\n",
       "   u'helm_notation': None,\n",
       "   u'indication_class': u'Sedative-Hypnotic',\n",
       "   u'inorganic_flag': u'0',\n",
       "   u'max_phase': 4,\n",
       "   u'molecule_chembl_id': u'CHEMBL12',\n",
       "   u'molecule_hierarchy': {u'molecule_chembl_id': u'CHEMBL12',\n",
       "    u'parent_chembl_id': u'CHEMBL12'},\n",
       "   u'molecule_properties': {u'acd_logd': u'2.80',\n",
       "    u'acd_logp': u'2.80',\n",
       "    u'acd_most_apka': None,\n",
       "    u'acd_most_bpka': u'3.40',\n",
       "    u'alogp': u'3.17',\n",
       "    u'aromatic_rings': 2,\n",
       "    u'full_molformula': u'C16H13ClN2O',\n",
       "    u'full_mwt': u'284.74',\n",
       "    u'hba': 2,\n",
       "    u'hbd': 0,\n",
       "    u'heavy_atoms': 20,\n",
       "    u'med_chem_friendly': u'Y',\n",
       "    u'molecular_species': u'NEUTRAL',\n",
       "    u'mw_freebase': u'284.74',\n",
       "    u'mw_monoisotopic': u'284.0716',\n",
       "    u'num_alerts': 0,\n",
       "    u'num_ro5_violations': 0,\n",
       "    u'psa': u'32.67',\n",
       "    u'qed_weighted': u'0.81',\n",
       "    u'ro3_pass': u'N',\n",
       "    u'rtb': 1},\n",
       "   u'molecule_structures': {u'canonical_smiles': u'CN1C(=O)CN=C(c2ccccc2)c3cc(Cl)ccc13',\n",
       "    u'standard_inchi': u'InChI=1S/C16H13ClN2O/c1-19-14-8-7-12(17)9-13(14)16(18-10-15(19)20)11-5-3-2-4-6-11/h2-9H,10H2,1H3',\n",
       "    u'standard_inchi_key': u'AAOVKJBEBIDNHE-UHFFFAOYSA-N'},\n",
       "   u'molecule_synonyms': [{u'syn_type': u'TRADE_NAME',\n",
       "     u'synonyms': u'Diastat'},\n",
       "    {u'syn_type': u'TRADE_NAME', u'synonyms': u'Diastat Acudial'},\n",
       "    {u'syn_type': u'TRADE_NAME', u'synonyms': u'Diazepam'},\n",
       "    {u'syn_type': u'TRADE_NAME', u'synonyms': u'Diazepam Intensol'},\n",
       "    {u'syn_type': u'TRADE_NAME', u'synonyms': u'Dizac'},\n",
       "    {u'syn_type': u'TRADE_NAME', u'synonyms': u'Q-Pam'},\n",
       "    {u'syn_type': u'TRADE_NAME', u'synonyms': u'Valium'},\n",
       "    {u'syn_type': u'TRADE_NAME', u'synonyms': u'Valrelease'},\n",
       "    {u'syn_type': u'TRADE_NAME', u'synonyms': u'Apozepam'},\n",
       "    {u'syn_type': u'TRADE_NAME', u'synonyms': u'E-Pam'},\n",
       "    {u'syn_type': u'TRADE_NAME', u'synonyms': u'Paxel'},\n",
       "    {u'syn_type': u'TRADE_NAME', u'synonyms': u'Relanium'},\n",
       "    {u'syn_type': u'TRADE_NAME', u'synonyms': u'Scriptopam'},\n",
       "    {u'syn_type': u'TRADE_NAME', u'synonyms': u'Serenack'},\n",
       "    {u'syn_type': u'TRADE_NAME', u'synonyms': u'Stesolid'},\n",
       "    {u'syn_type': u'TRADE_NAME', u'synonyms': u'Tranimul'},\n",
       "    {u'syn_type': u'TRADE_NAME', u'synonyms': u'Vivol'},\n",
       "    {u'syn_type': u'RESEARCH_CODE', u'synonyms': u'LA-III'},\n",
       "    {u'syn_type': u'RESEARCH_CODE', u'synonyms': u'WY-3467'},\n",
       "    {u'syn_type': u'BAN', u'synonyms': u'Diazepam'},\n",
       "    {u'syn_type': u'FDA', u'synonyms': u'Diazepam'},\n",
       "    {u'syn_type': u'INN', u'synonyms': u'Diazepam'},\n",
       "    {u'syn_type': u'JAN', u'synonyms': u'Diazepam'},\n",
       "    {u'syn_type': u'USP', u'synonyms': u'Diazepam'},\n",
       "    {u'syn_type': u'USAN', u'synonyms': u'Diazepam'},\n",
       "    {u'syn_type': u'RESEARCH_CODE', u'synonyms': u'Ro-52807'}],\n",
       "   u'molecule_type': u'Small molecule',\n",
       "   u'natural_product': u'0',\n",
       "   u'oral': True,\n",
       "   u'parenteral': True,\n",
       "   u'polymer_flag': False,\n",
       "   u'pref_name': u'DIAZEPAM',\n",
       "   u'prodrug': u'0',\n",
       "   u'structure_type': u'MOL',\n",
       "   u'therapeutic_flag': True,\n",
       "   u'topical': True,\n",
       "   u'usan_stem': u'-azepam',\n",
       "   u'usan_stem_definition': u'antianxiety agents (diazepam type)',\n",
       "   u'usan_substem': None,\n",
       "   u'usan_year': 1963},\n",
       "  {u'atc_classifications': [u'C07AB02', u'C07AB52'],\n",
       "   u'availability_type': u'1',\n",
       "   u'biotherapeutic': None,\n",
       "   u'black_box_warning': u'1',\n",
       "   u'chebi_par_id': 6904,\n",
       "   u'chirality': u'0',\n",
       "   u'dosed_ingredient': True,\n",
       "   u'first_approval': 1978,\n",
       "   u'first_in_class': u'0',\n",
       "   u'helm_notation': None,\n",
       "   u'indication_class': u'Anti-Adrenergic (beta-receptor)',\n",
       "   u'inorganic_flag': u'0',\n",
       "   u'max_phase': 4,\n",
       "   u'molecule_chembl_id': u'CHEMBL13',\n",
       "   u'molecule_hierarchy': {u'molecule_chembl_id': u'CHEMBL13',\n",
       "    u'parent_chembl_id': u'CHEMBL13'},\n",
       "   u'molecule_properties': {u'acd_logd': u'-0.47',\n",
       "    u'acd_logp': u'1.63',\n",
       "    u'acd_most_apka': u'13.89',\n",
       "    u'acd_most_bpka': u'9.43',\n",
       "    u'alogp': u'1.76',\n",
       "    u'aromatic_rings': 1,\n",
       "    u'full_molformula': u'C15H25NO3',\n",
       "    u'full_mwt': u'267.36',\n",
       "    u'hba': 4,\n",
       "    u'hbd': 2,\n",
       "    u'heavy_atoms': 19,\n",
       "    u'med_chem_friendly': u'Y',\n",
       "    u'molecular_species': u'BASE',\n",
       "    u'mw_freebase': u'267.36',\n",
       "    u'mw_monoisotopic': u'267.1834',\n",
       "    u'num_alerts': 0,\n",
       "    u'num_ro5_violations': 0,\n",
       "    u'psa': u'50.72',\n",
       "    u'qed_weighted': u'0.72',\n",
       "    u'ro3_pass': u'N',\n",
       "    u'rtb': 9},\n",
       "   u'molecule_structures': {u'canonical_smiles': u'COCCc1ccc(OCC(O)CNC(C)C)cc1',\n",
       "    u'standard_inchi': u'InChI=1S/C15H25NO3/c1-12(2)16-10-14(17)11-19-15-6-4-13(5-7-15)8-9-18-3/h4-7,12,14,16-17H,8-11H2,1-3H3',\n",
       "    u'standard_inchi_key': u'IUBSYMUCCVWXPE-UHFFFAOYSA-N'},\n",
       "   u'molecule_synonyms': [{u'syn_type': u'OTHER',\n",
       "     u'synonyms': u'Lopressidone'},\n",
       "    {u'syn_type': u'FDA', u'synonyms': u'Metoprolol'},\n",
       "    {u'syn_type': u'OTHER', u'synonyms': u'Toprol-XL'},\n",
       "    {u'syn_type': u'BAN', u'synonyms': u'Metoprolol'},\n",
       "    {u'syn_type': u'INN', u'synonyms': u'Metoprolol'},\n",
       "    {u'syn_type': u'USAN', u'synonyms': u'Metoprolol'}],\n",
       "   u'molecule_type': u'Small molecule',\n",
       "   u'natural_product': u'0',\n",
       "   u'oral': True,\n",
       "   u'parenteral': True,\n",
       "   u'polymer_flag': False,\n",
       "   u'pref_name': u'METOPROLOL',\n",
       "   u'prodrug': u'0',\n",
       "   u'structure_type': u'MOL',\n",
       "   u'therapeutic_flag': True,\n",
       "   u'topical': False,\n",
       "   u'usan_stem': u'-olol',\n",
       "   u'usan_stem_definition': u'beta-blockers (propranolol type)',\n",
       "   u'usan_substem': None,\n",
       "   u'usan_year': 1976},\n",
       "  {u'atc_classifications': [u'G03CB02', u'G03CC05', u'L02AA01'],\n",
       "   u'availability_type': u'0',\n",
       "   u'biotherapeutic': None,\n",
       "   u'black_box_warning': u'0',\n",
       "   u'chebi_par_id': 41922,\n",
       "   u'chirality': u'2',\n",
       "   u'dosed_ingredient': True,\n",
       "   u'first_approval': 1973,\n",
       "   u'first_in_class': u'0',\n",
       "   u'helm_notation': None,\n",
       "   u'indication_class': u'Estrogen',\n",
       "   u'inorganic_flag': u'0',\n",
       "   u'max_phase': 4,\n",
       "   u'molecule_chembl_id': u'CHEMBL411',\n",
       "   u'molecule_hierarchy': {u'molecule_chembl_id': u'CHEMBL411',\n",
       "    u'parent_chembl_id': u'CHEMBL411'},\n",
       "   u'molecule_properties': {u'acd_logd': u'5.33',\n",
       "    u'acd_logp': u'5.33',\n",
       "    u'acd_most_apka': u'10.19',\n",
       "    u'acd_most_bpka': None,\n",
       "    u'alogp': u'5.14',\n",
       "    u'aromatic_rings': 2,\n",
       "    u'full_molformula': u'C18H20O2',\n",
       "    u'full_mwt': u'268.35',\n",
       "    u'hba': 2,\n",
       "    u'hbd': 2,\n",
       "    u'heavy_atoms': 20,\n",
       "    u'med_chem_friendly': u'Y',\n",
       "    u'molecular_species': u'NEUTRAL',\n",
       "    u'mw_freebase': u'268.35',\n",
       "    u'mw_monoisotopic': u'268.1463',\n",
       "    u'num_alerts': 1,\n",
       "    u'num_ro5_violations': 1,\n",
       "    u'psa': u'40.46',\n",
       "    u'qed_weighted': u'0.75',\n",
       "    u'ro3_pass': u'N',\n",
       "    u'rtb': 4},\n",
       "   u'molecule_structures': {u'canonical_smiles': u'CC\\\\C(=C(\\\\CC)/c1ccc(O)cc1)\\\\c2ccc(O)cc2',\n",
       "    u'standard_inchi': u'InChI=1S/C18H20O2/c1-3-17(13-5-9-15(19)10-6-13)18(4-2)14-7-11-16(20)12-8-14/h5-12,19-20H,3-4H2,1-2H3/b18-17+',\n",
       "    u'standard_inchi_key': u'RGLYKWWBQGJZGM-ISLYRVAYSA-N'},\n",
       "   u'molecule_synonyms': [{u'syn_type': u'TRADE_NAME',\n",
       "     u'synonyms': u'Diethylstilbestrol'},\n",
       "    {u'syn_type': u'USAN', u'synonyms': u'Diethylstilbestrol'},\n",
       "    {u'syn_type': u'TRADE_NAME', u'synonyms': u'Stilbestrol'},\n",
       "    {u'syn_type': u'TRADE_NAME', u'synonyms': u'Stilbetin'},\n",
       "    {u'syn_type': u'TRADE_NAME', u'synonyms': u'DES'},\n",
       "    {u'syn_type': u'TRADE_NAME', u'synonyms': u'Stilboesterol'},\n",
       "    {u'syn_type': u'OTHER', u'synonyms': u'Cyren A'},\n",
       "    {u'syn_type': u'OTHER', u'synonyms': u'Fonatol'},\n",
       "    {u'syn_type': u'OTHER', u'synonyms': u'Estrobene'},\n",
       "    {u'syn_type': u'OTHER', u'synonyms': u'Palestrol'},\n",
       "    {u'syn_type': u'OTHER', u'synonyms': u'Synestrin'},\n",
       "    {u'syn_type': u'OTHER', u'synonyms': u'Estromenin'},\n",
       "    {u'syn_type': u'OTHER', u'synonyms': u'Estrogenine'},\n",
       "    {u'syn_type': u'OTHER', u'synonyms': u'Stilbestrol'},\n",
       "    {u'syn_type': u'OTHER', u'synonyms': u'Synthestrin'},\n",
       "    {u'syn_type': u'OTHER', u'synonyms': u'Stilboestrol'},\n",
       "    {u'syn_type': u'OTHER', u'synonyms': u'New-Estranol 1'},\n",
       "    {u'syn_type': u'OTHER', u'synonyms': u'Stilbestroform'},\n",
       "    {u'syn_type': u'BAN', u'synonyms': u'Diethylstilbestrol'},\n",
       "    {u'syn_type': u'FDA', u'synonyms': u'Diethylstilbestrol'},\n",
       "    {u'syn_type': u'INN', u'synonyms': u'Diethylstilbestrol'},\n",
       "    {u'syn_type': u'USP', u'synonyms': u'Diethylstilbestrol'}],\n",
       "   u'molecule_type': u'Small molecule',\n",
       "   u'natural_product': u'0',\n",
       "   u'oral': True,\n",
       "   u'parenteral': True,\n",
       "   u'polymer_flag': False,\n",
       "   u'pref_name': u'DIETHYLSTILBESTROL',\n",
       "   u'prodrug': u'0',\n",
       "   u'structure_type': u'MOL',\n",
       "   u'therapeutic_flag': True,\n",
       "   u'topical': True,\n",
       "   u'usan_stem': u'-estr-',\n",
       "   u'usan_stem_definition': u'estrogens',\n",
       "   u'usan_substem': None,\n",
       "   u'usan_year': None},\n",
       "  {u'atc_classifications': [u'C02BB01'],\n",
       "   u'availability_type': u'1',\n",
       "   u'biotherapeutic': None,\n",
       "   u'black_box_warning': u'0',\n",
       "   u'chebi_par_id': 6706,\n",
       "   u'chirality': u'0',\n",
       "   u'dosed_ingredient': False,\n",
       "   u'first_approval': 1956,\n",
       "   u'first_in_class': u'0',\n",
       "   u'helm_notation': None,\n",
       "   u'indication_class': None,\n",
       "   u'inorganic_flag': u'0',\n",
       "   u'max_phase': 4,\n",
       "   u'molecule_chembl_id': u'CHEMBL267936',\n",
       "   u'molecule_hierarchy': {u'molecule_chembl_id': u'CHEMBL267936',\n",
       "    u'parent_chembl_id': u'CHEMBL267936'},\n",
       "   u'molecule_properties': {u'acd_logd': u'-0.07',\n",
       "    u'acd_logp': u'2.98',\n",
       "    u'acd_most_apka': None,\n",
       "    u'acd_most_bpka': u'11.35',\n",
       "    u'alogp': u'2.18',\n",
       "    u'aromatic_rings': 0,\n",
       "    u'full_molformula': u'C11H21N',\n",
       "    u'full_mwt': u'167.29',\n",
       "    u'hba': 1,\n",
       "    u'hbd': 1,\n",
       "    u'heavy_atoms': 12,\n",
       "    u'med_chem_friendly': u'Y',\n",
       "    u'molecular_species': u'BASE',\n",
       "    u'mw_freebase': u'167.29',\n",
       "    u'mw_monoisotopic': u'167.1674',\n",
       "    u'num_alerts': 0,\n",
       "    u'num_ro5_violations': 0,\n",
       "    u'psa': u'12.03',\n",
       "    u'qed_weighted': u'0.63',\n",
       "    u'ro3_pass': u'Y',\n",
       "    u'rtb': 1},\n",
       "   u'molecule_structures': {u'canonical_smiles': u'CNC1(C)C2CCC(C2)C1(C)C',\n",
       "    u'standard_inchi': u'InChI=1S/C11H21N/c1-10(2)8-5-6-9(7-8)11(10,3)12-4/h8-9,12H,5-7H2,1-4H3',\n",
       "    u'standard_inchi_key': u'IMYZQPCYWPFTAG-UHFFFAOYSA-N'},\n",
       "   u'molecule_synonyms': [{u'syn_type': u'BAN', u'synonyms': u'Mecamylamine'},\n",
       "    {u'syn_type': u'INN', u'synonyms': u'Mecamylamine'}],\n",
       "   u'molecule_type': u'Small molecule',\n",
       "   u'natural_product': u'0',\n",
       "   u'oral': True,\n",
       "   u'parenteral': False,\n",
       "   u'polymer_flag': False,\n",
       "   u'pref_name': u'MECAMYLAMINE',\n",
       "   u'prodrug': u'0',\n",
       "   u'structure_type': u'MOL',\n",
       "   u'therapeutic_flag': True,\n",
       "   u'topical': False,\n",
       "   u'usan_stem': None,\n",
       "   u'usan_stem_definition': None,\n",
       "   u'usan_substem': None,\n",
       "   u'usan_year': None}],\n",
       " u'page_meta': {u'limit': 20,\n",
       "  u'next': u'/chemblws/molecule.json?max_phase=4&limit=20&offset=20',\n",
       "  u'offset': 0,\n",
       "  u'previous': None,\n",
       "  u'total_count': 2795}}"
      ]
     },
     "execution_count": 24,
     "metadata": {},
     "output_type": "execute_result"
    }
   ],
   "source": [
    "# Let's examine what data contains the python dict:\n",
    "url_approved_drugs"
   ]
  },
  {
   "cell_type": "markdown",
   "metadata": {},
   "source": [
    "### Page structure\n",
    "\n",
    "The dictionary contains two top-level keys:\n",
    "\n",
    "1. `molecules` array\n",
    "2. `page_meta` dictionary\n",
    "\n",
    "This  means that by requesting data from the url-endpoint we are not getting the whole result set but a single page.\n",
    "The page consists of a single portion of data (`molecules` array) and some meta information about the page and whole result set (`page_meta` dictionary)."
   ]
  },
  {
   "cell_type": "code",
   "execution_count": 25,
   "metadata": {
    "collapsed": false
   },
   "outputs": [
    {
     "data": {
      "text/plain": [
       "20"
      ]
     },
     "execution_count": 25,
     "metadata": {},
     "output_type": "execute_result"
    }
   ],
   "source": [
    "# The default size of single page is 20 results:\n",
    "len(url_approved_drugs['molecules'])"
   ]
  },
  {
   "cell_type": "code",
   "execution_count": 26,
   "metadata": {
    "collapsed": false
   },
   "outputs": [
    {
     "name": "stdout",
     "output_type": "stream",
     "text": [
      "http://localhost/chemblws/molecule.json?max_phase=4&limit=200\n",
      "200\n"
     ]
    }
   ],
   "source": [
    "# But it can be extended up to 1000 results by providing `limit` argument:\n",
    "url = url_stem + \"/molecule.json?max_phase=4&limit=200\"\n",
    "bigger_page = requests.get(url).json()\n",
    "\n",
    "print url\n",
    "print len(bigger_page['molecules'])"
   ]
  },
  {
   "cell_type": "code",
   "execution_count": 27,
   "metadata": {
    "collapsed": false
   },
   "outputs": [
    {
     "data": {
      "text/plain": [
       "{u'limit': 20,\n",
       " u'next': u'/chemblws/molecule.json?max_phase=4&limit=20&offset=20',\n",
       " u'offset': 0,\n",
       " u'previous': None,\n",
       " u'total_count': 2795}"
      ]
     },
     "execution_count": 27,
     "metadata": {},
     "output_type": "execute_result"
    }
   ],
   "source": [
    "#Let's see what data is provided in `page-meta` dictionary:\n",
    "url_approved_drugs['page_meta']"
   ]
  },
  {
   "cell_type": "markdown",
   "metadata": {},
   "source": [
    "It gives following information:\n",
    "1. `limit` - current size of the page (the actual amount of data can be smaller if the whole result set is smaller than page size or we are looking at the last page)\n",
    "2. `offset` - the difference between first element in the whole result set and the first element on current page \n",
<<<<<<< HEAD
    "3. `next` - url poiting to the next page (if it exists)\n",
    "4. `previous` - url pointing to the previous page (if it exists)\n",
=======
    "3. `next` - url poiting to the next page (if exists)\n",
    "4. `previous` - url pointing to the previous page (if exists)\n",
>>>>>>> origin/master
    "5. `total_count` - number of elements in the whole result set\n",
    "\n",
    "This means that in order to get the whole result set we need to loop through the pages:"
   ]
  },
  {
   "cell_type": "code",
   "execution_count": 28,
   "metadata": {
    "collapsed": false
   },
   "outputs": [
    {
     "name": "stdout",
     "output_type": "stream",
     "text": [
      "2795\n",
      "True\n"
     ]
    }
   ],
   "source": [
    "# Getting all approved drugs using url endpoint\n",
    "localhost = \"http://localhost/\"\n",
    "url_approved_drugs = requests.get(localhost + \"chemblws/molecule.json?max_phase=4&limit=1000\").json()\n",
    "results = url_approved_drugs['molecules']\n",
    "while url_approved_drugs['page_meta']['next']:\n",
    "    url_approved_drugs = requests.get(localhost + url_approved_drugs['page_meta']['next']).json()\n",
    "    results += url_approved_drugs['molecules']\n",
    "print len(results)\n",
    "print len(results) == url_approved_drugs['page_meta']['total_count']"
   ]
  },
  {
   "cell_type": "markdown",
   "metadata": {},
   "source": [
<<<<<<< HEAD
    "With the client-generated results, we no longer have to worry about pagination:"
=======
    "With the client-generated results we no longer have to worry about pagination:"
>>>>>>> origin/master
   ]
  },
  {
   "cell_type": "code",
   "execution_count": 29,
   "metadata": {
    "collapsed": false
   },
   "outputs": [
    {
     "name": "stdout",
     "output_type": "stream",
     "text": [
      "2795\n",
      "{u'max_phase': 4, u'usan_stem': None, u'parenteral': False, u'dosed_ingredient': True, u'molecule_type': u'Small molecule', u'biotherapeutic': None, u'chebi_par_id': 3181, u'first_approval': 1978, u'atc_classifications': [u'N04BC01', u'G02CB01'], u'prodrug': u'0', u'molecule_structures': {u'standard_inchi_key': u'OZVBMTJYIDMWIL-AYFBDAFISA-N', u'canonical_smiles': u'CC(C)C[C@@H]1N2C(=O)[C@](NC(=O)[C@H]3CN(C)[C@@H]4Cc5c(Br)[nH]c6cccc(C4=C3)c56)(O[C@@]2(O)[C@@H]7CCCN7C1=O)C(C)C', u'standard_inchi': u'InChI=1S/C32H40BrN5O5/c1-16(2)12-24-29(40)37-11-7-10-25(37)32(42)38(24)30(41)31(43-32,17(3)4)35-28(39)18-13-20-19-8-6-9-22-26(19)21(27(33)34-22)14-23(20)36(5)15-18/h6,8-9,13,16-18,23-25,34,42H,7,10-12,14-15H2,1-5H3,(H,35,39)/t18-,23-,24+,25+,31-,32+/m1/s1'}, u'chirality': u'1', u'usan_substem': None, u'pref_name': u'BROMOCRIPTINE', u'polymer_flag': False, u'molecule_chembl_id': u'CHEMBL493', u'therapeutic_flag': True, u'molecule_properties': {u'num_ro5_violations': 1, u'med_chem_friendly': u'Y', u'psa': u'118.21', u'full_mwt': u'654.59', u'ro3_pass': u'N', u'mw_freebase': u'654.59', u'num_alerts': 0, u'acd_logd': u'8.55', u'full_molformula': u'C32H40BrN5O5', u'hba': 6, u'molecular_species': u'NEUTRAL', u'mw_monoisotopic': u'653.2213', u'heavy_atoms': 43, u'aromatic_rings': 2, u'alogp': u'4.36', u'acd_most_apka': u'9.60', u'qed_weighted': u'0.44', u'acd_most_bpka': u'6.44', u'hbd': 3, u'acd_logp': u'8.60', u'rtb': 5}, u'structure_type': u'MOL', u'helm_notation': None, u'usan_stem_definition': None, u'natural_product': u'1', u'black_box_warning': u'0', u'availability_type': u'1', u'inorganic_flag': u'0', u'molecule_synonyms': [{u'synonyms': u'Bromocriptine', u'syn_type': u'FDA'}, {u'synonyms': u'Parlodel', u'syn_type': u'TRADE_NAME'}, {u'synonyms': u'Cycloset', u'syn_type': u'TRADE_NAME'}, {u'synonyms': u'CB-154', u'syn_type': u'RESEARCH_CODE'}, {u'synonyms': u'Bromocriptine', u'syn_type': u'BAN'}, {u'synonyms': u'Bromocriptine', u'syn_type': u'INN'}, {u'synonyms': u'Bromocriptine', u'syn_type': u'USAN'}], u'molecule_hierarchy': {u'molecule_chembl_id': u'CHEMBL493', u'parent_chembl_id': u'CHEMBL493'}, u'indication_class': u'Enzyme Inhibitor (prolactin)', u'usan_year': 1976, u'first_in_class': u'0', u'topical': False, u'oral': True}\n",
      "[{u'max_phase': 4, u'usan_stem': None, u'parenteral': False, u'dosed_ingredient': False, u'molecule_type': u'Small molecule', u'biotherapeutic': None, u'chebi_par_id': 8364, u'first_approval': 1976, u'atc_classifications': [u'C02CA01'], u'prodrug': u'0', u'molecule_structures': {u'standard_inchi_key': u'IENZQIKPVFGBNW-UHFFFAOYSA-N', u'canonical_smiles': u'COc1cc2nc(nc(N)c2cc1OC)N3CCN(CC3)C(=O)c4occc4', u'standard_inchi': u'InChI=1S/C19H21N5O4/c1-26-15-10-12-13(11-16(15)27-2)21-19(22-17(12)20)24-7-5-23(6-8-24)18(25)14-4-3-9-28-14/h3-4,9-11H,5-8H2,1-2H3,(H2,20,21,22)'}, u'chirality': u'2', u'usan_substem': None, u'pref_name': u'PRAZOSIN', u'polymer_flag': False, u'molecule_chembl_id': u'CHEMBL2', u'therapeutic_flag': True, u'molecule_properties': {u'num_ro5_violations': 0, u'med_chem_friendly': u'Y', u'psa': u'106.95', u'full_mwt': u'383.40', u'ro3_pass': u'N', u'mw_freebase': u'383.40', u'num_alerts': 0, u'acd_logd': u'2.09', u'full_molformula': u'C19H21N5O4', u'hba': 7, u'molecular_species': u'NEUTRAL', u'mw_monoisotopic': u'383.1594', u'heavy_atoms': 28, u'aromatic_rings': 3, u'alogp': u'2.11', u'acd_most_apka': None, u'qed_weighted': u'0.74', u'acd_most_bpka': u'6.52', u'hbd': 1, u'acd_logp': u'2.14', u'rtb': 4}, u'structure_type': u'MOL', u'helm_notation': None, u'usan_stem_definition': None, u'natural_product': u'0', u'black_box_warning': u'0', u'availability_type': u'1', u'inorganic_flag': u'0', u'molecule_synonyms': [{u'synonyms': u'CP-12299', u'syn_type': u'RESEARCH_CODE'}, {u'synonyms': u'Prazosin', u'syn_type': u'FDA'}, {u'synonyms': u'Prazosin', u'syn_type': u'BAN'}, {u'synonyms': u'Prazosin', u'syn_type': u'INN'}], u'molecule_hierarchy': {u'molecule_chembl_id': u'CHEMBL2', u'parent_chembl_id': u'CHEMBL2'}, u'indication_class': None, u'usan_year': 1968, u'first_in_class': u'0', u'topical': False, u'oral': True}, {u'max_phase': 4, u'usan_stem': None, u'parenteral': False, u'dosed_ingredient': True, u'molecule_type': u'Small molecule', u'biotherapeutic': None, u'chebi_par_id': 17688, u'first_approval': 1984, u'atc_classifications': [u'N07BA01'], u'prodrug': u'0', u'molecule_structures': {u'standard_inchi_key': u'SNICXCGAKADSCV-JTQLQIEISA-N', u'canonical_smiles': u'CN1CCC[C@H]1c2cccnc2', u'standard_inchi': u'InChI=1S/C10H14N2/c1-12-7-3-5-10(12)9-4-2-6-11-8-9/h2,4,6,8,10H,3,5,7H2,1H3/t10-/m0/s1'}, u'chirality': u'1', u'usan_substem': None, u'pref_name': u'NICOTINE', u'polymer_flag': True, u'molecule_chembl_id': u'CHEMBL3', u'therapeutic_flag': True, u'molecule_properties': {u'num_ro5_violations': 0, u'med_chem_friendly': u'Y', u'psa': u'16.13', u'full_mwt': u'162.23', u'ro3_pass': u'Y', u'mw_freebase': u'162.23', u'num_alerts': 0, u'acd_logd': u'-0.62', u'full_molformula': u'C10H14N2', u'hba': 2, u'molecular_species': u'NEUTRAL', u'mw_monoisotopic': u'162.1157', u'heavy_atoms': 12, u'aromatic_rings': 1, u'alogp': u'1.24', u'acd_most_apka': None, u'qed_weighted': u'0.62', u'acd_most_bpka': u'8.00', u'hbd': 0, u'acd_logp': u'0.57', u'rtb': 1}, u'structure_type': u'MOL', u'helm_notation': None, u'usan_stem_definition': None, u'natural_product': u'1', u'black_box_warning': u'0', u'availability_type': u'2', u'inorganic_flag': u'0', u'molecule_synonyms': [{u'synonyms': u'Habitrol', u'syn_type': u'TRADE_NAME'}, {u'synonyms': u'Nicoderm CQ', u'syn_type': u'TRADE_NAME'}, {u'synonyms': u'Nicotine', u'syn_type': u'TRADE_NAME'}, {u'synonyms': u'Nicotine', u'syn_type': u'USAN'}, {u'synonyms': u'Nicotrol', u'syn_type': u'TRADE_NAME'}, {u'synonyms': u'Prostep', u'syn_type': u'TRADE_NAME'}, {u'synonyms': u'Nicotrol Inhaler', u'syn_type': u'TRADE_NAME'}, {u'synonyms': u'Nicotrol NS', u'syn_type': u'TRADE_NAME'}, {u'synonyms': u'Nicoderm', u'syn_type': u'TRADE_NAME'}, {u'synonyms': u'Nicotine', u'syn_type': u'MERCK_INDEX'}, {u'synonyms': u'Nicotine', u'syn_type': u'FDA'}, {u'synonyms': u'Nicotine', u'syn_type': u'USP'}], u'molecule_hierarchy': {u'molecule_chembl_id': u'CHEMBL3', u'parent_chembl_id': u'CHEMBL3'}, u'indication_class': u'Smoking Cessation Adjunct', u'usan_year': 1985, u'first_in_class': u'0', u'topical': True, u'oral': True}, {u'max_phase': 4, u'usan_stem': u'-oxacin', u'parenteral': True, u'dosed_ingredient': True, u'molecule_type': u'Small molecule', u'biotherapeutic': None, u'chebi_par_id': 7731, u'first_approval': 1990, u'atc_classifications': [u'S02AA16', u'J01MA01', u'S01AE01'], u'prodrug': u'0', u'molecule_structures': {u'standard_inchi_key': u'GSDSWSVVBLHKDQ-UHFFFAOYSA-N', u'canonical_smiles': u'CC1COc2c(N3CCN(C)CC3)c(F)cc4C(=O)C(=CN1c24)C(=O)O', u'standard_inchi': u'InChI=1S/C18H20FN3O4/c1-10-9-26-17-14-11(16(23)12(18(24)25)8-22(10)14)7-13(19)15(17)21-5-3-20(2)4-6-21/h7-8,10H,3-6,9H2,1-2H3,(H,24,25)'}, u'chirality': u'0', u'usan_substem': None, u'pref_name': u'OFLOXACIN', u'polymer_flag': False, u'molecule_chembl_id': u'CHEMBL4', u'therapeutic_flag': True, u'molecule_properties': {u'num_ro5_violations': 0, u'med_chem_friendly': u'N', u'psa': u'73.32', u'full_mwt': u'361.37', u'ro3_pass': u'N', u'mw_freebase': u'361.37', u'num_alerts': 1, u'acd_logd': u'-0.39', u'full_molformula': u'C18H20FN3O4', u'hba': 7, u'molecular_species': u'ACID', u'mw_monoisotopic': u'361.1438', u'heavy_atoms': 26, u'aromatic_rings': 1, u'alogp': u'-1.37', u'acd_most_apka': u'5.19', u'qed_weighted': u'0.65', u'acd_most_bpka': u'7.37', u'hbd': 1, u'acd_logp': u'1.86', u'rtb': 2}, u'structure_type': u'MOL', u'helm_notation': None, u'usan_stem_definition': u'antibacterials (quinolone derivatives)', u'natural_product': u'0', u'black_box_warning': u'1', u'availability_type': u'1', u'inorganic_flag': u'0', u'molecule_synonyms': [{u'synonyms': u'Floxin', u'syn_type': u'TRADE_NAME'}, {u'synonyms': u'Floxin Otic', u'syn_type': u'TRADE_NAME'}, {u'synonyms': u'HOE-280', u'syn_type': u'RESEARCH_CODE'}, {u'synonyms': u'Ocuflox', u'syn_type': u'TRADE_NAME'}, {u'synonyms': u'Ofloxacin', u'syn_type': u'TRADE_NAME'}, {u'synonyms': u'Visiren', u'syn_type': u'TRADE_NAME'}, {u'synonyms': u'Tarivid', u'syn_type': u'TRADE_NAME'}, {u'synonyms': u'DL-8280', u'syn_type': u'RESEARCH_CODE'}, {u'synonyms': u'Ofloxacin', u'syn_type': u'BAN'}, {u'synonyms': u'Ofloxacin', u'syn_type': u'FDA'}, {u'synonyms': u'Ofloxacin', u'syn_type': u'INN'}, {u'synonyms': u'Ofloxacin', u'syn_type': u'JAN'}, {u'synonyms': u'Ofloxacin', u'syn_type': u'USP'}, {u'synonyms': u'Ofloxacin', u'syn_type': u'USAN'}], u'molecule_hierarchy': {u'molecule_chembl_id': u'CHEMBL4', u'parent_chembl_id': u'CHEMBL4'}, u'indication_class': u'Antibacterial', u'usan_year': 1984, u'first_in_class': u'0', u'topical': True, u'oral': True}]\n",
      "2395\n"
     ]
    }
   ],
   "source": [
    "# The QuerySet object returned by the client is a lazily-evaluated iterator\n",
    "# This means that it's ready to use and it will try to reduce the amount of server requests\n",
    "# All results are cached as well so they are fetched from server only once.\n",
    "approved_drugs = molecule.filter(max_phase=4)\n",
    "\n",
    "# Getting the lenght of the whole result set is easy:\n",
    "print len(approved_drugs)\n",
    "\n",
    "# So is getting a single element:\n",
    "print approved_drugs[123]\n",
    "\n",
    "# Or a chunk of elements:\n",
    "print approved_drugs[2:5]\n",
    "\n",
    "# Or using in the loops or list comprehensions:\n",
    "drug_smiles = [drug['molecule_structures']['canonical_smiles'] for drug in approved_drugs if drug['molecule_structures']]\n",
    "print len(drug_smiles)"
   ]
  },
  {
   "cell_type": "markdown",
   "metadata": {
    "collapsed": true
   },
   "source": [
    "### Ordering results\n",
<<<<<<< HEAD
    "Similar to filtering, it's also possible to order the result set, there is a parameter called `order_by` that is reposnsible for ordering:"
=======
    "Similar to filtering, it's also possible to order result set, there is a parameter called `order_by` that is reposnsible for ordering"
>>>>>>> origin/master
   ]
  },
  {
   "cell_type": "code",
   "execution_count": 30,
   "metadata": {
    "collapsed": false
   },
   "outputs": [
    {
     "data": {
      "text/plain": [
       "u'AMMONIA SOLUTION, STRONG'"
      ]
     },
     "execution_count": 30,
     "metadata": {},
     "output_type": "execute_result"
    }
   ],
   "source": [
    "# Sort approved drugs by molecular weight ascending (from lightest to heaviest) and get the first (lightest) element\n",
    "lightest_drug = molecule.filter(max_phase=4).order_by('molecule_properties__mw_freebase')[0]\n",
    "lightest_drug['pref_name']"
   ]
  },
  {
   "cell_type": "code",
   "execution_count": 31,
   "metadata": {
    "collapsed": false
   },
   "outputs": [
    {
     "data": {
      "text/plain": [
       "u'INSULIN PURIFIED PORK'"
      ]
     },
     "execution_count": 31,
     "metadata": {},
     "output_type": "execute_result"
    }
   ],
   "source": [
    "# Sort approved drugs by molecular weight descending (from heaviest to lightest) and get the first (heaviest) element\n",
    "heaviest_drug = molecule.filter(max_phase=4).order_by('-molecule_properties__mw_freebase')[0]\n",
    "heaviest_drug['pref_name']"
   ]
  },
  {
   "cell_type": "code",
   "execution_count": 32,
   "metadata": {
    "collapsed": false
   },
   "outputs": [
    {
     "name": "stdout",
     "output_type": "stream",
     "text": [
      "http://localhost/chemblws/molecule.json?max_phase=4&order_by=molecule_properties__mw_freebase\n",
      "AMMONIA SOLUTION, STRONG\n",
      "http://localhost/chemblws/molecule.json?max_phase=4&order_by=-molecule_properties__mw_freebase\n",
      "INSULIN PURIFIED PORK\n"
     ]
    }
   ],
   "source": [
    "# Do the same using url endpoint\n",
    "url_1 = url_stem + \"/molecule.json?max_phase=4&order_by=molecule_properties__mw_freebase\"\n",
    "lightest_drug = requests.get(url_1).json()['molecules'][0]\n",
    "print url_1\n",
    "print lightest_drug['pref_name']\n",
    "\n",
    "url_2 = url_stem + \"/molecule.json?max_phase=4&order_by=-molecule_properties__mw_freebase\"\n",
    "heaviest_drug = requests.get(url_2).json()['molecules'][0]\n",
    "print url_2\n",
    "print heaviest_drug['pref_name']"
   ]
  },
  {
   "cell_type": "markdown",
   "metadata": {},
   "source": [
    "### Filtering molecules using SMILES\n",
    "It is possible to filter molecules by SMILES"
   ]
  },
  {
   "cell_type": "code",
   "execution_count": 33,
   "metadata": {
    "collapsed": false
   },
   "outputs": [
    {
     "name": "stdout",
     "output_type": "stream",
     "text": [
      "1\n",
      "1\n",
      "1\n",
      "True\n",
      "True\n"
     ]
    }
   ],
   "source": [
    "# Atorvastatin...\n",
    "smiles = \"CC(C)c1c(C(=O)Nc2ccccc2)c(c3ccccc3)c(c4ccc(F)cc4)n1CC[C@@H](O)C[C@@H](O)CC(=O)O\"\n",
    "\n",
    "# By default, the type of search used is 'exact search' which means that only compounds with exacly same SMILES string will be picked:\n",
    "result = molecule.filter(molecule_structures__canonical_smiles=smiles)\n",
    "print len(result)\n",
    "\n",
    "# This is quivalent of:\n",
    "result1 = molecule.filter(molecule_structures__canonical_smiles__exact=smiles)\n",
    "print len(result1)\n",
    "\n",
    "# For convenience, we have a shortcut call:\n",
    "result2 = molecule.filter(smiles=smiles)\n",
    "print len(result2)\n",
    "\n",
    "# Checking if they are all the same: \n",
    "print result[0]['pref_name'] == result1[0]['pref_name'] == result2[0]['pref_name']\n",
    "\n",
    "# And because SMILES string are unique in ChEMBL, this is similar to:\n",
    "result3 = molecule.get(smiles)\n",
    "print result[0]['pref_name'] == result3['pref_name']"
   ]
  },
  {
   "cell_type": "markdown",
   "metadata": {},
   "source": [
<<<<<<< HEAD
    "There are however different filtering operators that can be applied to SMILES; the most important one is called `flexmatch`, which will return all structures described by given SMILES string even if this is non-canonical SMILES."
=======
    "There are however different filtering opperators, that can be applied to SMILES, the most important one is called `flexmatch`, which will return all structures described by given SMILES string even it this is non-canonical SMILES."
>>>>>>> origin/master
   ]
  },
  {
   "cell_type": "code",
   "execution_count": 34,
   "metadata": {
    "collapsed": false
   },
   "outputs": [
    {
     "name": "stdout",
     "output_type": "stream",
     "text": [
      "2\n",
      "CHEMBL1207181   : CC(C)c1c(C(=O)Nc2ccccc2)c(c3ccccc3)c(c4ccc(F)cc4)n1CCC(O)C[C@@H](O)CC(=O)O\n",
      "CHEMBL1487      : CC(C)c1c(C(=O)Nc2ccccc2)c(c3ccccc3)c(c4ccc(F)cc4)n1CC[C@@H](O)C[C@@H](O)CC(=O)O\n"
     ]
    }
   ],
   "source": [
    "# Flexmatch will look for structures that match given SMILES, ignoring stereo:\n",
    "records = molecule.filter(molecule_structures__canonical_smiles__flexmatch=smiles)\n",
    "print len(records)\n",
    "\n",
    "for record in records:\n",
    "    print(\"{:15s} : {}\".format(record[\"molecule_chembl_id\"], record['molecule_structures']['canonical_smiles']))"
   ]
  },
  {
   "cell_type": "markdown",
   "metadata": {
    "collapsed": true
   },
   "source": [
<<<<<<< HEAD
    "Unlike with the exact string match, it is possible to retrieve multiple records when a SMILES is used for the `flexmatch` lookup (_i.e._ it is potentially one-to-many instead of one-to-one as the ID lookups are). This is due to the nature of `flexmatch`.\n",
    "\n",
    "In our case two structures are returned, CHEMBL1487 (Atorvastatin) and CHEMBL1207181, which is the same structure as the former but with one of the two stereocentres undefined."
=======
    "Unlike with the exact string match, it is possible to retrieve multiple records when a SMILES is used for the flexmatch lookup (_i.e._ it is potentially one-to-many instead of one-to-one as the ID lookups are).\n",
    "\n",
    "This is due to the nature of flexmatch.\n",
    "\n",
    "In our case two structures are returned, CHEMBL1487 (Atorvastatin) and CHEMBL1207181, which is the same structure as Atorvastatin but with one of the two stereocentes undefined."
>>>>>>> origin/master
   ]
  },
  {
   "cell_type": "code",
   "execution_count": 35,
   "metadata": {
    "collapsed": false
   },
   "outputs": [
    {
     "name": "stdout",
     "output_type": "stream",
     "text": [
      "http://localhost/chemblws/molecule.json?molecule_structures__canonical_smiles=CC%28C%29c1c%28C%28%3DO%29Nc2ccccc2%29c%28c3ccccc3%29c%28c4ccc%28F%29cc4%29n1CC%5BC%40%40H%5D%28O%29C%5BC%40%40H%5D%28O%29CC%28%3DO%29O\n",
      "1\n",
      "http://localhost/chemblws/molecule.json?molecule_structures__canonical_smiles__exact=CC%28C%29c1c%28C%28%3DO%29Nc2ccccc2%29c%28c3ccccc3%29c%28c4ccc%28F%29cc4%29n1CC%5BC%40%40H%5D%28O%29C%5BC%40%40H%5D%28O%29CC%28%3DO%29O\n",
      "1\n",
      "http://localhost/chemblws/molecule.json?smiles=CC%28C%29c1c%28C%28%3DO%29Nc2ccccc2%29c%28c3ccccc3%29c%28c4ccc%28F%29cc4%29n1CC%5BC%40%40H%5D%28O%29C%5BC%40%40H%5D%28O%29CC%28%3DO%29O\n",
      "1\n",
      "http://localhost/chemblws/molecule.json?molecule_structures__canonical_smiles__flexmatch=CC%28C%29c1c%28C%28%3DO%29Nc2ccccc2%29c%28c3ccccc3%29c%28c4ccc%28F%29cc4%29n1CC%5BC%40%40H%5D%28O%29C%5BC%40%40H%5D%28O%29CC%28%3DO%29O\n",
      "2\n",
      "True\n"
     ]
    }
   ],
   "source": [
    "# The same can be achieved using url endpoint:\n",
    "\n",
    "url_1 = url_stem + \"/molecule.json?molecule_structures__canonical_smiles=\" + quote(smiles)\n",
    "url_2 = url_stem + \"/molecule.json?molecule_structures__canonical_smiles__exact=\" + quote(smiles)\n",
    "url_3 = url_stem + \"/molecule.json?smiles=\" + quote(smiles)\n",
    "url_4 = url_stem + \"/molecule.json?molecule_structures__canonical_smiles__flexmatch=\" + quote(smiles)\n",
    "\n",
    "exact_match = requests.get(url_1).json()\n",
    "explicit_exact_match = requests.get(url_2).json()\n",
    "convenient_shortcut = requests.get(url_3).json()\n",
    "flexmatch = requests.get(url_4).json()\n",
    "\n",
    "print url_1\n",
    "print len(exact_match['molecules'])\n",
    "\n",
    "print url_2\n",
    "print len(explicit_exact_match['molecules'])\n",
    "\n",
    "print url_3\n",
    "print len(convenient_shortcut['molecules'])\n",
    "\n",
    "print url_4\n",
    "print len(flexmatch['molecules'])\n",
    "\n",
    "print exact_match == explicit_exact_match"
   ]
  },
  {
   "cell_type": "markdown",
   "metadata": {},
   "source": [
    "#### A further note on SMILES searches\n",
    "\n",
    "The URL-based example above used the HTTP GET method, which means the SMILES are passed _via_ the URL. This can cause problems where the SMILES inludes the '/', '\\' or '#' characters, for example:"
   ]
  },
  {
   "cell_type": "code",
   "execution_count": 36,
   "metadata": {
    "collapsed": false
   },
   "outputs": [
    {
     "name": "stdout",
     "output_type": "stream",
     "text": [
      "http://localhost/chemblws/molecule/[Na+].CO[C@@H](CCC#C\\C=C/CCCC(C)CCCCC=C)C(=O)[O-].json\n",
      "False\n",
      "404\n"
     ]
    }
   ],
   "source": [
    "# CHEMBL477889\n",
    "smiles = \"[Na+].CO[C@@H](CCC#C\\C=C/CCCC(C)CCCCC=C)C(=O)[O-]\"\n",
    "\n",
    "url = url_stem + \"/molecule/\" + smiles + \".json\"\n",
    "result = requests.get(url)\n",
    "\n",
    "print url\n",
    "print result.ok\n",
    "print result.status_code"
   ]
  },
  {
   "cell_type": "markdown",
   "metadata": {},
   "source": [
    "There are two solutions to this problem:\n",
    "\n",
    "1. When using GET, use `urllib.quote` function\n",
    "2. Use POST with `X-HTTP-Method-Override`: `GET` header"
   ]
  },
  {
   "cell_type": "code",
   "execution_count": 37,
   "metadata": {
    "collapsed": false
   },
   "outputs": [
    {
     "name": "stdout",
     "output_type": "stream",
     "text": [
      "http://localhost/chemblws/molecule/%5BNa%2B%5D.CO%5BC%40%40H%5D%28CCC%23C%5CC%3DC/CCCC%28C%29CCCCC%3DC%29C%28%3DO%29%5BO-%5D.json\n",
      "True\n",
      "200\n"
     ]
    }
   ],
   "source": [
    "# Method one:\n",
    "url = url_stem + \"/molecule/\" + quote(smiles) + \".json\"\n",
    "result_by_get = requests.get(url)\n",
    "\n",
    "print url\n",
    "print result_by_get.ok\n",
    "print result_by_get.status_code"
   ]
  },
  {
   "cell_type": "code",
   "execution_count": 38,
   "metadata": {
    "collapsed": false
   },
   "outputs": [
    {
     "name": "stdout",
     "output_type": "stream",
     "text": [
      "True\n",
      "200\n"
     ]
    }
   ],
   "source": [
    "# Method two:\n",
    "url = url_stem + \"/molecule.json\"\n",
    "result_by_post = requests.post(url, data={\"smiles\": smiles}, headers={\"X-HTTP-Method-Override\": \"GET\"})\n",
    "\n",
    "print result_by_post.ok\n",
    "print result_by_post.status_code"
   ]
  },
  {
   "cell_type": "code",
   "execution_count": 39,
   "metadata": {
    "collapsed": false
   },
   "outputs": [
    {
     "name": "stdout",
     "output_type": "stream",
     "text": [
      "[Na+].CO[C@@H](CCC#C\\C=C/CCCC(C)CCCCC=C)C(=O)[O-]\n",
      "{u'page_meta': {u'previous': None, u'total_count': 1, u'offset': 0, u'limit': 20, u'next': None}, u'molecules': [{u'max_phase': 0, u'usan_stem': None, u'parenteral': False, u'dosed_ingredient': False, u'molecule_type': u'Small molecule', u'biotherapeutic': None, u'chebi_par_id': None, u'first_approval': None, u'atc_classifications': [], u'prodrug': u'-1', u'molecule_structures': {u'standard_inchi_key': u'RLSXKIUQYFNFBI-PJZMSVRGSA-M', u'canonical_smiles': u'[Na+].CO[C@@H](CCC#C\\\\C=C/CCCC(C)CCCCC=C)C(=O)[O-]', u'standard_inchi': u'InChI=1S/C20H32O3.Na/c1-4-5-6-12-15-18(2)16-13-10-8-7-9-11-14-17-19(23-3)20(21)22;/h4,7-8,18-19H,1,5-6,10,12-17H2,2-3H3,(H,21,22);/q;+1/p-1/b8-7-;/t18?,19-;/m0./s1'}, u'chirality': u'-1', u'usan_substem': None, u'pref_name': None, u'polymer_flag': False, u'molecule_chembl_id': u'CHEMBL477889', u'therapeutic_flag': False, u'molecule_properties': {u'num_ro5_violations': 1, u'med_chem_friendly': u'Y', u'psa': u'46.53', u'full_mwt': u'342.45', u'ro3_pass': u'N', u'mw_freebase': u'320.47', u'num_alerts': 3, u'acd_logd': u'2.47', u'full_molformula': u'C20H31NaO3', u'hba': 3, u'molecular_species': u'ACID', u'mw_monoisotopic': u'320.2351', u'heavy_atoms': 23, u'aromatic_rings': 0, u'alogp': u'6.02', u'acd_most_apka': u'3.40', u'qed_weighted': u'0.23', u'acd_most_bpka': None, u'hbd': 1, u'acd_logp': u'6.03', u'rtb': 15}, u'structure_type': u'MOL', u'helm_notation': None, u'usan_stem_definition': None, u'natural_product': u'-1', u'black_box_warning': u'0', u'availability_type': u'-1', u'inorganic_flag': u'-1', u'molecule_synonyms': [{u'synonyms': u'(Z)-Stellettic Acid B Sodium Salt', u'syn_type': u'OTHER'}], u'molecule_hierarchy': {u'molecule_chembl_id': u'CHEMBL477889', u'parent_chembl_id': u'CHEMBL477888'}, u'indication_class': None, u'usan_year': None, u'first_in_class': u'-1', u'topical': False, u'oral': False}]}\n",
      "True\n"
     ]
    }
   ],
   "source": [
    "print smiles\n",
    "print result_by_post.json()\n",
    "print result_by_get.json() == result_by_post.json()['molecules'][0]"
   ]
  },
  {
   "cell_type": "markdown",
   "metadata": {},
   "source": [
    "### Substructure-searching\n",
    "\n",
    "As well as ID lookups, the web services may also be used to perform substructure searches. Currently, only SMILES-based searches are supported, although this could change if there is is a need for more powerful search abilities (_e.g._ SMARTS searching)."
   ]
  },
  {
   "cell_type": "code",
   "execution_count": 40,
   "metadata": {
    "collapsed": false
   },
   "outputs": [
    {
     "data": {
<<<<<<< HEAD
      "image/png": "iVBORw0KGgoAAAANSUhEUgAAAcIAAACWCAYAAABNcIgQAAAleklEQVR4nO3deVxU5f4H8A8iq+CW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\n1N3q6917AAAAAElFTkSuQmCC\n",
      "text/plain": [
       "<rdkit.Chem.rdchem.Mol at 0x7f72772a2c90>"
=======
      "image/png": "iVBORw0KGgoAAAANSUhEUgAAAcIAAACWCAYAAABNcIgQAAAlaElEQVR4nO3deVxU1f8/8BeioIim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\n",
      "text/plain": [
       "<rdkit.Chem.rdchem.Mol at 0x3509fa0>"
>>>>>>> origin/master
      ]
     },
     "execution_count": 40,
     "metadata": {},
     "output_type": "execute_result"
    }
   ],
   "source": [
    "# Lapatinib contains the following core...\n",
    "\n",
    "query = \"c4ccc(Nc2ncnc3ccc(c1ccco1)cc23)cc4\"\n",
    "\n",
    "Chem.MolFromSmiles(query)"
   ]
  },
  {
   "cell_type": "code",
   "execution_count": 41,
   "metadata": {
    "collapsed": false
   },
   "outputs": [],
   "source": [
    "# Perform substructure search on query using client\n",
    "\n",
    "substructure = new_client.substructure\n",
    "records = substructure.filter(smiles=query)"
   ]
  },
  {
   "cell_type": "code",
   "execution_count": 42,
   "metadata": {
    "collapsed": false
   },
   "outputs": [
    {
     "name": "stdout",
     "output_type": "stream",
     "text": [
      "http://localhost/chemblws/substructure/c4ccc%28Nc2ncnc3ccc%28c1ccco1%29cc23%29cc4.json\n",
      "57\n"
     ]
    }
   ],
   "source": [
    "# ... and using raw url-endpoint\n",
    "\n",
    "url = url_stem + \"/substructure/\" + quote(query) + \".json\"\n",
    "result = requests.get(url).json()\n",
    "\n",
    "print url\n",
    "print result['page_meta']['total_count']"
   ]
  },
  {
   "cell_type": "code",
   "execution_count": 43,
   "metadata": {
    "collapsed": false
   },
   "outputs": [
    {
     "data": {
<<<<<<< HEAD
      "image/png": "iVBORw0KGgoAAAANSUhEUgAABLAAAAGQCAYAAAC+tZleAAEAAElEQVR4nOzdd1iT1xfA8S8bR60o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\nTVMAS0REREREREREbNr/AUioR/qFu/8YAAAAAElFTkSuQmCC\n",
      "text/plain": [
       "<PIL.Image.Image image mode=RGBA size=1200x400 at 0x7F72687A9DD0>"
=======
      "image/png": "iVBORw0KGgoAAAANSUhEUgAABLAAAAGQCAYAAAC+tZleAAEAAElEQVR4nOzdd1iT1xcH8G9YAbEq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\nIiIiIrJqLGAREREREREREZFV+39GemA8vE5r+QAAAABJRU5ErkJggg==\n",
      "text/plain": [
       "<PIL.Image.Image image mode=RGBA size=1200x400 at 0x677CA70>"
>>>>>>> origin/master
      ]
     },
     "execution_count": 43,
     "metadata": {},
     "output_type": "execute_result"
    }
   ],
   "source": [
    "Draw.MolsToGridImage([Chem.MolFromSmiles(x['molecule_structures']['canonical_smiles']) for x in records[:6]], legends=[x[\"molecule_chembl_id\"] for x in records], subImgSize=(400, 200))"
   ]
  },
  {
   "cell_type": "markdown",
   "metadata": {
    "collapsed": true
   },
   "source": [
    "### Similarity searching\n",
    "\n",
    "The web services may also be used to perform SMILES-based similarity searches."
   ]
  },
  {
   "cell_type": "code",
   "execution_count": 44,
   "metadata": {
    "collapsed": true
   },
   "outputs": [],
   "source": [
    "# Lapatinib\n",
    "smiles = \"CS(=O)(=O)CCNCc1oc(cc1)c2ccc3ncnc(Nc4ccc(OCc5cccc(F)c5)c(Cl)c4)c3c2\""
   ]
  },
  {
   "cell_type": "code",
<<<<<<< HEAD
   "execution_count": 45,
=======
   "execution_count": 54,
>>>>>>> origin/master
   "metadata": {
    "collapsed": false
   },
   "outputs": [
    {
     "data": {
      "text/plain": [
       "7"
      ]
     },
<<<<<<< HEAD
     "execution_count": 45,
=======
     "execution_count": 54,
>>>>>>> origin/master
     "metadata": {},
     "output_type": "execute_result"
    }
   ],
   "source": [
    "# Peform similarity search on molecule using client...\n",
    "\n",
    "# Note that a percentage similarity must be supplied.\n",
    "similarity = new_client.similarity\n",
    "res = similarity.filter(smiles=smiles, similarity=85)\n",
    "\n",
    "len(res)"
   ]
  },
  {
   "cell_type": "code",
<<<<<<< HEAD
   "execution_count": 46,
=======
   "execution_count": 55,
>>>>>>> origin/master
   "metadata": {
    "collapsed": false
   },
   "outputs": [
    {
     "name": "stdout",
     "output_type": "stream",
     "text": [
      "http://localhost/chemblws/similarity/CS%28%3DO%29%28%3DO%29CCNCc1oc%28cc1%29c2ccc3ncnc%28Nc4ccc%28OCc5cccc%28F%29c5%29c%28Cl%29c4%29c3c2/85.json\n",
      "7\n"
     ]
    }
   ],
   "source": [
    "##### ... and using raw url-endpoint\n",
    "\n",
    "url = url_stem + \"/similarity/\" + quote(smiles) + \"/85.json\"\n",
    "result = requests.get(url).json()\n",
    "\n",
    "print url\n",
    "print result['page_meta']['total_count']"
   ]
  },
  {
   "cell_type": "code",
<<<<<<< HEAD
   "execution_count": 47,
=======
   "execution_count": 56,
>>>>>>> origin/master
   "metadata": {
    "collapsed": false
   },
   "outputs": [
    {
     "data": {
<<<<<<< HEAD
      "image/png": "iVBORw0KGgoAAAANSUhEUgAABLAAAAGQCAYAAAC+tZleAADtXElEQVR4nOzdd3yN5/sH8E92IkF2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\nYII=\n",
      "text/plain": [
       "<PIL.Image.Image image mode=RGBA size=1200x400 at 0x7F72687C8050>"
      ]
     },
     "execution_count": 47,
=======
      "image/png": "iVBORw0KGgoAAAANSUhEUgAABLAAAAGQCAYAAAC+tZleAADm3klEQVR4nOzde1zO9/sH8FfnUqF0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\n",
      "text/plain": [
       "<PIL.Image.Image image mode=RGBA size=1200x400 at 0x6791950>"
      ]
     },
     "execution_count": 56,
>>>>>>> origin/master
     "metadata": {},
     "output_type": "execute_result"
    }
   ],
   "source": [
    "Draw.MolsToGridImage([Chem.MolFromSmiles(x['molecule_structures']['canonical_smiles']) for x in res[:6]], legends=[x[\"molecule_chembl_id\"] for x in res], subImgSize=(400, 200))"
   ]
  },
  {
   "cell_type": "markdown",
   "metadata": {},
   "source": [
    "### Versions for a parent structure\n",
    "\n",
<<<<<<< HEAD
    "The versions (_e.g._ salt forms) for a parent compound may be retrieved for a ChEMBL ID. Keep in mind that a parent structure is one that has had salt/solvate components removed; it corresponds to the bioactive moiety and its use facilitates structure searching, comparison _etc_. A compound without salt/solvate components is its own parent."
=======
    "The versions (_e.g._ salt forms) for a parent compound may be retrieved for a ChEMBL ID. Recall that a parent structure is one that has had salt/solvate components removed; it corrsponds to the bioactive moiety and it's use facilitates structure searching, comparison _etc_. A compound without salt/solvate components is it's own parent."
>>>>>>> origin/master
   ]
  },
  {
   "cell_type": "code",
<<<<<<< HEAD
   "execution_count": 48,
=======
   "execution_count": 62,
>>>>>>> origin/master
   "metadata": {
    "collapsed": true
   },
   "outputs": [],
   "source": [
    "# Neostigmine (a parent)...\n",
    "\n",
    "chembl_id = \"CHEMBL278020\" "
   ]
  },
  {
   "cell_type": "code",
<<<<<<< HEAD
   "execution_count": 49,
=======
   "execution_count": 66,
>>>>>>> origin/master
   "metadata": {
    "collapsed": false
   },
   "outputs": [
    {
     "data": {
      "text/plain": [
       "[{u'molecule_chembl_id': u'CHEMBL278020', u'parent': u'True'},\n",
       " {u'molecule_chembl_id': u'CHEMBL54126', u'parent': u'False'},\n",
       " {u'molecule_chembl_id': u'CHEMBL211471', u'parent': u'False'}]"
      ]
     },
<<<<<<< HEAD
     "execution_count": 49,
=======
     "execution_count": 66,
>>>>>>> origin/master
     "metadata": {},
     "output_type": "execute_result"
    }
   ],
   "source": [
    "records = new_client.molecule_form.get(chembl_id)['molecule_forms']\n",
    "\n",
    "records"
   ]
  },
  {
   "cell_type": "markdown",
   "metadata": {},
   "source": [
    "The ChEMBL ID lookup service may now be used to get the full records for the salt forms..."
   ]
  },
  {
   "cell_type": "code",
<<<<<<< HEAD
   "execution_count": 50,
=======
   "execution_count": 72,
>>>>>>> origin/master
   "metadata": {
    "collapsed": false
   },
   "outputs": [
    {
     "name": "stdout",
     "output_type": "stream",
     "text": [
      "CHEMBL54126 : [Br-].CN(C)C(=O)Oc1cccc(c1)[N+](C)(C)C\n",
      "CHEMBL211471 : COS(=O)(=O)[O-].CN(C)C(=O)Oc1cccc(c1)[N+](C)(C)C\n"
     ]
    }
   ],
   "source": [
    "for chembl_id in [x[\"molecule_chembl_id\"] for x in records if x[\"parent\"] == 'False']:\n",
    "    record = new_client.molecule.get(chembl_id)          \n",
    "    print(\"{:10s} : {}\".format(chembl_id, record['molecule_structures']['canonical_smiles']))"
   ]
  },
  {
   "cell_type": "markdown",
   "metadata": {},
   "source": [
    "### Drug mechanism(s) of action\n",
    "\n",
<<<<<<< HEAD
    "The mechanisms of action of marketed drugs may be retrieved.\n",
    "\n",
    "Note that this data may not be recorded for the parent structure, but rather for one of its versions. For example, the marketed drug, Tykerb, containing the active ingredient Lapatinib (CHEMBL554) is actually the ditosylate monohydrate (CHEMBL1201179)."
=======
    "The mechanisms of action of marketed drugs may be requested.\n",
    "\n",
    "Note that this data may not be recorded for the parent structure, but rather for one of it's versions. For example, the marketed drug, Tykerb, containing the active ingredient Lapatinib (CHEMBL554) is actually the ditosylate monohydrate (CHEMBL1201179)."
>>>>>>> origin/master
   ]
  },
  {
   "cell_type": "code",
<<<<<<< HEAD
   "execution_count": 51,
=======
   "execution_count": 75,
>>>>>>> origin/master
   "metadata": {
    "collapsed": false
   },
   "outputs": [
    {
     "name": "stdout",
     "output_type": "stream",
     "text": [
      "The recorded mechanisms of action of 'CHEMBL554' are...\n",
      "--------------------------------------------------\n",
      "The recorded mechanisms of action of 'CHEMBL1201179' are...\n",
      "CHEMBL1201179 : Receptor protein-tyrosine kinase erbB-2 inhibitor\n",
      "CHEMBL1201179 : Epidermal growth factor receptor erbB1 inhibitor\n",
      "--------------------------------------------------\n"
     ]
    }
   ],
   "source": [
    "# Molecule forms for Lapatinib are used here...\n",
    "\n",
    "for chembl_id in (x[\"molecule_chembl_id\"] for x in new_client.molecule_form.get(\"CHEMBL554\")['molecule_forms']):\n",
    "        \n",
    "    print(\"The recorded mechanisms of action of '{}' are...\".format(chembl_id))\n",
    "        \n",
    "    mechanism_records = new_client.mechanism.filter(molecule_chembl_id=chembl_id)\n",
    "    \n",
    "    if mechanism_records:\n",
    "    \n",
    "        for mech_rec in mechanism_records:\n",
    "    \n",
    "            print(\"{:10s} : {}\".format(mech_rec[\"molecule_chembl_id\"], mech_rec[\"mechanism_of_action\"]))\n",
    "        \n",
    "    print(\"-\" * 50)"
   ]
  },
  {
   "cell_type": "markdown",
   "metadata": {},
   "source": [
    "### Image query\n",
    "\n",
    "The webservice may be used to obtain a PNG image of a compound."
   ]
  },
  {
   "cell_type": "code",
<<<<<<< HEAD
   "execution_count": 52,
=======
   "execution_count": 76,
>>>>>>> origin/master
   "metadata": {
    "collapsed": true
   },
   "outputs": [],
   "source": [
    "# Lapatinib ditosylate monohydrate (Tykerb)\n",
    "\n",
    "chembl_id = \"CHEMBL1201179\" "
   ]
  },
  {
   "cell_type": "code",
<<<<<<< HEAD
   "execution_count": 53,
=======
   "execution_count": 89,
>>>>>>> origin/master
   "metadata": {
    "collapsed": false
   },
   "outputs": [
    {
     "data": {
<<<<<<< HEAD
      "image/png": "iVBORw0KGgoAAAANSUhEUgAAAfQAAAH0CAYAAADL1t+KAAA+KklEQVR4nO3deVyVdd7/8Q+HRVnc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\nAAAASUVORK5CYII=\n",
=======
      "image/png": "iVBORw0KGgoAAAANSUhEUgAAAfQAAAH0CAYAAADL1t+KAAA9RElEQVR4nO3dd3xV9f3H8U/2IIEQ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\nAElFTkSuQmCC\n",
>>>>>>> origin/master
      "text/plain": [
       "<IPython.core.display.Image object>"
      ]
     },
<<<<<<< HEAD
     "execution_count": 53,
=======
     "execution_count": 89,
>>>>>>> origin/master
     "metadata": {},
     "output_type": "execute_result"
    }
   ],
   "source": [
    "png = new_client.image.get(chembl_id)\n",
    "\n",
    "Image(png)"
   ]
  },
  {
   "cell_type": "markdown",
   "metadata": {},
   "source": [
    "### Bioactivities\n",
    "\n",
<<<<<<< HEAD
    "All bioactivity records for a compound may be retrieved _via_ its ChEMBL ID.\n"
=======
    "All bioactivity records for a compound may be retrived _via_ a compound's ChEMBL ID.\n"
>>>>>>> origin/master
   ]
  },
  {
   "cell_type": "code",
<<<<<<< HEAD
   "execution_count": 54,
=======
   "execution_count": 90,
>>>>>>> origin/master
   "metadata": {
    "collapsed": true
   },
   "outputs": [],
   "source": [
    "# Lapatinib\n",
    "\n",
    "chembl_id = \"CHEMBL554\" "
   ]
  },
  {
   "cell_type": "code",
<<<<<<< HEAD
   "execution_count": 55,
=======
   "execution_count": 91,
>>>>>>> origin/master
   "metadata": {
    "collapsed": false
   },
   "outputs": [
    {
     "data": {
      "text/plain": [
       "(1620,\n",
       " [{u'document_journal': u'Bioorg. Med. Chem. Lett.', u'bao_endpoint': u'BAO_0000190', u'potential_duplicate': None, u'uo_units': u'UO_0000065', u'canonical_smiles': u'CS(=O)(=O)CCNCc1oc(cc1)c2ccc3ncnc(Nc4ccc(OCc5cccc(F)c5)c(Cl)c4)c3c2', u'assay_type': u'B', u'standard_flag': True, u'molecule_chembl_id': u'CHEMBL554', u'target_organism': u'Homo sapiens', u'assay_description': u'Inhibitory activity against epidermal growth factor receptor', u'record_id': 15408, u'document_chembl_id': u'CHEMBL1146682', u'bao_format': u'BAO_0000357', u'standard_units': u'nM', u'activity_id': 190221, u'standard_type': u'IC50', u'target_chembl_id': u'CHEMBL203', u'data_validity_comment': None, u'standard_relation': u'=', u'document_year': 2004, u'target_pref_name': u'Epidermal growth factor receptor erbB1', u'assay_chembl_id': u'CHEMBL674106', u'published_value': u'0.01', u'published_relation': u'=', u'standard_value': u'10', u'qudt_units': u'http://www.openphacts.org/units/Nanomolar', u'published_units': u'uM', u'pchembl_value': u'8.00', u'published_type': u'IC50', u'activity_comment': None}, {u'document_journal': u'Bioorg. Med. Chem. Lett.', u'bao_endpoint': u'BAO_0000190', u'potential_duplicate': None, u'uo_units': u'UO_0000065', u'canonical_smiles': u'CS(=O)(=O)CCNCc1oc(cc1)c2ccc3ncnc(Nc4ccc(OCc5cccc(F)c5)c(Cl)c4)c3c2', u'assay_type': u'B', u'standard_flag': True, u'molecule_chembl_id': u'CHEMBL554', u'target_organism': u'Homo sapiens', u'assay_description': u'Inhibitory activity against ERBB2 receptor kinase', u'record_id': 15408, u'document_chembl_id': u'CHEMBL1146682', u'bao_format': u'BAO_0000357', u'standard_units': u'nM', u'activity_id': 190222, u'standard_type': u'IC50', u'target_chembl_id': u'CHEMBL1824', u'data_validity_comment': None, u'standard_relation': u'=', u'document_year': 2004, u'target_pref_name': u'Receptor protein-tyrosine kinase erbB-2', u'assay_chembl_id': u'CHEMBL682312', u'published_value': u'0.009', u'published_relation': u'=', u'standard_value': u'9', u'qudt_units': u'http://www.openphacts.org/units/Nanomolar', u'published_units': u'uM', u'pchembl_value': u'8.05', u'published_type': u'IC50', u'activity_comment': None}])"
      ]
     },
<<<<<<< HEAD
     "execution_count": 55,
=======
     "execution_count": 91,
>>>>>>> origin/master
     "metadata": {},
     "output_type": "execute_result"
    }
   ],
   "source": [
    "records = new_client.activity.filter(molecule_chembl_id=chembl_id)\n",
    "\n",
    "len(records), records[:2]"
   ]
  },
  {
   "cell_type": "markdown",
   "metadata": {},
   "source": [
    "## Targets\n",
    "\n",
<<<<<<< HEAD
    "The webservices may also be used to obtain information on biological targets, _i.e._ the entities, such as proteins, cells or organisms, with which compounds interact.\n"
=======
    "The webservices may also be used to obtain information on targets, _i.e._ the entities, such as proteins, cells or organisms, with which compounds interact.\n"
>>>>>>> origin/master
   ]
  },
  {
   "cell_type": "code",
<<<<<<< HEAD
   "execution_count": 56,
=======
   "execution_count": 92,
>>>>>>> origin/master
   "metadata": {
    "collapsed": false
   },
   "outputs": [
    {
     "data": {
      "text/plain": [
       "10774"
      ]
     },
<<<<<<< HEAD
     "execution_count": 56,
=======
     "execution_count": 92,
>>>>>>> origin/master
     "metadata": {},
     "output_type": "execute_result"
    }
   ],
   "source": [
    "# Like with any other resource type, a complete list of targets can be requested using the client:\n",
    "records = new_client.target.all()\n",
    "len(records)"
   ]
  },
  {
   "cell_type": "code",
<<<<<<< HEAD
   "execution_count": 57,
=======
   "execution_count": 93,
>>>>>>> origin/master
   "metadata": {
    "collapsed": false
   },
   "outputs": [
    {
     "data": {
      "text/plain": [
       "[{u'target_components': [{u'component_id': 434, u'accession': u'O43451', u'component_type': u'PROTEIN', u'target_component_synonyms': [{u'component_synonym': u'MGA ', u'syn_type': u'GENE_SYMBOL'}, {u'component_synonym': u'MGAML', u'syn_type': u'GENE_SYMBOL'}, {u'component_synonym': u'MGAM', u'syn_type': u'GENE_SYMBOL'}, {u'component_synonym': u'Maltase-glucoamylase, intestinal', u'syn_type': u'UNIPROT'}, {u'component_synonym': u'Maltase', u'syn_type': u'UNIPROT'}, {u'component_synonym': u'Glucoamylase', u'syn_type': u'UNIPROT'}, {u'component_synonym': u'Alpha-glucosidase', u'syn_type': u'UNIPROT'}, {u'component_synonym': u'Glucan 1,4-alpha-glucosidase', u'syn_type': u'UNIPROT'}, {u'component_synonym': u'3.2.1.20', u'syn_type': u'EC_NUMBER'}, {u'component_synonym': u'3.2.1.3', u'syn_type': u'EC_NUMBER'}]}], u'target_chembl_id': u'CHEMBL2074', u'target_type': u'SINGLE PROTEIN', u'pref_name': u'Maltase-glucoamylase', u'species_group_flag': False, u'organism': u'Homo sapiens'}, {u'target_components': [{u'component_id': 294, u'accession': u'O60706', u'component_type': u'PROTEIN', u'target_component_synonyms': [{u'component_synonym': u'SUR2', u'syn_type': u'GENE_SYMBOL'}, {u'component_synonym': u'ABCC9', u'syn_type': u'GENE_SYMBOL'}, {u'component_synonym': u'ATP-binding cassette sub-family C member 9', u'syn_type': u'UNIPROT'}, {u'component_synonym': u'Sulfonylurea receptor 2', u'syn_type': u'UNIPROT'}]}], u'target_chembl_id': u'CHEMBL1971', u'target_type': u'SINGLE PROTEIN', u'pref_name': u'Sulfonylurea receptor 2', u'species_group_flag': False, u'organism': u'Homo sapiens'}, {u'target_components': [{u'component_id': 124, u'accession': u'O76074', u'component_type': u'PROTEIN', u'target_component_synonyms': [{u'component_synonym': u'PDE5', u'syn_type': u'GENE_SYMBOL'}, {u'component_synonym': u'PDE5A', u'syn_type': u'GENE_SYMBOL'}, {u'component_synonym': u\"cGMP-specific 3',5'-cyclic phosphodiesterase\", u'syn_type': u'UNIPROT'}, {u'component_synonym': u'cGMP-binding cGMP-specific phosphodiesterase', u'syn_type': u'UNIPROT'}, {u'component_synonym': u'CGB-PDE', u'syn_type': u'UNIPROT'}, {u'component_synonym': u'3.1.4.35', u'syn_type': u'EC_NUMBER'}]}], u'target_chembl_id': u'CHEMBL1827', u'target_type': u'SINGLE PROTEIN', u'pref_name': u'Phosphodiesterase 5A', u'species_group_flag': False, u'organism': u'Homo sapiens'}, {u'target_components': [{u'component_id': 167, u'accession': u'O95180', u'component_type': u'PROTEIN', u'target_component_synonyms': [{u'component_synonym': u'CACNA1H', u'syn_type': u'GENE_SYMBOL'}, {u'component_synonym': u'Voltage-dependent T-type calcium channel subunit alpha-1H', u'syn_type': u'UNIPROT'}, {u'component_synonym': u'Low-voltage-activated calcium channel alpha1 3.2 subunit', u'syn_type': u'UNIPROT'}, {u'component_synonym': u'Voltage-gated calcium channel subunit alpha Cav3.2', u'syn_type': u'UNIPROT'}]}], u'target_chembl_id': u'CHEMBL1859', u'target_type': u'SINGLE PROTEIN', u'pref_name': u'Voltage-gated T-type calcium channel alpha-1H subunit', u'species_group_flag': False, u'organism': u'Homo sapiens'}]"
      ]
     },
<<<<<<< HEAD
     "execution_count": 57,
=======
     "execution_count": 93,
>>>>>>> origin/master
     "metadata": {},
     "output_type": "execute_result"
    }
   ],
   "source": [
    "records[:4]"
   ]
  },
  {
   "cell_type": "code",
<<<<<<< HEAD
   "execution_count": 58,
=======
   "execution_count": 94,
>>>>>>> origin/master
   "metadata": {
    "collapsed": false
   },
   "outputs": [
    {
     "name": "stdout",
     "output_type": "stream",
     "text": [
      "SINGLE PROTEIN                 6018\n",
      "ORGANISM                       2136\n",
      "CELL-LINE                      1630\n",
      "PROTEIN COMPLEX                 261\n",
      "TISSUE                          242\n",
      "PROTEIN FAMILY                  217\n",
      "SELECTIVITY GROUP                97\n",
      "PROTEIN COMPLEX GROUP            44\n",
      "NUCLEIC-ACID                     29\n",
      "PROTEIN-PROTEIN INTERACTION      21\n",
      "UNKNOWN                          18\n",
      "SMALL MOLECULE                   18\n",
      "SUBCELLULAR                       9\n",
      "METAL                             8\n",
      "PROTEIN NUCLEIC-ACID COMPLEX      6\n",
      "OLIGOSACCHARIDE                   6\n",
      "MACROMOLECULE                     5\n",
      "CHIMERIC PROTEIN                  4\n",
      "PHENOTYPE                         2\n",
      "NO TARGET                         1\n",
      "ADMET                             1\n",
      "UNCHECKED                         1\n"
     ]
    }
   ],
   "source": [
    "# Count target types...\n",
    "\n",
    "counts = Counter([x[\"target_type\"] for x in records if x[\"target_type\"]])\n",
    "\n",
    "for targetType, n in sorted(counts.items(), key=itemgetter(1), reverse=True): print(\"{:30s} {:-4d}\".format(targetType, n))"
   ]
  },
  {
   "cell_type": "markdown",
   "metadata": {},
   "source": [
    "### ChEMBL ID\n",
    "\n",
<<<<<<< HEAD
    "Data on any target type may be obtained _via_ a lookup of its ChEMBL ID.\n"
=======
    "Data on any target type may be obtained _via_ a lookup of it's ChEMBL ID.\n"
>>>>>>> origin/master
   ]
  },
  {
   "cell_type": "code",
<<<<<<< HEAD
   "execution_count": 59,
=======
   "execution_count": 114,
>>>>>>> origin/master
   "metadata": {
    "collapsed": true
   },
   "outputs": [],
   "source": [
    "# Receptor protein-tyrosine kinase erbB-2\n",
    "    \n",
    "chembl_id = \"CHEMBL1824\""
   ]
  },
  {
   "cell_type": "code",
<<<<<<< HEAD
   "execution_count": 60,
=======
   "execution_count": 117,
>>>>>>> origin/master
   "metadata": {
    "collapsed": false
   },
   "outputs": [
    {
     "data": {
      "text/plain": [
       "{u'organism': u'Homo sapiens',\n",
       " u'pref_name': u'Receptor protein-tyrosine kinase erbB-2',\n",
       " u'species_group_flag': False,\n",
       " u'target_chembl_id': u'CHEMBL1824',\n",
       " u'target_components': [{u'accession': u'P04626',\n",
       "   u'component_id': 120,\n",
       "   u'component_type': u'PROTEIN',\n",
       "   u'target_component_synonyms': [{u'component_synonym': u'HER2 ',\n",
       "     u'syn_type': u'GENE_SYMBOL'},\n",
       "    {u'component_synonym': u'MLN19', u'syn_type': u'GENE_SYMBOL'},\n",
       "    {u'component_synonym': u'NEU', u'syn_type': u'GENE_SYMBOL'},\n",
       "    {u'component_synonym': u'NGL', u'syn_type': u'GENE_SYMBOL'},\n",
       "    {u'component_synonym': u'ERBB2', u'syn_type': u'GENE_SYMBOL'},\n",
       "    {u'component_synonym': u'Receptor tyrosine-protein kinase erbB-2',\n",
       "     u'syn_type': u'UNIPROT'},\n",
       "    {u'component_synonym': u'Metastatic lymph node gene 19 protein',\n",
       "     u'syn_type': u'UNIPROT'},\n",
       "    {u'component_synonym': u'Proto-oncogene Neu', u'syn_type': u'UNIPROT'},\n",
       "    {u'component_synonym': u'Proto-oncogene c-ErbB-2',\n",
       "     u'syn_type': u'UNIPROT'},\n",
       "    {u'component_synonym': u'Tyrosine kinase-type cell surface receptor HER2',\n",
       "     u'syn_type': u'UNIPROT'},\n",
       "    {u'component_synonym': u'p185erbB2', u'syn_type': u'UNIPROT'},\n",
       "    {u'component_synonym': u'CD_antigen=CD340', u'syn_type': u'UNIPROT'},\n",
       "    {u'component_synonym': u'MLN 19', u'syn_type': u'UNIPROT'},\n",
       "    {u'component_synonym': u'2.7.10.1', u'syn_type': u'EC_NUMBER'}]}],\n",
       " u'target_type': u'SINGLE PROTEIN'}"
      ]
     },
<<<<<<< HEAD
     "execution_count": 60,
=======
     "execution_count": 117,
>>>>>>> origin/master
     "metadata": {},
     "output_type": "execute_result"
    }
   ],
   "source": [
    "record = new_client.target.get(chembl_id)\n",
    "\n",
    "record"
   ]
  },
  {
   "cell_type": "markdown",
   "metadata": {},
   "source": [
    "Remember that all targets have ChEMBL IDs, not just proteins..."
   ]
  },
  {
   "cell_type": "code",
<<<<<<< HEAD
   "execution_count": 61,
=======
   "execution_count": 118,
>>>>>>> origin/master
   "metadata": {
    "collapsed": true
   },
   "outputs": [],
   "source": [
    "# SK-BR-3, a cell line over-expressing erbB-2\n",
    "\n",
    "chembl_id = \"CHEMBL613834\" "
   ]
  },
  {
   "cell_type": "code",
<<<<<<< HEAD
   "execution_count": 62,
=======
   "execution_count": 120,
>>>>>>> origin/master
   "metadata": {
    "collapsed": false
   },
   "outputs": [
    {
     "data": {
      "text/plain": [
       "{u'organism': u'Homo sapiens',\n",
       " u'pref_name': u'SK-BR-3',\n",
       " u'species_group_flag': False,\n",
       " u'target_chembl_id': u'CHEMBL613834',\n",
       " u'target_components': [],\n",
       " u'target_type': u'CELL-LINE'}"
      ]
     },
<<<<<<< HEAD
     "execution_count": 62,
=======
     "execution_count": 120,
>>>>>>> origin/master
     "metadata": {},
     "output_type": "execute_result"
    }
   ],
   "source": [
    "record = new_client.target.get(chembl_id)\n",
    "\n",
    "record"
   ]
  },
  {
   "cell_type": "markdown",
   "metadata": {},
   "source": [
    "### UniProt ID\n",
    "\n",
    "Data on protein targets may also be obtained using UniProt ID."
   ]
  },
  {
   "cell_type": "code",
<<<<<<< HEAD
   "execution_count": 63,
=======
   "execution_count": 115,
>>>>>>> origin/master
   "metadata": {
    "collapsed": true
   },
   "outputs": [],
   "source": [
    "# UniProt ID for erbB-2, a target of Lapatinib\n",
    "\n",
    "uniprot_id = \"P04626\""
   ]
  },
  {
   "cell_type": "code",
<<<<<<< HEAD
   "execution_count": 64,
=======
   "execution_count": 116,
>>>>>>> origin/master
   "metadata": {
    "collapsed": false
   },
   "outputs": [
    {
     "name": "stdout",
     "output_type": "stream",
     "text": [
      "[(u'CHEMBL1824', u'Receptor protein-tyrosine kinase erbB-2'), (u'CHEMBL2363049', u'Epidermal growth factor receptor'), (u'CHEMBL2111431', u'Epidermal growth factor receptor and ErbB2 (HER1 and HER2)')]\n"
     ]
    }
   ],
   "source": [
    "records = new_client.target.filter(target_components__accession=uniprot_id)\n",
    "print [(x['target_chembl_id'], x['pref_name']) for x in records]"
   ]
  },
  {
   "cell_type": "markdown",
   "metadata": {},
   "source": [
    "### Bioactivities\n",
    "\n",
<<<<<<< HEAD
    "All bioactivities for a target may be retrieved."
=======
    "All bioactivities for a target may be requested."
>>>>>>> origin/master
   ]
  },
  {
   "cell_type": "code",
<<<<<<< HEAD
   "execution_count": 65,
=======
   "execution_count": 121,
>>>>>>> origin/master
   "metadata": {
    "collapsed": true
   },
   "outputs": [],
   "source": [
    "# Receptor protein-tyrosine kinase erbB-2\n",
    "\n",
    "chembl_id = \"CHEMBL1824\""
   ]
  },
  {
   "cell_type": "code",
<<<<<<< HEAD
   "execution_count": 66,
=======
   "execution_count": 122,
>>>>>>> origin/master
   "metadata": {
    "collapsed": false
   },
   "outputs": [
    {
     "data": {
      "text/plain": [
       "5893"
      ]
     },
<<<<<<< HEAD
     "execution_count": 66,
=======
     "execution_count": 122,
>>>>>>> origin/master
     "metadata": {},
     "output_type": "execute_result"
    }
   ],
   "source": [
    "records = new_client.activity.filter(target_chembl_id=chembl_id)\n",
    "\n",
    "len(records)"
   ]
  },
  {
   "cell_type": "code",
<<<<<<< HEAD
   "execution_count": 67,
=======
   "execution_count": 123,
>>>>>>> origin/master
   "metadata": {
    "collapsed": false
   },
   "outputs": [
    {
     "name": "stdout",
     "output_type": "stream",
     "text": [
      "1742 CHEMBL1909205  DRUGMATRIX: Protein Tyrosine Kinase, ERBB2 (HER2) enzyme inhibition (substrate: Poly(Glu:Tyr))\n",
      " 583 CHEMBL1963780  PUBCHEM_BIOASSAY: Navigating the Kinome. (Class of assay: other) Panel member name: ERBB2\n",
      " 369 CHEMBL1962280  GSK_PKIS: ERBB2 mean inhibition at 0.1 uM [Nanosyn]\n",
      " 369 CHEMBL1962281  GSK_PKIS: ERBB2 mean inhibition at 1 uM [Nanosyn]\n",
      "  83 CHEMBL874202   Inhibition of human epidermal growth factor receptor-2 (HER-2) autophosphorylation\n"
     ]
    }
   ],
   "source": [
    "# Show assays with most recorded bioactivities...\n",
    "\n",
    "for assay, n in sorted(Counter((x[\"assay_chembl_id\"], x[\"assay_description\"]) for x in records).items(), key=itemgetter(1), reverse=True)[:5]:\n",
    "    \n",
    "    print(\"{:-4d} {:14s} {}\".format(n, *assay))"
   ]
  },
  {
   "cell_type": "markdown",
   "metadata": {},
   "source": [
    "### Approved Drugs\n",
    "\n",
<<<<<<< HEAD
    "The approved drugs for a target may be retrieved."
=======
    "The approved drugs for a target may be requested."
>>>>>>> origin/master
   ]
  },
  {
   "cell_type": "code",
<<<<<<< HEAD
   "execution_count": 68,
=======
   "execution_count": 124,
>>>>>>> origin/master
   "metadata": {
    "collapsed": true
   },
   "outputs": [],
   "source": [
    "# Receptor protein-tyrosine kinase erbB-2\n",
    "\n",
    "chembl_id = \"CHEMBL1824\""
   ]
  },
  {
   "cell_type": "code",
<<<<<<< HEAD
   "execution_count": 69,
=======
   "execution_count": 128,
>>>>>>> origin/master
   "metadata": {
    "collapsed": false
   },
   "outputs": [
    {
     "name": "stdout",
     "output_type": "stream",
     "text": [
      "CHEMBL1201179 : LAPATINIB DITOSYLATE\n",
      "CHEMBL1201585 : TRASTUZUMAB\n",
      "CHEMBL1743082 : TRASTUZUMAB EMTANSINE\n",
      "CHEMBL2007641 : PERTUZUMAB\n",
      "CHEMBL2105712 : AFATINIB DIMALEATE\n"
     ]
    }
   ],
   "source": [
    "activities = new_client.mechanism.filter(target_chembl_id=chembl_id)\n",
    "compound_ids = [x['molecule_chembl_id'] for x in activities]\n",
    "approved_drugs = new_client.molecule.filter(molecule_chembl_id__in=compound_ids).filter(max_phase=4)\n",
    "\n",
    "for record in approved_drugs:\n",
    "    \n",
    "    print(\"{:10s} : {}\".format(record[\"molecule_chembl_id\"], record[\"pref_name\"]))"
   ]
  },
  {
   "cell_type": "markdown",
   "metadata": {},
   "source": [
    "## Assays\n",
    "\n",
    "Information about assays may also be retrieved by the web services."
   ]
  },
  {
   "cell_type": "markdown",
   "metadata": {},
   "source": [
    "### Assay details\n",
    "\n",
<<<<<<< HEAD
    "Details of an assay may be retrieved _via_ its ChEMBL ID."
=======
    "Details of an assay may be retrieved _via_ it's ChEMBL ID."
>>>>>>> origin/master
   ]
  },
  {
   "cell_type": "code",
<<<<<<< HEAD
   "execution_count": 70,
=======
   "execution_count": 129,
>>>>>>> origin/master
   "metadata": {
    "collapsed": true
   },
   "outputs": [],
   "source": [
    "# Inhibitory activity against epidermal growth factor receptor\n",
    "\n",
    "chembl_id = \"CHEMBL674106\""
   ]
  },
  {
   "cell_type": "code",
<<<<<<< HEAD
   "execution_count": 71,
=======
   "execution_count": 130,
>>>>>>> origin/master
   "metadata": {
    "collapsed": false
   },
   "outputs": [
    {
     "data": {
      "text/plain": [
       "{u'assay_category': None,\n",
       " u'assay_cell_type': None,\n",
       " u'assay_chembl_id': u'CHEMBL674106',\n",
       " u'assay_organism': None,\n",
       " u'assay_strain': None,\n",
       " u'assay_subcellular_fraction': None,\n",
       " u'assay_tax_id': None,\n",
       " u'assay_test_type': None,\n",
       " u'assay_tissue': None,\n",
       " u'assay_type': u'B',\n",
       " u'assay_type_description': u'Binding',\n",
       " u'bao_format': u'BAO_0000357',\n",
       " u'cell_chembl_id': None,\n",
       " u'confidence_description': u'Homologous single protein target assigned',\n",
       " u'confidence_score': 8,\n",
       " u'description': u'Inhibitory activity against epidermal growth factor receptor',\n",
       " u'document_chembl_id': u'CHEMBL1146682',\n",
       " u'relationship_description': u'Homologous protein target assigned',\n",
       " u'relationship_type': u'H',\n",
       " u'src_assay_id': None,\n",
       " u'src_id': 1,\n",
       " u'target_chembl_id': u'CHEMBL203'}"
      ]
     },
<<<<<<< HEAD
     "execution_count": 71,
=======
     "execution_count": 130,
>>>>>>> origin/master
     "metadata": {},
     "output_type": "execute_result"
    }
   ],
   "source": [
    "record = new_client.assay.get(chembl_id)\n",
    "\n",
    "record"
   ]
  },
  {
   "cell_type": "markdown",
   "metadata": {},
   "source": [
    "### Bioactivities\n",
    "\n",
    "All bioactivity records for an assay may be requested."
   ]
  },
  {
   "cell_type": "code",
<<<<<<< HEAD
   "execution_count": 72,
=======
   "execution_count": 131,
>>>>>>> origin/master
   "metadata": {
    "collapsed": false
   },
   "outputs": [
    {
     "data": {
      "text/plain": [
       "(16,\n",
       " [{u'document_journal': u'Bioorg. Med. Chem. Lett.', u'bao_endpoint': u'BAO_0000190', u'potential_duplicate': None, u'uo_units': u'UO_0000065', u'canonical_smiles': u'Oc1ccc2ncnc(Nc3ccc(OCc4ccccc4)cc3)c2c1', u'assay_type': u'B', u'standard_flag': True, u'molecule_chembl_id': u'CHEMBL14932', u'target_organism': u'Homo sapiens', u'assay_description': u'Inhibitory activity against epidermal growth factor receptor', u'record_id': 15404, u'document_chembl_id': u'CHEMBL1146682', u'bao_format': u'BAO_0000357', u'standard_units': u'nM', u'activity_id': 183887, u'standard_type': u'IC50', u'target_chembl_id': u'CHEMBL203', u'data_validity_comment': None, u'standard_relation': u'=', u'document_year': 2004, u'target_pref_name': u'Epidermal growth factor receptor erbB1', u'assay_chembl_id': u'CHEMBL674106', u'published_value': u'98', u'published_relation': u'=', u'standard_value': u'98', u'qudt_units': u'http://www.openphacts.org/units/Nanomolar', u'published_units': u'nM', u'pchembl_value': u'7.01', u'published_type': u'IC50', u'activity_comment': None}, {u'document_journal': u'Bioorg. Med. Chem. Lett.', u'bao_endpoint': u'BAO_0000190', u'potential_duplicate': None, u'uo_units': u'UO_0000065', u'canonical_smiles': u'COCCOc1cc2ncnc(Nc3cccc(c3)C#C)c2cc1OCCOC', u'assay_type': u'B', u'standard_flag': True, u'molecule_chembl_id': u'CHEMBL553', u'target_organism': u'Homo sapiens', u'assay_description': u'Inhibitory activity against epidermal growth factor receptor', u'record_id': 15410, u'document_chembl_id': u'CHEMBL1146682', u'bao_format': u'BAO_0000357', u'standard_units': u'nM', u'activity_id': 186628, u'standard_type': u'IC50', u'target_chembl_id': u'CHEMBL203', u'data_validity_comment': None, u'standard_relation': u'=', u'document_year': 2004, u'target_pref_name': u'Epidermal growth factor receptor erbB1', u'assay_chembl_id': u'CHEMBL674106', u'published_value': u'0.001', u'published_relation': u'=', u'standard_value': u'1', u'qudt_units': u'http://www.openphacts.org/units/Nanomolar', u'published_units': u'uM', u'pchembl_value': u'9.00', u'published_type': u'IC50', u'activity_comment': None}])"
      ]
     },
<<<<<<< HEAD
     "execution_count": 72,
=======
     "execution_count": 131,
>>>>>>> origin/master
     "metadata": {},
     "output_type": "execute_result"
    }
   ],
   "source": [
    "records = new_client.activity.filter(assay_chembl_id=chembl_id)\n",
    "\n",
    "len(records), records[:2]"
   ]
  },
  {
   "cell_type": "markdown",
   "metadata": {},
   "source": [
    "## Other resources\n",
    "\n",
    "As noted previously, there are many other resources that can be useful. They won't be covered in this document in a great detail but some examples may be helpful."
   ]
  },
  {
   "cell_type": "code",
<<<<<<< HEAD
   "execution_count": 73,
=======
   "execution_count": 134,
>>>>>>> origin/master
   "metadata": {
    "collapsed": false
   },
   "outputs": [
    {
     "name": "stdout",
     "output_type": "stream",
     "text": [
      "[{u'doc_type': u'PUBLICATION', u'doi': u'10.1016/0960-894X(94)00451-K', u'title': None, u'journal': u'Bioorg. Med. Chem. Lett.', u'year': 1995, u'volume': u'5', u'first_page': u'15', u'last_page': u'18', u'pubmed_id': None, u'authors': None, u'document_chembl_id': u'CHEMBL1128135', u'issue': u'1'}, {u'doc_type': u'PUBLICATION', u'doi': u'10.1016/0960-894X(94)00456-P', u'title': None, u'journal': u'Bioorg. Med. Chem. Lett.', u'year': 1995, u'volume': u'5', u'first_page': u'19', u'last_page': u'24', u'pubmed_id': None, u'authors': None, u'document_chembl_id': u'CHEMBL1128136', u'issue': u'1'}, {u'doc_type': u'PUBLICATION', u'doi': u'10.1016/0960-894X(94)00452-L', u'title': None, u'journal': u'Bioorg. Med. Chem. Lett.', u'year': 1995, u'volume': u'5', u'first_page': u'25', u'last_page': u'30', u'pubmed_id': None, u'authors': None, u'document_chembl_id': u'CHEMBL1150533', u'issue': u'1'}, {u'doc_type': u'PUBLICATION', u'doi': u'10.1016/0960-894X(94)00449-P', u'title': None, u'journal': u'Bioorg. Med. Chem. Lett.', u'year': 1995, u'volume': u'5', u'first_page': u'35', u'last_page': u'38', u'pubmed_id': None, u'authors': None, u'document_chembl_id': u'CHEMBL1128137', u'issue': u'1'}, '...(remaining elements truncated)...']\n"
     ]
    }
   ],
   "source": [
    "# Documents - retrieve all publications published after 1985 in 5th volume.\n",
    "print new_client.document.filter(doc_type='PUBLICATION').filter(year__gt=1985).filter(volume=5)"
   ]
  },
  {
   "cell_type": "code",
<<<<<<< HEAD
   "execution_count": 74,
=======
   "execution_count": 135,
>>>>>>> origin/master
   "metadata": {
    "collapsed": false
   },
   "outputs": [
    {
     "name": "stdout",
     "output_type": "stream",
     "text": [
      "{u'efo_id': u'EFO_0002312', u'cell_id': 2, u'cell_source_tissue': u'Lyphoma', u'cellosaurus_id': u'CVCL_2676', u'cell_description': u'P3HR-1', u'cell_source_tax_id': 9606, u'cell_source_organism': u'Homo sapiens', u'cell_chembl_id': u'CHEMBL3307242', u'clo_id': u'CLO_0008331', u'cell_name': u'P3HR-1'}\n"
     ]
    }
   ],
   "source": [
    "# Cell lines:\n",
    "print new_client.cell_line.get('CHEMBL3307242')"
   ]
  },
  {
   "cell_type": "code",
<<<<<<< HEAD
   "execution_count": 75,
=======
   "execution_count": 136,
>>>>>>> origin/master
   "metadata": {
    "collapsed": false
   },
   "outputs": [
    {
     "name": "stdout",
     "output_type": "stream",
     "text": [
      "[{u'protein_class_id': 409, u'l6': u'CAMK protein kinase AMPK subfamily', u'l7': None, u'l4': u'CAMK protein kinase group', u'l5': u'CAMK protein kinase CAMK1 family', u'l2': u'Kinase', u'l3': u'Protein Kinase', u'l1': u'Enzyme', u'l8': None}]\n"
     ]
    }
   ],
   "source": [
    "# Protein class:\n",
    "print new_client.protein_class.filter(l6=\"CAMK protein kinase AMPK subfamily\")"
   ]
  },
  {
   "cell_type": "code",
<<<<<<< HEAD
   "execution_count": 76,
=======
   "execution_count": 138,
>>>>>>> origin/master
   "metadata": {
    "collapsed": false
   },
   "outputs": [
    {
     "name": "stdout",
     "output_type": "stream",
     "text": [
      "[{u'src_description': u'Gene Expression Atlas Compounds', u'src_short_name': u'ATLAS', u'src_id': 26}]\n"
     ]
    }
   ],
   "source": [
    "# Source:\n",
    "print new_client.source.filter(src_short_name=\"ATLAS\")"
   ]
  },
  {
   "cell_type": "code",
<<<<<<< HEAD
   "execution_count": 77,
=======
   "execution_count": 140,
>>>>>>> origin/master
   "metadata": {
    "collapsed": false
   },
   "outputs": [
    {
     "name": "stdout",
     "output_type": "stream",
     "text": [
      "{u'component_id': 375, u'description': u'Reverse transcriptase/RNaseH', u'component_type': u'PROTEIN', u'sequence': u'PISPIETVPVKLKPGMDGPKVKQWPLTEEKIKALVEICTEMEKEGKISKIGPENPYNTPVFAIKKKDSTKWRKLVDFRELNKRTQDFWEVQLGIPHPAGLKKRKSVTVLDVGDAYFSVPLDEDFRKYTAFTIPSINNETPGIRYQYNVLPQGWKGSPAIFQSSMTKILEPFRKQNPDIVIYQYMDDLYVGSDLEIGQHRTKIEELRQHLLRWGLTTPDKKHQKEPPFLWMGYELHPDKWTVQPIVLPEKDSWTVNDIQKLVGKLNWASQIYPGIRVRQLCKLLRGTKALTEVIPLTEEAELELAENREILKEPVHGVYYDPSKDLIAEIQKQGQGQWTYQIYQEPFKNLRTGKYARMRGAHTNDVKQLTEAVQKITTESIVIWGKTPKFKLPIQKETWETWWTEYWQATWIPEWEFVNTPPLVKLWYQLEKEPIVGAETFYVDGAANRETKLGKAGYVTNRGRQKVVTLTDTTNQKTELQAIYLALQDSGLEVNIVTDSQYALGIIQAQPDQSESELVNQIIEQLIKKEKVYLAWVPAHKGIGGNEQVDKLVSAGIRKVLFLDGID', u'accession': u'Q72547', u'protein_classifications': [{u'protein_classification_id': 646}], u'tax_id': 11676, u'organism': u'Human immunodeficiency virus 1', u'target_component_synonyms': [{u'component_synonym': u'pol', u'syn_type': u'GENE_SYMBOL'}, {u'component_synonym': u'Reverse transcriptase/RNaseH', u'syn_type': u'UNIPROT'}]}\n"
     ]
    }
   ],
   "source": [
    "# Target component:\n",
    "print new_client.target_component.get(375)"
   ]
  },
  {
   "cell_type": "code",
<<<<<<< HEAD
   "execution_count": 78,
=======
   "execution_count": 142,
>>>>>>> origin/master
   "metadata": {
    "collapsed": false
   },
   "outputs": [
    {
     "name": "stdout",
     "output_type": "stream",
     "text": [
      "COMPOUND\n"
     ]
    }
   ],
   "source": [
    "# ChEMBL ID Lookup: check if CHEMBL1 is a molecule, assay or target:\n",
    "print new_client.chembl_id_lookup.get(\"CHEMBL1\")['entity_type']\n"
   ]
  },
  {
   "cell_type": "code",
<<<<<<< HEAD
   "execution_count": 79,
=======
   "execution_count": 143,
>>>>>>> origin/master
   "metadata": {
    "collapsed": false
   },
   "outputs": [
    {
     "name": "stdout",
     "output_type": "stream",
     "text": [
      "{u'level1_description': u'SYSTEMIC HORMONAL PREPARATIONS, EXCL. ', u'level1': u'H', u'level2': u'H03', u'level3': u'H03A', u'level4': u'H03AA', u'level5': u'H03AA03', u'who_id': u'who1673', u'level4_description': u'Thyroid hormones', u'who_name': u'combinations of levothyroxine and liothyronine', u'level3_description': u'THYROID PREPARATIONS', u'level2_description': u'THYROID THERAPY'}\n"
     ]
    }
   ],
   "source": [
    "# ATC class:\n",
    "print new_client.atc_class.get('H03AA03')"
   ]
  }
 ],
 "metadata": {
  "kernelspec": {
   "display_name": "Python 2",
   "language": "python",
   "name": "python2"
  },
  "language_info": {
   "codemirror_mode": {
    "name": "ipython",
    "version": 2
   },
   "file_extension": ".py",
   "mimetype": "text/x-python",
   "name": "python",
   "nbconvert_exporter": "python",
   "pygments_lexer": "ipython2",
<<<<<<< HEAD
   "version": "2.7.6"
=======
   "version": "2.7.5"
>>>>>>> origin/master
  }
 },
 "nbformat": 4,
 "nbformat_minor": 0
}
