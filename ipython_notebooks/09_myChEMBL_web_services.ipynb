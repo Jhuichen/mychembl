{
 "cells": [
  {
   "cell_type": "markdown",
   "metadata": {},
   "source": [
    "# myChEMBL webservices version 2.x\n",
    "\n",
    "### myChEMBL team, ChEMBL Group, EMBL-EBI."
   ]
  },
  {
   "cell_type": "markdown",
   "metadata": {},
   "source": [
    "## Introduction\n",
    "\n",
    "This notebook will provide some examples of using the **`myChEMBL`** webservices.\n",
    "\n",
    "The web services have recently been updated to the 2.x version and are **not** backwards compatible.\n",
    "The main features introduced by this latest version are:\n",
    "\n",
    " - more resources\n",
    " - filtering\n",
    " - paging\n",
    " - ordering\n",
    " \n",
    "You can call the web services in the following two ways: \n",
    " \n",
    "1) Directly _via_ URLs (see the 'Web Services' link on the **`myChEMBL`** LaunchPad for a list of the available endpoints). The advantage of using the URLs is that it is language-agnostic: although the examples below use Python, any other language with a library for executing HTTP requests would do just as well.\n",
    "\n",
    "\n",
    "2) Using the API provided by the Python package **`chembl_webresource_client`**. This has the following advantages:\n",
    " - the usage is simpler\n",
    " - some extra functionality is available\n",
    " - there are performance benefits\n",
    "\n",
    "For the reasons above, we recommend using the API where possible.\n",
    "\n",
    "Note that the **`chembl_webresource_client`** module is aleady installed on the **`myChEMBL`** VM; if you wish to use it on other machines, it can be installed using **`pip`**.\n",
    "\n",
    "Please note that the code below attempts to balance clarity and brevity, and is not intended to be a template for production code: error checking, for example, should be much more thorough in practice. "
   ]
  },
  {
   "cell_type": "markdown",
   "metadata": {},
   "source": [
    "## Configuration and setup"
   ]
  },
  {
   "cell_type": "code",
   "execution_count": 1,
   "metadata": {
    "collapsed": true
   },
   "outputs": [],
   "source": [
    "import logging\n",
    "\n",
    "from collections import Counter\n",
    "from operator import itemgetter\n",
    "\n",
    "from lxml import etree\n",
    "\n",
    "from rdkit import Chem\n",
    "from rdkit.Chem import Draw \n",
    "from rdkit.Chem.Draw import IPythonConsole\n",
    "\n",
    "from IPython.display import Image, display"
   ]
  },
  {
   "cell_type": "code",
   "execution_count": 2,
   "metadata": {
    "collapsed": true
   },
   "outputs": [],
   "source": [
    "# Python modules used for API access...\n",
    "# By default, the API connects to the main ChEMBL database; set it to use the local version (i.e. myChEMBL) instead...\n",
    "from chembl_webresource_client.settings import Settings\n",
    "Settings.Instance().NEW_CLIENT_URL = 'http://localhost/chemblws'\n",
    "\n",
    "from chembl_webresource_client.new_client import new_client"
   ]
  },
  {
   "cell_type": "markdown",
   "metadata": {},
   "source": [
    "## List of available resources\n",
    "It's easy to get a list of available resources by invoking:"
   ]
  },
  {
   "cell_type": "code",
   "execution_count": 3,
   "metadata": {
    "collapsed": false
   },
   "outputs": [
    {
     "name": "stdout",
     "output_type": "stream",
     "text": [
      "['activity', 'assay', 'atc_class', 'binding_site', 'biotherapeutic', 'cell_line', 'chembl_id_lookup', 'description', 'document', 'image', 'mechanism', 'molecule', 'molecule_form', 'official', 'protein_class', 'similarity', 'source', 'substructure', 'target', 'target_component']\n",
      "20\n"
     ]
    }
   ],
   "source": [
    "available_resources = [resource for resource in dir(new_client) if not resource.startswith('_')]\n",
    "print available_resources\n",
    "print len(available_resources)"
   ]
  },
  {
   "cell_type": "markdown",
   "metadata": {},
   "source": [
    "Which means there are 20 different types of resources available _via_ web services. In this notebook only the most important of these are covered."
   ]
  },
  {
   "cell_type": "markdown",
   "metadata": {},
   "source": [
    "## Molecules\n",
    "\n",
    "Molecule records may be retrieved in a number of ways, such as lookup of single molecules using various identifiers or searching for compounds _via_ substruture or similarity. "
   ]
  },
  {
   "cell_type": "code",
   "execution_count": 4,
   "metadata": {
    "collapsed": false
   },
   "outputs": [
    {
     "name": "stdout",
     "output_type": "stream",
     "text": [
      "1463270 molecules available in myChEMBL_20\n"
     ]
    }
   ],
   "source": [
    "# Get a molecule-handler object for API access and check the connection to the database...\n",
    "\n",
    "molecule = new_client.molecule\n",
    "molecule.set_format('json')\n",
    "print \"%s molecules available in myChEMBL_20\" % len(molecule.all())"
   ]
  },
  {
   "cell_type": "markdown",
   "metadata": {},
   "source": [
    "### Getting a single molecule\n",
    "\n",
    "In order to retrieve a single molecule from the web services, you need to know its unique and unambiguous identifier. In case of molecule resource this can be one of three types:\n",
    "\n",
    " 1. ChEMBL_ID\n",
    " 2. InChI Key\n",
    " 3. Canonical SMILES (non-canonical SMILES will be covered later in this notebook)"
   ]
  },
  {
   "cell_type": "code",
   "execution_count": 5,
   "metadata": {
    "collapsed": false
   },
   "outputs": [
    {
     "data": {
      "text/plain": [
       "True"
      ]
     },
     "execution_count": 5,
     "metadata": {},
     "output_type": "execute_result"
    }
   ],
   "source": [
    "# so this:\n",
    "# 1.\n",
    "m1 = molecule.get('CHEMBL25')\n",
    "# 2.\n",
    "m2 = molecule.get('BSYNRYMUTXBXSQ-UHFFFAOYSA-N')\n",
    "#\n",
    "m3 = molecule.get('CC(=O)Oc1ccccc1C(=O)O')\n",
    "# will return the same data:\n",
    "m1 == m2 == m3"
   ]
  },
  {
   "cell_type": "markdown",
   "metadata": {},
   "source": [
    "### ChEMBL ID\n",
    "\n",
    "All the main entities in the ChEMBL database have a ChEMBL ID. It is a stable identifier designed for straightforward lookup of data."
   ]
  },
  {
   "cell_type": "code",
   "execution_count": 6,
   "metadata": {
    "collapsed": true
   },
   "outputs": [],
   "source": [
    "# Lapatinib, the bioactive component of the anti-cancer drug Tykerb\n",
    "\n",
    "chembl_id = \"CHEMBL554\" "
   ]
  },
  {
   "cell_type": "code",
   "execution_count": 7,
   "metadata": {
    "collapsed": false
   },
   "outputs": [
    {
     "data": {
      "text/plain": [
       "{u'atc_classifications': [u'L01XE07'],\n",
       " u'availability_type': u'1',\n",
       " u'biotherapeutic': None,\n",
       " u'black_box_warning': u'1',\n",
       " u'chebi_par_id': 49603,\n",
       " u'chirality': u'2',\n",
       " u'dosed_ingredient': False,\n",
       " u'first_approval': 2007,\n",
       " u'first_in_class': u'0',\n",
       " u'helm_notation': None,\n",
       " u'indication_class': None,\n",
       " u'inorganic_flag': u'0',\n",
       " u'max_phase': 4,\n",
       " u'molecule_chembl_id': u'CHEMBL554',\n",
       " u'molecule_hierarchy': {u'molecule_chembl_id': u'CHEMBL554',\n",
       "  u'parent_chembl_id': u'CHEMBL554'},\n",
       " u'molecule_properties': {u'acd_logd': u'6.26',\n",
       "  u'acd_logp': u'6.30',\n",
       "  u'acd_most_apka': None,\n",
       "  u'acd_most_bpka': u'6.34',\n",
       "  u'alogp': u'6.04',\n",
       "  u'aromatic_rings': 5,\n",
       "  u'full_molformula': u'C29H26ClFN4O4S',\n",
       "  u'full_mwt': u'581.06',\n",
       "  u'hba': 7,\n",
       "  u'hbd': 2,\n",
       "  u'heavy_atoms': 40,\n",
       "  u'med_chem_friendly': u'Y',\n",
       "  u'molecular_species': u'NEUTRAL',\n",
       "  u'mw_freebase': u'581.06',\n",
       "  u'mw_monoisotopic': u'580.1347',\n",
       "  u'num_alerts': 1,\n",
       "  u'num_ro5_violations': 2,\n",
       "  u'psa': u'114.72',\n",
       "  u'qed_weighted': u'0.18',\n",
       "  u'ro3_pass': u'N',\n",
       "  u'rtb': 11},\n",
       " u'molecule_structures': {u'canonical_smiles': u'CS(=O)(=O)CCNCc1oc(cc1)c2ccc3ncnc(Nc4ccc(OCc5cccc(F)c5)c(Cl)c4)c3c2',\n",
       "  u'standard_inchi': u'InChI=1S/C29H26ClFN4O4S/c1-40(36,37)12-11-32-16-23-7-10-27(39-23)20-5-8-26-24(14-20)29(34-18-33-26)35-22-6-9-28(25(30)15-22)38-17-19-3-2-4-21(31)13-19/h2-10,13-15,18,32H,11-12,16-17H2,1H3,(H,33,34,35)',\n",
       "  u'standard_inchi_key': u'BCFGMOOMADDAQU-UHFFFAOYSA-N'},\n",
       " u'molecule_synonyms': [{u'syn_type': u'FDA', u'synonyms': u'Lapatinib'},\n",
       "  {u'syn_type': u'TRADE_NAME', u'synonyms': u'Tykerb'},\n",
       "  {u'syn_type': u'INN', u'synonyms': u'Lapatinib'},\n",
       "  {u'syn_type': u'OTHER', u'synonyms': u'Lapatinib'}],\n",
       " u'molecule_type': u'Small molecule',\n",
       " u'natural_product': u'0',\n",
       " u'oral': True,\n",
       " u'parenteral': False,\n",
       " u'polymer_flag': False,\n",
       " u'pref_name': u'LAPATINIB',\n",
       " u'prodrug': u'0',\n",
       " u'structure_type': u'MOL',\n",
       " u'therapeutic_flag': True,\n",
       " u'topical': False,\n",
       " u'usan_stem': None,\n",
       " u'usan_stem_definition': None,\n",
       " u'usan_substem': None,\n",
       " u'usan_year': 2003}"
      ]
     },
     "execution_count": 7,
     "metadata": {},
     "output_type": "execute_result"
    }
   ],
   "source": [
    "# Get compound record using client...\n",
    "\n",
    "record_via_client = molecule.get(chembl_id)\n",
    "\n",
    "record_via_client"
   ]
  },
  {
   "cell_type": "markdown",
   "metadata": {},
   "source": [
    "As noted above, a URLs may also be used to access the data, and, although the examples here use Python, any other language with a library for executing HTTP requests would do as well."
   ]
  },
  {
   "cell_type": "code",
   "execution_count": 8,
   "metadata": {
    "collapsed": true
   },
   "outputs": [],
   "source": [
    "# Import a Python module to allow URL-based access...\n",
    "\n",
    "import requests\n",
    "from urllib import quote\n",
    "\n",
    "# Stem of URL for local version of web services...\n",
    "\n",
    "url_stem = \"http://localhost/chemblws\""
   ]
  },
  {
   "cell_type": "code",
   "execution_count": 9,
   "metadata": {
    "collapsed": false
   },
   "outputs": [
    {
     "name": "stdout",
     "output_type": "stream",
     "text": [
      "http://localhost/chemblws/molecule/CHEMBL554.json\n",
      "200\n"
     ]
    }
   ],
   "source": [
    "# Note that, for historical reasons, the URL-based webservices return XML by default, so JSON\n",
    "# must be requested explicity by appending '.json' to the URL.\n",
    "\n",
    "# Get request object...\n",
    "url = url_stem + \"/molecule/\" + chembl_id + \".json\"\n",
    "request = requests.get(url)\n",
    "\n",
    "print url\n",
    "\n",
    "# Check reqest status: should be 200 if everything went OK...\n",
    "print request.status_code"
   ]
  },
  {
   "cell_type": "code",
   "execution_count": 10,
   "metadata": {
    "collapsed": false
   },
   "outputs": [
    {
     "data": {
      "text/plain": [
       "{u'atc_classifications': [u'L01XE07'],\n",
       " u'availability_type': u'1',\n",
       " u'biotherapeutic': None,\n",
       " u'black_box_warning': u'1',\n",
       " u'chebi_par_id': 49603,\n",
       " u'chirality': u'2',\n",
       " u'dosed_ingredient': False,\n",
       " u'first_approval': 2007,\n",
       " u'first_in_class': u'0',\n",
       " u'helm_notation': None,\n",
       " u'indication_class': None,\n",
       " u'inorganic_flag': u'0',\n",
       " u'max_phase': 4,\n",
       " u'molecule_chembl_id': u'CHEMBL554',\n",
       " u'molecule_hierarchy': {u'molecule_chembl_id': u'CHEMBL554',\n",
       "  u'parent_chembl_id': u'CHEMBL554'},\n",
       " u'molecule_properties': {u'acd_logd': u'6.26',\n",
       "  u'acd_logp': u'6.30',\n",
       "  u'acd_most_apka': None,\n",
       "  u'acd_most_bpka': u'6.34',\n",
       "  u'alogp': u'6.04',\n",
       "  u'aromatic_rings': 5,\n",
       "  u'full_molformula': u'C29H26ClFN4O4S',\n",
       "  u'full_mwt': u'581.06',\n",
       "  u'hba': 7,\n",
       "  u'hbd': 2,\n",
       "  u'heavy_atoms': 40,\n",
       "  u'med_chem_friendly': u'Y',\n",
       "  u'molecular_species': u'NEUTRAL',\n",
       "  u'mw_freebase': u'581.06',\n",
       "  u'mw_monoisotopic': u'580.1347',\n",
       "  u'num_alerts': 1,\n",
       "  u'num_ro5_violations': 2,\n",
       "  u'psa': u'114.72',\n",
       "  u'qed_weighted': u'0.18',\n",
       "  u'ro3_pass': u'N',\n",
       "  u'rtb': 11},\n",
       " u'molecule_structures': {u'canonical_smiles': u'CS(=O)(=O)CCNCc1oc(cc1)c2ccc3ncnc(Nc4ccc(OCc5cccc(F)c5)c(Cl)c4)c3c2',\n",
       "  u'standard_inchi': u'InChI=1S/C29H26ClFN4O4S/c1-40(36,37)12-11-32-16-23-7-10-27(39-23)20-5-8-26-24(14-20)29(34-18-33-26)35-22-6-9-28(25(30)15-22)38-17-19-3-2-4-21(31)13-19/h2-10,13-15,18,32H,11-12,16-17H2,1H3,(H,33,34,35)',\n",
       "  u'standard_inchi_key': u'BCFGMOOMADDAQU-UHFFFAOYSA-N'},\n",
       " u'molecule_synonyms': [{u'syn_type': u'FDA', u'synonyms': u'Lapatinib'},\n",
       "  {u'syn_type': u'TRADE_NAME', u'synonyms': u'Tykerb'},\n",
       "  {u'syn_type': u'INN', u'synonyms': u'Lapatinib'},\n",
       "  {u'syn_type': u'OTHER', u'synonyms': u'Lapatinib'}],\n",
       " u'molecule_type': u'Small molecule',\n",
       " u'natural_product': u'0',\n",
       " u'oral': True,\n",
       " u'parenteral': False,\n",
       " u'polymer_flag': False,\n",
       " u'pref_name': u'LAPATINIB',\n",
       " u'prodrug': u'0',\n",
       " u'structure_type': u'MOL',\n",
       " u'therapeutic_flag': True,\n",
       " u'topical': False,\n",
       " u'usan_stem': None,\n",
       " u'usan_stem_definition': None,\n",
       " u'usan_substem': None,\n",
       " u'usan_year': 2003}"
      ]
     },
     "execution_count": 10,
     "metadata": {},
     "output_type": "execute_result"
    }
   ],
   "source": [
    "record_via_url = request.json()\n",
    "record_via_url "
   ]
  },
  {
   "cell_type": "markdown",
   "metadata": {},
   "source": [
    "Note that in both cases we are getting exactly the same results:"
   ]
  },
  {
   "cell_type": "code",
   "execution_count": 11,
   "metadata": {
    "collapsed": false
   },
   "outputs": [
    {
     "data": {
      "text/plain": [
       "True"
      ]
     },
     "execution_count": 11,
     "metadata": {},
     "output_type": "execute_result"
    }
   ],
   "source": [
    "record_via_client == record_via_url"
   ]
  },
  {
   "cell_type": "markdown",
   "metadata": {},
   "source": [
    "When retrieved in JSON format, a record is a nested dictionary, so to get, say, a SMILES string we have to write:"
   ]
  },
  {
   "cell_type": "code",
   "execution_count": 12,
   "metadata": {
    "collapsed": false
   },
   "outputs": [],
   "source": [
    "smiles_from_json = record_via_client['molecule_structures']['canonical_smiles']"
   ]
  },
  {
   "cell_type": "markdown",
   "metadata": {},
   "source": [
    "It is possible to retrieve data in XML format as well:"
   ]
  },
  {
   "cell_type": "code",
   "execution_count": 13,
   "metadata": {
    "collapsed": false
   },
   "outputs": [],
   "source": [
    "# Get compound record in XML format...\n",
    "\n",
    "molecule.set_format('xml')\n",
    "xml = molecule.get(chembl_id).encode('utf-8')\n",
    "#print xml\n",
    "# The XML must be parsed (e.g. using the lxml.etree module in Python) to enable extraction of the data...\n",
    "\n",
    "root = etree.fromstring(xml).getroottree()"
   ]
  },
  {
   "cell_type": "code",
   "execution_count": 14,
   "metadata": {
    "collapsed": false
   },
   "outputs": [
    {
     "name": "stdout",
     "output_type": "stream",
     "text": [
      "CS(=O)(=O)CCNCc1oc(cc1)c2ccc3ncnc(Nc4ccc(OCc5cccc(F)c5)c(Cl)c4)c3c2\n",
      "True\n"
     ]
    }
   ],
   "source": [
    "# Extract SMILES via xpath...\n",
    "\n",
    "smiles_from_xml = root.xpath(\"/molecule/molecule_structures/canonical_smiles/text()\")[0]\n",
    "\n",
    "print smiles_from_xml\n",
    "print smiles_from_xml == smiles_from_json"
   ]
  },
  {
   "cell_type": "code",
   "execution_count": 15,
   "metadata": {
    "collapsed": false
   },
   "outputs": [
    {
     "name": "stdout",
     "output_type": "stream",
     "text": [
      "<molecule>\n",
      "  <atc_classifications>\n",
      "    <level5>L01XE07</level5>\n",
      "  </atc_classifications>\n",
      "  <availability_type>1</availability_type>\n",
      "  <biotherapeutic/>\n",
      "  <black_box_warning>1</black_box_warning>\n",
      "  <chebi_par_id>49603</chebi_par_id>\n",
      "  <chirality>2</chirality>\n",
      "  <dosed_ingredient/>\n",
      "  <first_approval>2007</first_approval>\n",
      "  <first_in_class>0</first_in_class>\n",
      "  <helm_notation/>\n",
      "  <indication_class/>\n",
      "  <inorganic_flag>0</inorganic_flag>\n",
      "  <max_phase>4</max_phase>\n",
      "  <molecule_chembl_id>CHEMBL554</molecule_chembl_id>\n",
      "  <molecule_hierarchy>\n",
      "    <molecule_chembl_id>CHEMBL554</molecule_chembl_id>\n",
      "    <parent_chembl_id>CHEMBL554</parent_chembl_id>\n",
      "  </molecule_hierarchy>\n",
      "  <molecule_properties>\n",
      "    <acd_logd>6.26</acd_logd>\n",
      "    <acd_logp>6.30</acd_logp>\n",
      "    <acd_most_apka/>\n",
      "    <acd_most_bpka>6.34</acd_most_bpka>\n",
      "    <alogp>6.04</alogp>\n",
      "    <aromatic_rings>5</aromatic_rings>\n",
      "    <full_molformula>C29H26ClFN4O4S</full_molformula>\n",
      "    <full_mwt>581.06</full_mwt>\n",
      "    <hba>7</hba>\n",
      "    <hbd>2</hbd>\n",
      "    <heavy_atoms>40</heavy_atoms>\n",
      "    <med_chem_friendly>Y</med_chem_friendly>\n",
      "    <molecular_species>NEUTRAL</molecular_species>\n",
      "    <mw_freebase>581.06</mw_freebase>\n",
      "    <mw_monoisotopic>580.1347</mw_monoisotopic>\n",
      "    <num_alerts>1</num_alerts>\n",
      "    <num_ro5_violations>2</num_ro5_violations>\n",
      "    <psa>114.72</psa>\n",
      "    <qed_weighted>0.18</qed_weighted>\n",
      "    <ro3_pass>N</ro3_pass>\n",
      "    <rtb>11</rtb>\n",
      "  </molecule_properties>\n",
      "  <molecule_structures>\n",
      "    <canonical_smiles>CS(=O)(=O)CCNCc1oc(cc1)c2ccc3ncnc(Nc4ccc(OCc5cccc(F)c5)c(Cl)c4)c3c2</canonical_smiles>\n",
      "    <standard_inchi>InChI=1S/C29H26ClFN4O4S/c1-40(36,37)12-11-32-16-23-7-10-27(39-23)20-5-8-26-24(14-20)29(34-18-33-26)35-22-6-9-28(25(30)15-22)38-17-19-3-2-4-21(31)13-19/h2-10,13-15,18,32H,11-12,16-17H2,1H3,(H,33,34,35)</standard_inchi>\n",
      "    <standard_inchi_key>BCFGMOOMADDAQU-UHFFFAOYSA-N</standard_inchi_key>\n",
      "  </molecule_structures>\n",
      "  <molecule_synonyms>\n",
      "    <synonym>\n",
      "      <syn_type>FDA</syn_type>\n",
      "      <synonyms>Lapatinib</synonyms>\n",
      "    </synonym>\n",
      "    <synonym>\n",
      "      <syn_type>TRADE_NAME</syn_type>\n",
      "      <synonyms>Tykerb</synonyms>\n",
      "    </synonym>\n",
      "    <synonym>\n",
      "      <syn_type>INN</syn_type>\n",
      "      <synonyms>Lapatinib</synonyms>\n",
      "    </synonym>\n",
      "    <synonym>\n",
      "      <syn_type>OTHER</syn_type>\n",
      "      <synonyms>Lapatinib</synonyms>\n",
      "    </synonym>\n",
      "  </molecule_synonyms>\n",
      "  <molecule_type>Small molecule</molecule_type>\n",
      "  <natural_product>0</natural_product>\n",
      "  <oral>True</oral>\n",
      "  <parenteral/>\n",
      "  <polymer_flag/>\n",
      "  <pref_name>LAPATINIB</pref_name>\n",
      "  <prodrug>0</prodrug>\n",
      "  <structure_type>MOL</structure_type>\n",
      "  <therapeutic_flag>True</therapeutic_flag>\n",
      "  <topical/>\n",
      "  <usan_stem/>\n",
      "  <usan_stem_definition/>\n",
      "  <usan_substem/>\n",
      "  <usan_year>2003</usan_year>\n",
      "</molecule>\n",
      "\n"
     ]
    }
   ],
   "source": [
    "# Pretty-print XML...\n",
    "\n",
    "print etree.tostring(root, pretty_print=True)"
   ]
  },
  {
   "cell_type": "markdown",
   "metadata": {},
   "source": [
    "### InChIKey\n",
    "\n",
    "Compound records may also be retrieved _via_ InChI Key lookup."
   ]
  },
  {
   "cell_type": "code",
   "execution_count": 16,
   "metadata": {
    "collapsed": false
   },
   "outputs": [
    {
     "name": "stdout",
     "output_type": "stream",
     "text": [
      "http://localhost/chemblws/molecule/BCFGMOOMADDAQU-UHFFFAOYSA-N.json\n",
      "True\n"
     ]
    }
   ],
   "source": [
    "# InChI Key for Lapatinib\n",
    "inchi_key = \"BCFGMOOMADDAQU-UHFFFAOYSA-N\"\n",
    "\n",
    "# getting molecule via client\n",
    "molecule.set_format('json')\n",
    "record_via_client = molecule.get(inchi_key)\n",
    "\n",
    "# getting molecule via url\n",
    "url = url_stem + \"/molecule/\" + inchi_key + \".json\"\n",
    "record_via_url = requests.get(url).json()\n",
    "\n",
    "print url\n",
    "\n",
    "# they are the same\n",
    "print record_via_url == record_via_client"
   ]
  },
  {
   "cell_type": "markdown",
   "metadata": {},
   "source": [
    "### SMILES\n",
    "\n",
    "Compound records may also be retrieved _via_ SMILES lookup.\n",
    "\n",
    "The purpose of the `get` method is to return objects identified by their unique and unambiguous properties.\n",
    "This is why SMILES provided as arguments to the `get` method need to be canonical.\n",
    "But you can still search for molecules, using non-canonical SMILES - this functionaly will be covered later in this notebook."
   ]
  },
  {
   "cell_type": "code",
   "execution_count": 17,
   "metadata": {
    "collapsed": false
   },
   "outputs": [
    {
     "name": "stdout",
     "output_type": "stream",
     "text": [
      "http://localhost/chemblws/molecule/CS%28%3DO%29%28%3DO%29CCNCc1oc%28cc1%29c2ccc3ncnc%28Nc4ccc%28OCc5cccc%28F%29c5%29c%28Cl%29c4%29c3c2.json\n"
     ]
    },
    {
     "data": {
      "text/plain": [
       "True"
      ]
     },
     "execution_count": 17,
     "metadata": {},
     "output_type": "execute_result"
    }
   ],
   "source": [
    "# Canonoical SMILES for Lapatinib\n",
    "canonical_smiles = \"CS(=O)(=O)CCNCc1oc(cc1)c2ccc3ncnc(Nc4ccc(OCc5cccc(F)c5)c(Cl)c4)c3c2\"\n",
    "\n",
    "# getting molecule via client\n",
    "molecule.set_format('json')\n",
    "record_via_client = molecule.get(canonical_smiles)\n",
    "\n",
    "# getting molecule via url\n",
    "url = url_stem + \"/molecule/\" + quote(canonical_smiles) + \".json\"\n",
    "record_via_url = requests.get(url).json()\n",
    "\n",
    "print url\n",
    "\n",
    "# they are the same\n",
    "record_via_url == record_via_client"
   ]
  },
  {
   "cell_type": "markdown",
   "metadata": {},
   "source": [
    "### Batch queries\n",
    "\n",
    "Multiple records may be requested at once. The `get` method can accept a list of homogenous identifiers."
   ]
  },
  {
   "cell_type": "code",
   "execution_count": 18,
   "metadata": {
    "collapsed": false
   },
   "outputs": [
    {
     "data": {
      "text/plain": [
       "True"
      ]
     },
     "execution_count": 18,
     "metadata": {},
     "output_type": "execute_result"
    }
   ],
   "source": [
    "records1 = molecule.get(['CHEMBL6498', 'CHEMBL6499', 'CHEMBL6505'])\n",
    "records2 = molecule.get(['XSQLHVPPXBBUPP-UHFFFAOYSA-N', 'JXHVRXRRSSBGPY-UHFFFAOYSA-N', 'TUHYVXGNMOGVMR-GASGPIRDSA-N'])\n",
    "records3 = molecule.get(['CNC(=O)c1ccc(cc1)N(CC#C)Cc2ccc3nc(C)nc(O)c3c2',\n",
    "            'Cc1cc2SC(C)(C)CC(C)(C)c2cc1\\\\N=C(/S)\\\\Nc3ccc(cc3)S(=O)(=O)N',\n",
    "            'CC(C)C[C@H](NC(=O)[C@@H](NC(=O)[C@H](Cc1c[nH]c2ccccc12)NC(=O)[C@H]3CCCN3C(=O)C(CCCCN)CCCCN)C(C)(C)C)C(=O)O'])\n",
    "records1 == records2 == records3"
   ]
  },
  {
   "cell_type": "markdown",
   "metadata": {},
   "source": [
    "The same can be done _via_ urls:"
   ]
  },
  {
   "cell_type": "code",
   "execution_count": 19,
   "metadata": {
    "collapsed": false
   },
   "outputs": [
    {
     "name": "stdout",
     "output_type": "stream",
     "text": [
      "http://localhost/chemblws/molecule/set/CHEMBL6498;CHEMBL6499;CHEMBL6505.json\n",
      "http://localhost/chemblws/molecule/set/XSQLHVPPXBBUPP-UHFFFAOYSA-N;JXHVRXRRSSBGPY-UHFFFAOYSA-N;TUHYVXGNMOGVMR-GASGPIRDSA-N.json\n",
      "http://localhost/chemblws/molecule/set/CNC%28%3DO%29c1ccc%28cc1%29N%28CC%23C%29Cc2ccc3nc%28C%29nc%28O%29c3c2;Cc1cc2SC%28C%29%28C%29CC%28C%29%28C%29c2cc1%5CN%3DC%28/S%29%5CNc3ccc%28cc3%29S%28%3DO%29%28%3DO%29N;CC%28C%29C%5BC%40H%5D%28NC%28%3DO%29%5BC%40%40H%5D%28NC%28%3DO%29%5BC%40H%5D%28Cc1c%5BnH%5Dc2ccccc12%29NC%28%3DO%29%5BC%40H%5D3CCCN3C%28%3DO%29C%28CCCCN%29CCCCN%29C%28C%29%28C%29C%29C%28%3DO%29O.json\n"
     ]
    },
    {
     "data": {
      "text/plain": [
       "True"
      ]
     },
     "execution_count": 19,
     "metadata": {},
     "output_type": "execute_result"
    }
   ],
   "source": [
    "url1 = url_stem + \"/molecule/set/%s;%s;%s\" % ('CHEMBL6498', 'CHEMBL6499', 'CHEMBL6505') + \".json\"\n",
    "records1 = requests.get(url1).json()\n",
    "\n",
    "url2 = url_stem + \"/molecule/set/%s;%s;%s\" % ('XSQLHVPPXBBUPP-UHFFFAOYSA-N', 'JXHVRXRRSSBGPY-UHFFFAOYSA-N', 'TUHYVXGNMOGVMR-GASGPIRDSA-N') + \".json\"\n",
    "records2 = requests.get(url2).json()\n",
    "\n",
    "url3 = url_stem + \"/molecule/set/%s;%s;%s\" % (quote('CNC(=O)c1ccc(cc1)N(CC#C)Cc2ccc3nc(C)nc(O)c3c2'),\n",
    "            quote('Cc1cc2SC(C)(C)CC(C)(C)c2cc1\\\\N=C(/S)\\\\Nc3ccc(cc3)S(=O)(=O)N'),\n",
    "            quote('CC(C)C[C@H](NC(=O)[C@@H](NC(=O)[C@H](Cc1c[nH]c2ccccc12)NC(=O)[C@H]3CCCN3C(=O)C(CCCCN)CCCCN)C(C)(C)C)C(=O)O')) + \".json\"\n",
    "records3 = requests.get(url3).json()\n",
    "\n",
    "print url1\n",
    "print url2\n",
    "print url3\n",
    "\n",
    "records1 == records2 == records3\n"
   ]
  },
  {
   "cell_type": "markdown",
   "metadata": {},
   "source": [
    "Please note that the length of url can't be more than 4000 characters. This is why url-based approach should not be used for a very long lists of identifiers. Also `molecule.get` call needs to be modified slightly in that case."
   ]
  },
  {
   "cell_type": "code",
   "execution_count": 20,
   "metadata": {
    "collapsed": false
   },
   "outputs": [
    {
     "data": {
      "text/plain": [
       "169"
      ]
     },
     "execution_count": 20,
     "metadata": {},
     "output_type": "execute_result"
    }
   ],
   "source": [
    "# Generate a list of 300 ChEMBL IDs (N.B. not all will be valid)...\n",
    "\n",
    "chembl_ids = ['CHEMBL{}'.format(x) for x in range(1, 301)]\n",
    "\n",
    "# Get compound records, note `molecule_chembl_id` named parameter.\n",
    "# Named parameters should always be used for longer lists\n",
    "\n",
    "records = molecule.get(molecule_chembl_id=chembl_ids)\n",
    "\n",
    "len(records)"
   ]
  },
  {
   "cell_type": "markdown",
   "metadata": {},
   "source": [
    "Note that we expect to see a number that is less than 300 (169). This is because for some identifiers in range `(CHEMBL1, ..., CHEMBL300)` there are no molecule mapped to them."
   ]
  },
  {
   "cell_type": "markdown",
   "metadata": {},
   "source": [
    "### Filtering\n",
    "All resources available through ChEMBL web services can be filtered.\n",
    "Some examples of filtering applied to molecules:\n",
    "\n",
    "1. Get all approved drugs\n",
    "2. Get all molecules in ChEMBL with no Rule-of-Five violations\n",
    "3. Get all biotherapeutic molecules\n",
    "4. Return molecules with molecular weight <= 300\n",
    "5. Return molecules with molecular weight <= 300 AND pref_name ends with -nib"
   ]
  },
  {
   "cell_type": "code",
   "execution_count": 21,
   "metadata": {
    "collapsed": false
   },
   "outputs": [],
   "source": [
    "# First, filtering using the client:\n",
    "\n",
    "# 1. Get all approved drugs\n",
    "approved_drugs = molecule.filter(max_phase=4)\n",
    "\n",
    "# 2. Get all molecules in ChEMBL with no Rule-of-Five violations\n",
    "no_violations = molecule.filter(molecule_properties__num_ro5_violations=0)\n",
    "\n",
    "# 3. Get all biotherapeutic molecules\n",
    "biotherapeutics = molecule.filter(biotherapeutic__isnull=False)\n",
    "\n",
    "# 4. Return molecules with molecular weight <= 300\n",
    "light_molecules = molecule.filter(molecule_properties__mw_freebase__lte=300)\n",
    "\n",
    "# 5. Return molecules with molecular weight <= 300 AND pref_name ends with nib\n",
    "light_nib_molecules = molecule.filter(molecule_properties__mw_freebase__lte=300).filter(pref_name__iendswith=\"nib\")"
   ]
  },
  {
   "cell_type": "code",
   "execution_count": 22,
   "metadata": {
    "collapsed": false
   },
   "outputs": [
    {
     "name": "stdout",
     "output_type": "stream",
     "text": [
      "http://localhost/chemblws/molecule.json?max_phase=4\n",
      "http://localhost/chemblws/molecule.json?molecule_properties__num_ro5_violations=0\n",
      "http://localhost/chemblws/molecule.json?biotherapeutic__isnull=false\n",
      "http://localhost/chemblws/molecule.json?molecule_properties__mw_freebase__lte=300\n",
      "http://localhost/chemblws/molecule.json?molecule_properties__mw_freebase__lte=300&pref_name__iendswith=nib\n"
     ]
    }
   ],
   "source": [
    "# Secondly, fltering using url endpoint:\n",
    "\n",
    "# 1. Get all approved drugs\n",
    "url_1 = url_stem + \"/molecule.json?max_phase=4\"\n",
    "url_approved_drugs = requests.get(url_1).json()\n",
    "\n",
    "# 2. Get all molecules in ChEMBL with no Rule-of-Five violations\n",
    "url_2 = url_stem + \"/molecule.json?molecule_properties__num_ro5_violations=0\"\n",
    "ulr_no_violations = requests.get(url_2).json()\n",
    "\n",
    "# 3. Get all biotherapeutic molecules\n",
    "url_3 = url_stem + \"/molecule.json?biotherapeutic__isnull=false\"\n",
    "url_biotherapeutics = requests.get(url_3).json()\n",
    "\n",
    "# 4. Return molecules with molecular weight <= 300\n",
    "url_4 = url_stem + \"/molecule.json?molecule_properties__mw_freebase__lte=300\"\n",
    "url_light_molecules = requests.get(url_4).json()\n",
    "\n",
    "# 5. Return molecules with molecular weight <= 300 AND pref_name ends with nib\n",
    "url_5 = url_stem + \"/molecule.json?molecule_properties__mw_freebase__lte=300&pref_name__iendswith=nib\"\n",
    "url_light_nib_molecules = requests.get(url_5).json()\n",
    "\n",
    "print url_1\n",
    "print url_2\n",
    "print url_3\n",
    "print url_4\n",
    "print url_5"
   ]
  },
  {
   "cell_type": "markdown",
   "metadata": {},
   "source": [
    "### Deferences between filtering with client and url endpoint - paging\n",
    "There are some important differences between filering results returned by the client and generated using URL endpoint.\n",
    "Let's have a look at them."
   ]
  },
  {
   "cell_type": "code",
   "execution_count": 23,
   "metadata": {
    "collapsed": false
   },
   "outputs": [
    {
     "name": "stdout",
     "output_type": "stream",
     "text": [
      "False\n",
      "<type 'dict'>\n",
      "<class 'chembl_webresource_client.query_set.QuerySet'>\n"
     ]
    }
   ],
   "source": [
    "# First off, they are not the same thing:\n",
    "print approved_drugs == url_approved_drugs\n",
    "\n",
    "# Not surprisingly, url-endpoint produced JSON data, which has been paresed into python dict:\n",
    "print type(url_approved_drugs)\n",
    "\n",
    "# Whereas the client has returned an object of type `QuerySet`\n",
    "print type(approved_drugs)"
   ]
  },
  {
   "cell_type": "code",
   "execution_count": 24,
   "metadata": {
    "collapsed": false
   },
   "outputs": [
    {
     "data": {
      "text/plain": [
       "{u'molecules': [{u'atc_classifications': [u'C02CA01'],\n",
       "   u'availability_type': u'1',\n",
       "   u'biotherapeutic': None,\n",
       "   u'black_box_warning': u'0',\n",
       "   u'chebi_par_id': 8364,\n",
       "   u'chirality': u'2',\n",
       "   u'dosed_ingredient': False,\n",
       "   u'first_approval': 1976,\n",
       "   u'first_in_class': u'0',\n",
       "   u'helm_notation': None,\n",
       "   u'indication_class': None,\n",
       "   u'inorganic_flag': u'0',\n",
       "   u'max_phase': 4,\n",
       "   u'molecule_chembl_id': u'CHEMBL2',\n",
       "   u'molecule_hierarchy': {u'molecule_chembl_id': u'CHEMBL2',\n",
       "    u'parent_chembl_id': u'CHEMBL2'},\n",
       "   u'molecule_properties': {u'acd_logd': u'2.09',\n",
       "    u'acd_logp': u'2.14',\n",
       "    u'acd_most_apka': None,\n",
       "    u'acd_most_bpka': u'6.52',\n",
       "    u'alogp': u'2.11',\n",
       "    u'aromatic_rings': 3,\n",
       "    u'full_molformula': u'C19H21N5O4',\n",
       "    u'full_mwt': u'383.40',\n",
       "    u'hba': 7,\n",
       "    u'hbd': 1,\n",
       "    u'heavy_atoms': 28,\n",
       "    u'med_chem_friendly': u'Y',\n",
       "    u'molecular_species': u'NEUTRAL',\n",
       "    u'mw_freebase': u'383.40',\n",
       "    u'mw_monoisotopic': u'383.1594',\n",
       "    u'num_alerts': 0,\n",
       "    u'num_ro5_violations': 0,\n",
       "    u'psa': u'106.95',\n",
       "    u'qed_weighted': u'0.74',\n",
       "    u'ro3_pass': u'N',\n",
       "    u'rtb': 4},\n",
       "   u'molecule_structures': {u'canonical_smiles': u'COc1cc2nc(nc(N)c2cc1OC)N3CCN(CC3)C(=O)c4occc4',\n",
       "    u'standard_inchi': u'InChI=1S/C19H21N5O4/c1-26-15-10-12-13(11-16(15)27-2)21-19(22-17(12)20)24-7-5-23(6-8-24)18(25)14-4-3-9-28-14/h3-4,9-11H,5-8H2,1-2H3,(H2,20,21,22)',\n",
       "    u'standard_inchi_key': u'IENZQIKPVFGBNW-UHFFFAOYSA-N'},\n",
       "   u'molecule_synonyms': [{u'syn_type': u'RESEARCH_CODE',\n",
       "     u'synonyms': u'CP-12299'},\n",
       "    {u'syn_type': u'FDA', u'synonyms': u'Prazosin'},\n",
       "    {u'syn_type': u'BAN', u'synonyms': u'Prazosin'},\n",
       "    {u'syn_type': u'INN', u'synonyms': u'Prazosin'}],\n",
       "   u'molecule_type': u'Small molecule',\n",
       "   u'natural_product': u'0',\n",
       "   u'oral': True,\n",
       "   u'parenteral': False,\n",
       "   u'polymer_flag': False,\n",
       "   u'pref_name': u'PRAZOSIN',\n",
       "   u'prodrug': u'0',\n",
       "   u'structure_type': u'MOL',\n",
       "   u'therapeutic_flag': True,\n",
       "   u'topical': False,\n",
       "   u'usan_stem': None,\n",
       "   u'usan_stem_definition': None,\n",
       "   u'usan_substem': None,\n",
       "   u'usan_year': 1968},\n",
       "  {u'atc_classifications': [u'N07BA01'],\n",
       "   u'availability_type': u'2',\n",
       "   u'biotherapeutic': None,\n",
       "   u'black_box_warning': u'0',\n",
       "   u'chebi_par_id': 17688,\n",
       "   u'chirality': u'1',\n",
       "   u'dosed_ingredient': True,\n",
       "   u'first_approval': 1984,\n",
       "   u'first_in_class': u'0',\n",
       "   u'helm_notation': None,\n",
       "   u'indication_class': u'Smoking Cessation Adjunct',\n",
       "   u'inorganic_flag': u'0',\n",
       "   u'max_phase': 4,\n",
       "   u'molecule_chembl_id': u'CHEMBL3',\n",
       "   u'molecule_hierarchy': {u'molecule_chembl_id': u'CHEMBL3',\n",
       "    u'parent_chembl_id': u'CHEMBL3'},\n",
       "   u'molecule_properties': {u'acd_logd': u'-0.62',\n",
       "    u'acd_logp': u'0.57',\n",
       "    u'acd_most_apka': None,\n",
       "    u'acd_most_bpka': u'8.00',\n",
       "    u'alogp': u'1.24',\n",
       "    u'aromatic_rings': 1,\n",
       "    u'full_molformula': u'C10H14N2',\n",
       "    u'full_mwt': u'162.23',\n",
       "    u'hba': 2,\n",
       "    u'hbd': 0,\n",
       "    u'heavy_atoms': 12,\n",
       "    u'med_chem_friendly': u'Y',\n",
       "    u'molecular_species': u'NEUTRAL',\n",
       "    u'mw_freebase': u'162.23',\n",
       "    u'mw_monoisotopic': u'162.1157',\n",
       "    u'num_alerts': 0,\n",
       "    u'num_ro5_violations': 0,\n",
       "    u'psa': u'16.13',\n",
       "    u'qed_weighted': u'0.62',\n",
       "    u'ro3_pass': u'Y',\n",
       "    u'rtb': 1},\n",
       "   u'molecule_structures': {u'canonical_smiles': u'CN1CCC[C@H]1c2cccnc2',\n",
       "    u'standard_inchi': u'InChI=1S/C10H14N2/c1-12-7-3-5-10(12)9-4-2-6-11-8-9/h2,4,6,8,10H,3,5,7H2,1H3/t10-/m0/s1',\n",
       "    u'standard_inchi_key': u'SNICXCGAKADSCV-JTQLQIEISA-N'},\n",
       "   u'molecule_synonyms': [{u'syn_type': u'TRADE_NAME',\n",
       "     u'synonyms': u'Habitrol'},\n",
       "    {u'syn_type': u'TRADE_NAME', u'synonyms': u'Nicoderm CQ'},\n",
       "    {u'syn_type': u'TRADE_NAME', u'synonyms': u'Nicotine'},\n",
       "    {u'syn_type': u'USAN', u'synonyms': u'Nicotine'},\n",
       "    {u'syn_type': u'TRADE_NAME', u'synonyms': u'Nicotrol'},\n",
       "    {u'syn_type': u'TRADE_NAME', u'synonyms': u'Prostep'},\n",
       "    {u'syn_type': u'TRADE_NAME', u'synonyms': u'Nicotrol Inhaler'},\n",
       "    {u'syn_type': u'TRADE_NAME', u'synonyms': u'Nicotrol NS'},\n",
       "    {u'syn_type': u'TRADE_NAME', u'synonyms': u'Nicoderm'},\n",
       "    {u'syn_type': u'MERCK_INDEX', u'synonyms': u'Nicotine'},\n",
       "    {u'syn_type': u'FDA', u'synonyms': u'Nicotine'},\n",
       "    {u'syn_type': u'USP', u'synonyms': u'Nicotine'}],\n",
       "   u'molecule_type': u'Small molecule',\n",
       "   u'natural_product': u'1',\n",
       "   u'oral': True,\n",
       "   u'parenteral': False,\n",
       "   u'polymer_flag': True,\n",
       "   u'pref_name': u'NICOTINE',\n",
       "   u'prodrug': u'0',\n",
       "   u'structure_type': u'MOL',\n",
       "   u'therapeutic_flag': True,\n",
       "   u'topical': True,\n",
       "   u'usan_stem': None,\n",
       "   u'usan_stem_definition': None,\n",
       "   u'usan_substem': None,\n",
       "   u'usan_year': 1985},\n",
       "  {u'atc_classifications': [u'S02AA16', u'J01MA01', u'S01AE01'],\n",
       "   u'availability_type': u'1',\n",
       "   u'biotherapeutic': None,\n",
       "   u'black_box_warning': u'1',\n",
       "   u'chebi_par_id': 7731,\n",
       "   u'chirality': u'0',\n",
       "   u'dosed_ingredient': True,\n",
       "   u'first_approval': 1990,\n",
       "   u'first_in_class': u'0',\n",
       "   u'helm_notation': None,\n",
       "   u'indication_class': u'Antibacterial',\n",
       "   u'inorganic_flag': u'0',\n",
       "   u'max_phase': 4,\n",
       "   u'molecule_chembl_id': u'CHEMBL4',\n",
       "   u'molecule_hierarchy': {u'molecule_chembl_id': u'CHEMBL4',\n",
       "    u'parent_chembl_id': u'CHEMBL4'},\n",
       "   u'molecule_properties': {u'acd_logd': u'-0.39',\n",
       "    u'acd_logp': u'1.86',\n",
       "    u'acd_most_apka': u'5.19',\n",
       "    u'acd_most_bpka': u'7.37',\n",
       "    u'alogp': u'-1.37',\n",
       "    u'aromatic_rings': 1,\n",
       "    u'full_molformula': u'C18H20FN3O4',\n",
       "    u'full_mwt': u'361.37',\n",
       "    u'hba': 7,\n",
       "    u'hbd': 1,\n",
       "    u'heavy_atoms': 26,\n",
       "    u'med_chem_friendly': u'N',\n",
       "    u'molecular_species': u'ACID',\n",
       "    u'mw_freebase': u'361.37',\n",
       "    u'mw_monoisotopic': u'361.1438',\n",
       "    u'num_alerts': 1,\n",
       "    u'num_ro5_violations': 0,\n",
       "    u'psa': u'73.32',\n",
       "    u'qed_weighted': u'0.65',\n",
       "    u'ro3_pass': u'N',\n",
       "    u'rtb': 2},\n",
       "   u'molecule_structures': {u'canonical_smiles': u'CC1COc2c(N3CCN(C)CC3)c(F)cc4C(=O)C(=CN1c24)C(=O)O',\n",
       "    u'standard_inchi': u'InChI=1S/C18H20FN3O4/c1-10-9-26-17-14-11(16(23)12(18(24)25)8-22(10)14)7-13(19)15(17)21-5-3-20(2)4-6-21/h7-8,10H,3-6,9H2,1-2H3,(H,24,25)',\n",
       "    u'standard_inchi_key': u'GSDSWSVVBLHKDQ-UHFFFAOYSA-N'},\n",
       "   u'molecule_synonyms': [{u'syn_type': u'TRADE_NAME', u'synonyms': u'Floxin'},\n",
       "    {u'syn_type': u'TRADE_NAME', u'synonyms': u'Floxin Otic'},\n",
       "    {u'syn_type': u'RESEARCH_CODE', u'synonyms': u'HOE-280'},\n",
       "    {u'syn_type': u'TRADE_NAME', u'synonyms': u'Ocuflox'},\n",
       "    {u'syn_type': u'TRADE_NAME', u'synonyms': u'Ofloxacin'},\n",
       "    {u'syn_type': u'TRADE_NAME', u'synonyms': u'Visiren'},\n",
       "    {u'syn_type': u'TRADE_NAME', u'synonyms': u'Tarivid'},\n",
       "    {u'syn_type': u'RESEARCH_CODE', u'synonyms': u'DL-8280'},\n",
       "    {u'syn_type': u'BAN', u'synonyms': u'Ofloxacin'},\n",
       "    {u'syn_type': u'FDA', u'synonyms': u'Ofloxacin'},\n",
       "    {u'syn_type': u'INN', u'synonyms': u'Ofloxacin'},\n",
       "    {u'syn_type': u'JAN', u'synonyms': u'Ofloxacin'},\n",
       "    {u'syn_type': u'USP', u'synonyms': u'Ofloxacin'},\n",
       "    {u'syn_type': u'USAN', u'synonyms': u'Ofloxacin'}],\n",
       "   u'molecule_type': u'Small molecule',\n",
       "   u'natural_product': u'0',\n",
       "   u'oral': True,\n",
       "   u'parenteral': True,\n",
       "   u'polymer_flag': False,\n",
       "   u'pref_name': u'OFLOXACIN',\n",
       "   u'prodrug': u'0',\n",
       "   u'structure_type': u'MOL',\n",
       "   u'therapeutic_flag': True,\n",
       "   u'topical': True,\n",
       "   u'usan_stem': u'-oxacin',\n",
       "   u'usan_stem_definition': u'antibacterials (quinolone derivatives)',\n",
       "   u'usan_substem': None,\n",
       "   u'usan_year': 1984},\n",
       "  {u'atc_classifications': [u'J01MB02'],\n",
       "   u'availability_type': u'0',\n",
       "   u'biotherapeutic': None,\n",
       "   u'black_box_warning': u'0',\n",
       "   u'chebi_par_id': 100147,\n",
       "   u'chirality': u'2',\n",
       "   u'dosed_ingredient': True,\n",
       "   u'first_approval': 1964,\n",
       "   u'first_in_class': u'0',\n",
       "   u'helm_notation': None,\n",
       "   u'indication_class': u'Antibacterial',\n",
       "   u'inorganic_flag': u'0',\n",
       "   u'max_phase': 4,\n",
       "   u'molecule_chembl_id': u'CHEMBL5',\n",
       "   u'molecule_hierarchy': {u'molecule_chembl_id': u'CHEMBL5',\n",
       "    u'parent_chembl_id': u'CHEMBL5'},\n",
       "   u'molecule_properties': {u'acd_logd': u'-1.54',\n",
       "    u'acd_logp': u'0.03',\n",
       "    u'acd_most_apka': u'3.45',\n",
       "    u'acd_most_bpka': u'6.12',\n",
       "    u'alogp': u'1.18',\n",
       "    u'aromatic_rings': 1,\n",
       "    u'full_molformula': u'C12H12N2O3',\n",
       "    u'full_mwt': u'232.24',\n",
       "    u'hba': 5,\n",
       "    u'hbd': 1,\n",
       "    u'heavy_atoms': 17,\n",
       "    u'med_chem_friendly': u'N',\n",
       "    u'molecular_species': u'ACID',\n",
       "    u'mw_freebase': u'232.24',\n",
       "    u'mw_monoisotopic': u'232.0848',\n",
       "    u'num_alerts': 1,\n",
       "    u'num_ro5_violations': 0,\n",
       "    u'psa': u'70.50',\n",
       "    u'qed_weighted': u'0.78',\n",
       "    u'ro3_pass': u'N',\n",
       "    u'rtb': 2},\n",
       "   u'molecule_structures': {u'canonical_smiles': u'CCN1C=C(C(=O)O)C(=O)c2ccc(C)nc12',\n",
       "    u'standard_inchi': u'InChI=1S/C12H12N2O3/c1-3-14-6-9(12(16)17)10(15)8-5-4-7(2)13-11(8)14/h4-6H,3H2,1-2H3,(H,16,17)',\n",
       "    u'standard_inchi_key': u'MHWLWQUZZRMNGJ-UHFFFAOYSA-N'},\n",
       "   u'molecule_synonyms': [{u'syn_type': u'TRADE_NAME',\n",
       "     u'synonyms': u'Nalidixic Acid'},\n",
       "    {u'syn_type': u'TRADE_NAME', u'synonyms': u'Neggram'},\n",
       "    {u'syn_type': u'RESEARCH_CODE', u'synonyms': u'WIN-18320'},\n",
       "    {u'syn_type': u'TRADE_NAME', u'synonyms': u'Neg Gram'},\n",
       "    {u'syn_type': u'TRADE_NAME', u'synonyms': u'Uroneg'},\n",
       "    {u'syn_type': u'TRADE_NAME', u'synonyms': u'Wintomylon'},\n",
       "    {u'syn_type': u'OTHER', u'synonyms': u'Nalidixane'},\n",
       "    {u'syn_type': u'BAN', u'synonyms': u'Nalidixic Acid'},\n",
       "    {u'syn_type': u'FDA', u'synonyms': u'Nalidixic Acid'},\n",
       "    {u'syn_type': u'INN', u'synonyms': u'Nalidixic Acid'},\n",
       "    {u'syn_type': u'JAN', u'synonyms': u'Nalidixic Acid'},\n",
       "    {u'syn_type': u'USP', u'synonyms': u'Nalidixic Acid'},\n",
       "    {u'syn_type': u'USAN', u'synonyms': u'Nalidixic Acid'}],\n",
       "   u'molecule_type': u'Small molecule',\n",
       "   u'natural_product': u'0',\n",
       "   u'oral': True,\n",
       "   u'parenteral': False,\n",
       "   u'polymer_flag': False,\n",
       "   u'pref_name': u'NALIDIXIC ACID',\n",
       "   u'prodrug': u'0',\n",
       "   u'structure_type': u'MOL',\n",
       "   u'therapeutic_flag': True,\n",
       "   u'topical': False,\n",
       "   u'usan_stem': None,\n",
       "   u'usan_stem_definition': None,\n",
       "   u'usan_substem': None,\n",
       "   u'usan_year': 1962},\n",
       "  {u'atc_classifications': [u'M01AB51',\n",
       "    u'M02AA23',\n",
       "    u'C01EB03',\n",
       "    u'S01BC01',\n",
       "    u'M01AB01'],\n",
       "   u'availability_type': u'1',\n",
       "   u'biotherapeutic': None,\n",
       "   u'black_box_warning': u'1',\n",
       "   u'chebi_par_id': 49662,\n",
       "   u'chirality': u'2',\n",
       "   u'dosed_ingredient': True,\n",
       "   u'first_approval': 1965,\n",
       "   u'first_in_class': u'0',\n",
       "   u'helm_notation': None,\n",
       "   u'indication_class': u'Anti-Inflammatory',\n",
       "   u'inorganic_flag': u'0',\n",
       "   u'max_phase': 4,\n",
       "   u'molecule_chembl_id': u'CHEMBL6',\n",
       "   u'molecule_hierarchy': {u'molecule_chembl_id': u'CHEMBL6',\n",
       "    u'parent_chembl_id': u'CHEMBL6'},\n",
       "   u'molecule_properties': {u'acd_logd': u'0.98',\n",
       "    u'acd_logp': u'4.25',\n",
       "    u'acd_most_apka': u'3.96',\n",
       "    u'acd_most_bpka': None,\n",
       "    u'alogp': u'4.24',\n",
       "    u'aromatic_rings': 3,\n",
       "    u'full_molformula': u'C19H16ClNO4',\n",
       "    u'full_mwt': u'357.79',\n",
       "    u'hba': 4,\n",
       "    u'hbd': 1,\n",
       "    u'heavy_atoms': 25,\n",
       "    u'med_chem_friendly': u'Y',\n",
       "    u'molecular_species': u'ACID',\n",
       "    u'mw_freebase': u'357.79',\n",
       "    u'mw_monoisotopic': u'357.0768',\n",
       "    u'num_alerts': 0,\n",
       "    u'num_ro5_violations': 0,\n",
       "    u'psa': u'68.53',\n",
       "    u'qed_weighted': u'0.76',\n",
       "    u'ro3_pass': u'N',\n",
       "    u'rtb': 4},\n",
       "   u'molecule_structures': {u'canonical_smiles': u'COc1ccc2c(c1)c(CC(=O)O)c(C)n2C(=O)c3ccc(Cl)cc3',\n",
       "    u'standard_inchi': u'InChI=1S/C19H16ClNO4/c1-11-15(10-18(22)23)16-9-14(25-2)7-8-17(16)21(11)19(24)12-3-5-13(20)6-4-12/h3-9H,10H2,1-2H3,(H,22,23)',\n",
       "    u'standard_inchi_key': u'CGIGDMFJXJATDK-UHFFFAOYSA-N'},\n",
       "   u'molecule_synonyms': [{u'syn_type': u'TRADE_NAME',\n",
       "     u'synonyms': u'Indo-Lemmon'},\n",
       "    {u'syn_type': u'TRADE_NAME', u'synonyms': u'Indocin'},\n",
       "    {u'syn_type': u'TRADE_NAME', u'synonyms': u'Indocin SR'},\n",
       "    {u'syn_type': u'TRADE_NAME', u'synonyms': u'Indomethacin'},\n",
       "    {u'syn_type': u'BAN', u'synonyms': u'Indometacin'},\n",
       "    {u'syn_type': u'DCF', u'synonyms': u'Indometacin'},\n",
       "    {u'syn_type': u'INN', u'synonyms': u'Indometacin'},\n",
       "    {u'syn_type': u'JAN', u'synonyms': u'Indometacin'},\n",
       "    {u'syn_type': u'FDA', u'synonyms': u'Indomethacin'},\n",
       "    {u'syn_type': u'USP', u'synonyms': u'Indomethacin'},\n",
       "    {u'syn_type': u'USAN', u'synonyms': u'Indomethacin'},\n",
       "    {u'syn_type': u'OTHER', u'synonyms': u'Indomethacin'},\n",
       "    {u'syn_type': u'JAN', u'synonyms': u'Indometacin Farnesil'}],\n",
       "   u'molecule_type': u'Small molecule',\n",
       "   u'natural_product': u'0',\n",
       "   u'oral': True,\n",
       "   u'parenteral': True,\n",
       "   u'polymer_flag': False,\n",
       "   u'pref_name': u'INDOMETHACIN',\n",
       "   u'prodrug': u'0',\n",
       "   u'structure_type': u'MOL',\n",
       "   u'therapeutic_flag': True,\n",
       "   u'topical': True,\n",
       "   u'usan_stem': None,\n",
       "   u'usan_stem_definition': None,\n",
       "   u'usan_substem': None,\n",
       "   u'usan_year': 1963},\n",
       "  {u'atc_classifications': [u'J01CG01'],\n",
       "   u'availability_type': u'1',\n",
       "   u'biotherapeutic': None,\n",
       "   u'black_box_warning': u'0',\n",
       "   u'chebi_par_id': 9321,\n",
       "   u'chirality': u'1',\n",
       "   u'dosed_ingredient': False,\n",
       "   u'first_approval': 1986,\n",
       "   u'first_in_class': u'0',\n",
       "   u'helm_notation': None,\n",
       "   u'indication_class': None,\n",
       "   u'inorganic_flag': u'0',\n",
       "   u'max_phase': 4,\n",
       "   u'molecule_chembl_id': u'CHEMBL403',\n",
       "   u'molecule_hierarchy': {u'molecule_chembl_id': u'CHEMBL403',\n",
       "    u'parent_chembl_id': u'CHEMBL403'},\n",
       "   u'molecule_properties': {u'acd_logd': u'-3.33',\n",
       "    u'acd_logp': u'0.39',\n",
       "    u'acd_most_apka': u'2.62',\n",
       "    u'acd_most_bpka': None,\n",
       "    u'alogp': u'-0.67',\n",
       "    u'aromatic_rings': 0,\n",
       "    u'full_molformula': u'C8H11NO5S',\n",
       "    u'full_mwt': u'233.24',\n",
       "    u'hba': 5,\n",
       "    u'hbd': 1,\n",
       "    u'heavy_atoms': 15,\n",
       "    u'med_chem_friendly': u'Y',\n",
       "    u'molecular_species': u'ACID',\n",
       "    u'mw_freebase': u'233.24',\n",
       "    u'mw_monoisotopic': u'233.0358',\n",
       "    u'num_alerts': 1,\n",
       "    u'num_ro5_violations': 0,\n",
       "    u'psa': u'100.13',\n",
       "    u'qed_weighted': u'0.61',\n",
       "    u'ro3_pass': u'N',\n",
       "    u'rtb': 1},\n",
       "   u'molecule_structures': {u'canonical_smiles': u'CC1(C)[C@@H](N2[C@@H](CC2=O)S1(=O)=O)C(=O)O',\n",
       "    u'standard_inchi': u'InChI=1S/C8H11NO5S/c1-8(2)6(7(11)12)9-4(10)3-5(9)15(8,13)14/h5-6H,3H2,1-2H3,(H,11,12)/t5-,6+/m1/s1',\n",
       "    u'standard_inchi_key': u'FKENQMMABCRJMK-RITPCOANSA-N'},\n",
       "   u'molecule_synonyms': [{u'syn_type': u'RESEARCH_CODE',\n",
       "     u'synonyms': u'CP-45899'},\n",
       "    {u'syn_type': u'FDA', u'synonyms': u'Sulbactam'},\n",
       "    {u'syn_type': u'BAN', u'synonyms': u'Sulbactam'},\n",
       "    {u'syn_type': u'INN', u'synonyms': u'Sulbactam'}],\n",
       "   u'molecule_type': u'Small molecule',\n",
       "   u'natural_product': u'1',\n",
       "   u'oral': False,\n",
       "   u'parenteral': True,\n",
       "   u'polymer_flag': False,\n",
       "   u'pref_name': u'SULBACTAM',\n",
       "   u'prodrug': u'0',\n",
       "   u'structure_type': u'MOL',\n",
       "   u'therapeutic_flag': True,\n",
       "   u'topical': False,\n",
       "   u'usan_stem': None,\n",
       "   u'usan_stem_definition': None,\n",
       "   u'usan_substem': None,\n",
       "   u'usan_year': 1980},\n",
       "  {u'atc_classifications': [u'J01CG02'],\n",
       "   u'availability_type': u'1',\n",
       "   u'biotherapeutic': None,\n",
       "   u'black_box_warning': u'0',\n",
       "   u'chebi_par_id': None,\n",
       "   u'chirality': u'1',\n",
       "   u'dosed_ingredient': True,\n",
       "   u'first_approval': 1993,\n",
       "   u'first_in_class': u'0',\n",
       "   u'helm_notation': None,\n",
       "   u'indication_class': u'Inhibitor (beta-lactamase)',\n",
       "   u'inorganic_flag': u'0',\n",
       "   u'max_phase': 4,\n",
       "   u'molecule_chembl_id': u'CHEMBL404',\n",
       "   u'molecule_hierarchy': {u'molecule_chembl_id': u'CHEMBL404',\n",
       "    u'parent_chembl_id': u'CHEMBL404'},\n",
       "   u'molecule_properties': {u'acd_logd': u'-3.13',\n",
       "    u'acd_logp': u'0.60',\n",
       "    u'acd_most_apka': u'2.33',\n",
       "    u'acd_most_bpka': u'0.85',\n",
       "    u'alogp': u'-1.19',\n",
       "    u'aromatic_rings': 1,\n",
       "    u'full_molformula': u'C10H12N4O5S',\n",
       "    u'full_mwt': u'300.29',\n",
       "    u'hba': 7,\n",
       "    u'hbd': 1,\n",
       "    u'heavy_atoms': 20,\n",
       "    u'med_chem_friendly': u'Y',\n",
       "    u'molecular_species': u'ACID',\n",
       "    u'mw_freebase': u'300.29',\n",
       "    u'mw_monoisotopic': u'300.0528',\n",
       "    u'num_alerts': 1,\n",
       "    u'num_ro5_violations': 0,\n",
       "    u'psa': u'130.83',\n",
       "    u'qed_weighted': u'0.69',\n",
       "    u'ro3_pass': u'N',\n",
       "    u'rtb': 3},\n",
       "   u'molecule_structures': {u'canonical_smiles': u'C[C@]1(Cn2ccnn2)[C@@H](N3[C@@H](CC3=O)S1(=O)=O)C(=O)O',\n",
       "    u'standard_inchi': u'InChI=1S/C10H12N4O5S/c1-10(5-13-3-2-11-12-13)8(9(16)17)14-6(15)4-7(14)20(10,18)19/h2-3,7-8H,4-5H2,1H3,(H,16,17)/t7-,8+,10+/m1/s1',\n",
       "    u'standard_inchi_key': u'LPQZKKCYTLCDGQ-WEDXCCLWSA-N'},\n",
       "   u'molecule_synonyms': [{u'syn_type': u'RESEARCH_CODE',\n",
       "     u'synonyms': u'CL-298741'},\n",
       "    {u'syn_type': u'FDA', u'synonyms': u'Tazobactam'},\n",
       "    {u'syn_type': u'RESEARCH_CODE', u'synonyms': u'YTR-830H'},\n",
       "    {u'syn_type': u'BAN', u'synonyms': u'Tazobactam'},\n",
       "    {u'syn_type': u'INN', u'synonyms': u'Tazobactam'},\n",
       "    {u'syn_type': u'USAN', u'synonyms': u'Tazobactam'}],\n",
       "   u'molecule_type': u'Small molecule',\n",
       "   u'natural_product': u'1',\n",
       "   u'oral': False,\n",
       "   u'parenteral': True,\n",
       "   u'polymer_flag': False,\n",
       "   u'pref_name': u'TAZOBACTAM',\n",
       "   u'prodrug': u'0',\n",
       "   u'structure_type': u'MOL',\n",
       "   u'therapeutic_flag': True,\n",
       "   u'topical': False,\n",
       "   u'usan_stem': u'-bactam',\n",
       "   u'usan_stem_definition': u'beta-lactamase inhibitors',\n",
       "   u'usan_substem': None,\n",
       "   u'usan_year': 1989},\n",
       "  {u'atc_classifications': [u'S02AA15', u'S03AA07', u'J01MA02', u'S01AE03'],\n",
       "   u'availability_type': u'1',\n",
       "   u'biotherapeutic': None,\n",
       "   u'black_box_warning': u'1',\n",
       "   u'chebi_par_id': 100241,\n",
       "   u'chirality': u'2',\n",
       "   u'dosed_ingredient': True,\n",
       "   u'first_approval': 1987,\n",
       "   u'first_in_class': u'0',\n",
       "   u'helm_notation': None,\n",
       "   u'indication_class': u'Antibacterial',\n",
       "   u'inorganic_flag': u'0',\n",
       "   u'max_phase': 4,\n",
       "   u'molecule_chembl_id': u'CHEMBL8',\n",
       "   u'molecule_hierarchy': {u'molecule_chembl_id': u'CHEMBL8',\n",
       "    u'parent_chembl_id': u'CHEMBL8'},\n",
       "   u'molecule_properties': {u'acd_logd': u'-0.29',\n",
       "    u'acd_logp': u'1.63',\n",
       "    u'acd_most_apka': u'6.43',\n",
       "    u'acd_most_bpka': u'8.68',\n",
       "    u'alogp': u'-1.27',\n",
       "    u'aromatic_rings': 1,\n",
       "    u'full_molformula': u'C17H18FN3O3',\n",
       "    u'full_mwt': u'331.34',\n",
       "    u'hba': 6,\n",
       "    u'hbd': 2,\n",
       "    u'heavy_atoms': 24,\n",
       "    u'med_chem_friendly': u'N',\n",
       "    u'molecular_species': u'ZWITTERION',\n",
       "    u'mw_freebase': u'331.34',\n",
       "    u'mw_monoisotopic': u'331.1332',\n",
       "    u'num_alerts': 1,\n",
       "    u'num_ro5_violations': 0,\n",
       "    u'psa': u'72.88',\n",
       "    u'qed_weighted': u'0.67',\n",
       "    u'ro3_pass': u'N',\n",
       "    u'rtb': 3},\n",
       "   u'molecule_structures': {u'canonical_smiles': u'OC(=O)C1=CN(C2CC2)c3cc(N4CCNCC4)c(F)cc3C1=O',\n",
       "    u'standard_inchi': u'InChI=1S/C17H18FN3O3/c18-13-7-11-14(8-15(13)20-5-3-19-4-6-20)21(10-1-2-10)9-12(16(11)22)17(23)24/h7-10,19H,1-6H2,(H,23,24)',\n",
       "    u'standard_inchi_key': u'MYSWGUAQZAJSOK-UHFFFAOYSA-N'},\n",
       "   u'molecule_synonyms': [{u'syn_type': u'RESEARCH_CODE',\n",
       "     u'synonyms': u'BAY-Q-3939'},\n",
       "    {u'syn_type': u'OTHER', u'synonyms': u'Ciloxan'},\n",
       "    {u'syn_type': u'TRADE_NAME', u'synonyms': u'Cipro'},\n",
       "    {u'syn_type': u'TRADE_NAME', u'synonyms': u'Ciprofloxacin'},\n",
       "    {u'syn_type': u'TRADE_NAME', u'synonyms': u'Ciloxan'},\n",
       "    {u'syn_type': u'TRADE_NAME', u'synonyms': u'Velmonit'},\n",
       "    {u'syn_type': u'TRADE_NAME', u'synonyms': u'Ciprobay'},\n",
       "    {u'syn_type': u'BAN', u'synonyms': u'Ciprofloxacin'},\n",
       "    {u'syn_type': u'FDA', u'synonyms': u'Ciprofloxacin'},\n",
       "    {u'syn_type': u'INN', u'synonyms': u'Ciprofloxacin'},\n",
       "    {u'syn_type': u'USP', u'synonyms': u'Ciprofloxacin'},\n",
       "    {u'syn_type': u'USAN', u'synonyms': u'Ciprofloxacin'}],\n",
       "   u'molecule_type': u'Small molecule',\n",
       "   u'natural_product': u'0',\n",
       "   u'oral': True,\n",
       "   u'parenteral': True,\n",
       "   u'polymer_flag': False,\n",
       "   u'pref_name': u'CIPROFLOXACIN',\n",
       "   u'prodrug': u'0',\n",
       "   u'structure_type': u'MOL',\n",
       "   u'therapeutic_flag': True,\n",
       "   u'topical': True,\n",
       "   u'usan_stem': u'-oxacin',\n",
       "   u'usan_stem_definition': u'antibacterials (quinolone derivatives)',\n",
       "   u'usan_substem': None,\n",
       "   u'usan_year': 1987},\n",
       "  {u'atc_classifications': [u'J01MA06', u'S01AE02'],\n",
       "   u'availability_type': u'1',\n",
       "   u'biotherapeutic': None,\n",
       "   u'black_box_warning': u'1',\n",
       "   u'chebi_par_id': 100246,\n",
       "   u'chirality': u'2',\n",
       "   u'dosed_ingredient': True,\n",
       "   u'first_approval': 1986,\n",
       "   u'first_in_class': u'0',\n",
       "   u'helm_notation': None,\n",
       "   u'indication_class': u'Antibacterial',\n",
       "   u'inorganic_flag': u'0',\n",
       "   u'max_phase': 4,\n",
       "   u'molecule_chembl_id': u'CHEMBL9',\n",
       "   u'molecule_hierarchy': {u'molecule_chembl_id': u'CHEMBL9',\n",
       "    u'parent_chembl_id': u'CHEMBL9'},\n",
       "   u'molecule_properties': {u'acd_logd': u'-0.66',\n",
       "    u'acd_logp': u'1.74',\n",
       "    u'acd_most_apka': u'0.16',\n",
       "    u'acd_most_bpka': u'8.68',\n",
       "    u'alogp': u'-1.41',\n",
       "    u'aromatic_rings': 1,\n",
       "    u'full_molformula': u'C16H18FN3O3',\n",
       "    u'full_mwt': u'319.33',\n",
       "    u'hba': 6,\n",
       "    u'hbd': 2,\n",
       "    u'heavy_atoms': 23,\n",
       "    u'med_chem_friendly': u'N',\n",
       "    u'molecular_species': u'ZWITTERION',\n",
       "    u'mw_freebase': u'319.33',\n",
       "    u'mw_monoisotopic': u'319.1332',\n",
       "    u'num_alerts': 1,\n",
       "    u'num_ro5_violations': 0,\n",
       "    u'psa': u'72.88',\n",
       "    u'qed_weighted': u'0.67',\n",
       "    u'ro3_pass': u'N',\n",
       "    u'rtb': 3},\n",
       "   u'molecule_structures': {u'canonical_smiles': u'CCN1C=C(C(=O)O)C(=O)c2cc(F)c(cc12)N3CCNCC3',\n",
       "    u'standard_inchi': u'InChI=1S/C16H18FN3O3/c1-2-19-9-11(16(22)23)15(21)10-7-12(17)14(8-13(10)19)20-5-3-18-4-6-20/h7-9,18H,2-6H2,1H3,(H,22,23)',\n",
       "    u'standard_inchi_key': u'OGJPXUAPXNRGGI-UHFFFAOYSA-N'},\n",
       "   u'molecule_synonyms': [{u'syn_type': u'TRADE_NAME',\n",
       "     u'synonyms': u'Chibroxin'},\n",
       "    {u'syn_type': u'TRADE_NAME', u'synonyms': u'Noroxin'},\n",
       "    {u'syn_type': u'TRADE_NAME', u'synonyms': u'Baccidal'},\n",
       "    {u'syn_type': u'TRADE_NAME', u'synonyms': u'Quinabic'},\n",
       "    {u'syn_type': u'OTHER', u'synonyms': u'Noroxin'},\n",
       "    {u'syn_type': u'RESEARCH_CODE', u'synonyms': u'MK-366'},\n",
       "    {u'syn_type': u'BAN', u'synonyms': u'Norfloxacin'},\n",
       "    {u'syn_type': u'FDA', u'synonyms': u'Norfloxacin'},\n",
       "    {u'syn_type': u'INN', u'synonyms': u'Norfloxacin'},\n",
       "    {u'syn_type': u'JAN', u'synonyms': u'Norfloxacin'},\n",
       "    {u'syn_type': u'USP', u'synonyms': u'Norfloxacin'},\n",
       "    {u'syn_type': u'USAN', u'synonyms': u'Norfloxacin'}],\n",
       "   u'molecule_type': u'Small molecule',\n",
       "   u'natural_product': u'0',\n",
       "   u'oral': True,\n",
       "   u'parenteral': False,\n",
       "   u'polymer_flag': False,\n",
       "   u'pref_name': u'NORFLOXACIN',\n",
       "   u'prodrug': u'0',\n",
       "   u'structure_type': u'MOL',\n",
       "   u'therapeutic_flag': True,\n",
       "   u'topical': True,\n",
       "   u'usan_stem': u'-oxacin',\n",
       "   u'usan_stem_definition': u'antibacterials (quinolone derivatives)',\n",
       "   u'usan_substem': None,\n",
       "   u'usan_year': 1984},\n",
       "  {u'atc_classifications': [u'N06BA01'],\n",
       "   u'availability_type': u'1',\n",
       "   u'biotherapeutic': None,\n",
       "   u'black_box_warning': u'1',\n",
       "   u'chebi_par_id': 2679,\n",
       "   u'chirality': u'0',\n",
       "   u'dosed_ingredient': True,\n",
       "   u'first_approval': 1955,\n",
       "   u'first_in_class': u'0',\n",
       "   u'helm_notation': None,\n",
       "   u'indication_class': None,\n",
       "   u'inorganic_flag': u'0',\n",
       "   u'max_phase': 4,\n",
       "   u'molecule_chembl_id': u'CHEMBL405',\n",
       "   u'molecule_hierarchy': {u'molecule_chembl_id': u'CHEMBL405',\n",
       "    u'parent_chembl_id': u'CHEMBL405'},\n",
       "   u'molecule_properties': {u'acd_logd': u'-0.65',\n",
       "    u'acd_logp': u'1.79',\n",
       "    u'acd_most_apka': None,\n",
       "    u'acd_most_bpka': u'9.94',\n",
       "    u'alogp': u'1.63',\n",
       "    u'aromatic_rings': 1,\n",
       "    u'full_molformula': u'C9H13N',\n",
       "    u'full_mwt': u'135.21',\n",
       "    u'hba': 1,\n",
       "    u'hbd': 1,\n",
       "    u'heavy_atoms': 10,\n",
       "    u'med_chem_friendly': u'Y',\n",
       "    u'molecular_species': u'BASE',\n",
       "    u'mw_freebase': u'135.21',\n",
       "    u'mw_monoisotopic': u'135.1048',\n",
       "    u'num_alerts': 0,\n",
       "    u'num_ro5_violations': 0,\n",
       "    u'psa': u'26.02',\n",
       "    u'qed_weighted': u'0.66',\n",
       "    u'ro3_pass': u'Y',\n",
       "    u'rtb': 2},\n",
       "   u'molecule_structures': {u'canonical_smiles': u'CC(N)Cc1ccccc1',\n",
       "    u'standard_inchi': u'InChI=1S/C9H13N/c1-8(10)7-9-5-3-2-4-6-9/h2-6,8H,7,10H2,1H3',\n",
       "    u'standard_inchi_key': u'KWTSXDURSIMDCE-UHFFFAOYSA-N'},\n",
       "   u'molecule_synonyms': [{u'syn_type': u'FDA', u'synonyms': u'Amphetamine'},\n",
       "    {u'syn_type': u'USAN', u'synonyms': u'Amphetamine'},\n",
       "    {u'syn_type': u'INN', u'synonyms': u'Amphetamine'},\n",
       "    {u'syn_type': u'INN', u'synonyms': u'Amfetamine'},\n",
       "    {u'syn_type': u'OTHER', u'synonyms': u'Amphetamine'},\n",
       "    {u'syn_type': u'FDA', u'synonyms': u'Amphetamine resin complex'}],\n",
       "   u'molecule_type': u'Small molecule',\n",
       "   u'natural_product': u'0',\n",
       "   u'oral': True,\n",
       "   u'parenteral': False,\n",
       "   u'polymer_flag': False,\n",
       "   u'pref_name': u'AMPHETAMINE',\n",
       "   u'prodrug': u'0',\n",
       "   u'structure_type': u'MOL',\n",
       "   u'therapeutic_flag': True,\n",
       "   u'topical': False,\n",
       "   u'usan_stem': None,\n",
       "   u'usan_stem_definition': None,\n",
       "   u'usan_substem': None,\n",
       "   u'usan_year': None},\n",
       "  {u'atc_classifications': [u'C05AE02', u'C01DA08', u'C01DA58'],\n",
       "   u'availability_type': u'1',\n",
       "   u'biotherapeutic': None,\n",
       "   u'black_box_warning': u'0',\n",
       "   u'chebi_par_id': 6061,\n",
       "   u'chirality': u'1',\n",
       "   u'dosed_ingredient': True,\n",
       "   u'first_approval': 1986,\n",
       "   u'first_in_class': u'0',\n",
       "   u'helm_notation': None,\n",
       "   u'indication_class': u'Vasodilator (coronary)',\n",
       "   u'inorganic_flag': u'0',\n",
       "   u'max_phase': 4,\n",
       "   u'molecule_chembl_id': u'CHEMBL6622',\n",
       "   u'molecule_hierarchy': {u'molecule_chembl_id': u'CHEMBL6622',\n",
       "    u'parent_chembl_id': u'CHEMBL6622'},\n",
       "   u'molecule_properties': {u'acd_logd': u'0.95',\n",
       "    u'acd_logp': u'0.95',\n",
       "    u'acd_most_apka': None,\n",
       "    u'acd_most_bpka': None,\n",
       "    u'alogp': u'3.41',\n",
       "    u'aromatic_rings': 0,\n",
       "    u'full_molformula': u'C6H8N2O8',\n",
       "    u'full_mwt': u'236.14',\n",
       "    u'hba': 8,\n",
       "    u'hbd': 0,\n",
       "    u'heavy_atoms': 16,\n",
       "    u'med_chem_friendly': u'N',\n",
       "    u'molecular_species': None,\n",
       "    u'mw_freebase': u'236.14',\n",
       "    u'mw_monoisotopic': u'236.0281',\n",
       "    u'num_alerts': 2,\n",
       "    u'num_ro5_violations': 0,\n",
       "    u'psa': u'128.56',\n",
       "    u'qed_weighted': u'0.54',\n",
       "    u'ro3_pass': u'N',\n",
       "    u'rtb': 4},\n",
       "   u'molecule_structures': {u'canonical_smiles': u'[O-][N+](=O)O[C@H]1CO[C@@H]2[C@@H](CO[C@H]12)O[N+](=O)[O-]',\n",
       "    u'standard_inchi': u'InChI=1S/C6H8N2O8/c9-7(10)15-3-1-13-6-4(16-8(11)12)2-14-5(3)6/h3-6H,1-2H2/t3-,4+,5-,6-/m1/s1',\n",
       "    u'standard_inchi_key': u'MOYKHGMNXAOIAT-JGWLITMVSA-N'},\n",
       "   u'molecule_synonyms': [{u'syn_type': u'TRADE_NAME',\n",
       "     u'synonyms': u'Isordil'},\n",
       "    {u'syn_type': u'TRADE_NAME', u'synonyms': u'Dilatrate-Sr'},\n",
       "    {u'syn_type': u'TRADE_NAME', u'synonyms': u'Isosorbide Dinitrate'},\n",
       "    {u'syn_type': u'TRADE_NAME', u'synonyms': u'Sorbitrate'},\n",
       "    {u'syn_type': u'TRADE_NAME', u'synonyms': u'Dilatrate'},\n",
       "    {u'syn_type': u'OTHER', u'synonyms': u'Sorbide Nitrate'},\n",
       "    {u'syn_type': u'BAN', u'synonyms': u'Isosorbide Dinitrate'},\n",
       "    {u'syn_type': u'FDA', u'synonyms': u'Isosorbide Dinitrate'},\n",
       "    {u'syn_type': u'INN', u'synonyms': u'Isosorbide Dinitrate'},\n",
       "    {u'syn_type': u'JAN', u'synonyms': u'Isosorbide Dinitrate'},\n",
       "    {u'syn_type': u'USP', u'synonyms': u'Isosorbide Dinitrate'},\n",
       "    {u'syn_type': u'USAN', u'synonyms': u'Isosorbide Dinitrate'}],\n",
       "   u'molecule_type': u'Small molecule',\n",
       "   u'natural_product': u'1',\n",
       "   u'oral': True,\n",
       "   u'parenteral': False,\n",
       "   u'polymer_flag': False,\n",
       "   u'pref_name': u'ISOSORBIDE DINITRATE',\n",
       "   u'prodrug': u'1',\n",
       "   u'structure_type': u'MOL',\n",
       "   u'therapeutic_flag': True,\n",
       "   u'topical': True,\n",
       "   u'usan_stem': None,\n",
       "   u'usan_stem_definition': None,\n",
       "   u'usan_substem': None,\n",
       "   u'usan_year': 1966},\n",
       "  {u'atc_classifications': [u'N06AA02'],\n",
       "   u'availability_type': u'1',\n",
       "   u'biotherapeutic': None,\n",
       "   u'black_box_warning': u'1',\n",
       "   u'chebi_par_id': 47499,\n",
       "   u'chirality': u'2',\n",
       "   u'dosed_ingredient': False,\n",
       "   u'first_approval': 1959,\n",
       "   u'first_in_class': u'0',\n",
       "   u'helm_notation': None,\n",
       "   u'indication_class': None,\n",
       "   u'inorganic_flag': u'0',\n",
       "   u'max_phase': 4,\n",
       "   u'molecule_chembl_id': u'CHEMBL11',\n",
       "   u'molecule_hierarchy': {u'molecule_chembl_id': u'CHEMBL11',\n",
       "    u'parent_chembl_id': u'CHEMBL11'},\n",
       "   u'molecule_properties': {u'acd_logd': u'2.35',\n",
       "    u'acd_logp': u'4.36',\n",
       "    u'acd_most_apka': None,\n",
       "    u'acd_most_bpka': u'9.49',\n",
       "    u'alogp': u'4.39',\n",
       "    u'aromatic_rings': 2,\n",
       "    u'full_molformula': u'C19H24N2',\n",
       "    u'full_mwt': u'280.41',\n",
       "    u'hba': 2,\n",
       "    u'hbd': 0,\n",
       "    u'heavy_atoms': 21,\n",
       "    u'med_chem_friendly': u'Y',\n",
       "    u'molecular_species': u'BASE',\n",
       "    u'mw_freebase': u'280.41',\n",
       "    u'mw_monoisotopic': u'280.1939',\n",
       "    u'num_alerts': 0,\n",
       "    u'num_ro5_violations': 0,\n",
       "    u'psa': u'6.48',\n",
       "    u'qed_weighted': u'0.82',\n",
       "    u'ro3_pass': u'N',\n",
       "    u'rtb': 4},\n",
       "   u'molecule_structures': {u'canonical_smiles': u'CN(C)CCCN1c2ccccc2CCc3ccccc13',\n",
       "    u'standard_inchi': u'InChI=1S/C19H24N2/c1-20(2)14-7-15-21-18-10-5-3-8-16(18)12-13-17-9-4-6-11-19(17)21/h3-6,8-11H,7,12-15H2,1-2H3',\n",
       "    u'standard_inchi_key': u'BCGWQEUPMDMJNV-UHFFFAOYSA-N'},\n",
       "   u'molecule_synonyms': [{u'syn_type': u'FDA', u'synonyms': u'Imipramine'},\n",
       "    {u'syn_type': u'OTHER', u'synonyms': u'Janimine'},\n",
       "    {u'syn_type': u'OTHER', u'synonyms': u'Pramine'},\n",
       "    {u'syn_type': u'OTHER', u'synonyms': u'Presamine'},\n",
       "    {u'syn_type': u'OTHER', u'synonyms': u'Tofranil'},\n",
       "    {u'syn_type': u'OTHER', u'synonyms': u'Tofranil-PM'},\n",
       "    {u'syn_type': u'TRADE_NAME', u'synonyms': u'Tofranil'},\n",
       "    {u'syn_type': u'TRADE_NAME', u'synonyms': u'Tofranil-Pm'},\n",
       "    {u'syn_type': u'BAN', u'synonyms': u'Imipramine'},\n",
       "    {u'syn_type': u'INN', u'synonyms': u'Imipramine'}],\n",
       "   u'molecule_type': u'Small molecule',\n",
       "   u'natural_product': u'0',\n",
       "   u'oral': True,\n",
       "   u'parenteral': True,\n",
       "   u'polymer_flag': False,\n",
       "   u'pref_name': u'IMIPRAMINE',\n",
       "   u'prodrug': u'0',\n",
       "   u'structure_type': u'MOL',\n",
       "   u'therapeutic_flag': True,\n",
       "   u'topical': False,\n",
       "   u'usan_stem': None,\n",
       "   u'usan_stem_definition': None,\n",
       "   u'usan_substem': None,\n",
       "   u'usan_year': None},\n",
       "  {u'atc_classifications': [u'C03BA11'],\n",
       "   u'availability_type': u'1',\n",
       "   u'biotherapeutic': None,\n",
       "   u'black_box_warning': u'0',\n",
       "   u'chebi_par_id': 5893,\n",
       "   u'chirality': u'0',\n",
       "   u'dosed_ingredient': True,\n",
       "   u'first_approval': 1983,\n",
       "   u'first_in_class': u'0',\n",
       "   u'helm_notation': None,\n",
       "   u'indication_class': u'Antihypertensive; Diuretic',\n",
       "   u'inorganic_flag': u'0',\n",
       "   u'max_phase': 4,\n",
       "   u'molecule_chembl_id': u'CHEMBL406',\n",
       "   u'molecule_hierarchy': {u'molecule_chembl_id': u'CHEMBL406',\n",
       "    u'parent_chembl_id': u'CHEMBL406'},\n",
       "   u'molecule_properties': {u'acd_logd': u'1.96',\n",
       "    u'acd_logp': u'1.96',\n",
       "    u'acd_most_apka': u'9.35',\n",
       "    u'acd_most_bpka': u'1.87',\n",
       "    u'alogp': u'2.66',\n",
       "    u'aromatic_rings': 2,\n",
       "    u'full_molformula': u'C16H16ClN3O3S',\n",
       "    u'full_mwt': u'365.83',\n",
       "    u'hba': 4,\n",
       "    u'hbd': 2,\n",
       "    u'heavy_atoms': 24,\n",
       "    u'med_chem_friendly': u'Y',\n",
       "    u'molecular_species': u'NEUTRAL',\n",
       "    u'mw_freebase': u'365.83',\n",
       "    u'mw_monoisotopic': u'365.0601',\n",
       "    u'num_alerts': 0,\n",
       "    u'num_ro5_violations': 0,\n",
       "    u'psa': u'100.88',\n",
       "    u'qed_weighted': u'0.87',\n",
       "    u'ro3_pass': u'N',\n",
       "    u'rtb': 3},\n",
       "   u'molecule_structures': {u'canonical_smiles': u'CC1Cc2ccccc2N1NC(=O)c3ccc(Cl)c(c3)S(=O)(=O)N',\n",
       "    u'standard_inchi': u'InChI=1S/C16H16ClN3O3S/c1-10-8-11-4-2-3-5-14(11)20(10)19-16(21)12-6-7-13(17)15(9-12)24(18,22)23/h2-7,9-10H,8H2,1H3,(H,19,21)(H2,18,22,23)',\n",
       "    u'standard_inchi_key': u'NDDAHWYSQHTHNT-UHFFFAOYSA-N'},\n",
       "   u'molecule_synonyms': [{u'syn_type': u'TRADE_NAME',\n",
       "     u'synonyms': u'Indapamide'},\n",
       "    {u'syn_type': u'TRADE_NAME', u'synonyms': u'Lozol'},\n",
       "    {u'syn_type': u'BAN', u'synonyms': u'Indapamide'},\n",
       "    {u'syn_type': u'FDA', u'synonyms': u'Indapamide'},\n",
       "    {u'syn_type': u'INN', u'synonyms': u'Indapamide'},\n",
       "    {u'syn_type': u'JAN', u'synonyms': u'Indapamide'},\n",
       "    {u'syn_type': u'USP', u'synonyms': u'Indapamide'},\n",
       "    {u'syn_type': u'USAN', u'synonyms': u'Indapamide'}],\n",
       "   u'molecule_type': u'Small molecule',\n",
       "   u'natural_product': u'0',\n",
       "   u'oral': True,\n",
       "   u'parenteral': False,\n",
       "   u'polymer_flag': False,\n",
       "   u'pref_name': u'INDAPAMIDE',\n",
       "   u'prodrug': u'0',\n",
       "   u'structure_type': u'MOL',\n",
       "   u'therapeutic_flag': True,\n",
       "   u'topical': False,\n",
       "   u'usan_stem': u'-pamide',\n",
       "   u'usan_stem_definition': u'diuretics (sulfamoylbenzoic acid derivatives)',\n",
       "   u'usan_substem': None,\n",
       "   u'usan_year': 1979},\n",
       "  {u'atc_classifications': [u'V03AB25'],\n",
       "   u'availability_type': u'1',\n",
       "   u'biotherapeutic': None,\n",
       "   u'black_box_warning': u'1',\n",
       "   u'chebi_par_id': 5103,\n",
       "   u'chirality': u'2',\n",
       "   u'dosed_ingredient': True,\n",
       "   u'first_approval': 1991,\n",
       "   u'first_in_class': u'0',\n",
       "   u'helm_notation': None,\n",
       "   u'indication_class': u'Antagonist (to benzodiazepine)',\n",
       "   u'inorganic_flag': u'0',\n",
       "   u'max_phase': 4,\n",
       "   u'molecule_chembl_id': u'CHEMBL407',\n",
       "   u'molecule_hierarchy': {u'molecule_chembl_id': u'CHEMBL407',\n",
       "    u'parent_chembl_id': u'CHEMBL407'},\n",
       "   u'molecule_properties': {u'acd_logd': u'2.15',\n",
       "    u'acd_logp': u'2.15',\n",
       "    u'acd_most_apka': None,\n",
       "    u'acd_most_bpka': u'0.86',\n",
       "    u'alogp': u'1.58',\n",
       "    u'aromatic_rings': 2,\n",
       "    u'full_molformula': u'C15H14FN3O3',\n",
       "    u'full_mwt': u'303.29',\n",
       "    u'hba': 4,\n",
       "    u'hbd': 0,\n",
       "    u'heavy_atoms': 22,\n",
       "    u'med_chem_friendly': u'Y',\n",
       "    u'molecular_species': u'NEUTRAL',\n",
       "    u'mw_freebase': u'303.29',\n",
       "    u'mw_monoisotopic': u'303.1019',\n",
       "    u'num_alerts': 1,\n",
       "    u'num_ro5_violations': 0,\n",
       "    u'psa': u'64.43',\n",
       "    u'qed_weighted': u'0.81',\n",
       "    u'ro3_pass': u'N',\n",
       "    u'rtb': 3},\n",
       "   u'molecule_structures': {u'canonical_smiles': u'CCOC(=O)c1ncn2c1CN(C)C(=O)c3cc(F)ccc23',\n",
       "    u'standard_inchi': u'InChI=1S/C15H14FN3O3/c1-3-22-15(21)13-12-7-18(2)14(20)10-6-9(16)4-5-11(10)19(12)8-17-13/h4-6,8H,3,7H2,1-2H3',\n",
       "    u'standard_inchi_key': u'OFBIFZUFASYYRE-UHFFFAOYSA-N'},\n",
       "   u'molecule_synonyms': [{u'syn_type': u'TRADE_NAME',\n",
       "     u'synonyms': u'Flumazenil'},\n",
       "    {u'syn_type': u'RESEARCH_CODE', u'synonyms': u'Ro-151788'},\n",
       "    {u'syn_type': u'TRADE_NAME', u'synonyms': u'Romazicon'},\n",
       "    {u'syn_type': u'TRADE_NAME', u'synonyms': u'Anexate'},\n",
       "    {u'syn_type': u'TRADE_NAME', u'synonyms': u'Flumazepil'},\n",
       "    {u'syn_type': u'TRADE_NAME', u'synonyms': u'Mazicon'},\n",
       "    {u'syn_type': u'BAN', u'synonyms': u'Flumazenil'},\n",
       "    {u'syn_type': u'FDA', u'synonyms': u'Flumazenil'},\n",
       "    {u'syn_type': u'INN', u'synonyms': u'Flumazenil'},\n",
       "    {u'syn_type': u'USP', u'synonyms': u'Flumazenil'},\n",
       "    {u'syn_type': u'USAN', u'synonyms': u'Flumazenil'},\n",
       "    {u'syn_type': u'OTHER', u'synonyms': u'Flumazepil'},\n",
       "    {u'syn_type': u'RESEARCH_CODE', u'synonyms': u'Ro-151788000'}],\n",
       "   u'molecule_type': u'Small molecule',\n",
       "   u'natural_product': u'0',\n",
       "   u'oral': False,\n",
       "   u'parenteral': True,\n",
       "   u'polymer_flag': False,\n",
       "   u'pref_name': u'FLUMAZENIL',\n",
       "   u'prodrug': u'0',\n",
       "   u'structure_type': u'MOL',\n",
       "   u'therapeutic_flag': True,\n",
       "   u'topical': False,\n",
       "   u'usan_stem': u'-azenil',\n",
       "   u'usan_stem_definition': u'benzodiazepine receptor agonists/antagonists (benzodiazepine derivatives)',\n",
       "   u'usan_substem': None,\n",
       "   u'usan_year': 1987},\n",
       "  {u'atc_classifications': [u'A10BG01'],\n",
       "   u'availability_type': u'0',\n",
       "   u'biotherapeutic': None,\n",
       "   u'black_box_warning': u'0',\n",
       "   u'chebi_par_id': 9753,\n",
       "   u'chirality': u'0',\n",
       "   u'dosed_ingredient': True,\n",
       "   u'first_approval': 1997,\n",
       "   u'first_in_class': u'0',\n",
       "   u'helm_notation': None,\n",
       "   u'indication_class': u'Antidiabetic',\n",
       "   u'inorganic_flag': u'0',\n",
       "   u'max_phase': 4,\n",
       "   u'molecule_chembl_id': u'CHEMBL408',\n",
       "   u'molecule_hierarchy': {u'molecule_chembl_id': u'CHEMBL408',\n",
       "    u'parent_chembl_id': u'CHEMBL408'},\n",
       "   u'molecule_properties': {u'acd_logd': u'3.65',\n",
       "    u'acd_logp': u'4.69',\n",
       "    u'acd_most_apka': u'6.35',\n",
       "    u'acd_most_bpka': None,\n",
       "    u'alogp': u'5.68',\n",
       "    u'aromatic_rings': 2,\n",
       "    u'full_molformula': u'C24H27NO5S',\n",
       "    u'full_mwt': u'441.54',\n",
       "    u'hba': 6,\n",
       "    u'hbd': 2,\n",
       "    u'heavy_atoms': 31,\n",
       "    u'med_chem_friendly': u'Y',\n",
       "    u'molecular_species': u'ACID',\n",
       "    u'mw_freebase': u'441.54',\n",
       "    u'mw_monoisotopic': u'441.1610',\n",
       "    u'num_alerts': 0,\n",
       "    u'num_ro5_violations': 1,\n",
       "    u'psa': u'110.16',\n",
       "    u'qed_weighted': u'0.62',\n",
       "    u'ro3_pass': u'N',\n",
       "    u'rtb': 5},\n",
       "   u'molecule_structures': {u'canonical_smiles': u'Cc1c(C)c2OC(C)(COc3ccc(CC4SC(=O)NC4=O)cc3)CCc2c(C)c1O',\n",
       "    u'standard_inchi': u'InChI=1S/C24H27NO5S/c1-13-14(2)21-18(15(3)20(13)26)9-10-24(4,30-21)12-29-17-7-5-16(6-8-17)11-19-22(27)25-23(28)31-19/h5-8,19,26H,9-12H2,1-4H3,(H,25,27,28)',\n",
       "    u'standard_inchi_key': u'GXPHKUHSUJUWKP-UHFFFAOYSA-N'},\n",
       "   u'molecule_synonyms': [{u'syn_type': u'RESEARCH_CODE',\n",
       "     u'synonyms': u'GR-92132X'},\n",
       "    {u'syn_type': u'TRADE_NAME', u'synonyms': u'Prelay'},\n",
       "    {u'syn_type': u'TRADE_NAME', u'synonyms': u'Rezulin'},\n",
       "    {u'syn_type': u'OTHER', u'synonyms': u'Rezulin'},\n",
       "    {u'syn_type': u'RESEARCH_CODE', u'synonyms': u'CI-991'},\n",
       "    {u'syn_type': u'RESEARCH_CODE', u'synonyms': u'CS-045'},\n",
       "    {u'syn_type': u'RESEARCH_CODE', u'synonyms': u'Gr92132X'},\n",
       "    {u'syn_type': u'BAN', u'synonyms': u'Troglitazone'},\n",
       "    {u'syn_type': u'FDA', u'synonyms': u'Troglitazone'},\n",
       "    {u'syn_type': u'INN', u'synonyms': u'Troglitazone'},\n",
       "    {u'syn_type': u'USAN', u'synonyms': u'Troglitazone'}],\n",
       "   u'molecule_type': u'Small molecule',\n",
       "   u'natural_product': u'0',\n",
       "   u'oral': True,\n",
       "   u'parenteral': False,\n",
       "   u'polymer_flag': False,\n",
       "   u'pref_name': u'TROGLITAZONE',\n",
       "   u'prodrug': u'0',\n",
       "   u'structure_type': u'MOL',\n",
       "   u'therapeutic_flag': True,\n",
       "   u'topical': False,\n",
       "   u'usan_stem': u'-glitazone',\n",
       "   u'usan_stem_definition': u'PPST agonists (thiazolidene derivatives)',\n",
       "   u'usan_substem': None,\n",
       "   u'usan_year': 1995},\n",
       "  {u'atc_classifications': [u'L02BB03'],\n",
       "   u'availability_type': u'1',\n",
       "   u'biotherapeutic': None,\n",
       "   u'black_box_warning': u'0',\n",
       "   u'chebi_par_id': None,\n",
       "   u'chirality': u'0',\n",
       "   u'dosed_ingredient': True,\n",
       "   u'first_approval': 1995,\n",
       "   u'first_in_class': u'0',\n",
       "   u'helm_notation': None,\n",
       "   u'indication_class': u'Antineoplastic',\n",
       "   u'inorganic_flag': u'0',\n",
       "   u'max_phase': 4,\n",
       "   u'molecule_chembl_id': u'CHEMBL409',\n",
       "   u'molecule_hierarchy': {u'molecule_chembl_id': u'CHEMBL409',\n",
       "    u'parent_chembl_id': u'CHEMBL409'},\n",
       "   u'molecule_properties': {u'acd_logd': u'4.14',\n",
       "    u'acd_logp': u'4.14',\n",
       "    u'acd_most_apka': u'11.49',\n",
       "    u'acd_most_bpka': None,\n",
       "    u'alogp': u'2.93',\n",
       "    u'aromatic_rings': 2,\n",
       "    u'full_molformula': u'C18H14F4N2O4S',\n",
       "    u'full_mwt': u'430.37',\n",
       "    u'hba': 5,\n",
       "    u'hbd': 2,\n",
       "    u'heavy_atoms': 29,\n",
       "    u'med_chem_friendly': u'Y',\n",
       "    u'molecular_species': u'NEUTRAL',\n",
       "    u'mw_freebase': u'430.37',\n",
       "    u'mw_monoisotopic': u'430.0610',\n",
       "    u'num_alerts': 2,\n",
       "    u'num_ro5_violations': 0,\n",
       "    u'psa': u'115.64',\n",
       "    u'qed_weighted': u'0.54',\n",
       "    u'ro3_pass': u'N',\n",
       "    u'rtb': 6},\n",
       "   u'molecule_structures': {u'canonical_smiles': u'CC(O)(CS(=O)(=O)c1ccc(F)cc1)C(=O)Nc2ccc(C#N)c(c2)C(F)(F)F',\n",
       "    u'standard_inchi': u'InChI=1S/C18H14F4N2O4S/c1-17(26,10-29(27,28)14-6-3-12(19)4-7-14)16(25)24-13-5-2-11(9-23)15(8-13)18(20,21)22/h2-8,26H,10H2,1H3,(H,24,25)',\n",
       "    u'standard_inchi_key': u'LKJPYSCBVHEWIU-UHFFFAOYSA-N'},\n",
       "   u'molecule_synonyms': [{u'syn_type': u'TRADE_NAME',\n",
       "     u'synonyms': u'Casodex'},\n",
       "    {u'syn_type': u'TRADE_NAME', u'synonyms': u'Cosudex'},\n",
       "    {u'syn_type': u'TRADE_NAME', u'synonyms': u'Calutide'},\n",
       "    {u'syn_type': u'TRADE_NAME', u'synonyms': u'Kalumid'},\n",
       "    {u'syn_type': u'OTHER', u'synonyms': u'Casodex'},\n",
       "    {u'syn_type': u'TRADE_NAME', u'synonyms': u'Bicalutamide'},\n",
       "    {u'syn_type': u'RESEARCH_CODE', u'synonyms': u'ICI-176334'},\n",
       "    {u'syn_type': u'BAN', u'synonyms': u'Bicalutamide'},\n",
       "    {u'syn_type': u'FDA', u'synonyms': u'Bicalutamide'},\n",
       "    {u'syn_type': u'INN', u'synonyms': u'Bicalutamide'},\n",
       "    {u'syn_type': u'USAN', u'synonyms': u'Bicalutamide'}],\n",
       "   u'molecule_type': u'Small molecule',\n",
       "   u'natural_product': u'0',\n",
       "   u'oral': True,\n",
       "   u'parenteral': False,\n",
       "   u'polymer_flag': False,\n",
       "   u'pref_name': u'BICALUTAMIDE',\n",
       "   u'prodrug': u'0',\n",
       "   u'structure_type': u'MOL',\n",
       "   u'therapeutic_flag': True,\n",
       "   u'topical': False,\n",
       "   u'usan_stem': u'-lutamide',\n",
       "   u'usan_stem_definition': u'non-steroid antiandrogens',\n",
       "   u'usan_substem': None,\n",
       "   u'usan_year': 1994},\n",
       "  {u'atc_classifications': [u'N05BA01'],\n",
       "   u'availability_type': u'1',\n",
       "   u'biotherapeutic': None,\n",
       "   u'black_box_warning': u'0',\n",
       "   u'chebi_par_id': 49575,\n",
       "   u'chirality': u'2',\n",
       "   u'dosed_ingredient': True,\n",
       "   u'first_approval': 1963,\n",
       "   u'first_in_class': u'0',\n",
       "   u'helm_notation': None,\n",
       "   u'indication_class': u'Sedative-Hypnotic',\n",
       "   u'inorganic_flag': u'0',\n",
       "   u'max_phase': 4,\n",
       "   u'molecule_chembl_id': u'CHEMBL12',\n",
       "   u'molecule_hierarchy': {u'molecule_chembl_id': u'CHEMBL12',\n",
       "    u'parent_chembl_id': u'CHEMBL12'},\n",
       "   u'molecule_properties': {u'acd_logd': u'2.80',\n",
       "    u'acd_logp': u'2.80',\n",
       "    u'acd_most_apka': None,\n",
       "    u'acd_most_bpka': u'3.40',\n",
       "    u'alogp': u'3.17',\n",
       "    u'aromatic_rings': 2,\n",
       "    u'full_molformula': u'C16H13ClN2O',\n",
       "    u'full_mwt': u'284.74',\n",
       "    u'hba': 2,\n",
       "    u'hbd': 0,\n",
       "    u'heavy_atoms': 20,\n",
       "    u'med_chem_friendly': u'Y',\n",
       "    u'molecular_species': u'NEUTRAL',\n",
       "    u'mw_freebase': u'284.74',\n",
       "    u'mw_monoisotopic': u'284.0716',\n",
       "    u'num_alerts': 0,\n",
       "    u'num_ro5_violations': 0,\n",
       "    u'psa': u'32.67',\n",
       "    u'qed_weighted': u'0.81',\n",
       "    u'ro3_pass': u'N',\n",
       "    u'rtb': 1},\n",
       "   u'molecule_structures': {u'canonical_smiles': u'CN1C(=O)CN=C(c2ccccc2)c3cc(Cl)ccc13',\n",
       "    u'standard_inchi': u'InChI=1S/C16H13ClN2O/c1-19-14-8-7-12(17)9-13(14)16(18-10-15(19)20)11-5-3-2-4-6-11/h2-9H,10H2,1H3',\n",
       "    u'standard_inchi_key': u'AAOVKJBEBIDNHE-UHFFFAOYSA-N'},\n",
       "   u'molecule_synonyms': [{u'syn_type': u'TRADE_NAME',\n",
       "     u'synonyms': u'Diastat'},\n",
       "    {u'syn_type': u'TRADE_NAME', u'synonyms': u'Diastat Acudial'},\n",
       "    {u'syn_type': u'TRADE_NAME', u'synonyms': u'Diazepam'},\n",
       "    {u'syn_type': u'TRADE_NAME', u'synonyms': u'Diazepam Intensol'},\n",
       "    {u'syn_type': u'TRADE_NAME', u'synonyms': u'Dizac'},\n",
       "    {u'syn_type': u'TRADE_NAME', u'synonyms': u'Q-Pam'},\n",
       "    {u'syn_type': u'TRADE_NAME', u'synonyms': u'Valium'},\n",
       "    {u'syn_type': u'TRADE_NAME', u'synonyms': u'Valrelease'},\n",
       "    {u'syn_type': u'TRADE_NAME', u'synonyms': u'Apozepam'},\n",
       "    {u'syn_type': u'TRADE_NAME', u'synonyms': u'E-Pam'},\n",
       "    {u'syn_type': u'TRADE_NAME', u'synonyms': u'Paxel'},\n",
       "    {u'syn_type': u'TRADE_NAME', u'synonyms': u'Relanium'},\n",
       "    {u'syn_type': u'TRADE_NAME', u'synonyms': u'Scriptopam'},\n",
       "    {u'syn_type': u'TRADE_NAME', u'synonyms': u'Serenack'},\n",
       "    {u'syn_type': u'TRADE_NAME', u'synonyms': u'Stesolid'},\n",
       "    {u'syn_type': u'TRADE_NAME', u'synonyms': u'Tranimul'},\n",
       "    {u'syn_type': u'TRADE_NAME', u'synonyms': u'Vivol'},\n",
       "    {u'syn_type': u'RESEARCH_CODE', u'synonyms': u'LA-III'},\n",
       "    {u'syn_type': u'RESEARCH_CODE', u'synonyms': u'WY-3467'},\n",
       "    {u'syn_type': u'BAN', u'synonyms': u'Diazepam'},\n",
       "    {u'syn_type': u'FDA', u'synonyms': u'Diazepam'},\n",
       "    {u'syn_type': u'INN', u'synonyms': u'Diazepam'},\n",
       "    {u'syn_type': u'JAN', u'synonyms': u'Diazepam'},\n",
       "    {u'syn_type': u'USP', u'synonyms': u'Diazepam'},\n",
       "    {u'syn_type': u'USAN', u'synonyms': u'Diazepam'},\n",
       "    {u'syn_type': u'RESEARCH_CODE', u'synonyms': u'Ro-52807'}],\n",
       "   u'molecule_type': u'Small molecule',\n",
       "   u'natural_product': u'0',\n",
       "   u'oral': True,\n",
       "   u'parenteral': True,\n",
       "   u'polymer_flag': False,\n",
       "   u'pref_name': u'DIAZEPAM',\n",
       "   u'prodrug': u'0',\n",
       "   u'structure_type': u'MOL',\n",
       "   u'therapeutic_flag': True,\n",
       "   u'topical': True,\n",
       "   u'usan_stem': u'-azepam',\n",
       "   u'usan_stem_definition': u'antianxiety agents (diazepam type)',\n",
       "   u'usan_substem': None,\n",
       "   u'usan_year': 1963},\n",
       "  {u'atc_classifications': [u'C07AB02', u'C07AB52'],\n",
       "   u'availability_type': u'1',\n",
       "   u'biotherapeutic': None,\n",
       "   u'black_box_warning': u'1',\n",
       "   u'chebi_par_id': 6904,\n",
       "   u'chirality': u'0',\n",
       "   u'dosed_ingredient': True,\n",
       "   u'first_approval': 1978,\n",
       "   u'first_in_class': u'0',\n",
       "   u'helm_notation': None,\n",
       "   u'indication_class': u'Anti-Adrenergic (beta-receptor)',\n",
       "   u'inorganic_flag': u'0',\n",
       "   u'max_phase': 4,\n",
       "   u'molecule_chembl_id': u'CHEMBL13',\n",
       "   u'molecule_hierarchy': {u'molecule_chembl_id': u'CHEMBL13',\n",
       "    u'parent_chembl_id': u'CHEMBL13'},\n",
       "   u'molecule_properties': {u'acd_logd': u'-0.47',\n",
       "    u'acd_logp': u'1.63',\n",
       "    u'acd_most_apka': u'13.89',\n",
       "    u'acd_most_bpka': u'9.43',\n",
       "    u'alogp': u'1.76',\n",
       "    u'aromatic_rings': 1,\n",
       "    u'full_molformula': u'C15H25NO3',\n",
       "    u'full_mwt': u'267.36',\n",
       "    u'hba': 4,\n",
       "    u'hbd': 2,\n",
       "    u'heavy_atoms': 19,\n",
       "    u'med_chem_friendly': u'Y',\n",
       "    u'molecular_species': u'BASE',\n",
       "    u'mw_freebase': u'267.36',\n",
       "    u'mw_monoisotopic': u'267.1834',\n",
       "    u'num_alerts': 0,\n",
       "    u'num_ro5_violations': 0,\n",
       "    u'psa': u'50.72',\n",
       "    u'qed_weighted': u'0.72',\n",
       "    u'ro3_pass': u'N',\n",
       "    u'rtb': 9},\n",
       "   u'molecule_structures': {u'canonical_smiles': u'COCCc1ccc(OCC(O)CNC(C)C)cc1',\n",
       "    u'standard_inchi': u'InChI=1S/C15H25NO3/c1-12(2)16-10-14(17)11-19-15-6-4-13(5-7-15)8-9-18-3/h4-7,12,14,16-17H,8-11H2,1-3H3',\n",
       "    u'standard_inchi_key': u'IUBSYMUCCVWXPE-UHFFFAOYSA-N'},\n",
       "   u'molecule_synonyms': [{u'syn_type': u'OTHER',\n",
       "     u'synonyms': u'Lopressidone'},\n",
       "    {u'syn_type': u'FDA', u'synonyms': u'Metoprolol'},\n",
       "    {u'syn_type': u'OTHER', u'synonyms': u'Toprol-XL'},\n",
       "    {u'syn_type': u'BAN', u'synonyms': u'Metoprolol'},\n",
       "    {u'syn_type': u'INN', u'synonyms': u'Metoprolol'},\n",
       "    {u'syn_type': u'USAN', u'synonyms': u'Metoprolol'}],\n",
       "   u'molecule_type': u'Small molecule',\n",
       "   u'natural_product': u'0',\n",
       "   u'oral': True,\n",
       "   u'parenteral': True,\n",
       "   u'polymer_flag': False,\n",
       "   u'pref_name': u'METOPROLOL',\n",
       "   u'prodrug': u'0',\n",
       "   u'structure_type': u'MOL',\n",
       "   u'therapeutic_flag': True,\n",
       "   u'topical': False,\n",
       "   u'usan_stem': u'-olol',\n",
       "   u'usan_stem_definition': u'beta-blockers (propranolol type)',\n",
       "   u'usan_substem': None,\n",
       "   u'usan_year': 1976},\n",
       "  {u'atc_classifications': [u'G03CB02', u'G03CC05', u'L02AA01'],\n",
       "   u'availability_type': u'0',\n",
       "   u'biotherapeutic': None,\n",
       "   u'black_box_warning': u'0',\n",
       "   u'chebi_par_id': 41922,\n",
       "   u'chirality': u'2',\n",
       "   u'dosed_ingredient': True,\n",
       "   u'first_approval': 1973,\n",
       "   u'first_in_class': u'0',\n",
       "   u'helm_notation': None,\n",
       "   u'indication_class': u'Estrogen',\n",
       "   u'inorganic_flag': u'0',\n",
       "   u'max_phase': 4,\n",
       "   u'molecule_chembl_id': u'CHEMBL411',\n",
       "   u'molecule_hierarchy': {u'molecule_chembl_id': u'CHEMBL411',\n",
       "    u'parent_chembl_id': u'CHEMBL411'},\n",
       "   u'molecule_properties': {u'acd_logd': u'5.33',\n",
       "    u'acd_logp': u'5.33',\n",
       "    u'acd_most_apka': u'10.19',\n",
       "    u'acd_most_bpka': None,\n",
       "    u'alogp': u'5.14',\n",
       "    u'aromatic_rings': 2,\n",
       "    u'full_molformula': u'C18H20O2',\n",
       "    u'full_mwt': u'268.35',\n",
       "    u'hba': 2,\n",
       "    u'hbd': 2,\n",
       "    u'heavy_atoms': 20,\n",
       "    u'med_chem_friendly': u'Y',\n",
       "    u'molecular_species': u'NEUTRAL',\n",
       "    u'mw_freebase': u'268.35',\n",
       "    u'mw_monoisotopic': u'268.1463',\n",
       "    u'num_alerts': 1,\n",
       "    u'num_ro5_violations': 1,\n",
       "    u'psa': u'40.46',\n",
       "    u'qed_weighted': u'0.75',\n",
       "    u'ro3_pass': u'N',\n",
       "    u'rtb': 4},\n",
       "   u'molecule_structures': {u'canonical_smiles': u'CC\\\\C(=C(\\\\CC)/c1ccc(O)cc1)\\\\c2ccc(O)cc2',\n",
       "    u'standard_inchi': u'InChI=1S/C18H20O2/c1-3-17(13-5-9-15(19)10-6-13)18(4-2)14-7-11-16(20)12-8-14/h5-12,19-20H,3-4H2,1-2H3/b18-17+',\n",
       "    u'standard_inchi_key': u'RGLYKWWBQGJZGM-ISLYRVAYSA-N'},\n",
       "   u'molecule_synonyms': [{u'syn_type': u'TRADE_NAME',\n",
       "     u'synonyms': u'Diethylstilbestrol'},\n",
       "    {u'syn_type': u'USAN', u'synonyms': u'Diethylstilbestrol'},\n",
       "    {u'syn_type': u'TRADE_NAME', u'synonyms': u'Stilbestrol'},\n",
       "    {u'syn_type': u'TRADE_NAME', u'synonyms': u'Stilbetin'},\n",
       "    {u'syn_type': u'TRADE_NAME', u'synonyms': u'DES'},\n",
       "    {u'syn_type': u'TRADE_NAME', u'synonyms': u'Stilboesterol'},\n",
       "    {u'syn_type': u'OTHER', u'synonyms': u'Cyren A'},\n",
       "    {u'syn_type': u'OTHER', u'synonyms': u'Fonatol'},\n",
       "    {u'syn_type': u'OTHER', u'synonyms': u'Estrobene'},\n",
       "    {u'syn_type': u'OTHER', u'synonyms': u'Palestrol'},\n",
       "    {u'syn_type': u'OTHER', u'synonyms': u'Synestrin'},\n",
       "    {u'syn_type': u'OTHER', u'synonyms': u'Estromenin'},\n",
       "    {u'syn_type': u'OTHER', u'synonyms': u'Estrogenine'},\n",
       "    {u'syn_type': u'OTHER', u'synonyms': u'Stilbestrol'},\n",
       "    {u'syn_type': u'OTHER', u'synonyms': u'Synthestrin'},\n",
       "    {u'syn_type': u'OTHER', u'synonyms': u'Stilboestrol'},\n",
       "    {u'syn_type': u'OTHER', u'synonyms': u'New-Estranol 1'},\n",
       "    {u'syn_type': u'OTHER', u'synonyms': u'Stilbestroform'},\n",
       "    {u'syn_type': u'BAN', u'synonyms': u'Diethylstilbestrol'},\n",
       "    {u'syn_type': u'FDA', u'synonyms': u'Diethylstilbestrol'},\n",
       "    {u'syn_type': u'INN', u'synonyms': u'Diethylstilbestrol'},\n",
       "    {u'syn_type': u'USP', u'synonyms': u'Diethylstilbestrol'}],\n",
       "   u'molecule_type': u'Small molecule',\n",
       "   u'natural_product': u'0',\n",
       "   u'oral': True,\n",
       "   u'parenteral': True,\n",
       "   u'polymer_flag': False,\n",
       "   u'pref_name': u'DIETHYLSTILBESTROL',\n",
       "   u'prodrug': u'0',\n",
       "   u'structure_type': u'MOL',\n",
       "   u'therapeutic_flag': True,\n",
       "   u'topical': True,\n",
       "   u'usan_stem': u'-estr-',\n",
       "   u'usan_stem_definition': u'estrogens',\n",
       "   u'usan_substem': None,\n",
       "   u'usan_year': None},\n",
       "  {u'atc_classifications': [u'C02BB01'],\n",
       "   u'availability_type': u'1',\n",
       "   u'biotherapeutic': None,\n",
       "   u'black_box_warning': u'0',\n",
       "   u'chebi_par_id': 6706,\n",
       "   u'chirality': u'0',\n",
       "   u'dosed_ingredient': False,\n",
       "   u'first_approval': 1956,\n",
       "   u'first_in_class': u'0',\n",
       "   u'helm_notation': None,\n",
       "   u'indication_class': None,\n",
       "   u'inorganic_flag': u'0',\n",
       "   u'max_phase': 4,\n",
       "   u'molecule_chembl_id': u'CHEMBL267936',\n",
       "   u'molecule_hierarchy': {u'molecule_chembl_id': u'CHEMBL267936',\n",
       "    u'parent_chembl_id': u'CHEMBL267936'},\n",
       "   u'molecule_properties': {u'acd_logd': u'-0.07',\n",
       "    u'acd_logp': u'2.98',\n",
       "    u'acd_most_apka': None,\n",
       "    u'acd_most_bpka': u'11.35',\n",
       "    u'alogp': u'2.18',\n",
       "    u'aromatic_rings': 0,\n",
       "    u'full_molformula': u'C11H21N',\n",
       "    u'full_mwt': u'167.29',\n",
       "    u'hba': 1,\n",
       "    u'hbd': 1,\n",
       "    u'heavy_atoms': 12,\n",
       "    u'med_chem_friendly': u'Y',\n",
       "    u'molecular_species': u'BASE',\n",
       "    u'mw_freebase': u'167.29',\n",
       "    u'mw_monoisotopic': u'167.1674',\n",
       "    u'num_alerts': 0,\n",
       "    u'num_ro5_violations': 0,\n",
       "    u'psa': u'12.03',\n",
       "    u'qed_weighted': u'0.63',\n",
       "    u'ro3_pass': u'Y',\n",
       "    u'rtb': 1},\n",
       "   u'molecule_structures': {u'canonical_smiles': u'CNC1(C)C2CCC(C2)C1(C)C',\n",
       "    u'standard_inchi': u'InChI=1S/C11H21N/c1-10(2)8-5-6-9(7-8)11(10,3)12-4/h8-9,12H,5-7H2,1-4H3',\n",
       "    u'standard_inchi_key': u'IMYZQPCYWPFTAG-UHFFFAOYSA-N'},\n",
       "   u'molecule_synonyms': [{u'syn_type': u'BAN', u'synonyms': u'Mecamylamine'},\n",
       "    {u'syn_type': u'INN', u'synonyms': u'Mecamylamine'}],\n",
       "   u'molecule_type': u'Small molecule',\n",
       "   u'natural_product': u'0',\n",
       "   u'oral': True,\n",
       "   u'parenteral': False,\n",
       "   u'polymer_flag': False,\n",
       "   u'pref_name': u'MECAMYLAMINE',\n",
       "   u'prodrug': u'0',\n",
       "   u'structure_type': u'MOL',\n",
       "   u'therapeutic_flag': True,\n",
       "   u'topical': False,\n",
       "   u'usan_stem': None,\n",
       "   u'usan_stem_definition': None,\n",
       "   u'usan_substem': None,\n",
       "   u'usan_year': None}],\n",
       " u'page_meta': {u'limit': 20,\n",
       "  u'next': u'/chemblws/molecule.json?max_phase=4&limit=20&offset=20',\n",
       "  u'offset': 0,\n",
       "  u'previous': None,\n",
       "  u'total_count': 2795}}"
      ]
     },
     "execution_count": 24,
     "metadata": {},
     "output_type": "execute_result"
    }
   ],
   "source": [
    "# Let's examine what data contains the python dict:\n",
    "url_approved_drugs"
   ]
  },
  {
   "cell_type": "markdown",
   "metadata": {},
   "source": [
    "### Page structure\n",
    "\n",
    "The dictionary contains two top-level keys:\n",
    "\n",
    "1. `molecules` array\n",
    "2. `page_meta` dictionary\n",
    "\n",
    "This  means that by requesting data from the url-endpoint we are not getting the whole result set but a single page.\n",
    "The page consists of a single portion of data (`molecules` array) and some meta information about the page and whole result set (`page_meta` dictionary)."
   ]
  },
  {
   "cell_type": "code",
   "execution_count": 25,
   "metadata": {
    "collapsed": false
   },
   "outputs": [
    {
     "data": {
      "text/plain": [
       "20"
      ]
     },
     "execution_count": 25,
     "metadata": {},
     "output_type": "execute_result"
    }
   ],
   "source": [
    "# The default size of single page is 20 results:\n",
    "len(url_approved_drugs['molecules'])"
   ]
  },
  {
   "cell_type": "code",
   "execution_count": 26,
   "metadata": {
    "collapsed": false
   },
   "outputs": [
    {
     "name": "stdout",
     "output_type": "stream",
     "text": [
      "http://localhost/chemblws/molecule.json?max_phase=4&limit=200\n",
      "200\n"
     ]
    }
   ],
   "source": [
    "# But it can be extended up to 1000 results by providing `limit` argument:\n",
    "url = url_stem + \"/molecule.json?max_phase=4&limit=200\"\n",
    "bigger_page = requests.get(url).json()\n",
    "\n",
    "print url\n",
    "print len(bigger_page['molecules'])"
   ]
  },
  {
   "cell_type": "code",
   "execution_count": 27,
   "metadata": {
    "collapsed": false
   },
   "outputs": [
    {
     "data": {
      "text/plain": [
       "{u'limit': 20,\n",
       " u'next': u'/chemblws/molecule.json?max_phase=4&limit=20&offset=20',\n",
       " u'offset': 0,\n",
       " u'previous': None,\n",
       " u'total_count': 2795}"
      ]
     },
     "execution_count": 27,
     "metadata": {},
     "output_type": "execute_result"
    }
   ],
   "source": [
    "#Let's see what data is provided in `page-meta` dictionary:\n",
    "url_approved_drugs['page_meta']"
   ]
  },
  {
   "cell_type": "markdown",
   "metadata": {},
   "source": [
    "It gives following information:\n",
    "1. `limit` - current size of the page (the actual amount of data can be smaller if the whole result set is smaller than page size or we are looking at the last page)\n",
    "2. `offset` - the difference between first element in the whole result set and the first element on current page \n",
    "3. `next` - url poiting to the next page (if it exists)\n",
    "4. `previous` - url pointing to the previous page (if it exists)\n",
    "5. `total_count` - number of elements in the whole result set\n",
    "\n",
    "This means that in order to get the whole result set we need to loop through the pages:"
   ]
  },
  {
   "cell_type": "code",
   "execution_count": 28,
   "metadata": {
    "collapsed": false
   },
   "outputs": [
    {
     "name": "stdout",
     "output_type": "stream",
     "text": [
      "2795\n",
      "True\n"
     ]
    }
   ],
   "source": [
    "# Getting all approved drugs using url endpoint\n",
    "localhost = \"http://localhost/\"\n",
    "url_approved_drugs = requests.get(localhost + \"chemblws/molecule.json?max_phase=4&limit=1000\").json()\n",
    "results = url_approved_drugs['molecules']\n",
    "while url_approved_drugs['page_meta']['next']:\n",
    "    url_approved_drugs = requests.get(localhost + url_approved_drugs['page_meta']['next']).json()\n",
    "    results += url_approved_drugs['molecules']\n",
    "print len(results)\n",
    "print len(results) == url_approved_drugs['page_meta']['total_count']"
   ]
  },
  {
   "cell_type": "markdown",
   "metadata": {},
   "source": [
    "With the client-generated results, we no longer have to worry about pagination:"
   ]
  },
  {
   "cell_type": "code",
   "execution_count": 29,
   "metadata": {
    "collapsed": false
   },
   "outputs": [
    {
     "name": "stdout",
     "output_type": "stream",
     "text": [
      "2795\n",
      "{u'max_phase': 4, u'usan_stem': None, u'parenteral': False, u'dosed_ingredient': True, u'molecule_type': u'Small molecule', u'biotherapeutic': None, u'chebi_par_id': 3181, u'first_approval': 1978, u'atc_classifications': [u'N04BC01', u'G02CB01'], u'prodrug': u'0', u'molecule_structures': {u'standard_inchi_key': u'OZVBMTJYIDMWIL-AYFBDAFISA-N', u'canonical_smiles': u'CC(C)C[C@@H]1N2C(=O)[C@](NC(=O)[C@H]3CN(C)[C@@H]4Cc5c(Br)[nH]c6cccc(C4=C3)c56)(O[C@@]2(O)[C@@H]7CCCN7C1=O)C(C)C', u'standard_inchi': u'InChI=1S/C32H40BrN5O5/c1-16(2)12-24-29(40)37-11-7-10-25(37)32(42)38(24)30(41)31(43-32,17(3)4)35-28(39)18-13-20-19-8-6-9-22-26(19)21(27(33)34-22)14-23(20)36(5)15-18/h6,8-9,13,16-18,23-25,34,42H,7,10-12,14-15H2,1-5H3,(H,35,39)/t18-,23-,24+,25+,31-,32+/m1/s1'}, u'chirality': u'1', u'usan_substem': None, u'pref_name': u'BROMOCRIPTINE', u'polymer_flag': False, u'molecule_chembl_id': u'CHEMBL493', u'therapeutic_flag': True, u'molecule_properties': {u'num_ro5_violations': 1, u'med_chem_friendly': u'Y', u'psa': u'118.21', u'full_mwt': u'654.59', u'ro3_pass': u'N', u'mw_freebase': u'654.59', u'num_alerts': 0, u'acd_logd': u'8.55', u'full_molformula': u'C32H40BrN5O5', u'hba': 6, u'molecular_species': u'NEUTRAL', u'mw_monoisotopic': u'653.2213', u'heavy_atoms': 43, u'aromatic_rings': 2, u'alogp': u'4.36', u'acd_most_apka': u'9.60', u'qed_weighted': u'0.44', u'acd_most_bpka': u'6.44', u'hbd': 3, u'acd_logp': u'8.60', u'rtb': 5}, u'structure_type': u'MOL', u'helm_notation': None, u'usan_stem_definition': None, u'natural_product': u'1', u'black_box_warning': u'0', u'availability_type': u'1', u'inorganic_flag': u'0', u'molecule_synonyms': [{u'synonyms': u'Bromocriptine', u'syn_type': u'FDA'}, {u'synonyms': u'Parlodel', u'syn_type': u'TRADE_NAME'}, {u'synonyms': u'Cycloset', u'syn_type': u'TRADE_NAME'}, {u'synonyms': u'CB-154', u'syn_type': u'RESEARCH_CODE'}, {u'synonyms': u'Bromocriptine', u'syn_type': u'BAN'}, {u'synonyms': u'Bromocriptine', u'syn_type': u'INN'}, {u'synonyms': u'Bromocriptine', u'syn_type': u'USAN'}], u'molecule_hierarchy': {u'molecule_chembl_id': u'CHEMBL493', u'parent_chembl_id': u'CHEMBL493'}, u'indication_class': u'Enzyme Inhibitor (prolactin)', u'usan_year': 1976, u'first_in_class': u'0', u'topical': False, u'oral': True}\n",
      "[{u'max_phase': 4, u'usan_stem': None, u'parenteral': False, u'dosed_ingredient': False, u'molecule_type': u'Small molecule', u'biotherapeutic': None, u'chebi_par_id': 8364, u'first_approval': 1976, u'atc_classifications': [u'C02CA01'], u'prodrug': u'0', u'molecule_structures': {u'standard_inchi_key': u'IENZQIKPVFGBNW-UHFFFAOYSA-N', u'canonical_smiles': u'COc1cc2nc(nc(N)c2cc1OC)N3CCN(CC3)C(=O)c4occc4', u'standard_inchi': u'InChI=1S/C19H21N5O4/c1-26-15-10-12-13(11-16(15)27-2)21-19(22-17(12)20)24-7-5-23(6-8-24)18(25)14-4-3-9-28-14/h3-4,9-11H,5-8H2,1-2H3,(H2,20,21,22)'}, u'chirality': u'2', u'usan_substem': None, u'pref_name': u'PRAZOSIN', u'polymer_flag': False, u'molecule_chembl_id': u'CHEMBL2', u'therapeutic_flag': True, u'molecule_properties': {u'num_ro5_violations': 0, u'med_chem_friendly': u'Y', u'psa': u'106.95', u'full_mwt': u'383.40', u'ro3_pass': u'N', u'mw_freebase': u'383.40', u'num_alerts': 0, u'acd_logd': u'2.09', u'full_molformula': u'C19H21N5O4', u'hba': 7, u'molecular_species': u'NEUTRAL', u'mw_monoisotopic': u'383.1594', u'heavy_atoms': 28, u'aromatic_rings': 3, u'alogp': u'2.11', u'acd_most_apka': None, u'qed_weighted': u'0.74', u'acd_most_bpka': u'6.52', u'hbd': 1, u'acd_logp': u'2.14', u'rtb': 4}, u'structure_type': u'MOL', u'helm_notation': None, u'usan_stem_definition': None, u'natural_product': u'0', u'black_box_warning': u'0', u'availability_type': u'1', u'inorganic_flag': u'0', u'molecule_synonyms': [{u'synonyms': u'CP-12299', u'syn_type': u'RESEARCH_CODE'}, {u'synonyms': u'Prazosin', u'syn_type': u'FDA'}, {u'synonyms': u'Prazosin', u'syn_type': u'BAN'}, {u'synonyms': u'Prazosin', u'syn_type': u'INN'}], u'molecule_hierarchy': {u'molecule_chembl_id': u'CHEMBL2', u'parent_chembl_id': u'CHEMBL2'}, u'indication_class': None, u'usan_year': 1968, u'first_in_class': u'0', u'topical': False, u'oral': True}, {u'max_phase': 4, u'usan_stem': None, u'parenteral': False, u'dosed_ingredient': True, u'molecule_type': u'Small molecule', u'biotherapeutic': None, u'chebi_par_id': 17688, u'first_approval': 1984, u'atc_classifications': [u'N07BA01'], u'prodrug': u'0', u'molecule_structures': {u'standard_inchi_key': u'SNICXCGAKADSCV-JTQLQIEISA-N', u'canonical_smiles': u'CN1CCC[C@H]1c2cccnc2', u'standard_inchi': u'InChI=1S/C10H14N2/c1-12-7-3-5-10(12)9-4-2-6-11-8-9/h2,4,6,8,10H,3,5,7H2,1H3/t10-/m0/s1'}, u'chirality': u'1', u'usan_substem': None, u'pref_name': u'NICOTINE', u'polymer_flag': True, u'molecule_chembl_id': u'CHEMBL3', u'therapeutic_flag': True, u'molecule_properties': {u'num_ro5_violations': 0, u'med_chem_friendly': u'Y', u'psa': u'16.13', u'full_mwt': u'162.23', u'ro3_pass': u'Y', u'mw_freebase': u'162.23', u'num_alerts': 0, u'acd_logd': u'-0.62', u'full_molformula': u'C10H14N2', u'hba': 2, u'molecular_species': u'NEUTRAL', u'mw_monoisotopic': u'162.1157', u'heavy_atoms': 12, u'aromatic_rings': 1, u'alogp': u'1.24', u'acd_most_apka': None, u'qed_weighted': u'0.62', u'acd_most_bpka': u'8.00', u'hbd': 0, u'acd_logp': u'0.57', u'rtb': 1}, u'structure_type': u'MOL', u'helm_notation': None, u'usan_stem_definition': None, u'natural_product': u'1', u'black_box_warning': u'0', u'availability_type': u'2', u'inorganic_flag': u'0', u'molecule_synonyms': [{u'synonyms': u'Habitrol', u'syn_type': u'TRADE_NAME'}, {u'synonyms': u'Nicoderm CQ', u'syn_type': u'TRADE_NAME'}, {u'synonyms': u'Nicotine', u'syn_type': u'TRADE_NAME'}, {u'synonyms': u'Nicotine', u'syn_type': u'USAN'}, {u'synonyms': u'Nicotrol', u'syn_type': u'TRADE_NAME'}, {u'synonyms': u'Prostep', u'syn_type': u'TRADE_NAME'}, {u'synonyms': u'Nicotrol Inhaler', u'syn_type': u'TRADE_NAME'}, {u'synonyms': u'Nicotrol NS', u'syn_type': u'TRADE_NAME'}, {u'synonyms': u'Nicoderm', u'syn_type': u'TRADE_NAME'}, {u'synonyms': u'Nicotine', u'syn_type': u'MERCK_INDEX'}, {u'synonyms': u'Nicotine', u'syn_type': u'FDA'}, {u'synonyms': u'Nicotine', u'syn_type': u'USP'}], u'molecule_hierarchy': {u'molecule_chembl_id': u'CHEMBL3', u'parent_chembl_id': u'CHEMBL3'}, u'indication_class': u'Smoking Cessation Adjunct', u'usan_year': 1985, u'first_in_class': u'0', u'topical': True, u'oral': True}, {u'max_phase': 4, u'usan_stem': u'-oxacin', u'parenteral': True, u'dosed_ingredient': True, u'molecule_type': u'Small molecule', u'biotherapeutic': None, u'chebi_par_id': 7731, u'first_approval': 1990, u'atc_classifications': [u'S02AA16', u'J01MA01', u'S01AE01'], u'prodrug': u'0', u'molecule_structures': {u'standard_inchi_key': u'GSDSWSVVBLHKDQ-UHFFFAOYSA-N', u'canonical_smiles': u'CC1COc2c(N3CCN(C)CC3)c(F)cc4C(=O)C(=CN1c24)C(=O)O', u'standard_inchi': u'InChI=1S/C18H20FN3O4/c1-10-9-26-17-14-11(16(23)12(18(24)25)8-22(10)14)7-13(19)15(17)21-5-3-20(2)4-6-21/h7-8,10H,3-6,9H2,1-2H3,(H,24,25)'}, u'chirality': u'0', u'usan_substem': None, u'pref_name': u'OFLOXACIN', u'polymer_flag': False, u'molecule_chembl_id': u'CHEMBL4', u'therapeutic_flag': True, u'molecule_properties': {u'num_ro5_violations': 0, u'med_chem_friendly': u'N', u'psa': u'73.32', u'full_mwt': u'361.37', u'ro3_pass': u'N', u'mw_freebase': u'361.37', u'num_alerts': 1, u'acd_logd': u'-0.39', u'full_molformula': u'C18H20FN3O4', u'hba': 7, u'molecular_species': u'ACID', u'mw_monoisotopic': u'361.1438', u'heavy_atoms': 26, u'aromatic_rings': 1, u'alogp': u'-1.37', u'acd_most_apka': u'5.19', u'qed_weighted': u'0.65', u'acd_most_bpka': u'7.37', u'hbd': 1, u'acd_logp': u'1.86', u'rtb': 2}, u'structure_type': u'MOL', u'helm_notation': None, u'usan_stem_definition': u'antibacterials (quinolone derivatives)', u'natural_product': u'0', u'black_box_warning': u'1', u'availability_type': u'1', u'inorganic_flag': u'0', u'molecule_synonyms': [{u'synonyms': u'Floxin', u'syn_type': u'TRADE_NAME'}, {u'synonyms': u'Floxin Otic', u'syn_type': u'TRADE_NAME'}, {u'synonyms': u'HOE-280', u'syn_type': u'RESEARCH_CODE'}, {u'synonyms': u'Ocuflox', u'syn_type': u'TRADE_NAME'}, {u'synonyms': u'Ofloxacin', u'syn_type': u'TRADE_NAME'}, {u'synonyms': u'Visiren', u'syn_type': u'TRADE_NAME'}, {u'synonyms': u'Tarivid', u'syn_type': u'TRADE_NAME'}, {u'synonyms': u'DL-8280', u'syn_type': u'RESEARCH_CODE'}, {u'synonyms': u'Ofloxacin', u'syn_type': u'BAN'}, {u'synonyms': u'Ofloxacin', u'syn_type': u'FDA'}, {u'synonyms': u'Ofloxacin', u'syn_type': u'INN'}, {u'synonyms': u'Ofloxacin', u'syn_type': u'JAN'}, {u'synonyms': u'Ofloxacin', u'syn_type': u'USP'}, {u'synonyms': u'Ofloxacin', u'syn_type': u'USAN'}], u'molecule_hierarchy': {u'molecule_chembl_id': u'CHEMBL4', u'parent_chembl_id': u'CHEMBL4'}, u'indication_class': u'Antibacterial', u'usan_year': 1984, u'first_in_class': u'0', u'topical': True, u'oral': True}]\n",
      "2395\n"
     ]
    }
   ],
   "source": [
    "# The QuerySet object returned by the client is a lazily-evaluated iterator\n",
    "# This means that it's ready to use and it will try to reduce the amount of server requests\n",
    "# All results are cached as well so they are fetched from server only once.\n",
    "approved_drugs = molecule.filter(max_phase=4)\n",
    "\n",
    "# Getting the lenght of the whole result set is easy:\n",
    "print len(approved_drugs)\n",
    "\n",
    "# So is getting a single element:\n",
    "print approved_drugs[123]\n",
    "\n",
    "# Or a chunk of elements:\n",
    "print approved_drugs[2:5]\n",
    "\n",
    "# Or using in the loops or list comprehensions:\n",
    "drug_smiles = [drug['molecule_structures']['canonical_smiles'] for drug in approved_drugs if drug['molecule_structures']]\n",
    "print len(drug_smiles)"
   ]
  },
  {
   "cell_type": "markdown",
   "metadata": {
    "collapsed": true
   },
   "source": [
    "### Ordering results\n",
    "Similar to filtering, it's also possible to order the result set, there is a parameter called `order_by` that is reposnsible for ordering:"
   ]
  },
  {
   "cell_type": "code",
   "execution_count": 30,
   "metadata": {
    "collapsed": false
   },
   "outputs": [
    {
     "data": {
      "text/plain": [
       "u'AMMONIA SOLUTION, STRONG'"
      ]
     },
     "execution_count": 30,
     "metadata": {},
     "output_type": "execute_result"
    }
   ],
   "source": [
    "# Sort approved drugs by molecular weight ascending (from lightest to heaviest) and get the first (lightest) element\n",
    "lightest_drug = molecule.filter(max_phase=4).order_by('molecule_properties__mw_freebase')[0]\n",
    "lightest_drug['pref_name']"
   ]
  },
  {
   "cell_type": "code",
   "execution_count": 31,
   "metadata": {
    "collapsed": false
   },
   "outputs": [
    {
     "data": {
      "text/plain": [
       "u'INSULIN PURIFIED PORK'"
      ]
     },
     "execution_count": 31,
     "metadata": {},
     "output_type": "execute_result"
    }
   ],
   "source": [
    "# Sort approved drugs by molecular weight descending (from heaviest to lightest) and get the first (heaviest) element\n",
    "heaviest_drug = molecule.filter(max_phase=4).order_by('-molecule_properties__mw_freebase')[0]\n",
    "heaviest_drug['pref_name']"
   ]
  },
  {
   "cell_type": "code",
   "execution_count": 32,
   "metadata": {
    "collapsed": false
   },
   "outputs": [
    {
     "name": "stdout",
     "output_type": "stream",
     "text": [
      "http://localhost/chemblws/molecule.json?max_phase=4&order_by=molecule_properties__mw_freebase\n",
      "AMMONIA SOLUTION, STRONG\n",
      "http://localhost/chemblws/molecule.json?max_phase=4&order_by=-molecule_properties__mw_freebase\n",
      "INSULIN PURIFIED PORK\n"
     ]
    }
   ],
   "source": [
    "# Do the same using url endpoint\n",
    "url_1 = url_stem + \"/molecule.json?max_phase=4&order_by=molecule_properties__mw_freebase\"\n",
    "lightest_drug = requests.get(url_1).json()['molecules'][0]\n",
    "print url_1\n",
    "print lightest_drug['pref_name']\n",
    "\n",
    "url_2 = url_stem + \"/molecule.json?max_phase=4&order_by=-molecule_properties__mw_freebase\"\n",
    "heaviest_drug = requests.get(url_2).json()['molecules'][0]\n",
    "print url_2\n",
    "print heaviest_drug['pref_name']"
   ]
  },
  {
   "cell_type": "markdown",
   "metadata": {},
   "source": [
    "### Filtering molecules using SMILES\n",
    "It is possible to filter molecules by SMILES"
   ]
  },
  {
   "cell_type": "code",
   "execution_count": 33,
   "metadata": {
    "collapsed": false
   },
   "outputs": [
    {
     "name": "stdout",
     "output_type": "stream",
     "text": [
      "1\n",
      "1\n",
      "1\n",
      "True\n",
      "True\n"
     ]
    }
   ],
   "source": [
    "# Atorvastatin...\n",
    "smiles = \"CC(C)c1c(C(=O)Nc2ccccc2)c(c3ccccc3)c(c4ccc(F)cc4)n1CC[C@@H](O)C[C@@H](O)CC(=O)O\"\n",
    "\n",
    "# By default, the type of search used is 'exact search' which means that only compounds with exacly same SMILES string will be picked:\n",
    "result = molecule.filter(molecule_structures__canonical_smiles=smiles)\n",
    "print len(result)\n",
    "\n",
    "# This is quivalent of:\n",
    "result1 = molecule.filter(molecule_structures__canonical_smiles__exact=smiles)\n",
    "print len(result1)\n",
    "\n",
    "# For convenience, we have a shortcut call:\n",
    "result2 = molecule.filter(smiles=smiles)\n",
    "print len(result2)\n",
    "\n",
    "# Checking if they are all the same: \n",
    "print result[0]['pref_name'] == result1[0]['pref_name'] == result2[0]['pref_name']\n",
    "\n",
    "# And because SMILES string are unique in ChEMBL, this is similar to:\n",
    "result3 = molecule.get(smiles)\n",
    "print result[0]['pref_name'] == result3['pref_name']"
   ]
  },
  {
   "cell_type": "markdown",
   "metadata": {},
   "source": [
    "There are however different filtering operators that can be applied to SMILES; the most important one is called `flexmatch`, which will return all structures described by given SMILES string even if this is non-canonical SMILES."
   ]
  },
  {
   "cell_type": "code",
   "execution_count": 34,
   "metadata": {
    "collapsed": false
   },
   "outputs": [
    {
     "name": "stdout",
     "output_type": "stream",
     "text": [
      "2\n",
      "CHEMBL1207181   : CC(C)c1c(C(=O)Nc2ccccc2)c(c3ccccc3)c(c4ccc(F)cc4)n1CCC(O)C[C@@H](O)CC(=O)O\n",
      "CHEMBL1487      : CC(C)c1c(C(=O)Nc2ccccc2)c(c3ccccc3)c(c4ccc(F)cc4)n1CC[C@@H](O)C[C@@H](O)CC(=O)O\n"
     ]
    }
   ],
   "source": [
    "# Flexmatch will look for structures that match given SMILES, ignoring stereo:\n",
    "records = molecule.filter(molecule_structures__canonical_smiles__flexmatch=smiles)\n",
    "print len(records)\n",
    "\n",
    "for record in records:\n",
    "    print(\"{:15s} : {}\".format(record[\"molecule_chembl_id\"], record['molecule_structures']['canonical_smiles']))"
   ]
  },
  {
   "cell_type": "markdown",
   "metadata": {
    "collapsed": true
   },
   "source": [
    "Unlike with the exact string match, it is possible to retrieve multiple records when a SMILES is used for the `flexmatch` lookup (_i.e._ it is potentially one-to-many instead of one-to-one as the ID lookups are). This is due to the nature of `flexmatch`.\n",
    "\n",
    "In our case two structures are returned, CHEMBL1487 (Atorvastatin) and CHEMBL1207181, which is the same structure as the former but with one of the two stereocentres undefined."
   ]
  },
  {
   "cell_type": "code",
   "execution_count": 35,
   "metadata": {
    "collapsed": false
   },
   "outputs": [
    {
     "name": "stdout",
     "output_type": "stream",
     "text": [
      "http://localhost/chemblws/molecule.json?molecule_structures__canonical_smiles=CC%28C%29c1c%28C%28%3DO%29Nc2ccccc2%29c%28c3ccccc3%29c%28c4ccc%28F%29cc4%29n1CC%5BC%40%40H%5D%28O%29C%5BC%40%40H%5D%28O%29CC%28%3DO%29O\n",
      "1\n",
      "http://localhost/chemblws/molecule.json?molecule_structures__canonical_smiles__exact=CC%28C%29c1c%28C%28%3DO%29Nc2ccccc2%29c%28c3ccccc3%29c%28c4ccc%28F%29cc4%29n1CC%5BC%40%40H%5D%28O%29C%5BC%40%40H%5D%28O%29CC%28%3DO%29O\n",
      "1\n",
      "http://localhost/chemblws/molecule.json?smiles=CC%28C%29c1c%28C%28%3DO%29Nc2ccccc2%29c%28c3ccccc3%29c%28c4ccc%28F%29cc4%29n1CC%5BC%40%40H%5D%28O%29C%5BC%40%40H%5D%28O%29CC%28%3DO%29O\n",
      "1\n",
      "http://localhost/chemblws/molecule.json?molecule_structures__canonical_smiles__flexmatch=CC%28C%29c1c%28C%28%3DO%29Nc2ccccc2%29c%28c3ccccc3%29c%28c4ccc%28F%29cc4%29n1CC%5BC%40%40H%5D%28O%29C%5BC%40%40H%5D%28O%29CC%28%3DO%29O\n",
      "2\n",
      "True\n"
     ]
    }
   ],
   "source": [
    "# The same can be achieved using url endpoint:\n",
    "\n",
    "url_1 = url_stem + \"/molecule.json?molecule_structures__canonical_smiles=\" + quote(smiles)\n",
    "url_2 = url_stem + \"/molecule.json?molecule_structures__canonical_smiles__exact=\" + quote(smiles)\n",
    "url_3 = url_stem + \"/molecule.json?smiles=\" + quote(smiles)\n",
    "url_4 = url_stem + \"/molecule.json?molecule_structures__canonical_smiles__flexmatch=\" + quote(smiles)\n",
    "\n",
    "exact_match = requests.get(url_1).json()\n",
    "explicit_exact_match = requests.get(url_2).json()\n",
    "convenient_shortcut = requests.get(url_3).json()\n",
    "flexmatch = requests.get(url_4).json()\n",
    "\n",
    "print url_1\n",
    "print len(exact_match['molecules'])\n",
    "\n",
    "print url_2\n",
    "print len(explicit_exact_match['molecules'])\n",
    "\n",
    "print url_3\n",
    "print len(convenient_shortcut['molecules'])\n",
    "\n",
    "print url_4\n",
    "print len(flexmatch['molecules'])\n",
    "\n",
    "print exact_match == explicit_exact_match"
   ]
  },
  {
   "cell_type": "markdown",
   "metadata": {},
   "source": [
    "#### A further note on SMILES searches\n",
    "\n",
    "The URL-based example above used the HTTP GET method, which means the SMILES are passed _via_ the URL. This can cause problems where the SMILES inludes the '/', '\\' or '#' characters, for example:"
   ]
  },
  {
   "cell_type": "code",
   "execution_count": 36,
   "metadata": {
    "collapsed": false
   },
   "outputs": [
    {
     "name": "stdout",
     "output_type": "stream",
     "text": [
      "http://localhost/chemblws/molecule/[Na+].CO[C@@H](CCC#C\\C=C/CCCC(C)CCCCC=C)C(=O)[O-].json\n",
      "False\n",
      "404\n"
     ]
    }
   ],
   "source": [
    "# CHEMBL477889\n",
    "smiles = \"[Na+].CO[C@@H](CCC#C\\C=C/CCCC(C)CCCCC=C)C(=O)[O-]\"\n",
    "\n",
    "url = url_stem + \"/molecule/\" + smiles + \".json\"\n",
    "result = requests.get(url)\n",
    "\n",
    "print url\n",
    "print result.ok\n",
    "print result.status_code"
   ]
  },
  {
   "cell_type": "markdown",
   "metadata": {},
   "source": [
    "There are two solutions to this problem:\n",
    "\n",
    "1. When using GET, use `urllib.quote` function\n",
    "2. Use POST with `X-HTTP-Method-Override`: `GET` header"
   ]
  },
  {
   "cell_type": "code",
   "execution_count": 37,
   "metadata": {
    "collapsed": false
   },
   "outputs": [
    {
     "name": "stdout",
     "output_type": "stream",
     "text": [
      "http://localhost/chemblws/molecule/%5BNa%2B%5D.CO%5BC%40%40H%5D%28CCC%23C%5CC%3DC/CCCC%28C%29CCCCC%3DC%29C%28%3DO%29%5BO-%5D.json\n",
      "True\n",
      "200\n"
     ]
    }
   ],
   "source": [
    "# Method one:\n",
    "url = url_stem + \"/molecule/\" + quote(smiles) + \".json\"\n",
    "result_by_get = requests.get(url)\n",
    "\n",
    "print url\n",
    "print result_by_get.ok\n",
    "print result_by_get.status_code"
   ]
  },
  {
   "cell_type": "code",
   "execution_count": 38,
   "metadata": {
    "collapsed": false
   },
   "outputs": [
    {
     "name": "stdout",
     "output_type": "stream",
     "text": [
      "True\n",
      "200\n"
     ]
    }
   ],
   "source": [
    "# Method two:\n",
    "url = url_stem + \"/molecule.json\"\n",
    "result_by_post = requests.post(url, data={\"smiles\": smiles}, headers={\"X-HTTP-Method-Override\": \"GET\"})\n",
    "\n",
    "print result_by_post.ok\n",
    "print result_by_post.status_code"
   ]
  },
  {
   "cell_type": "code",
   "execution_count": 39,
   "metadata": {
    "collapsed": false
   },
   "outputs": [
    {
     "name": "stdout",
     "output_type": "stream",
     "text": [
      "[Na+].CO[C@@H](CCC#C\\C=C/CCCC(C)CCCCC=C)C(=O)[O-]\n",
      "{u'page_meta': {u'previous': None, u'total_count': 1, u'offset': 0, u'limit': 20, u'next': None}, u'molecules': [{u'max_phase': 0, u'usan_stem': None, u'parenteral': False, u'dosed_ingredient': False, u'molecule_type': u'Small molecule', u'biotherapeutic': None, u'chebi_par_id': None, u'first_approval': None, u'atc_classifications': [], u'prodrug': u'-1', u'molecule_structures': {u'standard_inchi_key': u'RLSXKIUQYFNFBI-PJZMSVRGSA-M', u'canonical_smiles': u'[Na+].CO[C@@H](CCC#C\\\\C=C/CCCC(C)CCCCC=C)C(=O)[O-]', u'standard_inchi': u'InChI=1S/C20H32O3.Na/c1-4-5-6-12-15-18(2)16-13-10-8-7-9-11-14-17-19(23-3)20(21)22;/h4,7-8,18-19H,1,5-6,10,12-17H2,2-3H3,(H,21,22);/q;+1/p-1/b8-7-;/t18?,19-;/m0./s1'}, u'chirality': u'-1', u'usan_substem': None, u'pref_name': None, u'polymer_flag': False, u'molecule_chembl_id': u'CHEMBL477889', u'therapeutic_flag': False, u'molecule_properties': {u'num_ro5_violations': 1, u'med_chem_friendly': u'Y', u'psa': u'46.53', u'full_mwt': u'342.45', u'ro3_pass': u'N', u'mw_freebase': u'320.47', u'num_alerts': 3, u'acd_logd': u'2.47', u'full_molformula': u'C20H31NaO3', u'hba': 3, u'molecular_species': u'ACID', u'mw_monoisotopic': u'320.2351', u'heavy_atoms': 23, u'aromatic_rings': 0, u'alogp': u'6.02', u'acd_most_apka': u'3.40', u'qed_weighted': u'0.23', u'acd_most_bpka': None, u'hbd': 1, u'acd_logp': u'6.03', u'rtb': 15}, u'structure_type': u'MOL', u'helm_notation': None, u'usan_stem_definition': None, u'natural_product': u'-1', u'black_box_warning': u'0', u'availability_type': u'-1', u'inorganic_flag': u'-1', u'molecule_synonyms': [{u'synonyms': u'(Z)-Stellettic Acid B Sodium Salt', u'syn_type': u'OTHER'}], u'molecule_hierarchy': {u'molecule_chembl_id': u'CHEMBL477889', u'parent_chembl_id': u'CHEMBL477888'}, u'indication_class': None, u'usan_year': None, u'first_in_class': u'-1', u'topical': False, u'oral': False}]}\n",
      "True\n"
     ]
    }
   ],
   "source": [
    "print smiles\n",
    "print result_by_post.json()\n",
    "print result_by_get.json() == result_by_post.json()['molecules'][0]"
   ]
  },
  {
   "cell_type": "markdown",
   "metadata": {},
   "source": [
    "### Substructure-searching\n",
    "\n",
    "As well as ID lookups, the web services may also be used to perform substructure searches. Currently, only SMILES-based searches are supported, although this could change if there is is a need for more powerful search abilities (_e.g._ SMARTS searching)."
   ]
  },
  {
   "cell_type": "code",
   "execution_count": 40,
   "metadata": {
    "collapsed": false
   },
   "outputs": [
    {
     "data": {
      "image/png": "[encoded data removed]",
      "text/plain": [
       "<rdkit.Chem.rdchem.Mol at 0x7f72772a2c90>"
      ]
     },
     "execution_count": 40,
     "metadata": {},
     "output_type": "execute_result"
    }
   ],
   "source": [
    "# Lapatinib contains the following core...\n",
    "\n",
    "query = \"c4ccc(Nc2ncnc3ccc(c1ccco1)cc23)cc4\"\n",
    "\n",
    "Chem.MolFromSmiles(query)"
   ]
  },
  {
   "cell_type": "code",
   "execution_count": 41,
   "metadata": {
    "collapsed": false
   },
   "outputs": [],
   "source": [
    "# Perform substructure search on query using client\n",
    "\n",
    "substructure = new_client.substructure\n",
    "records = substructure.filter(smiles=query)"
   ]
  },
  {
   "cell_type": "code",
   "execution_count": 42,
   "metadata": {
    "collapsed": false
   },
   "outputs": [
    {
     "name": "stdout",
     "output_type": "stream",
     "text": [
      "http://localhost/chemblws/substructure/c4ccc%28Nc2ncnc3ccc%28c1ccco1%29cc23%29cc4.json\n",
      "57\n"
     ]
    }
   ],
   "source": [
    "# ... and using raw url-endpoint\n",
    "\n",
    "url = url_stem + \"/substructure/\" + quote(query) + \".json\"\n",
    "result = requests.get(url).json()\n",
    "\n",
    "print url\n",
    "print result['page_meta']['total_count']"
   ]
  },
  {
   "cell_type": "code",
   "execution_count": 43,
   "metadata": {
    "collapsed": false
   },
   "outputs": [
    {
     "data": {
      "image/png": "[encoded data removed]",
      "text/plain": [
       "<PIL.Image.Image image mode=RGBA size=1200x400 at 0x7F72687A9DD0>"
      ]
     },
     "execution_count": 43,
     "metadata": {},
     "output_type": "execute_result"
    }
   ],
   "source": [
    "Draw.MolsToGridImage([Chem.MolFromSmiles(x['molecule_structures']['canonical_smiles']) for x in records[:6]], legends=[x[\"molecule_chembl_id\"] for x in records], subImgSize=(400, 200))"
   ]
  },
  {
   "cell_type": "markdown",
   "metadata": {
    "collapsed": true
   },
   "source": [
    "### Similarity searching\n",
    "\n",
    "The web services may also be used to perform SMILES-based similarity searches."
   ]
  },
  {
   "cell_type": "code",
   "execution_count": 44,
   "metadata": {
    "collapsed": true
   },
   "outputs": [],
   "source": [
    "# Lapatinib\n",
    "smiles = \"CS(=O)(=O)CCNCc1oc(cc1)c2ccc3ncnc(Nc4ccc(OCc5cccc(F)c5)c(Cl)c4)c3c2\""
   ]
  },
  {
   "cell_type": "code",
   "execution_count": 45,
   "metadata": {
    "collapsed": false
   },
   "outputs": [
    {
     "data": {
      "text/plain": [
       "7"
      ]
     },
     "execution_count": 45,
     "metadata": {},
     "output_type": "execute_result"
    }
   ],
   "source": [
    "# Peform similarity search on molecule using client...\n",
    "\n",
    "# Note that a percentage similarity must be supplied.\n",
    "similarity = new_client.similarity\n",
    "res = similarity.filter(smiles=smiles, similarity=85)\n",
    "\n",
    "len(res)"
   ]
  },
  {
   "cell_type": "code",
   "execution_count": 46,
   "metadata": {
    "collapsed": false
   },
   "outputs": [
    {
     "name": "stdout",
     "output_type": "stream",
     "text": [
      "http://localhost/chemblws/similarity/CS%28%3DO%29%28%3DO%29CCNCc1oc%28cc1%29c2ccc3ncnc%28Nc4ccc%28OCc5cccc%28F%29c5%29c%28Cl%29c4%29c3c2/85.json\n",
      "7\n"
     ]
    }
   ],
   "source": [
    "##### ... and using raw url-endpoint\n",
    "\n",
    "url = url_stem + \"/similarity/\" + quote(smiles) + \"/85.json\"\n",
    "result = requests.get(url).json()\n",
    "\n",
    "print url\n",
    "print result['page_meta']['total_count']"
   ]
  },
  {
   "cell_type": "code",
   "execution_count": 47,
   "metadata": {
    "collapsed": false
   },
   "outputs": [
    {
     "data": {
      "image/png": "[encoded data removed]",
      "text/plain": [
       "<PIL.Image.Image image mode=RGBA size=1200x400 at 0x7F72687C8050>"
      ]
     },
     "execution_count": 47,
     "metadata": {},
     "output_type": "execute_result"
    }
   ],
   "source": [
    "Draw.MolsToGridImage([Chem.MolFromSmiles(x['molecule_structures']['canonical_smiles']) for x in res[:6]], legends=[x[\"molecule_chembl_id\"] for x in res], subImgSize=(400, 200))"
   ]
  },
  {
   "cell_type": "markdown",
   "metadata": {},
   "source": [
    "### Versions for a parent structure\n",
    "\n",
    "The versions (_e.g._ salt forms) for a parent compound may be retrieved for a ChEMBL ID. Keep in mind that a parent structure is one that has had salt/solvate components removed; it corresponds to the bioactive moiety and its use facilitates structure searching, comparison _etc_. A compound without salt/solvate components is its own parent."
   ]
  },
  {
   "cell_type": "code",
   "execution_count": 48,
   "metadata": {
    "collapsed": true
   },
   "outputs": [],
   "source": [
    "# Neostigmine (a parent)...\n",
    "\n",
    "chembl_id = \"CHEMBL278020\" "
   ]
  },
  {
   "cell_type": "code",
   "execution_count": 49,
   "metadata": {
    "collapsed": false
   },
   "outputs": [
    {
     "data": {
      "text/plain": [
       "[{u'molecule_chembl_id': u'CHEMBL278020', u'parent': u'True'},\n",
       " {u'molecule_chembl_id': u'CHEMBL54126', u'parent': u'False'},\n",
       " {u'molecule_chembl_id': u'CHEMBL211471', u'parent': u'False'}]"
      ]
     },
     "execution_count": 49,
     "metadata": {},
     "output_type": "execute_result"
    }
   ],
   "source": [
    "records = new_client.molecule_form.get(chembl_id)['molecule_forms']\n",
    "\n",
    "records"
   ]
  },
  {
   "cell_type": "markdown",
   "metadata": {},
   "source": [
    "The ChEMBL ID lookup service may now be used to get the full records for the salt forms..."
   ]
  },
  {
   "cell_type": "code",
   "execution_count": 50,
   "metadata": {
    "collapsed": false
   },
   "outputs": [
    {
     "name": "stdout",
     "output_type": "stream",
     "text": [
      "CHEMBL54126 : [Br-].CN(C)C(=O)Oc1cccc(c1)[N+](C)(C)C\n",
      "CHEMBL211471 : COS(=O)(=O)[O-].CN(C)C(=O)Oc1cccc(c1)[N+](C)(C)C\n"
     ]
    }
   ],
   "source": [
    "for chembl_id in [x[\"molecule_chembl_id\"] for x in records if x[\"parent\"] == 'False']:\n",
    "    record = new_client.molecule.get(chembl_id)          \n",
    "    print(\"{:10s} : {}\".format(chembl_id, record['molecule_structures']['canonical_smiles']))"
   ]
  },
  {
   "cell_type": "markdown",
   "metadata": {},
   "source": [
    "### Drug mechanism(s) of action\n",
    "\n",
    "The mechanisms of action of marketed drugs may be retrieved.\n",
    "\n",
    "Note that this data may not be recorded for the parent structure, but rather for one of its versions. For example, the marketed drug, Tykerb, containing the active ingredient Lapatinib (CHEMBL554) is actually the ditosylate monohydrate (CHEMBL1201179)."
   ]
  },
  {
   "cell_type": "code",
   "execution_count": 51,
   "metadata": {
    "collapsed": false
   },
   "outputs": [
    {
     "name": "stdout",
     "output_type": "stream",
     "text": [
      "The recorded mechanisms of action of 'CHEMBL554' are...\n",
      "--------------------------------------------------\n",
      "The recorded mechanisms of action of 'CHEMBL1201179' are...\n",
      "CHEMBL1201179 : Receptor protein-tyrosine kinase erbB-2 inhibitor\n",
      "CHEMBL1201179 : Epidermal growth factor receptor erbB1 inhibitor\n",
      "--------------------------------------------------\n"
     ]
    }
   ],
   "source": [
    "# Molecule forms for Lapatinib are used here...\n",
    "\n",
    "for chembl_id in (x[\"molecule_chembl_id\"] for x in new_client.molecule_form.get(\"CHEMBL554\")['molecule_forms']):\n",
    "        \n",
    "    print(\"The recorded mechanisms of action of '{}' are...\".format(chembl_id))\n",
    "        \n",
    "    mechanism_records = new_client.mechanism.filter(molecule_chembl_id=chembl_id)\n",
    "    \n",
    "    if mechanism_records:\n",
    "    \n",
    "        for mech_rec in mechanism_records:\n",
    "    \n",
    "            print(\"{:10s} : {}\".format(mech_rec[\"molecule_chembl_id\"], mech_rec[\"mechanism_of_action\"]))\n",
    "        \n",
    "    print(\"-\" * 50)"
   ]
  },
  {
   "cell_type": "markdown",
   "metadata": {},
   "source": [
    "### Image query\n",
    "\n",
    "The webservice may be used to obtain a PNG image of a compound."
   ]
  },
  {
   "cell_type": "code",
   "execution_count": 52,
   "metadata": {
    "collapsed": true
   },
   "outputs": [],
   "source": [
    "# Lapatinib ditosylate monohydrate (Tykerb)\n",
    "\n",
    "chembl_id = \"CHEMBL1201179\" "
   ]
  },
  {
   "cell_type": "code",
   "execution_count": 53,
   "metadata": {
    "collapsed": false
   },
   "outputs": [
    {
     "data": {
      "image/png": "[encoded data removed]",
      "text/plain": [
       "<IPython.core.display.Image object>"
      ]
     },
     "execution_count": 53,
     "metadata": {},
     "output_type": "execute_result"
    }
   ],
   "source": [
    "png = new_client.image.get(chembl_id)\n",
    "\n",
    "Image(png)"
   ]
  },
  {
   "cell_type": "markdown",
   "metadata": {},
   "source": [
    "### Bioactivities\n",
    "\n",
    "All bioactivity records for a compound may be retrieved _via_ its ChEMBL ID.\n"
   ]
  },
  {
   "cell_type": "code",
   "execution_count": 54,
   "metadata": {
    "collapsed": true
   },
   "outputs": [],
   "source": [
    "# Lapatinib\n",
    "\n",
    "chembl_id = \"CHEMBL554\" "
   ]
  },
  {
   "cell_type": "code",
   "execution_count": 55,
   "metadata": {
    "collapsed": false
   },
   "outputs": [
    {
     "data": {
      "text/plain": [
       "(1620,\n",
       " [{u'document_journal': u'Bioorg. Med. Chem. Lett.', u'bao_endpoint': u'BAO_0000190', u'potential_duplicate': None, u'uo_units': u'UO_0000065', u'canonical_smiles': u'CS(=O)(=O)CCNCc1oc(cc1)c2ccc3ncnc(Nc4ccc(OCc5cccc(F)c5)c(Cl)c4)c3c2', u'assay_type': u'B', u'standard_flag': True, u'molecule_chembl_id': u'CHEMBL554', u'target_organism': u'Homo sapiens', u'assay_description': u'Inhibitory activity against epidermal growth factor receptor', u'record_id': 15408, u'document_chembl_id': u'CHEMBL1146682', u'bao_format': u'BAO_0000357', u'standard_units': u'nM', u'activity_id': 190221, u'standard_type': u'IC50', u'target_chembl_id': u'CHEMBL203', u'data_validity_comment': None, u'standard_relation': u'=', u'document_year': 2004, u'target_pref_name': u'Epidermal growth factor receptor erbB1', u'assay_chembl_id': u'CHEMBL674106', u'published_value': u'0.01', u'published_relation': u'=', u'standard_value': u'10', u'qudt_units': u'http://www.openphacts.org/units/Nanomolar', u'published_units': u'uM', u'pchembl_value': u'8.00', u'published_type': u'IC50', u'activity_comment': None}, {u'document_journal': u'Bioorg. Med. Chem. Lett.', u'bao_endpoint': u'BAO_0000190', u'potential_duplicate': None, u'uo_units': u'UO_0000065', u'canonical_smiles': u'CS(=O)(=O)CCNCc1oc(cc1)c2ccc3ncnc(Nc4ccc(OCc5cccc(F)c5)c(Cl)c4)c3c2', u'assay_type': u'B', u'standard_flag': True, u'molecule_chembl_id': u'CHEMBL554', u'target_organism': u'Homo sapiens', u'assay_description': u'Inhibitory activity against ERBB2 receptor kinase', u'record_id': 15408, u'document_chembl_id': u'CHEMBL1146682', u'bao_format': u'BAO_0000357', u'standard_units': u'nM', u'activity_id': 190222, u'standard_type': u'IC50', u'target_chembl_id': u'CHEMBL1824', u'data_validity_comment': None, u'standard_relation': u'=', u'document_year': 2004, u'target_pref_name': u'Receptor protein-tyrosine kinase erbB-2', u'assay_chembl_id': u'CHEMBL682312', u'published_value': u'0.009', u'published_relation': u'=', u'standard_value': u'9', u'qudt_units': u'http://www.openphacts.org/units/Nanomolar', u'published_units': u'uM', u'pchembl_value': u'8.05', u'published_type': u'IC50', u'activity_comment': None}])"
      ]
     },
     "execution_count": 55,
     "metadata": {},
     "output_type": "execute_result"
    }
   ],
   "source": [
    "records = new_client.activity.filter(molecule_chembl_id=chembl_id)\n",
    "\n",
    "len(records), records[:2]"
   ]
  },
  {
   "cell_type": "markdown",
   "metadata": {},
   "source": [
    "## Targets\n",
    "\n",
    "The webservices may also be used to obtain information on biological targets, _i.e._ the entities, such as proteins, cells or organisms, with which compounds interact.\n"
   ]
  },
  {
   "cell_type": "code",
   "execution_count": 56,
   "metadata": {
    "collapsed": false
   },
   "outputs": [
    {
     "data": {
      "text/plain": [
       "10774"
      ]
     },
     "execution_count": 56,
     "metadata": {},
     "output_type": "execute_result"
    }
   ],
   "source": [
    "# Like with any other resource type, a complete list of targets can be requested using the client:\n",
    "records = new_client.target.all()\n",
    "len(records)"
   ]
  },
  {
   "cell_type": "code",
   "execution_count": 57,
   "metadata": {
    "collapsed": false
   },
   "outputs": [
    {
     "data": {
      "text/plain": [
       "[{u'target_components': [{u'component_id': 434, u'accession': u'O43451', u'component_type': u'PROTEIN', u'target_component_synonyms': [{u'component_synonym': u'MGA ', u'syn_type': u'GENE_SYMBOL'}, {u'component_synonym': u'MGAML', u'syn_type': u'GENE_SYMBOL'}, {u'component_synonym': u'MGAM', u'syn_type': u'GENE_SYMBOL'}, {u'component_synonym': u'Maltase-glucoamylase, intestinal', u'syn_type': u'UNIPROT'}, {u'component_synonym': u'Maltase', u'syn_type': u'UNIPROT'}, {u'component_synonym': u'Glucoamylase', u'syn_type': u'UNIPROT'}, {u'component_synonym': u'Alpha-glucosidase', u'syn_type': u'UNIPROT'}, {u'component_synonym': u'Glucan 1,4-alpha-glucosidase', u'syn_type': u'UNIPROT'}, {u'component_synonym': u'3.2.1.20', u'syn_type': u'EC_NUMBER'}, {u'component_synonym': u'3.2.1.3', u'syn_type': u'EC_NUMBER'}]}], u'target_chembl_id': u'CHEMBL2074', u'target_type': u'SINGLE PROTEIN', u'pref_name': u'Maltase-glucoamylase', u'species_group_flag': False, u'organism': u'Homo sapiens'}, {u'target_components': [{u'component_id': 294, u'accession': u'O60706', u'component_type': u'PROTEIN', u'target_component_synonyms': [{u'component_synonym': u'SUR2', u'syn_type': u'GENE_SYMBOL'}, {u'component_synonym': u'ABCC9', u'syn_type': u'GENE_SYMBOL'}, {u'component_synonym': u'ATP-binding cassette sub-family C member 9', u'syn_type': u'UNIPROT'}, {u'component_synonym': u'Sulfonylurea receptor 2', u'syn_type': u'UNIPROT'}]}], u'target_chembl_id': u'CHEMBL1971', u'target_type': u'SINGLE PROTEIN', u'pref_name': u'Sulfonylurea receptor 2', u'species_group_flag': False, u'organism': u'Homo sapiens'}, {u'target_components': [{u'component_id': 124, u'accession': u'O76074', u'component_type': u'PROTEIN', u'target_component_synonyms': [{u'component_synonym': u'PDE5', u'syn_type': u'GENE_SYMBOL'}, {u'component_synonym': u'PDE5A', u'syn_type': u'GENE_SYMBOL'}, {u'component_synonym': u\"cGMP-specific 3',5'-cyclic phosphodiesterase\", u'syn_type': u'UNIPROT'}, {u'component_synonym': u'cGMP-binding cGMP-specific phosphodiesterase', u'syn_type': u'UNIPROT'}, {u'component_synonym': u'CGB-PDE', u'syn_type': u'UNIPROT'}, {u'component_synonym': u'3.1.4.35', u'syn_type': u'EC_NUMBER'}]}], u'target_chembl_id': u'CHEMBL1827', u'target_type': u'SINGLE PROTEIN', u'pref_name': u'Phosphodiesterase 5A', u'species_group_flag': False, u'organism': u'Homo sapiens'}, {u'target_components': [{u'component_id': 167, u'accession': u'O95180', u'component_type': u'PROTEIN', u'target_component_synonyms': [{u'component_synonym': u'CACNA1H', u'syn_type': u'GENE_SYMBOL'}, {u'component_synonym': u'Voltage-dependent T-type calcium channel subunit alpha-1H', u'syn_type': u'UNIPROT'}, {u'component_synonym': u'Low-voltage-activated calcium channel alpha1 3.2 subunit', u'syn_type': u'UNIPROT'}, {u'component_synonym': u'Voltage-gated calcium channel subunit alpha Cav3.2', u'syn_type': u'UNIPROT'}]}], u'target_chembl_id': u'CHEMBL1859', u'target_type': u'SINGLE PROTEIN', u'pref_name': u'Voltage-gated T-type calcium channel alpha-1H subunit', u'species_group_flag': False, u'organism': u'Homo sapiens'}]"
      ]
     },
     "execution_count": 57,
     "metadata": {},
     "output_type": "execute_result"
    }
   ],
   "source": [
    "records[:4]"
   ]
  },
  {
   "cell_type": "code",
   "execution_count": 58,
   "metadata": {
    "collapsed": false
   },
   "outputs": [
    {
     "name": "stdout",
     "output_type": "stream",
     "text": [
      "SINGLE PROTEIN                 6018\n",
      "ORGANISM                       2136\n",
      "CELL-LINE                      1630\n",
      "PROTEIN COMPLEX                 261\n",
      "TISSUE                          242\n",
      "PROTEIN FAMILY                  217\n",
      "SELECTIVITY GROUP                97\n",
      "PROTEIN COMPLEX GROUP            44\n",
      "NUCLEIC-ACID                     29\n",
      "PROTEIN-PROTEIN INTERACTION      21\n",
      "UNKNOWN                          18\n",
      "SMALL MOLECULE                   18\n",
      "SUBCELLULAR                       9\n",
      "METAL                             8\n",
      "PROTEIN NUCLEIC-ACID COMPLEX      6\n",
      "OLIGOSACCHARIDE                   6\n",
      "MACROMOLECULE                     5\n",
      "CHIMERIC PROTEIN                  4\n",
      "PHENOTYPE                         2\n",
      "NO TARGET                         1\n",
      "ADMET                             1\n",
      "UNCHECKED                         1\n"
     ]
    }
   ],
   "source": [
    "# Count target types...\n",
    "\n",
    "counts = Counter([x[\"target_type\"] for x in records if x[\"target_type\"]])\n",
    "\n",
    "for targetType, n in sorted(counts.items(), key=itemgetter(1), reverse=True): print(\"{:30s} {:-4d}\".format(targetType, n))"
   ]
  },
  {
   "cell_type": "markdown",
   "metadata": {},
   "source": [
    "### ChEMBL ID\n",
    "\n",
    "Data on any target type may be obtained _via_ a lookup of its ChEMBL ID.\n"
   ]
  },
  {
   "cell_type": "code",
   "execution_count": 59,
   "metadata": {
    "collapsed": true
   },
   "outputs": [],
   "source": [
    "# Receptor protein-tyrosine kinase erbB-2\n",
    "    \n",
    "chembl_id = \"CHEMBL1824\""
   ]
  },
  {
   "cell_type": "code",
   "execution_count": 60,
   "metadata": {
    "collapsed": false
   },
   "outputs": [
    {
     "data": {
      "text/plain": [
       "{u'organism': u'Homo sapiens',\n",
       " u'pref_name': u'Receptor protein-tyrosine kinase erbB-2',\n",
       " u'species_group_flag': False,\n",
       " u'target_chembl_id': u'CHEMBL1824',\n",
       " u'target_components': [{u'accession': u'P04626',\n",
       "   u'component_id': 120,\n",
       "   u'component_type': u'PROTEIN',\n",
       "   u'target_component_synonyms': [{u'component_synonym': u'HER2 ',\n",
       "     u'syn_type': u'GENE_SYMBOL'},\n",
       "    {u'component_synonym': u'MLN19', u'syn_type': u'GENE_SYMBOL'},\n",
       "    {u'component_synonym': u'NEU', u'syn_type': u'GENE_SYMBOL'},\n",
       "    {u'component_synonym': u'NGL', u'syn_type': u'GENE_SYMBOL'},\n",
       "    {u'component_synonym': u'ERBB2', u'syn_type': u'GENE_SYMBOL'},\n",
       "    {u'component_synonym': u'Receptor tyrosine-protein kinase erbB-2',\n",
       "     u'syn_type': u'UNIPROT'},\n",
       "    {u'component_synonym': u'Metastatic lymph node gene 19 protein',\n",
       "     u'syn_type': u'UNIPROT'},\n",
       "    {u'component_synonym': u'Proto-oncogene Neu', u'syn_type': u'UNIPROT'},\n",
       "    {u'component_synonym': u'Proto-oncogene c-ErbB-2',\n",
       "     u'syn_type': u'UNIPROT'},\n",
       "    {u'component_synonym': u'Tyrosine kinase-type cell surface receptor HER2',\n",
       "     u'syn_type': u'UNIPROT'},\n",
       "    {u'component_synonym': u'p185erbB2', u'syn_type': u'UNIPROT'},\n",
       "    {u'component_synonym': u'CD_antigen=CD340', u'syn_type': u'UNIPROT'},\n",
       "    {u'component_synonym': u'MLN 19', u'syn_type': u'UNIPROT'},\n",
       "    {u'component_synonym': u'2.7.10.1', u'syn_type': u'EC_NUMBER'}]}],\n",
       " u'target_type': u'SINGLE PROTEIN'}"
      ]
     },
     "execution_count": 60,
     "metadata": {},
     "output_type": "execute_result"
    }
   ],
   "source": [
    "record = new_client.target.get(chembl_id)\n",
    "\n",
    "record"
   ]
  },
  {
   "cell_type": "markdown",
   "metadata": {},
   "source": [
    "Remember that all targets have ChEMBL IDs, not just proteins..."
   ]
  },
  {
   "cell_type": "code",
   "execution_count": 61,
   "metadata": {
    "collapsed": true
   },
   "outputs": [],
   "source": [
    "# SK-BR-3, a cell line over-expressing erbB-2\n",
    "\n",
    "chembl_id = \"CHEMBL613834\" "
   ]
  },
  {
   "cell_type": "code",
   "execution_count": 62,
   "metadata": {
    "collapsed": false
   },
   "outputs": [
    {
     "data": {
      "text/plain": [
       "{u'organism': u'Homo sapiens',\n",
       " u'pref_name': u'SK-BR-3',\n",
       " u'species_group_flag': False,\n",
       " u'target_chembl_id': u'CHEMBL613834',\n",
       " u'target_components': [],\n",
       " u'target_type': u'CELL-LINE'}"
      ]
     },
     "execution_count": 62,
     "metadata": {},
     "output_type": "execute_result"
    }
   ],
   "source": [
    "record = new_client.target.get(chembl_id)\n",
    "\n",
    "record"
   ]
  },
  {
   "cell_type": "markdown",
   "metadata": {},
   "source": [
    "### UniProt ID\n",
    "\n",
    "Data on protein targets may also be obtained using UniProt ID."
   ]
  },
  {
   "cell_type": "code",
   "execution_count": 63,
   "metadata": {
    "collapsed": true
   },
   "outputs": [],
   "source": [
    "# UniProt ID for erbB-2, a target of Lapatinib\n",
    "\n",
    "uniprot_id = \"P04626\""
   ]
  },
  {
   "cell_type": "code",
   "execution_count": 64,
   "metadata": {
    "collapsed": false
   },
   "outputs": [
    {
     "name": "stdout",
     "output_type": "stream",
     "text": [
      "[(u'CHEMBL1824', u'Receptor protein-tyrosine kinase erbB-2'), (u'CHEMBL2363049', u'Epidermal growth factor receptor'), (u'CHEMBL2111431', u'Epidermal growth factor receptor and ErbB2 (HER1 and HER2)')]\n"
     ]
    }
   ],
   "source": [
    "records = new_client.target.filter(target_components__accession=uniprot_id)\n",
    "print [(x['target_chembl_id'], x['pref_name']) for x in records]"
   ]
  },
  {
   "cell_type": "markdown",
   "metadata": {},
   "source": [
    "### Bioactivities\n",
    "\n",
    "All bioactivities for a target may be retrieved."
   ]
  },
  {
   "cell_type": "code",
   "execution_count": 65,
   "metadata": {
    "collapsed": true
   },
   "outputs": [],
   "source": [
    "# Receptor protein-tyrosine kinase erbB-2\n",
    "\n",
    "chembl_id = \"CHEMBL1824\""
   ]
  },
  {
   "cell_type": "code",
   "execution_count": 66,
   "metadata": {
    "collapsed": false
   },
   "outputs": [
    {
     "data": {
      "text/plain": [
       "5893"
      ]
     },
     "execution_count": 66,
     "metadata": {},
     "output_type": "execute_result"
    }
   ],
   "source": [
    "records = new_client.activity.filter(target_chembl_id=chembl_id)\n",
    "\n",
    "len(records)"
   ]
  },
  {
   "cell_type": "code",
   "execution_count": 67,
   "metadata": {
    "collapsed": false
   },
   "outputs": [
    {
     "name": "stdout",
     "output_type": "stream",
     "text": [
      "1742 CHEMBL1909205  DRUGMATRIX: Protein Tyrosine Kinase, ERBB2 (HER2) enzyme inhibition (substrate: Poly(Glu:Tyr))\n",
      " 583 CHEMBL1963780  PUBCHEM_BIOASSAY: Navigating the Kinome. (Class of assay: other) Panel member name: ERBB2\n",
      " 369 CHEMBL1962280  GSK_PKIS: ERBB2 mean inhibition at 0.1 uM [Nanosyn]\n",
      " 369 CHEMBL1962281  GSK_PKIS: ERBB2 mean inhibition at 1 uM [Nanosyn]\n",
      "  83 CHEMBL874202   Inhibition of human epidermal growth factor receptor-2 (HER-2) autophosphorylation\n"
     ]
    }
   ],
   "source": [
    "# Show assays with most recorded bioactivities...\n",
    "\n",
    "for assay, n in sorted(Counter((x[\"assay_chembl_id\"], x[\"assay_description\"]) for x in records).items(), key=itemgetter(1), reverse=True)[:5]:\n",
    "    \n",
    "    print(\"{:-4d} {:14s} {}\".format(n, *assay))"
   ]
  },
  {
   "cell_type": "markdown",
   "metadata": {},
   "source": [
    "### Approved Drugs\n",
    "\n",
    "The approved drugs for a target may be retrieved."
   ]
  },
  {
   "cell_type": "code",
   "execution_count": 68,
   "metadata": {
    "collapsed": true
   },
   "outputs": [],
   "source": [
    "# Receptor protein-tyrosine kinase erbB-2\n",
    "\n",
    "chembl_id = \"CHEMBL1824\""
   ]
  },
  {
   "cell_type": "code",
   "execution_count": 69,
   "metadata": {
    "collapsed": false
   },
   "outputs": [
    {
     "name": "stdout",
     "output_type": "stream",
     "text": [
      "CHEMBL1201179 : LAPATINIB DITOSYLATE\n",
      "CHEMBL1201585 : TRASTUZUMAB\n",
      "CHEMBL1743082 : TRASTUZUMAB EMTANSINE\n",
      "CHEMBL2007641 : PERTUZUMAB\n",
      "CHEMBL2105712 : AFATINIB DIMALEATE\n"
     ]
    }
   ],
   "source": [
    "activities = new_client.mechanism.filter(target_chembl_id=chembl_id)\n",
    "compound_ids = [x['molecule_chembl_id'] for x in activities]\n",
    "approved_drugs = new_client.molecule.filter(molecule_chembl_id__in=compound_ids).filter(max_phase=4)\n",
    "\n",
    "for record in approved_drugs:\n",
    "    \n",
    "    print(\"{:10s} : {}\".format(record[\"molecule_chembl_id\"], record[\"pref_name\"]))"
   ]
  },
  {
   "cell_type": "markdown",
   "metadata": {},
   "source": [
    "## Assays\n",
    "\n",
    "Information about assays may also be retrieved by the web services."
   ]
  },
  {
   "cell_type": "markdown",
   "metadata": {},
   "source": [
    "### Assay details\n",
    "\n",
    "Details of an assay may be retrieved _via_ its ChEMBL ID."
   ]
  },
  {
   "cell_type": "code",
   "execution_count": 70,
   "metadata": {
    "collapsed": true
   },
   "outputs": [],
   "source": [
    "# Inhibitory activity against epidermal growth factor receptor\n",
    "\n",
    "chembl_id = \"CHEMBL674106\""
   ]
  },
  {
   "cell_type": "code",
   "execution_count": 71,
   "metadata": {
    "collapsed": false
   },
   "outputs": [
    {
     "data": {
      "text/plain": [
       "{u'assay_category': None,\n",
       " u'assay_cell_type': None,\n",
       " u'assay_chembl_id': u'CHEMBL674106',\n",
       " u'assay_organism': None,\n",
       " u'assay_strain': None,\n",
       " u'assay_subcellular_fraction': None,\n",
       " u'assay_tax_id': None,\n",
       " u'assay_test_type': None,\n",
       " u'assay_tissue': None,\n",
       " u'assay_type': u'B',\n",
       " u'assay_type_description': u'Binding',\n",
       " u'bao_format': u'BAO_0000357',\n",
       " u'cell_chembl_id': None,\n",
       " u'confidence_description': u'Homologous single protein target assigned',\n",
       " u'confidence_score': 8,\n",
       " u'description': u'Inhibitory activity against epidermal growth factor receptor',\n",
       " u'document_chembl_id': u'CHEMBL1146682',\n",
       " u'relationship_description': u'Homologous protein target assigned',\n",
       " u'relationship_type': u'H',\n",
       " u'src_assay_id': None,\n",
       " u'src_id': 1,\n",
       " u'target_chembl_id': u'CHEMBL203'}"
      ]
     },
     "execution_count": 71,
     "metadata": {},
     "output_type": "execute_result"
    }
   ],
   "source": [
    "record = new_client.assay.get(chembl_id)\n",
    "\n",
    "record"
   ]
  },
  {
   "cell_type": "markdown",
   "metadata": {},
   "source": [
    "### Bioactivities\n",
    "\n",
    "All bioactivity records for an assay may be requested."
   ]
  },
  {
   "cell_type": "code",
   "execution_count": 72,
   "metadata": {
    "collapsed": false
   },
   "outputs": [
    {
     "data": {
      "text/plain": [
       "(16,\n",
       " [{u'document_journal': u'Bioorg. Med. Chem. Lett.', u'bao_endpoint': u'BAO_0000190', u'potential_duplicate': None, u'uo_units': u'UO_0000065', u'canonical_smiles': u'Oc1ccc2ncnc(Nc3ccc(OCc4ccccc4)cc3)c2c1', u'assay_type': u'B', u'standard_flag': True, u'molecule_chembl_id': u'CHEMBL14932', u'target_organism': u'Homo sapiens', u'assay_description': u'Inhibitory activity against epidermal growth factor receptor', u'record_id': 15404, u'document_chembl_id': u'CHEMBL1146682', u'bao_format': u'BAO_0000357', u'standard_units': u'nM', u'activity_id': 183887, u'standard_type': u'IC50', u'target_chembl_id': u'CHEMBL203', u'data_validity_comment': None, u'standard_relation': u'=', u'document_year': 2004, u'target_pref_name': u'Epidermal growth factor receptor erbB1', u'assay_chembl_id': u'CHEMBL674106', u'published_value': u'98', u'published_relation': u'=', u'standard_value': u'98', u'qudt_units': u'http://www.openphacts.org/units/Nanomolar', u'published_units': u'nM', u'pchembl_value': u'7.01', u'published_type': u'IC50', u'activity_comment': None}, {u'document_journal': u'Bioorg. Med. Chem. Lett.', u'bao_endpoint': u'BAO_0000190', u'potential_duplicate': None, u'uo_units': u'UO_0000065', u'canonical_smiles': u'COCCOc1cc2ncnc(Nc3cccc(c3)C#C)c2cc1OCCOC', u'assay_type': u'B', u'standard_flag': True, u'molecule_chembl_id': u'CHEMBL553', u'target_organism': u'Homo sapiens', u'assay_description': u'Inhibitory activity against epidermal growth factor receptor', u'record_id': 15410, u'document_chembl_id': u'CHEMBL1146682', u'bao_format': u'BAO_0000357', u'standard_units': u'nM', u'activity_id': 186628, u'standard_type': u'IC50', u'target_chembl_id': u'CHEMBL203', u'data_validity_comment': None, u'standard_relation': u'=', u'document_year': 2004, u'target_pref_name': u'Epidermal growth factor receptor erbB1', u'assay_chembl_id': u'CHEMBL674106', u'published_value': u'0.001', u'published_relation': u'=', u'standard_value': u'1', u'qudt_units': u'http://www.openphacts.org/units/Nanomolar', u'published_units': u'uM', u'pchembl_value': u'9.00', u'published_type': u'IC50', u'activity_comment': None}])"
      ]
     },
     "execution_count": 72,
     "metadata": {},
     "output_type": "execute_result"
    }
   ],
   "source": [
    "records = new_client.activity.filter(assay_chembl_id=chembl_id)\n",
    "\n",
    "len(records), records[:2]"
   ]
  },
  {
   "cell_type": "markdown",
   "metadata": {},
   "source": [
    "## Other resources\n",
    "\n",
    "As noted previously, there are many other resources that can be useful. They won't be covered in this document in a great detail but some examples may be helpful."
   ]
  },
  {
   "cell_type": "code",
   "execution_count": 73,
   "metadata": {
    "collapsed": false
   },
   "outputs": [
    {
     "name": "stdout",
     "output_type": "stream",
     "text": [
      "[{u'doc_type': u'PUBLICATION', u'doi': u'10.1016/0960-894X(94)00451-K', u'title': None, u'journal': u'Bioorg. Med. Chem. Lett.', u'year': 1995, u'volume': u'5', u'first_page': u'15', u'last_page': u'18', u'pubmed_id': None, u'authors': None, u'document_chembl_id': u'CHEMBL1128135', u'issue': u'1'}, {u'doc_type': u'PUBLICATION', u'doi': u'10.1016/0960-894X(94)00456-P', u'title': None, u'journal': u'Bioorg. Med. Chem. Lett.', u'year': 1995, u'volume': u'5', u'first_page': u'19', u'last_page': u'24', u'pubmed_id': None, u'authors': None, u'document_chembl_id': u'CHEMBL1128136', u'issue': u'1'}, {u'doc_type': u'PUBLICATION', u'doi': u'10.1016/0960-894X(94)00452-L', u'title': None, u'journal': u'Bioorg. Med. Chem. Lett.', u'year': 1995, u'volume': u'5', u'first_page': u'25', u'last_page': u'30', u'pubmed_id': None, u'authors': None, u'document_chembl_id': u'CHEMBL1150533', u'issue': u'1'}, {u'doc_type': u'PUBLICATION', u'doi': u'10.1016/0960-894X(94)00449-P', u'title': None, u'journal': u'Bioorg. Med. Chem. Lett.', u'year': 1995, u'volume': u'5', u'first_page': u'35', u'last_page': u'38', u'pubmed_id': None, u'authors': None, u'document_chembl_id': u'CHEMBL1128137', u'issue': u'1'}, '...(remaining elements truncated)...']\n"
     ]
    }
   ],
   "source": [
    "# Documents - retrieve all publications published after 1985 in 5th volume.\n",
    "print new_client.document.filter(doc_type='PUBLICATION').filter(year__gt=1985).filter(volume=5)"
   ]
  },
  {
   "cell_type": "code",
   "execution_count": 74,
   "metadata": {
    "collapsed": false
   },
   "outputs": [
    {
     "name": "stdout",
     "output_type": "stream",
     "text": [
      "{u'efo_id': u'EFO_0002312', u'cell_id': 2, u'cell_source_tissue': u'Lyphoma', u'cellosaurus_id': u'CVCL_2676', u'cell_description': u'P3HR-1', u'cell_source_tax_id': 9606, u'cell_source_organism': u'Homo sapiens', u'cell_chembl_id': u'CHEMBL3307242', u'clo_id': u'CLO_0008331', u'cell_name': u'P3HR-1'}\n"
     ]
    }
   ],
   "source": [
    "# Cell lines:\n",
    "print new_client.cell_line.get('CHEMBL3307242')"
   ]
  },
  {
   "cell_type": "code",
   "execution_count": 75,
   "metadata": {
    "collapsed": false
   },
   "outputs": [
    {
     "name": "stdout",
     "output_type": "stream",
     "text": [
      "[{u'protein_class_id': 409, u'l6': u'CAMK protein kinase AMPK subfamily', u'l7': None, u'l4': u'CAMK protein kinase group', u'l5': u'CAMK protein kinase CAMK1 family', u'l2': u'Kinase', u'l3': u'Protein Kinase', u'l1': u'Enzyme', u'l8': None}]\n"
     ]
    }
   ],
   "source": [
    "# Protein class:\n",
    "print new_client.protein_class.filter(l6=\"CAMK protein kinase AMPK subfamily\")"
   ]
  },
  {
   "cell_type": "code",
   "execution_count": 76,
   "metadata": {
    "collapsed": false
   },
   "outputs": [
    {
     "name": "stdout",
     "output_type": "stream",
     "text": [
      "[{u'src_description': u'Gene Expression Atlas Compounds', u'src_short_name': u'ATLAS', u'src_id': 26}]\n"
     ]
    }
   ],
   "source": [
    "# Source:\n",
    "print new_client.source.filter(src_short_name=\"ATLAS\")"
   ]
  },
  {
   "cell_type": "code",
   "execution_count": 77,
   "metadata": {
    "collapsed": false
   },
   "outputs": [
    {
     "name": "stdout",
     "output_type": "stream",
     "text": [
      "{u'component_id': 375, u'description': u'Reverse transcriptase/RNaseH', u'component_type': u'PROTEIN', u'sequence': u'PISPIETVPVKLKPGMDGPKVKQWPLTEEKIKALVEICTEMEKEGKISKIGPENPYNTPVFAIKKKDSTKWRKLVDFRELNKRTQDFWEVQLGIPHPAGLKKRKSVTVLDVGDAYFSVPLDEDFRKYTAFTIPSINNETPGIRYQYNVLPQGWKGSPAIFQSSMTKILEPFRKQNPDIVIYQYMDDLYVGSDLEIGQHRTKIEELRQHLLRWGLTTPDKKHQKEPPFLWMGYELHPDKWTVQPIVLPEKDSWTVNDIQKLVGKLNWASQIYPGIRVRQLCKLLRGTKALTEVIPLTEEAELELAENREILKEPVHGVYYDPSKDLIAEIQKQGQGQWTYQIYQEPFKNLRTGKYARMRGAHTNDVKQLTEAVQKITTESIVIWGKTPKFKLPIQKETWETWWTEYWQATWIPEWEFVNTPPLVKLWYQLEKEPIVGAETFYVDGAANRETKLGKAGYVTNRGRQKVVTLTDTTNQKTELQAIYLALQDSGLEVNIVTDSQYALGIIQAQPDQSESELVNQIIEQLIKKEKVYLAWVPAHKGIGGNEQVDKLVSAGIRKVLFLDGID', u'accession': u'Q72547', u'protein_classifications': [{u'protein_classification_id': 646}], u'tax_id': 11676, u'organism': u'Human immunodeficiency virus 1', u'target_component_synonyms': [{u'component_synonym': u'pol', u'syn_type': u'GENE_SYMBOL'}, {u'component_synonym': u'Reverse transcriptase/RNaseH', u'syn_type': u'UNIPROT'}]}\n"
     ]
    }
   ],
   "source": [
    "# Target component:\n",
    "print new_client.target_component.get(375)"
   ]
  },
  {
   "cell_type": "code",
   "execution_count": 78,
   "metadata": {
    "collapsed": false
   },
   "outputs": [
    {
     "name": "stdout",
     "output_type": "stream",
     "text": [
      "COMPOUND\n"
     ]
    }
   ],
   "source": [
    "# ChEMBL ID Lookup: check if CHEMBL1 is a molecule, assay or target:\n",
    "print new_client.chembl_id_lookup.get(\"CHEMBL1\")['entity_type']\n"
   ]
  },
  {
   "cell_type": "code",
   "execution_count": 79,
   "metadata": {
    "collapsed": false
   },
   "outputs": [
    {
     "name": "stdout",
     "output_type": "stream",
     "text": [
      "{u'level1_description': u'SYSTEMIC HORMONAL PREPARATIONS, EXCL. ', u'level1': u'H', u'level2': u'H03', u'level3': u'H03A', u'level4': u'H03AA', u'level5': u'H03AA03', u'who_id': u'who1673', u'level4_description': u'Thyroid hormones', u'who_name': u'combinations of levothyroxine and liothyronine', u'level3_description': u'THYROID PREPARATIONS', u'level2_description': u'THYROID THERAPY'}\n"
     ]
    }
   ],
   "source": [
    "# ATC class:\n",
    "print new_client.atc_class.get('H03AA03')"
   ]
  }
 ],
 "metadata": {
  "kernelspec": {
   "display_name": "Python 2",
   "language": "python",
   "name": "python2"
  },
  "language_info": {
   "codemirror_mode": {
    "name": "ipython",
    "version": 2
   },
   "file_extension": ".py",
   "mimetype": "text/x-python",
   "name": "python",
   "nbconvert_exporter": "python",
   "pygments_lexer": "ipython2",
   "version": "2.7.6"
  }
 },
 "nbformat": 4,
 "nbformat_minor": 0
}
