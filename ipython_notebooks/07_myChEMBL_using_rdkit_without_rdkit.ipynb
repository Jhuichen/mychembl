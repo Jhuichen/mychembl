{
 "metadata": {
  "name": "",
  "signature": "sha256:337b90d27ec9bff9567e82d4442abfcd2cf54c1d89b6fbc2bd7a85efc80bf00e"
 },
 "nbformat": 3,
 "nbformat_minor": 0,
 "worksheets": [
  {
   "cells": [
    {
     "cell_type": "code",
     "collapsed": false,
     "input": [
      "#some preperiation/configuration first\n",
      "import chembl_webresource_client.utils as utils"
     ],
     "language": "python",
     "metadata": {},
     "outputs": [],
     "prompt_number": 2
    },
    {
     "cell_type": "code",
     "collapsed": false,
     "input": [],
     "language": "python",
     "metadata": {},
     "outputs": []
    }
   ],
   "metadata": {}
  }
 ]
}