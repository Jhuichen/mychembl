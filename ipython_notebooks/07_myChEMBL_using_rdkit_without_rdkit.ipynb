{
 "metadata": {
  "name": "",
  "signature": "sha256:81fcffe4b3faf038cad868ed5e50b1d554d05ab00f10bd8157abf3212411b170"
 },
 "nbformat": 3,
 "nbformat_minor": 0,
 "worksheets": [
  {
   "cells": [
    {
     "cell_type": "code",
     "collapsed": false,
     "input": [
      "# some preperiation/configuration first\n",
      "import json\n",
      "from lxml import etree\n",
      "from chembl_webresource_client.settings import Settings\n",
      "Settings.Instance().UTILS_SPORE_URL = 'http://127.0.0.1:80/utils/spore'\n",
      "import chembl_webresource_client.utils as utils"
     ],
     "language": "python",
     "metadata": {},
     "outputs": [],
     "prompt_number": 11
    },
    {
     "cell_type": "code",
     "collapsed": false,
     "input": [
      "# format conversion:\n",
      "# aspirin\n",
      "smiles = 'O=C(Oc1ccccc1C(=O)O)C'\n",
      "ctab = utils.smiles2ctab(smiles)\n",
      "print ctab"
     ],
     "language": "python",
     "metadata": {},
     "outputs": [
      {
       "output_type": "stream",
       "stream": "stdout",
       "text": [
        "\n",
        "     RDKit          2D\n",
        "\n",
        " 13 13  0  0  0  0  0  0  0  0999 V2000\n",
        "   -3.0122    1.1850    0.0000 O   0  0  0  0  0  0  0  0  0  0  0  0\n",
        "   -2.6987   -0.2818    0.0000 C   0  0  0  0  0  0  0  0  0  0  0  0\n",
        "   -1.2716   -0.7438    0.0000 O   0  0  0  0  0  0  0  0  0  0  0  0\n",
        "   -0.1580    0.2612    0.0000 C   0  0  0  0  0  0  0  0  0  0  0  0\n",
        "   -0.4715    1.7281    0.0000 C   0  0  0  0  0  0  0  0  0  0  0  0\n",
        "    0.6420    2.7330    0.0000 C   0  0  0  0  0  0  0  0  0  0  0  0\n",
        "    2.0691    2.2711    0.0000 C   0  0  0  0  0  0  0  0  0  0  0  0\n",
        "    2.3827    0.8043    0.0000 C   0  0  0  0  0  0  0  0  0  0  0  0\n",
        "    1.2691   -0.2007    0.0000 C   0  0  0  0  0  0  0  0  0  0  0  0\n",
        "    1.5826   -1.6676    0.0000 C   0  0  0  0  0  0  0  0  0  0  0  0\n",
        "    3.0097   -2.1295    0.0000 O   0  0  0  0  0  0  0  0  0  0  0  0\n",
        "    0.4690   -2.6725    0.0000 O   0  0  0  0  0  0  0  0  0  0  0  0\n",
        "   -3.8123   -1.2868    0.0000 C   0  0  0  0  0  0  0  0  0  0  0  0\n",
        "  1  2  2  0\n",
        "  2  3  1  0\n",
        "  3  4  1  0\n",
        "  4  5  2  0\n",
        "  5  6  1  0\n",
        "  6  7  2  0\n",
        "  7  8  1  0\n",
        "  8  9  2  0\n",
        "  9 10  1  0\n",
        " 10 11  2  0\n",
        " 10 12  1  0\n",
        "  2 13  1  0\n",
        "  9  4  1  0\n",
        "M  END\n",
        "$$$$\n",
        "\n"
       ]
      }
     ],
     "prompt_number": 3
    },
    {
     "cell_type": "code",
     "collapsed": false,
     "input": [
      "canonical_smiles = utils.ctab2smiles(ctab).split()[2]\n",
      "print canonical_smiles"
     ],
     "language": "python",
     "metadata": {},
     "outputs": [
      {
       "output_type": "stream",
       "stream": "stdout",
       "text": [
        "CC(=O)Oc1ccccc1C(=O)O\n"
       ]
      }
     ],
     "prompt_number": 4
    },
    {
     "cell_type": "code",
     "collapsed": false,
     "input": [
      "inchi = utils.ctab2inchi(ctab)\n",
      "print inchi"
     ],
     "language": "python",
     "metadata": {},
     "outputs": [
      {
       "output_type": "stream",
       "stream": "stdout",
       "text": [
        "InChI=1S/C9H8O4/c1-6(10)13-8-5-3-2-4-7(8)9(11)12/h2-5H,1H3,(H,11,12)\n"
       ]
      }
     ],
     "prompt_number": 5
    },
    {
     "cell_type": "code",
     "collapsed": false,
     "input": [
      "inchiKey = utils.inchi2inchiKey(inchi)\n",
      "print inchiKey"
     ],
     "language": "python",
     "metadata": {},
     "outputs": [
      {
       "output_type": "stream",
       "stream": "stdout",
       "text": [
        "BSYNRYMUTXBXSQ-UHFFFAOYSA-N\n"
       ]
      }
     ],
     "prompt_number": 6
    },
    {
     "cell_type": "code",
     "collapsed": false,
     "input": [
      "ctab2 = utils.inchi2ctab(inchi)\n",
      "smiles2 = utils.ctab2smiles(ctab2).split()[2]\n",
      "canonical_smiles == smiles2"
     ],
     "language": "python",
     "metadata": {},
     "outputs": [
      {
       "metadata": {},
       "output_type": "pyout",
       "prompt_number": 7,
       "text": [
        "True"
       ]
      }
     ],
     "prompt_number": 7
    },
    {
     "cell_type": "code",
     "collapsed": false,
     "input": [
      "# marvin utils\n",
      "# aspirin\n",
      "smiles = 'O=C(Oc1ccccc1C(=O)O)C'\n",
      "mrv = json.loads(utils.molExport(structure=smiles, parameters=\"mrv\"))['structure']\n",
      "root = etree.fromstring(mrv).getroottree()\n",
      "print etree.tostring(root, pretty_print=True)"
     ],
     "language": "python",
     "metadata": {},
     "outputs": [
      {
       "output_type": "stream",
       "stream": "stdout",
       "text": [
        "<cml>\n",
        "  <MDocument>\n",
        "    <MChemicalStruct>\n",
        "      <molecule molID=\"m1\">\n",
        "        <atomArray>\n",
        "          <atom elementType=\"O\" id=\"a1\" x2=\"-2.99879997601\" y2=\"1.1797333239\"/>\n",
        "          <atom elementType=\"C\" id=\"a2\" x2=\"-2.68669331184\" y2=\"-0.280559997756\"/>\n",
        "          <atom elementType=\"O\" id=\"a3\" x2=\"-1.26597332321\" y2=\"-0.740506660743\"/>\n",
        "          <atom elementType=\"C\" id=\"a4\" x2=\"-0.157359998741\" y2=\"0.260026664586\"/>\n",
        "          <atom elementType=\"C\" id=\"a5\" x2=\"-0.469466662911\" y2=\"1.72031998624\"/>\n",
        "          <atom elementType=\"C\" id=\"a6\" x2=\"0.639146661553\" y2=\"2.72085331157\"/>\n",
        "          <atom elementType=\"C\" id=\"a7\" x2=\"2.05986665019\" y2=\"2.26109331524\"/>\n",
        "          <atom elementType=\"C\" id=\"a8\" x2=\"2.37215998102\" y2=\"0.800613326928\"/>\n",
        "          <atom elementType=\"C\" id=\"a9\" x2=\"1.26354665656\" y2=\"-0.199733331735\"/>\n",
        "          <atom elementType=\"C\" id=\"a10\" x2=\"1.57565332073\" y2=\"-1.66021332005\"/>\n",
        "          <atom elementType=\"O\" id=\"a11\" x2=\"2.99637330936\" y2=\"-2.11997331637\"/>\n",
        "          <atom elementType=\"O\" id=\"a12\" x2=\"0.467039996264\" y2=\"-2.66074664538\"/>\n",
        "          <atom elementType=\"C\" id=\"a13\" x2=\"-3.7953066363\" y2=\"-1.28109332308\"/>\n",
        "        </atomArray>\n",
        "        <bondArray>\n",
        "          <bond atomRefs2=\"a1 a2\" order=\"2\"/>\n",
        "          <bond atomRefs2=\"a2 a3\" order=\"1\"/>\n",
        "          <bond atomRefs2=\"a3 a4\" order=\"1\"/>\n",
        "          <bond atomRefs2=\"a4 a5\" order=\"2\"/>\n",
        "          <bond atomRefs2=\"a5 a6\" order=\"1\"/>\n",
        "          <bond atomRefs2=\"a6 a7\" order=\"2\"/>\n",
        "          <bond atomRefs2=\"a7 a8\" order=\"1\"/>\n",
        "          <bond atomRefs2=\"a8 a9\" order=\"2\"/>\n",
        "          <bond atomRefs2=\"a9 a10\" order=\"1\"/>\n",
        "          <bond atomRefs2=\"a10 a11\" order=\"2\"/>\n",
        "          <bond atomRefs2=\"a10 a12\" order=\"1\"/>\n",
        "          <bond atomRefs2=\"a2 a13\" order=\"1\"/>\n",
        "          <bond atomRefs2=\"a9 a4\" order=\"1\"/>\n",
        "        </bondArray>\n",
        "      </molecule>\n",
        "    </MChemicalStruct>\n",
        "  </MDocument>\n",
        "</cml>\n",
        "\n"
       ]
      }
     ],
     "prompt_number": 12
    },
    {
     "cell_type": "code",
     "collapsed": false,
     "input": [
      "cml = '''<cml>\n",
      "             <MDocument>\n",
      "                 <MChemicalStruct>\n",
      "                     <molecule molID=\"m1\">\n",
      "                         <atomArray>\n",
      "                             <atom id=\"a1\" elementType=\"C\" x2=\"-3.1249866416667733\" y2=\"-0.5015733293207466\"/>\n",
      "                             <atom id=\"a2\" elementType=\"C\" x2=\"-4.458533297665067\" y2=\"-1.2715733231607467\"/>\n",
      "                             <atom id=\"a3\" elementType=\"C\" x2=\"-4.458533297665067\" y2=\"-2.81175997750592\"/>\n",
      "                             <atom id=\"a4\" elementType=\"C\" x2=\"-3.1249866416667733\" y2=\"-3.58175997134592\"/>\n",
      "                             <atom id=\"a5\" elementType=\"C\" x2=\"-1.7912533190033066\" y2=\"-2.81175997750592\"/>\n",
      "                             <atom id=\"a6\" elementType=\"C\" x2=\"-1.7912533190033066\" y2=\"-1.2715733231607467\"/>\n",
      "                             <atom id=\"a7\" elementType=\"C\" x2=\"-0.45751999633984003\" y2=\"-0.5013866626555733\"/>\n",
      "                             <atom id=\"a8\" elementType=\"O\" x2=\"-0.45751999633984003\" y2=\"1.0384266583592534\"/>\n",
      "                             <atom id=\"a9\" elementType=\"C\" x2=\"0.87583999299328\" y2=\"-1.2713866564955734\"/>\n",
      "                             <atom id=\"a10\" elementType=\"C\" x2=\"0.87583999299328\" y2=\"-2.8113866441755735\"/>\n",
      "                         </atomArray>\n",
      "                         <bondArray>\n",
      "                             <bond atomRefs2=\"a1 a2\" order=\"2\"/>\n",
      "                             <bond atomRefs2=\"a2 a3\" order=\"1\"/>\n",
      "                             <bond atomRefs2=\"a3 a4\" order=\"2\"/>\n",
      "                             <bond atomRefs2=\"a4 a5\" order=\"1\"/>\n",
      "                             <bond atomRefs2=\"a5 a6\" order=\"2\"/>\n",
      "                             <bond atomRefs2=\"a6 a1\" order=\"1\"/>\n",
      "                             <bond atomRefs2=\"a6 a7\" order=\"1\"/>\n",
      "                             <bond atomRefs2=\"a7 a9\" order=\"1\"/>\n",
      "                             <bond atomRefs2=\"a9 a10\" order=\"1\"/>\n",
      "                             <bond atomRefs2=\"a7 a8\" order=\"1\">\n",
      "                                 <bondStereo>W</bondStereo>\n",
      "                             </bond>\n",
      "                         </bondArray>\n",
      "                     </molecule>\n",
      "                 </MChemicalStruct>\n",
      "             </MDocument>\n",
      "         </cml>\n",
      "'''         \n",
      "stereo_info = json.loads(utils.cipStereoInfo(structure=cml))\n",
      "print stereo_info"
     ],
     "language": "python",
     "metadata": {},
     "outputs": [
      {
       "output_type": "stream",
       "stream": "stdout",
       "text": [
        "{u'headers': {u'tetraHedral': {u'source': u'CALCULATOR', u'type': u'COMPLEX', u'name': u'tetraHedral'}, u'doubleBond': {u'source': u'CALCULATOR', u'type': u'COMPLEX', u'name': u'doubleBond'}}, u'tetraHedral': [{u'atomIndex': 6, u'chirality': u'S'}], u'doubleBond': []}\n"
       ]
      }
     ],
     "prompt_number": 14
    },
    {
     "cell_type": "code",
     "collapsed": false,
     "input": [
      "# standardisation\n",
      "mol = utils.smiles2ctab(\"[Na]OC(=O)c1ccccc1\")\n",
      "br = utils.breakbonds(mol)\n",
      "smiles = utils.ctab2smiles(br).split()[2]\n",
      "print smiles\n",
      "# TODO : draw both images"
     ],
     "language": "python",
     "metadata": {},
     "outputs": [
      {
       "output_type": "stream",
       "stream": "stdout",
       "text": [
        "[Na+].O=C([O-])c1ccccc1\n"
       ]
      }
     ],
     "prompt_number": 16
    },
    {
     "cell_type": "code",
     "collapsed": false,
     "input": [
      "mol = utils.smiles2ctab(\"C(C(=O)[O-])(Cc1n[n-]nn1)(C[NH3+])(C[N+](=O)[O-])\")\n",
      "ne = utils.neutralise(mol)\n",
      "smiles = utils.ctab2smiles(ne).split()[2]\n",
      "print smiles\n",
      "# TODO : draw both images"
     ],
     "language": "python",
     "metadata": {},
     "outputs": [
      {
       "output_type": "stream",
       "stream": "stdout",
       "text": [
        "NCC(Cc1nn[nH]n1)(C[N+](=O)[O-])C(=O)O\n"
       ]
      }
     ],
     "prompt_number": 17
    },
    {
     "cell_type": "code",
     "collapsed": false,
     "input": [
      "mol = utils.smiles2ctab(\"Oc1nccc2cc[nH]c(=N)c12\")\n",
      "ru = utils.rules(mol)\n",
      "smiles = utils.ctab2smiles(ru).split()[2]\n",
      "print smiles\n",
      "# TODO : draw both images"
     ],
     "language": "python",
     "metadata": {},
     "outputs": [
      {
       "output_type": "stream",
       "stream": "stdout",
       "text": [
        "Nc1nccc2cc[nH]c(=O)c12\n"
       ]
      }
     ],
     "prompt_number": 18
    },
    {
     "cell_type": "code",
     "collapsed": false,
     "input": [
      "mol = utils.smiles2ctab(\"[Na+].OC(=O)Cc1ccc(CN)cc1.OS(=O)(=O)C(F)(F)F\")\n",
      "un = utils.unsalt(mol)\n",
      "smiles = utils.ctab2smiles(un).split()[2]\n",
      "print smiles\n",
      "# TODO : draw both images"
     ],
     "language": "python",
     "metadata": {},
     "outputs": [
      {
       "output_type": "stream",
       "stream": "stdout",
       "text": [
        "NCc1ccc(CC(=O)O)cc1\n"
       ]
      }
     ],
     "prompt_number": 19
    },
    {
     "cell_type": "code",
     "collapsed": false,
     "input": [
      "mol = utils.smiles2ctab(\"[Na]OC(=O)Cc1ccc(C[NH3+])cc1.c1nnn[n-]1.O\")\n",
      "st = utils.standardise(mol)\n",
      "smiles = utils.ctab2smiles(st).split()[2]\n",
      "print smiles\n",
      "# TODO : draw both images"
     ],
     "language": "python",
     "metadata": {},
     "outputs": [
      {
       "output_type": "stream",
       "stream": "stdout",
       "text": [
        "NCc1ccc(CC(=O)O)cc1\n"
       ]
      }
     ],
     "prompt_number": 20
    },
    {
     "cell_type": "code",
     "collapsed": false,
     "input": [
      "# calculations\n",
      "aspirin = utils.smiles2ctab('O=C(Oc1ccccc1C(=O)O)C')\n",
      "num_atoms = json.loads(utils.getNumAtoms(aspirin))[0]\n",
      "print \"num atoms = %s\" % num_atoms\n",
      "mol_wt = json.loads(utils.molWt(aspirin))[0]\n",
      "print \"mol_wt = %s\" % mol_wt\n",
      "log_p = json.loads(utils.logP(aspirin))[0]\n",
      "print \"log_p = %s\" % log_p\n",
      "tpsa = json.loads(utils.tpsa(aspirin))[0]\n",
      "print \"tpsa = %s\" % tpsa\n",
      "descriptors = json.loads(utils.descriptors(aspirin))[0]\n",
      "print descriptors"
     ],
     "language": "python",
     "metadata": {},
     "outputs": [
      {
       "output_type": "stream",
       "stream": "stdout",
       "text": [
        "num atoms = 13\n",
        "mol_wt = 180.159\n",
        "log_p = 1.3101\n",
        "tpsa = 63.6\n",
        "{u'Chi4v': 0.8871712192374136, u'Kappa3': 2.2974150325199276, u'Chi4n': 0.8871712192374136, u'SMR_VSA10': 11.938610575903699, u'Kappa2': 3.7092512583454584, u'MolWt': 180.15899999999996, u'VSA_EState10': 0.0, u'TPSA': 63.60000000000001, u'PEOE_VSA14': 11.938610575903699, u'PEOE_VSA13': 0.0, u'PEOE_VSA12': 0.0, u'PEOE_VSA11': 0.0, u'PEOE_VSA10': 11.3129633249809, u'BalabanJ': 3.0435273546341013, u'EState_VSA10': 9.589074368143644, u'EState_VSA11': 0.0, u'HeavyAtomMolWt': 172.09499999999997, u'Chi0': 9.844934982691242, u'Chi1': 6.109060905280622, u'MolLogP': 1.3100999999999998, u'NumValenceElectrons': 68.0, u'HallKierAlpha': -1.8399999999999999, u'VSA_EState4': 0.0, u'Ipc': 729.6807528797516, u'VSA_EState6': 0.0, u'VSA_EState7': 0.0, u'NumHDonors': 1, u'VSA_EState2': 0.0, u'VSA_EState3': 0.0, u'SlogP_VSA12': 0.0, u'VSA_EState9': 40.166666666666664, u'SlogP_VSA10': 0.0, u'SlogP_VSA11': 5.749511833283905, u'NHOHCount': 1, u'SlogP_VSA8': 0.0, u'SlogP_VSA9': 0.0, u'SlogP_VSA4': 0.0, u'SlogP_VSA5': 17.281725875459443, u'SlogP_VSA6': 24.26546827384644, u'SlogP_VSA7': 0.0, u'SlogP_VSA1': 4.736862953800049, u'SlogP_VSA2': 17.045137970744406, u'SlogP_VSA3': 4.794537184071822, u'NumRadicalElectrons': 0.0, u'NumHeteroatoms': 4, u'BertzCT': 343.2228677267164, u'LabuteASA': 74.75705264447721, u'Chi3n': 1.371154664944503, u'SMR_VSA3': 0.0, u'SMR_VSA2': 0.0, u'SMR_VSA1': 19.432464716784395, u'Chi3v': 1.371154664944503, u'SMR_VSA6': 0.0, u'SMR_VSA5': 6.923737199690624, u'SMR_VSA4': 0.0, u'EState_VSA6': 12.13273413692322, u'SMR_VSA7': 29.828919765543436, u'SMR_VSA9': 5.749511833283905, u'EState_VSA5': 19.056471336613846, u'EState_VSA2': 11.3129633249809, u'EState_VSA3': 0.0, u'EState_VSA1': 11.938610575903699, u'EState_VSA8': 4.736862953800049, u'VSA_EState5': 0.0, u'EState_VSA9': 5.106527394840706, u'EState_VSA7': 0.0, u'EState_VSA4': 0.0, u'VSA_EState1': 0.0, u'SMR_VSA8': 0.0, u'Chi2n': 2.3949556783206725, u'Chi2v': 2.3949556783206725, u'HeavyAtomCount': 13, u'NumHAcceptors': 3, u'VSA_EState8': 0.0, u'NOCount': 4, u'Chi1n': 3.6174536478673307, u'PEOE_VSA8': 6.923737199690624, u'PEOE_VSA7': 12.13273413692322, u'PEOE_VSA6': 12.13273413692322, u'PEOE_VSA5': 0.0, u'PEOE_VSA4': 0.0, u'PEOE_VSA3': 4.794537184071822, u'PEOE_VSA2': 4.794537184071822, u'PEOE_VSA1': 9.843390348640755, u'Chi1v': 3.6174536478673307, u'Kappa1': 9.249605734767023, u'Chi0n': 6.981359543650051, u'MolMR': 44.71030000000002, u'PEOE_VSA9': 0.0, u'MolecularFormula': u'C9H8O4', u'RingCount': 1, u'Chi0v': 6.981359543650051, u'NumRotatableBonds': 3}\n"
       ]
      }
     ],
     "prompt_number": 22
    },
    {
     "cell_type": "code",
     "collapsed": false,
     "input": [
      "# fingerprints\n",
      "aspirin = utils.smiles2ctab('O=C(Oc1ccccc1C(=O)O)C')\n",
      "fingerprints = utils.sdf2fps(aspirin)\n",
      "print fingerprints"
     ],
     "language": "python",
     "metadata": {},
     "outputs": [
      {
       "output_type": "stream",
       "stream": "stdout",
       "text": [
        "#FPS1\n",
        "#num_bits=2048\n",
        "#software=RDKit/2012.09.1\n",
        "00000000000000000000000000000000000000000000000000000000000000000000000000000000000000000000000020000000000000000001000000000000000000000000000000000000000000000004000000008000000000000000000000000000800000000000000000000000002000000000000000000000000000020008800002000000010000000000000000000000008000000000000000000000000000000000000000000000100000000400000080000010000000000000000000000000000000000000010000000000000000000000000002004000008000000000000000000000000002000000002000000000000004008000000000000000\tBSYNRYMUTXBXSQ-UHFFFAOYSA-N\n",
        "\n"
       ]
      }
     ],
     "prompt_number": 23
    },
    {
     "cell_type": "code",
     "collapsed": false,
     "input": [
      "# json images\n",
      "aspirin = 'O=C(Oc1ccccc1C(=O)O)C'\n",
      "js1 = json.loads(utils.smiles2json(aspirin))\n",
      "print js1"
     ],
     "language": "python",
     "metadata": {},
     "outputs": [
      {
       "output_type": "stream",
       "stream": "stdout",
       "text": [
        "[{u'path': u'M37.5727293385,74.9286388554L41.0885403667,91.3776444403', u'stroke': u'rgb(255, 0, 0)', u'stroke-width': 1.2, u'type': u'path'}, {u'path': u'M41.0885403667,91.3776444403L44.6043513949,107.826650025', u'stroke': u'rgb(0, 0, 0)', u'stroke-width': 1.2, u'type': u'path'}, {u'path': u'M45.3134376749,73.2741395852L48.8292487031,89.7231451701', u'stroke': u'rgb(255, 0, 0)', u'stroke-width': 1.2, u'type': u'path'}, {u'path': u'M48.8292487031,89.7231451701L52.3450597313,106.172150755', u'stroke': u'rgb(0, 0, 0)', u'stroke-width': 1.2, u'type': u'path'}, {u'height': 10.554066799834093, u'width': 10.554066799834093, u'stroke': u'rgb(255, 255, 255)', u'y': 68.82435582039928, u'x': 36.16605010679536, u'type': u'rect', u'fill': u'rgb(255, 255, 255)'}, {u'font-size': 10.554066799834093, u'text': u'O', u'stroke': u'rgb(255, 0, 0)', u'y': 74.10138922031632, u'x': 41.443083506712405, u'type': u'text'}, {u'path': u'M48.4747055631,106.99940039L64.4778666994,112.179122145', u'stroke': u'rgb(0, 0, 0)', u'stroke-width': 1.2, u'type': u'path'}, {u'path': u'M64.4778666994,112.179122145L80.4810278356,117.3588439', u'stroke': u'rgb(255, 0, 0)', u'stroke-width': 1.2, u'type': u'path'}, {u'path': u'M48.4747055631,106.99940039L23.5,129.537966713', u'stroke': u'rgb(0, 0, 0)', u'stroke-width': 1.2, u'type': u'path'}, {u'path': u'M80.4810278356,117.3588439L92.9683799487,106.089560738', u'stroke': u'rgb(255, 0, 0)', u'stroke-width': 1.2, u'type': u'path'}, {u'path': u'M92.9683799487,106.089560738L105.455732062,94.8202775767', u'stroke': u'rgb(0, 0, 0)', u'stroke-width': 1.2, u'type': u'path'}, {u'height': 10.554066799834093, u'width': 10.554066799834093, u'stroke': u'rgb(255, 255, 255)', u'y': 112.08181049999853, u'x': 75.20399443565375, u'type': u'rect', u'fill': u'rgb(255, 255, 255)'}, {u'font-size': 10.554066799834093, u'text': u'O', u'stroke': u'rgb(255, 0, 0)', u'y': 117.35884389991557, u'x': 80.4810278355708, u'type': u'text'}, {u'path': u'M105.455732062,94.8202775767L98.4241120107,61.9222677437', u'stroke': u'rgb(0, 0, 0)', u'stroke-width': 1.2, u'type': u'path'}, {u'path': u'M112.493278476,89.8759777101L106.867982435,63.5575698437', u'stroke': u'rgb(0, 0, 0)', u'stroke-width': 1.2, u'type': u'path'}, {u'path': u'M137.462055671,105.179721421L105.455732062,94.8202775767', u'stroke': u'rgb(0, 0, 0)', u'stroke-width': 1.2, u'type': u'path'}, {u'path': u'M98.4241120107,61.9222677437L123.398815569,39.3837014205', u'stroke': u'rgb(0, 0, 0)', u'stroke-width': 1.2, u'type': u'path'}, {u'path': u'M123.398815569,39.3837014205L155.405139178,49.7431435935', u'stroke': u'rgb(0, 0, 0)', u'stroke-width': 1.2, u'type': u'path'}, {u'path': u'M124.16193212,47.9505453226L149.766991008,56.238099061', u'stroke': u'rgb(0, 0, 0)', u'stroke-width': 1.2, u'type': u'path'}, {u'path': u'M155.405139178,49.7431435935L162.436755887,82.6411547633', u'stroke': u'rgb(0, 0, 0)', u'stroke-width': 1.2, u'type': u'path'}, {u'path': u'M162.436755887,82.6411547633L137.462055671,105.179721421', u'stroke': u'rgb(0, 0, 0)', u'stroke-width': 1.2, u'type': u'path'}, {u'path': u'M154.636093339,79.0186109657L134.656333166,97.0494642916', u'stroke': u'rgb(0, 0, 0)', u'stroke-width': 1.2, u'type': u'path'}, {u'path': u'M137.462055671,105.179721421L144.493675054,138.077732256', u'stroke': u'rgb(0, 0, 0)', u'stroke-width': 1.2, u'type': u'path'}, {u'path': u'M143.274916911,141.843182021L159.278079384,147.022904445', u'stroke': u'rgb(0, 0, 0)', u'stroke-width': 1.2, u'type': u'path'}, {u'path': u'M159.278079384,147.022904445L175.281241857,152.202626868', u'stroke': u'rgb(255, 0, 0)', u'stroke-width': 1.2, u'type': u'path'}, {u'path': u'M145.712433197,134.312282491L161.71559567,139.492004914', u'stroke': u'rgb(0, 0, 0)', u'stroke-width': 1.2, u'type': u'path'}, {u'path': u'M161.71559567,139.492004914L177.718758143,144.671727338', u'stroke': u'rgb(255, 0, 0)', u'stroke-width': 1.2, u'type': u'path'}, {u'path': u'M144.493675054,138.077732256L132.006323609,149.347015418', u'stroke': u'rgb(0, 0, 0)', u'stroke-width': 1.2, u'type': u'path'}, {u'path': u'M132.006323609,149.347015418L119.518972164,160.61629858', u'stroke': u'rgb(255, 0, 0)', u'stroke-width': 1.2, u'type': u'path'}, {u'height': 10.554066799834093, u'width': 10.554066799834093, u'stroke': u'rgb(255, 255, 255)', u'y': 143.16014370297427, u'x': 171.22296660008294, u'type': u'rect', u'fill': u'rgb(255, 255, 255)'}, {u'font-size': 10.554066799834093, u'text': u'O', u'stroke': u'rgb(255, 0, 0)', u'y': 148.43717710289133, u'x': 176.5, u'type': u'text'}, {u'height': 10.554066799834093, u'width': 21.108133599668186, u'stroke': u'rgb(255, 255, 255)', u'y': 155.33926517959776, u'x': 108.96490536459511, u'type': u'rect', u'fill': u'rgb(255, 255, 255)'}, {u'font-size': 10.554066799834093, u'text': u'HO', u'stroke': u'rgb(255, 0, 0)', u'y': 160.61629857951482, u'x': 119.5189721644292, u'type': u'text'}]\n"
       ]
      }
     ],
     "prompt_number": 24
    },
    {
     "cell_type": "code",
     "collapsed": false,
     "input": [
      "# svg images\n",
      "benzene = 'c1ccccc1'\n",
      "svg = utils.smiles2svg(benzene)\n",
      "root = etree.fromstring(svg).getroottree()\n",
      "print etree.tostring(root, pretty_print=True)"
     ],
     "language": "python",
     "metadata": {},
     "outputs": [
      {
       "output_type": "stream",
       "stream": "stdout",
       "text": [
        "<svg xmlns=\"http://www.w3.org/2000/svg\" xmlns:xlink=\"http://www.w3.org/1999/xlink\" width=\"200pt\" height=\"200pt\" viewBox=\"0 0 200 200\" version=\"1.1\">\n",
        "<g id=\"surface0\">\n",
        "<path style=\" stroke:none;fill-rule:nonzero;fill:rgb(100%,100%,100%);fill-opacity:1;\" d=\"M 0 0 L 200 0 L 200 200 L 0 200 Z M 0 0 \"/>\n",
        "<path style=\"fill:none;stroke-width:1.2;stroke-linecap:butt;stroke-linejoin:miter;stroke:rgb(0%,0%,0%);stroke-opacity:1;stroke-miterlimit:10;\" d=\"M 138.25 100 L 119.125 133.125 \"/>\n",
        "<path style=\"fill:none;stroke-width:1.2;stroke-linecap:butt;stroke-linejoin:miter;stroke:rgb(0%,0%,0%);stroke-opacity:1;stroke-miterlimit:10;\" d=\"M 129.84375 99.5625 L 114.542969 126.0625 \"/>\n",
        "<path style=\"fill:none;stroke-width:1.2;stroke-linecap:butt;stroke-linejoin:miter;stroke:rgb(0%,0%,0%);stroke-opacity:1;stroke-miterlimit:10;\" d=\"M 119.125 133.125 L 80.875 133.125 \"/>\n",
        "<path style=\"fill:none;stroke-width:1.2;stroke-linecap:butt;stroke-linejoin:miter;stroke:rgb(0%,0%,0%);stroke-opacity:1;stroke-miterlimit:10;\" d=\"M 80.875 133.125 L 61.75 100 \"/>\n",
        "<path style=\"fill:none;stroke-width:1.2;stroke-linecap:butt;stroke-linejoin:miter;stroke:rgb(0%,0%,0%);stroke-opacity:1;stroke-miterlimit:10;\" d=\"M 85.457031 126.0625 L 70.15625 99.5625 \"/>\n",
        "<path style=\"fill:none;stroke-width:1.2;stroke-linecap:butt;stroke-linejoin:miter;stroke:rgb(0%,0%,0%);stroke-opacity:1;stroke-miterlimit:10;\" d=\"M 61.75 100 L 80.875 66.875 \"/>\n",
        "<path style=\"fill:none;stroke-width:1.2;stroke-linecap:butt;stroke-linejoin:miter;stroke:rgb(0%,0%,0%);stroke-opacity:1;stroke-miterlimit:10;\" d=\"M 80.875 66.875 L 119.125 66.875 \"/>\n",
        "<path style=\"fill:none;stroke-width:1.2;stroke-linecap:butt;stroke-linejoin:miter;stroke:rgb(0%,0%,0%);stroke-opacity:1;stroke-miterlimit:10;\" d=\"M 84.699219 74.375 L 115.300781 74.375 \"/>\n",
        "<path style=\"fill:none;stroke-width:1.2;stroke-linecap:butt;stroke-linejoin:miter;stroke:rgb(0%,0%,0%);stroke-opacity:1;stroke-miterlimit:10;\" d=\"M 119.125 66.875 L 138.25 100 \"/>\n",
        "</g>\n",
        "</svg>\n",
        "\n"
       ]
      }
     ],
     "prompt_number": 25
    },
    {
     "cell_type": "code",
     "collapsed": false,
     "input": [
      "#raster images"
     ],
     "language": "python",
     "metadata": {},
     "outputs": []
    }
   ],
   "metadata": {}
  }
 ]
}