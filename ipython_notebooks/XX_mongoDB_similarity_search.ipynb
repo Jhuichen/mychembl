{
 "cells": [
  {
   "cell_type": "markdown",
   "metadata": {},
   "source": [
    "#Chemical similarity search in MongoDB\n",
    "\n",
    "### myChEMBL team, ChEMBL group, EMBL-EBI.\n",
    "\n",
    "##What is this?\n",
    "\n",
    "This IPython Notebook is intended to provide an overview of how to perform time efficient chemical searches in MongoDB. It is based on the [blog post](http://blog.matt-swain.com/post/87093745652/chemical-similarity-search-in-mongodb) by Matt Swain."
   ]
  },
  {
   "cell_type": "markdown",
   "metadata": {},
   "source": [
    "Some necessary imports first. Here we import some Python core libraries, IPython utilities and plotting helpers."
   ]
  },
  {
   "cell_type": "code",
   "execution_count": 1,
   "metadata": {
    "collapsed": false
   },
   "outputs": [
    {
     "name": "stdout",
     "output_type": "stream",
     "text": [
      "Populating the interactive namespace from numpy and matplotlib\n"
     ]
    },
    {
     "name": "stderr",
     "output_type": "stream",
     "text": [
      ":0: FutureWarning: IPython widgets are experimental and may change in the future.\n"
     ]
    }
   ],
   "source": [
    "%matplotlib inline\n",
    "%pylab inline\n",
    "from IPython.display import Image\n",
    "from IPython.html.widgets import FloatProgress\n",
    "from IPython.display import display\n",
    "import matplotlib.pyplot as plt\n",
    "import pandas as pd\n",
    "from scipy.interpolate import interp1d\n",
    "import random\n",
    "import time\n",
    "import sys\n",
    "import os\n",
    "from itertools import groupby"
   ]
  },
  {
   "cell_type": "markdown",
   "metadata": {},
   "source": [
    "We are using RDKit for all chemoinformatics calculations:"
   ]
  },
  {
   "cell_type": "code",
   "execution_count": 2,
   "metadata": {
    "collapsed": true
   },
   "outputs": [],
   "source": [
    "from rdkit import Chem\n",
    "from rdkit.Chem import AllChem"
   ]
  },
  {
   "cell_type": "markdown",
   "metadata": {},
   "source": [
    "For connecting to ChEMBL database we will use Django ORM, described in [notebook 08](https://github.com/chembl/mychembl/blob/master/ipython_notebooks/08_myChEMBL_Django_ORM.ipynb). We have to import ChEMBL Django model as well:"
   ]
  },
  {
   "cell_type": "code",
   "execution_count": 3,
   "metadata": {
    "collapsed": true
   },
   "outputs": [],
   "source": [
    "sys.path.append('/home/chembl/ipynb_workbench')\n",
    "os.environ.setdefault(\"DJANGO_SETTINGS_MODULE\", \"settings\")\n",
    "import chembl_migration_model\n",
    "from chembl_migration_model.models import *\n",
    "from chembl_core_model.models import CompoundMols"
   ]
  },
  {
   "cell_type": "markdown",
   "metadata": {},
   "source": [
    "For connecting to mongoDB we will use pymongo."
   ]
  },
  {
   "cell_type": "code",
   "execution_count": 4,
   "metadata": {
    "collapsed": true
   },
   "outputs": [],
   "source": [
    "import pymongo\n",
    "from bson.binary import Binary\n",
    "from bson.objectid import ObjectId\n",
    "from pymongo import MongoClient"
   ]
  },
  {
   "cell_type": "markdown",
   "metadata": {},
   "source": [
    "Here we establish connection with mongoDB and create a new database called 'similarity':"
   ]
  },
  {
   "cell_type": "code",
   "execution_count": 5,
   "metadata": {
    "collapsed": true
   },
   "outputs": [],
   "source": [
    "client = MongoClient()\n",
    "db = client.similarity"
   ]
  },
  {
   "cell_type": "markdown",
   "metadata": {},
   "source": [
    "## Populating the MongoDB database\n",
    "\n",
    "Our first task will be to retrieve all compounds from ChEMBL and insert them to MongoDB collection. For each compound in ChEMBL we will select its CHEMBL ID and SMILES string, we will use Django ORM to retrieve this data like this:"
   ]
  },
  {
   "cell_type": "code",
   "execution_count": 6,
   "metadata": {
    "collapsed": true
   },
   "outputs": [],
   "source": [
    "smiles = MoleculeDictionary.objects.values_list('compoundstructures__canonical_smiles', 'chembl_id')\n",
    "smi_count = smiles.count()"
   ]
  },
  {
   "cell_type": "markdown",
   "metadata": {},
   "source": [
    "If the molecules are already loaded we won't do anything. Otherwise we will iterate over all compounds in ChEMBL and use RDKit to create a binary object (we will use it later to compute fingerprints) and SMILES (RDKit uses different algorithm for generating SMILES than the one used at ChEMBL). There are some compounds in ChEMBL db, which current can't be handled by RDKit, this is why we are using `try`/`except` blocks. It is not good practice to catch all exceptions (having single `except` keyword is called pockemon exception handling) but this is not mission critical code. So for each compound we will store a document containing SMILES, RDKit object and CHEMBL ID."
   ]
  },
  {
   "cell_type": "code",
   "execution_count": 13,
   "metadata": {
    "collapsed": false
   },
   "outputs": [
    {
     "name": "stdout",
     "output_type": "stream",
     "text": [
      "populating mongodb collection with compounds from chembl...\n",
      "1455713 molecules loaded successfully\n"
     ]
    }
   ],
   "source": [
    "if 'molecules' not in db.collection_names():\n",
    "    print 'populating mongodb collection with compounds from chembl...'\n",
    "    sys.stdout.flush()\n",
    "    molecules = db.molecules\n",
    "    percentile = int(smi_count / 100)\n",
    "    pbar = FloatProgress(min=0, max=smi_count)\n",
    "    display(pbar)\n",
    "    chunk_size = 100\n",
    "    chunk = []\n",
    "    for i, item in enumerate(smiles):\n",
    "        if not (i % percentile):\n",
    "            pbar.value = (i + 1)\n",
    "        try:\n",
    "            rdmol = Chem.MolFromSmiles(item[0])\n",
    "        except:\n",
    "            continue\n",
    "        if not rdmol:\n",
    "            continue\n",
    "        mol_data = {\n",
    "            'smiles': Chem.MolToSmiles(rdmol, isomericSmiles=True),\n",
    "            'chembl_id': item[1],\n",
    "            'rdmol': Binary(rdmol.ToBinary()),\n",
    "        }\n",
    "        chunk.append(mol_data)\n",
    "        if len(chunk) == chunk_size:\n",
    "            molecules.insert_many(chunk)\n",
    "            chunk = []\n",
    "    molecules.insert_many(chunk)\n",
    "    chunk = []        \n",
    "    pbar.value = smi_count\n",
    "    print '%s molecules loaded successfully' % molecules.count()"
   ]
  },
  {
   "cell_type": "markdown",
   "metadata": {},
   "source": [
    "## Chemical similarity basics\n",
    "\n",
    "In practice, efficient calculation of the [similarity](https://en.wikipedia.org/wiki/Chemical_similarity) of any two molecules is achieved using molecular fingerprints that encode structural information about the molecule as a series of bits (0 or 1). Typically these bits represent the presence or absence of particular patterns or substructures — two molecules that contain more of the same patterns will have more bits in common, indicating that they are more similar. The most commonly used measure for quantifying the similarity of two fingerprints is the [Tanimoto (a.k.a. Jaccard) coefficient](https://en.wikipedia.org/wiki/Jaccard_index), given by:\n",
    "\n",
    "$$T = \\frac{N_{ab}}{N_{a} + N_{b} - N_{ab}}$$\n",
    "\n",
    "where $N_{a}$ and $N_{b}$ are the number of ‘on’ fingerprint bits (i.e corresponding to the presence of a pattern) in the fingerprints of molecule $a$ and molecule $b$ respectively. $N_{ab}$ is the number of fingerprint bits common to the fingerprints of both molecule $a$ and $b$. The Tanimoto coefficient ranges from 0 when the fingerprints have no bits in common, to 1 when the fingerprints are identical."
   ]
  },
  {
   "cell_type": "markdown",
   "metadata": {},
   "source": [
    "##Generating fingerprints\n",
    "\n",
    "[Morgan (a.k.a. circular) fingerprints](http://www.rdkit.org/docs/GettingStartedInPython.html#morgan-fingerprints-circular-fingerprints) are an [ECFP](http://pubs.acs.org/doi/abs/10.1021/ci100050t)-like family of fingerprints that RDKit can generate. Instead of being based on bits that correspond to a fixed set of predefined substructural keys, ECFPs consist of integer codes that are generated using a hashing procedure from the local environments around each atom in multiple circular layers up to a given radius. Given a radius (e.g. 2), RDKit will return a Morgan fingerprint as a count vector that consists of a list of unique integers codes, each with a count that corresponds to the number of times the corresponding substructure occurs in the molecule:\n",
    "\n",
    "    mfp = AllChem.GetMorganFingerprint(rdmol, 2)\n",
    "\n",
    "While this is the most information-rich representation of this fingerprint, there are two things to note:\n",
    "\n",
    "Firstly, each fingerprint consists of typically less than 100 integer codes that are sparsely mapped over a vast space of $2^{32}$ possible integers. Storing these in the database as explicit bit vectors would be hugely inefficient and impractical (even impossible?), so RDKit also has the ability to fold the fingerprints down to a fixed length bit vector. Fortunately, for our purposes it is actually preferable to store the fingerprints in MongoDB as an array of just the ‘on’ bit positions, negating most of the problems with sparse fingerprints and making it possible to use unfolded fingerprints. Nevertheless, it is worth investigating the impact that folding has on both query performance and quality of the query results.\n",
    "\n",
    "Secondly, it’s worth considering how best to use the count information associated with each integer code. For now, we have just discarded this information and treated the fingerprint as a traditional on/off bit vector. However, it shouldn’t be too difficult to retain and use this information when calculating similarities. We expect this could improve the quality of the query results, but could potentially have a negative impact on query performance.\n",
    "\n",
    "It's important to pre-calculate the fingerprint for every molecule in the database so it doesn’t have to be redundantly calculated every time a search is performed, we can append fingerprint information to each document in the `molecules` collection:"
   ]
  },
  {
   "cell_type": "code",
   "execution_count": 18,
   "metadata": {
    "collapsed": false
   },
   "outputs": [
    {
     "name": "stdout",
     "output_type": "stream",
     "text": [
      "precalculating fingerprints...\n",
      "...done\n"
     ]
    }
   ],
   "source": [
    "print 'precalculating fingerprints...'\n",
    "sys.stdout.flush()\n",
    "mol_count = molecules.count()\n",
    "percentile = int(mol_count / 100)\n",
    "pbar = FloatProgress(min=0, max=mol_count)\n",
    "display(pbar)\n",
    "for i, molecule in enumerate(db.molecules.find()):\n",
    "    if not (i % percentile):\n",
    "        pbar.value = (i + 1)\n",
    "    rdmol = Chem.Mol(molecule['rdmol'])\n",
    "    mfp = list(AllChem.GetMorganFingerprintAsBitVect(rdmol, 2, nBits=2048).GetOnBits())\n",
    "    db.molecules.update_one({'_id': molecule['_id']}, {\"$set\":{\"mfp\":{'bits': mfp, 'count': len(mfp)}}} )\n",
    "pbar.value = mol_count    \n",
    "print '...done'"
   ]
  },
  {
   "cell_type": "markdown",
   "metadata": {},
   "source": [
    "Figure below shows the distribution of the number of ‘on’ bits in the fingerprint for each molecule calculated for the entire ChEMBL database. Folded fingerprints show similar distributions, but with slightly lower mean values due to collisions where two or more different integer codes get folded onto the same bit position in the smaller fixed range."
   ]
  },
  {
   "cell_type": "code",
   "execution_count": 84,
   "metadata": {
    "collapsed": false
   },
   "outputs": [
    {
     "data": {
      "image/png": "[encoded data removed]",
      "text/plain": [
       "<matplotlib.figure.Figure at 0x43d45090>"
      ]
     },
     "metadata": {},
     "output_type": "display_data"
    }
   ],
   "source": [
    "response = db.molecules.aggregate([{'$group': {'_id': '$mfp.count', 'total': {'$sum': 1}}}])\n",
    "data = pd.DataFrame().from_dict([r for r in response])\n",
    "fig = plt.figure()\n",
    "fig.set_size_inches(18, 6)\n",
    "plt.ylabel('Number of molecules')\n",
    "plt.xlabel('Number of 1-bits in fingerprint')\n",
    "h = plt.hist(data._id, weights=data.total, histtype='bar', bins=105, rwidth=2)"
   ]
  },
  {
   "cell_type": "markdown",
   "metadata": {},
   "source": [
    "For each molecule in our collection we will also store the total number of bits in the fingerprint (i.e. $N_{b}$, needed to calculate the Tanimoto coefficient). The code below produces a collection called `mfp_counts` with documents that have a count field and an `_id` that corresponds to the fingerprint bit."
   ]
  },
  {
   "cell_type": "code",
   "execution_count": 85,
   "metadata": {
    "collapsed": false
   },
   "outputs": [
    {
     "name": "stdout",
     "output_type": "stream",
     "text": [
      "computing fingerprint bit counts...\n",
      "... done\n"
     ]
    }
   ],
   "source": [
    "print 'computing fingerprint bit counts...'\n",
    "sys.stdout.flush()\n",
    "counts = {}\n",
    "mol_count = molecules.count()\n",
    "percentile = int(mol_count / 100)\n",
    "pbar = FloatProgress(min=0, max=mol_count)\n",
    "display(pbar)\n",
    "for molecule in db.molecules.find():\n",
    "    if not (i % percentile):\n",
    "        pbar.value = (i + 1)\n",
    "    for bit in molecule['mfp']['bits']:\n",
    "        counts[bit] = counts.get(bit, 0) + 1\n",
    "\n",
    "counts_it = counts.items()\n",
    "chunk_size = 100\n",
    "for chunk in [counts_it[i:i + chunk_size] for i in range(0, len(counts_it), chunk_size)]:\n",
    "    db.mfp_counts.insert_many([{'_id': k, 'count': v} for k,v in chunk])\n",
    "pbar.value = mol_count    \n",
    "print '... done'    "
   ]
  },
  {
   "cell_type": "markdown",
   "metadata": {},
   "source": [
    "MongoDB query performance can be further improved by adding an index on the specific fields that will be queried, in this case the fingerprint bits and counts:"
   ]
  },
  {
   "cell_type": "code",
   "execution_count": 20,
   "metadata": {
    "collapsed": false
   },
   "outputs": [
    {
     "data": {
      "text/plain": [
       "u'mfp.count_1'"
      ]
     },
     "execution_count": 20,
     "metadata": {},
     "output_type": "execute_result"
    }
   ],
   "source": [
    "db.molecules.create_index('mfp.bits')\n",
    "db.molecules.create_index('mfp.count')"
   ]
  },
  {
   "cell_type": "markdown",
   "metadata": {},
   "source": [
    "There are two further efficiency tricks that work by placing constraints on easily searchable properties of fingerprints to filter out the most obviously unsuitable molecules before going through the expensive process of calculating the exact Tanimoto coefficient:\n",
    "\n",
    "1. Given a query fingerprint with $N_{a}$ bits, any molecule in the database must have $N_{b}$ bits within the range $TN_{a} \\leqslant N_{b} \\leqslant \\frac{N_{a}}{T}$ to have a similarity above a threshold $T$. This is because if the number of bits in each fingerprint differ by too much, it would be impossible for the similarity to be above the threshold even in the most ideal case where one fingerprint is an exact subset of the other.\n",
    "\n",
    "2. Out of any $N_{a} - TN_{a} + 1$ bits chosen at random from the query fingerprint $a$, at least one must be present in any other fingerprint $b$ to achieve a similarity above the threshold $T$. This is because even if all the remaining other $TN_{a} - 1$ bits are in common, it still would not be enough for the similarity to be above the threshold (as shown by the previous constraint).\n",
    "\n",
    "For the second constraint, the bits chosen from the query fingerprint don’t actually need to be random — in fact, we can optimise even further by ensuring we choose the rarest fingerprint bits, thus restricting the query set as much as possible."
   ]
  },
  {
   "cell_type": "code",
   "execution_count": 21,
   "metadata": {
    "collapsed": false
   },
   "outputs": [],
   "source": [
    "def similarity_client(smiles, threshold=0.8):\n",
    "    \"\"\"Perform a similarity search on the client, with initial screening to improve performance.\"\"\"\n",
    "    if not smiles:\n",
    "        return\n",
    "    mol = Chem.MolFromSmiles(smiles)\n",
    "    if not mol:\n",
    "        return\n",
    "    qfp = list(AllChem.GetMorganFingerprintAsBitVect(mol, 2, nBits=2048).GetOnBits())\n",
    "    qn = len(qfp)                           # Number of bits in query fingerprint\n",
    "    qmin = int(ceil(qn * threshold))        # Minimum number of bits in results fingerprints\n",
    "    qmax = int(qn / threshold)              # Maximum number of bits in results fingerprints\n",
    "    ncommon = qn - qmin + 1                 # Number of fingerprint bits in which at least one must be in common\n",
    "    # Get list of bits where at least one must be in result fp. Use least popular bits if possible.\n",
    "    if db.mfp_counts:\n",
    "        reqbits = [count['_id'] for count in db.mfp_counts.find({'_id': {'$in': qfp}}).sort('count', 1).limit(ncommon)]\n",
    "    else:\n",
    "        reqbits = qfp[:ncommon]\n",
    "    results = []\n",
    "    for fp in db.molecules.find({'mfp.bits': {'$in': reqbits}, 'mfp.count': {'$gte': qmin, '$lte': qmax}}):\n",
    "        intersection = len(set(qfp) & set(fp['mfp']['bits']))\n",
    "        pn = fp['mfp']['count']\n",
    "        tanimoto = float(intersection) / (pn + qn - intersection)\n",
    "        if tanimoto >= threshold:\n",
    "            results.append((tanimoto, fp['chembl_id'], fp['smiles']))\n",
    "    return results"
   ]
  },
  {
   "cell_type": "markdown",
   "metadata": {},
   "source": [
    "Just checking how it works for aspirin..."
   ]
  },
  {
   "cell_type": "code",
   "execution_count": 22,
   "metadata": {
    "collapsed": false
   },
   "outputs": [
    {
     "data": {
      "text/plain": [
       "[(1.0, u'CHEMBL25', u'CC(=O)Oc1ccccc1C(=O)O'),\n",
       " (0.8571428571428571, u'CHEMBL350343', u'CC(=O)Oc1ccccc1C(=O)Oc1ccccc1C(=O)O')]"
      ]
     },
     "execution_count": 22,
     "metadata": {},
     "output_type": "execute_result"
    }
   ],
   "source": [
    "# aspirin\n",
    "similarity_client('O=C(Oc1ccccc1C(=O)O)C')"
   ]
  },
  {
   "cell_type": "markdown",
   "metadata": {},
   "source": [
    "## The MongoDB aggregation framework\n",
    "\n",
    "One issue with the query method outlined above is that most of the time-consuming work is performed by the client rather than the database server. The server performs the initial filtering stages and then just sends thousands of molecules over to the client to calculate the exact similarities and produce the actual results. This makes the overall performance mostly dependent on the speed of the client or application server; it also has the potential for a network bottleneck when transferring such a huge amount of data for each query.\n",
    "\n",
    "The solution to this problem is to use the MongoDB aggregation framework, which allows a pipeline of tasks to be performed on the MongoDB server. This way, the MongoDB server does all the work and only the actual query results are sent to the client.\n",
    "\n",
    "In his [blog post at Datablend](http://datablend.be/?p=265), Davy proposed an aggregation pipeline for similarity searching that Rajarshi found to be disappointingly slow in [his benchmarks](http://blog.rguha.net/?p=1261). However, in the time since Davy wrote his blog post, MongoDB version 2.6 introduced some new aggregation features that may have better performance. Of particular interest is the `$setIntersection` operator, which is exactly what we need to calculate the number of bits in common between two fingerprints.\n",
    "\n",
    "Here’s a similarity search aggregation pipeline that uses these new features: "
   ]
  },
  {
   "cell_type": "code",
   "execution_count": 7,
   "metadata": {
    "collapsed": true
   },
   "outputs": [],
   "source": [
    "def similarity_search_fp(smiles, threshold=0.8):\n",
    "    \"\"\"Perform a similarity search using aggregation framework.\"\"\"\n",
    "    if not smiles:\n",
    "        return\n",
    "    mol = Chem.MolFromSmiles(smiles)\n",
    "    if not mol:\n",
    "        return\n",
    "    qfp = list(AllChem.GetMorganFingerprintAsBitVect(mol, 2, nBits=2048).GetOnBits())    \n",
    "    qn = len(qfp)                           # Number of bits in query fingerprint\n",
    "    qmin = int(ceil(qn * threshold))        # Minimum number of bits in results fingerprints\n",
    "    qmax = int(qn / threshold)              # Maximum number of bits in results fingerprints\n",
    "    ncommon = qn - qmin + 1                 # Number of fingerprint bits in which at least 1 must be in common\n",
    "    if db.mfp_counts:\n",
    "        reqbits = [count['_id'] for count in db.mfp_counts.find({'_id': {'$in': qfp}}).sort('count', 1).limit(ncommon)]\n",
    "    else:\n",
    "        reqbits = qfp[:ncommon]\n",
    "    aggregate = [\n",
    "        {'$match': {'mfp.count': {'$gte': qmin, '$lte': qmax}, 'mfp.bits': {'$in': reqbits}}},\n",
    "        {'$project': {\n",
    "            'tanimoto': {'$let': {\n",
    "                'vars': {'common': {'$size': {'$setIntersection': ['$mfp.bits', qfp]}}},\n",
    "                'in': {'$divide': ['$$common', {'$subtract': [{'$add': [qn, '$mfp.count']}, '$$common']}]}\n",
    "            }},\n",
    "        'smiles': 1,\n",
    "        'chembl_id': 1\n",
    "        }},\n",
    "        {'$match': {'tanimoto': {'$gte': threshold}}}\n",
    "    ]\n",
    "    response = db.molecules.aggregate(aggregate)\n",
    "    return [(r['tanimoto'], r['smiles'], r['chembl_id']) for r in response]"
   ]
  },
  {
   "cell_type": "markdown",
   "metadata": {},
   "source": [
    "Checking improved function with aspirin:"
   ]
  },
  {
   "cell_type": "code",
   "execution_count": 10,
   "metadata": {
    "collapsed": false
   },
   "outputs": [
    {
     "data": {
      "text/plain": [
       "[(1.0, u'CC(=O)Oc1ccccc1C(=O)O', u'CHEMBL25'),\n",
       " (0.8571428571428571, u'CC(=O)Oc1ccccc1C(=O)Oc1ccccc1C(=O)O', u'CHEMBL350343')]"
      ]
     },
     "execution_count": 10,
     "metadata": {},
     "output_type": "execute_result"
    }
   ],
   "source": [
    "similarity_search_fp('O=C(Oc1ccccc1C(=O)O)C')"
   ]
  },
  {
   "cell_type": "markdown",
   "metadata": {},
   "source": [
    "## Benchmarks\n",
    "\n",
    "In order to perform benchmarks we will select 1000 random compound SMILES from ChEMBL. Note, that because in MongoDB collection we stored RDKit-generated SMILES, in most cases result SMILES will differ. For each discrete value of threshold, we will perform the same benchmark 5 times and save mean value."
   ]
  },
  {
   "cell_type": "code",
   "execution_count": 11,
   "metadata": {
    "collapsed": false
   },
   "outputs": [],
   "source": [
    "sample_size = 1000\n",
    "rand_smpl = [ smiles[i][0] for i in sorted(random.sample(xrange((smiles.count())), sample_size)) ]\n",
    "repetitions = 5"
   ]
  },
  {
   "cell_type": "markdown",
   "metadata": {},
   "source": [
    "We are now ready to run actual benchmarks. This can take several hours to compute, depending on hardware."
   ]
  },
  {
   "cell_type": "code",
   "execution_count": 42,
   "metadata": {
    "collapsed": false
   },
   "outputs": [
    {
     "name": "stdout",
     "output_type": "stream",
     "text": [
      "measuring performance for similarity 0.7\n",
      "measuring performance for similarity 0.75\n",
      "measuring performance for similarity 0.8\n",
      "measuring performance for similarity 0.85\n",
      "measuring performance for similarity 0.9\n",
      "measuring performance for similarity 0.95\n"
     ]
    }
   ],
   "source": [
    "timings = []\n",
    "for thresh in [0.7, 0.75, 0.8, 0.85, 0.9, 0.95]:\n",
    "    print 'measuring performance for similarity {0}'.format(thresh)\n",
    "    sys.stdout.flush()\n",
    "    rep_times = []\n",
    "    for i in range(repetitions):\n",
    "        start = time.time()\n",
    "        for sample in rand_smpl:\n",
    "            _ = similarity_search_fp(sample, thresh)\n",
    "        stop = time.time()\n",
    "        rep_times.append(stop-start)\n",
    "    timings.append((thresh, np.mean(rep_times)))"
   ]
  },
  {
   "cell_type": "markdown",
   "metadata": {},
   "source": [
    "Once this is complete, we can take a look at results:"
   ]
  },
  {
   "cell_type": "code",
   "execution_count": 14,
   "metadata": {
    "collapsed": false
   },
   "outputs": [
    {
     "name": "stdout",
     "output_type": "stream",
     "text": [
      "[(0.7, 2959.67804813385), (0.75, 2161.8768181800842), (0.8, 1224.4110579490662), (0.85, 625.453076839447), (0.9, 298.62185406684875), (0.95, 74.62168312072754)]\n"
     ]
    }
   ],
   "source": [
    "print timings"
   ]
  },
  {
   "cell_type": "markdown",
   "metadata": {},
   "source": [
    "Plotting them will give us a better idea about time complexity:"
   ]
  },
  {
   "cell_type": "code",
   "execution_count": 87,
   "metadata": {
    "collapsed": false
   },
   "outputs": [
    {
     "data": {
      "image/png": "[encoded data removed]",
      "text/plain": [
       "<matplotlib.figure.Figure at 0x5f34950>"
      ]
     },
     "metadata": {},
     "output_type": "display_data"
    }
   ],
   "source": [
    "thresholds = np.array([t[0] for t in reversed(timings)])\n",
    "times = np.array([t[1] for t in reversed(timings)])\n",
    "fig = plt.figure()\n",
    "fig.set_size_inches(6, 6)\n",
    "xnew = np.linspace(thresholds.min(), thresholds.max(), num=41, endpoint=True)\n",
    "f2 = interp1d(thresholds, times, kind='quadratic')\n",
    "plt.plot(thresholds, times, 'o', xnew, f2(xnew), '-')\n",
    "plt.ylabel('Mean query time (ms)')\n",
    "plt.xlabel('Similarity threshold')\n",
    "plt.show()\n"
   ]
  },
  {
   "cell_type": "markdown",
   "metadata": {},
   "source": [
    "Although this looks better than benchmarks performed by Rajarshi Guha, it's still disappointing. Apart from very high threshold values, all other data points indicate very long query times. The overall shape of the curve indicates polynomial time complexity with respect to decreasing threshold.\n",
    "\n",
    "It's worth noting, that the results presented on the chart above are actually higher then original results presented by Matt Swain. This is most probably because Matt [defined functions](https://github.com/mcs07/mongodb-chemistry/blob/master/mchem/profile.py#L26) with a signatures like this:\n",
    "\n",
    "    profile_similarity(mols, fingerprinter, fp_collection, result_collection, threshold=0.8, count_collection=None)\n",
    "    \n",
    "So expecting binary RDKit mol object while all similarity functions defined in this notebook have signature like:\n",
    "\n",
    "    similarity_search_fp(smiles, threshold=0.8)\n",
    "    \n",
    "So expecting SMILES string as input. This require additional expensive step of parsing SMILES string and converting it to RDKit mol. The second form is much more useful in practical applications."
   ]
  },
  {
   "cell_type": "markdown",
   "metadata": {},
   "source": [
    "## Introducing Locality-sensitive hashing\n",
    "\n",
    "Basically the problem of finding similar compounds is a variation of nearest neighbour search. One of the methods that are helpful in solving this kind of problem is called [Locality-sensitive hashing](https://en.wikipedia.org/wiki/Locality-sensitive_hashing).\n",
    "\n",
    "The idea behind LSH is pretty simple - while most hashes we use everyday ([cryptographic hashes](https://en.wikipedia.org/wiki/Cryptographic_hash_function) like [SHA](https://en.wikipedia.org/wiki/Secure_Hash_Algorithm)) generate completely different values for documents even when they differ only slightly, LSH tries to generate similar hash values for similar documents, so to maximize the probability of [hash collision](https://en.wikipedia.org/wiki/Collision_%28computer_science%29).\n",
    "\n",
    "Since we are using Tanimoto coefficient for measuring similarity, it makes sense to use min-wise independent permutations locality sensitive hashing scheme. In fact, even the very short [Wikipedia article](https://en.wikipedia.org/wiki/Jaccard_index) about Tanimoto (Jaccard) index, mentions [MinHash](https://en.wikipedia.org/wiki/MinHash) as an algorithm that \"may be used to efficiently compute an accurate estimate of the Jaccard similarity coefficient of pairs of sets\"."
   ]
  },
  {
   "cell_type": "markdown",
   "metadata": {},
   "source": [
    "## Improving time complexity using MinHash\n",
    "\n",
    "In order to define new version of similarity search based on LSH we need to define some functions. We ported them from the code presented in [article by Ciumac Sergiu](http://www.codeproject.com/Articles/206507/Duplicates-detector-via-audio-fingerprinting#worksinspiration). They generate random permutations, reorder fingerprint bits according to permutations and save the position of the first '1' bit in reordered fingerprints. Then compress the list of the '1' position into smaller list by composing one bigger number from several smaller using binary left shift operation."
   ]
  },
  {
   "cell_type": "code",
   "execution_count": 51,
   "metadata": {
    "collapsed": false
   },
   "outputs": [],
   "source": [
    "def get_permutations(len_permutations=2048, num_permutations=100):\n",
    "    return map(lambda _: np.random.permutation(2048), range(num_permutations))\n",
    "\n",
    "def get_min_hash(mol, permutations):\n",
    "    qfp_bits = [int(n) for n in AllChem.GetMorganFingerprintAsBitVect(mol, 2, nBits=2048)]\n",
    "    min_hash = []\n",
    "    for perm in permutations:\n",
    "        for idx, i in enumerate(perm):\n",
    "            if qfp_bits[i]:\n",
    "                min_hash.append(idx)\n",
    "                break            \n",
    "    return min_hash\n",
    "\n",
    "def hash_to_buckets(min_hash, num_buckets=25, nBits=2048):\n",
    "    if len(min_hash) % num_buckets:\n",
    "        raise Exception('number of buckets must be divisiable by the hash length')\n",
    "    buckets = []\n",
    "    hash_per_bucket = int(len(min_hash) / num_buckets)\n",
    "    num_bits = (nBits-1).bit_length()\n",
    "    if num_bits * hash_per_bucket > sys.maxint.bit_length():\n",
    "        raise Exception('numbers are too large to produce valid buckets')\n",
    "    for b in range(num_buckets):\n",
    "        buckets.append(reduce(lambda x,y: (x << num_bits) + y, min_hash[b:(b + hash_per_bucket)]))\n",
    "    return buckets\n",
    "        "
   ]
  },
  {
   "cell_type": "markdown",
   "metadata": {},
   "source": [
    "We can now generate some random permutations and save them to the separate MongoDB collection: "
   ]
  },
  {
   "cell_type": "code",
   "execution_count": 131,
   "metadata": {
    "collapsed": false
   },
   "outputs": [
    {
     "data": {
      "text/plain": [
       "<pymongo.results.InsertManyResult at 0x62fc140>"
      ]
     },
     "execution_count": 131,
     "metadata": {},
     "output_type": "execute_result"
    }
   ],
   "source": [
    "db.permutations.insert_many([{'_id':i, 'permutation': perm.tolist()} for i, perm in enumerate(get_permutations())])"
   ]
  },
  {
   "cell_type": "markdown",
   "metadata": {},
   "source": [
    "Having our permutations, we can precompute locality-sensitive hashes for each molecule and add them to molecule document:"
   ]
  },
  {
   "cell_type": "code",
   "execution_count": 248,
   "metadata": {
    "collapsed": false
   },
   "outputs": [
    {
     "name": "stdout",
     "output_type": "stream",
     "text": [
      "precalculating locality-sensitive hashing groups...\n",
      "...done\n"
     ]
    }
   ],
   "source": [
    "permutations = [p['permutation'] for p in db.permutations.find()]\n",
    "print 'precalculating locality-sensitive hashing groups...'\n",
    "sys.stdout.flush()\n",
    "mol_count = db.molecules.count()\n",
    "percentile = int(mol_count / 100)\n",
    "pbar = FloatProgress(min=0, max=mol_count)\n",
    "display(pbar)\n",
    "for i, molecule in enumerate(db.molecules.find()):\n",
    "    if not (i % percentile):\n",
    "        pbar.value = (i + 1)\n",
    "    rdmol = Chem.Mol(molecule['rdmol'])\n",
    "    min_hash = get_min_hash(rdmol, permutations)\n",
    "    hash_groups = hash_to_buckets(min_hash)\n",
    "    db.molecules.update_one({'_id': molecule['_id']}, {\"$set\":{\"lsh\" : hash_groups}} )\n",
    "pbar.value = mol_count    \n",
    "print '...done'"
   ]
  },
  {
   "cell_type": "markdown",
   "metadata": {},
   "source": [
    "Now we can use generated hashes to create inverted indexes - 25 separate collection storing documents indexed by hash and having a list of documents as a value. It's worth noting that we could generate hashes and store them in inverted indexes in one step, instead of writing uncompressed and compressed hashes to molecules documents. This would certainly reduce the time required to complete all preparations but we would like to investigate further in the future."
   ]
  },
  {
   "cell_type": "code",
   "execution_count": 366,
   "metadata": {
    "collapsed": false
   },
   "outputs": [
    {
     "name": "stdout",
     "output_type": "stream",
     "text": [
      "constructing hash tables...\n",
      "...done\n"
     ]
    }
   ],
   "source": [
    "print 'constructing hash maps...'\n",
    "sys.stdout.flush()\n",
    "mol_count = db.molecules.count()\n",
    "percentile = int(mol_count / 100)\n",
    "pbar = FloatProgress(min=0, max=mol_count)\n",
    "display(pbar)\n",
    "for i, molecule in enumerate(db.molecules.find()):\n",
    "    if not (i % percentile):\n",
    "        pbar.value = (i + 1)\n",
    "    hash_groups = molecule[\"lsh\"]\n",
    "    for n_hash, lsh_hash in enumerate(hash_groups):\n",
    "        db['hash_' + str(n_hash)].update_one({'_id':lsh_hash}, {'$push':{'molecules': molecule['_id']}}, True)\n",
    "pbar.value = mol_count\n",
    "print '...done'"
   ]
  },
  {
   "cell_type": "markdown",
   "metadata": {},
   "source": [
    "After completing all those preliminary steps we can finally define our new `similarity_search_lsh` function:"
   ]
  },
  {
   "cell_type": "code",
   "execution_count": 52,
   "metadata": {
    "collapsed": false
   },
   "outputs": [],
   "source": [
    "#permutations = [p['permutation'] for p in db.permutations.find()]\n",
    "\n",
    "def similarity_search_lsh(smiles, threshold=0.8):\n",
    "    \"\"\"Perform a similarity search using aggregation framework.\"\"\"\n",
    "    if not smiles:\n",
    "        return\n",
    "    mol = Chem.MolFromSmiles(smiles)\n",
    "    if not mol:\n",
    "        return\n",
    "    fp = AllChem.GetMorganFingerprintAsBitVect(mol, 2, nBits=2048)\n",
    "    qfp = list(fp.GetOnBits())\n",
    "    qfp_bits = [int(n) for n in fp]\n",
    "    min_hash = []\n",
    "    for perm in permutations:\n",
    "        for idx, i in enumerate(perm):\n",
    "            if qfp_bits[i]:\n",
    "                min_hash.append(idx)\n",
    "                break\n",
    "    hash_groups = hash_to_buckets(min_hash)    \n",
    "    qn = len(qfp)                           # Number of bits in query fingerprint\n",
    "    qmin = int(ceil(qn * threshold))        # Minimum number of bits in results fingerprints\n",
    "    qmax = int(qn / threshold)              # Maximum number of bits in results fingerprints\n",
    "    ncommon = qn - qmin + 1                 # Number of fingerprint bits in which at least 1 must be in common\n",
    "    if db.mfp_counts:\n",
    "        reqbits = [count['_id'] for count in db.mfp_counts.find({'_id': {'$in': qfp}}).sort('count', 1).limit(ncommon)]\n",
    "    else:\n",
    "        reqbits = qfp[:ncommon]\n",
    "    \n",
    "    nested_res = [ list(i)[0]['molecules'] for i in \n",
    "            [db['hash_' + str(i)].find({'_id':h},{'molecules':1}) for i,h in enumerate(hash_groups)]]\n",
    "    \n",
    "    hashed_ids = [ObjectId(x) for x in (set([str(item) for sublist in nested_res for item in sublist]))]\n",
    "    aggregate = [\n",
    "        {'$match': {'_id':{'$in': hashed_ids}, 'mfp.count': {'$gte': qmin, '$lte': qmax}, 'mfp.bits': {'$in': reqbits}}},\n",
    "        {'$project':{            \n",
    "         'tanimoto': {'$let': {\n",
    "                'vars': {'common': {'$size': {'$setIntersection': ['$mfp.bits', qfp]}}},\n",
    "                'in': {'$divide': ['$$common', {'$subtract': [{'$add': [qn, '$mfp.count']}, '$$common']}]}\n",
    "            }},\n",
    "        'smiles': 1,\n",
    "        'chembl_id': 1}},\n",
    "        {'$match': {'tanimoto': {'$gte': threshold}}},\n",
    "    ]\n",
    "    response = db.molecules.aggregate(aggregate)\n",
    "    return [(r['tanimoto'], r['smiles'], r['chembl_id']) for r in response]"
   ]
  },
  {
   "cell_type": "markdown",
   "metadata": {},
   "source": [
    "Traditionally, checking results for aspirin:"
   ]
  },
  {
   "cell_type": "code",
   "execution_count": 53,
   "metadata": {
    "collapsed": false
   },
   "outputs": [
    {
     "data": {
      "text/plain": [
       "[(1.0, u'CC(=O)Oc1ccccc1C(=O)O', u'CHEMBL25'),\n",
       " (0.8571428571428571, u'CC(=O)Oc1ccccc1C(=O)Oc1ccccc1C(=O)O', u'CHEMBL350343')]"
      ]
     },
     "execution_count": 53,
     "metadata": {},
     "output_type": "execute_result"
    }
   ],
   "source": [
    "similarity_search_lsh('O=C(Oc1ccccc1C(=O)O)C')"
   ]
  },
  {
   "cell_type": "markdown",
   "metadata": {},
   "source": [
    "## Benchmarks\n",
    "\n",
    "In order to check the performance of our `similarity_search_lsh` function, we will use the same set of 1000 compounds we were using to test `similarity_search_fp`."
   ]
  },
  {
   "cell_type": "code",
   "execution_count": 62,
   "metadata": {
    "collapsed": false
   },
   "outputs": [
    {
     "name": "stdout",
     "output_type": "stream",
     "text": [
      "measuring performance for similarity 0.7\n",
      "measuring performance for similarity 0.75\n",
      "measuring performance for similarity 0.8\n",
      "measuring performance for similarity 0.85\n",
      "measuring performance for similarity 0.9\n",
      "measuring performance for similarity 0.95\n"
     ]
    }
   ],
   "source": [
    "timings_lsh = []\n",
    "for thresh in [0.7, 0.75, 0.8, 0.85, 0.9, 0.95]: #[0.7, 0.75, 0.8, 0.85, 0.9, 0.95]:\n",
    "    print 'measuring performance for similarity {0}'.format(thresh)\n",
    "    sys.stdout.flush()\n",
    "    rep_times = []\n",
    "    for i in range(repetitions):\n",
    "        start = time.time()\n",
    "        for sample in rand_smpl:\n",
    "            _ = similarity_search_lsh(sample, thresh)\n",
    "        stop = time.time()\n",
    "        rep_times.append(stop-start)\n",
    "    timings_lsh.append((thresh, np.mean(rep_times)))"
   ]
  },
  {
   "cell_type": "code",
   "execution_count": 11,
   "metadata": {
    "collapsed": false
   },
   "outputs": [
    {
     "data": {
      "text/plain": [
       "[(0.7, 108.79886355400086),\n",
       " (0.75, 106.44789280891419),\n",
       " (0.8, 95.1254898071289),\n",
       " (0.85, 90.56010603904724),\n",
       " (0.9, 84.14158177375793),\n",
       " (0.95, 77.25984625816345)]"
      ]
     },
     "execution_count": 11,
     "metadata": {},
     "output_type": "execute_result"
    }
   ],
   "source": [
    "timings_lsh"
   ]
  },
  {
   "cell_type": "markdown",
   "metadata": {},
   "source": [
    "Plotting the results..."
   ]
  },
  {
   "cell_type": "code",
   "execution_count": 24,
   "metadata": {
    "collapsed": false
   },
   "outputs": [
    {
     "name": "stdout",
     "output_type": "stream",
     "text": [
      "[(0.7, 108.79886355400086), (0.75, 106.44789280891419), (0.8, 95.1254898071289), (0.85, 90.56010603904724), (0.9, 84.14158177375793), (0.95, 77.25984625816345)]\n",
      "[  77.25984626   84.14158177   90.56010604   95.12548981  106.44789281\n",
      "  108.79886355]\n"
     ]
    },
    {
     "data": {
      "image/png": "[encoded data removed]",
      "text/plain": [
       "<matplotlib.figure.Figure at 0x6d44e50>"
      ]
     },
     "metadata": {},
     "output_type": "display_data"
    }
   ],
   "source": [
    "thresholds = np.array([t[0] for t in reversed(timings_lsh)])\n",
    "times = np.array([t[1] for t in reversed(timings_lsh)])\n",
    "print timings_lsh\n",
    "print times\n",
    "fig = plt.figure()\n",
    "fig.set_size_inches(6, 6)\n",
    "xnew = np.linspace(thresholds.min(), thresholds.max(), num=41, endpoint=True)\n",
    "f2 = interp1d(thresholds, times, kind='slinear')\n",
    "plt.plot(thresholds, times, 'o', xnew, f2(xnew), '-')\n",
    "plt.ylabel('Median query time (ms)')\n",
    "plt.xlabel('Similarity threshold')\n",
    "plt.show()"
   ]
  },
  {
   "cell_type": "markdown",
   "metadata": {},
   "source": [
    "This looks way better than the time complexity of `similarity_search_fp` but we will check them both on the same plot later..."
   ]
  },
  {
   "cell_type": "markdown",
   "metadata": {},
   "source": [
    "## Accuracy\n",
    "\n",
    "We can check how accurate is function `similarity_search_lsh` when compared to `similarity_search_fp`. We will check number of discrepancies defined as the size of symmetrical [set difference](https://docs.python.org/2/library/sets.html#set-objects) between results from both functions. We will measure total number of discrepancies over a set of 1000 random compounds as a function of similarity threshold."
   ]
  },
  {
   "cell_type": "code",
   "execution_count": null,
   "metadata": {
    "collapsed": false
   },
   "outputs": [
    {
     "name": "stdout",
     "output_type": "stream",
     "text": [
      "measuring discrepancies for similarity 0.7\n"
     ]
    }
   ],
   "source": [
    "discrepancies = []\n",
    "discrepancies_details = []\n",
    "for thresh in [0.7, 0.75, 0.8, 0.85, 0.9, 0.95]: #[0.7, 0.75, 0.8, 0.85, 0.9, 0.95]:\n",
    "    print 'measuring discrepancies for similarity {0}'.format(thresh)\n",
    "    sys.stdout.flush()\n",
    "    rep_discrepancies = []\n",
    "    for i in range(repetitions):\n",
    "        dis_sum = 0\n",
    "        for sample in rand_smpl:\n",
    "            sim_lsh = similarity_search_lsh(sample, thresh)\n",
    "            sim_fp = similarity_search_fp(sample, thresh)\n",
    "            lsh_res = set([x[2] for x in sim_lsh if (x and len(x) > 2)]) if sim_lsh else set()\n",
    "            reg_res = set([x[2] for x in sim_fp if (x and len(x) > 2)]) if sim_fp else set()\n",
    "            difference = (lsh_res^reg_res)\n",
    "            dis_sum += len(difference)\n",
    "            discrepancies_details.append((sample, thresh, difference))\n",
    "        rep_discrepancies.append(dis_sum)\n",
    "    discrepancies.append((thresh, np.mean(rep_discrepancies)))"
   ]
  },
  {
   "cell_type": "code",
   "execution_count": 8,
   "metadata": {
    "collapsed": false
   },
   "outputs": [
    {
     "name": "stdout",
     "output_type": "stream",
     "text": [
      "[(0.7, 153.0), (0.75, 37.0), (0.8, 1.0), (0.85, 0.0), (0.9, 0.0), (0.95, 0.0)]\n"
     ]
    }
   ],
   "source": [
    "print discrepancies"
   ]
  },
  {
   "cell_type": "code",
   "execution_count": 9,
   "metadata": {
    "collapsed": false
   },
   "outputs": [
    {
     "data": {
      "image/png": "[encoded data removed]",
      "text/plain": [
       "<matplotlib.figure.Figure at 0x40d16d0>"
      ]
     },
     "metadata": {},
     "output_type": "display_data"
    }
   ],
   "source": [
    "thresholds = np.array([t[0] for t in reversed(discrepancies)])\n",
    "errors = np.array([t[1] / 10.0 for t in reversed(discrepancies)])\n",
    "fig = plt.figure()\n",
    "fig.set_size_inches(6, 6)\n",
    "xnew = np.linspace(thresholds.min(), thresholds.max(), num=41, endpoint=True)\n",
    "f2 = interp1d(thresholds, errors, kind='quadratic')\n",
    "plt.plot(thresholds, errors, 'o', xnew, f2(xnew), '-')\n",
    "plt.ylabel('Percent of discrepancies')\n",
    "plt.xlabel('Similarity threshold')\n",
    "plt.show()"
   ]
  },
  {
   "cell_type": "markdown",
   "metadata": {},
   "source": [
    "From threshold 0.8 and more there are almost no discrepancies. The highest number of differences is for 0.7 - there are some discrepancies in results for 16% of compounds."
   ]
  },
  {
   "cell_type": "markdown",
   "metadata": {},
   "source": [
    "## Comparing with different methods"
   ]
  },
  {
   "cell_type": "markdown",
   "metadata": {},
   "source": [
    "We are now ready to compare the time complexity of `similarity_search_lsh` function and `similarity_search_fp` on a single chart."
   ]
  },
  {
   "cell_type": "code",
   "execution_count": 15,
   "metadata": {
    "collapsed": false
   },
   "outputs": [
    {
     "data": {
      "image/png": "[encoded data removed]",
      "text/plain": [
       "<matplotlib.figure.Figure at 0x4d62150>"
      ]
     },
     "metadata": {},
     "output_type": "display_data"
    }
   ],
   "source": [
    "thresholds = np.array([t[0] for t in reversed(timings)])\n",
    "times = np.array([t[1] for t in reversed(timings)])\n",
    "fig = plt.figure()\n",
    "fig.set_size_inches(6, 6)\n",
    "xnew = np.linspace(thresholds.min(), thresholds.max(), num=41, endpoint=True)\n",
    "f2 = interp1d(thresholds, times, kind='cubic')\n",
    "plt.plot(thresholds, times, 'o', xnew, f2(xnew), '-')\n",
    "\n",
    "thresholds_lsh = np.array([t[0] for t in reversed(timings_lsh)])\n",
    "times_lsh = np.array([t[1] for t in reversed(timings_lsh)])\n",
    "xnew_lsh = np.linspace(thresholds_lsh.min(), thresholds_lsh.max(), num=41, endpoint=True)\n",
    "f3 = interp1d(thresholds_lsh, times_lsh, kind='cubic')\n",
    "\n",
    "_, swain = plt.plot(thresholds, times, 'o', xnew, f2(xnew), '-')\n",
    "_, lsh = plt.plot(thresholds_lsh, times_lsh, 'o', xnew_lsh, f3(xnew_lsh), '--')\n",
    "plt.legend([swain, lsh], ['Swain', 'LSH'])\n",
    "plt.ylabel('Median query time (ms)')\n",
    "plt.xlabel('Similarity threshold')\n",
    "plt.show()"
   ]
  },
  {
   "cell_type": "markdown",
   "metadata": {},
   "source": [
    "To make this comparison complete, we can include time results for RDKit postgreSQL cartridge as well. Here we will use Django ORM, which will call the cartridge:"
   ]
  },
  {
   "cell_type": "code",
   "execution_count": 67,
   "metadata": {
    "collapsed": false
   },
   "outputs": [
    {
     "name": "stdout",
     "output_type": "stream",
     "text": [
      "measuring performance for similarity 0.9\n",
      "measuring performance for similarity 0.95\n"
     ]
    }
   ],
   "source": [
    "repetitions = 1\n",
    "timings_cartrdge = []\n",
    "for thresh in [0.7, 0.75, 0.8, 0.85, 0.9, 0.95]:\n",
    "    print 'measuring performance for similarity {0}'.format(thresh)\n",
    "    sys.stdout.flush()\n",
    "    rep_times = []\n",
    "    for i in range(repetitions):\n",
    "        start = time.time()\n",
    "        for sample in rand_smpl:\n",
    "            _ = len(CompoundMols.objects.similar_to(sample, int(thresh * 100)).values_list('molecule_id', 'similarity'))\n",
    "        stop = time.time()\n",
    "        rep_times.append(stop-start)\n",
    "    timings_cartrdge.append((thresh, np.mean(rep_times)))"
   ]
  },
  {
   "cell_type": "code",
   "execution_count": 17,
   "metadata": {
    "collapsed": false
   },
   "outputs": [
    {
     "data": {
      "text/plain": [
       "[(0.7, 1153.354385995865),\n",
       " (0.75, 1223.412336397171),\n",
       " (0.8, 1194.9570102214814),\n",
       " (0.85, 1228.4131727695465),\n",
       " (0.9, 1115.4482998847961),\n",
       " (0.95, 1162.2547509670258)]"
      ]
     },
     "execution_count": 17,
     "metadata": {},
     "output_type": "execute_result"
    }
   ],
   "source": [
    "timings_cartrdge"
   ]
  },
  {
   "cell_type": "markdown",
   "metadata": {},
   "source": [
    "We can now plot all three curves:"
   ]
  },
  {
   "cell_type": "code",
   "execution_count": 18,
   "metadata": {
    "collapsed": false
   },
   "outputs": [
    {
     "data": {
      "image/png": "[encoded data removed]",
      "text/plain": [
       "<matplotlib.figure.Figure at 0x4c81450>"
      ]
     },
     "metadata": {},
     "output_type": "display_data"
    }
   ],
   "source": [
    "thresholds = np.array([t[0] for t in reversed(timings)])\n",
    "times = np.array([t[1] for t in reversed(timings)])\n",
    "fig = plt.figure()\n",
    "fig.set_size_inches(8, 8)\n",
    "xnew = np.linspace(thresholds.min(), thresholds.max(), num=41, endpoint=True)\n",
    "f2 = interp1d(thresholds, times, kind='quadratic')\n",
    "plt.plot(thresholds, times, 'o', xnew, f2(xnew), '-')\n",
    "\n",
    "thresholds_lsh = np.array([t[0] for t in reversed(timings_lsh)])\n",
    "times_lsh = np.array([t[1] for t in reversed(timings_lsh)])\n",
    "xnew_lsh = np.linspace(thresholds_lsh.min(), thresholds_lsh.max(), num=41, endpoint=True)\n",
    "f3 = interp1d(thresholds_lsh, times_lsh, kind='quadratic')\n",
    "\n",
    "thresholds_car = np.array([t[0] for t in reversed(timings_cartrdge)])\n",
    "times_car = np.array([t[1] for t in reversed(timings_cartrdge)])\n",
    "xnew_car = np.linspace(thresholds_car.min(), thresholds_car.max(), num=41, endpoint=True)\n",
    "f4 = interp1d(thresholds_car, times_car, kind='quadratic')\n",
    "\n",
    "_, swain = plt.plot(thresholds, times, 'o', xnew, f2(xnew), '-')\n",
    "_, lsh = plt.plot(thresholds_lsh, times_lsh, 'o', xnew_lsh, f3(xnew_lsh))\n",
    "_, cartridge = plt.plot(thresholds_car, times_car, 'o', xnew_car, f4(xnew_car))\n",
    "plt.ylabel('Mean query time (ms)')\n",
    "plt.xlabel('Similarity threshold')\n",
    "plt.legend([swain, lsh, cartridge], ['Swain', 'LSH', 'postgres'])\n",
    "plt.show()"
   ]
  },
  {
   "cell_type": "code",
   "execution_count": null,
   "metadata": {
    "collapsed": true
   },
   "outputs": [],
   "source": []
  }
 ],
 "metadata": {
  "kernelspec": {
   "display_name": "Python 2",
   "language": "python",
   "name": "python2"
  },
  "language_info": {
   "codemirror_mode": {
    "name": "ipython",
    "version": 2
   },
   "file_extension": ".py",
   "mimetype": "text/x-python",
   "name": "python",
   "nbconvert_exporter": "python",
   "pygments_lexer": "ipython2",
   "version": "2.7.5"
  }
 },
 "nbformat": 4,
 "nbformat_minor": 0
}
