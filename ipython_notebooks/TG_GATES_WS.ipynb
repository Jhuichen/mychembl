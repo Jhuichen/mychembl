{
 "cells": [
  {
   "cell_type": "markdown",
   "metadata": {},
   "source": [
    "<h1>Open TG-GATEs clinical pathology data from ChEMBL using web services</h1>\n",
    "\n",
    "<h2>Introduction</h2>\n",
    "\n",
    "Open TG-GATEs is a toxicogenomics database that stores gene expression profiles and traditional toxicological data derived from in vivo (rat) and in vitro (primary rat hepatocytes, primary human hepatocytes) exposure to 170 compounds at multiple dosages and time points. The toxicology data is composed of biochemistry, hematology and histopathology findings with pathology imaging from the in vivo studies and cytotoxicity from the in vitro studies. The 170 compounds include representative known liver- and kidney-injuring pharmaceuticals, compounds and chemicals.<sup>(1)</sup> The data can be browsed <a href='http://toxico.nibiohn.go.jp/open-tggates/english/search.html'>here</a>.\n",
    "\n",
    "Biochemistry, hematology, organ weight and histopathology findings from the Open TG-GATEs dataset have been integrated into ChEMBL and can be found under src_id 11 and document_chembl_ids CHEMBL2766011 (biochemistry), CHEMBL2766014 (hematology), CHEMBL2766012 (organ weight) and CHEMBL2766013 (histopathology). Doses, time points, regimens and study_ids are stored in the assay description. For each biochemistry, hematology and organ weight endpoint, the average value across the individual animal samples has been calculated. The averaged treatment value is recorded as an activity standard_value while the  averaged controls for those endpoints can be found in the activity_comment.\n",
    "\n",
    "Detailed information regarding how to use the ChEMBL web services can be found <a href='https://www.ebi.ac.uk/chembl/ws'>here</a>.\n",
    "\n",
    "<sup>(1)</sup> Igarashi, Y., Nakatsu, N., Yamashita, T., Ono, A., Ohno, Y., Urushidani, T., & Yamada, H. (2015). Open TG-GATEs: a large-scale toxicogenomics database. Nucleic Acids Research, 43(Database issue), D921–7.\n",
    "\n"
   ]
  },
  {
   "cell_type": "markdown",
   "metadata": {},
   "source": [
    "<h2>Configuration and setup</h2>"
   ]
  },
  {
   "cell_type": "code",
   "execution_count": 1,
   "metadata": {
    "collapsed": false
   },
   "outputs": [],
   "source": [
    "from chembl_webresource_client.new_client import new_client\n",
    "from chembl_webresource_client.settings import Settings\n",
    "Settings.Instance().MAX_LIMIT = 1000\n",
    "import requests\n",
    "import numpy as np\n",
    "import warnings\n",
    "warnings.filterwarnings('ignore')\n",
    "import pandas as pd\n",
    "pd.set_option('max_colwidth',300)\n",
    "pd.set_option(\"display.max_rows\",999)\n",
    "pd.set_option(\"display.max_columns\",150)"
   ]
  },
  {
   "cell_type": "markdown",
   "metadata": {},
   "source": [
    "<h2> Retrieve Open TG-GATEs data from ChEMBL</h2>\n",
    "\n",
    "Requests to ChEMBL can be made either by \n",
    "\n",
    "1\\. Using the API provided by the Python package chembl_webresource_client:"
   ]
  },
  {
   "cell_type": "code",
   "execution_count": 2,
   "metadata": {
    "collapsed": false
   },
   "outputs": [
    {
     "data": {
      "text/plain": [
       "158199"
      ]
     },
     "execution_count": 2,
     "metadata": {},
     "output_type": "execute_result"
    }
   ],
   "source": [
    "activity = new_client.activity\n",
    "activity.set_format('json')\n",
    "\n",
    "tggates_act_api = activity.get(document_chembl_id=(['CHEMBL2766011', 'CHEMBL2766014', 'CHEMBL2766012', 'CHEMBL2766013']))\n",
    "\n",
    "len(tggates_act_api)"
   ]
  },
  {
   "cell_type": "markdown",
   "metadata": {},
   "source": [
    "2\\. Directly <i>via</i> URLs:"
   ]
  },
  {
   "cell_type": "code",
   "execution_count": 3,
   "metadata": {
    "collapsed": false
   },
   "outputs": [
    {
     "ename": "JSONDecodeError",
     "evalue": "Expecting value: line 1 column 1 (char 0)",
     "output_type": "error",
     "traceback": [
      "\u001b[0;31m---------------------------------------------------------------------------\u001b[0m",
      "\u001b[0;31mJSONDecodeError\u001b[0m                           Traceback (most recent call last)",
      "\u001b[0;32m<ipython-input-3-944438d87f82>\u001b[0m in \u001b[0;36m<module>\u001b[0;34m()\u001b[0m\n\u001b[1;32m      1\u001b[0m \u001b[0murl_stem\u001b[0m \u001b[0;34m=\u001b[0m \u001b[0;34m\"https://www.ebi.ac.uk\"\u001b[0m\u001b[0;34m\u001b[0m\u001b[0m\n\u001b[0;32m----> 2\u001b[0;31m \u001b[0mtggates_url\u001b[0m \u001b[0;34m=\u001b[0m \u001b[0mrequests\u001b[0m\u001b[0;34m.\u001b[0m\u001b[0mget\u001b[0m\u001b[0;34m(\u001b[0m\u001b[0murl_stem\u001b[0m \u001b[0;34m+\u001b[0m \u001b[0;34m\"/chembl/api/data/activity.json?assay_description__icontains=TG-GATES&limit=1000\"\u001b[0m\u001b[0;34m)\u001b[0m\u001b[0;34m.\u001b[0m\u001b[0mjson\u001b[0m\u001b[0;34m(\u001b[0m\u001b[0;34m)\u001b[0m\u001b[0;34m\u001b[0m\u001b[0m\n\u001b[0m\u001b[1;32m      3\u001b[0m \u001b[0mtggates_act_url\u001b[0m \u001b[0;34m=\u001b[0m \u001b[0mtggates_url\u001b[0m\u001b[0;34m[\u001b[0m\u001b[0;34m'activities'\u001b[0m\u001b[0;34m]\u001b[0m\u001b[0;34m\u001b[0m\u001b[0m\n\u001b[1;32m      4\u001b[0m \u001b[0;34m\u001b[0m\u001b[0m\n\u001b[1;32m      5\u001b[0m \u001b[0;32mwhile\u001b[0m \u001b[0mtggates_url\u001b[0m\u001b[0;34m[\u001b[0m\u001b[0;34m'page_meta'\u001b[0m\u001b[0;34m]\u001b[0m\u001b[0;34m[\u001b[0m\u001b[0;34m'next'\u001b[0m\u001b[0;34m]\u001b[0m\u001b[0;34m:\u001b[0m\u001b[0;34m\u001b[0m\u001b[0m\n",
      "\u001b[0;32m//anaconda/lib/python3.5/site-packages/requests/models.py\u001b[0m in \u001b[0;36mjson\u001b[0;34m(self, **kwargs)\u001b[0m\n\u001b[1;32m    797\u001b[0m                     \u001b[0;31m# used.\u001b[0m\u001b[0;34m\u001b[0m\u001b[0;34m\u001b[0m\u001b[0m\n\u001b[1;32m    798\u001b[0m                     \u001b[0;32mpass\u001b[0m\u001b[0;34m\u001b[0m\u001b[0m\n\u001b[0;32m--> 799\u001b[0;31m         \u001b[0;32mreturn\u001b[0m \u001b[0mjson\u001b[0m\u001b[0;34m.\u001b[0m\u001b[0mloads\u001b[0m\u001b[0;34m(\u001b[0m\u001b[0mself\u001b[0m\u001b[0;34m.\u001b[0m\u001b[0mtext\u001b[0m\u001b[0;34m,\u001b[0m \u001b[0;34m**\u001b[0m\u001b[0mkwargs\u001b[0m\u001b[0;34m)\u001b[0m\u001b[0;34m\u001b[0m\u001b[0m\n\u001b[0m\u001b[1;32m    800\u001b[0m \u001b[0;34m\u001b[0m\u001b[0m\n\u001b[1;32m    801\u001b[0m     \u001b[0;34m@\u001b[0m\u001b[0mproperty\u001b[0m\u001b[0;34m\u001b[0m\u001b[0m\n",
      "\u001b[0;32m//anaconda/lib/python3.5/json/__init__.py\u001b[0m in \u001b[0;36mloads\u001b[0;34m(s, encoding, cls, object_hook, parse_float, parse_int, parse_constant, object_pairs_hook, **kw)\u001b[0m\n\u001b[1;32m    317\u001b[0m             \u001b[0mparse_int\u001b[0m \u001b[0;32mis\u001b[0m \u001b[0;32mNone\u001b[0m \u001b[0;32mand\u001b[0m \u001b[0mparse_float\u001b[0m \u001b[0;32mis\u001b[0m \u001b[0;32mNone\u001b[0m \u001b[0;32mand\u001b[0m\u001b[0;34m\u001b[0m\u001b[0m\n\u001b[1;32m    318\u001b[0m             parse_constant is None and object_pairs_hook is None and not kw):\n\u001b[0;32m--> 319\u001b[0;31m         \u001b[0;32mreturn\u001b[0m \u001b[0m_default_decoder\u001b[0m\u001b[0;34m.\u001b[0m\u001b[0mdecode\u001b[0m\u001b[0;34m(\u001b[0m\u001b[0ms\u001b[0m\u001b[0;34m)\u001b[0m\u001b[0;34m\u001b[0m\u001b[0m\n\u001b[0m\u001b[1;32m    320\u001b[0m     \u001b[0;32mif\u001b[0m \u001b[0mcls\u001b[0m \u001b[0;32mis\u001b[0m \u001b[0;32mNone\u001b[0m\u001b[0;34m:\u001b[0m\u001b[0;34m\u001b[0m\u001b[0m\n\u001b[1;32m    321\u001b[0m         \u001b[0mcls\u001b[0m \u001b[0;34m=\u001b[0m \u001b[0mJSONDecoder\u001b[0m\u001b[0;34m\u001b[0m\u001b[0m\n",
      "\u001b[0;32m//anaconda/lib/python3.5/json/decoder.py\u001b[0m in \u001b[0;36mdecode\u001b[0;34m(self, s, _w)\u001b[0m\n\u001b[1;32m    337\u001b[0m \u001b[0;34m\u001b[0m\u001b[0m\n\u001b[1;32m    338\u001b[0m         \"\"\"\n\u001b[0;32m--> 339\u001b[0;31m         \u001b[0mobj\u001b[0m\u001b[0;34m,\u001b[0m \u001b[0mend\u001b[0m \u001b[0;34m=\u001b[0m \u001b[0mself\u001b[0m\u001b[0;34m.\u001b[0m\u001b[0mraw_decode\u001b[0m\u001b[0;34m(\u001b[0m\u001b[0ms\u001b[0m\u001b[0;34m,\u001b[0m \u001b[0midx\u001b[0m\u001b[0;34m=\u001b[0m\u001b[0m_w\u001b[0m\u001b[0;34m(\u001b[0m\u001b[0ms\u001b[0m\u001b[0;34m,\u001b[0m \u001b[0;36m0\u001b[0m\u001b[0;34m)\u001b[0m\u001b[0;34m.\u001b[0m\u001b[0mend\u001b[0m\u001b[0;34m(\u001b[0m\u001b[0;34m)\u001b[0m\u001b[0;34m)\u001b[0m\u001b[0;34m\u001b[0m\u001b[0m\n\u001b[0m\u001b[1;32m    340\u001b[0m         \u001b[0mend\u001b[0m \u001b[0;34m=\u001b[0m \u001b[0m_w\u001b[0m\u001b[0;34m(\u001b[0m\u001b[0ms\u001b[0m\u001b[0;34m,\u001b[0m \u001b[0mend\u001b[0m\u001b[0;34m)\u001b[0m\u001b[0;34m.\u001b[0m\u001b[0mend\u001b[0m\u001b[0;34m(\u001b[0m\u001b[0;34m)\u001b[0m\u001b[0;34m\u001b[0m\u001b[0m\n\u001b[1;32m    341\u001b[0m         \u001b[0;32mif\u001b[0m \u001b[0mend\u001b[0m \u001b[0;34m!=\u001b[0m \u001b[0mlen\u001b[0m\u001b[0;34m(\u001b[0m\u001b[0ms\u001b[0m\u001b[0;34m)\u001b[0m\u001b[0;34m:\u001b[0m\u001b[0;34m\u001b[0m\u001b[0m\n",
      "\u001b[0;32m//anaconda/lib/python3.5/json/decoder.py\u001b[0m in \u001b[0;36mraw_decode\u001b[0;34m(self, s, idx)\u001b[0m\n\u001b[1;32m    355\u001b[0m             \u001b[0mobj\u001b[0m\u001b[0;34m,\u001b[0m \u001b[0mend\u001b[0m \u001b[0;34m=\u001b[0m \u001b[0mself\u001b[0m\u001b[0;34m.\u001b[0m\u001b[0mscan_once\u001b[0m\u001b[0;34m(\u001b[0m\u001b[0ms\u001b[0m\u001b[0;34m,\u001b[0m \u001b[0midx\u001b[0m\u001b[0;34m)\u001b[0m\u001b[0;34m\u001b[0m\u001b[0m\n\u001b[1;32m    356\u001b[0m         \u001b[0;32mexcept\u001b[0m \u001b[0mStopIteration\u001b[0m \u001b[0;32mas\u001b[0m \u001b[0merr\u001b[0m\u001b[0;34m:\u001b[0m\u001b[0;34m\u001b[0m\u001b[0m\n\u001b[0;32m--> 357\u001b[0;31m             \u001b[0;32mraise\u001b[0m \u001b[0mJSONDecodeError\u001b[0m\u001b[0;34m(\u001b[0m\u001b[0;34m\"Expecting value\"\u001b[0m\u001b[0;34m,\u001b[0m \u001b[0ms\u001b[0m\u001b[0;34m,\u001b[0m \u001b[0merr\u001b[0m\u001b[0;34m.\u001b[0m\u001b[0mvalue\u001b[0m\u001b[0;34m)\u001b[0m \u001b[0;32mfrom\u001b[0m \u001b[0;32mNone\u001b[0m\u001b[0;34m\u001b[0m\u001b[0m\n\u001b[0m\u001b[1;32m    358\u001b[0m         \u001b[0;32mreturn\u001b[0m \u001b[0mobj\u001b[0m\u001b[0;34m,\u001b[0m \u001b[0mend\u001b[0m\u001b[0;34m\u001b[0m\u001b[0m\n",
      "\u001b[0;31mJSONDecodeError\u001b[0m: Expecting value: line 1 column 1 (char 0)"
     ]
    }
   ],
   "source": [
    "url_stem = \"https://www.ebi.ac.uk\"\n",
    "tggates_url = requests.get(url_stem + \"/chembl/api/data/activity.json?assay_description__icontains=TG-GATES&limit=1000\").json()\n",
    "tggates_act_url = tggates_url['activities']\n",
    "\n",
    "while tggates_url['page_meta']['next']:\n",
    "    tggates_url = requests.get(url_stem + tggates_url['page_meta']['next']).json()\n",
    "    tggates_act_url += tggates_url['activities']\n",
    "\n",
    "len(tggates_act_url)"
   ]
  },
  {
   "cell_type": "markdown",
   "metadata": {},
   "source": [
    "For simplicity, the retrieved data will be converted to a dataframe: "
   ]
  },
  {
   "cell_type": "code",
   "execution_count": 4,
   "metadata": {
    "collapsed": false
   },
   "outputs": [
    {
     "data": {
      "text/plain": [
       "(158199, 31)"
      ]
     },
     "execution_count": 4,
     "metadata": {},
     "output_type": "execute_result"
    }
   ],
   "source": [
    "tggates_act_api_list = list(tggates_act_api.all())\n",
    "\n",
    "tggates_df = pd.DataFrame(tggates_act_api_list)\n",
    "\n",
    "tggates_df.shape"
   ]
  },
  {
   "cell_type": "markdown",
   "metadata": {},
   "source": [
    "As mentioned before, doses, time points, regimens and study_ids are stored in the assay description. For each biochemistry, hematology and organ weight endpoint, the average value across the individual animal samples has been calculated. The averaged treatment value is recorded as an activity standard_value while the averaged controls for those endpoints can be found in the activity_comment. Here is an example,"
   ]
  },
  {
   "cell_type": "code",
   "execution_count": 5,
   "metadata": {
    "collapsed": false
   },
   "outputs": [
    {
     "data": {
      "text/html": [
       "<div>\n",
       "<table border=\"1\" class=\"dataframe\">\n",
       "  <thead>\n",
       "    <tr style=\"text-align: right;\">\n",
       "      <th></th>\n",
       "      <th>activity_comment</th>\n",
       "      <th>activity_id</th>\n",
       "      <th>assay_chembl_id</th>\n",
       "      <th>assay_description</th>\n",
       "      <th>assay_type</th>\n",
       "      <th>bao_endpoint</th>\n",
       "      <th>bao_format</th>\n",
       "      <th>canonical_smiles</th>\n",
       "      <th>data_validity_comment</th>\n",
       "      <th>document_chembl_id</th>\n",
       "      <th>document_journal</th>\n",
       "      <th>document_year</th>\n",
       "      <th>molecule_chembl_id</th>\n",
       "      <th>pchembl_value</th>\n",
       "      <th>potential_duplicate</th>\n",
       "      <th>published_relation</th>\n",
       "      <th>published_type</th>\n",
       "      <th>published_units</th>\n",
       "      <th>published_value</th>\n",
       "      <th>qudt_units</th>\n",
       "      <th>record_id</th>\n",
       "      <th>src_id</th>\n",
       "      <th>standard_flag</th>\n",
       "      <th>standard_relation</th>\n",
       "      <th>standard_type</th>\n",
       "      <th>standard_units</th>\n",
       "      <th>standard_value</th>\n",
       "      <th>target_chembl_id</th>\n",
       "      <th>target_organism</th>\n",
       "      <th>target_pref_name</th>\n",
       "      <th>uo_units</th>\n",
       "    </tr>\n",
       "  </thead>\n",
       "  <tbody>\n",
       "    <tr>\n",
       "      <th>0</th>\n",
       "      <td>SD=2.07; p-value=0.44; N=5 || Control_MEAN=141.60; Control_SD=1.82; Control_N=5</td>\n",
       "      <td>13518617</td>\n",
       "      <td>CHEMBL2810656</td>\n",
       "      <td>Open TG-GATES: Regimen: Single; Time: 6 hr; Dose: High; Route: Gavage | Dataset: Biochemistry; Assay: SODIUM (Sodium); Study_ID: 183/14</td>\n",
       "      <td>T</td>\n",
       "      <td>BAO_0000179</td>\n",
       "      <td>BAO_0000218</td>\n",
       "      <td>Cc1ccc(C)c(OCCCC(C)(C)C(=O)O)c1</td>\n",
       "      <td>None</td>\n",
       "      <td>CHEMBL2766011</td>\n",
       "      <td>None</td>\n",
       "      <td>None</td>\n",
       "      <td>CHEMBL457</td>\n",
       "      <td>None</td>\n",
       "      <td>False</td>\n",
       "      <td>None</td>\n",
       "      <td>SODIUM</td>\n",
       "      <td>meq/L</td>\n",
       "      <td>142.6</td>\n",
       "      <td>None</td>\n",
       "      <td>1933591</td>\n",
       "      <td>11</td>\n",
       "      <td>True</td>\n",
       "      <td>None</td>\n",
       "      <td>SODIUM</td>\n",
       "      <td>mEq.L-1</td>\n",
       "      <td>142.6</td>\n",
       "      <td>CHEMBL376</td>\n",
       "      <td>Rattus norvegicus</td>\n",
       "      <td>Rattus norvegicus</td>\n",
       "      <td>None</td>\n",
       "    </tr>\n",
       "  </tbody>\n",
       "</table>\n",
       "</div>"
      ],
      "text/plain": [
       "                                                                  activity_comment  \\\n",
       "0  SD=2.07; p-value=0.44; N=5 || Control_MEAN=141.60; Control_SD=1.82; Control_N=5   \n",
       "\n",
       "   activity_id assay_chembl_id  \\\n",
       "0     13518617   CHEMBL2810656   \n",
       "\n",
       "                                                                                                                         assay_description  \\\n",
       "0  Open TG-GATES: Regimen: Single; Time: 6 hr; Dose: High; Route: Gavage | Dataset: Biochemistry; Assay: SODIUM (Sodium); Study_ID: 183/14   \n",
       "\n",
       "  assay_type bao_endpoint   bao_format                 canonical_smiles  \\\n",
       "0          T  BAO_0000179  BAO_0000218  Cc1ccc(C)c(OCCCC(C)(C)C(=O)O)c1   \n",
       "\n",
       "  data_validity_comment document_chembl_id document_journal document_year  \\\n",
       "0                  None      CHEMBL2766011             None          None   \n",
       "\n",
       "  molecule_chembl_id pchembl_value potential_duplicate published_relation  \\\n",
       "0          CHEMBL457          None               False               None   \n",
       "\n",
       "  published_type published_units published_value qudt_units  record_id  \\\n",
       "0         SODIUM           meq/L           142.6       None    1933591   \n",
       "\n",
       "   src_id standard_flag standard_relation standard_type standard_units  \\\n",
       "0      11          True              None        SODIUM        mEq.L-1   \n",
       "\n",
       "  standard_value target_chembl_id    target_organism   target_pref_name  \\\n",
       "0          142.6        CHEMBL376  Rattus norvegicus  Rattus norvegicus   \n",
       "\n",
       "  uo_units  \n",
       "0     None  "
      ]
     },
     "execution_count": 5,
     "metadata": {},
     "output_type": "execute_result"
    }
   ],
   "source": [
    "tggates_df.head(1)"
   ]
  },
  {
   "cell_type": "markdown",
   "metadata": {},
   "source": [
    "Open TG-GATEs data is now ready to be used.\n",
    "\n",
    "Further processing of the data might be useful. In the next step, parameters such as dose_level, time, regimen, route, study_id were extracted from the assay_description. p-values and standard_values for the controls can also be extracted from the activity_comment for further comparison with the treatment standard_values."
   ]
  },
  {
   "cell_type": "code",
   "execution_count": 6,
   "metadata": {
    "collapsed": false
   },
   "outputs": [
    {
     "data": {
      "text/plain": [
       "(158199, 7)"
      ]
     },
     "execution_count": 6,
     "metadata": {},
     "output_type": "execute_result"
    }
   ],
   "source": [
    "# get fields of interest\n",
    "tggates = tggates_df[['assay_chembl_id', 'assay_description', 'molecule_chembl_id', 'standard_type', 'standard_value', 'standard_units', 'activity_comment']]\n",
    "\n",
    "tggates.shape"
   ]
  },
  {
   "cell_type": "code",
   "execution_count": 7,
   "metadata": {
    "collapsed": false
   },
   "outputs": [
    {
     "data": {
      "text/html": [
       "<div>\n",
       "<table border=\"1\" class=\"dataframe\">\n",
       "  <thead>\n",
       "    <tr style=\"text-align: right;\">\n",
       "      <th></th>\n",
       "      <th>assay_chembl_id</th>\n",
       "      <th>assay_description</th>\n",
       "      <th>molecule_chembl_id</th>\n",
       "      <th>standard_type</th>\n",
       "      <th>standard_value</th>\n",
       "      <th>standard_units</th>\n",
       "      <th>activity_comment</th>\n",
       "    </tr>\n",
       "  </thead>\n",
       "  <tbody>\n",
       "    <tr>\n",
       "      <th>0</th>\n",
       "      <td>CHEMBL2810656</td>\n",
       "      <td>Open TG-GATES: Regimen: Single; Time: 6 hr; Dose: High; Route: Gavage | Dataset: Biochemistry; Assay: SODIUM (Sodium); Study_ID: 183/14</td>\n",
       "      <td>CHEMBL457</td>\n",
       "      <td>SODIUM</td>\n",
       "      <td>142.6</td>\n",
       "      <td>mEq.L-1</td>\n",
       "      <td>SD=2.07; p-value=0.44; N=5 || Control_MEAN=141.60; Control_SD=1.82; Control_N=5</td>\n",
       "    </tr>\n",
       "  </tbody>\n",
       "</table>\n",
       "</div>"
      ],
      "text/plain": [
       "  assay_chembl_id  \\\n",
       "0   CHEMBL2810656   \n",
       "\n",
       "                                                                                                                         assay_description  \\\n",
       "0  Open TG-GATES: Regimen: Single; Time: 6 hr; Dose: High; Route: Gavage | Dataset: Biochemistry; Assay: SODIUM (Sodium); Study_ID: 183/14   \n",
       "\n",
       "  molecule_chembl_id standard_type standard_value standard_units  \\\n",
       "0          CHEMBL457        SODIUM          142.6        mEq.L-1   \n",
       "\n",
       "                                                                  activity_comment  \n",
       "0  SD=2.07; p-value=0.44; N=5 || Control_MEAN=141.60; Control_SD=1.82; Control_N=5  "
      ]
     },
     "execution_count": 7,
     "metadata": {},
     "output_type": "execute_result"
    }
   ],
   "source": [
    "tggates.head(1)"
   ]
  },
  {
   "cell_type": "code",
   "execution_count": 8,
   "metadata": {
    "collapsed": false
   },
   "outputs": [
    {
     "data": {
      "text/plain": [
       "(60540, 7)"
      ]
     },
     "execution_count": 8,
     "metadata": {},
     "output_type": "execute_result"
    }
   ],
   "source": [
    "# filter on endpoints of interest, e.g. clinical chemistry and hematology data\n",
    "h_cc = tggates[tggates['assay_description'].str.contains('Hematology', 'Biochemistry')]\n",
    "\n",
    "h_cc.shape"
   ]
  },
  {
   "cell_type": "code",
   "execution_count": 9,
   "metadata": {
    "collapsed": false
   },
   "outputs": [
    {
     "data": {
      "text/plain": [
       "(60540, 7)"
      ]
     },
     "execution_count": 9,
     "metadata": {},
     "output_type": "execute_result"
    }
   ],
   "source": [
    "# information regarding dose, time, regimen is store in assay_description\n",
    "tggates_ap_split = h_cc['assay_description'].str.split(' \\| |; ', 0, expand=True).add_prefix('assay_description_part')\n",
    "\n",
    "tggates_ap_split.shape"
   ]
  },
  {
   "cell_type": "code",
   "execution_count": 10,
   "metadata": {
    "collapsed": false
   },
   "outputs": [
    {
     "data": {
      "text/html": [
       "<div>\n",
       "<table border=\"1\" class=\"dataframe\">\n",
       "  <thead>\n",
       "    <tr style=\"text-align: right;\">\n",
       "      <th></th>\n",
       "      <th>assay_description_part0</th>\n",
       "      <th>assay_description_part1</th>\n",
       "      <th>assay_description_part2</th>\n",
       "      <th>assay_description_part3</th>\n",
       "      <th>assay_description_part4</th>\n",
       "      <th>assay_description_part5</th>\n",
       "      <th>assay_description_part6</th>\n",
       "    </tr>\n",
       "  </thead>\n",
       "  <tbody>\n",
       "    <tr>\n",
       "      <th>589</th>\n",
       "      <td>Open TG-GATES: Regimen: Single</td>\n",
       "      <td>Time: 6 hr</td>\n",
       "      <td>Dose: Low</td>\n",
       "      <td>Route: Gavage</td>\n",
       "      <td>Dataset: Hematology</td>\n",
       "      <td>Assay: RBC (Erythrocytes)</td>\n",
       "      <td>Study_ID: 542/6</td>\n",
       "    </tr>\n",
       "  </tbody>\n",
       "</table>\n",
       "</div>"
      ],
      "text/plain": [
       "            assay_description_part0 assay_description_part1  \\\n",
       "589  Open TG-GATES: Regimen: Single              Time: 6 hr   \n",
       "\n",
       "    assay_description_part2 assay_description_part3 assay_description_part4  \\\n",
       "589               Dose: Low           Route: Gavage     Dataset: Hematology   \n",
       "\n",
       "       assay_description_part5 assay_description_part6  \n",
       "589  Assay: RBC (Erythrocytes)         Study_ID: 542/6  "
      ]
     },
     "execution_count": 10,
     "metadata": {},
     "output_type": "execute_result"
    }
   ],
   "source": [
    "tggates_ap_split.head(1)"
   ]
  },
  {
   "cell_type": "code",
   "execution_count": 11,
   "metadata": {
    "collapsed": true
   },
   "outputs": [],
   "source": [
    "regimen    = tggates_ap_split['assay_description_part0'].str.split(':', 0,   expand=True).rename(columns={2:'regimen'}             ).drop([0,1], 1)\n",
    "time       = tggates_ap_split['assay_description_part1'].str.split(':', 0,   expand=True).rename(columns={1:'time'}                ).drop([0],   1)\n",
    "dose_level = tggates_ap_split['assay_description_part2'].str.split(':', 0,   expand=True).rename(columns={1:'dose_level'}          ).drop([0],   1)\n",
    "route      = tggates_ap_split['assay_description_part3'].str.split(':', 0,   expand=True).rename(columns={1:'route'}               ).drop([0],   1)\n",
    "dataset    = tggates_ap_split['assay_description_part4'].str.split(':', 0,   expand=True).rename(columns={1:'dataset'}             ).drop([0],   1)\n",
    "assay_test = tggates_ap_split['assay_description_part5'].str.split(':', 0,   expand=True).rename(columns={1:'assay_test'}          ).drop([0],   1)\n",
    "exp_group  = tggates_ap_split['assay_description_part6'].str.split(':|/', 0, expand=True).rename(columns={1:'exp_id', 2:'group_id'}).drop([0],   1)"
   ]
  },
  {
   "cell_type": "code",
   "execution_count": 12,
   "metadata": {
    "collapsed": false
   },
   "outputs": [
    {
     "data": {
      "text/html": [
       "<div>\n",
       "<table border=\"1\" class=\"dataframe\">\n",
       "  <thead>\n",
       "    <tr style=\"text-align: right;\">\n",
       "      <th></th>\n",
       "      <th>regimen</th>\n",
       "    </tr>\n",
       "  </thead>\n",
       "  <tbody>\n",
       "    <tr>\n",
       "      <th>589</th>\n",
       "      <td>Single</td>\n",
       "    </tr>\n",
       "  </tbody>\n",
       "</table>\n",
       "</div>"
      ],
      "text/plain": [
       "     regimen\n",
       "589   Single"
      ]
     },
     "execution_count": 12,
     "metadata": {},
     "output_type": "execute_result"
    }
   ],
   "source": [
    "regimen.head(1)"
   ]
  },
  {
   "cell_type": "code",
   "execution_count": 13,
   "metadata": {
    "collapsed": false
   },
   "outputs": [
    {
     "data": {
      "text/html": [
       "<div>\n",
       "<table border=\"1\" class=\"dataframe\">\n",
       "  <thead>\n",
       "    <tr style=\"text-align: right;\">\n",
       "      <th></th>\n",
       "      <th>exp_id</th>\n",
       "      <th>group_id</th>\n",
       "    </tr>\n",
       "  </thead>\n",
       "  <tbody>\n",
       "    <tr>\n",
       "      <th>589</th>\n",
       "      <td>542</td>\n",
       "      <td>6</td>\n",
       "    </tr>\n",
       "  </tbody>\n",
       "</table>\n",
       "</div>"
      ],
      "text/plain": [
       "    exp_id group_id\n",
       "589    542        6"
      ]
     },
     "execution_count": 13,
     "metadata": {},
     "output_type": "execute_result"
    }
   ],
   "source": [
    "exp_group.head(1)"
   ]
  },
  {
   "cell_type": "code",
   "execution_count": 14,
   "metadata": {
    "collapsed": true
   },
   "outputs": [],
   "source": [
    "tggates_ap = (\n",
    "    regimen\n",
    "    .merge(time,       left_index=True, right_index=True, how='inner')\n",
    "    .merge(dose_level, left_index=True, right_index=True, how='inner')\n",
    "    .merge(route,      left_index=True, right_index=True, how='inner')\n",
    "    .merge(dataset,    left_index=True, right_index=True, how='inner')\n",
    "    .merge(assay_test, left_index=True, right_index=True, how='inner')\n",
    "    .merge(exp_group,  left_index=True, right_index=True, how='inner')\n",
    ")"
   ]
  },
  {
   "cell_type": "code",
   "execution_count": 15,
   "metadata": {
    "collapsed": false
   },
   "outputs": [
    {
     "data": {
      "text/plain": [
       "(60540, 8)"
      ]
     },
     "execution_count": 15,
     "metadata": {},
     "output_type": "execute_result"
    }
   ],
   "source": [
    "tggates_ap.shape"
   ]
  },
  {
   "cell_type": "code",
   "execution_count": 16,
   "metadata": {
    "collapsed": false
   },
   "outputs": [
    {
     "data": {
      "text/html": [
       "<div>\n",
       "<table border=\"1\" class=\"dataframe\">\n",
       "  <thead>\n",
       "    <tr style=\"text-align: right;\">\n",
       "      <th></th>\n",
       "      <th>regimen</th>\n",
       "      <th>time</th>\n",
       "      <th>dose_level</th>\n",
       "      <th>route</th>\n",
       "      <th>dataset</th>\n",
       "      <th>assay_test</th>\n",
       "      <th>exp_id</th>\n",
       "      <th>group_id</th>\n",
       "    </tr>\n",
       "  </thead>\n",
       "  <tbody>\n",
       "    <tr>\n",
       "      <th>589</th>\n",
       "      <td>Single</td>\n",
       "      <td>6 hr</td>\n",
       "      <td>Low</td>\n",
       "      <td>Gavage</td>\n",
       "      <td>Hematology</td>\n",
       "      <td>RBC (Erythrocytes)</td>\n",
       "      <td>542</td>\n",
       "      <td>6</td>\n",
       "    </tr>\n",
       "  </tbody>\n",
       "</table>\n",
       "</div>"
      ],
      "text/plain": [
       "     regimen   time dose_level    route      dataset           assay_test  \\\n",
       "589   Single   6 hr        Low   Gavage   Hematology   RBC (Erythrocytes)   \n",
       "\n",
       "    exp_id group_id  \n",
       "589    542        6  "
      ]
     },
     "execution_count": 16,
     "metadata": {},
     "output_type": "execute_result"
    }
   ],
   "source": [
    "tggates_ap.head(1)"
   ]
  },
  {
   "cell_type": "code",
   "execution_count": 17,
   "metadata": {
    "collapsed": true
   },
   "outputs": [],
   "source": [
    "tggates_ap = tggates_ap.replace('^\\s', '', regex=True)"
   ]
  },
  {
   "cell_type": "code",
   "execution_count": 18,
   "metadata": {
    "collapsed": false
   },
   "outputs": [
    {
     "data": {
      "text/plain": [
       "(60540, 2)"
      ]
     },
     "execution_count": 18,
     "metadata": {},
     "output_type": "execute_result"
    }
   ],
   "source": [
    "# information regarding treatment and control is store in activity_comment:\n",
    "tggates_split = h_cc['activity_comment'].str.split(' \\|\\| ', expand=True).add_prefix('act_comment_part')\n",
    "\n",
    "tggates_split.shape"
   ]
  },
  {
   "cell_type": "code",
   "execution_count": 19,
   "metadata": {
    "collapsed": false
   },
   "outputs": [
    {
     "data": {
      "text/html": [
       "<div>\n",
       "<table border=\"1\" class=\"dataframe\">\n",
       "  <thead>\n",
       "    <tr style=\"text-align: right;\">\n",
       "      <th></th>\n",
       "      <th>act_comment_part0</th>\n",
       "      <th>act_comment_part1</th>\n",
       "    </tr>\n",
       "  </thead>\n",
       "  <tbody>\n",
       "    <tr>\n",
       "      <th>589</th>\n",
       "      <td>SD=26.81; p-value=0.81; N=5</td>\n",
       "      <td>Control_MEAN=643.60; Control_SD=39.44; Control_N=5</td>\n",
       "    </tr>\n",
       "  </tbody>\n",
       "</table>\n",
       "</div>"
      ],
      "text/plain": [
       "               act_comment_part0  \\\n",
       "589  SD=26.81; p-value=0.81; N=5   \n",
       "\n",
       "                                      act_comment_part1  \n",
       "589  Control_MEAN=643.60; Control_SD=39.44; Control_N=5  "
      ]
     },
     "execution_count": 19,
     "metadata": {},
     "output_type": "execute_result"
    }
   ],
   "source": [
    "tggates_split.head(1)"
   ]
  },
  {
   "cell_type": "code",
   "execution_count": 20,
   "metadata": {
    "collapsed": false
   },
   "outputs": [
    {
     "data": {
      "text/plain": [
       "((60540, 3), (60540, 3))"
      ]
     },
     "execution_count": 20,
     "metadata": {},
     "output_type": "execute_result"
    }
   ],
   "source": [
    "tggates_treat   = tggates_split['act_comment_part0'].str.split(';', expand=True).add_prefix('treatment_part')\n",
    "tggates_control = tggates_split['act_comment_part1'].str.split(';', expand=True).add_prefix('control_part')\n",
    "\n",
    "tggates_treat.shape, tggates_control.shape"
   ]
  },
  {
   "cell_type": "code",
   "execution_count": 21,
   "metadata": {
    "collapsed": false
   },
   "outputs": [
    {
     "data": {
      "text/html": [
       "<div>\n",
       "<table border=\"1\" class=\"dataframe\">\n",
       "  <thead>\n",
       "    <tr style=\"text-align: right;\">\n",
       "      <th></th>\n",
       "      <th>treatment_part0</th>\n",
       "      <th>treatment_part1</th>\n",
       "      <th>treatment_part2</th>\n",
       "    </tr>\n",
       "  </thead>\n",
       "  <tbody>\n",
       "    <tr>\n",
       "      <th>589</th>\n",
       "      <td>SD=26.81</td>\n",
       "      <td>p-value=0.81</td>\n",
       "      <td>N=5</td>\n",
       "    </tr>\n",
       "  </tbody>\n",
       "</table>\n",
       "</div>"
      ],
      "text/plain": [
       "    treatment_part0 treatment_part1 treatment_part2\n",
       "589        SD=26.81    p-value=0.81             N=5"
      ]
     },
     "execution_count": 21,
     "metadata": {},
     "output_type": "execute_result"
    }
   ],
   "source": [
    "tggates_treat.head(1)"
   ]
  },
  {
   "cell_type": "code",
   "execution_count": 22,
   "metadata": {
    "collapsed": false
   },
   "outputs": [
    {
     "data": {
      "text/plain": [
       "(60540, 1)"
      ]
     },
     "execution_count": 22,
     "metadata": {},
     "output_type": "execute_result"
    }
   ],
   "source": [
    "t_sd_t = tggates_treat['treatment_part0'].str.split('=', expand=True).rename(columns={1:'SD'}).drop([0], 1)\n",
    "t_sd_t.fillna(value=np.nan, inplace=True)\n",
    "t_sd_t['SD'] = t_sd_t['SD'].map(lambda x: x.strip()).replace('nan', np.nan)\n",
    "\n",
    "t_sd_t.shape"
   ]
  },
  {
   "cell_type": "code",
   "execution_count": 23,
   "metadata": {
    "collapsed": false
   },
   "outputs": [
    {
     "data": {
      "text/html": [
       "<div>\n",
       "<table border=\"1\" class=\"dataframe\">\n",
       "  <thead>\n",
       "    <tr style=\"text-align: right;\">\n",
       "      <th></th>\n",
       "      <th>SD</th>\n",
       "    </tr>\n",
       "  </thead>\n",
       "  <tbody>\n",
       "    <tr>\n",
       "      <th>589</th>\n",
       "      <td>26.81</td>\n",
       "    </tr>\n",
       "  </tbody>\n",
       "</table>\n",
       "</div>"
      ],
      "text/plain": [
       "        SD\n",
       "589  26.81"
      ]
     },
     "execution_count": 23,
     "metadata": {},
     "output_type": "execute_result"
    }
   ],
   "source": [
    "t_sd_t.head(1)"
   ]
  },
  {
   "cell_type": "code",
   "execution_count": 24,
   "metadata": {
    "collapsed": false
   },
   "outputs": [
    {
     "data": {
      "text/plain": [
       "(60540, 1)"
      ]
     },
     "execution_count": 24,
     "metadata": {},
     "output_type": "execute_result"
    }
   ],
   "source": [
    "t_p_t = tggates_treat['treatment_part1'].str.split('=', expand=True).rename(columns={1:'p-value'}).drop([0], 1)\n",
    "t_p_t.fillna(value=np.nan, inplace=True)\n",
    "\n",
    "t_p_t.shape"
   ]
  },
  {
   "cell_type": "code",
   "execution_count": 25,
   "metadata": {
    "collapsed": false
   },
   "outputs": [
    {
     "data": {
      "text/html": [
       "<div>\n",
       "<table border=\"1\" class=\"dataframe\">\n",
       "  <thead>\n",
       "    <tr style=\"text-align: right;\">\n",
       "      <th></th>\n",
       "      <th>p-value</th>\n",
       "    </tr>\n",
       "  </thead>\n",
       "  <tbody>\n",
       "    <tr>\n",
       "      <th>589</th>\n",
       "      <td>0.81</td>\n",
       "    </tr>\n",
       "  </tbody>\n",
       "</table>\n",
       "</div>"
      ],
      "text/plain": [
       "    p-value\n",
       "589    0.81"
      ]
     },
     "execution_count": 25,
     "metadata": {},
     "output_type": "execute_result"
    }
   ],
   "source": [
    "t_p_t.head(1)"
   ]
  },
  {
   "cell_type": "code",
   "execution_count": 26,
   "metadata": {
    "collapsed": false
   },
   "outputs": [
    {
     "data": {
      "text/plain": [
       "(60540, 1)"
      ]
     },
     "execution_count": 26,
     "metadata": {},
     "output_type": "execute_result"
    }
   ],
   "source": [
    "t_n_t = tggates_treat['treatment_part2'].str.split('=', expand=True).rename(columns={1:'N'}).drop([0], 1)\n",
    "t_n_t.fillna(value=np.nan, inplace=True)\n",
    "\n",
    "t_n_t.shape"
   ]
  },
  {
   "cell_type": "code",
   "execution_count": 27,
   "metadata": {
    "collapsed": false
   },
   "outputs": [
    {
     "data": {
      "text/html": [
       "<div>\n",
       "<table border=\"1\" class=\"dataframe\">\n",
       "  <thead>\n",
       "    <tr style=\"text-align: right;\">\n",
       "      <th></th>\n",
       "      <th>N</th>\n",
       "    </tr>\n",
       "  </thead>\n",
       "  <tbody>\n",
       "    <tr>\n",
       "      <th>589</th>\n",
       "      <td>5</td>\n",
       "    </tr>\n",
       "  </tbody>\n",
       "</table>\n",
       "</div>"
      ],
      "text/plain": [
       "     N\n",
       "589  5"
      ]
     },
     "execution_count": 27,
     "metadata": {},
     "output_type": "execute_result"
    }
   ],
   "source": [
    "t_n_t.head(1)"
   ]
  },
  {
   "cell_type": "code",
   "execution_count": 28,
   "metadata": {
    "collapsed": false
   },
   "outputs": [
    {
     "data": {
      "text/html": [
       "<div>\n",
       "<table border=\"1\" class=\"dataframe\">\n",
       "  <thead>\n",
       "    <tr style=\"text-align: right;\">\n",
       "      <th></th>\n",
       "      <th>control_part0</th>\n",
       "      <th>control_part1</th>\n",
       "      <th>control_part2</th>\n",
       "    </tr>\n",
       "  </thead>\n",
       "  <tbody>\n",
       "    <tr>\n",
       "      <th>589</th>\n",
       "      <td>Control_MEAN=643.60</td>\n",
       "      <td>Control_SD=39.44</td>\n",
       "      <td>Control_N=5</td>\n",
       "    </tr>\n",
       "  </tbody>\n",
       "</table>\n",
       "</div>"
      ],
      "text/plain": [
       "           control_part0      control_part1 control_part2\n",
       "589  Control_MEAN=643.60   Control_SD=39.44   Control_N=5"
      ]
     },
     "execution_count": 28,
     "metadata": {},
     "output_type": "execute_result"
    }
   ],
   "source": [
    "tggates_control.head(1)"
   ]
  },
  {
   "cell_type": "code",
   "execution_count": 29,
   "metadata": {
    "collapsed": false
   },
   "outputs": [
    {
     "data": {
      "text/plain": [
       "(60540, 1)"
      ]
     },
     "execution_count": 29,
     "metadata": {},
     "output_type": "execute_result"
    }
   ],
   "source": [
    "t_mean_c = tggates_control['control_part0'].str.split('=', expand=True).rename(columns={1:'control_value'}).drop([0], 1)\n",
    "t_mean_c.fillna(value=np.nan, inplace=True)\n",
    "\n",
    "t_mean_c.shape"
   ]
  },
  {
   "cell_type": "code",
   "execution_count": 30,
   "metadata": {
    "collapsed": false
   },
   "outputs": [
    {
     "data": {
      "text/html": [
       "<div>\n",
       "<table border=\"1\" class=\"dataframe\">\n",
       "  <thead>\n",
       "    <tr style=\"text-align: right;\">\n",
       "      <th></th>\n",
       "      <th>control_value</th>\n",
       "    </tr>\n",
       "  </thead>\n",
       "  <tbody>\n",
       "    <tr>\n",
       "      <th>589</th>\n",
       "      <td>643.60</td>\n",
       "    </tr>\n",
       "  </tbody>\n",
       "</table>\n",
       "</div>"
      ],
      "text/plain": [
       "    control_value\n",
       "589        643.60"
      ]
     },
     "execution_count": 30,
     "metadata": {},
     "output_type": "execute_result"
    }
   ],
   "source": [
    "t_mean_c.head(1)"
   ]
  },
  {
   "cell_type": "code",
   "execution_count": 31,
   "metadata": {
    "collapsed": false
   },
   "outputs": [
    {
     "data": {
      "text/plain": [
       "(60540, 1)"
      ]
     },
     "execution_count": 31,
     "metadata": {},
     "output_type": "execute_result"
    }
   ],
   "source": [
    "t_sd_c = tggates_control['control_part1'].str.split('=', 0, expand=True).rename(columns={1:'control_SD'}).drop([0], 1)\n",
    "t_sd_c.fillna(value=np.nan, inplace=True)\n",
    "\n",
    "t_sd_c.shape"
   ]
  },
  {
   "cell_type": "code",
   "execution_count": 32,
   "metadata": {
    "collapsed": false
   },
   "outputs": [
    {
     "data": {
      "text/html": [
       "<div>\n",
       "<table border=\"1\" class=\"dataframe\">\n",
       "  <thead>\n",
       "    <tr style=\"text-align: right;\">\n",
       "      <th></th>\n",
       "      <th>control_SD</th>\n",
       "    </tr>\n",
       "  </thead>\n",
       "  <tbody>\n",
       "    <tr>\n",
       "      <th>589</th>\n",
       "      <td>39.44</td>\n",
       "    </tr>\n",
       "  </tbody>\n",
       "</table>\n",
       "</div>"
      ],
      "text/plain": [
       "    control_SD\n",
       "589      39.44"
      ]
     },
     "execution_count": 32,
     "metadata": {},
     "output_type": "execute_result"
    }
   ],
   "source": [
    "t_sd_c.head(1)"
   ]
  },
  {
   "cell_type": "code",
   "execution_count": 33,
   "metadata": {
    "collapsed": false
   },
   "outputs": [
    {
     "data": {
      "text/plain": [
       "(60540, 1)"
      ]
     },
     "execution_count": 33,
     "metadata": {},
     "output_type": "execute_result"
    }
   ],
   "source": [
    "t_n_c = tggates_control['control_part2'].str.split('=', 0, expand=True).rename(columns={1:'control_N'}).drop([0], 1)\n",
    "t_n_c.fillna(value=np.nan, inplace=True)\n",
    "\n",
    "t_n_c.shape"
   ]
  },
  {
   "cell_type": "code",
   "execution_count": 34,
   "metadata": {
    "collapsed": false
   },
   "outputs": [
    {
     "data": {
      "text/html": [
       "<div>\n",
       "<table border=\"1\" class=\"dataframe\">\n",
       "  <thead>\n",
       "    <tr style=\"text-align: right;\">\n",
       "      <th></th>\n",
       "      <th>control_N</th>\n",
       "    </tr>\n",
       "  </thead>\n",
       "  <tbody>\n",
       "    <tr>\n",
       "      <th>589</th>\n",
       "      <td>5</td>\n",
       "    </tr>\n",
       "  </tbody>\n",
       "</table>\n",
       "</div>"
      ],
      "text/plain": [
       "    control_N\n",
       "589         5"
      ]
     },
     "execution_count": 34,
     "metadata": {},
     "output_type": "execute_result"
    }
   ],
   "source": [
    "t_n_c.head(1)"
   ]
  },
  {
   "cell_type": "code",
   "execution_count": 35,
   "metadata": {
    "collapsed": false
   },
   "outputs": [
    {
     "data": {
      "text/plain": [
       "(60540, 6)"
      ]
     },
     "execution_count": 35,
     "metadata": {},
     "output_type": "execute_result"
    }
   ],
   "source": [
    "tggates_comment = (\n",
    "    t_sd_t[['SD']]\n",
    "    .merge(t_p_t.loc[:,   ['p-value']],       left_index=True, right_index=True, how='inner')\n",
    "    .merge(t_n_t.loc[:,   ['N']],             left_index=True, right_index=True, how='inner')\n",
    "    .merge(t_mean_c.loc[:,['control_value']], left_index=True, right_index=True, how='inner')\n",
    "    .merge(t_sd_c.loc[:,  ['control_SD']],    left_index=True, right_index=True, how='inner')\n",
    "    .merge(t_n_c.loc[: ,  ['control_N']],     left_index=True, right_index=True, how='inner')\n",
    ")\n",
    "\n",
    "tggates_comment.shape"
   ]
  },
  {
   "cell_type": "code",
   "execution_count": 36,
   "metadata": {
    "collapsed": false
   },
   "outputs": [
    {
     "data": {
      "text/html": [
       "<div>\n",
       "<table border=\"1\" class=\"dataframe\">\n",
       "  <thead>\n",
       "    <tr style=\"text-align: right;\">\n",
       "      <th></th>\n",
       "      <th>SD</th>\n",
       "      <th>p-value</th>\n",
       "      <th>N</th>\n",
       "      <th>control_value</th>\n",
       "      <th>control_SD</th>\n",
       "      <th>control_N</th>\n",
       "    </tr>\n",
       "  </thead>\n",
       "  <tbody>\n",
       "    <tr>\n",
       "      <th>589</th>\n",
       "      <td>26.81</td>\n",
       "      <td>0.81</td>\n",
       "      <td>5</td>\n",
       "      <td>643.60</td>\n",
       "      <td>39.44</td>\n",
       "      <td>5</td>\n",
       "    </tr>\n",
       "  </tbody>\n",
       "</table>\n",
       "</div>"
      ],
      "text/plain": [
       "        SD p-value  N control_value control_SD control_N\n",
       "589  26.81    0.81  5        643.60      39.44         5"
      ]
     },
     "execution_count": 36,
     "metadata": {},
     "output_type": "execute_result"
    }
   ],
   "source": [
    "tggates_comment.head(1)"
   ]
  },
  {
   "cell_type": "code",
   "execution_count": 37,
   "metadata": {
    "collapsed": false
   },
   "outputs": [
    {
     "data": {
      "text/plain": [
       "(60540, 21)"
      ]
     },
     "execution_count": 37,
     "metadata": {},
     "output_type": "execute_result"
    }
   ],
   "source": [
    "# merge the assay parameters, with the activity data for treatment and control assays\n",
    "tggates_f = (\n",
    "    tggates_ap\n",
    "    .merge(h_cc,            left_index=True, right_index=True, how='inner')\n",
    "    .merge(tggates_comment, left_index=True, right_index=True, how='inner')\n",
    ")\n",
    "\n",
    "tggates_f.shape"
   ]
  },
  {
   "cell_type": "code",
   "execution_count": 38,
   "metadata": {
    "collapsed": false
   },
   "outputs": [
    {
     "data": {
      "text/html": [
       "<div>\n",
       "<table border=\"1\" class=\"dataframe\">\n",
       "  <thead>\n",
       "    <tr style=\"text-align: right;\">\n",
       "      <th></th>\n",
       "      <th>regimen</th>\n",
       "      <th>time</th>\n",
       "      <th>dose_level</th>\n",
       "      <th>route</th>\n",
       "      <th>dataset</th>\n",
       "      <th>assay_test</th>\n",
       "      <th>exp_id</th>\n",
       "      <th>group_id</th>\n",
       "      <th>assay_chembl_id</th>\n",
       "      <th>assay_description</th>\n",
       "      <th>molecule_chembl_id</th>\n",
       "      <th>standard_type</th>\n",
       "      <th>standard_value</th>\n",
       "      <th>standard_units</th>\n",
       "      <th>activity_comment</th>\n",
       "      <th>SD</th>\n",
       "      <th>p-value</th>\n",
       "      <th>N</th>\n",
       "      <th>control_value</th>\n",
       "      <th>control_SD</th>\n",
       "      <th>control_N</th>\n",
       "    </tr>\n",
       "  </thead>\n",
       "  <tbody>\n",
       "    <tr>\n",
       "      <th>589</th>\n",
       "      <td>Single</td>\n",
       "      <td>6 hr</td>\n",
       "      <td>Low</td>\n",
       "      <td>Gavage</td>\n",
       "      <td>Hematology</td>\n",
       "      <td>RBC (Erythrocytes)</td>\n",
       "      <td>542</td>\n",
       "      <td>6</td>\n",
       "      <td>CHEMBL2884443</td>\n",
       "      <td>Open TG-GATES: Regimen: Single; Time: 6 hr; Dose: Low; Route: Gavage | Dataset: Hematology; Assay: RBC (Erythrocytes); Study_ID: 542/6</td>\n",
       "      <td>CHEMBL1697830</td>\n",
       "      <td>RBC</td>\n",
       "      <td>6382000</td>\n",
       "      <td>cells.uL-1</td>\n",
       "      <td>SD=26.81; p-value=0.81; N=5 || Control_MEAN=643.60; Control_SD=39.44; Control_N=5</td>\n",
       "      <td>26.81</td>\n",
       "      <td>0.81</td>\n",
       "      <td>5</td>\n",
       "      <td>643.60</td>\n",
       "      <td>39.44</td>\n",
       "      <td>5</td>\n",
       "    </tr>\n",
       "  </tbody>\n",
       "</table>\n",
       "</div>"
      ],
      "text/plain": [
       "    regimen  time dose_level   route     dataset          assay_test exp_id  \\\n",
       "589  Single  6 hr        Low  Gavage  Hematology  RBC (Erythrocytes)    542   \n",
       "\n",
       "    group_id assay_chembl_id  \\\n",
       "589        6   CHEMBL2884443   \n",
       "\n",
       "                                                                                                                          assay_description  \\\n",
       "589  Open TG-GATES: Regimen: Single; Time: 6 hr; Dose: Low; Route: Gavage | Dataset: Hematology; Assay: RBC (Erythrocytes); Study_ID: 542/6   \n",
       "\n",
       "    molecule_chembl_id standard_type standard_value standard_units  \\\n",
       "589      CHEMBL1697830           RBC        6382000     cells.uL-1   \n",
       "\n",
       "                                                                      activity_comment  \\\n",
       "589  SD=26.81; p-value=0.81; N=5 || Control_MEAN=643.60; Control_SD=39.44; Control_N=5   \n",
       "\n",
       "        SD p-value  N control_value control_SD control_N  \n",
       "589  26.81    0.81  5        643.60      39.44         5  "
      ]
     },
     "execution_count": 38,
     "metadata": {},
     "output_type": "execute_result"
    }
   ],
   "source": [
    "tggates_f.head(1)"
   ]
  },
  {
   "cell_type": "code",
   "execution_count": 39,
   "metadata": {
    "collapsed": false
   },
   "outputs": [
    {
     "data": {
      "text/html": [
       "<div>\n",
       "<table border=\"1\" class=\"dataframe\">\n",
       "  <thead>\n",
       "    <tr style=\"text-align: right;\">\n",
       "      <th></th>\n",
       "      <th>molecule_chembl_id</th>\n",
       "      <th>dataset</th>\n",
       "      <th>assay_chembl_id</th>\n",
       "      <th>assay_test</th>\n",
       "      <th>regimen</th>\n",
       "      <th>dose_level</th>\n",
       "      <th>time</th>\n",
       "      <th>route</th>\n",
       "      <th>exp_id</th>\n",
       "      <th>group_id</th>\n",
       "      <th>standard_type</th>\n",
       "      <th>standard_value</th>\n",
       "      <th>standard_units</th>\n",
       "      <th>SD</th>\n",
       "      <th>p-value</th>\n",
       "      <th>N</th>\n",
       "      <th>control_value</th>\n",
       "      <th>control_SD</th>\n",
       "      <th>control_N</th>\n",
       "    </tr>\n",
       "  </thead>\n",
       "  <tbody>\n",
       "    <tr>\n",
       "      <th>589</th>\n",
       "      <td>CHEMBL1697830</td>\n",
       "      <td>Hematology</td>\n",
       "      <td>CHEMBL2884443</td>\n",
       "      <td>RBC (Erythrocytes)</td>\n",
       "      <td>Single</td>\n",
       "      <td>Low</td>\n",
       "      <td>6 hr</td>\n",
       "      <td>Gavage</td>\n",
       "      <td>542</td>\n",
       "      <td>6</td>\n",
       "      <td>RBC</td>\n",
       "      <td>6382000</td>\n",
       "      <td>cells.uL-1</td>\n",
       "      <td>26.81</td>\n",
       "      <td>0.81</td>\n",
       "      <td>5</td>\n",
       "      <td>643.60</td>\n",
       "      <td>39.44</td>\n",
       "      <td>5</td>\n",
       "    </tr>\n",
       "  </tbody>\n",
       "</table>\n",
       "</div>"
      ],
      "text/plain": [
       "    molecule_chembl_id     dataset assay_chembl_id          assay_test  \\\n",
       "589      CHEMBL1697830  Hematology   CHEMBL2884443  RBC (Erythrocytes)   \n",
       "\n",
       "    regimen dose_level  time   route exp_id group_id standard_type  \\\n",
       "589  Single        Low  6 hr  Gavage    542        6           RBC   \n",
       "\n",
       "    standard_value standard_units     SD p-value  N control_value control_SD  \\\n",
       "589        6382000     cells.uL-1  26.81    0.81  5        643.60      39.44   \n",
       "\n",
       "    control_N  \n",
       "589         5  "
      ]
     },
     "execution_count": 39,
     "metadata": {},
     "output_type": "execute_result"
    }
   ],
   "source": [
    "# reorder columns and select fields of interest\n",
    "tggates_f = tggates_f[['molecule_chembl_id', 'dataset', 'assay_chembl_id', 'assay_test', 'regimen', 'dose_level', 'time', 'route', 'exp_id', 'group_id', 'standard_type', 'standard_value', 'standard_units', 'SD', 'p-value', 'N', 'control_value', 'control_SD', 'control_N']]\n",
    "\n",
    "tggates_f.head(1)"
   ]
  },
  {
   "cell_type": "markdown",
   "metadata": {},
   "source": [
    "<h1>Tox Flag</h1>\n",
    "\n",
    "We are always interested in understanding how these datasets are used by our collaborators.\n",
    "<br>For these type of data, we believe it would be useful to the user to have a simple flag that could summarise the observations across treatment and controls.</br>\n",
    "\n",
    "Here we propose a way of providing this summary based on very simple and intuitive rules:\n",
    "\n",
    "For each study and endpoint, a tox_flag is calculated based on comparisons between \n",
    "\n",
    "1\\. the treatment values and the controls:\n",
    "<br>- if there's a significant difference between treatment values and controls (p-value <= 0.05) and there's an increase above controls: tox_flag = 0.5</br>\n",
    "<br>- if there's a significant difference between treatment values and controls (p-value <= 0.05) and there's a decrease below controls: tox_flag = -0.5</br>\n",
    "\n",
    "2\\. the treatment_values and normal ranges of historical controls\n",
    "<br>- if there's a significant difference between treatment values and controls (p-value <= 0.05) and there's an increase above the normal range: tox_flag = 1</br>\n",
    "<br>- if there's a significant difference between treatment values and controls (p-value <= 0.05) and there's a decrease below the normal range: tox_flag = -1</br>\n",
    "\n",
    "Normal ranges available in the DrugMatrix<sup>2</sup> <i>in vivo</i> dataset were used as reference. The DrugMatrix dataset can also be found in CHEMBL under src_id 15 and document_chembl_ids CHEMBL2924216 (biochemistry), CHEMBL2924217 (hematology) and CHEMBL2924218 (pathology).\n",
    "\n",
    "<sup>2</sup>Ganter, B., Tugendreich, S., Pearson, C. I., Ayanoglu, E., Baumhueter, S., Bostian, K. A., et al. (2005). Development of a large-scale chemogenomics database to improve drug candidate selection and to understand mechanisms of chemical toxicity and action. Journal of Biotechnology, 119(3), 219–244."
   ]
  },
  {
   "cell_type": "code",
   "execution_count": 40,
   "metadata": {
    "collapsed": true
   },
   "outputs": [],
   "source": [
    "# define how to calculate tox_flag\n",
    "def tox_flag(row):\n",
    "    if (float(row['standard_value']) > float(row['control_value'])) & (float(row['standard_value']) > float(row['nrange_uvalue'])) & (float(row['p-value']) <= 0.05) & (pd.isnull(row['standard_value']) != True) & (pd.isnull(row['control_value']) != True) & (pd.isnull(row['p-value']) != True):\n",
    "        val = 1\n",
    "    elif (float(row['standard_value']) > float(row['control_value'])) & (float(row['standard_value']) <= float(row['nrange_uvalue'])) & (float(row['p-value']) <= 0.05) & (pd.isnull(row['standard_value']) != True) & (pd.isnull(row['control_value']) != True) & (pd.isnull(row['p-value']) != True):\n",
    "        val = 0.5\n",
    "    elif (float(row['standard_value']) > float(row['control_value'])) & (float(row['p-value']) > 0.05) & (pd.isnull(row['standard_value']) != True) & (pd.isnull(row['control_value']) != True) & (pd.isnull(row['p-value']) != True):\n",
    "        val = 0\n",
    "    elif (float(row['standard_value']) < float(row['control_value'])) & (float(row['p-value']) <= 0.05) & (float(row['standard_value']) < float(row['nrange_lvalue'])) & (pd.isnull(row['standard_value']) != True) & (pd.isnull(row['control_value']) != True) & (pd.isnull(row['p-value']) != True):\n",
    "        val = -1\n",
    "    elif (float(row['standard_value']) < float(row['control_value'])) & (float(row['p-value']) <= 0.05) & (float(row['standard_value']) >= float(row['nrange_lvalue'])) & (pd.isnull(row['standard_value']) != True) & (pd.isnull(row['control_value']) != True) & (pd.isnull(row['p-value']) != True):\n",
    "        val = -0.5\n",
    "    elif (float(row['standard_value']) < float(row['control_value'])) & (float(row['p-value']) > 0.05) & (pd.isnull(row['standard_value']) != True) & (pd.isnull(row['control_value']) != True) & (pd.isnull(row['p-value']) != True):\n",
    "        val = 0\n",
    "    elif (float(row['standard_value']) == float(row['control_value'])) & (pd.isnull(row['standard_value']) != True) & (pd.isnull(row['control_value']) != True):\n",
    "        val = 0\n",
    "    else:\n",
    "        val = 0\n",
    "    return val"
   ]
  },
  {
   "cell_type": "code",
   "execution_count": 41,
   "metadata": {
    "collapsed": false,
    "scrolled": true
   },
   "outputs": [],
   "source": [
    "# retrieve normal ranges from the drugmatrix data in ChEMBL for the biochemistry and hematology endpoints\n",
    "drugmatrix_act_api      = activity.get(document_chembl_id=(['CHEMBL2924216', 'CHEMBL2924217']))\n",
    "drugmatrix_act_api_list = list(drugmatrix_act_api.all())\n",
    "drugmatrix_df           = pd.DataFrame(drugmatrix_act_api_list)\n",
    "dmatrix                 = drugmatrix_df[['standard_type', 'activity_comment']]\n",
    "\n",
    "# extract normal range from activity_comment\n",
    "dmatrix_split  = dmatrix['activity_comment'].str.split('\\ \\|\\|\\ ', 0, expand=True).add_prefix('act_comment_part')\n",
    "dmatrix_nrange = dmatrix_split['act_comment_part2'].str.split(':', 0, expand=True).add_prefix('nrange_part')\n",
    "nrange         = dmatrix_nrange['nrange_part1'].str.split('-', 0, expand=True).rename(columns={0: 'nrange_lvalue',1:'nrange_uvalue'})\n",
    "\n",
    "# for each endpoint, merge upper and lower values for the normal range\n",
    "dmatrix.drop('activity_comment', axis=1, inplace=True)\n",
    "dmatrix_nrange = dmatrix.merge(nrange, left_index = True, right_index = True, how='inner').drop_duplicates()"
   ]
  },
  {
   "cell_type": "code",
   "execution_count": 42,
   "metadata": {
    "collapsed": false
   },
   "outputs": [
    {
     "data": {
      "text/html": [
       "<div>\n",
       "<table border=\"1\" class=\"dataframe\">\n",
       "  <thead>\n",
       "    <tr style=\"text-align: right;\">\n",
       "      <th></th>\n",
       "      <th>standard_type</th>\n",
       "      <th>nrange_lvalue</th>\n",
       "      <th>nrange_uvalue</th>\n",
       "    </tr>\n",
       "  </thead>\n",
       "  <tbody>\n",
       "    <tr>\n",
       "      <th>0</th>\n",
       "      <td>ALT</td>\n",
       "      <td>29</td>\n",
       "      <td>75</td>\n",
       "    </tr>\n",
       "  </tbody>\n",
       "</table>\n",
       "</div>"
      ],
      "text/plain": [
       "  standard_type nrange_lvalue nrange_uvalue\n",
       "0           ALT            29            75"
      ]
     },
     "execution_count": 42,
     "metadata": {},
     "output_type": "execute_result"
    }
   ],
   "source": [
    "dmatrix_nrange.head(1)"
   ]
  },
  {
   "cell_type": "code",
   "execution_count": 43,
   "metadata": {
    "collapsed": false
   },
   "outputs": [
    {
     "data": {
      "text/html": [
       "<div>\n",
       "<table border=\"1\" class=\"dataframe\">\n",
       "  <thead>\n",
       "    <tr style=\"text-align: right;\">\n",
       "      <th></th>\n",
       "      <th>molecule_chembl_id</th>\n",
       "      <th>dataset</th>\n",
       "      <th>assay_chembl_id</th>\n",
       "      <th>assay_test</th>\n",
       "      <th>regimen</th>\n",
       "      <th>dose_level</th>\n",
       "      <th>time</th>\n",
       "      <th>route</th>\n",
       "      <th>exp_id</th>\n",
       "      <th>group_id</th>\n",
       "      <th>standard_type</th>\n",
       "      <th>standard_value</th>\n",
       "      <th>standard_units</th>\n",
       "      <th>SD</th>\n",
       "      <th>p-value</th>\n",
       "      <th>N</th>\n",
       "      <th>control_value</th>\n",
       "      <th>control_SD</th>\n",
       "      <th>control_N</th>\n",
       "      <th>nrange_lvalue</th>\n",
       "      <th>nrange_uvalue</th>\n",
       "    </tr>\n",
       "  </thead>\n",
       "  <tbody>\n",
       "    <tr>\n",
       "      <th>0</th>\n",
       "      <td>CHEMBL1697830</td>\n",
       "      <td>Hematology</td>\n",
       "      <td>CHEMBL2884443</td>\n",
       "      <td>RBC (Erythrocytes)</td>\n",
       "      <td>Single</td>\n",
       "      <td>Low</td>\n",
       "      <td>6 hr</td>\n",
       "      <td>Gavage</td>\n",
       "      <td>542</td>\n",
       "      <td>6</td>\n",
       "      <td>RBC</td>\n",
       "      <td>6382000</td>\n",
       "      <td>cells.uL-1</td>\n",
       "      <td>26.81</td>\n",
       "      <td>0.81</td>\n",
       "      <td>5</td>\n",
       "      <td>643.60</td>\n",
       "      <td>39.44</td>\n",
       "      <td>5</td>\n",
       "      <td>4.92</td>\n",
       "      <td>7.53</td>\n",
       "    </tr>\n",
       "  </tbody>\n",
       "</table>\n",
       "</div>"
      ],
      "text/plain": [
       "  molecule_chembl_id     dataset assay_chembl_id          assay_test regimen  \\\n",
       "0      CHEMBL1697830  Hematology   CHEMBL2884443  RBC (Erythrocytes)  Single   \n",
       "\n",
       "  dose_level  time   route exp_id group_id standard_type standard_value  \\\n",
       "0        Low  6 hr  Gavage    542        6           RBC        6382000   \n",
       "\n",
       "  standard_units     SD p-value  N control_value control_SD control_N  \\\n",
       "0     cells.uL-1  26.81    0.81  5        643.60      39.44         5   \n",
       "\n",
       "  nrange_lvalue nrange_uvalue  \n",
       "0          4.92          7.53  "
      ]
     },
     "execution_count": 43,
     "metadata": {},
     "output_type": "execute_result"
    }
   ],
   "source": [
    "# merge dmatrix_nrange to tggates_all\n",
    "tggates_all = tggates_f.merge(dmatrix_nrange, on='standard_type', how='inner')\n",
    "\n",
    "tggates_all.head(1)"
   ]
  },
  {
   "cell_type": "code",
   "execution_count": 44,
   "metadata": {
    "collapsed": false
   },
   "outputs": [
    {
     "data": {
      "text/html": [
       "<div>\n",
       "<table border=\"1\" class=\"dataframe\">\n",
       "  <thead>\n",
       "    <tr style=\"text-align: right;\">\n",
       "      <th></th>\n",
       "      <th>molecule_chembl_id</th>\n",
       "      <th>dataset</th>\n",
       "      <th>assay_chembl_id</th>\n",
       "      <th>assay_test</th>\n",
       "      <th>regimen</th>\n",
       "      <th>dose_level</th>\n",
       "      <th>time</th>\n",
       "      <th>route</th>\n",
       "      <th>exp_id</th>\n",
       "      <th>group_id</th>\n",
       "      <th>standard_type</th>\n",
       "      <th>standard_value</th>\n",
       "      <th>standard_units</th>\n",
       "      <th>SD</th>\n",
       "      <th>p-value</th>\n",
       "      <th>N</th>\n",
       "      <th>control_value</th>\n",
       "      <th>control_SD</th>\n",
       "      <th>control_N</th>\n",
       "      <th>nrange_lvalue</th>\n",
       "      <th>nrange_uvalue</th>\n",
       "      <th>tox_flag</th>\n",
       "    </tr>\n",
       "  </thead>\n",
       "  <tbody>\n",
       "    <tr>\n",
       "      <th>0</th>\n",
       "      <td>CHEMBL1697830</td>\n",
       "      <td>Hematology</td>\n",
       "      <td>CHEMBL2884443</td>\n",
       "      <td>RBC (Erythrocytes)</td>\n",
       "      <td>Single</td>\n",
       "      <td>Low</td>\n",
       "      <td>6 hr</td>\n",
       "      <td>Gavage</td>\n",
       "      <td>542</td>\n",
       "      <td>6</td>\n",
       "      <td>RBC</td>\n",
       "      <td>6382000</td>\n",
       "      <td>cells.uL-1</td>\n",
       "      <td>26.81</td>\n",
       "      <td>0.81</td>\n",
       "      <td>5</td>\n",
       "      <td>643.60</td>\n",
       "      <td>39.44</td>\n",
       "      <td>5</td>\n",
       "      <td>4.92</td>\n",
       "      <td>7.53</td>\n",
       "      <td>0.0</td>\n",
       "    </tr>\n",
       "  </tbody>\n",
       "</table>\n",
       "</div>"
      ],
      "text/plain": [
       "  molecule_chembl_id     dataset assay_chembl_id          assay_test regimen  \\\n",
       "0      CHEMBL1697830  Hematology   CHEMBL2884443  RBC (Erythrocytes)  Single   \n",
       "\n",
       "  dose_level  time   route exp_id group_id standard_type standard_value  \\\n",
       "0        Low  6 hr  Gavage    542        6           RBC        6382000   \n",
       "\n",
       "  standard_units     SD p-value  N control_value control_SD control_N  \\\n",
       "0     cells.uL-1  26.81    0.81  5        643.60      39.44         5   \n",
       "\n",
       "  nrange_lvalue nrange_uvalue  tox_flag  \n",
       "0          4.92          7.53       0.0  "
      ]
     },
     "execution_count": 44,
     "metadata": {},
     "output_type": "execute_result"
    }
   ],
   "source": [
    "# calculate tox_flag\n",
    "tggates_all['tox_flag'] = tggates_all.apply(tox_flag, axis=1)\n",
    "\n",
    "tggates_all.head(1)"
   ]
  },
  {
   "cell_type": "code",
   "execution_count": 87,
   "metadata": {
    "collapsed": false,
    "scrolled": true
   },
   "outputs": [
    {
     "data": {
      "text/html": [
       "<div>\n",
       "<table border=\"1\" class=\"dataframe\">\n",
       "  <thead>\n",
       "    <tr style=\"text-align: right;\">\n",
       "      <th></th>\n",
       "      <th>molecule_chembl_id</th>\n",
       "      <th>dataset</th>\n",
       "      <th>assay_chembl_id</th>\n",
       "      <th>assay_test</th>\n",
       "      <th>regimen</th>\n",
       "      <th>dose_level</th>\n",
       "      <th>route</th>\n",
       "      <th>exp_id</th>\n",
       "      <th>group_id</th>\n",
       "      <th>standard_type</th>\n",
       "      <th>standard_value</th>\n",
       "      <th>standard_units</th>\n",
       "      <th>SD</th>\n",
       "      <th>p-value</th>\n",
       "      <th>N</th>\n",
       "      <th>control_value</th>\n",
       "      <th>control_SD</th>\n",
       "      <th>control_N</th>\n",
       "      <th>nrange_lvalue</th>\n",
       "      <th>nrange_uvalue</th>\n",
       "      <th>tox_flag</th>\n",
       "      <th>time_day</th>\n",
       "    </tr>\n",
       "  </thead>\n",
       "  <tbody>\n",
       "    <tr>\n",
       "      <th>0</th>\n",
       "      <td>CHEMBL1697830</td>\n",
       "      <td>Hematology</td>\n",
       "      <td>CHEMBL2884443</td>\n",
       "      <td>RBC (Erythrocytes)</td>\n",
       "      <td>Single</td>\n",
       "      <td>1_Low</td>\n",
       "      <td>Gavage</td>\n",
       "      <td>542</td>\n",
       "      <td>6</td>\n",
       "      <td>RBC</td>\n",
       "      <td>6382000</td>\n",
       "      <td>cells.uL-1</td>\n",
       "      <td>26.81</td>\n",
       "      <td>0.81</td>\n",
       "      <td>5</td>\n",
       "      <td>643.60</td>\n",
       "      <td>39.44</td>\n",
       "      <td>5</td>\n",
       "      <td>4.92</td>\n",
       "      <td>7.53</td>\n",
       "      <td>0.0</td>\n",
       "      <td>0.25</td>\n",
       "    </tr>\n",
       "  </tbody>\n",
       "</table>\n",
       "</div>"
      ],
      "text/plain": [
       "  molecule_chembl_id     dataset assay_chembl_id          assay_test regimen  \\\n",
       "0      CHEMBL1697830  Hematology   CHEMBL2884443  RBC (Erythrocytes)  Single   \n",
       "\n",
       "  dose_level   route exp_id group_id standard_type standard_value  \\\n",
       "0      1_Low  Gavage    542        6           RBC        6382000   \n",
       "\n",
       "  standard_units     SD p-value  N control_value control_SD control_N  \\\n",
       "0     cells.uL-1  26.81    0.81  5        643.60      39.44         5   \n",
       "\n",
       "  nrange_lvalue nrange_uvalue  tox_flag  time_day  \n",
       "0          4.92          7.53       0.0      0.25  "
      ]
     },
     "execution_count": 87,
     "metadata": {},
     "output_type": "execute_result"
    }
   ],
   "source": [
    "# format time and dose_level to be used to sort data\n",
    "\n",
    "tggates_all_sorted = tggates_all.copy()\n",
    "tggates_all_sorted['time_day'] = np.where(tggates_all_sorted['time'].str.split(' ').str[1] =='hr', round(tggates_all_sorted['time'].str.split(' ').str[0].astype(int)/int(24), 2),tggates_all_sorted['time'].str.split(' ').str[0].astype(int))\n",
    "tggates_all_sorted['dose_level'] = np.where((tggates_all_sorted['dose_level']== 'Low') & (tggates_all_sorted['dose_level']!= '2_Middle') & (tggates_all_sorted['dose_level']!= '3_High'), '1_Low', tggates_all_sorted['dose_level'])\n",
    "tggates_all_sorted['dose_level'] = np.where((tggates_all_sorted['dose_level']== 'Middle') & (tggates_all_sorted['dose_level']!= '1_Low') & (tggates_all_sorted['dose_level']!= '3_High'), '2_Middle', tggates_all_sorted['dose_level'])\n",
    "tggates_all_sorted['dose_level'] = np.where((tggates_all_sorted['dose_level']== 'High') & (tggates_all_sorted['dose_level']!= '1_Low') & (tggates_all_sorted['dose_level']!= '2_Middle'), '3_High', tggates_all_sorted['dose_level'])\n",
    "tggates_all_sorted.drop(['time'], axis = 1, inplace=True)\n",
    "\n",
    "tggates_all_sorted.head(1)"
   ]
  },
  {
   "cell_type": "code",
   "execution_count": 89,
   "metadata": {
    "collapsed": false,
    "scrolled": true
   },
   "outputs": [
    {
     "data": {
      "text/html": [
       "<div>\n",
       "<table border=\"1\" class=\"dataframe\">\n",
       "  <thead>\n",
       "    <tr>\n",
       "      <th></th>\n",
       "      <th>standard_type</th>\n",
       "      <th colspan=\"3\" halign=\"left\">BASOLE</th>\n",
       "      <th colspan=\"3\" halign=\"left\">EOSLE</th>\n",
       "      <th colspan=\"3\" halign=\"left\">HCT</th>\n",
       "      <th colspan=\"3\" halign=\"left\">HGB</th>\n",
       "      <th colspan=\"3\" halign=\"left\">LYMLE</th>\n",
       "      <th colspan=\"3\" halign=\"left\">MCH</th>\n",
       "      <th colspan=\"3\" halign=\"left\">MCHC</th>\n",
       "      <th colspan=\"3\" halign=\"left\">MCV</th>\n",
       "      <th colspan=\"3\" halign=\"left\">MONOLE</th>\n",
       "      <th colspan=\"3\" halign=\"left\">NEUTLE</th>\n",
       "      <th colspan=\"3\" halign=\"left\">PLAT</th>\n",
       "      <th colspan=\"3\" halign=\"left\">RBC</th>\n",
       "      <th colspan=\"3\" halign=\"left\">WBC</th>\n",
       "    </tr>\n",
       "    <tr>\n",
       "      <th></th>\n",
       "      <th>dose_level</th>\n",
       "      <th>1_Low</th>\n",
       "      <th>2_Middle</th>\n",
       "      <th>3_High</th>\n",
       "      <th>1_Low</th>\n",
       "      <th>2_Middle</th>\n",
       "      <th>3_High</th>\n",
       "      <th>1_Low</th>\n",
       "      <th>2_Middle</th>\n",
       "      <th>3_High</th>\n",
       "      <th>1_Low</th>\n",
       "      <th>2_Middle</th>\n",
       "      <th>3_High</th>\n",
       "      <th>1_Low</th>\n",
       "      <th>2_Middle</th>\n",
       "      <th>3_High</th>\n",
       "      <th>1_Low</th>\n",
       "      <th>2_Middle</th>\n",
       "      <th>3_High</th>\n",
       "      <th>1_Low</th>\n",
       "      <th>2_Middle</th>\n",
       "      <th>3_High</th>\n",
       "      <th>1_Low</th>\n",
       "      <th>2_Middle</th>\n",
       "      <th>3_High</th>\n",
       "      <th>1_Low</th>\n",
       "      <th>2_Middle</th>\n",
       "      <th>3_High</th>\n",
       "      <th>1_Low</th>\n",
       "      <th>2_Middle</th>\n",
       "      <th>3_High</th>\n",
       "      <th>1_Low</th>\n",
       "      <th>2_Middle</th>\n",
       "      <th>3_High</th>\n",
       "      <th>1_Low</th>\n",
       "      <th>2_Middle</th>\n",
       "      <th>3_High</th>\n",
       "      <th>1_Low</th>\n",
       "      <th>2_Middle</th>\n",
       "      <th>3_High</th>\n",
       "    </tr>\n",
       "    <tr>\n",
       "      <th>molecule_chembl_id</th>\n",
       "      <th>time_day</th>\n",
       "      <th></th>\n",
       "      <th></th>\n",
       "      <th></th>\n",
       "      <th></th>\n",
       "      <th></th>\n",
       "      <th></th>\n",
       "      <th></th>\n",
       "      <th></th>\n",
       "      <th></th>\n",
       "      <th></th>\n",
       "      <th></th>\n",
       "      <th></th>\n",
       "      <th></th>\n",
       "      <th></th>\n",
       "      <th></th>\n",
       "      <th></th>\n",
       "      <th></th>\n",
       "      <th></th>\n",
       "      <th></th>\n",
       "      <th></th>\n",
       "      <th></th>\n",
       "      <th></th>\n",
       "      <th></th>\n",
       "      <th></th>\n",
       "      <th></th>\n",
       "      <th></th>\n",
       "      <th></th>\n",
       "      <th></th>\n",
       "      <th></th>\n",
       "      <th></th>\n",
       "      <th></th>\n",
       "      <th></th>\n",
       "      <th></th>\n",
       "      <th></th>\n",
       "      <th></th>\n",
       "      <th></th>\n",
       "      <th></th>\n",
       "      <th></th>\n",
       "      <th></th>\n",
       "    </tr>\n",
       "  </thead>\n",
       "  <tbody>\n",
       "    <tr>\n",
       "      <th rowspan=\"8\" valign=\"top\">CHEMBL101</th>\n",
       "      <th>0.12</th>\n",
       "      <td>0.0</td>\n",
       "      <td>0.0</td>\n",
       "      <td>0.0</td>\n",
       "      <td>0.0</td>\n",
       "      <td>0.0</td>\n",
       "      <td>0.0</td>\n",
       "      <td>0.0</td>\n",
       "      <td>0.0</td>\n",
       "      <td>0.0</td>\n",
       "      <td>0.0</td>\n",
       "      <td>0.0</td>\n",
       "      <td>0.0</td>\n",
       "      <td>0.0</td>\n",
       "      <td>0.0</td>\n",
       "      <td>0.0</td>\n",
       "      <td>0.0</td>\n",
       "      <td>0.0</td>\n",
       "      <td>0.0</td>\n",
       "      <td>0.0</td>\n",
       "      <td>0.0</td>\n",
       "      <td>-0.5</td>\n",
       "      <td>0.0</td>\n",
       "      <td>0.0</td>\n",
       "      <td>0.0</td>\n",
       "      <td>1.0</td>\n",
       "      <td>0.0</td>\n",
       "      <td>0.0</td>\n",
       "      <td>0.0</td>\n",
       "      <td>0.0</td>\n",
       "      <td>0.0</td>\n",
       "      <td>0.0</td>\n",
       "      <td>0.0</td>\n",
       "      <td>0.0</td>\n",
       "      <td>0.0</td>\n",
       "      <td>0.0</td>\n",
       "      <td>0.0</td>\n",
       "      <td>0.0</td>\n",
       "      <td>0.0</td>\n",
       "      <td>0.0</td>\n",
       "    </tr>\n",
       "    <tr>\n",
       "      <th>0.25</th>\n",
       "      <td>0.0</td>\n",
       "      <td>0.0</td>\n",
       "      <td>0.0</td>\n",
       "      <td>0.0</td>\n",
       "      <td>0.0</td>\n",
       "      <td>0.0</td>\n",
       "      <td>0.0</td>\n",
       "      <td>0.0</td>\n",
       "      <td>0.0</td>\n",
       "      <td>0.0</td>\n",
       "      <td>0.0</td>\n",
       "      <td>0.0</td>\n",
       "      <td>-0.5</td>\n",
       "      <td>0.0</td>\n",
       "      <td>-0.5</td>\n",
       "      <td>0.0</td>\n",
       "      <td>0.0</td>\n",
       "      <td>0.0</td>\n",
       "      <td>0.0</td>\n",
       "      <td>0.0</td>\n",
       "      <td>0.0</td>\n",
       "      <td>0.0</td>\n",
       "      <td>0.0</td>\n",
       "      <td>0.0</td>\n",
       "      <td>0.0</td>\n",
       "      <td>0.0</td>\n",
       "      <td>0.0</td>\n",
       "      <td>0.5</td>\n",
       "      <td>0.0</td>\n",
       "      <td>0.0</td>\n",
       "      <td>0.0</td>\n",
       "      <td>0.0</td>\n",
       "      <td>0.0</td>\n",
       "      <td>0.0</td>\n",
       "      <td>0.0</td>\n",
       "      <td>0.0</td>\n",
       "      <td>0.0</td>\n",
       "      <td>0.0</td>\n",
       "      <td>0.0</td>\n",
       "    </tr>\n",
       "    <tr>\n",
       "      <th>0.38</th>\n",
       "      <td>0.0</td>\n",
       "      <td>0.0</td>\n",
       "      <td>0.0</td>\n",
       "      <td>0.0</td>\n",
       "      <td>0.0</td>\n",
       "      <td>0.0</td>\n",
       "      <td>0.0</td>\n",
       "      <td>0.5</td>\n",
       "      <td>0.5</td>\n",
       "      <td>0.0</td>\n",
       "      <td>1.0</td>\n",
       "      <td>1.0</td>\n",
       "      <td>0.0</td>\n",
       "      <td>0.0</td>\n",
       "      <td>0.0</td>\n",
       "      <td>0.0</td>\n",
       "      <td>0.0</td>\n",
       "      <td>0.0</td>\n",
       "      <td>0.0</td>\n",
       "      <td>0.0</td>\n",
       "      <td>0.0</td>\n",
       "      <td>0.0</td>\n",
       "      <td>0.0</td>\n",
       "      <td>0.0</td>\n",
       "      <td>0.0</td>\n",
       "      <td>0.0</td>\n",
       "      <td>0.0</td>\n",
       "      <td>0.0</td>\n",
       "      <td>0.0</td>\n",
       "      <td>0.0</td>\n",
       "      <td>0.0</td>\n",
       "      <td>0.0</td>\n",
       "      <td>0.0</td>\n",
       "      <td>0.0</td>\n",
       "      <td>1.0</td>\n",
       "      <td>0.0</td>\n",
       "      <td>0.0</td>\n",
       "      <td>0.0</td>\n",
       "      <td>0.0</td>\n",
       "    </tr>\n",
       "    <tr>\n",
       "      <th>1.00</th>\n",
       "      <td>0.0</td>\n",
       "      <td>0.0</td>\n",
       "      <td>0.0</td>\n",
       "      <td>0.0</td>\n",
       "      <td>0.0</td>\n",
       "      <td>0.0</td>\n",
       "      <td>0.0</td>\n",
       "      <td>0.0</td>\n",
       "      <td>0.0</td>\n",
       "      <td>0.0</td>\n",
       "      <td>0.0</td>\n",
       "      <td>0.0</td>\n",
       "      <td>0.0</td>\n",
       "      <td>0.0</td>\n",
       "      <td>-1.0</td>\n",
       "      <td>0.0</td>\n",
       "      <td>0.0</td>\n",
       "      <td>0.0</td>\n",
       "      <td>0.0</td>\n",
       "      <td>0.0</td>\n",
       "      <td>0.0</td>\n",
       "      <td>0.0</td>\n",
       "      <td>0.0</td>\n",
       "      <td>0.0</td>\n",
       "      <td>0.0</td>\n",
       "      <td>0.0</td>\n",
       "      <td>0.0</td>\n",
       "      <td>0.0</td>\n",
       "      <td>0.0</td>\n",
       "      <td>0.5</td>\n",
       "      <td>0.0</td>\n",
       "      <td>0.0</td>\n",
       "      <td>0.0</td>\n",
       "      <td>0.0</td>\n",
       "      <td>0.0</td>\n",
       "      <td>0.0</td>\n",
       "      <td>0.0</td>\n",
       "      <td>0.0</td>\n",
       "      <td>0.0</td>\n",
       "    </tr>\n",
       "    <tr>\n",
       "      <th>4.00</th>\n",
       "      <td>0.0</td>\n",
       "      <td>0.0</td>\n",
       "      <td>0.0</td>\n",
       "      <td>0.0</td>\n",
       "      <td>0.0</td>\n",
       "      <td>0.0</td>\n",
       "      <td>0.0</td>\n",
       "      <td>0.0</td>\n",
       "      <td>0.0</td>\n",
       "      <td>0.0</td>\n",
       "      <td>0.0</td>\n",
       "      <td>0.0</td>\n",
       "      <td>0.0</td>\n",
       "      <td>0.0</td>\n",
       "      <td>0.0</td>\n",
       "      <td>0.0</td>\n",
       "      <td>0.0</td>\n",
       "      <td>0.0</td>\n",
       "      <td>0.0</td>\n",
       "      <td>0.0</td>\n",
       "      <td>0.0</td>\n",
       "      <td>0.0</td>\n",
       "      <td>0.0</td>\n",
       "      <td>0.0</td>\n",
       "      <td>0.0</td>\n",
       "      <td>0.0</td>\n",
       "      <td>0.0</td>\n",
       "      <td>0.0</td>\n",
       "      <td>0.0</td>\n",
       "      <td>0.0</td>\n",
       "      <td>0.0</td>\n",
       "      <td>1.0</td>\n",
       "      <td>0.0</td>\n",
       "      <td>0.0</td>\n",
       "      <td>0.0</td>\n",
       "      <td>0.0</td>\n",
       "      <td>0.0</td>\n",
       "      <td>0.0</td>\n",
       "      <td>0.0</td>\n",
       "    </tr>\n",
       "    <tr>\n",
       "      <th>8.00</th>\n",
       "      <td>0.0</td>\n",
       "      <td>0.0</td>\n",
       "      <td>0.0</td>\n",
       "      <td>0.0</td>\n",
       "      <td>0.0</td>\n",
       "      <td>0.0</td>\n",
       "      <td>0.0</td>\n",
       "      <td>0.0</td>\n",
       "      <td>-0.5</td>\n",
       "      <td>0.0</td>\n",
       "      <td>0.0</td>\n",
       "      <td>0.0</td>\n",
       "      <td>0.0</td>\n",
       "      <td>0.0</td>\n",
       "      <td>-0.5</td>\n",
       "      <td>0.0</td>\n",
       "      <td>0.0</td>\n",
       "      <td>0.0</td>\n",
       "      <td>0.0</td>\n",
       "      <td>0.5</td>\n",
       "      <td>0.0</td>\n",
       "      <td>0.0</td>\n",
       "      <td>0.0</td>\n",
       "      <td>0.0</td>\n",
       "      <td>0.0</td>\n",
       "      <td>0.0</td>\n",
       "      <td>0.0</td>\n",
       "      <td>0.0</td>\n",
       "      <td>0.0</td>\n",
       "      <td>0.5</td>\n",
       "      <td>0.0</td>\n",
       "      <td>0.0</td>\n",
       "      <td>0.0</td>\n",
       "      <td>0.0</td>\n",
       "      <td>0.0</td>\n",
       "      <td>0.0</td>\n",
       "      <td>0.0</td>\n",
       "      <td>0.0</td>\n",
       "      <td>0.0</td>\n",
       "    </tr>\n",
       "    <tr>\n",
       "      <th>15.00</th>\n",
       "      <td>0.0</td>\n",
       "      <td>0.0</td>\n",
       "      <td>0.0</td>\n",
       "      <td>0.0</td>\n",
       "      <td>0.0</td>\n",
       "      <td>0.0</td>\n",
       "      <td>0.0</td>\n",
       "      <td>0.0</td>\n",
       "      <td>-0.5</td>\n",
       "      <td>0.0</td>\n",
       "      <td>0.0</td>\n",
       "      <td>1.0</td>\n",
       "      <td>0.0</td>\n",
       "      <td>0.0</td>\n",
       "      <td>-0.5</td>\n",
       "      <td>0.0</td>\n",
       "      <td>0.0</td>\n",
       "      <td>0.0</td>\n",
       "      <td>0.0</td>\n",
       "      <td>0.0</td>\n",
       "      <td>0.0</td>\n",
       "      <td>0.0</td>\n",
       "      <td>0.0</td>\n",
       "      <td>-0.5</td>\n",
       "      <td>0.0</td>\n",
       "      <td>0.0</td>\n",
       "      <td>0.0</td>\n",
       "      <td>0.0</td>\n",
       "      <td>0.0</td>\n",
       "      <td>0.5</td>\n",
       "      <td>1.0</td>\n",
       "      <td>0.0</td>\n",
       "      <td>1.0</td>\n",
       "      <td>0.0</td>\n",
       "      <td>0.0</td>\n",
       "      <td>0.0</td>\n",
       "      <td>0.0</td>\n",
       "      <td>0.0</td>\n",
       "      <td>0.0</td>\n",
       "    </tr>\n",
       "    <tr>\n",
       "      <th>29.00</th>\n",
       "      <td>0.0</td>\n",
       "      <td>0.0</td>\n",
       "      <td>0.0</td>\n",
       "      <td>0.0</td>\n",
       "      <td>0.0</td>\n",
       "      <td>0.0</td>\n",
       "      <td>0.0</td>\n",
       "      <td>0.0</td>\n",
       "      <td>-0.5</td>\n",
       "      <td>0.0</td>\n",
       "      <td>0.0</td>\n",
       "      <td>1.0</td>\n",
       "      <td>0.0</td>\n",
       "      <td>0.0</td>\n",
       "      <td>0.0</td>\n",
       "      <td>0.5</td>\n",
       "      <td>0.5</td>\n",
       "      <td>0.5</td>\n",
       "      <td>0.0</td>\n",
       "      <td>0.0</td>\n",
       "      <td>0.0</td>\n",
       "      <td>0.5</td>\n",
       "      <td>0.5</td>\n",
       "      <td>0.5</td>\n",
       "      <td>0.0</td>\n",
       "      <td>-0.5</td>\n",
       "      <td>0.0</td>\n",
       "      <td>0.0</td>\n",
       "      <td>0.0</td>\n",
       "      <td>0.0</td>\n",
       "      <td>0.0</td>\n",
       "      <td>0.0</td>\n",
       "      <td>1.0</td>\n",
       "      <td>1.0</td>\n",
       "      <td>0.0</td>\n",
       "      <td>1.0</td>\n",
       "      <td>0.0</td>\n",
       "      <td>0.0</td>\n",
       "      <td>0.0</td>\n",
       "    </tr>\n",
       "  </tbody>\n",
       "</table>\n",
       "</div>"
      ],
      "text/plain": [
       "standard_type               BASOLE                 EOSLE                  \\\n",
       "dose_level                   1_Low 2_Middle 3_High 1_Low 2_Middle 3_High   \n",
       "molecule_chembl_id time_day                                                \n",
       "CHEMBL101          0.12        0.0      0.0    0.0   0.0      0.0    0.0   \n",
       "                   0.25        0.0      0.0    0.0   0.0      0.0    0.0   \n",
       "                   0.38        0.0      0.0    0.0   0.0      0.0    0.0   \n",
       "                   1.00        0.0      0.0    0.0   0.0      0.0    0.0   \n",
       "                   4.00        0.0      0.0    0.0   0.0      0.0    0.0   \n",
       "                   8.00        0.0      0.0    0.0   0.0      0.0    0.0   \n",
       "                   15.00       0.0      0.0    0.0   0.0      0.0    0.0   \n",
       "                   29.00       0.0      0.0    0.0   0.0      0.0    0.0   \n",
       "\n",
       "standard_type                 HCT                   HGB                 LYMLE  \\\n",
       "dose_level                  1_Low 2_Middle 3_High 1_Low 2_Middle 3_High 1_Low   \n",
       "molecule_chembl_id time_day                                                     \n",
       "CHEMBL101          0.12       0.0      0.0    0.0   0.0      0.0    0.0   0.0   \n",
       "                   0.25       0.0      0.0    0.0   0.0      0.0    0.0  -0.5   \n",
       "                   0.38       0.0      0.5    0.5   0.0      1.0    1.0   0.0   \n",
       "                   1.00       0.0      0.0    0.0   0.0      0.0    0.0   0.0   \n",
       "                   4.00       0.0      0.0    0.0   0.0      0.0    0.0   0.0   \n",
       "                   8.00       0.0      0.0   -0.5   0.0      0.0    0.0   0.0   \n",
       "                   15.00      0.0      0.0   -0.5   0.0      0.0    1.0   0.0   \n",
       "                   29.00      0.0      0.0   -0.5   0.0      0.0    1.0   0.0   \n",
       "\n",
       "standard_type                                 MCH                  MCHC  \\\n",
       "dose_level                  2_Middle 3_High 1_Low 2_Middle 3_High 1_Low   \n",
       "molecule_chembl_id time_day                                               \n",
       "CHEMBL101          0.12          0.0    0.0   0.0      0.0    0.0   0.0   \n",
       "                   0.25          0.0   -0.5   0.0      0.0    0.0   0.0   \n",
       "                   0.38          0.0    0.0   0.0      0.0    0.0   0.0   \n",
       "                   1.00          0.0   -1.0   0.0      0.0    0.0   0.0   \n",
       "                   4.00          0.0    0.0   0.0      0.0    0.0   0.0   \n",
       "                   8.00          0.0   -0.5   0.0      0.0    0.0   0.0   \n",
       "                   15.00         0.0   -0.5   0.0      0.0    0.0   0.0   \n",
       "                   29.00         0.0    0.0   0.5      0.5    0.5   0.0   \n",
       "\n",
       "standard_type                                 MCV                 MONOLE  \\\n",
       "dose_level                  2_Middle 3_High 1_Low 2_Middle 3_High  1_Low   \n",
       "molecule_chembl_id time_day                                                \n",
       "CHEMBL101          0.12          0.0   -0.5   0.0      0.0    0.0    1.0   \n",
       "                   0.25          0.0    0.0   0.0      0.0    0.0    0.0   \n",
       "                   0.38          0.0    0.0   0.0      0.0    0.0    0.0   \n",
       "                   1.00          0.0    0.0   0.0      0.0    0.0    0.0   \n",
       "                   4.00          0.0    0.0   0.0      0.0    0.0    0.0   \n",
       "                   8.00          0.5    0.0   0.0      0.0    0.0    0.0   \n",
       "                   15.00         0.0    0.0   0.0      0.0   -0.5    0.0   \n",
       "                   29.00         0.0    0.0   0.5      0.5    0.5    0.0   \n",
       "\n",
       "standard_type                               NEUTLE                  PLAT  \\\n",
       "dose_level                  2_Middle 3_High  1_Low 2_Middle 3_High 1_Low   \n",
       "molecule_chembl_id time_day                                                \n",
       "CHEMBL101          0.12          0.0    0.0    0.0      0.0    0.0   0.0   \n",
       "                   0.25          0.0    0.0    0.5      0.0    0.0   0.0   \n",
       "                   0.38          0.0    0.0    0.0      0.0    0.0   0.0   \n",
       "                   1.00          0.0    0.0    0.0      0.0    0.5   0.0   \n",
       "                   4.00          0.0    0.0    0.0      0.0    0.0   0.0   \n",
       "                   8.00          0.0    0.0    0.0      0.0    0.5   0.0   \n",
       "                   15.00         0.0    0.0    0.0      0.0    0.5   1.0   \n",
       "                   29.00        -0.5    0.0    0.0      0.0    0.0   0.0   \n",
       "\n",
       "standard_type                                 RBC                   WBC  \\\n",
       "dose_level                  2_Middle 3_High 1_Low 2_Middle 3_High 1_Low   \n",
       "molecule_chembl_id time_day                                               \n",
       "CHEMBL101          0.12          0.0    0.0   0.0      0.0    0.0   0.0   \n",
       "                   0.25          0.0    0.0   0.0      0.0    0.0   0.0   \n",
       "                   0.38          0.0    0.0   0.0      1.0    0.0   0.0   \n",
       "                   1.00          0.0    0.0   0.0      0.0    0.0   0.0   \n",
       "                   4.00          1.0    0.0   0.0      0.0    0.0   0.0   \n",
       "                   8.00          0.0    0.0   0.0      0.0    0.0   0.0   \n",
       "                   15.00         0.0    1.0   0.0      0.0    0.0   0.0   \n",
       "                   29.00         0.0    1.0   1.0      0.0    1.0   0.0   \n",
       "\n",
       "standard_type                                \n",
       "dose_level                  2_Middle 3_High  \n",
       "molecule_chembl_id time_day                  \n",
       "CHEMBL101          0.12          0.0    0.0  \n",
       "                   0.25          0.0    0.0  \n",
       "                   0.38          0.0    0.0  \n",
       "                   1.00          0.0    0.0  \n",
       "                   4.00          0.0    0.0  \n",
       "                   8.00          0.0    0.0  \n",
       "                   15.00         0.0    0.0  \n",
       "                   29.00         0.0    0.0  "
      ]
     },
     "execution_count": 89,
     "metadata": {},
     "output_type": "execute_result"
    }
   ],
   "source": [
    "# for clear visualisation, build matrix with rows of compounds and time points and columns of end poinst and dose_levels\n",
    "tggates_all_sorted_pv = pd.pivot_table(tggates_all_sorted, index=['molecule_chembl_id','time_day'], columns=['standard_type', 'dose_level'], values='tox_flag')\n",
    "\n",
    "tggates_all_sorted_pv.head(8)"
   ]
  },
  {
   "cell_type": "markdown",
   "metadata": {},
   "source": [
    "Note that Open TG-GATEs gene expression profiles can be found in <a href='https://www.ebi.ac.uk/arrayexpress/search.html?query=Open+TG-GATEs'>ArrayExpress</a> and be linked to the Open TG-GATEs clinical pathology studies in ChEMBL.\n",
    "<br>Taking as an example the experiment <a href='https://www.ebi.ac.uk/arrayexpress/experiments/E-MTAB-800/?query=Open+TG-GATEs'>E-MTAB-800</a> from ArrayExpress,\n",
    "\n",
    "1\\. the 'Term Accession Number' in E-MTAB-800 corresponds to the molecule_chembl_id\n",
    "<br>2\\. the 'Source Name' in E-MTAB-800 has some correspondance to the exp_id and group_id. For example, the source name 182051 in E-MTAB-800 corresponds to exp_id = 182 and group_id = 5 (study_id = 182/5). The last digit in the source name refers to the animal_id.</br>\n"
   ]
  },
  {
   "cell_type": "code",
   "execution_count": 91,
   "metadata": {
    "collapsed": false,
    "scrolled": false
   },
   "outputs": [
    {
     "data": {
      "image/png": "[encoded data removed]",
      "text/plain": [
       "<matplotlib.figure.Figure at 0x16991f7f0>"
      ]
     },
     "metadata": {},
     "output_type": "display_data"
    }
   ],
   "source": [
    "# plot heatmap using seaborn\n",
    "\n",
    "import seaborn as sns\n",
    "%matplotlib inline\n",
    "import matplotlib.pyplot as plt\n",
    "import matplotlib\n",
    "\n",
    "f, ax = plt.subplots(figsize=(15, 5))\n",
    "\n",
    "sns.heatmap(tggates_all_sorted_pv.head(8), vmax=.8, square=True)\n",
    "\n",
    "compounds = tggates_all_sorted_pv.head(8).index.get_level_values(\"molecule_chembl_id\")\n",
    "endpoints = tggates_all_sorted_pv.head(8).columns.get_level_values(\"standard_type\")\n",
    "doses = tggates_all_sorted_pv.head(8).columns.get_level_values(\"dose_level\")\n",
    "for j, compound in enumerate(compounds):\n",
    "    for i, endpoint in enumerate(endpoints):\n",
    "        if i and endpoint != endpoints[i - 1]:\n",
    "            for z, doses in enumerate(doses):\n",
    "                ax.axhline(j, c=\"w\")\n",
    "                ax.axhline(j*8, c=\"w\",linewidth=10)\n",
    "                ax.axvline(i, c=\"w\",linewidth=10)\n",
    "                ax.axvline(z, c=\"w\")\n",
    "                ax.set_xlabel(\"endpoint_dose\", fontsize=12)\n",
    "                ax.set_ylabel(\"compound_time\", fontsize=12)\n",
    "                ax.tick_params(axis='x', labelsize=14)\n",
    "                ax.tick_params(axis='y', labelsize=14)\n",
    "            f.tight_layout()"
   ]
  }
 ],
 "metadata": {
  "anaconda-cloud": {},
  "kernelspec": {
   "display_name": "Python [conda root]",
   "language": "python",
   "name": "conda-root-py"
  },
  "language_info": {
   "codemirror_mode": {
    "name": "ipython",
    "version": 3
   },
   "file_extension": ".py",
   "mimetype": "text/x-python",
   "name": "python",
   "nbconvert_exporter": "python",
   "pygments_lexer": "ipython3",
   "version": "3.5.2"
  }
 },
 "nbformat": 4,
 "nbformat_minor": 0
}
