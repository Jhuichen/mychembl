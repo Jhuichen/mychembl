{
 "metadata": {
  "name": "",
  "signature": "sha256:13d33c401495881908b2f0d72500fddd3fc39a27b0208630b5a23de72f08f595"
 },
 "nbformat": 3,
 "nbformat_minor": 0,
 "worksheets": [
  {
   "cells": [
    {
     "cell_type": "markdown",
     "metadata": {},
     "source": [
      "# myChEMBL webservices\n",
      "\n",
      "### myChEMBL team, ChEMBL Group, EMBL-EBI."
     ]
    },
    {
     "cell_type": "markdown",
     "metadata": {},
     "source": [
      "## Introduction\n",
      "\n",
      "This notebook will provide some examples of using the **`myChEMBL`** webservices.\n",
      "\n",
      "There are two ways of accessing the webservices: either _via_ the URLs (see the 'ChEMBL Web Services' link on the **`myChEMBL`** LaunchPad), or by using the Python package **`chembl_webresource_client`**.\n",
      "\n",
      "* The direct use of the URL-based interface has the advantage that it is language-agnostic; although it will be demonstrated here using the Python `requests` module, any other scripting language (_e.g._ Perl or Ruby) would do just as well.\n",
      "\n",
      "\n",
      "* The advantage of using the Python API is that usage is simpler. Note that the **`chembl_webresource_client`** module is aleady installed on the **`myChEMBL`** VM; if you wish to use it on other machines, it can be installed using **`pip`**.\n",
      "\n",
      "Please not that the code below attempts to balance clarity and concision, and is not intended to be a template for production code: error checking, for example, should be much more thorough in practice."
     ]
    },
    {
     "cell_type": "code",
     "collapsed": false,
     "input": [
      "import logging\n",
      "\n",
      "import requests\n",
      "logging.getLogger(\"requests\").setLevel(logging.ERROR)\n",
      "\n",
      "from lxml import etree\n",
      "from collections import Counter\n",
      "from operator import itemgetter\n",
      "\n",
      "from IPython.display import Image\n",
      "\n",
      "from rdkit import Chem\n",
      "from rdkit.Chem import Draw \n",
      "from rdkit.Chem.Draw import IPythonConsole"
     ],
     "language": "python",
     "metadata": {},
     "outputs": [],
     "prompt_number": 1
    },
    {
     "cell_type": "code",
     "collapsed": false,
     "input": [
      "# Python modules used for API access...\n",
      "\n",
      "from chembl_webresource_client import *\n",
      "from chembl_webresource_client.settings import Settings"
     ],
     "language": "python",
     "metadata": {},
     "outputs": [],
     "prompt_number": 2
    },
    {
     "cell_type": "markdown",
     "metadata": {},
     "source": [
      "## Configuration and setup"
     ]
    },
    {
     "cell_type": "code",
     "collapsed": false,
     "input": [
      "# Stem of URL for local version of web services...\n",
      "\n",
      "url_stem = \"http://localhost/chemblws\""
     ],
     "language": "python",
     "metadata": {},
     "outputs": [],
     "prompt_number": 3
    },
    {
     "cell_type": "code",
     "collapsed": false,
     "input": [
      "# By default, the API connects to the main ChEMBL database; set it to use the local version (i.e. myChEMBL) instead...\n",
      "\n",
      "Settings.Instance().WEBSERVICE_DOMAIN = 'localhost'\n",
      "Settings.Instance().WEBSERVICE_PROTOCOL = 'http'"
     ],
     "language": "python",
     "metadata": {},
     "outputs": [],
     "prompt_number": 4
    },
    {
     "cell_type": "markdown",
     "metadata": {},
     "source": [
      "## Compounds\n",
      "\n",
      "Compound records may be retrieved in a number of ways, such as lookup of single compounds using various identifiers, or searching for compounds _via_ substruture or similarity. "
     ]
    },
    {
     "cell_type": "code",
     "collapsed": false,
     "input": [
      "# Get a compound-handler object for API access and check the connection to the database...\n",
      "\n",
      "compounds = CompoundResource()\n",
      "\n",
      "compounds.status()"
     ],
     "language": "python",
     "metadata": {},
     "outputs": [
      {
       "metadata": {},
       "output_type": "pyout",
       "prompt_number": 5,
       "text": [
        "True"
       ]
      }
     ],
     "prompt_number": 5
    },
    {
     "cell_type": "markdown",
     "metadata": {},
     "source": [
      "### ChEMBL ID\n",
      "\n",
      "All entities in the ChEMBL database have a ChEMBL ID. It is a stable identifier designed for straightforward lookup of data."
     ]
    },
    {
     "cell_type": "code",
     "collapsed": false,
     "input": [
      "chembl_id = \"CHEMBL554\" # Lapatinib, the parent (bioactive) component of the anti-cancer drug Tykerb"
     ],
     "language": "python",
     "metadata": {},
     "outputs": [],
     "prompt_number": 6
    },
    {
     "cell_type": "code",
     "collapsed": false,
     "input": [
      "# Get compound record via URL...\n",
      "\n",
      "# Note that the URL-based webservice default is to return XML.\n",
      "\n",
      "xml = requests.get(url_stem + \"/compounds/\" + chembl_id).content\n",
      "\n",
      "xml"
     ],
     "language": "python",
     "metadata": {},
     "outputs": [
      {
       "metadata": {},
       "output_type": "pyout",
       "prompt_number": 7,
       "text": [
        "\"<?xml version='1.0' encoding='utf-8'?>\\n<compound><smiles>CS(=O)(=O)CCNCc1oc(cc1)c2ccc3ncnc(Nc4ccc(OCc5cccc(F)c5)c(Cl)c4)c3c2</smiles><chemblId>CHEMBL554</chemblId><passesRuleOfThree>No</passesRuleOfThree><molecularWeight>581.06</molecularWeight><molecularFormula>C29H26ClFN4O4S</molecularFormula><acdLogp>6.30</acdLogp><synonyms>Tykerb,Lapatinib</synonyms><stdInChiKey>BCFGMOOMADDAQU-UHFFFAOYSA-N</stdInChiKey><species>NEUTRAL</species><knownDrug>Yes</knownDrug><medChemFriendly>Yes</medChemFriendly><rotatableBonds>11</rotatableBonds><alogp>6.04</alogp><preferredCompoundName>LAPATINIB</preferredCompoundName><numRo5Violations>2</numRo5Violations><acdLogd>6.26</acdLogd><acdBasicPka>6.34</acdBasicPka></compound>\""
       ]
      }
     ],
     "prompt_number": 7
    },
    {
     "cell_type": "code",
     "collapsed": false,
     "input": [
      "# The XML must be parsed (e.g. using the lxml.etree module in Python) to extract the data...\n",
      "\n",
      "root = etree.fromstring(xml).getroottree()\n",
      "\n",
      "smiles = root.xpath(\"/compound/smiles/text()\")[0]\n",
      "\n",
      "smiles"
     ],
     "language": "python",
     "metadata": {},
     "outputs": [
      {
       "metadata": {},
       "output_type": "pyout",
       "prompt_number": 8,
       "text": [
        "'CS(=O)(=O)CCNCc1oc(cc1)c2ccc3ncnc(Nc4ccc(OCc5cccc(F)c5)c(Cl)c4)c3c2'"
       ]
      }
     ],
     "prompt_number": 8
    },
    {
     "cell_type": "code",
     "collapsed": false,
     "input": [
      "# RDKit may be used to depict the SMILES...\n",
      "\n",
      "Chem.MolFromSmiles(smiles)"
     ],
     "language": "python",
     "metadata": {},
     "outputs": [
      {
       "metadata": {},
       "output_type": "pyout",
       "png": "[encoded data removed]",
       "prompt_number": 9,
       "text": [
        "<rdkit.Chem.rdchem.Mol at 0x3f8bf30>"
       ]
      }
     ],
     "prompt_number": 9
    },
    {
     "cell_type": "code",
     "collapsed": false,
     "input": [
      "# JSON can be requested from the URL-based webservices instead...\n",
      "\n",
      "# Note that the JSON object containing the compound record is nested within another,\n",
      "# 'outer' object; it is keyed by \"compound\" and is the only item in the 'outer' object.\n",
      "\n",
      "record = requests.get(url_stem + \"/compounds/\" + chembl_id + \".json\").json()[\"compound\"]\n",
      "\n",
      "record"
     ],
     "language": "python",
     "metadata": {},
     "outputs": [
      {
       "metadata": {},
       "output_type": "pyout",
       "prompt_number": 10,
       "text": [
        "{u'acdBasicPka': 6.34,\n",
        " u'acdLogd': 6.26,\n",
        " u'acdLogp': 6.3,\n",
        " u'alogp': 6.04,\n",
        " u'chemblId': u'CHEMBL554',\n",
        " u'knownDrug': u'Yes',\n",
        " u'medChemFriendly': u'Yes',\n",
        " u'molecularFormula': u'C29H26ClFN4O4S',\n",
        " u'molecularWeight': 581.06,\n",
        " u'numRo5Violations': 2,\n",
        " u'passesRuleOfThree': u'No',\n",
        " u'preferredCompoundName': u'LAPATINIB',\n",
        " u'rotatableBonds': 11,\n",
        " u'smiles': u'CS(=O)(=O)CCNCc1oc(cc1)c2ccc3ncnc(Nc4ccc(OCc5cccc(F)c5)c(Cl)c4)c3c2',\n",
        " u'species': u'NEUTRAL',\n",
        " u'stdInChiKey': u'BCFGMOOMADDAQU-UHFFFAOYSA-N',\n",
        " u'synonyms': u'Tykerb,Lapatinib'}"
       ]
      }
     ],
     "prompt_number": 10
    },
    {
     "cell_type": "code",
     "collapsed": false,
     "input": [
      "# The same data is obtained using the API...\n",
      "\n",
      "# Note that, by contrast with the URL-based webservices the API returns JSON by default. Furthermore, there\n",
      "# there is a slight difference in the return format, in that the returned JSON object is not nested.\n",
      "\n",
      "compounds.get(chembl_id) == record"
     ],
     "language": "python",
     "metadata": {},
     "outputs": [
      {
       "metadata": {},
       "output_type": "pyout",
       "prompt_number": 11,
       "text": [
        "True"
       ]
      }
     ],
     "prompt_number": 11
    },
    {
     "cell_type": "code",
     "collapsed": false,
     "input": [
      "# Note that XML can be requested from the API...\n",
      "\n",
      "compounds.get(chembl_id, frmt=\"xml\") == xml"
     ],
     "language": "python",
     "metadata": {},
     "outputs": [
      {
       "metadata": {},
       "output_type": "pyout",
       "prompt_number": 12,
       "text": [
        "False"
       ]
      }
     ],
     "prompt_number": 12
    },
    {
     "cell_type": "markdown",
     "metadata": {},
     "source": [
      "### Batch queries\n",
      "\n",
      "Records for multiple ChEMBL IDs may be requested at once. If the ID is invalid, a numeric HTTP status code will be returned instead of a data record, and these must be removed by the user at present.\n",
      "\n",
      "Note that this service is currently only available _via_ the API."
     ]
    },
    {
     "cell_type": "code",
     "collapsed": false,
     "input": [
      "records = compounds.get(['CHEMBL{}'.format(x) for x in range(1, 301)])\n",
      "\n",
      "# We need to remove 'misses' (where an integer HTTP status code such as 404 is returned instead of a compound record)...\n",
      "\n",
      "records = [x for x in records if not isinstance(x, int)]\n",
      "\n",
      "len(records)"
     ],
     "language": "python",
     "metadata": {},
     "outputs": [
      {
       "metadata": {},
       "output_type": "pyout",
       "prompt_number": 13,
       "text": [
        "170"
       ]
      }
     ],
     "prompt_number": 13
    },
    {
     "cell_type": "markdown",
     "metadata": {},
     "source": [
      "### InChIKey\n",
      "\n",
      "Compound records may be retrieved _via_ InChI Key lookup."
     ]
    },
    {
     "cell_type": "code",
     "collapsed": false,
     "input": [
      "inchi_key = record[\"stdInChiKey\"] # InChI Key for Lapatinib\n",
      "\n",
      "inchi_key"
     ],
     "language": "python",
     "metadata": {},
     "outputs": [
      {
       "metadata": {},
       "output_type": "pyout",
       "prompt_number": 14,
       "text": [
        "u'BCFGMOOMADDAQU-UHFFFAOYSA-N'"
       ]
      }
     ],
     "prompt_number": 14
    },
    {
     "cell_type": "code",
     "collapsed": false,
     "input": [
      "# Get compound record via URL...\n",
      "\n",
      "# Again, the default is to return XML, but JSON may be requested whereupon a nested JSON object is returned.\n",
      "\n",
      "record = requests.get(url_stem + \"/compounds/stdinchikey/\" + inchi_key + \".json\").json()[\"compound\"]\n",
      "\n",
      "record[\"preferredCompoundName\"]"
     ],
     "language": "python",
     "metadata": {},
     "outputs": [
      {
       "metadata": {},
       "output_type": "pyout",
       "prompt_number": 15,
       "text": [
        "u'LAPATINIB'"
       ]
      }
     ],
     "prompt_number": 15
    },
    {
     "cell_type": "code",
     "collapsed": false,
     "input": [
      "# The same data is obtained sing the API...\n",
      "\n",
      "compounds.get(stdinchikey=inchi_key) == record"
     ],
     "language": "python",
     "metadata": {},
     "outputs": [
      {
       "metadata": {},
       "output_type": "pyout",
       "prompt_number": 16,
       "text": [
        "True"
       ]
      }
     ],
     "prompt_number": 16
    },
    {
     "cell_type": "markdown",
     "metadata": {},
     "source": [
      "### SMILES\n",
      "\n",
      "Compound records may be retrieved _via_ SMILES lookup. Note that the input SMILES do not need to be canonical."
     ]
    },
    {
     "cell_type": "code",
     "collapsed": false,
     "input": [
      "smiles = record[\"smiles\"] # SMILES for Lapatinib\n",
      "\n",
      "smiles"
     ],
     "language": "python",
     "metadata": {},
     "outputs": [
      {
       "metadata": {},
       "output_type": "pyout",
       "prompt_number": 17,
       "text": [
        "u'CS(=O)(=O)CCNCc1oc(cc1)c2ccc3ncnc(Nc4ccc(OCc5cccc(F)c5)c(Cl)c4)c3c2'"
       ]
      }
     ],
     "prompt_number": 17
    },
    {
     "cell_type": "markdown",
     "metadata": {},
     "source": [
      "Note that for SMILES lookup, the key used to extract the compound record(s) from the outer JSON object must now be '**`compounds`**' instead of '**`compound`**'. This is because, unlike for ChEMBL ID or InChI Keys, a SMILES lookup _may_ return multiple structures (although mostly it will not)."
     ]
    },
    {
     "cell_type": "code",
     "collapsed": false,
     "input": [
      "records = requests.get(url_stem + \"/compounds/smiles/\" + smiles + \".json\").json()[\"compounds\"]\n",
      "\n",
      "records"
     ],
     "language": "python",
     "metadata": {},
     "outputs": [
      {
       "metadata": {},
       "output_type": "pyout",
       "prompt_number": 18,
       "text": [
        "[{u'acdAcidicPka': None,\n",
        "  u'acdBasicPka': 6.34,\n",
        "  u'acdLogd': 6.26,\n",
        "  u'acdLogp': 6.3,\n",
        "  u'alogp': 6.04,\n",
        "  u'chemblId': u'CHEMBL554',\n",
        "  u'knownDrug': u'Yes',\n",
        "  u'medChemFriendly': u'Yes',\n",
        "  u'molecularFormula': u'C29H26ClFN4O4S',\n",
        "  u'molecularWeight': 581.06,\n",
        "  u'numRo5Violations': 2,\n",
        "  u'passesRuleOfThree': u'No',\n",
        "  u'preferredCompoundName': u'LAPATINIB',\n",
        "  u'rotatableBonds': 11,\n",
        "  u'smiles': u'CS(=O)(=O)CCNCc1oc(cc1)c2ccc3ncnc(Nc4ccc(OCc5cccc(F)c5)c(Cl)c4)c3c2',\n",
        "  u'species': u'NEUTRAL',\n",
        "  u'stdInChiKey': u'BCFGMOOMADDAQU-UHFFFAOYSA-N',\n",
        "  u'synonyms': u'Tykerb,Lapatinib'}]"
       ]
      }
     ],
     "prompt_number": 18
    },
    {
     "cell_type": "markdown",
     "metadata": {},
     "source": [
      "This behaviour is due to the fact that stereochemical matching is not currently enabled in myChEML. As Lapatinib contains no chiral (or prochiral) centres, this is not an issue (only the single record is returned).\n",
      "\n",
      "However, an example of a SMILES (for the statin drug Atorvastatin) where multiple records are returned is shown below..."
     ]
    },
    {
     "cell_type": "code",
     "collapsed": false,
     "input": [
      "# Atorvastatin...\n",
      "\n",
      "smiles = \"CC(C)c1c(C(=O)Nc2ccccc2)c(c3ccccc3)c(c4ccc(F)cc4)n1CC[C@@H](O)C[C@@H](O)CC(=O)O\" \n",
      "\n",
      "records = requests.get(url_stem + \"/compounds/smiles/\" + smiles + \".json\").json()[\"compounds\"]\n",
      "\n",
      "for record in records:\n",
      "    \n",
      "    print(\"{:15s} : {}\".format(record[\"chemblId\"], record[\"smiles\"]))"
     ],
     "language": "python",
     "metadata": {},
     "outputs": [
      {
       "output_type": "stream",
       "stream": "stdout",
       "text": [
        "CHEMBL1207181   : CC(C)c1c(C(=O)Nc2ccccc2)c(c3ccccc3)c(c4ccc(F)cc4)n1CCC(O)C[C@@H](O)CC(=O)O\n",
        "CHEMBL1487      : CC(C)c1c(C(=O)Nc2ccccc2)c(c3ccccc3)c(c4ccc(F)cc4)n1CC[C@@H](O)C[C@@H](O)CC(=O)O\n"
       ]
      }
     ],
     "prompt_number": 19
    },
    {
     "cell_type": "markdown",
     "metadata": {},
     "source": [
      "Two structures are returned, CHEMBL1487 (Atorvastatin) and CHEMBL1207181, which is the same structure as Atorvastatin but with one of the two stereocentes undefined."
     ]
    },
    {
     "cell_type": "code",
     "collapsed": false,
     "input": [
      "# Lookup Atorvastin using API...\n",
      "\n",
      "# Note that the list of compound records is returned directly, with no outer dictionary.\n",
      "\n",
      "compounds.get(smiles=smiles) == records"
     ],
     "language": "python",
     "metadata": {},
     "outputs": [
      {
       "metadata": {},
       "output_type": "pyout",
       "prompt_number": 20,
       "text": [
        "True"
       ]
      }
     ],
     "prompt_number": 20
    },
    {
     "cell_type": "markdown",
     "metadata": {},
     "source": [
      "### Substructure-searching\n",
      "\n",
      "As well as ID lookups, the web services may also be used to perform substructure searches. Currently, only SMILES-based searches are supported, although this could change if there is is a need for more powerful search abilities (_e.g._ SMARTS searching)."
     ]
    },
    {
     "cell_type": "code",
     "collapsed": false,
     "input": [
      "# Lapatinib contains the following core...\n",
      "\n",
      "query = \"c4ccc(Nc2ncnc3ccc(c1ccco1)cc23)cc4\"\n",
      "\n",
      "Chem.MolFromSmiles(query)"
     ],
     "language": "python",
     "metadata": {},
     "outputs": [
      {
       "metadata": {},
       "output_type": "pyout",
       "png": "[encoded data removed]",
       "prompt_number": 21,
       "text": [
        "<rdkit.Chem.rdchem.Mol at 0x42c17c0>"
       ]
      }
     ],
     "prompt_number": 21
    },
    {
     "cell_type": "code",
     "collapsed": false,
     "input": [
      "# Substructure search via URL...\n",
      "\n",
      "# Note that multiple records may be returned, so the outer dictionarty is keyed by \"compounds\".\n",
      "\n",
      "records = requests.get(url_stem + \"/compounds/substructure/\" + query + \".json\").json()[\"compounds\"]\n",
      "\n",
      "len(records)"
     ],
     "language": "python",
     "metadata": {},
     "outputs": [
      {
       "metadata": {},
       "output_type": "pyout",
       "prompt_number": 22,
       "text": [
        "69"
       ]
      }
     ],
     "prompt_number": 22
    },
    {
     "cell_type": "code",
     "collapsed": false,
     "input": [
      "# Check that Lapatinib was found...\n",
      "\n",
      "'LAPATINIB' in [x[\"preferredCompoundName\"] for x in records]"
     ],
     "language": "python",
     "metadata": {},
     "outputs": [
      {
       "metadata": {},
       "output_type": "pyout",
       "prompt_number": 23,
       "text": [
        "True"
       ]
      }
     ],
     "prompt_number": 23
    },
    {
     "cell_type": "code",
     "collapsed": false,
     "input": [
      "# The same data is obtained using the API...\n",
      "\n",
      "compounds.substructure(query) == records"
     ],
     "language": "python",
     "metadata": {},
     "outputs": [
      {
       "metadata": {},
       "output_type": "pyout",
       "prompt_number": 24,
       "text": [
        "True"
       ]
      }
     ],
     "prompt_number": 24
    },
    {
     "cell_type": "markdown",
     "metadata": {},
     "source": [
      "### Similarity searching\n",
      "\n",
      "The web services may also be used to perform SMILES-based similarity searches."
     ]
    },
    {
     "cell_type": "code",
     "collapsed": false,
     "input": [
      "smiles = \"CS(=O)(=O)CCNCc1oc(cc1)c2ccc3ncnc(Nc4ccc(OCc5cccc(F)c5)c(Cl)c4)c3c2\" # Lapatinib"
     ],
     "language": "python",
     "metadata": {},
     "outputs": [],
     "prompt_number": 25
    },
    {
     "cell_type": "code",
     "collapsed": false,
     "input": [
      "# Similarity search using URL...\n",
      "\n",
      "# Note that a percentage similarity must be appended (after a slash).\n",
      "\n",
      "records = requests.get(url_stem + \"/compounds/similarity/\" + smiles + \"/90\" + \".json\").json()[\"compounds\"]\n",
      "\n",
      "len(records)"
     ],
     "language": "python",
     "metadata": {},
     "outputs": [
      {
       "metadata": {},
       "output_type": "pyout",
       "prompt_number": 26,
       "text": [
        "10"
       ]
      }
     ],
     "prompt_number": 26
    },
    {
     "cell_type": "code",
     "collapsed": false,
     "input": [
      "# Same data via the API...\n",
      "\n",
      "compounds.similar_to(smiles, 90) == records"
     ],
     "language": "python",
     "metadata": {},
     "outputs": [
      {
       "metadata": {},
       "output_type": "pyout",
       "prompt_number": 27,
       "text": [
        "True"
       ]
      }
     ],
     "prompt_number": 27
    },
    {
     "cell_type": "markdown",
     "metadata": {},
     "source": [
      "#### Note on SMILES searches\n",
      "\n",
      "The URL-based examples above all use GET, which means the SMILES are passed _via_ the URL. This can cause problems where the SMILES inludes the '/', '\\' or '#' characters, for example. In such cases, equivalent POST methods are available, and some examples are shown below."
     ]
    },
    {
     "cell_type": "code",
     "collapsed": false,
     "input": [
      "smiles = \"C\\C(=C/CO)\\C=C\\C=C(/C)\\C=C\\C1=C(C)CCCC1(C)C\" # Retinol"
     ],
     "language": "python",
     "metadata": {},
     "outputs": [],
     "prompt_number": 28
    },
    {
     "cell_type": "markdown",
     "metadata": {},
     "source": [
      "**SMILES Lookup using POST**\n",
      "\n",
      "Note how the stereochemistry is ignored in the lookup."
     ]
    },
    {
     "cell_type": "code",
     "collapsed": false,
     "input": [
      "records = requests.post(url_stem + \"/compounds/smiles.json\", {\"smiles\": smiles}).json()[\"compounds\"]\n",
      "\n",
      "Draw.MolsToGridImage([Chem.MolFromSmiles(x[\"smiles\"]) for x in records], legends=[x[\"chemblId\"] for x in records], subImgSize=(400, 200))"
     ],
     "language": "python",
     "metadata": {},
     "outputs": [
      {
       "metadata": {},
       "output_type": "pyout",
       "png": "[encoded data removed]",
       "prompt_number": 29,
       "text": [
        "<Image.Image image mode=RGBA size=1200x200 at 0x4163EA8>"
       ]
      }
     ],
     "prompt_number": 29
    },
    {
     "cell_type": "markdown",
     "metadata": {},
     "source": [
      "**SMILES Substructure Search using POST**\n",
      "\n",
      "Note how the stereochemistry is ignored in the search."
     ]
    },
    {
     "cell_type": "code",
     "collapsed": false,
     "input": [
      "records = requests.post(url_stem + \"/compounds/substructure\" + \".json\", {\"smiles\": smiles}).json()[\"compounds\"]\n",
      "\n",
      "len(records), 'RETINOL' in [x['preferredCompoundName'] for x in records]"
     ],
     "language": "python",
     "metadata": {},
     "outputs": [
      {
       "metadata": {},
       "output_type": "pyout",
       "prompt_number": 30,
       "text": [
        "(105, True)"
       ]
      }
     ],
     "prompt_number": 30
    },
    {
     "cell_type": "code",
     "collapsed": false,
     "input": [
      "Draw.MolsToGridImage([Chem.MolFromSmiles(x[\"smiles\"]) for x in records[:3]], legends=[x[\"chemblId\"] for x in records[:3]], subImgSize=(400, 200))"
     ],
     "language": "python",
     "metadata": {},
     "outputs": [
      {
       "metadata": {},
       "output_type": "pyout",
       "png": "[encoded data removed]",
       "prompt_number": 31,
       "text": [
        "<Image.Image image mode=RGBA size=1200x200 at 0x42F5170>"
       ]
      }
     ],
     "prompt_number": 31
    },
    {
     "cell_type": "markdown",
     "metadata": {},
     "source": [
      "**SMILES Similarity Search using POST**"
     ]
    },
    {
     "cell_type": "code",
     "collapsed": false,
     "input": [
      "records = requests.post(url_stem + \"/compounds/similarity.json\", {\"smiles\": smiles, \"simscore\": 80}).json()[\"compounds\"]\n",
      "\n",
      "len(records), 'RETINOL' in [x['preferredCompoundName'] for x in records]"
     ],
     "language": "python",
     "metadata": {},
     "outputs": [
      {
       "metadata": {},
       "output_type": "pyout",
       "prompt_number": 32,
       "text": [
        "(10, True)"
       ]
      }
     ],
     "prompt_number": 32
    },
    {
     "cell_type": "code",
     "collapsed": false,
     "input": [
      "Draw.MolsToGridImage([Chem.MolFromSmiles(x[\"smiles\"]) for x in records[:3]], legends=[x[\"chemblId\"] for x in records[:3]], subImgSize=(400, 200))"
     ],
     "language": "python",
     "metadata": {},
     "outputs": [
      {
       "metadata": {},
       "output_type": "pyout",
       "png": "[encoded data removed]",
       "prompt_number": 33,
       "text": [
        "<Image.Image image mode=RGBA size=1200x200 at 0x42F50E0>"
       ]
      }
     ],
     "prompt_number": 33
    },
    {
     "cell_type": "markdown",
     "metadata": {},
     "source": [
      "### Salt forms for parent structure\n",
      "\n",
      "The salt forms for a parent compound may be retrieved for a ChEMBL ID."
     ]
    },
    {
     "cell_type": "code",
     "collapsed": false,
     "input": [
      "chembl_id = \"CHEMBL554\" # Lapatinib, the parent (bioactive) component of the anti-cancer drug Tykerb|"
     ],
     "language": "python",
     "metadata": {},
     "outputs": [],
     "prompt_number": 34
    },
    {
     "cell_type": "code",
     "collapsed": false,
     "input": [
      "# Lookup records via URL...\n",
      "\n",
      "records = requests.get(url_stem + \"/compounds/\" + chembl_id + \"/form\" + \".json\").json()[\"forms\"]\n",
      "\n",
      "records"
     ],
     "language": "python",
     "metadata": {},
     "outputs": [
      {
       "metadata": {},
       "output_type": "pyout",
       "prompt_number": 35,
       "text": [
        "[{u'chemblId': u'CHEMBL554', u'parent': True},\n",
        " {u'chemblId': u'CHEMBL1076241', u'parent': False},\n",
        " {u'chemblId': u'CHEMBL1201179', u'parent': False}]"
       ]
      }
     ],
     "prompt_number": 35
    },
    {
     "cell_type": "code",
     "collapsed": false,
     "input": [
      "# Same data via API...\n",
      "\n",
      "compounds.forms(chembl_id) == records"
     ],
     "language": "python",
     "metadata": {},
     "outputs": [
      {
       "metadata": {},
       "output_type": "pyout",
       "prompt_number": 36,
       "text": [
        "True"
       ]
      }
     ],
     "prompt_number": 36
    },
    {
     "cell_type": "markdown",
     "metadata": {},
     "source": [
      "The ChEMBL ID lookup service may now be used to get the full records for the salt forms..."
     ]
    },
    {
     "cell_type": "code",
     "collapsed": false,
     "input": [
      "for chembl_id in [x[\"chemblId\"] for x in records if not x[\"parent\"]]:\n",
      "    \n",
      "    record = requests.get(url_stem + \"/compounds/\" + chembl_id + \".json\").json()[\"compound\"]\n",
      "            \n",
      "    print(\"{:10s} : {}\".format(record[\"chemblId\"], record[\"smiles\"]))"
     ],
     "language": "python",
     "metadata": {},
     "outputs": [
      {
       "output_type": "stream",
       "stream": "stdout",
       "text": [
        "CHEMBL1076241 : Cc1ccc(cc1)S(=O)(=O)O.CS(=O)(=O)CCNCc2oc(cc2)c3ccc4ncnc(Nc5ccc(OCc6cccc(F)c6)c(Cl)c5)c4c3\n",
        "CHEMBL1201179 : O.Cc1ccc(cc1)S(=O)(=O)O.Cc2ccc(cc2)S(=O)(=O)O.CS(=O)(=O)CCNCc3oc(cc3)c4ccc5ncnc(Nc6ccc(OCc7cccc(F)c7)c(Cl)c6)c5c4\n"
       ]
      }
     ],
     "prompt_number": 37
    },
    {
     "cell_type": "markdown",
     "metadata": {},
     "source": [
      "### Drug mechanism(s) of action\n",
      "\n",
      "Note that this may not be recorded for the parent structure, but rather for one of it's salt forms. For example, the marketed drug, Tykerb, containing the active ingredient Lapatinib (CHEMBL554) is actually the ditosylate monohydrate (CHEMBL1201179)."
     ]
    },
    {
     "cell_type": "code",
     "collapsed": false,
     "input": [
      "for chembl_id, is_parent in ((x[\"chemblId\"], x[\"parent\"]) for x in records):\n",
      "        \n",
      "    print(\"{} is a {}.\".format(chembl_id, \"parent\" if is_parent else \"salt\"))\n",
      "        \n",
      "    mechanism_records = requests.get(url_stem + \"/compounds/\" + chembl_id + \"/drugMechanism\" + \".json\").json()[\"drugMechanisms\"]\n",
      "    \n",
      "    if mechanism_records:\n",
      "    \n",
      "        print(\"The recorded mechanisms of action are...\")\n",
      "    \n",
      "        for mech_rec in mechanism_records:\n",
      "    \n",
      "            print(\"{:10s} : {}\".format(mech_rec[\"chemblId\"], mech_rec[\"mechanismOfAction\"]))\n",
      "        \n",
      "    print(\"-\" * 50)"
     ],
     "language": "python",
     "metadata": {},
     "outputs": [
      {
       "output_type": "stream",
       "stream": "stdout",
       "text": [
        "CHEMBL554 is a parent.\n",
        "--------------------------------------------------\n",
        "CHEMBL1076241 is a salt.\n",
        "--------------------------------------------------\n",
        "CHEMBL1201179 is a salt.\n",
        "The recorded mechanisms of action are...\n",
        "CHEMBL1824 : Receptor protein-tyrosine kinase erbB-2 inhibitor\n",
        "CHEMBL203  : Epidermal growth factor receptor erbB1 inhibitor\n",
        "--------------------------------------------------\n"
       ]
      }
     ],
     "prompt_number": 38
    },
    {
     "cell_type": "markdown",
     "metadata": {},
     "source": [
      "### Image query\n",
      "\n",
      "The webservice may be used to obtain a PNG image of a compound."
     ]
    },
    {
     "cell_type": "code",
     "collapsed": false,
     "input": [
      "chembl_id = \"CHEMBL1201179\" # Lapatinib ditosylate monohydrate (Tykerb)"
     ],
     "language": "python",
     "metadata": {},
     "outputs": [],
     "prompt_number": 39
    },
    {
     "cell_type": "code",
     "collapsed": false,
     "input": [
      "# Lookup records via URL...\n",
      "\n",
      "png = requests.get(url_stem + \"/compounds/\" + chembl_id + \"/image\").content\n",
      "\n",
      "Image(png)"
     ],
     "language": "python",
     "metadata": {},
     "outputs": [
      {
       "metadata": {},
       "output_type": "pyout",
       "png": "[encoded data removed]",
       "prompt_number": 40,
       "text": [
        "<IPython.core.display.Image at 0x3fa08d0>"
       ]
      }
     ],
     "prompt_number": 40
    },
    {
     "cell_type": "code",
     "collapsed": false,
     "input": [
      "# Same data via API...\n",
      "\n",
      "compounds.image(chembl_id) == png"
     ],
     "language": "python",
     "metadata": {},
     "outputs": [
      {
       "metadata": {},
       "output_type": "pyout",
       "prompt_number": 41,
       "text": [
        "True"
       ]
      }
     ],
     "prompt_number": 41
    },
    {
     "cell_type": "markdown",
     "metadata": {},
     "source": [
      "### Bioactivities\n",
      "\n",
      "All bioactivity records for a compound may be retrived _via_ a compound's ChEMBL ID."
     ]
    },
    {
     "cell_type": "code",
     "collapsed": false,
     "input": [
      "chembl_id = \"CHEMBL554\" # Lapatinib"
     ],
     "language": "python",
     "metadata": {},
     "outputs": [],
     "prompt_number": 42
    },
    {
     "cell_type": "code",
     "collapsed": false,
     "input": [
      "# Lookup records via URL...\n",
      "\n",
      "records = requests.get(url_stem + \"/compounds/\" + chembl_id + \"/bioactivities\" + \".json\").json()[\"bioactivities\"]\n",
      "\n",
      "len(records), records[:2]"
     ],
     "language": "python",
     "metadata": {},
     "outputs": [
      {
       "metadata": {},
       "output_type": "pyout",
       "prompt_number": 43,
       "text": [
        "(1575,\n",
        " [{u'activity_comment': u'Unspecified',\n",
        "   u'assay_chemblid': u'CHEMBL674106',\n",
        "   u'assay_description': u'Inhibitory activity against epidermal growth factor receptor',\n",
        "   u'assay_type': u'B',\n",
        "   u'bioactivity_type': u'IC50',\n",
        "   u'ingredient_cmpd_chemblid': u'CHEMBL554',\n",
        "   u'name_in_reference': u'GW-572016',\n",
        "   u'operator': u'=',\n",
        "   u'organism': u'Homo sapiens',\n",
        "   u'parent_cmpd_chemblid': u'CHEMBL554',\n",
        "   u'reference': u'Bioorg. Med. Chem. Lett., (2004) 14:1:111',\n",
        "   u'target_chemblid': u'CHEMBL203',\n",
        "   u'target_confidence': 8,\n",
        "   u'target_name': u'Epidermal growth factor receptor erbB1',\n",
        "   u'units': u'nM',\n",
        "   u'value': u'10'},\n",
        "  {u'activity_comment': u'Unspecified',\n",
        "   u'assay_chemblid': u'CHEMBL682312',\n",
        "   u'assay_description': u'Inhibitory activity against ERBB2 receptor kinase',\n",
        "   u'assay_type': u'B',\n",
        "   u'bioactivity_type': u'IC50',\n",
        "   u'ingredient_cmpd_chemblid': u'CHEMBL554',\n",
        "   u'name_in_reference': u'GW-572016',\n",
        "   u'operator': u'=',\n",
        "   u'organism': u'Homo sapiens',\n",
        "   u'parent_cmpd_chemblid': u'CHEMBL554',\n",
        "   u'reference': u'Bioorg. Med. Chem. Lett., (2004) 14:1:111',\n",
        "   u'target_chemblid': u'CHEMBL1824',\n",
        "   u'target_confidence': 8,\n",
        "   u'target_name': u'Receptor protein-tyrosine kinase erbB-2',\n",
        "   u'units': u'nM',\n",
        "   u'value': u'9'}])"
       ]
      }
     ],
     "prompt_number": 43
    },
    {
     "cell_type": "code",
     "collapsed": false,
     "input": [
      "# Same data via API...\n",
      "\n",
      "compounds.bioactivities(chembl_id) == records"
     ],
     "language": "python",
     "metadata": {},
     "outputs": [
      {
       "metadata": {},
       "output_type": "pyout",
       "prompt_number": 44,
       "text": [
        "True"
       ]
      }
     ],
     "prompt_number": 44
    },
    {
     "cell_type": "markdown",
     "metadata": {},
     "source": [
      "## Targets\n",
      "\n",
      "The webservices may also be used to obtain information on targets, _i.e._ the entities, such as proteins, cells or organisms, with which compounds interact."
     ]
    },
    {
     "cell_type": "code",
     "collapsed": false,
     "input": [
      "# Get a target-handler object for API access and check the connection to the database...\n",
      "\n",
      "targets = TargetResource()\n",
      "\n",
      "targets.status()"
     ],
     "language": "python",
     "metadata": {},
     "outputs": [
      {
       "metadata": {},
       "output_type": "pyout",
       "prompt_number": 45,
       "text": [
        "True"
       ]
      }
     ],
     "prompt_number": 45
    },
    {
     "cell_type": "markdown",
     "metadata": {},
     "source": [
      "### All targets\n",
      "\n",
      "A complete list of targets may be requested."
     ]
    },
    {
     "cell_type": "code",
     "collapsed": false,
     "input": [
      "all_targets = requests.get(url_stem + \"/targets\" + \".json\").json()[\"targets\"]\n",
      "\n",
      "len(all_targets), all_targets[1:3]"
     ],
     "language": "python",
     "metadata": {},
     "outputs": [
      {
       "metadata": {},
       "output_type": "pyout",
       "prompt_number": 46,
       "text": [
        "(9414,\n",
        " [{u'bioactivityCount': 409807,\n",
        "   u'chemblId': u'CHEMBL364',\n",
        "   u'compoundCount': 251088,\n",
        "   u'description': u'Plasmodium falciparum',\n",
        "   u'geneNames': u'Unspecified',\n",
        "   u'organism': u'Plasmodium falciparum',\n",
        "   u'preferredName': u'Plasmodium falciparum',\n",
        "   u'targetType': u'ORGANISM'},\n",
        "  {u'bioactivityCount': 115315,\n",
        "   u'chemblId': u'CHEMBL5391',\n",
        "   u'compoundCount': 114929,\n",
        "   u'description': u'DNA polymerase iota',\n",
        "   u'geneNames': u'Unspecified',\n",
        "   u'organism': u'Homo sapiens',\n",
        "   u'preferredName': u'DNA polymerase iota',\n",
        "   u'proteinAccession': u'Q9UNA4',\n",
        "   u'synonyms': u'RAD30 homolog B,Eta2,POLI,DNA polymerase iota,RAD30B,2.7.7.7',\n",
        "   u'targetType': u'SINGLE PROTEIN'}])"
       ]
      }
     ],
     "prompt_number": 46
    },
    {
     "cell_type": "code",
     "collapsed": false,
     "input": [
      "counts = Counter([x[\"targetType\"] for x in all_targets if x[\"targetType\"]])\n",
      "\n",
      "for targetType, n in sorted(counts.items(), key=itemgetter(1), reverse=True): print(\"{:30s} {:-4d}\".format(targetType, n))"
     ],
     "language": "python",
     "metadata": {},
     "outputs": [
      {
       "output_type": "stream",
       "stream": "stdout",
       "text": [
        "SINGLE PROTEIN                 5598\n",
        "CELL-LINE                      1623\n",
        "ORGANISM                       1380\n",
        "PROTEIN COMPLEX                 209\n",
        "PROTEIN FAMILY                  204\n",
        "TISSUE                          144\n",
        "SELECTIVITY GROUP                96\n",
        "PROTEIN COMPLEX GROUP            43\n",
        "NUCLEIC-ACID                     28\n",
        "UNKNOWN                          18\n",
        "SMALL MOLECULE                   18\n",
        "PROTEIN-PROTEIN INTERACTION      13\n",
        "SUBCELLULAR                       9\n",
        "METAL                             8\n",
        "PROTEIN NUCLEIC-ACID COMPLEX      6\n",
        "MACROMOLECULE                     5\n",
        "OLIGOSACCHARIDE                   4\n",
        "CHIMERIC PROTEIN                  3\n",
        "PHENOTYPE                         2\n",
        "NO TARGET                         1\n",
        "ADMET                             1\n",
        "UNCHECKED                         1\n"
       ]
      }
     ],
     "prompt_number": 47
    },
    {
     "cell_type": "markdown",
     "metadata": {},
     "source": [
      "### UniProt ID\n",
      "\n",
      "Data on single-protein targets may be obtained directly _via_ UniProt ID lookup."
     ]
    },
    {
     "cell_type": "code",
     "collapsed": false,
     "input": [
      "uniprot_id = \"P04626\" # UniProt ID for erbB-2, a traget of Lapatinib"
     ],
     "language": "python",
     "metadata": {},
     "outputs": [],
     "prompt_number": 48
    },
    {
     "cell_type": "code",
     "collapsed": false,
     "input": [
      "# Lookup records via URL...\n",
      "\n",
      "record = requests.get(url_stem + \"/targets/uniprot/\" + uniprot_id + \".json\").json()[\"target\"]\n",
      "\n",
      "record"
     ],
     "language": "python",
     "metadata": {},
     "outputs": [
      {
       "metadata": {},
       "output_type": "pyout",
       "prompt_number": 49,
       "text": [
        "{u'bioactivityCount': 5769,\n",
        " u'chemblId': u'CHEMBL1824',\n",
        " u'compoundCount': 3949,\n",
        " u'description': u'Receptor protein-tyrosine kinase erbB-2',\n",
        " u'geneNames': u'Unspecified',\n",
        " u'organism': u'Homo sapiens',\n",
        " u'preferredName': u'Receptor protein-tyrosine kinase erbB-2',\n",
        " u'proteinAccession': u'P04626',\n",
        " u'synonyms': u'Metastatic lymph node gene 19 protein,p185erbB2,Proto-oncogene c-ErbB-2,CD_antigen=CD340,Tyrosine kinase-type cell surface receptor HER2,MLN 19,ERBB2,NEU,Proto-oncogene Neu,HER2 ,2.7.10.1,NGL,MLN19,Receptor tyrosine-protein kinase erbB-2',\n",
        " u'targetType': u'SINGLE PROTEIN'}"
       ]
      }
     ],
     "prompt_number": 49
    },
    {
     "cell_type": "code",
     "collapsed": false,
     "input": [
      "# Same data via API...\n",
      "\n",
      "targets.get(uniprot=uniprot_id) == record"
     ],
     "language": "python",
     "metadata": {},
     "outputs": [
      {
       "metadata": {},
       "output_type": "pyout",
       "prompt_number": 50,
       "text": [
        "True"
       ]
      }
     ],
     "prompt_number": 50
    },
    {
     "cell_type": "markdown",
     "metadata": {},
     "source": [
      "### ChEMBL ID\n",
      "\n",
      "Data on any target type may be obtained _via_ a lookup of it's ChEMBL ID."
     ]
    },
    {
     "cell_type": "code",
     "collapsed": false,
     "input": [
      "chembl_id = 'CHEMBL1824' # Receptor protein-tyrosine kinase erbB-2"
     ],
     "language": "python",
     "metadata": {},
     "outputs": [],
     "prompt_number": 51
    },
    {
     "cell_type": "code",
     "collapsed": false,
     "input": [
      "# Lookup records via URL...\n",
      "\n",
      "records = requests.get(url_stem + \"/targets/\" + chembl_id + \".json\").json()[\"target\"]\n",
      "\n",
      "records"
     ],
     "language": "python",
     "metadata": {},
     "outputs": [
      {
       "metadata": {},
       "output_type": "pyout",
       "prompt_number": 52,
       "text": [
        "{u'bioactivityCount': 5769,\n",
        " u'chemblId': u'CHEMBL1824',\n",
        " u'compoundCount': 3949,\n",
        " u'description': u'Receptor protein-tyrosine kinase erbB-2',\n",
        " u'geneNames': u'Unspecified',\n",
        " u'organism': u'Homo sapiens',\n",
        " u'preferredName': u'Receptor protein-tyrosine kinase erbB-2',\n",
        " u'proteinAccession': u'P04626',\n",
        " u'synonyms': u'NGL,Metastatic lymph node gene 19 protein,p185erbB2,MLN19,NEU,Receptor tyrosine-protein kinase erbB-2,2.7.10.1,ERBB2,Proto-oncogene c-ErbB-2,Proto-oncogene Neu,HER2 ,CD_antigen=CD340,Tyrosine kinase-type cell surface receptor HER2,MLN 19',\n",
        " u'targetType': u'SINGLE PROTEIN'}"
       ]
      }
     ],
     "prompt_number": 52
    },
    {
     "cell_type": "code",
     "collapsed": false,
     "input": [
      "# Same data via API...\n",
      "\n",
      "targets.get(chembl_id=chembl_id) == records"
     ],
     "language": "python",
     "metadata": {},
     "outputs": [
      {
       "metadata": {},
       "output_type": "pyout",
       "prompt_number": 53,
       "text": [
        "True"
       ]
      }
     ],
     "prompt_number": 53
    },
    {
     "cell_type": "markdown",
     "metadata": {},
     "source": [
      "Remember that all targets have ChEMBL IDs, not just proteins..."
     ]
    },
    {
     "cell_type": "code",
     "collapsed": false,
     "input": [
      "chembl_id = \"CHEMBL613834\" # SK-BR-3, a cell line over-expressing erbB-2\n",
      "\n",
      "records = requests.get(url_stem + \"/targets/\" + chembl_id + \".json\").json()[\"target\"]\n",
      "\n",
      "records"
     ],
     "language": "python",
     "metadata": {},
     "outputs": [
      {
       "metadata": {},
       "output_type": "pyout",
       "prompt_number": 54,
       "text": [
        "{u'bioactivityCount': 3393,\n",
        " u'chemblId': u'CHEMBL613834',\n",
        " u'compoundCount': 2574,\n",
        " u'description': u'SK-BR-3',\n",
        " u'geneNames': u'Unspecified',\n",
        " u'organism': u'Homo sapiens',\n",
        " u'preferredName': u'SK-BR-3',\n",
        " u'targetType': u'CELL-LINE'}"
       ]
      }
     ],
     "prompt_number": 54
    },
    {
     "cell_type": "markdown",
     "metadata": {},
     "source": [
      "### Bioactivities\n",
      "\n",
      "All bioactivities for a target may be requested."
     ]
    },
    {
     "cell_type": "code",
     "collapsed": false,
     "input": [
      "chembl_id = 'CHEMBL1824' # Receptor protein-tyrosine kinase erbB-2"
     ],
     "language": "python",
     "metadata": {},
     "outputs": [],
     "prompt_number": 55
    },
    {
     "cell_type": "code",
     "collapsed": false,
     "input": [
      "records = requests.get(url_stem + \"/targets/\" + chembl_id + \"/bioactivities\" + \".json\").json()[\"bioactivities\"]\n",
      "\n",
      "len(records)"
     ],
     "language": "python",
     "metadata": {},
     "outputs": [
      {
       "metadata": {},
       "output_type": "pyout",
       "prompt_number": 56,
       "text": [
        "5769"
       ]
      }
     ],
     "prompt_number": 56
    },
    {
     "cell_type": "code",
     "collapsed": false,
     "input": [
      "# Show assays with most recorded bioactivities...\n",
      "\n",
      "for assay, n in sorted(Counter((x[\"assay_chemblid\"], x[\"assay_description\"]) for x in records).items(), key=itemgetter(1), reverse=True)[:5]:\n",
      "    \n",
      "    print(\"{:-4d} {:14s} {}\".format(n, *assay))"
     ],
     "language": "python",
     "metadata": {},
     "outputs": [
      {
       "output_type": "stream",
       "stream": "stdout",
       "text": [
        "1742 CHEMBL1909205  DRUGMATRIX: Protein Tyrosine Kinase, ERBB2 (HER2) enzyme inhibition (substrate: Poly(Glu:Tyr))\n",
        " 583 CHEMBL1963780  PUBCHEM_BIOASSAY: Navigating the Kinome. (Class of assay: other) Panel member name: ERBB2\n",
        " 369 CHEMBL1962280  GSK_PKIS: ERBB2 mean inhibition at 0.1 uM [Nanosyn]\n",
        " 369 CHEMBL1962281  GSK_PKIS: ERBB2 mean inhibition at 1 uM [Nanosyn]\n",
        "  83 CHEMBL874202   Inhibition of human epidermal growth factor receptor-2 (HER-2) autophosphorylation\n"
       ]
      }
     ],
     "prompt_number": 57
    },
    {
     "cell_type": "markdown",
     "metadata": {},
     "source": [
      "### Approved Drugs\n",
      "\n",
      "The approved drugs for a target may be requested."
     ]
    },
    {
     "cell_type": "code",
     "collapsed": false,
     "input": [
      "chembl_id = 'CHEMBL1824' # Receptor protein-tyrosine kinase erbB-2"
     ],
     "language": "python",
     "metadata": {},
     "outputs": [],
     "prompt_number": 58
    },
    {
     "cell_type": "code",
     "collapsed": false,
     "input": [
      "records = requests.get(url_stem + \"/targets/\" + chembl_id + \"/approvedDrug\" + \".json\").json()[\"approvedDrugs\"]\n",
      "\n",
      "for record in records:\n",
      "    \n",
      "    print(\"{:10s} : {}\".format(record[\"chemblId\"], record[\"name\"]))\n",
      "    \n",
      "# Note that Lapatinib ditosylate (i.e. Tykerb) is retrieved..."
     ],
     "language": "python",
     "metadata": {},
     "outputs": [
      {
       "output_type": "stream",
       "stream": "stdout",
       "text": [
        "CHEMBL1201585 : TRASTUZUMAB\n",
        "CHEMBL2007641 : PERTUZUMAB\n",
        "CHEMBL1743082 : TRASTUZUMAB EMTANSINE\n",
        "CHEMBL1201179 : LAPATINIB DITOSYLATE\n",
        "CHEMBL2105712 : AFATINIB DIMALEATE\n"
       ]
      }
     ],
     "prompt_number": 59
    },
    {
     "cell_type": "markdown",
     "metadata": {},
     "source": [
      "## Assays\n",
      "\n",
      "Information about assays may also be retrieved by the web services."
     ]
    },
    {
     "cell_type": "code",
     "collapsed": false,
     "input": [
      "# Get a assay-handler object for API access and check the connection to the database......\n",
      "\n",
      "assays = AssayResource()\n",
      "\n",
      "assays.status()"
     ],
     "language": "python",
     "metadata": {},
     "outputs": [
      {
       "metadata": {},
       "output_type": "pyout",
       "prompt_number": 60,
       "text": [
        "True"
       ]
      }
     ],
     "prompt_number": 60
    },
    {
     "cell_type": "markdown",
     "metadata": {},
     "source": [
      "### Assay details\n",
      "\n",
      "Details of an assay may be retrieved _via_ it's ChEMBL ID."
     ]
    },
    {
     "cell_type": "code",
     "collapsed": false,
     "input": [
      "chembl_id = \"CHEMBL674106\" # Inhibitory activity against epidermal growth factor receptor"
     ],
     "language": "python",
     "metadata": {},
     "outputs": [],
     "prompt_number": 61
    },
    {
     "cell_type": "code",
     "collapsed": false,
     "input": [
      "# Get data via URL...\n",
      "\n",
      "record = requests.get(url_stem + \"/assays/\" + chembl_id + \".json\").json()[\"assay\"]\n",
      "\n",
      "record"
     ],
     "language": "python",
     "metadata": {},
     "outputs": [
      {
       "metadata": {},
       "output_type": "pyout",
       "prompt_number": 62,
       "text": [
        "{u'assayDescription': u'Inhibitory activity against epidermal growth factor receptor',\n",
        " u'assayStrain': u'Unspecified',\n",
        " u'assayType': u'B',\n",
        " u'chemblId': u'CHEMBL674106',\n",
        " u'journal': u'Bioorg. Med. Chem. Lett.',\n",
        " u'numBioactivities': 16}"
       ]
      }
     ],
     "prompt_number": 62
    },
    {
     "cell_type": "code",
     "collapsed": false,
     "input": [
      "# Same data via API...\n",
      "\n",
      "assays.get(chembl_id=chembl_id) == record"
     ],
     "language": "python",
     "metadata": {},
     "outputs": [
      {
       "metadata": {},
       "output_type": "pyout",
       "prompt_number": 63,
       "text": [
        "True"
       ]
      }
     ],
     "prompt_number": 63
    },
    {
     "cell_type": "markdown",
     "metadata": {},
     "source": [
      "### Bioactivities\n",
      "\n",
      "All bioactivity records for an assay may be requested."
     ]
    },
    {
     "cell_type": "code",
     "collapsed": false,
     "input": [
      "# Get data via URL...\n",
      "\n",
      "records = requests.get(url_stem + \"/assays/\" + chembl_id + \"/bioactivities\" + \".json\").json()[\"bioactivities\"]\n",
      "\n",
      "len(records), records[:2]"
     ],
     "language": "python",
     "metadata": {},
     "outputs": [
      {
       "metadata": {},
       "output_type": "pyout",
       "prompt_number": 64,
       "text": [
        "(16,\n",
        " [{u'activity_comment': u'Unspecified',\n",
        "   u'assay_chemblid': u'CHEMBL674106',\n",
        "   u'assay_description': u'Inhibitory activity against epidermal growth factor receptor',\n",
        "   u'assay_type': u'B',\n",
        "   u'bioactivity_type': u'IC50',\n",
        "   u'ingredient_cmpd_chemblid': u'CHEMBL14932',\n",
        "   u'name_in_reference': u'4a',\n",
        "   u'operator': u'=',\n",
        "   u'organism': u'Homo sapiens',\n",
        "   u'parent_cmpd_chemblid': u'CHEMBL14932',\n",
        "   u'reference': u'Bioorg. Med. Chem. Lett., (2004) 14:1:111',\n",
        "   u'target_chemblid': u'CHEMBL203',\n",
        "   u'target_confidence': 8,\n",
        "   u'target_name': u'Epidermal growth factor receptor erbB1',\n",
        "   u'units': u'nM',\n",
        "   u'value': u'98'},\n",
        "  {u'activity_comment': u'Unspecified',\n",
        "   u'assay_chemblid': u'CHEMBL674106',\n",
        "   u'assay_description': u'Inhibitory activity against epidermal growth factor receptor',\n",
        "   u'assay_type': u'B',\n",
        "   u'bioactivity_type': u'IC50',\n",
        "   u'ingredient_cmpd_chemblid': u'CHEMBL553',\n",
        "   u'name_in_reference': u'Tarceva',\n",
        "   u'operator': u'=',\n",
        "   u'organism': u'Homo sapiens',\n",
        "   u'parent_cmpd_chemblid': u'CHEMBL553',\n",
        "   u'reference': u'Bioorg. Med. Chem. Lett., (2004) 14:1:111',\n",
        "   u'target_chemblid': u'CHEMBL203',\n",
        "   u'target_confidence': 8,\n",
        "   u'target_name': u'Epidermal growth factor receptor erbB1',\n",
        "   u'units': u'nM',\n",
        "   u'value': u'1'}])"
       ]
      }
     ],
     "prompt_number": 64
    },
    {
     "cell_type": "code",
     "collapsed": false,
     "input": [
      "# Same data via API...\n",
      " \n",
      "assays.bioactivities(chembl_id=chembl_id) == records"
     ],
     "language": "python",
     "metadata": {},
     "outputs": [
      {
       "metadata": {},
       "output_type": "pyout",
       "prompt_number": 65,
       "text": [
        "True"
       ]
      }
     ],
     "prompt_number": 65
    }
   ],
   "metadata": {}
  }
 ]
}