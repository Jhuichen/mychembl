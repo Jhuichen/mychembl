{
 "metadata": {
  "name": "",
  "signature": "sha256:993f393d1e0d72e302558cfae67385d6fe2912eea0e73567a1093f85bc60e83f"
 },
 "nbformat": 3,
 "nbformat_minor": 0,
 "worksheets": [
  {
   "cells": [
    {
     "cell_type": "markdown",
     "metadata": {},
     "source": [
      "# myChEMBL webservices\n",
      "\n",
      "### myChEMBL team, ChEMBL Group, EMBL-EBI."
     ]
    },
    {
     "cell_type": "markdown",
     "metadata": {},
     "source": [
      "## Introduction\n",
      "\n",
      "This notebook will provide some examples of using the **`myChEMBL`** webservices.\n",
      "\n",
      "There are two ways of accessing the webservices...\n",
      "\n",
      "1) Directly _via_ URLs (see the 'Web Services' link on the **`myChEMBL`** LaunchPad for a list of the available endpoints). The advantage of using the URLs is that it is language-agnostic: although the examples below use Python, any other language with a library for executing HTTP requests would do just as well.\n",
      "\n",
      "\n",
      "2) Using the API provided by the Python package **`chembl_webresource_client`**. This has the advantages that...\n",
      "    - the usage is simpler\n",
      "    - some extra functionality is available\n",
      "    - there are performance benefits\n",
      "\n",
      "For the reasons outlined above, we recommend using the API where possible.\n",
      "\n",
      "Note that the **`chembl_webresource_client`** module is aleady installed on the **`myChEMBL`** VM; if you wish to use it on other machines, it can be installed using **`pip`**.\n",
      "\n",
      "Please not that the code below attempts to balance clarity and concision, and is not intended to be a template for production code: error checking, for example, should be much more thorough in practice."
     ]
    },
    {
     "cell_type": "markdown",
     "metadata": {},
     "source": [
      "## Configuration and setup"
     ]
    },
    {
     "cell_type": "code",
     "collapsed": false,
     "input": [
      "import logging\n",
      "\n",
      "from collections import Counter\n",
      "from operator import itemgetter\n",
      "\n",
      "from lxml import etree\n",
      "\n",
      "from rdkit import Chem\n",
      "from rdkit.Chem import Draw \n",
      "from rdkit.Chem.Draw import IPythonConsole\n",
      "\n",
      "from IPython.display import Image"
     ],
     "language": "python",
     "metadata": {},
     "outputs": [],
     "prompt_number": 1
    },
    {
     "cell_type": "code",
     "collapsed": false,
     "input": [
      "# Python modules used for API access...\n",
      "\n",
      "from chembl_webresource_client import *\n",
      "from chembl_webresource_client.settings import Settings\n",
      "\n",
      "# By default, the API connects to the main ChEMBL database; set it to use the local version (i.e. myChEMBL) instead...\n",
      "\n",
      "Settings.Instance().WEBSERVICE_DOMAIN = 'localhost'\n",
      "Settings.Instance().WEBSERVICE_PROTOCOL = 'http'\n",
      "Settings.Instance().TIMEOUT = 120"
     ],
     "language": "python",
     "metadata": {},
     "outputs": [],
     "prompt_number": 2
    },
    {
     "cell_type": "markdown",
     "metadata": {},
     "source": [
      "## Compounds\n",
      "\n",
      "Compound records may be retrieved in a number of ways, such as lookup of single compounds using various identifiers, or searching for compounds _via_ substruture or similarity. "
     ]
    },
    {
     "cell_type": "code",
     "collapsed": false,
     "input": [
      "# Get a compound-handler object for API access and check the connection to the database...\n",
      "\n",
      "compounds = CompoundResource()\n",
      "\n",
      "compounds.status()"
     ],
     "language": "python",
     "metadata": {},
     "outputs": [
      {
       "metadata": {},
       "output_type": "pyout",
       "prompt_number": 3,
       "text": [
        "True"
       ]
      }
     ],
     "prompt_number": 3
    },
    {
     "cell_type": "markdown",
     "metadata": {},
     "source": [
      "### ChEMBL ID\n",
      "\n",
      "All entities in the ChEMBL database have a ChEMBL ID. It is a stable identifier designed for straightforward lookup of data."
     ]
    },
    {
     "cell_type": "code",
     "collapsed": false,
     "input": [
      "# Lapatinib, the bioactive component of the anti-cancer drug Tykerb\n",
      "\n",
      "chembl_id = \"CHEMBL554\" "
     ],
     "language": "python",
     "metadata": {},
     "outputs": [],
     "prompt_number": 4
    },
    {
     "cell_type": "code",
     "collapsed": false,
     "input": [
      "# Get compound record...\n",
      "\n",
      "record = compounds.get(chembl_id)\n",
      "\n",
      "record"
     ],
     "language": "python",
     "metadata": {},
     "outputs": [
      {
       "metadata": {},
       "output_type": "pyout",
       "prompt_number": 5,
       "text": [
        "{u'acdBasicPka': 6.34,\n",
        " u'acdLogd': 6.26,\n",
        " u'acdLogp': 6.3,\n",
        " u'alogp': 6.04,\n",
        " u'chemblId': u'CHEMBL554',\n",
        " u'knownDrug': u'Yes',\n",
        " u'medChemFriendly': u'Yes',\n",
        " u'molecularFormula': u'C29H26ClFN4O4S',\n",
        " u'molecularWeight': 581.06,\n",
        " u'numRo5Violations': 2,\n",
        " u'passesRuleOfThree': u'No',\n",
        " u'preferredCompoundName': u'LAPATINIB',\n",
        " u'rotatableBonds': 11,\n",
        " u'smiles': u'CS(=O)(=O)CCNCc1oc(cc1)c2ccc3ncnc(Nc4ccc(OCc5cccc(F)c5)c(Cl)c4)c3c2',\n",
        " u'species': u'NEUTRAL',\n",
        " u'stdInChiKey': u'BCFGMOOMADDAQU-UHFFFAOYSA-N',\n",
        " u'synonyms': u'Tykerb,Lapatinib'}"
       ]
      }
     ],
     "prompt_number": 5
    },
    {
     "cell_type": "code",
     "collapsed": false,
     "input": [
      "# Get compound record in XML format...\n",
      "\n",
      "xml = compounds.get(chembl_id, frmt='xml')\n",
      "\n",
      "# The XML must be parsed (e.g. using the lxml.etree module in Python) to enable extraction of the data...\n",
      "\n",
      "root = etree.fromstring(xml).getroottree()"
     ],
     "language": "python",
     "metadata": {},
     "outputs": [],
     "prompt_number": 6
    },
    {
     "cell_type": "code",
     "collapsed": false,
     "input": [
      "# Extract SMILES via xpath...\n",
      "\n",
      "smiles = root.xpath(\"/compound/smiles/text()\")[0]\n",
      "\n",
      "smiles"
     ],
     "language": "python",
     "metadata": {},
     "outputs": [
      {
       "metadata": {},
       "output_type": "pyout",
       "prompt_number": 7,
       "text": [
        "'CS(=O)(=O)CCNCc1oc(cc1)c2ccc3ncnc(Nc4ccc(OCc5cccc(F)c5)c(Cl)c4)c3c2'"
       ]
      }
     ],
     "prompt_number": 7
    },
    {
     "cell_type": "code",
     "collapsed": false,
     "input": [
      "# Pretty-print XML...\n",
      "\n",
      "print etree.tostring(root, pretty_print=True)"
     ],
     "language": "python",
     "metadata": {},
     "outputs": [
      {
       "output_type": "stream",
       "stream": "stdout",
       "text": [
        "<compound>\n",
        "  <smiles>CS(=O)(=O)CCNCc1oc(cc1)c2ccc3ncnc(Nc4ccc(OCc5cccc(F)c5)c(Cl)c4)c3c2</smiles>\n",
        "  <chemblId>CHEMBL554</chemblId>\n",
        "  <passesRuleOfThree>No</passesRuleOfThree>\n",
        "  <molecularWeight>581.06</molecularWeight>\n",
        "  <molecularFormula>C29H26ClFN4O4S</molecularFormula>\n",
        "  <acdLogp>6.30</acdLogp>\n",
        "  <knownDrug>Yes</knownDrug>\n",
        "  <stdInChiKey>BCFGMOOMADDAQU-UHFFFAOYSA-N</stdInChiKey>\n",
        "  <acdLogd>6.26</acdLogd>\n",
        "  <synonyms>Tykerb,Lapatinib</synonyms>\n",
        "  <medChemFriendly>Yes</medChemFriendly>\n",
        "  <rotatableBonds>11</rotatableBonds>\n",
        "  <alogp>6.04</alogp>\n",
        "  <preferredCompoundName>LAPATINIB</preferredCompoundName>\n",
        "  <numRo5Violations>2</numRo5Violations>\n",
        "  <species>NEUTRAL</species>\n",
        "  <acdBasicPka>6.34</acdBasicPka>\n",
        "</compound>\n",
        "\n"
       ]
      }
     ],
     "prompt_number": 8
    },
    {
     "cell_type": "markdown",
     "metadata": {},
     "source": [
      "#### Example using URL endpoint\n",
      "\n",
      "As noted above, a URLs may also be used to access the data, and, although the examples here use Python, any other language with a library for executing HTTP requests would do as well."
     ]
    },
    {
     "cell_type": "code",
     "collapsed": false,
     "input": [
      "# Import a Python module to allow URL-based access...\n",
      "\n",
      "import requests\n",
      "\n",
      "# Stem of URL for local version of web services...\n",
      "\n",
      "url_stem = \"http://localhost/chemblws\""
     ],
     "language": "python",
     "metadata": {},
     "outputs": [],
     "prompt_number": 9
    },
    {
     "cell_type": "code",
     "collapsed": false,
     "input": [
      "# Note that, for historical reasons, the URL-based webservices return XML by default, so JSON\n",
      "# must be requested explicity by appending '.json' to the URL.\n",
      "\n",
      "# Get request object...\n",
      "\n",
      "request = requests.get(url_stem + \"/compounds/\" + chembl_id + \".json\")\n",
      "\n",
      "# Check reqest status: should be 200 if everything went OK...\n",
      "\n",
      "request.status_code"
     ],
     "language": "python",
     "metadata": {},
     "outputs": [
      {
       "metadata": {},
       "output_type": "pyout",
       "prompt_number": 10,
       "text": [
        "200"
       ]
      }
     ],
     "prompt_number": 10
    },
    {
     "cell_type": "code",
     "collapsed": false,
     "input": [
      "# Get JSON data structure from request object...\n",
      "\n",
      "json = request.json()\n",
      "\n",
      "json"
     ],
     "language": "python",
     "metadata": {},
     "outputs": [
      {
       "metadata": {},
       "output_type": "pyout",
       "prompt_number": 11,
       "text": [
        "{u'compound': {u'acdBasicPka': 6.34,\n",
        "  u'acdLogd': 6.26,\n",
        "  u'acdLogp': 6.3,\n",
        "  u'alogp': 6.04,\n",
        "  u'chemblId': u'CHEMBL554',\n",
        "  u'knownDrug': u'Yes',\n",
        "  u'medChemFriendly': u'Yes',\n",
        "  u'molecularFormula': u'C29H26ClFN4O4S',\n",
        "  u'molecularWeight': 581.06,\n",
        "  u'numRo5Violations': 2,\n",
        "  u'passesRuleOfThree': u'No',\n",
        "  u'preferredCompoundName': u'LAPATINIB',\n",
        "  u'rotatableBonds': 11,\n",
        "  u'smiles': u'CS(=O)(=O)CCNCc1oc(cc1)c2ccc3ncnc(Nc4ccc(OCc5cccc(F)c5)c(Cl)c4)c3c2',\n",
        "  u'species': u'NEUTRAL',\n",
        "  u'stdInChiKey': u'BCFGMOOMADDAQU-UHFFFAOYSA-N',\n",
        "  u'synonyms': u'Tykerb,Lapatinib'}}"
       ]
      }
     ],
     "prompt_number": 11
    },
    {
     "cell_type": "markdown",
     "metadata": {},
     "source": [
      "Note that the JSON data structure obtained from the request object is actually a 'wrapper' around the desired compound record, which must be accessed _via_ the key 'compound' (and is the only item in the wrapper)..."
     ]
    },
    {
     "cell_type": "code",
     "collapsed": false,
     "input": [
      "# Extract compound record...\n",
      "\n",
      "record = json['compound']\n",
      "\n",
      "# This record contains exactly the same data as that obtained via the API above...\n",
      "\n",
      "record"
     ],
     "language": "python",
     "metadata": {},
     "outputs": [
      {
       "metadata": {},
       "output_type": "pyout",
       "prompt_number": 12,
       "text": [
        "{u'acdBasicPka': 6.34,\n",
        " u'acdLogd': 6.26,\n",
        " u'acdLogp': 6.3,\n",
        " u'alogp': 6.04,\n",
        " u'chemblId': u'CHEMBL554',\n",
        " u'knownDrug': u'Yes',\n",
        " u'medChemFriendly': u'Yes',\n",
        " u'molecularFormula': u'C29H26ClFN4O4S',\n",
        " u'molecularWeight': 581.06,\n",
        " u'numRo5Violations': 2,\n",
        " u'passesRuleOfThree': u'No',\n",
        " u'preferredCompoundName': u'LAPATINIB',\n",
        " u'rotatableBonds': 11,\n",
        " u'smiles': u'CS(=O)(=O)CCNCc1oc(cc1)c2ccc3ncnc(Nc4ccc(OCc5cccc(F)c5)c(Cl)c4)c3c2',\n",
        " u'species': u'NEUTRAL',\n",
        " u'stdInChiKey': u'BCFGMOOMADDAQU-UHFFFAOYSA-N',\n",
        " u'synonyms': u'Tykerb,Lapatinib'}"
       ]
      }
     ],
     "prompt_number": 12
    },
    {
     "cell_type": "markdown",
     "metadata": {},
     "source": [
      "Note that the API considerably simplifies matters here. \n",
      "\n",
      "For this reason, although almost all funtionality is also available _via_ URLs, it will only be demonstrated below where there are differences with the API that are worth noting."
     ]
    },
    {
     "cell_type": "markdown",
     "metadata": {},
     "source": [
      "### Batch queries\n",
      "\n",
      "Records for multiple ChEMBL IDs may be requested at once. If the ID is invalid, a numeric HTTP status code will be returned instead of a data record, and these must be removed by the user at present.\n",
      "\n",
      "Note that this is API-only fucntionality at present."
     ]
    },
    {
     "cell_type": "code",
     "collapsed": false,
     "input": [
      "# Generate a list of 300 ChEMBL IDs (N.B. not all will be valid)...\n",
      "\n",
      "chembl_ids = ['CHEMBL{}'.format(x) for x in range(1, 301)]\n",
      "\n",
      "# Get compound records...\n",
      "\n",
      "records = compounds.get(chembl_ids)\n",
      "\n",
      "len(records)"
     ],
     "language": "python",
     "metadata": {},
     "outputs": [
      {
       "metadata": {},
       "output_type": "pyout",
       "prompt_number": 13,
       "text": [
        "300"
       ]
      }
     ],
     "prompt_number": 13
    },
    {
     "cell_type": "code",
     "collapsed": false,
     "input": [
      "# IMPORTANT: we need to remove 'misses' (where an integer HTTP status code such as 404 is returned instead of a compound record)...\n",
      "\n",
      "records = [x for x in records if not isinstance(x, int)]\n",
      "\n",
      "len(records)"
     ],
     "language": "python",
     "metadata": {},
     "outputs": [
      {
       "metadata": {},
       "output_type": "pyout",
       "prompt_number": 14,
       "text": [
        "170"
       ]
      }
     ],
     "prompt_number": 14
    },
    {
     "cell_type": "markdown",
     "metadata": {},
     "source": [
      "### InChIKey\n",
      "\n",
      "Compound records may also be retrieved _via_ InChI Key lookup."
     ]
    },
    {
     "cell_type": "code",
     "collapsed": false,
     "input": [
      "# InChI Key for Lapatinib\n",
      "    \n",
      "inchi_key = \"BCFGMOOMADDAQU-UHFFFAOYSA-N\""
     ],
     "language": "python",
     "metadata": {},
     "outputs": [],
     "prompt_number": 15
    },
    {
     "cell_type": "code",
     "collapsed": false,
     "input": [
      "record = compounds.get(stdinchikey=inchi_key)\n",
      "\n",
      "record"
     ],
     "language": "python",
     "metadata": {},
     "outputs": [
      {
       "metadata": {},
       "output_type": "pyout",
       "prompt_number": 16,
       "text": [
        "{u'acdBasicPka': 6.34,\n",
        " u'acdLogd': 6.26,\n",
        " u'acdLogp': 6.3,\n",
        " u'alogp': 6.04,\n",
        " u'chemblId': u'CHEMBL554',\n",
        " u'knownDrug': u'Yes',\n",
        " u'medChemFriendly': u'Yes',\n",
        " u'molecularFormula': u'C29H26ClFN4O4S',\n",
        " u'molecularWeight': 581.06,\n",
        " u'numRo5Violations': 2,\n",
        " u'passesRuleOfThree': u'No',\n",
        " u'preferredCompoundName': u'LAPATINIB',\n",
        " u'rotatableBonds': 11,\n",
        " u'smiles': u'CS(=O)(=O)CCNCc1oc(cc1)c2ccc3ncnc(Nc4ccc(OCc5cccc(F)c5)c(Cl)c4)c3c2',\n",
        " u'species': u'NEUTRAL',\n",
        " u'stdInChiKey': u'BCFGMOOMADDAQU-UHFFFAOYSA-N',\n",
        " u'synonyms': u'Tykerb,Lapatinib'}"
       ]
      }
     ],
     "prompt_number": 16
    },
    {
     "cell_type": "markdown",
     "metadata": {},
     "source": [
      "### SMILES\n",
      "\n",
      "Compound records may also be retrieved _via_ SMILES lookup.\n",
      "\n",
      "Note that the input SMILES do **not** need to be canonical."
     ]
    },
    {
     "cell_type": "code",
     "collapsed": false,
     "input": [
      "# SMILES for Lapatinib (non-canonical)\n",
      "\n",
      "smiles = \"S(=O)(=O)(C)CCNCc1oc(cc1)c2ccc3ncnc(Nc4ccc(OCc5cccc(F)c5)c(Cl)c4)c3c2\""
     ],
     "language": "python",
     "metadata": {},
     "outputs": [],
     "prompt_number": 17
    },
    {
     "cell_type": "code",
     "collapsed": false,
     "input": [
      "# Remember that RDKit may be used to depict the SMILES in IPython very easily (although images can also be requested via the webservices)...\n",
      "\n",
      "Chem.MolFromSmiles(smiles)"
     ],
     "language": "python",
     "metadata": {},
     "outputs": [
      {
       "metadata": {},
       "output_type": "pyout",
       "png": "[encoded data removed]",
       "prompt_number": 18,
       "text": [
        "<rdkit.Chem.rdchem.Mol at 0x48b7050>"
       ]
      }
     ],
     "prompt_number": 18
    },
    {
     "cell_type": "code",
     "collapsed": false,
     "input": [
      "# Get compound record(s): see note below on possible multiplicity...\n",
      "\n",
      "records = compounds.get(smiles=smiles)\n",
      "\n",
      "records"
     ],
     "language": "python",
     "metadata": {},
     "outputs": [
      {
       "metadata": {},
       "output_type": "pyout",
       "prompt_number": 19,
       "text": [
        "[{u'acdAcidicPka': None,\n",
        "  u'acdBasicPka': 6.34,\n",
        "  u'acdLogd': 6.26,\n",
        "  u'acdLogp': 6.3,\n",
        "  u'alogp': 6.04,\n",
        "  u'chemblId': u'CHEMBL554',\n",
        "  u'knownDrug': u'Yes',\n",
        "  u'medChemFriendly': u'Yes',\n",
        "  u'molecularFormula': u'C29H26ClFN4O4S',\n",
        "  u'molecularWeight': 581.06,\n",
        "  u'numRo5Violations': 2,\n",
        "  u'passesRuleOfThree': u'No',\n",
        "  u'preferredCompoundName': u'LAPATINIB',\n",
        "  u'rotatableBonds': 11,\n",
        "  u'smiles': u'CS(=O)(=O)CCNCc1oc(cc1)c2ccc3ncnc(Nc4ccc(OCc5cccc(F)c5)c(Cl)c4)c3c2',\n",
        "  u'species': u'NEUTRAL',\n",
        "  u'stdInChiKey': u'BCFGMOOMADDAQU-UHFFFAOYSA-N',\n",
        "  u'synonyms': u'Tykerb,Lapatinib'}]"
       ]
      }
     ],
     "prompt_number": 19
    },
    {
     "cell_type": "markdown",
     "metadata": {},
     "source": [
      "#### A note on SMILES lookups\n",
      "\n",
      "Unlike with the ChEMBL ID or InChI Key lookups, it is possible to retrieve multiple records when a SMILES is used for the lookup (_i.e._ it is potentially one-to-many instead of one-to-one as the ID lookups are).\n",
      "\n",
      "This is due to the fact that stereochemical matching is not currently enabled in myChEML. As Lapatinib contains no chiral (or prochiral) centres, this is not an issue, and only a single record is returned.\n",
      "\n",
      "However, an example of a SMILES (for the statin drug Atorvastatin) where multiple records are returned is shown below..."
     ]
    },
    {
     "cell_type": "code",
     "collapsed": false,
     "input": [
      "# Atorvastatin...\n",
      "\n",
      "smiles = \"CC(C)c1c(C(=O)Nc2ccccc2)c(c3ccccc3)c(c4ccc(F)cc4)n1CC[C@@H](O)C[C@@H](O)CC(=O)O\"\n",
      "\n",
      "Chem.MolFromSmiles(smiles)"
     ],
     "language": "python",
     "metadata": {},
     "outputs": [
      {
       "metadata": {},
       "output_type": "pyout",
       "png": "[encoded data removed]",
       "prompt_number": 20,
       "text": [
        "<rdkit.Chem.rdchem.Mol at 0x4ba90c0>"
       ]
      }
     ],
     "prompt_number": 20
    },
    {
     "cell_type": "code",
     "collapsed": false,
     "input": [
      "records = compounds.get(smiles=smiles)\n",
      "\n",
      "for record in records:\n",
      "    \n",
      "    print(\"{:15s} : {}\".format(record[\"chemblId\"], record[\"smiles\"]))"
     ],
     "language": "python",
     "metadata": {},
     "outputs": [
      {
       "output_type": "stream",
       "stream": "stdout",
       "text": [
        "CHEMBL1207181   : CC(C)c1c(C(=O)Nc2ccccc2)c(c3ccccc3)c(c4ccc(F)cc4)n1CCC(O)C[C@@H](O)CC(=O)O\n",
        "CHEMBL1487      : CC(C)c1c(C(=O)Nc2ccccc2)c(c3ccccc3)c(c4ccc(F)cc4)n1CC[C@@H](O)C[C@@H](O)CC(=O)O\n"
       ]
      }
     ],
     "prompt_number": 21
    },
    {
     "cell_type": "markdown",
     "metadata": {},
     "source": [
      "Two structures are returned, CHEMBL1487 (Atorvastatin) and CHEMBL1207181, which is the same structure as Atorvastatin but with one of the two stereocentes undefined."
     ]
    },
    {
     "cell_type": "markdown",
     "metadata": {},
     "source": [
      "This has further consequences if the URL interface is used..."
     ]
    },
    {
     "cell_type": "code",
     "collapsed": false,
     "input": [
      "# Get request object and (assuming HTTP request was succesful) extract JSON data structure...\n",
      "\n",
      "request = requests.get(url_stem + \"/compounds/smiles/\" + smiles + \".json\")\n",
      "\n",
      "json = request.json()\n",
      "\n",
      "json"
     ],
     "language": "python",
     "metadata": {},
     "outputs": [
      {
       "metadata": {},
       "output_type": "pyout",
       "prompt_number": 22,
       "text": [
        "{u'compounds': [{u'acdAcidicPka': 4.29,\n",
        "   u'acdBasicPka': 0.39,\n",
        "   u'acdLogd': 0.74,\n",
        "   u'acdLogp': 3.85,\n",
        "   u'alogp': 5.56,\n",
        "   u'chemblId': u'CHEMBL1207181',\n",
        "   u'knownDrug': u'No',\n",
        "   u'medChemFriendly': u'Yes',\n",
        "   u'molecularFormula': u'C33H35FN2O5',\n",
        "   u'molecularWeight': 558.64,\n",
        "   u'numRo5Violations': 2,\n",
        "   u'passesRuleOfThree': u'No',\n",
        "   u'preferredCompoundName': None,\n",
        "   u'rotatableBonds': 12,\n",
        "   u'smiles': u'CC(C)c1c(C(=O)Nc2ccccc2)c(c3ccccc3)c(c4ccc(F)cc4)n1CCC(O)C[C@@H](O)CC(=O)O',\n",
        "   u'species': u'ACID',\n",
        "   u'stdInChiKey': u'XUKUURHRXDUEBC-SSYAZFEXSA-N',\n",
        "   u'synonyms': None},\n",
        "  {u'acdAcidicPka': 4.29,\n",
        "   u'acdBasicPka': 0.39,\n",
        "   u'acdLogd': 0.74,\n",
        "   u'acdLogp': 3.85,\n",
        "   u'alogp': 5.56,\n",
        "   u'chemblId': u'CHEMBL1487',\n",
        "   u'knownDrug': u'Yes',\n",
        "   u'medChemFriendly': u'Yes',\n",
        "   u'molecularFormula': u'C33H35FN2O5',\n",
        "   u'molecularWeight': 558.64,\n",
        "   u'numRo5Violations': 2,\n",
        "   u'passesRuleOfThree': u'No',\n",
        "   u'preferredCompoundName': u'ATORVASTATIN',\n",
        "   u'rotatableBonds': 12,\n",
        "   u'smiles': u'CC(C)c1c(C(=O)Nc2ccccc2)c(c3ccccc3)c(c4ccc(F)cc4)n1CC[C@@H](O)C[C@@H](O)CC(=O)O',\n",
        "   u'species': u'ACID',\n",
        "   u'stdInChiKey': u'XUKUURHRXDUEBC-KAYWLYCHSA-N',\n",
        "   u'synonyms': u'Lipitor,Atorvastatin'}]}"
       ]
      }
     ],
     "prompt_number": 22
    },
    {
     "cell_type": "markdown",
     "metadata": {},
     "source": [
      "Note that the key used to extract the compound record(s) from the JSON wrapper must now be '**`compounds`**' instead of '**`compound`**', even if only a single record is actually returned (as is the case with Lapatinib).\n",
      "\n",
      "This indicates that the relationship between SMILES and compound records is potentially one-to-many."
     ]
    },
    {
     "cell_type": "code",
     "collapsed": false,
     "input": [
      "# Extract compound records from JSON wrapper...\n",
      "\n",
      "records = json['compounds']\n",
      "\n",
      "records"
     ],
     "language": "python",
     "metadata": {},
     "outputs": [
      {
       "metadata": {},
       "output_type": "pyout",
       "prompt_number": 23,
       "text": [
        "[{u'acdAcidicPka': 4.29,\n",
        "  u'acdBasicPka': 0.39,\n",
        "  u'acdLogd': 0.74,\n",
        "  u'acdLogp': 3.85,\n",
        "  u'alogp': 5.56,\n",
        "  u'chemblId': u'CHEMBL1207181',\n",
        "  u'knownDrug': u'No',\n",
        "  u'medChemFriendly': u'Yes',\n",
        "  u'molecularFormula': u'C33H35FN2O5',\n",
        "  u'molecularWeight': 558.64,\n",
        "  u'numRo5Violations': 2,\n",
        "  u'passesRuleOfThree': u'No',\n",
        "  u'preferredCompoundName': None,\n",
        "  u'rotatableBonds': 12,\n",
        "  u'smiles': u'CC(C)c1c(C(=O)Nc2ccccc2)c(c3ccccc3)c(c4ccc(F)cc4)n1CCC(O)C[C@@H](O)CC(=O)O',\n",
        "  u'species': u'ACID',\n",
        "  u'stdInChiKey': u'XUKUURHRXDUEBC-SSYAZFEXSA-N',\n",
        "  u'synonyms': None},\n",
        " {u'acdAcidicPka': 4.29,\n",
        "  u'acdBasicPka': 0.39,\n",
        "  u'acdLogd': 0.74,\n",
        "  u'acdLogp': 3.85,\n",
        "  u'alogp': 5.56,\n",
        "  u'chemblId': u'CHEMBL1487',\n",
        "  u'knownDrug': u'Yes',\n",
        "  u'medChemFriendly': u'Yes',\n",
        "  u'molecularFormula': u'C33H35FN2O5',\n",
        "  u'molecularWeight': 558.64,\n",
        "  u'numRo5Violations': 2,\n",
        "  u'passesRuleOfThree': u'No',\n",
        "  u'preferredCompoundName': u'ATORVASTATIN',\n",
        "  u'rotatableBonds': 12,\n",
        "  u'smiles': u'CC(C)c1c(C(=O)Nc2ccccc2)c(c3ccccc3)c(c4ccc(F)cc4)n1CC[C@@H](O)C[C@@H](O)CC(=O)O',\n",
        "  u'species': u'ACID',\n",
        "  u'stdInChiKey': u'XUKUURHRXDUEBC-KAYWLYCHSA-N',\n",
        "  u'synonyms': u'Lipitor,Atorvastatin'}]"
       ]
      }
     ],
     "prompt_number": 23
    },
    {
     "cell_type": "markdown",
     "metadata": {},
     "source": [
      "Again this is an example of where the API considerably simplifies access to the data."
     ]
    },
    {
     "cell_type": "markdown",
     "metadata": {},
     "source": [
      "#### A further note on SMILES searches\n",
      "\n",
      "The URL-based example above used the HTTP GET method, which means the SMILES are passed _via_ the URL. This can cause problems where the SMILES inludes the '/', '\\' or '#' characters, for example. In such cases, equivalent POST methods are available, and an example is shown below..."
     ]
    },
    {
     "cell_type": "code",
     "collapsed": false,
     "input": [
      " # Retinol\n",
      "    \n",
      "smiles = \"C\\C(=C/CO)\\C=C\\C=C(/C)\\C=C\\C1=C(C)CCCC1(C)C\"\n",
      "\n",
      "Chem.MolFromSmiles(smiles)"
     ],
     "language": "python",
     "metadata": {},
     "outputs": [
      {
       "metadata": {},
       "output_type": "pyout",
       "png": "[encoded data removed]",
       "prompt_number": 24,
       "text": [
        "<rdkit.Chem.rdchem.Mol at 0x4ba99f0>"
       ]
      }
     ],
     "prompt_number": 24
    },
    {
     "cell_type": "code",
     "collapsed": false,
     "input": [
      "# Perform SMILES Lookup using POST...\n",
      "\n",
      "records = requests.post(url_stem + \"/compounds/smiles.json\", {\"smiles\": smiles}).json()[\"compounds\"]\n",
      "\n",
      "# Note how the stereochemistry was ignored in the lookup...\n",
      "\n",
      "[x[\"smiles\"] for x in records]"
     ],
     "language": "python",
     "metadata": {},
     "outputs": [
      {
       "metadata": {},
       "output_type": "pyout",
       "prompt_number": 25,
       "text": [
        "[u'C\\\\C(=C/CO)\\\\C=C/C=C(\\\\C)/C=C\\\\C1=C(C)CCCC1(C)C',\n",
        " u'C\\\\C(=C\\\\CO)\\\\C=C\\\\C=C(/C)\\\\C=C\\\\C1=C(C)CCCC1(C)C',\n",
        " u'C\\\\C(=C/CO)\\\\C=C\\\\C=C(/C)\\\\C=C\\\\C1=C(C)CCCC1(C)C']"
       ]
      }
     ],
     "prompt_number": 25
    },
    {
     "cell_type": "code",
     "collapsed": false,
     "input": [
      "Draw.MolsToGridImage([Chem.MolFromSmiles(x[\"smiles\"]) for x in records], legends=[x[\"chemblId\"] for x in records], subImgSize=(400, 200))"
     ],
     "language": "python",
     "metadata": {},
     "outputs": [
      {
       "metadata": {},
       "output_type": "pyout",
       "png": "[encoded data removed]",
       "prompt_number": 26,
       "text": [
        "<Image.Image image mode=RGBA size=1200x200 at 0x4CC6E60>"
       ]
      }
     ],
     "prompt_number": 26
    },
    {
     "cell_type": "code",
     "collapsed": false,
     "input": [
      "# The same records are obtained, more straightforwardly, via the API...\n",
      "\n",
      "records = compounds.get(smiles=smiles)\n",
      "\n",
      "[x[\"smiles\"] for x in records]"
     ],
     "language": "python",
     "metadata": {},
     "outputs": [
      {
       "metadata": {},
       "output_type": "pyout",
       "prompt_number": 27,
       "text": [
        "[u'C\\\\C(=C/CO)\\\\C=C/C=C(\\\\C)/C=C\\\\C1=C(C)CCCC1(C)C',\n",
        " u'C\\\\C(=C\\\\CO)\\\\C=C\\\\C=C(/C)\\\\C=C\\\\C1=C(C)CCCC1(C)C',\n",
        " u'C\\\\C(=C/CO)\\\\C=C\\\\C=C(/C)\\\\C=C\\\\C1=C(C)CCCC1(C)C']"
       ]
      }
     ],
     "prompt_number": 27
    },
    {
     "cell_type": "markdown",
     "metadata": {},
     "source": [
      "Note that similar issues can arise when performing SMILES-based substructure and similarity searches (see below) _via_ the URLs, and that the correspondinf POST methods (or the API) should thus be used preferentially."
     ]
    },
    {
     "cell_type": "markdown",
     "metadata": {},
     "source": [
      "### Substructure-searching\n",
      "\n",
      "As well as ID lookups, the web services may also be used to perform substructure searches. Currently, only SMILES-based searches are supported, although this could change if there is is a need for more powerful search abilities (_e.g._ SMARTS searching)."
     ]
    },
    {
     "cell_type": "code",
     "collapsed": false,
     "input": [
      "# Lapatinib contains the following core...\n",
      "\n",
      "query = \"c4ccc(Nc2ncnc3ccc(c1ccco1)cc23)cc4\"\n",
      "\n",
      "Chem.MolFromSmiles(query)"
     ],
     "language": "python",
     "metadata": {},
     "outputs": [
      {
       "metadata": {},
       "output_type": "pyout",
       "png": "[encoded data removed]",
       "prompt_number": 28,
       "text": [
        "<rdkit.Chem.rdchem.Mol at 0x4ba9ad0>"
       ]
      }
     ],
     "prompt_number": 28
    },
    {
     "cell_type": "code",
     "collapsed": false,
     "input": [
      "# Perform substructure search on query...\n",
      "\n",
      "records = compounds.substructure(query)\n",
      "\n",
      "len(records)"
     ],
     "language": "python",
     "metadata": {},
     "outputs": [
      {
       "metadata": {},
       "output_type": "pyout",
       "prompt_number": 29,
       "text": [
        "69"
       ]
      }
     ],
     "prompt_number": 29
    },
    {
     "cell_type": "code",
     "collapsed": false,
     "input": [
      "Draw.MolsToGridImage([Chem.MolFromSmiles(x[\"smiles\"]) for x in records[:6]], legends=[x[\"chemblId\"] for x in records], subImgSize=(400, 200))"
     ],
     "language": "python",
     "metadata": {},
     "outputs": [
      {
       "metadata": {},
       "output_type": "pyout",
       "png": "[encoded data removed]",
       "prompt_number": 30,
       "text": [
        "<Image.Image image mode=RGBA size=1200x400 at 0x4CCDD88>"
       ]
      }
     ],
     "prompt_number": 30
    },
    {
     "cell_type": "markdown",
     "metadata": {},
     "source": [
      "### Similarity searching\n",
      "\n",
      "The web services may also be used to perform SMILES-based similarity searches."
     ]
    },
    {
     "cell_type": "code",
     "collapsed": false,
     "input": [
      "# Lapatinib\n",
      "\n",
      "smiles = \"CS(=O)(=O)CCNCc1oc(cc1)c2ccc3ncnc(Nc4ccc(OCc5cccc(F)c5)c(Cl)c4)c3c2\""
     ],
     "language": "python",
     "metadata": {},
     "outputs": [],
     "prompt_number": 31
    },
    {
     "cell_type": "code",
     "collapsed": false,
     "input": [
      "# Peform similarity search on molecule...\n",
      "\n",
      "# Note that a percentage similarity must be supplied.\n",
      "\n",
      "records = compounds.similar_to(smiles, 90)\n",
      "\n",
      "len(records)"
     ],
     "language": "python",
     "metadata": {},
     "outputs": [
      {
       "metadata": {},
       "output_type": "pyout",
       "prompt_number": 32,
       "text": [
        "10"
       ]
      }
     ],
     "prompt_number": 32
    },
    {
     "cell_type": "code",
     "collapsed": false,
     "input": [
      "Draw.MolsToGridImage([Chem.MolFromSmiles(x[\"smiles\"]) for x in records[:6]], legends=[x[\"chemblId\"] for x in records], subImgSize=(400, 200))"
     ],
     "language": "python",
     "metadata": {},
     "outputs": [
      {
       "metadata": {},
       "output_type": "pyout",
       "png": "[encoded data removed]",
       "prompt_number": 33,
       "text": [
        "<Image.Image image mode=RGBA size=1200x400 at 0x4CCD3F8>"
       ]
      }
     ],
     "prompt_number": 33
    },
    {
     "cell_type": "markdown",
     "metadata": {},
     "source": [
      "### Versions for a parent structure\n",
      "\n",
      "The versions (_e.g._ salt forms) for a parent compound may be retrieved for a ChEMBL ID. Recall that a parent structure is one that has had salt/solvate components removed; it corrsponds to the bioactive moiety and it's use facilitates structure searching, comparison _etc_. A compound without salt/solvate components is it's own parent."
     ]
    },
    {
     "cell_type": "code",
     "collapsed": false,
     "input": [
      "# Lapatinib (a parent)...\n",
      "\n",
      "chembl_id = \"CHEMBL554\" "
     ],
     "language": "python",
     "metadata": {},
     "outputs": [],
     "prompt_number": 34
    },
    {
     "cell_type": "code",
     "collapsed": false,
     "input": [
      "records = compounds.forms(chembl_id)\n",
      "\n",
      "records"
     ],
     "language": "python",
     "metadata": {},
     "outputs": [
      {
       "metadata": {},
       "output_type": "pyout",
       "prompt_number": 35,
       "text": [
        "[{u'chemblId': u'CHEMBL554', u'parent': True},\n",
        " {u'chemblId': u'CHEMBL1076241', u'parent': False},\n",
        " {u'chemblId': u'CHEMBL1201179', u'parent': False}]"
       ]
      }
     ],
     "prompt_number": 35
    },
    {
     "cell_type": "markdown",
     "metadata": {},
     "source": [
      "The ChEMBL ID lookup service may now be used to get the full records for the salt forms..."
     ]
    },
    {
     "cell_type": "code",
     "collapsed": false,
     "input": [
      "for chembl_id in [x[\"chemblId\"] for x in records if not x[\"parent\"]]:\n",
      "    \n",
      "    record = compounds.get(chembl_id)\n",
      "            \n",
      "    print(\"{:10s} : {}\".format(chembl_id, record[\"smiles\"]))"
     ],
     "language": "python",
     "metadata": {},
     "outputs": [
      {
       "output_type": "stream",
       "stream": "stdout",
       "text": [
        "CHEMBL1076241 : Cc1ccc(cc1)S(=O)(=O)O.CS(=O)(=O)CCNCc2oc(cc2)c3ccc4ncnc(Nc5ccc(OCc6cccc(F)c6)c(Cl)c5)c4c3\n",
        "CHEMBL1201179 : O.Cc1ccc(cc1)S(=O)(=O)O.Cc2ccc(cc2)S(=O)(=O)O.CS(=O)(=O)CCNCc3oc(cc3)c4ccc5ncnc(Nc6ccc(OCc7cccc(F)c7)c(Cl)c6)c5c4\n"
       ]
      }
     ],
     "prompt_number": 36
    },
    {
     "cell_type": "markdown",
     "metadata": {},
     "source": [
      "### Drug mechanism(s) of action\n",
      "\n",
      "The mechanisms of action of marketed drugs may be requested.\n",
      "\n",
      "Note that this data may not be recorded for the parent structure, but rather for one of it's versions. For example, the marketed drug, Tykerb, containing the active ingredient Lapatinib (CHEMBL554) is actually the ditosylate monohydrate (CHEMBL1201179)."
     ]
    },
    {
     "cell_type": "code",
     "collapsed": false,
     "input": [
      "# Records obtained above for Lapatinib are re-used here...\n",
      "\n",
      "for chembl_id in (x[\"chemblId\"] for x in records):\n",
      "        \n",
      "    print(\"The recorded mechanisms of action of '{}' are...\".format(chembl_id))\n",
      "        \n",
      "    mechanism_records = compounds.drug_mechanisms(chembl_id)\n",
      "    \n",
      "    if mechanism_records:\n",
      "    \n",
      "        for mech_rec in mechanism_records:\n",
      "    \n",
      "            print(\"{:10s} : {}\".format(mech_rec[\"chemblId\"], mech_rec[\"mechanismOfAction\"]))\n",
      "        \n",
      "    print(\"-\" * 50)"
     ],
     "language": "python",
     "metadata": {},
     "outputs": [
      {
       "output_type": "stream",
       "stream": "stdout",
       "text": [
        "The recorded mechanisms of action of 'CHEMBL554' are...\n",
        "--------------------------------------------------\n",
        "The recorded mechanisms of action of 'CHEMBL1076241' are...\n",
        "--------------------------------------------------\n",
        "The recorded mechanisms of action of 'CHEMBL1201179' are...\n",
        "CHEMBL1824 : Receptor protein-tyrosine kinase erbB-2 inhibitor\n",
        "CHEMBL203  : Epidermal growth factor receptor erbB1 inhibitor\n",
        "--------------------------------------------------\n"
       ]
      }
     ],
     "prompt_number": 37
    },
    {
     "cell_type": "markdown",
     "metadata": {},
     "source": [
      "### Image query\n",
      "\n",
      "The webservice may be used to obtain a PNG image of a compound."
     ]
    },
    {
     "cell_type": "code",
     "collapsed": false,
     "input": [
      "# Lapatinib ditosylate monohydrate (Tykerb)\n",
      "\n",
      "chembl_id = \"CHEMBL1201179\" "
     ],
     "language": "python",
     "metadata": {},
     "outputs": [],
     "prompt_number": 38
    },
    {
     "cell_type": "code",
     "collapsed": false,
     "input": [
      "png = compounds.image(chembl_id)\n",
      "\n",
      "Image(png)"
     ],
     "language": "python",
     "metadata": {},
     "outputs": [
      {
       "metadata": {},
       "output_type": "pyout",
       "png": "[encoded data removed]",
       "prompt_number": 39,
       "text": [
        "<IPython.core.display.Image at 0x499ea50>"
       ]
      }
     ],
     "prompt_number": 39
    },
    {
     "cell_type": "markdown",
     "metadata": {},
     "source": [
      "### Bioactivities\n",
      "\n",
      "All bioactivity records for a compound may be retrived _via_ a compound's ChEMBL ID."
     ]
    },
    {
     "cell_type": "code",
     "collapsed": false,
     "input": [
      "# Lapatinib\n",
      "\n",
      "chembl_id = \"CHEMBL554\" "
     ],
     "language": "python",
     "metadata": {},
     "outputs": [],
     "prompt_number": 40
    },
    {
     "cell_type": "code",
     "collapsed": false,
     "input": [
      "records = compounds.bioactivities(chembl_id)\n",
      "\n",
      "len(records), records[:2]"
     ],
     "language": "python",
     "metadata": {},
     "outputs": [
      {
       "metadata": {},
       "output_type": "pyout",
       "prompt_number": 41,
       "text": [
        "(1575,\n",
        " [{u'activity_comment': u'Unspecified',\n",
        "   u'assay_chemblid': u'CHEMBL674106',\n",
        "   u'assay_description': u'Inhibitory activity against epidermal growth factor receptor',\n",
        "   u'assay_type': u'B',\n",
        "   u'bioactivity_type': u'IC50',\n",
        "   u'ingredient_cmpd_chemblid': u'CHEMBL554',\n",
        "   u'name_in_reference': u'GW-572016',\n",
        "   u'operator': u'=',\n",
        "   u'organism': u'Homo sapiens',\n",
        "   u'parent_cmpd_chemblid': u'CHEMBL554',\n",
        "   u'reference': u'Bioorg. Med. Chem. Lett., (2004) 14:1:111',\n",
        "   u'target_chemblid': u'CHEMBL203',\n",
        "   u'target_confidence': 8,\n",
        "   u'target_name': u'Epidermal growth factor receptor erbB1',\n",
        "   u'units': u'nM',\n",
        "   u'value': u'10'},\n",
        "  {u'activity_comment': u'Unspecified',\n",
        "   u'assay_chemblid': u'CHEMBL682312',\n",
        "   u'assay_description': u'Inhibitory activity against ERBB2 receptor kinase',\n",
        "   u'assay_type': u'B',\n",
        "   u'bioactivity_type': u'IC50',\n",
        "   u'ingredient_cmpd_chemblid': u'CHEMBL554',\n",
        "   u'name_in_reference': u'GW-572016',\n",
        "   u'operator': u'=',\n",
        "   u'organism': u'Homo sapiens',\n",
        "   u'parent_cmpd_chemblid': u'CHEMBL554',\n",
        "   u'reference': u'Bioorg. Med. Chem. Lett., (2004) 14:1:111',\n",
        "   u'target_chemblid': u'CHEMBL1824',\n",
        "   u'target_confidence': 8,\n",
        "   u'target_name': u'Receptor protein-tyrosine kinase erbB-2',\n",
        "   u'units': u'nM',\n",
        "   u'value': u'9'}])"
       ]
      }
     ],
     "prompt_number": 41
    },
    {
     "cell_type": "markdown",
     "metadata": {},
     "source": [
      "## Targets\n",
      "\n",
      "The webservices may also be used to obtain information on targets, _i.e._ the entities, such as proteins, cells or organisms, with which compounds interact."
     ]
    },
    {
     "cell_type": "code",
     "collapsed": false,
     "input": [
      "# Get a target-handler object for API access and check the connection to the database...\n",
      "\n",
      "targets = TargetResource()\n",
      "\n",
      "targets.status()"
     ],
     "language": "python",
     "metadata": {},
     "outputs": [
      {
       "metadata": {},
       "output_type": "pyout",
       "prompt_number": 42,
       "text": [
        "True"
       ]
      }
     ],
     "prompt_number": 42
    },
    {
     "cell_type": "markdown",
     "metadata": {},
     "source": [
      "### All targets\n",
      "\n",
      "A complete list of targets may be requested."
     ]
    },
    {
     "cell_type": "code",
     "collapsed": false,
     "input": [
      "records = targets.get_all()\n",
      "\n",
      "len(records)"
     ],
     "language": "python",
     "metadata": {},
     "outputs": [
      {
       "metadata": {},
       "output_type": "pyout",
       "prompt_number": 43,
       "text": [
        "9414"
       ]
      }
     ],
     "prompt_number": 43
    },
    {
     "cell_type": "code",
     "collapsed": false,
     "input": [
      "records[:4]"
     ],
     "language": "python",
     "metadata": {},
     "outputs": [
      {
       "metadata": {},
       "output_type": "pyout",
       "prompt_number": 44,
       "text": [
        "[{u'bioactivityCount': 1609748,\n",
        "  u'chemblId': u'CHEMBL612545',\n",
        "  u'compoundCount': 567744,\n",
        "  u'description': u'Unchecked',\n",
        "  u'geneNames': u'Unspecified',\n",
        "  u'organism': None,\n",
        "  u'preferredName': u'Unchecked',\n",
        "  u'targetType': u'UNCHECKED'},\n",
        " {u'bioactivityCount': 409807,\n",
        "  u'chemblId': u'CHEMBL364',\n",
        "  u'compoundCount': 251088,\n",
        "  u'description': u'Plasmodium falciparum',\n",
        "  u'geneNames': u'Unspecified',\n",
        "  u'organism': u'Plasmodium falciparum',\n",
        "  u'preferredName': u'Plasmodium falciparum',\n",
        "  u'targetType': u'ORGANISM'},\n",
        " {u'bioactivityCount': 115315,\n",
        "  u'chemblId': u'CHEMBL5391',\n",
        "  u'compoundCount': 114929,\n",
        "  u'description': u'DNA polymerase iota',\n",
        "  u'geneNames': u'Unspecified',\n",
        "  u'organism': u'Homo sapiens',\n",
        "  u'preferredName': u'DNA polymerase iota',\n",
        "  u'proteinAccession': u'Q9UNA4',\n",
        "  u'synonyms': u'RAD30 homolog B,Eta2,POLI,DNA polymerase iota,RAD30B,2.7.7.7',\n",
        "  u'targetType': u'SINGLE PROTEIN'},\n",
        " {u'bioactivityCount': 107912,\n",
        "  u'chemblId': u'CHEMBL1784',\n",
        "  u'compoundCount': 105296,\n",
        "  u'description': u'Glucagon-like peptide 1 receptor',\n",
        "  u'geneNames': u'Unspecified',\n",
        "  u'organism': u'Homo sapiens',\n",
        "  u'preferredName': u'Glucagon-like peptide 1 receptor',\n",
        "  u'proteinAccession': u'P43220',\n",
        "  u'synonyms': u'Glucagon-like peptide 1 receptor,GLP-1-R,GLP-1 receptor,GLP1R,GLP-1R',\n",
        "  u'targetType': u'SINGLE PROTEIN'}]"
       ]
      }
     ],
     "prompt_number": 44
    },
    {
     "cell_type": "code",
     "collapsed": false,
     "input": [
      "# Count target types...\n",
      "\n",
      "counts = Counter([x[\"targetType\"] for x in records if x[\"targetType\"]])\n",
      "\n",
      "for targetType, n in sorted(counts.items(), key=itemgetter(1), reverse=True): print(\"{:30s} {:-4d}\".format(targetType, n))"
     ],
     "language": "python",
     "metadata": {},
     "outputs": [
      {
       "output_type": "stream",
       "stream": "stdout",
       "text": [
        "SINGLE PROTEIN                 5598\n",
        "CELL-LINE                      1623\n",
        "ORGANISM                       1380\n",
        "PROTEIN COMPLEX                 209\n",
        "PROTEIN FAMILY                  204\n",
        "TISSUE                          144\n",
        "SELECTIVITY GROUP                96\n",
        "PROTEIN COMPLEX GROUP            43\n",
        "NUCLEIC-ACID                     28\n",
        "UNKNOWN                          18\n",
        "SMALL MOLECULE                   18\n",
        "PROTEIN-PROTEIN INTERACTION      13\n",
        "SUBCELLULAR                       9\n",
        "METAL                             8\n",
        "PROTEIN NUCLEIC-ACID COMPLEX      6\n",
        "MACROMOLECULE                     5\n",
        "OLIGOSACCHARIDE                   4\n",
        "CHIMERIC PROTEIN                  3\n",
        "PHENOTYPE                         2\n",
        "NO TARGET                         1\n",
        "ADMET                             1\n",
        "UNCHECKED                         1\n"
       ]
      }
     ],
     "prompt_number": 45
    },
    {
     "cell_type": "markdown",
     "metadata": {},
     "source": [
      "### UniProt ID\n",
      "\n",
      "Data on single-protein targets may be obtained directly _via_ UniProt ID lookup."
     ]
    },
    {
     "cell_type": "code",
     "collapsed": false,
     "input": [
      "# UniProt ID for erbB-2, a target of Lapatinib\n",
      "\n",
      "uniprot_id = \"P04626\""
     ],
     "language": "python",
     "metadata": {},
     "outputs": [],
     "prompt_number": 46
    },
    {
     "cell_type": "code",
     "collapsed": false,
     "input": [
      "record = targets.get(uniprot=uniprot_id)\n",
      "\n",
      "record"
     ],
     "language": "python",
     "metadata": {},
     "outputs": [
      {
       "metadata": {},
       "output_type": "pyout",
       "prompt_number": 47,
       "text": [
        "{u'bioactivityCount': 5769,\n",
        " u'chemblId': u'CHEMBL1824',\n",
        " u'compoundCount': 3949,\n",
        " u'description': u'Receptor protein-tyrosine kinase erbB-2',\n",
        " u'geneNames': u'Unspecified',\n",
        " u'organism': u'Homo sapiens',\n",
        " u'preferredName': u'Receptor protein-tyrosine kinase erbB-2',\n",
        " u'proteinAccession': u'P04626',\n",
        " u'synonyms': u'Metastatic lymph node gene 19 protein,p185erbB2,Proto-oncogene c-ErbB-2,CD_antigen=CD340,Tyrosine kinase-type cell surface receptor HER2,MLN 19,ERBB2,NEU,Proto-oncogene Neu,HER2 ,2.7.10.1,NGL,MLN19,Receptor tyrosine-protein kinase erbB-2',\n",
        " u'targetType': u'SINGLE PROTEIN'}"
       ]
      }
     ],
     "prompt_number": 47
    },
    {
     "cell_type": "markdown",
     "metadata": {},
     "source": [
      "### ChEMBL ID\n",
      "\n",
      "Data on any target type may be obtained _via_ a lookup of it's ChEMBL ID."
     ]
    },
    {
     "cell_type": "code",
     "collapsed": false,
     "input": [
      " # Receptor protein-tyrosine kinase erbB-2\n",
      "    \n",
      "chembl_id = \"CHEMBL1824\""
     ],
     "language": "python",
     "metadata": {},
     "outputs": [],
     "prompt_number": 48
    },
    {
     "cell_type": "code",
     "collapsed": false,
     "input": [
      "record = targets.get(chembl_id=chembl_id)\n",
      "\n",
      "record"
     ],
     "language": "python",
     "metadata": {},
     "outputs": [
      {
       "metadata": {},
       "output_type": "pyout",
       "prompt_number": 49,
       "text": [
        "{u'bioactivityCount': 5769,\n",
        " u'chemblId': u'CHEMBL1824',\n",
        " u'compoundCount': 3949,\n",
        " u'description': u'Receptor protein-tyrosine kinase erbB-2',\n",
        " u'geneNames': u'Unspecified',\n",
        " u'organism': u'Homo sapiens',\n",
        " u'preferredName': u'Receptor protein-tyrosine kinase erbB-2',\n",
        " u'proteinAccession': u'P04626',\n",
        " u'synonyms': u'NGL,Metastatic lymph node gene 19 protein,p185erbB2,MLN19,NEU,Receptor tyrosine-protein kinase erbB-2,2.7.10.1,ERBB2,Proto-oncogene c-ErbB-2,Proto-oncogene Neu,HER2 ,CD_antigen=CD340,Tyrosine kinase-type cell surface receptor HER2,MLN 19',\n",
        " u'targetType': u'SINGLE PROTEIN'}"
       ]
      }
     ],
     "prompt_number": 49
    },
    {
     "cell_type": "markdown",
     "metadata": {},
     "source": [
      "Remember that all targets have ChEMBL IDs, not just proteins..."
     ]
    },
    {
     "cell_type": "code",
     "collapsed": false,
     "input": [
      "# SK-BR-3, a cell line over-expressing erbB-2\n",
      "\n",
      "chembl_id = \"CHEMBL613834\" "
     ],
     "language": "python",
     "metadata": {},
     "outputs": [],
     "prompt_number": 50
    },
    {
     "cell_type": "code",
     "collapsed": false,
     "input": [
      "record = targets.get(chembl_id=chembl_id)\n",
      "\n",
      "record"
     ],
     "language": "python",
     "metadata": {},
     "outputs": [
      {
       "metadata": {},
       "output_type": "pyout",
       "prompt_number": 51,
       "text": [
        "{u'bioactivityCount': 3393,\n",
        " u'chemblId': u'CHEMBL613834',\n",
        " u'compoundCount': 2574,\n",
        " u'description': u'SK-BR-3',\n",
        " u'geneNames': u'Unspecified',\n",
        " u'organism': u'Homo sapiens',\n",
        " u'preferredName': u'SK-BR-3',\n",
        " u'targetType': u'CELL-LINE'}"
       ]
      }
     ],
     "prompt_number": 51
    },
    {
     "cell_type": "markdown",
     "metadata": {},
     "source": [
      "### Bioactivities\n",
      "\n",
      "All bioactivities for a target may be requested."
     ]
    },
    {
     "cell_type": "code",
     "collapsed": false,
     "input": [
      "# Receptor protein-tyrosine kinase erbB-2\n",
      "\n",
      "chembl_id = \"CHEMBL1824\""
     ],
     "language": "python",
     "metadata": {},
     "outputs": [],
     "prompt_number": 52
    },
    {
     "cell_type": "code",
     "collapsed": false,
     "input": [
      "records = targets.bioactivities(chembl_id)\n",
      "\n",
      "len(records)"
     ],
     "language": "python",
     "metadata": {},
     "outputs": [
      {
       "metadata": {},
       "output_type": "pyout",
       "prompt_number": 53,
       "text": [
        "5769"
       ]
      }
     ],
     "prompt_number": 53
    },
    {
     "cell_type": "code",
     "collapsed": false,
     "input": [
      "# Show assays with most recorded bioactivities...\n",
      "\n",
      "for assay, n in sorted(Counter((x[\"assay_chemblid\"], x[\"assay_description\"]) for x in records).items(), key=itemgetter(1), reverse=True)[:5]:\n",
      "    \n",
      "    print(\"{:-4d} {:14s} {}\".format(n, *assay))"
     ],
     "language": "python",
     "metadata": {},
     "outputs": [
      {
       "output_type": "stream",
       "stream": "stdout",
       "text": [
        "1742 CHEMBL1909205  DRUGMATRIX: Protein Tyrosine Kinase, ERBB2 (HER2) enzyme inhibition (substrate: Poly(Glu:Tyr))\n",
        " 583 CHEMBL1963780  PUBCHEM_BIOASSAY: Navigating the Kinome. (Class of assay: other) Panel member name: ERBB2\n",
        " 369 CHEMBL1962280  GSK_PKIS: ERBB2 mean inhibition at 0.1 uM [Nanosyn]\n",
        " 369 CHEMBL1962281  GSK_PKIS: ERBB2 mean inhibition at 1 uM [Nanosyn]\n",
        "  83 CHEMBL874202   Inhibition of human epidermal growth factor receptor-2 (HER-2) autophosphorylation\n"
       ]
      }
     ],
     "prompt_number": 54
    },
    {
     "cell_type": "markdown",
     "metadata": {},
     "source": [
      "### Approved Drugs\n",
      "\n",
      "The approved drugs for a target may be requested."
     ]
    },
    {
     "cell_type": "code",
     "collapsed": false,
     "input": [
      "# Receptor protein-tyrosine kinase erbB-2\n",
      "\n",
      "chembl_id = \"CHEMBL1824\""
     ],
     "language": "python",
     "metadata": {},
     "outputs": [],
     "prompt_number": 55
    },
    {
     "cell_type": "code",
     "collapsed": false,
     "input": [
      "records = targets.approved_drugs(chembl_id)\n",
      "\n",
      "for record in records:\n",
      "    \n",
      "    print(\"{:10s} : {}\".format(record[\"chemblId\"], record[\"name\"]))\n",
      "    \n",
      "# Note that Lapatinib ditosylate (i.e. Tykerb) is retrieved..."
     ],
     "language": "python",
     "metadata": {},
     "outputs": [
      {
       "output_type": "stream",
       "stream": "stdout",
       "text": [
        "CHEMBL1201585 : TRASTUZUMAB\n",
        "CHEMBL2007641 : PERTUZUMAB\n",
        "CHEMBL1743082 : TRASTUZUMAB EMTANSINE\n",
        "CHEMBL1201179 : LAPATINIB DITOSYLATE\n",
        "CHEMBL2105712 : AFATINIB DIMALEATE\n"
       ]
      }
     ],
     "prompt_number": 56
    },
    {
     "cell_type": "markdown",
     "metadata": {},
     "source": [
      "## Assays\n",
      "\n",
      "Information about assays may also be retrieved by the web services."
     ]
    },
    {
     "cell_type": "code",
     "collapsed": false,
     "input": [
      "# Get a assay-handler object for API access and check the connection to the database...\n",
      "\n",
      "assays = AssayResource()\n",
      "\n",
      "assays.status()"
     ],
     "language": "python",
     "metadata": {},
     "outputs": [
      {
       "metadata": {},
       "output_type": "pyout",
       "prompt_number": 57,
       "text": [
        "True"
       ]
      }
     ],
     "prompt_number": 57
    },
    {
     "cell_type": "markdown",
     "metadata": {},
     "source": [
      "### Assay details\n",
      "\n",
      "Details of an assay may be retrieved _via_ it's ChEMBL ID."
     ]
    },
    {
     "cell_type": "code",
     "collapsed": false,
     "input": [
      "# Inhibitory activity against epidermal growth factor receptor\n",
      "\n",
      "chembl_id = \"CHEMBL674106\""
     ],
     "language": "python",
     "metadata": {},
     "outputs": [],
     "prompt_number": 58
    },
    {
     "cell_type": "code",
     "collapsed": false,
     "input": [
      "record = assays.get(chembl_id=chembl_id)\n",
      "\n",
      "record"
     ],
     "language": "python",
     "metadata": {},
     "outputs": [
      {
       "metadata": {},
       "output_type": "pyout",
       "prompt_number": 59,
       "text": [
        "{u'assayDescription': u'Inhibitory activity against epidermal growth factor receptor',\n",
        " u'assayStrain': u'Unspecified',\n",
        " u'assayType': u'B',\n",
        " u'chemblId': u'CHEMBL674106',\n",
        " u'journal': u'Bioorg. Med. Chem. Lett.',\n",
        " u'numBioactivities': 16}"
       ]
      }
     ],
     "prompt_number": 59
    },
    {
     "cell_type": "markdown",
     "metadata": {},
     "source": [
      "### Bioactivities\n",
      "\n",
      "All bioactivity records for an assay may be requested."
     ]
    },
    {
     "cell_type": "code",
     "collapsed": false,
     "input": [
      "records = assays.bioactivities(chembl_id)\n",
      "\n",
      "len(records), records[:2]"
     ],
     "language": "python",
     "metadata": {},
     "outputs": [
      {
       "metadata": {},
       "output_type": "pyout",
       "prompt_number": 60,
       "text": [
        "(16,\n",
        " [{u'activity_comment': u'Unspecified',\n",
        "   u'assay_chemblid': u'CHEMBL674106',\n",
        "   u'assay_description': u'Inhibitory activity against epidermal growth factor receptor',\n",
        "   u'assay_type': u'B',\n",
        "   u'bioactivity_type': u'IC50',\n",
        "   u'ingredient_cmpd_chemblid': u'CHEMBL14932',\n",
        "   u'name_in_reference': u'4a',\n",
        "   u'operator': u'=',\n",
        "   u'organism': u'Homo sapiens',\n",
        "   u'parent_cmpd_chemblid': u'CHEMBL14932',\n",
        "   u'reference': u'Bioorg. Med. Chem. Lett., (2004) 14:1:111',\n",
        "   u'target_chemblid': u'CHEMBL203',\n",
        "   u'target_confidence': 8,\n",
        "   u'target_name': u'Epidermal growth factor receptor erbB1',\n",
        "   u'units': u'nM',\n",
        "   u'value': u'98'},\n",
        "  {u'activity_comment': u'Unspecified',\n",
        "   u'assay_chemblid': u'CHEMBL674106',\n",
        "   u'assay_description': u'Inhibitory activity against epidermal growth factor receptor',\n",
        "   u'assay_type': u'B',\n",
        "   u'bioactivity_type': u'IC50',\n",
        "   u'ingredient_cmpd_chemblid': u'CHEMBL553',\n",
        "   u'name_in_reference': u'Tarceva',\n",
        "   u'operator': u'=',\n",
        "   u'organism': u'Homo sapiens',\n",
        "   u'parent_cmpd_chemblid': u'CHEMBL553',\n",
        "   u'reference': u'Bioorg. Med. Chem. Lett., (2004) 14:1:111',\n",
        "   u'target_chemblid': u'CHEMBL203',\n",
        "   u'target_confidence': 8,\n",
        "   u'target_name': u'Epidermal growth factor receptor erbB1',\n",
        "   u'units': u'nM',\n",
        "   u'value': u'1'}])"
       ]
      }
     ],
     "prompt_number": 60
    }
   ],
   "metadata": {}
  }
 ]
}