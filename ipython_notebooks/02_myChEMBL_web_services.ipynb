{
 "metadata": {
  "name": "",
  "signature": "sha256:7f09c8a7e0ccd99648936b189769657e8c8cee215e85910029f621e9a1d8891c"
 },
 "nbformat": 3,
 "nbformat_minor": 0,
 "worksheets": [
  {
   "cells": [
    {
     "cell_type": "code",
     "collapsed": false,
     "input": [
      "from chembl_webresource_client import *\n",
      "\n",
      "from lxml import etree\n",
      "import requests\n",
      "from IPython.display import Image\n",
      "from rdkit import Chem\n",
      "import logging"
     ],
     "language": "python",
     "metadata": {},
     "outputs": [],
     "prompt_number": 1
    },
    {
     "cell_type": "markdown",
     "metadata": {},
     "source": [
      "Let's configure our client to use local version of web services. Just delete the cell below, if you want to use the [official version](https://www.ebi.ac.uk/chembl/ws). In that case, you will need internet access."
     ]
    },
    {
     "cell_type": "code",
     "collapsed": false,
     "input": [
      "from chembl_webresource_client.settings import Settings\n",
      "Settings.Instance().WEBSERVICE_DOMAIN = 'localhost'\n",
      "Settings.Instance().WEBSERVICE_PROTOCOL = 'http'\n",
      "\n",
      "#If your VM is slow, you can consider increasing timeout from default 3 seconds, just uncomment line below:\n",
      "#Settings.Instance().TIMEOUT = 120"
     ],
     "language": "python",
     "metadata": {},
     "outputs": [],
     "prompt_number": 2
    },
    {
     "cell_type": "code",
     "collapsed": false,
     "input": [
      "compounds = CompoundResource()\n",
      "\n",
      "compounds.status()"
     ],
     "language": "python",
     "metadata": {},
     "outputs": [
      {
       "metadata": {},
       "output_type": "pyout",
       "prompt_number": 3,
       "text": [
        "True"
       ]
      }
     ],
     "prompt_number": 3
    },
    {
     "cell_type": "markdown",
     "metadata": {},
     "source": [
      "## Retrieve record(s) _via_ identifiers"
     ]
    },
    {
     "cell_type": "code",
     "collapsed": false,
     "input": [
      "# ChEMBL ID (single hit)...\n",
      "\n",
      "c0 = compounds.get(\"CHEMBL554\") # lapatinib\n",
      "\n",
      "c0"
     ],
     "language": "python",
     "metadata": {},
     "outputs": [
      {
       "metadata": {},
       "output_type": "pyout",
       "prompt_number": 4,
       "text": [
        "{u'acdBasicPka': 6.34,\n",
        " u'acdLogd': 6.26,\n",
        " u'acdLogp': 6.3,\n",
        " u'alogp': 6.04,\n",
        " u'chemblId': u'CHEMBL554',\n",
        " u'knownDrug': u'Yes',\n",
        " u'medChemFriendly': u'Yes',\n",
        " u'molecularFormula': u'C29H26ClFN4O4S',\n",
        " u'molecularWeight': 581.06,\n",
        " u'numRo5Violations': 2,\n",
        " u'passesRuleOfThree': u'No',\n",
        " u'preferredCompoundName': u'LAPATINIB',\n",
        " u'rotatableBonds': 11,\n",
        " u'smiles': u'CS(=O)(=O)CCNCc1oc(cc1)c2ccc3ncnc(Nc4ccc(OCc5cccc(F)c5)c(Cl)c4)c3c2',\n",
        " u'species': u'NEUTRAL',\n",
        " u'stdInChiKey': u'BCFGMOOMADDAQU-UHFFFAOYSA-N',\n",
        " u'synonyms': u'Tykerb,Lapatinib'}"
       ]
      }
     ],
     "prompt_number": 4
    },
    {
     "cell_type": "code",
     "collapsed": false,
     "input": [
      "# Structure...\n",
      "\n",
      "Chem.MolFromSmiles(c0[\"smiles\"])"
     ],
     "language": "python",
     "metadata": {},
     "outputs": [
      {
       "metadata": {},
       "output_type": "pyout",
       "prompt_number": 5,
       "text": [
        "<rdkit.Chem.rdchem.Mol at 0x36544b0>"
       ]
      }
     ],
     "prompt_number": 5
    },
    {
     "cell_type": "code",
     "collapsed": false,
     "input": [
      "# As XML...\n",
      "\n",
      "x = compounds.get(\"CHEMBL554\", frmt=\"xml\")\n",
      "r = etree.fromstring(x).getroottree()\n",
      "print(etree.tostring(r, pretty_print=True))\n",
      "print(r.xpath(\"/compound/smiles/text()\")[0])"
     ],
     "language": "python",
     "metadata": {},
     "outputs": [
      {
       "output_type": "stream",
       "stream": "stdout",
       "text": [
        "<compound>\n",
        "  <smiles>CS(=O)(=O)CCNCc1oc(cc1)c2ccc3ncnc(Nc4ccc(OCc5cccc(F)c5)c(Cl)c4)c3c2</smiles>\n",
        "  <chemblId>CHEMBL554</chemblId>\n",
        "  <passesRuleOfThree>No</passesRuleOfThree>\n",
        "  <molecularWeight>581.06</molecularWeight>\n",
        "  <molecularFormula>C29H26ClFN4O4S</molecularFormula>\n",
        "  <acdLogp>6.30</acdLogp>\n",
        "  <knownDrug>Yes</knownDrug>\n",
        "  <stdInChiKey>BCFGMOOMADDAQU-UHFFFAOYSA-N</stdInChiKey>\n",
        "  <acdLogd>6.26</acdLogd>\n",
        "  <synonyms>Tykerb,Lapatinib</synonyms>\n",
        "  <medChemFriendly>Yes</medChemFriendly>\n",
        "  <rotatableBonds>11</rotatableBonds>\n",
        "  <alogp>6.04</alogp>\n",
        "  <preferredCompoundName>LAPATINIB</preferredCompoundName>\n",
        "  <numRo5Violations>2</numRo5Violations>\n",
        "  <species>NEUTRAL</species>\n",
        "  <acdBasicPka>6.34</acdBasicPka>\n",
        "</compound>\n",
        "\n",
        "CS(=O)(=O)CCNCc1oc(cc1)c2ccc3ncnc(Nc4ccc(OCc5cccc(F)c5)c(Cl)c4)c3c2\n"
       ]
      }
     ],
     "prompt_number": 6
    },
    {
     "cell_type": "code",
     "collapsed": false,
     "input": [
      "# Via InChIKey (single hit)...\n",
      "\n",
      "c1 = compounds.get(stdinchikey='BCFGMOOMADDAQU-UHFFFAOYSA-N')\n",
      "\n",
      "c1 == c0"
     ],
     "language": "python",
     "metadata": {},
     "outputs": [
      {
       "metadata": {},
       "output_type": "pyout",
       "prompt_number": 7,
       "text": [
        "True"
       ]
      }
     ],
     "prompt_number": 7
    },
    {
     "cell_type": "code",
     "collapsed": false,
     "input": [
      "# Via SMILES (potentially multiple hits)...\n",
      "\n",
      "smiles = c0[\"smiles\"]\n",
      "\n",
      "c = compounds.get(smiles=smiles)\n",
      "\n",
      "len(c)"
     ],
     "language": "python",
     "metadata": {},
     "outputs": [
      {
       "metadata": {},
       "output_type": "pyout",
       "prompt_number": 10,
       "text": [
        "1"
       ]
      }
     ],
     "prompt_number": 10
    },
    {
     "cell_type": "code",
     "collapsed": false,
     "input": [
      "[(x[\"chemblId\"], x[\"smiles\"]) for x in c]\n",
      "\n",
      "# Second is unstandardised PubChem compound"
     ],
     "language": "python",
     "metadata": {},
     "outputs": [
      {
       "metadata": {},
       "output_type": "pyout",
       "prompt_number": 11,
       "text": [
        "[(u'CHEMBL554',\n",
        "  u'CS(=O)(=O)CCNCc1oc(cc1)c2ccc3ncnc(Nc4ccc(OCc5cccc(F)c5)c(Cl)c4)c3c2')]"
       ]
      }
     ],
     "prompt_number": 11
    },
    {
     "cell_type": "markdown",
     "metadata": {},
     "source": [
      "## Substructure-search (SMILES query)"
     ]
    },
    {
     "cell_type": "code",
     "collapsed": false,
     "input": [
      "query = \"c4ccc(Nc2ncnc3ccc(c1ccco1)cc23)cc4\"\n",
      "\n",
      "Chem.MolFromSmiles(query)"
     ],
     "language": "python",
     "metadata": {},
     "outputs": [
      {
       "metadata": {},
       "output_type": "pyout",
       "prompt_number": 12,
       "text": [
        "<rdkit.Chem.rdchem.Mol at 0x3654a60>"
       ]
      }
     ],
     "prompt_number": 12
    },
    {
     "cell_type": "code",
     "collapsed": false,
     "input": [
      "c = compounds.substructure(\"c4ccc(Nc2ncnc3ccc(c1ccco1)cc23)cc4\")\n",
      "\n",
      "len(c)"
     ],
     "language": "python",
     "metadata": {},
     "outputs": [
      {
       "metadata": {},
       "output_type": "pyout",
       "prompt_number": 15,
       "text": [
        "69"
       ]
      }
     ],
     "prompt_number": 15
    },
    {
     "cell_type": "code",
     "collapsed": false,
     "input": [
      "# Check Lapatinib is found...\n",
      "\n",
      "[x[\"smiles\"] for x in c if x[\"chemblId\"] == 'CHEMBL554'][0]"
     ],
     "language": "python",
     "metadata": {},
     "outputs": [
      {
       "metadata": {},
       "output_type": "pyout",
       "prompt_number": 16,
       "text": [
        "u'CS(=O)(=O)CCNCc1oc(cc1)c2ccc3ncnc(Nc4ccc(OCc5cccc(F)c5)c(Cl)c4)c3c2'"
       ]
      }
     ],
     "prompt_number": 16
    },
    {
     "cell_type": "markdown",
     "metadata": {},
     "source": [
      "## Similarity search (SMILES query)"
     ]
    },
    {
     "cell_type": "code",
     "collapsed": false,
     "input": [
      "smiles = \"CS(=O)(=O)CCNCc1oc(cc1)c2ccc3ncnc(Nc4ccc(OCc5cccc(F)c5)c(Cl)c4)c3c2\""
     ],
     "language": "python",
     "metadata": {},
     "outputs": [],
     "prompt_number": 17
    },
    {
     "cell_type": "code",
     "collapsed": false,
     "input": [
      "c = compounds.similar_to(smiles, 90)\n",
      "\n",
      "c\n",
      "\n",
      "# XXX We should get some hits (see below)"
     ],
     "language": "python",
     "metadata": {},
     "outputs": [
      {
       "metadata": {},
       "output_type": "pyout",
       "prompt_number": 30,
       "text": [
        "[{u'acdAcidicPka': None,\n",
        "  u'acdBasicPka': 6.34,\n",
        "  u'acdLogd': 6.26,\n",
        "  u'acdLogp': 6.3,\n",
        "  u'alogp': 6.04,\n",
        "  u'chemblId': u'CHEMBL554',\n",
        "  u'knownDrug': u'Yes',\n",
        "  u'medChemFriendly': u'Yes',\n",
        "  u'molecularFormula': u'C29H26ClFN4O4S',\n",
        "  u'molecularWeight': 581.06,\n",
        "  u'numRo5Violations': 2,\n",
        "  u'passesRuleOfThree': u'No',\n",
        "  u'preferredCompoundName': u'LAPATINIB',\n",
        "  u'rotatableBonds': 11,\n",
        "  u'similarity': 1.0,\n",
        "  u'smiles': u'CS(=O)(=O)CCNCc1oc(cc1)c2ccc3ncnc(Nc4ccc(OCc5cccc(F)c5)c(Cl)c4)c3c2',\n",
        "  u'species': u'NEUTRAL',\n",
        "  u'stdInChiKey': u'BCFGMOOMADDAQU-UHFFFAOYSA-N',\n",
        "  u'synonyms': u'Lapatinib,Tykerb'},\n",
        " {u'acdAcidicPka': 10.54,\n",
        "  u'acdBasicPka': 6.99,\n",
        "  u'acdLogd': 5.36,\n",
        "  u'acdLogp': 5.5,\n",
        "  u'alogp': 5.22,\n",
        "  u'chemblId': u'CHEMBL3040566',\n",
        "  u'knownDrug': u'No',\n",
        "  u'medChemFriendly': u'Yes',\n",
        "  u'molecularFormula': u'C28H25ClFN5O4S',\n",
        "  u'molecularWeight': 582.05,\n",
        "  u'numRo5Violations': 2,\n",
        "  u'passesRuleOfThree': u'No',\n",
        "  u'preferredCompoundName': None,\n",
        "  u'rotatableBonds': 11,\n",
        "  u'similarity': 0.971014492753623,\n",
        "  u'smiles': u'NS(=O)(=O)CCNCc1oc(cc1)c2ccc3ncnc(Nc4ccc(OCc5cccc(F)c5)c(Cl)c4)c3c2',\n",
        "  u'species': u'NEUTRAL',\n",
        "  u'stdInChiKey': u'ZZKJYWJMKZJTKA-UHFFFAOYSA-N',\n",
        "  u'synonyms': None},\n",
        " {u'acdAcidicPka': None,\n",
        "  u'acdBasicPka': None,\n",
        "  u'acdLogd': None,\n",
        "  u'acdLogp': None,\n",
        "  u'alogp': 4.88,\n",
        "  u'chemblId': u'CHEMBL1475148',\n",
        "  u'knownDrug': u'No',\n",
        "  u'medChemFriendly': u'Yes',\n",
        "  u'molecularFormula': u'C29H26ClFN4O4S',\n",
        "  u'molecularWeight': 581.06,\n",
        "  u'numRo5Violations': 1,\n",
        "  u'passesRuleOfThree': u'No',\n",
        "  u'preferredCompoundName': None,\n",
        "  u'rotatableBonds': 11,\n",
        "  u'similarity': 0.971014492753623,\n",
        "  u'smiles': u'C[S+](=O)([O-])CCNCc1oc(cc1)c2ccc3ncnc(Nc4ccc(OCc5cccc(F)c5)c(Cl)c4)c3c2',\n",
        "  u'species': None,\n",
        "  u'stdInChiKey': u'AFMAWJOZFIKBOB-UHFFFAOYSA-N',\n",
        "  u'synonyms': None},\n",
        " {u'acdAcidicPka': None,\n",
        "  u'acdBasicPka': 6.42,\n",
        "  u'acdLogd': 7.28,\n",
        "  u'acdLogp': 7.32,\n",
        "  u'alogp': 6.91,\n",
        "  u'chemblId': u'CHEMBL383965',\n",
        "  u'knownDrug': u'No',\n",
        "  u'medChemFriendly': u'Yes',\n",
        "  u'molecularFormula': u'C31H30ClFN4O4S',\n",
        "  u'molecularWeight': 609.11,\n",
        "  u'numRo5Violations': 2,\n",
        "  u'passesRuleOfThree': u'No',\n",
        "  u'preferredCompoundName': None,\n",
        "  u'rotatableBonds': 13,\n",
        "  u'similarity': 0.930555555555556,\n",
        "  u'smiles': u'CCCS(=O)(=O)CCNCc1oc(cc1)c2ccc3ncnc(Nc4ccc(OCc5cccc(F)c5)c(Cl)c4)c3c2',\n",
        "  u'species': u'NEUTRAL',\n",
        "  u'stdInChiKey': u'ZZOFSNIYKIWAIB-UHFFFAOYSA-N',\n",
        "  u'synonyms': None},\n",
        " {u'acdAcidicPka': None,\n",
        "  u'acdBasicPka': 6.34,\n",
        "  u'acdLogd': 6.09,\n",
        "  u'acdLogp': 6.13,\n",
        "  u'alogp': 5.84,\n",
        "  u'chemblId': u'CHEMBL380247',\n",
        "  u'knownDrug': u'No',\n",
        "  u'medChemFriendly': u'Yes',\n",
        "  u'molecularFormula': u'C29H27ClN4O4S',\n",
        "  u'molecularWeight': 563.07,\n",
        "  u'numRo5Violations': 2,\n",
        "  u'passesRuleOfThree': u'No',\n",
        "  u'preferredCompoundName': None,\n",
        "  u'rotatableBonds': 11,\n",
        "  u'similarity': 0.928571428571429,\n",
        "  u'smiles': u'CS(=O)(=O)CCNCc1oc(cc1)c2ccc3ncnc(Nc4ccc(OCc5ccccc5)c(Cl)c4)c3c2',\n",
        "  u'species': u'NEUTRAL',\n",
        "  u'stdInChiKey': u'HTIFVTQSFKUCDX-UHFFFAOYSA-N',\n",
        "  u'synonyms': None},\n",
        " {u'acdAcidicPka': None,\n",
        "  u'acdBasicPka': 7.71,\n",
        "  u'acdLogd': 6.85,\n",
        "  u'acdLogp': 7.32,\n",
        "  u'alogp': 7.06,\n",
        "  u'chemblId': u'CHEMBL3040455',\n",
        "  u'knownDrug': u'No',\n",
        "  u'medChemFriendly': u'Yes',\n",
        "  u'molecularFormula': u'C29H26ClFN4O2S',\n",
        "  u'molecularWeight': 549.06,\n",
        "  u'numRo5Violations': 2,\n",
        "  u'passesRuleOfThree': u'No',\n",
        "  u'preferredCompoundName': None,\n",
        "  u'rotatableBonds': 11,\n",
        "  u'similarity': 0.914285714285714,\n",
        "  u'smiles': u'CSCCNCc1oc(cc1)c2ccc3ncnc(Nc4ccc(OCc5cccc(F)c5)c(Cl)c4)c3c2',\n",
        "  u'species': u'NEUTRAL',\n",
        "  u'stdInChiKey': u'SVDARJHLGCNCRG-UHFFFAOYSA-N',\n",
        "  u'synonyms': None},\n",
        " {u'acdAcidicPka': None,\n",
        "  u'acdBasicPka': 6.19,\n",
        "  u'acdLogd': 8.16,\n",
        "  u'acdLogp': 8.19,\n",
        "  u'alogp': 7.05,\n",
        "  u'chemblId': u'CHEMBL3040543',\n",
        "  u'knownDrug': u'No',\n",
        "  u'medChemFriendly': u'Yes',\n",
        "  u'molecularFormula': u'C30H25ClF4N4O4S',\n",
        "  u'molecularWeight': 649.06,\n",
        "  u'numRo5Violations': 2,\n",
        "  u'passesRuleOfThree': u'No',\n",
        "  u'preferredCompoundName': None,\n",
        "  u'rotatableBonds': 13,\n",
        "  u'similarity': 0.905405405405405,\n",
        "  u'smiles': u'Fc1cccc(COc2ccc(Nc3ncnc4ccc(cc34)c5oc(CNCCS(=O)(=O)CC(F)(F)F)cc5)cc2Cl)c1',\n",
        "  u'species': u'NEUTRAL',\n",
        "  u'stdInChiKey': u'VPRLBIZASKQOSZ-UHFFFAOYSA-N',\n",
        "  u'synonyms': None},\n",
        " {u'acdAcidicPka': None,\n",
        "  u'acdBasicPka': 6.49,\n",
        "  u'acdLogd': 7.11,\n",
        "  u'acdLogp': 7.17,\n",
        "  u'alogp': 6.77,\n",
        "  u'chemblId': u'CHEMBL214487',\n",
        "  u'knownDrug': u'No',\n",
        "  u'medChemFriendly': u'Yes',\n",
        "  u'molecularFormula': u'C31H30ClFN4O4S',\n",
        "  u'molecularWeight': 609.11,\n",
        "  u'numRo5Violations': 2,\n",
        "  u'passesRuleOfThree': u'No',\n",
        "  u'preferredCompoundName': None,\n",
        "  u'rotatableBonds': 12,\n",
        "  u'similarity': 0.905405405405405,\n",
        "  u'smiles': u'CC(C)S(=O)(=O)CCNCc1oc(cc1)c2ccc3ncnc(Nc4ccc(OCc5cccc(F)c5)c(Cl)c4)c3c2',\n",
        "  u'species': u'NEUTRAL',\n",
        "  u'stdInChiKey': u'IRPQLCLTIKGBTQ-UHFFFAOYSA-N',\n",
        "  u'synonyms': None},\n",
        " {u'acdAcidicPka': None,\n",
        "  u'acdBasicPka': None,\n",
        "  u'acdLogd': None,\n",
        "  u'acdLogp': None,\n",
        "  u'alogp': 4.67,\n",
        "  u'chemblId': u'CHEMBL1906143',\n",
        "  u'knownDrug': u'No',\n",
        "  u'medChemFriendly': u'Yes',\n",
        "  u'molecularFormula': u'C29H27ClN4O4S',\n",
        "  u'molecularWeight': 563.07,\n",
        "  u'numRo5Violations': 1,\n",
        "  u'passesRuleOfThree': u'No',\n",
        "  u'preferredCompoundName': None,\n",
        "  u'rotatableBonds': 11,\n",
        "  u'similarity': 0.901408450704225,\n",
        "  u'smiles': u'C[S+](=O)([O-])CCNCc1oc(cc1)c2ccc3ncnc(Nc4ccc(OCc5ccccc5)c(Cl)c4)c3c2',\n",
        "  u'species': None,\n",
        "  u'stdInChiKey': u'RWYPYTZBEHIDBP-UHFFFAOYSA-N',\n",
        "  u'synonyms': None},\n",
        " {u'acdAcidicPka': None,\n",
        "  u'acdBasicPka': 8.39,\n",
        "  u'acdLogd': 4.43,\n",
        "  u'acdLogp': 5.44,\n",
        "  u'alogp': 5.95,\n",
        "  u'chemblId': u'CHEMBL3040548',\n",
        "  u'knownDrug': u'No',\n",
        "  u'medChemFriendly': u'Yes',\n",
        "  u'molecularFormula': u'C29H26ClFN4O3S',\n",
        "  u'molecularWeight': 565.06,\n",
        "  u'numRo5Violations': 2,\n",
        "  u'passesRuleOfThree': u'No',\n",
        "  u'preferredCompoundName': None,\n",
        "  u'rotatableBonds': 11,\n",
        "  u'similarity': 0.901408450704225,\n",
        "  u'smiles': u'CS(=O)CCNCc1oc(cc1)c2ccc3ncnc(Nc4ccc(OCc5cccc(F)c5)c(Cl)c4)c3c2',\n",
        "  u'species': u'NEUTRAL',\n",
        "  u'stdInChiKey': u'OAMVGUFHZPRXOM-UHFFFAOYSA-N',\n",
        "  u'synonyms': None}]"
       ]
      }
     ],
     "prompt_number": 30
    },
    {
     "cell_type": "code",
     "collapsed": false,
     "input": [
      "# Try via 'raw' web service instead...\n",
      "\n",
      "r = requests.get(\"https://www.ebi.ac.uk/chemblws/compounds/similarity/{}/{}.json\".format(smiles, 90)).json()\n",
      "\n",
      "len(r['compounds'])"
     ],
     "language": "python",
     "metadata": {},
     "outputs": [
      {
       "metadata": {},
       "output_type": "pyout",
       "prompt_number": 22,
       "text": [
        "21"
       ]
      }
     ],
     "prompt_number": 22
    },
    {
     "cell_type": "markdown",
     "metadata": {},
     "source": [
      "## Batch queries"
     ]
    },
    {
     "cell_type": "code",
     "collapsed": false,
     "input": [
      "# Multiple ChEMBL IDs...\n",
      "\n",
      "c = compounds.get(['CHEMBL{}'.format(x) for x in range(1, 301)])\n",
      "\n",
      "len(c)\n",
      "\n",
      "# XXX The warnings aren't terribly helpful here"
     ],
     "language": "python",
     "metadata": {},
     "outputs": [
      {
       "metadata": {},
       "output_type": "pyout",
       "prompt_number": 23,
       "text": [
        "300"
       ]
      }
     ],
     "prompt_number": 23
    },
    {
     "cell_type": "code",
     "collapsed": false,
     "input": [
      "# Remove 'misses' (i.e. where 404 is returned)...\n",
      "\n",
      "c = [x for x in c if not isinstance(x, int)]\n",
      "\n",
      "len(c)"
     ],
     "language": "python",
     "metadata": {},
     "outputs": [
      {
       "metadata": {},
       "output_type": "pyout",
       "prompt_number": 24,
       "text": [
        "170"
       ]
      }
     ],
     "prompt_number": 24
    },
    {
     "cell_type": "markdown",
     "metadata": {},
     "source": [
      "## Get salts for parent"
     ]
    },
    {
     "cell_type": "code",
     "collapsed": false,
     "input": [
      "cpds = compounds.forms(\"CHEMBL554\")\n",
      "\n",
      "cpds"
     ],
     "language": "python",
     "metadata": {},
     "outputs": [
      {
       "metadata": {},
       "output_type": "pyout",
       "prompt_number": 25,
       "text": [
        "[{u'chemblId': u'CHEMBL554', u'parent': True},\n",
        " {u'chemblId': u'CHEMBL1076241', u'parent': False},\n",
        " {u'chemblId': u'CHEMBL1201179', u'parent': False}]"
       ]
      }
     ],
     "prompt_number": 25
    },
    {
     "cell_type": "code",
     "collapsed": false,
     "input": [
      "for cpd in [x for x in cpds if not x[\"parent\"]]:\n",
      "    \n",
      "    data = compounds.get(cpd[\"chemblId\"])\n",
      "    \n",
      "    if data == 404:\n",
      "        \n",
      "        logging.warn(\"{} downgraded?\".format(cpd[\"chemblId\"]))\n",
      "        \n",
      "        continue\n",
      "        \n",
      "    print(\"{} {}\".format(cpd[\"chemblId\"], data[\"smiles\"]))\n",
      "    \n",
      "# XXX Why is CHEMBL1201183 showing up?"
     ],
     "language": "python",
     "metadata": {},
     "outputs": [
      {
       "output_type": "stream",
       "stream": "stdout",
       "text": [
        "CHEMBL1076241 Cc1ccc(cc1)S(=O)(=O)O.CS(=O)(=O)CCNCc2oc(cc2)c3ccc4ncnc(Nc5ccc(OCc6cccc(F)c6)c(Cl)c5)c4c3\n",
        "CHEMBL1201179 O.Cc1ccc(cc1)S(=O)(=O)O.Cc2ccc(cc2)S(=O)(=O)O.CS(=O)(=O)CCNCc3oc(cc3)c4ccc5ncnc(Nc6ccc(OCc7cccc(F)c7)c(Cl)c6)c5c4\n"
       ]
      }
     ],
     "prompt_number": 26
    },
    {
     "cell_type": "markdown",
     "metadata": {},
     "source": [
      "## Drug mechanism of action"
     ]
    },
    {
     "cell_type": "code",
     "collapsed": false,
     "input": [
      "compounds.drug_mechanisms('CHEMBL1201179')"
     ],
     "language": "python",
     "metadata": {},
     "outputs": [
      {
       "metadata": {},
       "output_type": "pyout",
       "prompt_number": 27,
       "text": [
        "[{u'chemblId': u'CHEMBL1824',\n",
        "  u'mechanismOfAction': u'Receptor protein-tyrosine kinase erbB-2 inhibitor',\n",
        "  u'name': u'Receptor protein-tyrosine kinase erbB-2'},\n",
        " {u'chemblId': u'CHEMBL203',\n",
        "  u'mechanismOfAction': u'Epidermal growth factor receptor erbB1 inhibitor',\n",
        "  u'name': u'Epidermal growth factor receptor erbB1'}]"
       ]
      }
     ],
     "prompt_number": 27
    },
    {
     "cell_type": "markdown",
     "metadata": {},
     "source": [
      "## Image query"
     ]
    },
    {
     "cell_type": "code",
     "collapsed": false,
     "input": [
      "png = compounds.image(\"CHEMBL554\")\n",
      "\n",
      "Image(png)"
     ],
     "language": "python",
     "metadata": {},
     "outputs": [
      {
       "metadata": {},
       "output_type": "pyout",
       "png": "[encoded data removed]",
       "prompt_number": 28,
       "text": [
        "<IPython.core.display.Image at 0x37b5350>"
       ]
      }
     ],
     "prompt_number": 28
    },
    {
     "cell_type": "code",
     "collapsed": false,
     "input": [],
     "language": "python",
     "metadata": {},
     "outputs": []
    }
   ],
   "metadata": {}
  }
 ]
}