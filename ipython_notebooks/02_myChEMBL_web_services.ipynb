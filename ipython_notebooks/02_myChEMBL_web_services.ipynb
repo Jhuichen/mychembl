{
 "metadata": {
  "name": "",
  "signature": "sha256:8b9d29a3907fda460fcb2676e59f602879a6f9e2f550a2861552bb0a3feabe21"
 },
 "nbformat": 3,
 "nbformat_minor": 0,
 "worksheets": [
  {
   "cells": [
    {
     "cell_type": "markdown",
     "metadata": {},
     "source": [
      "# myChEMBL webservices\n",
      "\n",
      "### myChEMBL team, ChEMBL Group, EMBL-EBI."
     ]
    },
    {
     "cell_type": "markdown",
     "metadata": {},
     "source": [
      "## Introduction\n",
      "\n",
      "This notebook will provide some examples of using the **`myChEMBL`** webservices.\n",
      "\n",
      "There are two ways of accessing the webservices: either _via_ the URLs (see the 'ChEMBL Web Services' link on the **`myChEMBL`** LaunchPad), or by using the Python package **`chembl_webresource_client`**.\n",
      "\n",
      "* The direct use of the URL-based interface has the advantage that it is language-agnostic;.\n",
      "\n",
      "\n",
      "* The advantage of using the Python API is that usage is simpler. Note that the **`chembl_webresource_client`** module is aleady installed on the **`myChEMBL`** VM; if you wish to use it on other machines, it can be installed using **`pip`**.\n",
      "\n",
      "Please not that the code below attempts to balance clarity and concision, and is not intended to be a template for production code: error checking, for example, should be much more thorough in practice."
     ]
    },
    {
     "cell_type": "code",
     "collapsed": false,
     "input": [
      "import logging\n",
      "\n",
      "from lxml import etree\n",
      "from formencode.doctest_xml_compare import xml_compare\n",
      "from collections import Counter\n",
      "from operator import itemgetter\n",
      "\n",
      "from IPython.display import Image\n",
      "\n",
      "from rdkit import Chem\n",
      "from rdkit.Chem import Draw \n",
      "from rdkit.Chem.Draw import IPythonConsole"
     ],
     "language": "python",
     "metadata": {},
     "outputs": [],
     "prompt_number": 23
    },
    {
     "cell_type": "code",
     "collapsed": false,
     "input": [
      "# Python modules used for API access...\n",
      "\n",
      "from chembl_webresource_client import *\n",
      "from chembl_webresource_client.settings import Settings"
     ],
     "language": "python",
     "metadata": {},
     "outputs": [],
     "prompt_number": 24
    },
    {
     "cell_type": "markdown",
     "metadata": {},
     "source": [
      "## Configuration and setup"
     ]
    },
    {
     "cell_type": "code",
     "collapsed": false,
     "input": [
      "# By default, the API connects to the main ChEMBL database; set it to use the local version (i.e. myChEMBL) instead...\n",
      "\n",
      "Settings.Instance().WEBSERVICE_DOMAIN = 'localhost'\n",
      "Settings.Instance().WEBSERVICE_PROTOCOL = 'http'\n",
      "\n",
      "#If your VM is slow, you can consider increasing timeout from default 3 seconds, just uncomment line below:\n",
      "Settings.Instance().TIMEOUT = 120"
     ],
     "language": "python",
     "metadata": {},
     "outputs": [],
     "prompt_number": 25
    },
    {
     "cell_type": "markdown",
     "metadata": {},
     "source": [
      "## Compounds\n",
      "\n",
      "Compound records may be retrieved in a number of ways, such as lookup of single compounds using various identifiers, or searching for compounds _via_ substruture or similarity. "
     ]
    },
    {
     "cell_type": "code",
     "collapsed": false,
     "input": [
      "# Get a compound-handler object for API access and check the connection to the database...\n",
      "\n",
      "compounds = CompoundResource()\n",
      "\n",
      "compounds.status()"
     ],
     "language": "python",
     "metadata": {},
     "outputs": [
      {
       "metadata": {},
       "output_type": "pyout",
       "prompt_number": 26,
       "text": [
        "True"
       ]
      }
     ],
     "prompt_number": 26
    },
    {
     "cell_type": "markdown",
     "metadata": {},
     "source": [
      "### ChEMBL ID\n",
      "\n",
      "All entities in the ChEMBL database have a ChEMBL ID. It is a stable identifier designed for straightforward lookup of data."
     ]
    },
    {
     "cell_type": "code",
     "collapsed": false,
     "input": [
      "chembl_id = \"CHEMBL554\" # Lapatinib, the parent (bioactive) component of the anti-cancer drug Tykerb"
     ],
     "language": "python",
     "metadata": {},
     "outputs": [],
     "prompt_number": 27
    },
    {
     "cell_type": "code",
     "collapsed": false,
     "input": [
      "# Get compound record\n",
      "\n",
      "record = compounds.get(chembl_id)\n",
      "\n",
      "record"
     ],
     "language": "python",
     "metadata": {},
     "outputs": [
      {
       "metadata": {},
       "output_type": "pyout",
       "prompt_number": 28,
       "text": [
        "{u'acdBasicPka': 6.34,\n",
        " u'acdLogd': 6.26,\n",
        " u'acdLogp': 6.3,\n",
        " u'alogp': 6.04,\n",
        " u'chemblId': u'CHEMBL554',\n",
        " u'knownDrug': u'Yes',\n",
        " u'medChemFriendly': u'Yes',\n",
        " u'molecularFormula': u'C29H26ClFN4O4S',\n",
        " u'molecularWeight': 581.06,\n",
        " u'numRo5Violations': 2,\n",
        " u'passesRuleOfThree': u'No',\n",
        " u'preferredCompoundName': u'LAPATINIB',\n",
        " u'rotatableBonds': 11,\n",
        " u'smiles': u'CS(=O)(=O)CCNCc1oc(cc1)c2ccc3ncnc(Nc4ccc(OCc5cccc(F)c5)c(Cl)c4)c3c2',\n",
        " u'species': u'NEUTRAL',\n",
        " u'stdInChiKey': u'BCFGMOOMADDAQU-UHFFFAOYSA-N',\n",
        " u'synonyms': u'Tykerb,Lapatinib'}"
       ]
      }
     ],
     "prompt_number": 28
    },
    {
     "cell_type": "code",
     "collapsed": false,
     "input": [
      "# RDKit may be used to depict the SMILES...\n",
      "Chem.MolFromSmiles(record['smiles'])"
     ],
     "language": "python",
     "metadata": {},
     "outputs": [
      {
       "metadata": {},
       "output_type": "pyout",
       "png": "[encoded data removed]",
       "prompt_number": 30,
       "text": [
        "<rdkit.Chem.rdchem.Mol at 0x4094d00>"
       ]
      }
     ],
     "prompt_number": 30
    },
    {
     "cell_type": "code",
     "collapsed": false,
     "input": [
      "# Get compound record in XML format\n",
      "\n",
      "xml = compounds.get(chembl_id, frmt='xml')\n",
      "\n",
      "# The XML must be parsed (e.g. using the lxml.etree module in Python) to extract the data...\n",
      "\n",
      "root = etree.fromstring(xml).getroottree()\n",
      "\n",
      "print etree.tostring(root, pretty_print=True)"
     ],
     "language": "python",
     "metadata": {},
     "outputs": [
      {
       "output_type": "stream",
       "stream": "stdout",
       "text": [
        "<compound>\n",
        "  <smiles>CS(=O)(=O)CCNCc1oc(cc1)c2ccc3ncnc(Nc4ccc(OCc5cccc(F)c5)c(Cl)c4)c3c2</smiles>\n",
        "  <chemblId>CHEMBL554</chemblId>\n",
        "  <passesRuleOfThree>No</passesRuleOfThree>\n",
        "  <molecularWeight>581.06</molecularWeight>\n",
        "  <molecularFormula>C29H26ClFN4O4S</molecularFormula>\n",
        "  <acdLogp>6.30</acdLogp>\n",
        "  <knownDrug>Yes</knownDrug>\n",
        "  <stdInChiKey>BCFGMOOMADDAQU-UHFFFAOYSA-N</stdInChiKey>\n",
        "  <acdLogd>6.26</acdLogd>\n",
        "  <synonyms>Tykerb,Lapatinib</synonyms>\n",
        "  <medChemFriendly>Yes</medChemFriendly>\n",
        "  <rotatableBonds>11</rotatableBonds>\n",
        "  <alogp>6.04</alogp>\n",
        "  <preferredCompoundName>LAPATINIB</preferredCompoundName>\n",
        "  <numRo5Violations>2</numRo5Violations>\n",
        "  <species>NEUTRAL</species>\n",
        "  <acdBasicPka>6.34</acdBasicPka>\n",
        "</compound>\n",
        "\n"
       ]
      }
     ],
     "prompt_number": 33
    },
    {
     "cell_type": "code",
     "collapsed": false,
     "input": [
      "# Get SMILES but following the xpath...\n",
      "\n",
      "smiles = root.xpath(\"/compound/smiles/text()\")[0]\n",
      "\n",
      "smiles"
     ],
     "language": "python",
     "metadata": {},
     "outputs": [
      {
       "metadata": {},
       "output_type": "pyout",
       "prompt_number": 34,
       "text": [
        "'CS(=O)(=O)CCNCc1oc(cc1)c2ccc3ncnc(Nc4ccc(OCc5cccc(F)c5)c(Cl)c4)c3c2'"
       ]
      }
     ],
     "prompt_number": 34
    },
    {
     "cell_type": "markdown",
     "metadata": {},
     "source": [
      "### Batch queries\n",
      "\n",
      "Records for multiple ChEMBL IDs may be requested at once. If the ID is invalid, a numeric HTTP status code will be returned instead of a data record, and these must be removed by the user at present."
     ]
    },
    {
     "cell_type": "code",
     "collapsed": false,
     "input": [
      "records = compounds.get(['CHEMBL{}'.format(x) for x in range(1, 301)])\n",
      "\n",
      "# We need to remove 'misses' (where an integer HTTP status code such as 404 is returned instead of a compound record)...\n",
      "\n",
      "records = [x for x in records if not isinstance(x, int)]\n",
      "\n",
      "len(records)"
     ],
     "language": "python",
     "metadata": {},
     "outputs": [
      {
       "metadata": {},
       "output_type": "pyout",
       "prompt_number": 35,
       "text": [
        "170"
       ]
      }
     ],
     "prompt_number": 35
    },
    {
     "cell_type": "markdown",
     "metadata": {},
     "source": [
      "### InChIKey\n",
      "\n",
      "Compound records may be retrieved _via_ InChI Key lookup."
     ]
    },
    {
     "cell_type": "code",
     "collapsed": false,
     "input": [
      "inchi_key = record[\"stdInChiKey\"] # InChI Key for Lapatinib\n",
      "\n",
      "inchi_key"
     ],
     "language": "python",
     "metadata": {},
     "outputs": [
      {
       "metadata": {},
       "output_type": "pyout",
       "prompt_number": 37,
       "text": [
        "u'BCFGMOOMADDAQU-UHFFFAOYSA-N'"
       ]
      }
     ],
     "prompt_number": 37
    },
    {
     "cell_type": "code",
     "collapsed": false,
     "input": [
      "# Get compound record\n",
      "\n",
      "record = compounds.get(stdinchikey=inchi_key)\n",
      "record[\"preferredCompoundName\"]"
     ],
     "language": "python",
     "metadata": {},
     "outputs": [
      {
       "metadata": {},
       "output_type": "pyout",
       "prompt_number": 38,
       "text": [
        "u'LAPATINIB'"
       ]
      }
     ],
     "prompt_number": 38
    },
    {
     "cell_type": "markdown",
     "metadata": {},
     "source": [
      "### SMILES\n",
      "\n",
      "Compound records may be retrieved _via_ SMILES lookup. Note that the input SMILES do not need to be canonical."
     ]
    },
    {
     "cell_type": "code",
     "collapsed": false,
     "input": [
      "smiles = record[\"smiles\"] # SMILES for Lapatinib\n",
      "\n",
      "smiles"
     ],
     "language": "python",
     "metadata": {},
     "outputs": [
      {
       "metadata": {},
       "output_type": "pyout",
       "prompt_number": 39,
       "text": [
        "u'CS(=O)(=O)CCNCc1oc(cc1)c2ccc3ncnc(Nc4ccc(OCc5cccc(F)c5)c(Cl)c4)c3c2'"
       ]
      }
     ],
     "prompt_number": 39
    },
    {
     "cell_type": "code",
     "collapsed": false,
     "input": [
      "records = compounds.get(smiles=smiles)\n",
      "\n",
      "records"
     ],
     "language": "python",
     "metadata": {},
     "outputs": [
      {
       "metadata": {},
       "output_type": "pyout",
       "prompt_number": 40,
       "text": [
        "[{u'acdAcidicPka': None,\n",
        "  u'acdBasicPka': 6.34,\n",
        "  u'acdLogd': 6.26,\n",
        "  u'acdLogp': 6.3,\n",
        "  u'alogp': 6.04,\n",
        "  u'chemblId': u'CHEMBL554',\n",
        "  u'knownDrug': u'Yes',\n",
        "  u'medChemFriendly': u'Yes',\n",
        "  u'molecularFormula': u'C29H26ClFN4O4S',\n",
        "  u'molecularWeight': 581.06,\n",
        "  u'numRo5Violations': 2,\n",
        "  u'passesRuleOfThree': u'No',\n",
        "  u'preferredCompoundName': u'LAPATINIB',\n",
        "  u'rotatableBonds': 11,\n",
        "  u'smiles': u'CS(=O)(=O)CCNCc1oc(cc1)c2ccc3ncnc(Nc4ccc(OCc5cccc(F)c5)c(Cl)c4)c3c2',\n",
        "  u'species': u'NEUTRAL',\n",
        "  u'stdInChiKey': u'BCFGMOOMADDAQU-UHFFFAOYSA-N',\n",
        "  u'synonyms': u'Tykerb,Lapatinib'}]"
       ]
      }
     ],
     "prompt_number": 40
    },
    {
     "cell_type": "markdown",
     "metadata": {},
     "source": [
      "This behaviour is due to the fact that stereochemical matching is not currently enabled in myChEML. As Lapatinib contains no chiral (or prochiral) centres, this is not an issue (only the single record is returned).\n",
      "\n",
      "However, an example of a SMILES (for the statin drug Atorvastatin) where multiple records are returned is shown below..."
     ]
    },
    {
     "cell_type": "code",
     "collapsed": false,
     "input": [
      "# Atorvastatin...\n",
      "\n",
      "smiles = \"CC(C)c1c(C(=O)Nc2ccccc2)c(c3ccccc3)c(c4ccc(F)cc4)n1CC[C@@H](O)C[C@@H](O)CC(=O)O\" \n",
      "\n",
      "records = compounds.get(smiles=smiles)\n",
      "\n",
      "for record in records:\n",
      "    \n",
      "    print(\"{:15s} : {}\".format(record[\"chemblId\"], record[\"smiles\"]))"
     ],
     "language": "python",
     "metadata": {},
     "outputs": [
      {
       "output_type": "stream",
       "stream": "stdout",
       "text": [
        "CHEMBL1207181   : CC(C)c1c(C(=O)Nc2ccccc2)c(c3ccccc3)c(c4ccc(F)cc4)n1CCC(O)C[C@@H](O)CC(=O)O\n",
        "CHEMBL1487      : CC(C)c1c(C(=O)Nc2ccccc2)c(c3ccccc3)c(c4ccc(F)cc4)n1CC[C@@H](O)C[C@@H](O)CC(=O)O\n"
       ]
      }
     ],
     "prompt_number": 42
    },
    {
     "cell_type": "markdown",
     "metadata": {},
     "source": [
      "Two structures are returned, CHEMBL1487 (Atorvastatin) and CHEMBL1207181, which is the same structure as Atorvastatin but with one of the two stereocentes undefined."
     ]
    },
    {
     "cell_type": "markdown",
     "metadata": {},
     "source": [
      "### Substructure-searching\n",
      "\n",
      "As well as ID lookups, the web services may also be used to perform substructure searches. Currently, only SMILES-based searches are supported, although this could change if there is is a need for more powerful search abilities (_e.g._ SMARTS searching)."
     ]
    },
    {
     "cell_type": "code",
     "collapsed": false,
     "input": [
      "# Lapatinib contains the following core...\n",
      "\n",
      "query = \"c4ccc(Nc2ncnc3ccc(c1ccco1)cc23)cc4\"\n",
      "\n",
      "Chem.MolFromSmiles(query)"
     ],
     "language": "python",
     "metadata": {},
     "outputs": [
      {
       "metadata": {},
       "output_type": "pyout",
       "png": "[encoded data removed]",
       "prompt_number": 43,
       "text": [
        "<rdkit.Chem.rdchem.Mol at 0x34eff30>"
       ]
      }
     ],
     "prompt_number": 43
    },
    {
     "cell_type": "code",
     "collapsed": false,
     "input": [
      "# Substructure search \n",
      "\n",
      "records = compounds.substructure(query)\n",
      "\n",
      "len(records)"
     ],
     "language": "python",
     "metadata": {},
     "outputs": [
      {
       "metadata": {},
       "output_type": "pyout",
       "prompt_number": 44,
       "text": [
        "69"
       ]
      }
     ],
     "prompt_number": 44
    },
    {
     "cell_type": "code",
     "collapsed": false,
     "input": [
      "# Check that Lapatinib was found...\n",
      "\n",
      "any([x[\"preferredCompoundName\"] == 'LAPATINIB' for x in records])"
     ],
     "language": "python",
     "metadata": {},
     "outputs": [
      {
       "metadata": {},
       "output_type": "pyout",
       "prompt_number": 53,
       "text": [
        "True"
       ]
      }
     ],
     "prompt_number": 53
    },
    {
     "cell_type": "markdown",
     "metadata": {},
     "source": [
      "### Similarity searching\n",
      "\n",
      "The web services may also be used to perform SMILES-based similarity searches."
     ]
    },
    {
     "cell_type": "code",
     "collapsed": false,
     "input": [
      "smiles = \"CS(=O)(=O)CCNCc1oc(cc1)c2ccc3ncnc(Nc4ccc(OCc5cccc(F)c5)c(Cl)c4)c3c2\" # Lapatinib"
     ],
     "language": "python",
     "metadata": {},
     "outputs": [],
     "prompt_number": 54
    },
    {
     "cell_type": "code",
     "collapsed": false,
     "input": [
      "# Similarity search \n",
      "\n",
      "# Note that a percentage similarity must be used.\n",
      "\n",
      "records = compounds.similar_to(smiles, 90)\n",
      "\n",
      "len(records)"
     ],
     "language": "python",
     "metadata": {},
     "outputs": [
      {
       "metadata": {},
       "output_type": "pyout",
       "prompt_number": 56,
       "text": [
        "10"
       ]
      }
     ],
     "prompt_number": 56
    },
    {
     "cell_type": "markdown",
     "metadata": {},
     "source": [
      "### Salt forms for parent structure\n",
      "\n",
      "The salt forms for a parent compound may be retrieved for a ChEMBL ID."
     ]
    },
    {
     "cell_type": "code",
     "collapsed": false,
     "input": [
      "chembl_id = \"CHEMBL554\" # Lapatinib, the parent (bioactive) component of the anti-cancer drug Tykerb|"
     ],
     "language": "python",
     "metadata": {},
     "outputs": [],
     "prompt_number": 58
    },
    {
     "cell_type": "code",
     "collapsed": false,
     "input": [
      "# Lookup records\n",
      "\n",
      "records = compounds.forms(chembl_id)\n",
      "\n",
      "records"
     ],
     "language": "python",
     "metadata": {},
     "outputs": [
      {
       "metadata": {},
       "output_type": "pyout",
       "prompt_number": 59,
       "text": [
        "[{u'chemblId': u'CHEMBL554', u'parent': True},\n",
        " {u'chemblId': u'CHEMBL1076241', u'parent': False},\n",
        " {u'chemblId': u'CHEMBL1201179', u'parent': False}]"
       ]
      }
     ],
     "prompt_number": 59
    },
    {
     "cell_type": "markdown",
     "metadata": {},
     "source": [
      "The ChEMBL ID lookup service may now be used to get the full records for the salt forms..."
     ]
    },
    {
     "cell_type": "code",
     "collapsed": false,
     "input": [
      "for chembl_id in [x[\"chemblId\"] for x in records if not x[\"parent\"]]:\n",
      "    record = compounds.get(chembl_id)\n",
      "            \n",
      "    print(\"{:10s} : {}\".format(chembl_id, record[\"smiles\"]))"
     ],
     "language": "python",
     "metadata": {},
     "outputs": [
      {
       "output_type": "stream",
       "stream": "stdout",
       "text": [
        "CHEMBL1076241 : Cc1ccc(cc1)S(=O)(=O)O.CS(=O)(=O)CCNCc2oc(cc2)c3ccc4ncnc(Nc5ccc(OCc6cccc(F)c6)c(Cl)c5)c4c3\n",
        "CHEMBL1201179 : O.Cc1ccc(cc1)S(=O)(=O)O.Cc2ccc(cc2)S(=O)(=O)O.CS(=O)(=O)CCNCc3oc(cc3)c4ccc5ncnc(Nc6ccc(OCc7cccc(F)c7)c(Cl)c6)c5c4\n"
       ]
      }
     ],
     "prompt_number": 60
    },
    {
     "cell_type": "markdown",
     "metadata": {},
     "source": [
      "### Drug mechanism(s) of action\n",
      "\n",
      "Note that this may not be recorded for the parent structure, but rather for one of it's salt forms. For example, the marketed drug, Tykerb, containing the active ingredient Lapatinib (CHEMBL554) is actually the ditosylate monohydrate (CHEMBL1201179)."
     ]
    },
    {
     "cell_type": "code",
     "collapsed": false,
     "input": [
      "for chembl_id, is_parent in ((x[\"chemblId\"], x[\"parent\"]) for x in records):\n",
      "        \n",
      "    print(\"{} is a {}.\".format(chembl_id, \"parent\" if is_parent else \"salt\"))\n",
      "        \n",
      "    mechanism_records = compounds.drug_mechanisms(chembl_id)\n",
      "    \n",
      "    if mechanism_records:\n",
      "    \n",
      "        print(\"The recorded mechanisms of action are...\")\n",
      "    \n",
      "        for mech_rec in mechanism_records:\n",
      "    \n",
      "            print(\"{:10s} : {}\".format(mech_rec[\"chemblId\"], mech_rec[\"mechanismOfAction\"]))\n",
      "        \n",
      "    print(\"-\" * 50)"
     ],
     "language": "python",
     "metadata": {},
     "outputs": [
      {
       "output_type": "stream",
       "stream": "stdout",
       "text": [
        "CHEMBL554 is a parent.\n",
        "--------------------------------------------------\n",
        "CHEMBL1076241 is a salt.\n",
        "--------------------------------------------------\n",
        "CHEMBL1201179 is a salt.\n",
        "The recorded mechanisms of action are...\n",
        "CHEMBL1824 : Receptor protein-tyrosine kinase erbB-2 inhibitor\n",
        "CHEMBL203  : Epidermal growth factor receptor erbB1 inhibitor\n",
        "--------------------------------------------------\n"
       ]
      }
     ],
     "prompt_number": 61
    },
    {
     "cell_type": "markdown",
     "metadata": {},
     "source": [
      "### Image query\n",
      "\n",
      "The webservice may be used to obtain a PNG image of a compound."
     ]
    },
    {
     "cell_type": "code",
     "collapsed": false,
     "input": [
      "chembl_id = \"CHEMBL1201179\" # Lapatinib ditosylate monohydrate (Tykerb)"
     ],
     "language": "python",
     "metadata": {},
     "outputs": [],
     "prompt_number": 62
    },
    {
     "cell_type": "code",
     "collapsed": false,
     "input": [
      "# Lookup records\n",
      "\n",
      "png = compounds.image(chembl_id)\n",
      "\n",
      "Image(png)"
     ],
     "language": "python",
     "metadata": {},
     "outputs": [
      {
       "metadata": {},
       "output_type": "pyout",
       "png": "[encoded data removed]",
       "prompt_number": 63,
       "text": [
        "<IPython.core.display.Image at 0x3a48dd0>"
       ]
      }
     ],
     "prompt_number": 63
    },
    {
     "cell_type": "markdown",
     "metadata": {},
     "source": [
      "### Bioactivities\n",
      "\n",
      "All bioactivity records for a compound may be retrived _via_ a compound's ChEMBL ID."
     ]
    },
    {
     "cell_type": "code",
     "collapsed": false,
     "input": [
      "chembl_id = \"CHEMBL554\" # Lapatinib"
     ],
     "language": "python",
     "metadata": {},
     "outputs": [],
     "prompt_number": 65
    },
    {
     "cell_type": "code",
     "collapsed": false,
     "input": [
      "# Lookup records\n",
      "\n",
      "records = compounds.bioactivities(chembl_id)\n",
      "\n",
      "len(records), records[:2]"
     ],
     "language": "python",
     "metadata": {},
     "outputs": [
      {
       "metadata": {},
       "output_type": "pyout",
       "prompt_number": 66,
       "text": [
        "(1575,\n",
        " [{u'activity_comment': u'Unspecified',\n",
        "   u'assay_chemblid': u'CHEMBL674106',\n",
        "   u'assay_description': u'Inhibitory activity against epidermal growth factor receptor',\n",
        "   u'assay_type': u'B',\n",
        "   u'bioactivity_type': u'IC50',\n",
        "   u'ingredient_cmpd_chemblid': u'CHEMBL554',\n",
        "   u'name_in_reference': u'GW-572016',\n",
        "   u'operator': u'=',\n",
        "   u'organism': u'Homo sapiens',\n",
        "   u'parent_cmpd_chemblid': u'CHEMBL554',\n",
        "   u'reference': u'Bioorg. Med. Chem. Lett., (2004) 14:1:111',\n",
        "   u'target_chemblid': u'CHEMBL203',\n",
        "   u'target_confidence': 8,\n",
        "   u'target_name': u'Epidermal growth factor receptor erbB1',\n",
        "   u'units': u'nM',\n",
        "   u'value': u'10'},\n",
        "  {u'activity_comment': u'Unspecified',\n",
        "   u'assay_chemblid': u'CHEMBL682312',\n",
        "   u'assay_description': u'Inhibitory activity against ERBB2 receptor kinase',\n",
        "   u'assay_type': u'B',\n",
        "   u'bioactivity_type': u'IC50',\n",
        "   u'ingredient_cmpd_chemblid': u'CHEMBL554',\n",
        "   u'name_in_reference': u'GW-572016',\n",
        "   u'operator': u'=',\n",
        "   u'organism': u'Homo sapiens',\n",
        "   u'parent_cmpd_chemblid': u'CHEMBL554',\n",
        "   u'reference': u'Bioorg. Med. Chem. Lett., (2004) 14:1:111',\n",
        "   u'target_chemblid': u'CHEMBL1824',\n",
        "   u'target_confidence': 8,\n",
        "   u'target_name': u'Receptor protein-tyrosine kinase erbB-2',\n",
        "   u'units': u'nM',\n",
        "   u'value': u'9'}])"
       ]
      }
     ],
     "prompt_number": 66
    },
    {
     "cell_type": "markdown",
     "metadata": {},
     "source": [
      "## Targets\n",
      "\n",
      "The webservices may also be used to obtain information on targets, _i.e._ the entities, such as proteins, cells or organisms, with which compounds interact."
     ]
    },
    {
     "cell_type": "code",
     "collapsed": false,
     "input": [
      "# Get a target-handler object for API access and check the connection to the database...\n",
      "\n",
      "targets = TargetResource()\n",
      "\n",
      "targets.status()"
     ],
     "language": "python",
     "metadata": {},
     "outputs": [
      {
       "metadata": {},
       "output_type": "pyout",
       "prompt_number": 67,
       "text": [
        "True"
       ]
      }
     ],
     "prompt_number": 67
    },
    {
     "cell_type": "markdown",
     "metadata": {},
     "source": [
      "### All targets\n",
      "\n",
      "A complete list of targets may be requested."
     ]
    },
    {
     "cell_type": "code",
     "collapsed": false,
     "input": [
      "all_targets = targets.get_all()"
     ],
     "language": "python",
     "metadata": {},
     "outputs": [],
     "prompt_number": 68
    },
    {
     "cell_type": "code",
     "collapsed": false,
     "input": [
      "counts = Counter([x[\"targetType\"] for x in all_targets if x[\"targetType\"]])\n",
      "\n",
      "for targetType, n in sorted(counts.items(), key=itemgetter(1), reverse=True): print(\"{:30s} {:-4d}\".format(targetType, n))"
     ],
     "language": "python",
     "metadata": {},
     "outputs": [
      {
       "output_type": "stream",
       "stream": "stdout",
       "text": [
        "SINGLE PROTEIN                 5598\n",
        "CELL-LINE                      1623\n",
        "ORGANISM                       1380\n",
        "PROTEIN COMPLEX                 209\n",
        "PROTEIN FAMILY                  204\n",
        "TISSUE                          144\n",
        "SELECTIVITY GROUP                96\n",
        "PROTEIN COMPLEX GROUP            43\n",
        "NUCLEIC-ACID                     28\n",
        "UNKNOWN                          18\n",
        "SMALL MOLECULE                   18\n",
        "PROTEIN-PROTEIN INTERACTION      13\n",
        "SUBCELLULAR                       9\n",
        "METAL                             8\n",
        "PROTEIN NUCLEIC-ACID COMPLEX      6\n",
        "MACROMOLECULE                     5\n",
        "OLIGOSACCHARIDE                   4\n",
        "CHIMERIC PROTEIN                  3\n",
        "PHENOTYPE                         2\n",
        "NO TARGET                         1\n",
        "ADMET                             1\n",
        "UNCHECKED                         1\n"
       ]
      }
     ],
     "prompt_number": 69
    },
    {
     "cell_type": "markdown",
     "metadata": {},
     "source": [
      "### UniProt ID\n",
      "\n",
      "Data on single-protein targets may be obtained directly _via_ UniProt ID lookup."
     ]
    },
    {
     "cell_type": "code",
     "collapsed": false,
     "input": [
      "uniprot_id = \"P04626\" # UniProt ID for erbB-2, a traget of Lapatinib"
     ],
     "language": "python",
     "metadata": {},
     "outputs": [],
     "prompt_number": 70
    },
    {
     "cell_type": "code",
     "collapsed": false,
     "input": [
      "# Lookup records\n",
      "\n",
      "record = targets.get(uniprot=uniprot_id)\n",
      "\n",
      "record"
     ],
     "language": "python",
     "metadata": {},
     "outputs": [
      {
       "metadata": {},
       "output_type": "pyout",
       "prompt_number": 71,
       "text": [
        "{u'bioactivityCount': 5769,\n",
        " u'chemblId': u'CHEMBL1824',\n",
        " u'compoundCount': 3949,\n",
        " u'description': u'Receptor protein-tyrosine kinase erbB-2',\n",
        " u'geneNames': u'Unspecified',\n",
        " u'organism': u'Homo sapiens',\n",
        " u'preferredName': u'Receptor protein-tyrosine kinase erbB-2',\n",
        " u'proteinAccession': u'P04626',\n",
        " u'synonyms': u'Metastatic lymph node gene 19 protein,p185erbB2,Proto-oncogene c-ErbB-2,CD_antigen=CD340,Tyrosine kinase-type cell surface receptor HER2,MLN 19,ERBB2,NEU,Proto-oncogene Neu,HER2 ,2.7.10.1,NGL,MLN19,Receptor tyrosine-protein kinase erbB-2',\n",
        " u'targetType': u'SINGLE PROTEIN'}"
       ]
      }
     ],
     "prompt_number": 71
    },
    {
     "cell_type": "markdown",
     "metadata": {},
     "source": [
      "### ChEMBL ID\n",
      "\n",
      "Data on any target type may be obtained _via_ a lookup of it's ChEMBL ID."
     ]
    },
    {
     "cell_type": "code",
     "collapsed": false,
     "input": [
      "chembl_id = 'CHEMBL1824' # Receptor protein-tyrosine kinase erbB-2"
     ],
     "language": "python",
     "metadata": {},
     "outputs": [],
     "prompt_number": 72
    },
    {
     "cell_type": "code",
     "collapsed": false,
     "input": [
      "# Lookup records\n",
      "\n",
      "records = targets.get(chembl_id=chembl_id)\n",
      "\n",
      "records"
     ],
     "language": "python",
     "metadata": {},
     "outputs": [
      {
       "metadata": {},
       "output_type": "pyout",
       "prompt_number": 73,
       "text": [
        "{u'bioactivityCount': 5769,\n",
        " u'chemblId': u'CHEMBL1824',\n",
        " u'compoundCount': 3949,\n",
        " u'description': u'Receptor protein-tyrosine kinase erbB-2',\n",
        " u'geneNames': u'Unspecified',\n",
        " u'organism': u'Homo sapiens',\n",
        " u'preferredName': u'Receptor protein-tyrosine kinase erbB-2',\n",
        " u'proteinAccession': u'P04626',\n",
        " u'synonyms': u'NGL,Metastatic lymph node gene 19 protein,p185erbB2,MLN19,NEU,Receptor tyrosine-protein kinase erbB-2,2.7.10.1,ERBB2,Proto-oncogene c-ErbB-2,Proto-oncogene Neu,HER2 ,CD_antigen=CD340,Tyrosine kinase-type cell surface receptor HER2,MLN 19',\n",
        " u'targetType': u'SINGLE PROTEIN'}"
       ]
      }
     ],
     "prompt_number": 73
    },
    {
     "cell_type": "markdown",
     "metadata": {},
     "source": [
      "Remember that all targets have ChEMBL IDs, not just proteins..."
     ]
    },
    {
     "cell_type": "code",
     "collapsed": false,
     "input": [
      "chembl_id = \"CHEMBL613834\" # SK-BR-3, a cell line over-expressing erbB-2\n",
      "\n",
      "records = targets.get(chembl_id=chembl_id)\n",
      "\n",
      "records"
     ],
     "language": "python",
     "metadata": {},
     "outputs": [
      {
       "metadata": {},
       "output_type": "pyout",
       "prompt_number": 74,
       "text": [
        "{u'bioactivityCount': 3393,\n",
        " u'chemblId': u'CHEMBL613834',\n",
        " u'compoundCount': 2574,\n",
        " u'description': u'SK-BR-3',\n",
        " u'geneNames': u'Unspecified',\n",
        " u'organism': u'Homo sapiens',\n",
        " u'preferredName': u'SK-BR-3',\n",
        " u'targetType': u'CELL-LINE'}"
       ]
      }
     ],
     "prompt_number": 74
    },
    {
     "cell_type": "markdown",
     "metadata": {},
     "source": [
      "### Bioactivities\n",
      "\n",
      "All bioactivities for a target may be requested."
     ]
    },
    {
     "cell_type": "code",
     "collapsed": false,
     "input": [
      "chembl_id = 'CHEMBL1824' # Receptor protein-tyrosine kinase erbB-2"
     ],
     "language": "python",
     "metadata": {},
     "outputs": [],
     "prompt_number": 75
    },
    {
     "cell_type": "code",
     "collapsed": false,
     "input": [
      "records = targets.bioactivities(chembl_id)\n",
      "\n",
      "len(records)"
     ],
     "language": "python",
     "metadata": {},
     "outputs": [
      {
       "metadata": {},
       "output_type": "pyout",
       "prompt_number": 76,
       "text": [
        "5769"
       ]
      }
     ],
     "prompt_number": 76
    },
    {
     "cell_type": "code",
     "collapsed": false,
     "input": [
      "# Show assays with most recorded bioactivities...\n",
      "\n",
      "for assay, n in sorted(Counter((x[\"assay_chemblid\"], x[\"assay_description\"]) for x in records).items(), key=itemgetter(1), reverse=True)[:5]:\n",
      "    \n",
      "    print(\"{:-4d} {:14s} {}\".format(n, *assay))"
     ],
     "language": "python",
     "metadata": {},
     "outputs": [
      {
       "output_type": "stream",
       "stream": "stdout",
       "text": [
        "1742 CHEMBL1909205  DRUGMATRIX: Protein Tyrosine Kinase, ERBB2 (HER2) enzyme inhibition (substrate: Poly(Glu:Tyr))\n",
        " 583 CHEMBL1963780  PUBCHEM_BIOASSAY: Navigating the Kinome. (Class of assay: other) Panel member name: ERBB2\n",
        " 369 CHEMBL1962280  GSK_PKIS: ERBB2 mean inhibition at 0.1 uM [Nanosyn]\n",
        " 369 CHEMBL1962281  GSK_PKIS: ERBB2 mean inhibition at 1 uM [Nanosyn]\n",
        "  83 CHEMBL874202   Inhibition of human epidermal growth factor receptor-2 (HER-2) autophosphorylation\n"
       ]
      }
     ],
     "prompt_number": 77
    },
    {
     "cell_type": "markdown",
     "metadata": {},
     "source": [
      "### Approved Drugs\n",
      "\n",
      "The approved drugs for a target may be requested."
     ]
    },
    {
     "cell_type": "code",
     "collapsed": false,
     "input": [
      "chembl_id = 'CHEMBL1824' # Receptor protein-tyrosine kinase erbB-2"
     ],
     "language": "python",
     "metadata": {},
     "outputs": [],
     "prompt_number": 79
    },
    {
     "cell_type": "code",
     "collapsed": false,
     "input": [
      "records = targets.approved_drugs(chembl_id)\n",
      "\n",
      "for record in records:\n",
      "    \n",
      "    print(\"{:10s} : {}\".format(record[\"chemblId\"], record[\"name\"]))\n",
      "    \n",
      "# Note that Lapatinib ditosylate (i.e. Tykerb) is retrieved..."
     ],
     "language": "python",
     "metadata": {},
     "outputs": [
      {
       "output_type": "stream",
       "stream": "stdout",
       "text": [
        "CHEMBL1201585 : TRASTUZUMAB\n",
        "CHEMBL2007641 : PERTUZUMAB\n",
        "CHEMBL1743082 : TRASTUZUMAB EMTANSINE\n",
        "CHEMBL1201179 : LAPATINIB DITOSYLATE\n",
        "CHEMBL2105712 : AFATINIB DIMALEATE\n"
       ]
      }
     ],
     "prompt_number": 80
    },
    {
     "cell_type": "markdown",
     "metadata": {},
     "source": [
      "## Assays\n",
      "\n",
      "Information about assays may also be retrieved by the web services."
     ]
    },
    {
     "cell_type": "code",
     "collapsed": false,
     "input": [
      "# Get a assay-handler object for API access and check the connection to the database......\n",
      "\n",
      "assays = AssayResource()\n",
      "\n",
      "assays.status()"
     ],
     "language": "python",
     "metadata": {},
     "outputs": [
      {
       "metadata": {},
       "output_type": "pyout",
       "prompt_number": 81,
       "text": [
        "True"
       ]
      }
     ],
     "prompt_number": 81
    },
    {
     "cell_type": "markdown",
     "metadata": {},
     "source": [
      "### Assay details\n",
      "\n",
      "Details of an assay may be retrieved _via_ it's ChEMBL ID."
     ]
    },
    {
     "cell_type": "code",
     "collapsed": false,
     "input": [
      "chembl_id = \"CHEMBL674106\" # Inhibitory activity against epidermal growth factor receptor"
     ],
     "language": "python",
     "metadata": {},
     "outputs": [],
     "prompt_number": 83
    },
    {
     "cell_type": "code",
     "collapsed": false,
     "input": [
      "# Get data\n",
      "\n",
      "record = assays.get(chembl_id=chembl_id)\n",
      "\n",
      "record"
     ],
     "language": "python",
     "metadata": {},
     "outputs": [
      {
       "metadata": {},
       "output_type": "pyout",
       "prompt_number": 84,
       "text": [
        "{u'assayDescription': u'Inhibitory activity against epidermal growth factor receptor',\n",
        " u'assayStrain': u'Unspecified',\n",
        " u'assayType': u'B',\n",
        " u'chemblId': u'CHEMBL674106',\n",
        " u'journal': u'Bioorg. Med. Chem. Lett.',\n",
        " u'numBioactivities': 16}"
       ]
      }
     ],
     "prompt_number": 84
    },
    {
     "cell_type": "markdown",
     "metadata": {},
     "source": [
      "### Bioactivities\n",
      "\n",
      "All bioactivity records for an assay may be requested."
     ]
    },
    {
     "cell_type": "code",
     "collapsed": false,
     "input": [
      "# Get data\n",
      "\n",
      "records = assays.bioactivities(chembl_id)\n",
      "\n",
      "len(records), records[:2]"
     ],
     "language": "python",
     "metadata": {},
     "outputs": [
      {
       "metadata": {},
       "output_type": "pyout",
       "prompt_number": 86,
       "text": [
        "(16,\n",
        " [{u'activity_comment': u'Unspecified',\n",
        "   u'assay_chemblid': u'CHEMBL674106',\n",
        "   u'assay_description': u'Inhibitory activity against epidermal growth factor receptor',\n",
        "   u'assay_type': u'B',\n",
        "   u'bioactivity_type': u'IC50',\n",
        "   u'ingredient_cmpd_chemblid': u'CHEMBL14932',\n",
        "   u'name_in_reference': u'4a',\n",
        "   u'operator': u'=',\n",
        "   u'organism': u'Homo sapiens',\n",
        "   u'parent_cmpd_chemblid': u'CHEMBL14932',\n",
        "   u'reference': u'Bioorg. Med. Chem. Lett., (2004) 14:1:111',\n",
        "   u'target_chemblid': u'CHEMBL203',\n",
        "   u'target_confidence': 8,\n",
        "   u'target_name': u'Epidermal growth factor receptor erbB1',\n",
        "   u'units': u'nM',\n",
        "   u'value': u'98'},\n",
        "  {u'activity_comment': u'Unspecified',\n",
        "   u'assay_chemblid': u'CHEMBL674106',\n",
        "   u'assay_description': u'Inhibitory activity against epidermal growth factor receptor',\n",
        "   u'assay_type': u'B',\n",
        "   u'bioactivity_type': u'IC50',\n",
        "   u'ingredient_cmpd_chemblid': u'CHEMBL553',\n",
        "   u'name_in_reference': u'Tarceva',\n",
        "   u'operator': u'=',\n",
        "   u'organism': u'Homo sapiens',\n",
        "   u'parent_cmpd_chemblid': u'CHEMBL553',\n",
        "   u'reference': u'Bioorg. Med. Chem. Lett., (2004) 14:1:111',\n",
        "   u'target_chemblid': u'CHEMBL203',\n",
        "   u'target_confidence': 8,\n",
        "   u'target_name': u'Epidermal growth factor receptor erbB1',\n",
        "   u'units': u'nM',\n",
        "   u'value': u'1'}])"
       ]
      }
     ],
     "prompt_number": 86
    }
   ],
   "metadata": {}
  }
 ]
}