{
 "metadata": {
  "name": "",
  "signature": "sha256:c9db849d7529fdae23b9017d9119782e826641e73a5ed42b9e73d55d98efdd85"
 },
 "nbformat": 3,
 "nbformat_minor": 0,
 "worksheets": [
  {
   "cells": [
    {
     "cell_type": "heading",
     "level": 1,
     "metadata": {},
     "source": [
      "myChEMBL web services tutorial"
     ]
    },
    {
     "cell_type": "heading",
     "level": 3,
     "metadata": {},
     "source": [
      "myChEMBL team, ChEMBL group, EMBL-EBI."
     ]
    },
    {
     "cell_type": "code",
     "collapsed": false,
     "input": [
      "from chembl_webresource_client import *\n",
      "\n",
      "from lxml import etree\n",
      "import requests\n",
      "from IPython.display import Image\n",
      "from rdkit import Chem\n",
      "from rdkit.Chem.Draw import IPythonConsole\n",
      "import logging\n",
      "\n",
      "import pandas as pd"
     ],
     "language": "python",
     "metadata": {},
     "outputs": [],
     "prompt_number": 1
    },
    {
     "cell_type": "markdown",
     "metadata": {},
     "source": [
      "Let's configure our client to use local version of web services. Just delete the cell below, if you want to use the [official version](https://www.ebi.ac.uk/chembl/ws). In that case, you will need internet access."
     ]
    },
    {
     "cell_type": "code",
     "collapsed": false,
     "input": [
      "from chembl_webresource_client.settings import Settings\n",
      "Settings.Instance().WEBSERVICE_DOMAIN = 'localhost'\n",
      "Settings.Instance().WEBSERVICE_PROTOCOL = 'http'\n",
      "\n",
      "#If your VM is slow, you can consider increasing timeout from default 3 seconds, just uncomment line below:\n",
      "Settings.Instance().TIMEOUT = 120"
     ],
     "language": "python",
     "metadata": {},
     "outputs": [],
     "prompt_number": 2
    },
    {
     "cell_type": "code",
     "collapsed": false,
     "input": [
      "compounds = CompoundResource()\n",
      "\n",
      "compounds.status()"
     ],
     "language": "python",
     "metadata": {},
     "outputs": [
      {
       "metadata": {},
       "output_type": "pyout",
       "prompt_number": 3,
       "text": [
        "True"
       ]
      }
     ],
     "prompt_number": 3
    },
    {
     "cell_type": "markdown",
     "metadata": {},
     "source": [
      "### Retrieve record(s) _via_ identifiers"
     ]
    },
    {
     "cell_type": "code",
     "collapsed": false,
     "input": [
      "# ChEMBL ID (single hit)...\n",
      "c0 = compounds.get(\"CHEMBL554\") # lapatinib"
     ],
     "language": "python",
     "metadata": {},
     "outputs": [],
     "prompt_number": 4
    },
    {
     "cell_type": "code",
     "collapsed": false,
     "input": [
      "c0"
     ],
     "language": "python",
     "metadata": {},
     "outputs": [
      {
       "metadata": {},
       "output_type": "pyout",
       "prompt_number": 5,
       "text": [
        "{u'acdBasicPka': 6.34,\n",
        " u'acdLogd': 6.26,\n",
        " u'acdLogp': 6.3,\n",
        " u'alogp': 6.04,\n",
        " u'chemblId': u'CHEMBL554',\n",
        " u'knownDrug': u'Yes',\n",
        " u'medChemFriendly': u'Yes',\n",
        " u'molecularFormula': u'C29H26ClFN4O4S',\n",
        " u'molecularWeight': 581.06,\n",
        " u'numRo5Violations': 2,\n",
        " u'passesRuleOfThree': u'No',\n",
        " u'preferredCompoundName': u'LAPATINIB',\n",
        " u'rotatableBonds': 11,\n",
        " u'smiles': u'CS(=O)(=O)CCNCc1oc(cc1)c2ccc3ncnc(Nc4ccc(OCc5cccc(F)c5)c(Cl)c4)c3c2',\n",
        " u'species': u'NEUTRAL',\n",
        " u'stdInChiKey': u'BCFGMOOMADDAQU-UHFFFAOYSA-N',\n",
        " u'synonyms': u'Tykerb,Lapatinib'}"
       ]
      }
     ],
     "prompt_number": 5
    },
    {
     "cell_type": "code",
     "collapsed": false,
     "input": [
      "# and as a pandas data frame...\n",
      "pd.DataFrame([c0])"
     ],
     "language": "python",
     "metadata": {},
     "outputs": [
      {
       "html": [
        "<div style=\"max-height:1000px;max-width:1500px;overflow:auto;\">\n",
        "<table border=\"1\" class=\"dataframe\">\n",
        "  <thead>\n",
        "    <tr style=\"text-align: right;\">\n",
        "      <th></th>\n",
        "      <th>acdBasicPka</th>\n",
        "      <th>acdLogd</th>\n",
        "      <th>acdLogp</th>\n",
        "      <th>alogp</th>\n",
        "      <th>chemblId</th>\n",
        "      <th>knownDrug</th>\n",
        "      <th>medChemFriendly</th>\n",
        "      <th>molecularFormula</th>\n",
        "      <th>molecularWeight</th>\n",
        "      <th>numRo5Violations</th>\n",
        "      <th>passesRuleOfThree</th>\n",
        "      <th>preferredCompoundName</th>\n",
        "      <th>rotatableBonds</th>\n",
        "      <th>smiles</th>\n",
        "      <th>species</th>\n",
        "      <th>stdInChiKey</th>\n",
        "      <th>synonyms</th>\n",
        "    </tr>\n",
        "  </thead>\n",
        "  <tbody>\n",
        "    <tr>\n",
        "      <th>0</th>\n",
        "      <td> 6.34</td>\n",
        "      <td> 6.26</td>\n",
        "      <td> 6.3</td>\n",
        "      <td> 6.04</td>\n",
        "      <td> CHEMBL554</td>\n",
        "      <td> Yes</td>\n",
        "      <td> Yes</td>\n",
        "      <td> C29H26ClFN4O4S</td>\n",
        "      <td> 581.06</td>\n",
        "      <td> 2</td>\n",
        "      <td> No</td>\n",
        "      <td> LAPATINIB</td>\n",
        "      <td> 11</td>\n",
        "      <td> CS(=O)(=O)CCNCc1oc(cc1)c2ccc3ncnc(Nc4ccc(OCc5c...</td>\n",
        "      <td> NEUTRAL</td>\n",
        "      <td> BCFGMOOMADDAQU-UHFFFAOYSA-N</td>\n",
        "      <td> Tykerb,Lapatinib</td>\n",
        "    </tr>\n",
        "  </tbody>\n",
        "</table>\n",
        "<p>1 rows \u00d7 17 columns</p>\n",
        "</div>"
       ],
       "metadata": {},
       "output_type": "pyout",
       "prompt_number": 6,
       "text": [
        "   acdBasicPka  acdLogd  acdLogp  alogp   chemblId knownDrug medChemFriendly  \\\n",
        "0         6.34     6.26      6.3   6.04  CHEMBL554       Yes             Yes   \n",
        "\n",
        "  molecularFormula  molecularWeight  numRo5Violations passesRuleOfThree  \\\n",
        "0   C29H26ClFN4O4S           581.06                 2                No   \n",
        "\n",
        "  preferredCompoundName  rotatableBonds  \\\n",
        "0             LAPATINIB              11   \n",
        "\n",
        "                                              smiles  species  \\\n",
        "0  CS(=O)(=O)CCNCc1oc(cc1)c2ccc3ncnc(Nc4ccc(OCc5c...  NEUTRAL   \n",
        "\n",
        "                   stdInChiKey          synonyms  \n",
        "0  BCFGMOOMADDAQU-UHFFFAOYSA-N  Tykerb,Lapatinib  \n",
        "\n",
        "[1 rows x 17 columns]"
       ]
      }
     ],
     "prompt_number": 6
    },
    {
     "cell_type": "code",
     "collapsed": false,
     "input": [
      "# Structure...\n",
      "\n",
      "Chem.MolFromSmiles(c0[\"smiles\"])"
     ],
     "language": "python",
     "metadata": {},
     "outputs": [
      {
       "metadata": {},
       "output_type": "pyout",
       "png": "[encoded data removed]",
       "prompt_number": 7,
       "text": [
        "<rdkit.Chem.rdchem.Mol at 0x3fa4590>"
       ]
      }
     ],
     "prompt_number": 7
    },
    {
     "cell_type": "code",
     "collapsed": false,
     "input": [
      "# As XML...\n",
      "\n",
      "x = compounds.get(\"CHEMBL554\", frmt=\"xml\")\n",
      "r = etree.fromstring(x).getroottree()\n",
      "print(etree.tostring(r, pretty_print=True))\n",
      "print(r.xpath(\"/compound/smiles/text()\")[0])"
     ],
     "language": "python",
     "metadata": {},
     "outputs": [
      {
       "output_type": "stream",
       "stream": "stdout",
       "text": [
        "<compound>\n",
        "  <smiles>CS(=O)(=O)CCNCc1oc(cc1)c2ccc3ncnc(Nc4ccc(OCc5cccc(F)c5)c(Cl)c4)c3c2</smiles>\n",
        "  <chemblId>CHEMBL554</chemblId>\n",
        "  <passesRuleOfThree>No</passesRuleOfThree>\n",
        "  <molecularWeight>581.06</molecularWeight>\n",
        "  <molecularFormula>C29H26ClFN4O4S</molecularFormula>\n",
        "  <acdLogp>6.30</acdLogp>\n",
        "  <knownDrug>Yes</knownDrug>\n",
        "  <stdInChiKey>BCFGMOOMADDAQU-UHFFFAOYSA-N</stdInChiKey>\n",
        "  <acdLogd>6.26</acdLogd>\n",
        "  <synonyms>Tykerb,Lapatinib</synonyms>\n",
        "  <medChemFriendly>Yes</medChemFriendly>\n",
        "  <rotatableBonds>11</rotatableBonds>\n",
        "  <alogp>6.04</alogp>\n",
        "  <preferredCompoundName>LAPATINIB</preferredCompoundName>\n",
        "  <numRo5Violations>2</numRo5Violations>\n",
        "  <species>NEUTRAL</species>\n",
        "  <acdBasicPka>6.34</acdBasicPka>\n",
        "</compound>\n",
        "\n",
        "CS(=O)(=O)CCNCc1oc(cc1)c2ccc3ncnc(Nc4ccc(OCc5cccc(F)c5)c(Cl)c4)c3c2\n"
       ]
      }
     ],
     "prompt_number": 8
    },
    {
     "cell_type": "code",
     "collapsed": false,
     "input": [
      "# Via InChIKey (single hit)...\n",
      "\n",
      "c1 = compounds.get(stdinchikey='BCFGMOOMADDAQU-UHFFFAOYSA-N')\n",
      "\n",
      "c1 == c0"
     ],
     "language": "python",
     "metadata": {},
     "outputs": [
      {
       "metadata": {},
       "output_type": "pyout",
       "prompt_number": 9,
       "text": [
        "True"
       ]
      }
     ],
     "prompt_number": 9
    },
    {
     "cell_type": "code",
     "collapsed": false,
     "input": [
      "# Via SMILES (potentially multiple hits)...\n",
      "\n",
      "smiles = c0[\"smiles\"]\n",
      "\n",
      "c = compounds.get(smiles=smiles)\n",
      "\n",
      "len(c)"
     ],
     "language": "python",
     "metadata": {},
     "outputs": [
      {
       "metadata": {},
       "output_type": "pyout",
       "prompt_number": 10,
       "text": [
        "1"
       ]
      }
     ],
     "prompt_number": 10
    },
    {
     "cell_type": "code",
     "collapsed": false,
     "input": [
      "[(x[\"chemblId\"], x[\"smiles\"]) for x in c]\n",
      "\n",
      "# Second is unstandardised PubChem compound"
     ],
     "language": "python",
     "metadata": {},
     "outputs": [
      {
       "metadata": {},
       "output_type": "pyout",
       "prompt_number": 11,
       "text": [
        "[(u'CHEMBL554',\n",
        "  u'CS(=O)(=O)CCNCc1oc(cc1)c2ccc3ncnc(Nc4ccc(OCc5cccc(F)c5)c(Cl)c4)c3c2')]"
       ]
      }
     ],
     "prompt_number": 11
    },
    {
     "cell_type": "markdown",
     "metadata": {},
     "source": [
      "### Substructure-search (SMILES query)"
     ]
    },
    {
     "cell_type": "code",
     "collapsed": false,
     "input": [
      "query = \"c4ccc(Nc2ncnc3ccc(c1ccco1)cc23)cc4\"\n",
      "\n",
      "Chem.MolFromSmiles(query)"
     ],
     "language": "python",
     "metadata": {},
     "outputs": [
      {
       "metadata": {},
       "output_type": "pyout",
       "png": "[encoded data removed]",
       "prompt_number": 12,
       "text": [
        "<rdkit.Chem.rdchem.Mol at 0x4110de0>"
       ]
      }
     ],
     "prompt_number": 12
    },
    {
     "cell_type": "code",
     "collapsed": false,
     "input": [
      "c = compounds.substructure(\"c4ccc(Nc2ncnc3ccc(c1ccco1)cc23)cc4\")\n",
      "\n",
      "len(c)"
     ],
     "language": "python",
     "metadata": {},
     "outputs": [
      {
       "metadata": {},
       "output_type": "pyout",
       "prompt_number": 13,
       "text": [
        "69"
       ]
      }
     ],
     "prompt_number": 13
    },
    {
     "cell_type": "code",
     "collapsed": false,
     "input": [
      "# Check Lapatinib is found...\n",
      "\n",
      "[x[\"smiles\"] for x in c if x[\"chemblId\"] == 'CHEMBL554'][0]"
     ],
     "language": "python",
     "metadata": {},
     "outputs": [
      {
       "metadata": {},
       "output_type": "pyout",
       "prompt_number": 14,
       "text": [
        "u'CS(=O)(=O)CCNCc1oc(cc1)c2ccc3ncnc(Nc4ccc(OCc5cccc(F)c5)c(Cl)c4)c3c2'"
       ]
      }
     ],
     "prompt_number": 14
    },
    {
     "cell_type": "markdown",
     "metadata": {},
     "source": [
      "### Similarity search (SMILES query)"
     ]
    },
    {
     "cell_type": "code",
     "collapsed": false,
     "input": [
      "smiles = \"CS(=O)(=O)CCNCc1oc(cc1)c2ccc3ncnc(Nc4ccc(OCc5cccc(F)c5)c(Cl)c4)c3c2\""
     ],
     "language": "python",
     "metadata": {},
     "outputs": [],
     "prompt_number": 15
    },
    {
     "cell_type": "code",
     "collapsed": false,
     "input": [
      "c = compounds.similar_to(smiles, 90)\n",
      "\n",
      "c"
     ],
     "language": "python",
     "metadata": {},
     "outputs": [
      {
       "metadata": {},
       "output_type": "pyout",
       "prompt_number": 17,
       "text": [
        "[{u'acdAcidicPka': None,\n",
        "  u'acdBasicPka': 6.34,\n",
        "  u'acdLogd': 6.26,\n",
        "  u'acdLogp': 6.3,\n",
        "  u'alogp': 6.04,\n",
        "  u'chemblId': u'CHEMBL554',\n",
        "  u'knownDrug': u'Yes',\n",
        "  u'medChemFriendly': u'Yes',\n",
        "  u'molecularFormula': u'C29H26ClFN4O4S',\n",
        "  u'molecularWeight': 581.06,\n",
        "  u'numRo5Violations': 2,\n",
        "  u'passesRuleOfThree': u'No',\n",
        "  u'preferredCompoundName': u'LAPATINIB',\n",
        "  u'rotatableBonds': 11,\n",
        "  u'similarity': 1.0,\n",
        "  u'smiles': u'CS(=O)(=O)CCNCc1oc(cc1)c2ccc3ncnc(Nc4ccc(OCc5cccc(F)c5)c(Cl)c4)c3c2',\n",
        "  u'species': u'NEUTRAL',\n",
        "  u'stdInChiKey': u'BCFGMOOMADDAQU-UHFFFAOYSA-N',\n",
        "  u'synonyms': u'Lapatinib,Tykerb'},\n",
        " {u'acdAcidicPka': 10.54,\n",
        "  u'acdBasicPka': 6.99,\n",
        "  u'acdLogd': 5.36,\n",
        "  u'acdLogp': 5.5,\n",
        "  u'alogp': 5.22,\n",
        "  u'chemblId': u'CHEMBL3040566',\n",
        "  u'knownDrug': u'No',\n",
        "  u'medChemFriendly': u'Yes',\n",
        "  u'molecularFormula': u'C28H25ClFN5O4S',\n",
        "  u'molecularWeight': 582.05,\n",
        "  u'numRo5Violations': 2,\n",
        "  u'passesRuleOfThree': u'No',\n",
        "  u'preferredCompoundName': None,\n",
        "  u'rotatableBonds': 11,\n",
        "  u'similarity': 0.971014492753623,\n",
        "  u'smiles': u'NS(=O)(=O)CCNCc1oc(cc1)c2ccc3ncnc(Nc4ccc(OCc5cccc(F)c5)c(Cl)c4)c3c2',\n",
        "  u'species': u'NEUTRAL',\n",
        "  u'stdInChiKey': u'ZZKJYWJMKZJTKA-UHFFFAOYSA-N',\n",
        "  u'synonyms': None},\n",
        " {u'acdAcidicPka': None,\n",
        "  u'acdBasicPka': None,\n",
        "  u'acdLogd': None,\n",
        "  u'acdLogp': None,\n",
        "  u'alogp': 4.88,\n",
        "  u'chemblId': u'CHEMBL1475148',\n",
        "  u'knownDrug': u'No',\n",
        "  u'medChemFriendly': u'Yes',\n",
        "  u'molecularFormula': u'C29H26ClFN4O4S',\n",
        "  u'molecularWeight': 581.06,\n",
        "  u'numRo5Violations': 1,\n",
        "  u'passesRuleOfThree': u'No',\n",
        "  u'preferredCompoundName': None,\n",
        "  u'rotatableBonds': 11,\n",
        "  u'similarity': 0.971014492753623,\n",
        "  u'smiles': u'C[S+](=O)([O-])CCNCc1oc(cc1)c2ccc3ncnc(Nc4ccc(OCc5cccc(F)c5)c(Cl)c4)c3c2',\n",
        "  u'species': None,\n",
        "  u'stdInChiKey': u'AFMAWJOZFIKBOB-UHFFFAOYSA-N',\n",
        "  u'synonyms': None},\n",
        " {u'acdAcidicPka': None,\n",
        "  u'acdBasicPka': 6.42,\n",
        "  u'acdLogd': 7.28,\n",
        "  u'acdLogp': 7.32,\n",
        "  u'alogp': 6.91,\n",
        "  u'chemblId': u'CHEMBL383965',\n",
        "  u'knownDrug': u'No',\n",
        "  u'medChemFriendly': u'Yes',\n",
        "  u'molecularFormula': u'C31H30ClFN4O4S',\n",
        "  u'molecularWeight': 609.11,\n",
        "  u'numRo5Violations': 2,\n",
        "  u'passesRuleOfThree': u'No',\n",
        "  u'preferredCompoundName': None,\n",
        "  u'rotatableBonds': 13,\n",
        "  u'similarity': 0.930555555555556,\n",
        "  u'smiles': u'CCCS(=O)(=O)CCNCc1oc(cc1)c2ccc3ncnc(Nc4ccc(OCc5cccc(F)c5)c(Cl)c4)c3c2',\n",
        "  u'species': u'NEUTRAL',\n",
        "  u'stdInChiKey': u'ZZOFSNIYKIWAIB-UHFFFAOYSA-N',\n",
        "  u'synonyms': None},\n",
        " {u'acdAcidicPka': None,\n",
        "  u'acdBasicPka': 6.34,\n",
        "  u'acdLogd': 6.09,\n",
        "  u'acdLogp': 6.13,\n",
        "  u'alogp': 5.84,\n",
        "  u'chemblId': u'CHEMBL380247',\n",
        "  u'knownDrug': u'No',\n",
        "  u'medChemFriendly': u'Yes',\n",
        "  u'molecularFormula': u'C29H27ClN4O4S',\n",
        "  u'molecularWeight': 563.07,\n",
        "  u'numRo5Violations': 2,\n",
        "  u'passesRuleOfThree': u'No',\n",
        "  u'preferredCompoundName': None,\n",
        "  u'rotatableBonds': 11,\n",
        "  u'similarity': 0.928571428571429,\n",
        "  u'smiles': u'CS(=O)(=O)CCNCc1oc(cc1)c2ccc3ncnc(Nc4ccc(OCc5ccccc5)c(Cl)c4)c3c2',\n",
        "  u'species': u'NEUTRAL',\n",
        "  u'stdInChiKey': u'HTIFVTQSFKUCDX-UHFFFAOYSA-N',\n",
        "  u'synonyms': None},\n",
        " {u'acdAcidicPka': None,\n",
        "  u'acdBasicPka': 7.71,\n",
        "  u'acdLogd': 6.85,\n",
        "  u'acdLogp': 7.32,\n",
        "  u'alogp': 7.06,\n",
        "  u'chemblId': u'CHEMBL3040455',\n",
        "  u'knownDrug': u'No',\n",
        "  u'medChemFriendly': u'Yes',\n",
        "  u'molecularFormula': u'C29H26ClFN4O2S',\n",
        "  u'molecularWeight': 549.06,\n",
        "  u'numRo5Violations': 2,\n",
        "  u'passesRuleOfThree': u'No',\n",
        "  u'preferredCompoundName': None,\n",
        "  u'rotatableBonds': 11,\n",
        "  u'similarity': 0.914285714285714,\n",
        "  u'smiles': u'CSCCNCc1oc(cc1)c2ccc3ncnc(Nc4ccc(OCc5cccc(F)c5)c(Cl)c4)c3c2',\n",
        "  u'species': u'NEUTRAL',\n",
        "  u'stdInChiKey': u'SVDARJHLGCNCRG-UHFFFAOYSA-N',\n",
        "  u'synonyms': None},\n",
        " {u'acdAcidicPka': None,\n",
        "  u'acdBasicPka': 6.19,\n",
        "  u'acdLogd': 8.16,\n",
        "  u'acdLogp': 8.19,\n",
        "  u'alogp': 7.05,\n",
        "  u'chemblId': u'CHEMBL3040543',\n",
        "  u'knownDrug': u'No',\n",
        "  u'medChemFriendly': u'Yes',\n",
        "  u'molecularFormula': u'C30H25ClF4N4O4S',\n",
        "  u'molecularWeight': 649.06,\n",
        "  u'numRo5Violations': 2,\n",
        "  u'passesRuleOfThree': u'No',\n",
        "  u'preferredCompoundName': None,\n",
        "  u'rotatableBonds': 13,\n",
        "  u'similarity': 0.905405405405405,\n",
        "  u'smiles': u'Fc1cccc(COc2ccc(Nc3ncnc4ccc(cc34)c5oc(CNCCS(=O)(=O)CC(F)(F)F)cc5)cc2Cl)c1',\n",
        "  u'species': u'NEUTRAL',\n",
        "  u'stdInChiKey': u'VPRLBIZASKQOSZ-UHFFFAOYSA-N',\n",
        "  u'synonyms': None},\n",
        " {u'acdAcidicPka': None,\n",
        "  u'acdBasicPka': 6.49,\n",
        "  u'acdLogd': 7.11,\n",
        "  u'acdLogp': 7.17,\n",
        "  u'alogp': 6.77,\n",
        "  u'chemblId': u'CHEMBL214487',\n",
        "  u'knownDrug': u'No',\n",
        "  u'medChemFriendly': u'Yes',\n",
        "  u'molecularFormula': u'C31H30ClFN4O4S',\n",
        "  u'molecularWeight': 609.11,\n",
        "  u'numRo5Violations': 2,\n",
        "  u'passesRuleOfThree': u'No',\n",
        "  u'preferredCompoundName': None,\n",
        "  u'rotatableBonds': 12,\n",
        "  u'similarity': 0.905405405405405,\n",
        "  u'smiles': u'CC(C)S(=O)(=O)CCNCc1oc(cc1)c2ccc3ncnc(Nc4ccc(OCc5cccc(F)c5)c(Cl)c4)c3c2',\n",
        "  u'species': u'NEUTRAL',\n",
        "  u'stdInChiKey': u'IRPQLCLTIKGBTQ-UHFFFAOYSA-N',\n",
        "  u'synonyms': None},\n",
        " {u'acdAcidicPka': None,\n",
        "  u'acdBasicPka': None,\n",
        "  u'acdLogd': None,\n",
        "  u'acdLogp': None,\n",
        "  u'alogp': 4.67,\n",
        "  u'chemblId': u'CHEMBL1906143',\n",
        "  u'knownDrug': u'No',\n",
        "  u'medChemFriendly': u'Yes',\n",
        "  u'molecularFormula': u'C29H27ClN4O4S',\n",
        "  u'molecularWeight': 563.07,\n",
        "  u'numRo5Violations': 1,\n",
        "  u'passesRuleOfThree': u'No',\n",
        "  u'preferredCompoundName': None,\n",
        "  u'rotatableBonds': 11,\n",
        "  u'similarity': 0.901408450704225,\n",
        "  u'smiles': u'C[S+](=O)([O-])CCNCc1oc(cc1)c2ccc3ncnc(Nc4ccc(OCc5ccccc5)c(Cl)c4)c3c2',\n",
        "  u'species': None,\n",
        "  u'stdInChiKey': u'RWYPYTZBEHIDBP-UHFFFAOYSA-N',\n",
        "  u'synonyms': None},\n",
        " {u'acdAcidicPka': None,\n",
        "  u'acdBasicPka': 8.39,\n",
        "  u'acdLogd': 4.43,\n",
        "  u'acdLogp': 5.44,\n",
        "  u'alogp': 5.95,\n",
        "  u'chemblId': u'CHEMBL3040548',\n",
        "  u'knownDrug': u'No',\n",
        "  u'medChemFriendly': u'Yes',\n",
        "  u'molecularFormula': u'C29H26ClFN4O3S',\n",
        "  u'molecularWeight': 565.06,\n",
        "  u'numRo5Violations': 2,\n",
        "  u'passesRuleOfThree': u'No',\n",
        "  u'preferredCompoundName': None,\n",
        "  u'rotatableBonds': 11,\n",
        "  u'similarity': 0.901408450704225,\n",
        "  u'smiles': u'CS(=O)CCNCc1oc(cc1)c2ccc3ncnc(Nc4ccc(OCc5cccc(F)c5)c(Cl)c4)c3c2',\n",
        "  u'species': u'NEUTRAL',\n",
        "  u'stdInChiKey': u'OAMVGUFHZPRXOM-UHFFFAOYSA-N',\n",
        "  u'synonyms': None}]"
       ]
      }
     ],
     "prompt_number": 17
    },
    {
     "cell_type": "code",
     "collapsed": false,
     "input": [
      "# and as a pandas data frame...\n",
      "pd.DataFrame(c)"
     ],
     "language": "python",
     "metadata": {},
     "outputs": [
      {
       "html": [
        "<div style=\"max-height:1000px;max-width:1500px;overflow:auto;\">\n",
        "<table border=\"1\" class=\"dataframe\">\n",
        "  <thead>\n",
        "    <tr style=\"text-align: right;\">\n",
        "      <th></th>\n",
        "      <th>acdAcidicPka</th>\n",
        "      <th>acdBasicPka</th>\n",
        "      <th>acdLogd</th>\n",
        "      <th>acdLogp</th>\n",
        "      <th>alogp</th>\n",
        "      <th>chemblId</th>\n",
        "      <th>knownDrug</th>\n",
        "      <th>medChemFriendly</th>\n",
        "      <th>molecularFormula</th>\n",
        "      <th>molecularWeight</th>\n",
        "      <th>numRo5Violations</th>\n",
        "      <th>passesRuleOfThree</th>\n",
        "      <th>preferredCompoundName</th>\n",
        "      <th>rotatableBonds</th>\n",
        "      <th>similarity</th>\n",
        "      <th>smiles</th>\n",
        "      <th>species</th>\n",
        "      <th>stdInChiKey</th>\n",
        "      <th>synonyms</th>\n",
        "    </tr>\n",
        "  </thead>\n",
        "  <tbody>\n",
        "    <tr>\n",
        "      <th>0</th>\n",
        "      <td>   NaN</td>\n",
        "      <td> 6.34</td>\n",
        "      <td> 6.26</td>\n",
        "      <td> 6.30</td>\n",
        "      <td> 6.04</td>\n",
        "      <td>     CHEMBL554</td>\n",
        "      <td> Yes</td>\n",
        "      <td> Yes</td>\n",
        "      <td>  C29H26ClFN4O4S</td>\n",
        "      <td> 581.06</td>\n",
        "      <td> 2</td>\n",
        "      <td> No</td>\n",
        "      <td> LAPATINIB</td>\n",
        "      <td> 11</td>\n",
        "      <td> 1.000000</td>\n",
        "      <td> CS(=O)(=O)CCNCc1oc(cc1)c2ccc3ncnc(Nc4ccc(OCc5c...</td>\n",
        "      <td> NEUTRAL</td>\n",
        "      <td> BCFGMOOMADDAQU-UHFFFAOYSA-N</td>\n",
        "      <td> Lapatinib,Tykerb</td>\n",
        "    </tr>\n",
        "    <tr>\n",
        "      <th>1</th>\n",
        "      <td> 10.54</td>\n",
        "      <td> 6.99</td>\n",
        "      <td> 5.36</td>\n",
        "      <td> 5.50</td>\n",
        "      <td> 5.22</td>\n",
        "      <td> CHEMBL3040566</td>\n",
        "      <td>  No</td>\n",
        "      <td> Yes</td>\n",
        "      <td>  C28H25ClFN5O4S</td>\n",
        "      <td> 582.05</td>\n",
        "      <td> 2</td>\n",
        "      <td> No</td>\n",
        "      <td>      None</td>\n",
        "      <td> 11</td>\n",
        "      <td> 0.971014</td>\n",
        "      <td> NS(=O)(=O)CCNCc1oc(cc1)c2ccc3ncnc(Nc4ccc(OCc5c...</td>\n",
        "      <td> NEUTRAL</td>\n",
        "      <td> ZZKJYWJMKZJTKA-UHFFFAOYSA-N</td>\n",
        "      <td>             None</td>\n",
        "    </tr>\n",
        "    <tr>\n",
        "      <th>2</th>\n",
        "      <td>   NaN</td>\n",
        "      <td>  NaN</td>\n",
        "      <td>  NaN</td>\n",
        "      <td>  NaN</td>\n",
        "      <td> 4.88</td>\n",
        "      <td> CHEMBL1475148</td>\n",
        "      <td>  No</td>\n",
        "      <td> Yes</td>\n",
        "      <td>  C29H26ClFN4O4S</td>\n",
        "      <td> 581.06</td>\n",
        "      <td> 1</td>\n",
        "      <td> No</td>\n",
        "      <td>      None</td>\n",
        "      <td> 11</td>\n",
        "      <td> 0.971014</td>\n",
        "      <td> C[S+](=O)([O-])CCNCc1oc(cc1)c2ccc3ncnc(Nc4ccc(...</td>\n",
        "      <td>    None</td>\n",
        "      <td> AFMAWJOZFIKBOB-UHFFFAOYSA-N</td>\n",
        "      <td>             None</td>\n",
        "    </tr>\n",
        "    <tr>\n",
        "      <th>3</th>\n",
        "      <td>   NaN</td>\n",
        "      <td> 6.42</td>\n",
        "      <td> 7.28</td>\n",
        "      <td> 7.32</td>\n",
        "      <td> 6.91</td>\n",
        "      <td>  CHEMBL383965</td>\n",
        "      <td>  No</td>\n",
        "      <td> Yes</td>\n",
        "      <td>  C31H30ClFN4O4S</td>\n",
        "      <td> 609.11</td>\n",
        "      <td> 2</td>\n",
        "      <td> No</td>\n",
        "      <td>      None</td>\n",
        "      <td> 13</td>\n",
        "      <td> 0.930556</td>\n",
        "      <td> CCCS(=O)(=O)CCNCc1oc(cc1)c2ccc3ncnc(Nc4ccc(OCc...</td>\n",
        "      <td> NEUTRAL</td>\n",
        "      <td> ZZOFSNIYKIWAIB-UHFFFAOYSA-N</td>\n",
        "      <td>             None</td>\n",
        "    </tr>\n",
        "    <tr>\n",
        "      <th>4</th>\n",
        "      <td>   NaN</td>\n",
        "      <td> 6.34</td>\n",
        "      <td> 6.09</td>\n",
        "      <td> 6.13</td>\n",
        "      <td> 5.84</td>\n",
        "      <td>  CHEMBL380247</td>\n",
        "      <td>  No</td>\n",
        "      <td> Yes</td>\n",
        "      <td>   C29H27ClN4O4S</td>\n",
        "      <td> 563.07</td>\n",
        "      <td> 2</td>\n",
        "      <td> No</td>\n",
        "      <td>      None</td>\n",
        "      <td> 11</td>\n",
        "      <td> 0.928571</td>\n",
        "      <td> CS(=O)(=O)CCNCc1oc(cc1)c2ccc3ncnc(Nc4ccc(OCc5c...</td>\n",
        "      <td> NEUTRAL</td>\n",
        "      <td> HTIFVTQSFKUCDX-UHFFFAOYSA-N</td>\n",
        "      <td>             None</td>\n",
        "    </tr>\n",
        "    <tr>\n",
        "      <th>5</th>\n",
        "      <td>   NaN</td>\n",
        "      <td> 7.71</td>\n",
        "      <td> 6.85</td>\n",
        "      <td> 7.32</td>\n",
        "      <td> 7.06</td>\n",
        "      <td> CHEMBL3040455</td>\n",
        "      <td>  No</td>\n",
        "      <td> Yes</td>\n",
        "      <td>  C29H26ClFN4O2S</td>\n",
        "      <td> 549.06</td>\n",
        "      <td> 2</td>\n",
        "      <td> No</td>\n",
        "      <td>      None</td>\n",
        "      <td> 11</td>\n",
        "      <td> 0.914286</td>\n",
        "      <td> CSCCNCc1oc(cc1)c2ccc3ncnc(Nc4ccc(OCc5cccc(F)c5...</td>\n",
        "      <td> NEUTRAL</td>\n",
        "      <td> SVDARJHLGCNCRG-UHFFFAOYSA-N</td>\n",
        "      <td>             None</td>\n",
        "    </tr>\n",
        "    <tr>\n",
        "      <th>6</th>\n",
        "      <td>   NaN</td>\n",
        "      <td> 6.19</td>\n",
        "      <td> 8.16</td>\n",
        "      <td> 8.19</td>\n",
        "      <td> 7.05</td>\n",
        "      <td> CHEMBL3040543</td>\n",
        "      <td>  No</td>\n",
        "      <td> Yes</td>\n",
        "      <td> C30H25ClF4N4O4S</td>\n",
        "      <td> 649.06</td>\n",
        "      <td> 2</td>\n",
        "      <td> No</td>\n",
        "      <td>      None</td>\n",
        "      <td> 13</td>\n",
        "      <td> 0.905405</td>\n",
        "      <td> Fc1cccc(COc2ccc(Nc3ncnc4ccc(cc34)c5oc(CNCCS(=O...</td>\n",
        "      <td> NEUTRAL</td>\n",
        "      <td> VPRLBIZASKQOSZ-UHFFFAOYSA-N</td>\n",
        "      <td>             None</td>\n",
        "    </tr>\n",
        "    <tr>\n",
        "      <th>7</th>\n",
        "      <td>   NaN</td>\n",
        "      <td> 6.49</td>\n",
        "      <td> 7.11</td>\n",
        "      <td> 7.17</td>\n",
        "      <td> 6.77</td>\n",
        "      <td>  CHEMBL214487</td>\n",
        "      <td>  No</td>\n",
        "      <td> Yes</td>\n",
        "      <td>  C31H30ClFN4O4S</td>\n",
        "      <td> 609.11</td>\n",
        "      <td> 2</td>\n",
        "      <td> No</td>\n",
        "      <td>      None</td>\n",
        "      <td> 12</td>\n",
        "      <td> 0.905405</td>\n",
        "      <td> CC(C)S(=O)(=O)CCNCc1oc(cc1)c2ccc3ncnc(Nc4ccc(O...</td>\n",
        "      <td> NEUTRAL</td>\n",
        "      <td> IRPQLCLTIKGBTQ-UHFFFAOYSA-N</td>\n",
        "      <td>             None</td>\n",
        "    </tr>\n",
        "    <tr>\n",
        "      <th>8</th>\n",
        "      <td>   NaN</td>\n",
        "      <td>  NaN</td>\n",
        "      <td>  NaN</td>\n",
        "      <td>  NaN</td>\n",
        "      <td> 4.67</td>\n",
        "      <td> CHEMBL1906143</td>\n",
        "      <td>  No</td>\n",
        "      <td> Yes</td>\n",
        "      <td>   C29H27ClN4O4S</td>\n",
        "      <td> 563.07</td>\n",
        "      <td> 1</td>\n",
        "      <td> No</td>\n",
        "      <td>      None</td>\n",
        "      <td> 11</td>\n",
        "      <td> 0.901408</td>\n",
        "      <td> C[S+](=O)([O-])CCNCc1oc(cc1)c2ccc3ncnc(Nc4ccc(...</td>\n",
        "      <td>    None</td>\n",
        "      <td> RWYPYTZBEHIDBP-UHFFFAOYSA-N</td>\n",
        "      <td>             None</td>\n",
        "    </tr>\n",
        "    <tr>\n",
        "      <th>9</th>\n",
        "      <td>   NaN</td>\n",
        "      <td> 8.39</td>\n",
        "      <td> 4.43</td>\n",
        "      <td> 5.44</td>\n",
        "      <td> 5.95</td>\n",
        "      <td> CHEMBL3040548</td>\n",
        "      <td>  No</td>\n",
        "      <td> Yes</td>\n",
        "      <td>  C29H26ClFN4O3S</td>\n",
        "      <td> 565.06</td>\n",
        "      <td> 2</td>\n",
        "      <td> No</td>\n",
        "      <td>      None</td>\n",
        "      <td> 11</td>\n",
        "      <td> 0.901408</td>\n",
        "      <td> CS(=O)CCNCc1oc(cc1)c2ccc3ncnc(Nc4ccc(OCc5cccc(...</td>\n",
        "      <td> NEUTRAL</td>\n",
        "      <td> OAMVGUFHZPRXOM-UHFFFAOYSA-N</td>\n",
        "      <td>             None</td>\n",
        "    </tr>\n",
        "  </tbody>\n",
        "</table>\n",
        "<p>10 rows \u00d7 19 columns</p>\n",
        "</div>"
       ],
       "metadata": {},
       "output_type": "pyout",
       "prompt_number": 18,
       "text": [
        "   acdAcidicPka  acdBasicPka  acdLogd  acdLogp  alogp       chemblId  \\\n",
        "0           NaN         6.34     6.26     6.30   6.04      CHEMBL554   \n",
        "1         10.54         6.99     5.36     5.50   5.22  CHEMBL3040566   \n",
        "2           NaN          NaN      NaN      NaN   4.88  CHEMBL1475148   \n",
        "3           NaN         6.42     7.28     7.32   6.91   CHEMBL383965   \n",
        "4           NaN         6.34     6.09     6.13   5.84   CHEMBL380247   \n",
        "5           NaN         7.71     6.85     7.32   7.06  CHEMBL3040455   \n",
        "6           NaN         6.19     8.16     8.19   7.05  CHEMBL3040543   \n",
        "7           NaN         6.49     7.11     7.17   6.77   CHEMBL214487   \n",
        "8           NaN          NaN      NaN      NaN   4.67  CHEMBL1906143   \n",
        "9           NaN         8.39     4.43     5.44   5.95  CHEMBL3040548   \n",
        "\n",
        "  knownDrug medChemFriendly molecularFormula  molecularWeight  \\\n",
        "0       Yes             Yes   C29H26ClFN4O4S           581.06   \n",
        "1        No             Yes   C28H25ClFN5O4S           582.05   \n",
        "2        No             Yes   C29H26ClFN4O4S           581.06   \n",
        "3        No             Yes   C31H30ClFN4O4S           609.11   \n",
        "4        No             Yes    C29H27ClN4O4S           563.07   \n",
        "5        No             Yes   C29H26ClFN4O2S           549.06   \n",
        "6        No             Yes  C30H25ClF4N4O4S           649.06   \n",
        "7        No             Yes   C31H30ClFN4O4S           609.11   \n",
        "8        No             Yes    C29H27ClN4O4S           563.07   \n",
        "9        No             Yes   C29H26ClFN4O3S           565.06   \n",
        "\n",
        "   numRo5Violations passesRuleOfThree preferredCompoundName  rotatableBonds  \\\n",
        "0                 2                No             LAPATINIB              11   \n",
        "1                 2                No                  None              11   \n",
        "2                 1                No                  None              11   \n",
        "3                 2                No                  None              13   \n",
        "4                 2                No                  None              11   \n",
        "5                 2                No                  None              11   \n",
        "6                 2                No                  None              13   \n",
        "7                 2                No                  None              12   \n",
        "8                 1                No                  None              11   \n",
        "9                 2                No                  None              11   \n",
        "\n",
        "   similarity                                             smiles  species  \\\n",
        "0    1.000000  CS(=O)(=O)CCNCc1oc(cc1)c2ccc3ncnc(Nc4ccc(OCc5c...  NEUTRAL   \n",
        "1    0.971014  NS(=O)(=O)CCNCc1oc(cc1)c2ccc3ncnc(Nc4ccc(OCc5c...  NEUTRAL   \n",
        "2    0.971014  C[S+](=O)([O-])CCNCc1oc(cc1)c2ccc3ncnc(Nc4ccc(...     None   \n",
        "3    0.930556  CCCS(=O)(=O)CCNCc1oc(cc1)c2ccc3ncnc(Nc4ccc(OCc...  NEUTRAL   \n",
        "4    0.928571  CS(=O)(=O)CCNCc1oc(cc1)c2ccc3ncnc(Nc4ccc(OCc5c...  NEUTRAL   \n",
        "5    0.914286  CSCCNCc1oc(cc1)c2ccc3ncnc(Nc4ccc(OCc5cccc(F)c5...  NEUTRAL   \n",
        "6    0.905405  Fc1cccc(COc2ccc(Nc3ncnc4ccc(cc34)c5oc(CNCCS(=O...  NEUTRAL   \n",
        "7    0.905405  CC(C)S(=O)(=O)CCNCc1oc(cc1)c2ccc3ncnc(Nc4ccc(O...  NEUTRAL   \n",
        "8    0.901408  C[S+](=O)([O-])CCNCc1oc(cc1)c2ccc3ncnc(Nc4ccc(...     None   \n",
        "9    0.901408  CS(=O)CCNCc1oc(cc1)c2ccc3ncnc(Nc4ccc(OCc5cccc(...  NEUTRAL   \n",
        "\n",
        "                   stdInChiKey          synonyms  \n",
        "0  BCFGMOOMADDAQU-UHFFFAOYSA-N  Lapatinib,Tykerb  \n",
        "1  ZZKJYWJMKZJTKA-UHFFFAOYSA-N              None  \n",
        "2  AFMAWJOZFIKBOB-UHFFFAOYSA-N              None  \n",
        "3  ZZOFSNIYKIWAIB-UHFFFAOYSA-N              None  \n",
        "4  HTIFVTQSFKUCDX-UHFFFAOYSA-N              None  \n",
        "5  SVDARJHLGCNCRG-UHFFFAOYSA-N              None  \n",
        "6  VPRLBIZASKQOSZ-UHFFFAOYSA-N              None  \n",
        "7  IRPQLCLTIKGBTQ-UHFFFAOYSA-N              None  \n",
        "8  RWYPYTZBEHIDBP-UHFFFAOYSA-N              None  \n",
        "9  OAMVGUFHZPRXOM-UHFFFAOYSA-N              None  \n",
        "\n",
        "[10 rows x 19 columns]"
       ]
      }
     ],
     "prompt_number": 18
    },
    {
     "cell_type": "code",
     "collapsed": false,
     "input": [
      "# Try via 'raw' web service instead...\n",
      "\n",
      "r = requests.get(\"https://www.ebi.ac.uk/chemblws/compounds/similarity/{}/{}.json\".format(smiles, 90)).json()\n",
      "\n",
      "len(r['compounds'])"
     ],
     "language": "python",
     "metadata": {},
     "outputs": [
      {
       "metadata": {},
       "output_type": "pyout",
       "prompt_number": 19,
       "text": [
        "21"
       ]
      }
     ],
     "prompt_number": 19
    },
    {
     "cell_type": "markdown",
     "metadata": {},
     "source": [
      "### Batch queries"
     ]
    },
    {
     "cell_type": "code",
     "collapsed": false,
     "input": [
      "# Multiple ChEMBL IDs...\n",
      "\n",
      "c = compounds.get(['CHEMBL{}'.format(x) for x in range(1, 301)])\n",
      "\n",
      "len(c)"
     ],
     "language": "python",
     "metadata": {},
     "outputs": [
      {
       "metadata": {},
       "output_type": "pyout",
       "prompt_number": 20,
       "text": [
        "300"
       ]
      }
     ],
     "prompt_number": 20
    },
    {
     "cell_type": "code",
     "collapsed": false,
     "input": [
      "# Remove 'misses' (i.e. where 404 is returned)...\n",
      "\n",
      "c = [x for x in c if not isinstance(x, int)]\n",
      "\n",
      "len(c)"
     ],
     "language": "python",
     "metadata": {},
     "outputs": [
      {
       "metadata": {},
       "output_type": "pyout",
       "prompt_number": 21,
       "text": [
        "170"
       ]
      }
     ],
     "prompt_number": 21
    },
    {
     "cell_type": "markdown",
     "metadata": {},
     "source": [
      "### Get salts for parent"
     ]
    },
    {
     "cell_type": "code",
     "collapsed": false,
     "input": [
      "cpds = compounds.forms(\"CHEMBL554\")\n",
      "\n",
      "cpds"
     ],
     "language": "python",
     "metadata": {},
     "outputs": [
      {
       "metadata": {},
       "output_type": "pyout",
       "prompt_number": 22,
       "text": [
        "[{u'chemblId': u'CHEMBL554', u'parent': True},\n",
        " {u'chemblId': u'CHEMBL1076241', u'parent': False},\n",
        " {u'chemblId': u'CHEMBL1201179', u'parent': False}]"
       ]
      }
     ],
     "prompt_number": 22
    },
    {
     "cell_type": "code",
     "collapsed": false,
     "input": [
      "for cpd in [x for x in cpds if not x[\"parent\"]]:\n",
      "    \n",
      "    data = compounds.get(cpd[\"chemblId\"])\n",
      "    \n",
      "    if data == 404:\n",
      "        \n",
      "        logging.warn(\"{} downgraded?\".format(cpd[\"chemblId\"]))\n",
      "        \n",
      "        continue\n",
      "        \n",
      "    print(\"{} {}\".format(cpd[\"chemblId\"], data[\"smiles\"]))"
     ],
     "language": "python",
     "metadata": {},
     "outputs": [
      {
       "output_type": "stream",
       "stream": "stdout",
       "text": [
        "CHEMBL1076241 Cc1ccc(cc1)S(=O)(=O)O.CS(=O)(=O)CCNCc2oc(cc2)c3ccc4ncnc(Nc5ccc(OCc6cccc(F)c6)c(Cl)c5)c4c3\n",
        "CHEMBL1201179 O.Cc1ccc(cc1)S(=O)(=O)O.Cc2ccc(cc2)S(=O)(=O)O.CS(=O)(=O)CCNCc3oc(cc3)c4ccc5ncnc(Nc6ccc(OCc7cccc(F)c7)c(Cl)c6)c5c4\n"
       ]
      }
     ],
     "prompt_number": 23
    },
    {
     "cell_type": "markdown",
     "metadata": {},
     "source": [
      "### Drug mechanism of action"
     ]
    },
    {
     "cell_type": "code",
     "collapsed": false,
     "input": [
      "compounds.drug_mechanisms('CHEMBL1201179')"
     ],
     "language": "python",
     "metadata": {},
     "outputs": [
      {
       "metadata": {},
       "output_type": "pyout",
       "prompt_number": 24,
       "text": [
        "[{u'chemblId': u'CHEMBL1824',\n",
        "  u'mechanismOfAction': u'Receptor protein-tyrosine kinase erbB-2 inhibitor',\n",
        "  u'name': u'Receptor protein-tyrosine kinase erbB-2'},\n",
        " {u'chemblId': u'CHEMBL203',\n",
        "  u'mechanismOfAction': u'Epidermal growth factor receptor erbB1 inhibitor',\n",
        "  u'name': u'Epidermal growth factor receptor erbB1'}]"
       ]
      }
     ],
     "prompt_number": 24
    },
    {
     "cell_type": "markdown",
     "metadata": {},
     "source": [
      "### Image query"
     ]
    },
    {
     "cell_type": "code",
     "collapsed": false,
     "input": [
      "png = compounds.image(\"CHEMBL554\")\n",
      "\n",
      "Image(png)"
     ],
     "language": "python",
     "metadata": {},
     "outputs": [
      {
       "metadata": {},
       "output_type": "pyout",
       "png": "[encoded data removed]",
       "prompt_number": 25,
       "text": [
        "<IPython.core.display.Image at 0x4287c50>"
       ]
      }
     ],
     "prompt_number": 25
    },
    {
     "cell_type": "code",
     "collapsed": false,
     "input": [],
     "language": "python",
     "metadata": {},
     "outputs": [],
     "prompt_number": 144
    }
   ],
   "metadata": {}
  }
 ]
}