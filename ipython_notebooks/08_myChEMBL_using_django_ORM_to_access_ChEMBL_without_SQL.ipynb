{
 "metadata": {
  "name": "",
  "signature": "sha256:0cbfac7f652f2f901b474d3560c2ad7e0372703232bd9247191f240fadfd41cd"
 },
 "nbformat": 3,
 "nbformat_minor": 0,
 "worksheets": [
  {
   "cells": [
    {
     "cell_type": "code",
     "collapsed": false,
     "input": [
      "import os\n",
      "import sys"
     ],
     "language": "python",
     "metadata": {},
     "outputs": [],
     "prompt_number": 1
    },
    {
     "cell_type": "code",
     "collapsed": false,
     "input": [],
     "language": "python",
     "metadata": {},
     "outputs": []
    }
   ],
   "metadata": {}
  }
 ]
}