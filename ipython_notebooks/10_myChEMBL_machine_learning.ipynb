{
 "cells": [
  {
   "cell_type": "markdown",
   "metadata": {},
   "source": [
    "# Introduction to Machine Learning (classification and regression)\n",
    "### myChEMBL team, ChEMBL group, EMBL-EBI."
   ]
  },
  {
   "cell_type": "markdown",
   "metadata": {},
   "source": [
    "This tutorial is based on the great notebook by Nikolas Fechner and Greg Landrum [1]. In addition, there is a demonstration of a regression model trained on a ChEMBL data set. The notebook also uses code snippets from a notebook by Isidro Cortés Ciriano [2]. The interested reader is referred to these notebooks for further information. \n",
    "\n",
    "\n",
    "1 : http://nbviewer.ipython.org/gist/greglandrum/4316463\n",
    "\n",
    "2 : http://nbviewer.ipython.org/github/BenderGroup/IPythonNotebooks/blob/master/Isidro_RDKit_Introduction/RDkit_Introduction.ipynb?create=1 "
   ]
  },
  {
   "cell_type": "markdown",
   "metadata": {},
   "source": [
    "# Helper methods"
   ]
  },
  {
   "cell_type": "code",
   "execution_count": 1,
   "metadata": {
    "collapsed": false
   },
   "outputs": [
    {
     "name": "stdout",
     "output_type": "stream",
     "text": [
      "Populating the interactive namespace from numpy and matplotlib\n"
     ]
    }
   ],
   "source": [
    "%matplotlib inline\n",
    "%pylab inline\n",
    "import warnings\n",
    "warnings.filterwarnings('ignore')\n",
    "import warnings\n",
    "warnings.filterwarnings(\"ignore\", category=DeprecationWarning)\n",
    "\n",
    "from sklearn.metrics.metrics import classification_report, confusion_matrix, roc_curve,auc,accuracy_score\n",
    "\n",
    "def confusion_matrix_summary(acts,preds):\n",
    "    from cStringIO import StringIO\n",
    "    file_str = StringIO()\n",
    "    vTab=confusion_matrix(acts,preds)\n",
    "    #print vTab\n",
    "    nResultCodes=len(vTab)\n",
    "    file_str.write('\\n\\tResults Table (experiment in rows):\\n')\n",
    "    colCounts = numpy.sum(vTab,0)\n",
    "    rowCounts = numpy.sum(vTab,1)\n",
    "    print\n",
    "    for i in range(nResultCodes):\n",
    "        if rowCounts[i]==0: rowCounts[i]=1\n",
    "        row = vTab[i]\n",
    "        file_str.write('    ')\n",
    "        for j in range(nResultCodes):\n",
    "            entry = row[j]\n",
    "            file_str.write(' % 6d'%entry),\n",
    "        file_str.write('     | % 4.2f\\n'%(100.*vTab[i,i]/rowCounts[i]))\n",
    "    file_str.write('    ')\n",
    "    for i in range(nResultCodes):\n",
    "        file_str.write('-------')\n",
    "    file_str.write('\\n')\n",
    "    file_str.write('    '),\n",
    "    for i in range(nResultCodes):\n",
    "        if colCounts[i]==0: colCounts[i]=1\n",
    "        file_str.write(' % 6.2f'%(100.*vTab[i,i]/colCounts[i])),\n",
    "    file_str.write('\\n')\n",
    "    return file_str.getvalue()\n",
    "\n",
    "def createROCPlot(pl,observations,probabilities,caption):\n",
    "    fpr, tpr, thresholds = roc_curve(observations, probabilities)\n",
    "    roc_auc = auc(fpr, tpr)\n",
    "    print \"Area under the ROC curve : %f\" % roc_auc\n",
    "    pl.plot(fpr, tpr, label='ROC curve (area = %0.2f)' % roc_auc)\n",
    "    pl.plot([0, 1], [0, 1], 'k--')\n",
    "    pl.set_xlim([0.0, 1.0])\n",
    "    pl.set_ylim([0.0, 1.0])\n",
    "    pl.set_xlabel('False Positive Rate')\n",
    "    pl.set_ylabel('True Positive Rate')\n",
    "    pl.set_title(caption)\n",
    "    \n",
    "def createPropAccPlot(pl,observations,probabilities,caption):\n",
    "    fpr, tpr, thresholds = roc_curve(observations, probabilities)\n",
    "    accuracies = []\n",
    "    for t in thresholds:\n",
    "        \n",
    "        predictions = [1 if p >= t else 0 for p in probabilities]\n",
    "        acc = accuracy_score(observations,predictions)\n",
    "        accuracies.append(acc)\n",
    "    pl.plot(thresholds, accuracies, label='Prob. vs Accuracy curve')\n",
    "    pl.plot([0, 1], [0, 1], 'k--')\n",
    "    pl.set_xlim([0.0, 1.0])\n",
    "    pl.set_ylim([0.0, 1.0])\n",
    "    pl.set_xlabel('Probability threshold')\n",
    "    pl.set_ylabel('Accuracy')\n",
    "    pl.set_title(caption)\n",
    "\n",
    "def createImportancePlot(splt,desc,importances,caption):\n",
    "    #plt.xkcd()\n",
    "    import numpy.numarray as na    \n",
    "    labels = []\n",
    "    weights = []\n",
    "    threshold = sort([abs(w) for w in importances])[-11]\n",
    "    for d in zip(desc,importances):\n",
    "        if abs(d[1]) > threshold:\n",
    "            labels.append(d[0])\n",
    "            weights.append(d[1])\n",
    "    \n",
    "    xlocations = na.array(range(len(labels)))+0.5\n",
    "    width = 0.8\n",
    "    splt.bar(xlocations, weights, width=width)\n",
    "    splt.set_xticks([r+1 for r in range(len(labels))])\n",
    "    splt.set_xticklabels(labels, rotation='vertical')\n",
    "    splt.set_xlim(0, xlocations[-1]+width*2)\n",
    "    splt.set_title(caption)\n",
    "    splt.get_xaxis().tick_bottom()\n",
    "    splt.get_yaxis().tick_left()"
   ]
  },
  {
   "cell_type": "markdown",
   "metadata": {},
   "source": [
    "# Dataset"
   ]
  },
  {
   "cell_type": "markdown",
   "metadata": {},
   "source": [
    "Publicly available binary Ames test (mutagenicity) data compiled in \"Benchmark Data Set for in Silico Prediction of Ames Mutagenicity\", Katja Hansen et al., JCIM, 2009, 49(9),pp 2077-2081"
   ]
  },
  {
   "cell_type": "markdown",
   "metadata": {},
   "source": [
    "Data available from http://doc.ml.tu-berlin.de/toxbenchmark/smiles_cas_N6512.smi"
   ]
  },
  {
   "cell_type": "code",
   "execution_count": 2,
   "metadata": {
    "collapsed": false
   },
   "outputs": [
    {
     "name": "stdout",
     "output_type": "stream",
     "text": [
      "/home/chembl/ipynb_workbench\r\n"
     ]
    }
   ],
   "source": [
    "#location of datafiles\n",
    "!pwd"
   ]
  },
  {
   "cell_type": "code",
   "execution_count": 3,
   "metadata": {
    "collapsed": false
   },
   "outputs": [],
   "source": [
    "from rdkit import Chem\n",
    "import csv\n",
    "#obtained from http://doc.ml.tu-berlin.de/toxbenchmark/smiles_cas_N6512.smi\n",
    "with open('smiles_cas_N6512.smi','rU') as train_file:\n",
    "    r = csv.reader(train_file, delimiter='\\t')\n",
    "    r.next()\n",
    "    molecules = []\n",
    "    observations = []\n",
    "    for row in r:\n",
    "        try:\n",
    "         temp = Chem.MolFromSmiles(row[0])        \n",
    "        except e:\n",
    "            print e,row\n",
    "            continue\n",
    "        molecules.append(temp)\n",
    "        observations.append(int(row[2]))\n",
    "#molecules = [Chem.MolFromSmiles(d[0]) for d in row]\n",
    "#observations = [int(d[2]) for d in raw]\n",
    "data = [(x,y) for x,y in zip(molecules,observations) if x is not None]\n"
   ]
  },
  {
   "cell_type": "markdown",
   "metadata": {},
   "source": [
    "# Fingerprint calculation"
   ]
  },
  {
   "cell_type": "code",
   "execution_count": 4,
   "metadata": {
    "collapsed": false
   },
   "outputs": [],
   "source": [
    "from rdkit.Chem import AllChem\n",
    "import random\n",
    "\n",
    "ind = range(len(data))\n",
    "random.seed(0)\n",
    "random.shuffle(ind)\n",
    "half = int(round(0.5*len(ind)))\n",
    "train = ind[:half]\n",
    "test = ind[half:]\n",
    "\n",
    "train_morgan_fps = []\n",
    "train_rd_fps = []\n",
    "train_ys = []\n",
    "train_info=[]\n",
    "test_info=[]\n",
    "\n",
    "for i in train:\n",
    "    mol = data[i][0]\n",
    "    info = {}\n",
    "    temp = AllChem.GetMorganFingerprintAsBitVect(mol,2,2048,bitInfo=info)\n",
    "    train_morgan_fps.append(temp)\n",
    "    train_info.append(info)\n",
    "    train_rd_fps.append(Chem.RDKFingerprint(mol))\n",
    "    train_ys.append(int(data[i][1]))\n",
    "    \n",
    "test_morgan_fps = []\n",
    "test_rd_fps = []\n",
    "test_ys = []\n",
    "    \n",
    "for i in test:\n",
    "    mol = data[i][0]\n",
    "    info = {}\n",
    "    temp = AllChem.GetMorganFingerprintAsBitVect(mol,2,2048,bitInfo=info)\n",
    "    test_morgan_fps.append(temp)\n",
    "    test_info.append(info)\n",
    "    test_rd_fps.append(Chem.RDKFingerprint(mol))\n",
    "    test_ys.append(int(data[i][1]))\n",
    "    \n",
    "#import cPickle\n",
    "#outf=file('fps.pkl','wb+')\n",
    "#cPickle.dump((train,train_morgan_fps,train_info,train_rd_fps,train_ys),outf)\n",
    "#cPickle.dump((test,test_morgan_fps,test_info,test_rd_fps,test_ys),outf)\n"
   ]
  },
  {
   "cell_type": "markdown",
   "metadata": {},
   "source": [
    "Writing out the data can be a bit lengthy (especially on the virtual machine), hence the written file is provided in mychembl and the text is commented out. When uncommenting, please give the script some time before continuing. If an error occurs below 'EOF: ' this means the writing was not completed. Try these two sections again in this case. "
   ]
  },
  {
   "cell_type": "code",
   "execution_count": 5,
   "metadata": {
    "collapsed": false
   },
   "outputs": [],
   "source": [
    "import cPickle\n",
    "inf=file('fps.pkl','rb+')\n",
    "(train,train_morgan_fps,train_info,train_rd_fps,train_ys)=cPickle.load(inf)\n",
    "(test,test_morgan_fps,test_info,test_rd_fps,test_ys)=cPickle.load(inf)"
   ]
  },
  {
   "cell_type": "markdown",
   "metadata": {},
   "source": [
    "# Binary Classification"
   ]
  },
  {
   "cell_type": "markdown",
   "metadata": {},
   "source": [
    "### Naive Bayes"
   ]
  },
  {
   "cell_type": "code",
   "execution_count": 6,
   "metadata": {
    "collapsed": false
   },
   "outputs": [
    {
     "name": "stdout",
     "output_type": "stream",
     "text": [
      "Morgan Fingerprints\n",
      "\n",
      "\n",
      "\tResults Table (experiment in rows):\n",
      "       1153    332     |  77.64\n",
      "        548   1219     |  68.99\n",
      "    --------------\n",
      "      67.78  78.59\n",
      "\n",
      "             precision    recall  f1-score   support\n",
      "\n",
      "          0       0.68      0.78      0.72      1485\n",
      "          1       0.79      0.69      0.73      1767\n",
      "\n",
      "avg / total       0.74      0.73      0.73      3252\n",
      "\n",
      "------------------------------------------------------------\n",
      "RDKit Fingerprints\n",
      "\n",
      "\n",
      "\tResults Table (experiment in rows):\n",
      "       1012    473     |  68.15\n",
      "        750   1017     |  57.56\n",
      "    --------------\n",
      "      57.43  68.26\n",
      "\n",
      "             precision    recall  f1-score   support\n",
      "\n",
      "          0       0.57      0.68      0.62      1485\n",
      "          1       0.68      0.58      0.62      1767\n",
      "\n",
      "avg / total       0.63      0.62      0.62      3252\n",
      "\n"
     ]
    }
   ],
   "source": [
    "from sklearn.naive_bayes import BernoulliNB\n",
    "morgan_bnb = BernoulliNB(fit_prior=False)\n",
    "morgan_bnb.fit(train_morgan_fps,train_ys)\n",
    "morgan_predictions = morgan_bnb.predict(test_morgan_fps)\n",
    "print 'Morgan Fingerprints'\n",
    "print confusion_matrix_summary(test_ys,morgan_predictions)\n",
    "print classification_report(test_ys,morgan_predictions)\n",
    "\n",
    "\n",
    "print '------------------------------------------------------------'\n",
    "print 'RDKit Fingerprints'\n",
    "rd_bnb = BernoulliNB(fit_prior=False)\n",
    "rd_bnb.fit(train_rd_fps,train_ys)\n",
    "rd_predictions = rd_bnb.predict(test_rd_fps)\n",
    "print confusion_matrix_summary(test_ys,rd_predictions)\n",
    "print classification_report(test_ys,rd_predictions)\n",
    "\n",
    "morgan_probabilities = [p[1] for p in morgan_bnb.predict_proba(test_morgan_fps)]\n",
    "rd_probabilities = [p[1] for p in rd_bnb.predict_proba(test_rd_fps)]"
   ]
  },
  {
   "cell_type": "code",
   "execution_count": 7,
   "metadata": {
    "collapsed": false
   },
   "outputs": [
    {
     "name": "stdout",
     "output_type": "stream",
     "text": [
      "Area under the ROC curve : 0.791817\n",
      "Area under the ROC curve : 0.669390\n"
     ]
    },
    {
     "data": {
      "image/png": "[encoded data removed]",
      "text/plain": [
       "<matplotlib.figure.Figure at 0xbdd2f50>"
      ]
     },
     "metadata": {},
     "output_type": "display_data"
    },
    {
     "data": {
      "image/png": "[encoded data removed]",
      "text/plain": [
       "<matplotlib.figure.Figure at 0xf54b250>"
      ]
     },
     "metadata": {},
     "output_type": "display_data"
    }
   ],
   "source": [
    "figure,(plt1,plt2) = pyplot.subplots(1,2)\n",
    "figure.set_size_inches(10,5)\n",
    "figure.tight_layout()\n",
    "\n",
    "createROCPlot(plt1,test_ys,morgan_probabilities,'Morgan FP')\n",
    "createROCPlot(plt2,test_ys,rd_probabilities,'RDKit FP')\n",
    "\n",
    "figure,(plt1,plt2) = pyplot.subplots(1,2)\n",
    "figure.set_size_inches(10,5)\n",
    "figure.tight_layout()\n",
    "\n",
    "createPropAccPlot(plt1,test_ys,morgan_probabilities,'Morgan FP')\n",
    "createPropAccPlot(plt2,test_ys,rd_probabilities,'RDKit FP')\n",
    "\n"
   ]
  },
  {
   "cell_type": "markdown",
   "metadata": {},
   "source": [
    "#### Obtain bit probabilities for later analysis"
   ]
  },
  {
   "cell_type": "code",
   "execution_count": 8,
   "metadata": {
    "collapsed": true
   },
   "outputs": [],
   "source": [
    "bit_probabilities = morgan_bnb.feature_log_prob_\n",
    "position = []\n",
    "enrichment = []\n",
    "for d in zip(range(len(bit_probabilities[1])),[(w[0]-w[1]) for w in zip(bit_probabilities[0],bit_probabilities[1])]):\n",
    "    if abs(d[1]) >= 1: #one log-level probablity difference between classes\n",
    "        position.append(d[0])\n",
    "        enrichment.append(d[1])\n",
    " "
   ]
  },
  {
   "cell_type": "markdown",
   "metadata": {},
   "source": [
    "#### Binary classification is obtained by mapping selecting the most likely class "
   ]
  },
  {
   "cell_type": "code",
   "execution_count": 9,
   "metadata": {
    "collapsed": false
   },
   "outputs": [
    {
     "name": "stdout",
     "output_type": "stream",
     "text": [
      "\n",
      "\n",
      "\tResults Table (experiment in rows):\n",
      "       1153    332     |  77.64\n",
      "        548   1219     |  68.99\n",
      "    --------------\n",
      "      67.78  78.59\n",
      "\n",
      "\n",
      "\n",
      "\tResults Table (experiment in rows):\n",
      "       1153    332     |  77.64\n",
      "        548   1219     |  68.99\n",
      "    --------------\n",
      "      67.78  78.59\n",
      "\n"
     ]
    }
   ],
   "source": [
    "#as implemented in sklearn\n",
    "check_predictions = [1 if t[1] >= t[0] else 0 for t in morgan_bnb.predict_proba(test_morgan_fps)]\n",
    "print confusion_matrix_summary(test_ys,check_predictions)\n",
    "\n",
    "#equivalent for binary classification\n",
    "check_predictions = [1 if p >= 0.5 else 0 for p in [t[1] for t in morgan_bnb.predict_proba(test_morgan_fps)]]\n",
    "print confusion_matrix_summary(test_ys,check_predictions)\n"
   ]
  },
  {
   "cell_type": "markdown",
   "metadata": {},
   "source": [
    "### Random Forests"
   ]
  },
  {
   "cell_type": "markdown",
   "metadata": {},
   "source": [
    "Note, depending on your hardware this can take up to 30 minutes. "
   ]
  },
  {
   "cell_type": "code",
   "execution_count": 10,
   "metadata": {
    "collapsed": false
   },
   "outputs": [
    {
     "name": "stderr",
     "output_type": "stream",
     "text": [
      "[Parallel(n_jobs=1)]: Done   1 jobs       | elapsed:   33.6s\n",
      "[Parallel(n_jobs=1)]: Done  10 out of  10 | elapsed:  5.6min finished\n"
     ]
    },
    {
     "name": "stdout",
     "output_type": "stream",
     "text": [
      "Fitting 10 folds for each of 1 candidates, totalling 10 fits\n",
      "Morgan Fingerprints"
     ]
    },
    {
     "name": "stderr",
     "output_type": "stream",
     "text": [
      "[Parallel(n_jobs=1)]: Done   1 jobs       | elapsed:   33.4s\n",
      "[Parallel(n_jobs=1)]: Done  10 out of  10 | elapsed:  4.5min finished\n"
     ]
    },
    {
     "name": "stdout",
     "output_type": "stream",
     "text": [
      "\n",
      "\n",
      "\n",
      "\tResults Table (experiment in rows):\n",
      "       1199    286     |  80.74\n",
      "        458   1309     |  74.08\n",
      "    --------------\n",
      "      72.36  82.07\n",
      "\n",
      "             precision    recall  f1-score   support\n",
      "\n",
      "          0       0.72      0.81      0.76      1485\n",
      "          1       0.82      0.74      0.78      1767\n",
      "\n",
      "avg / total       0.78      0.77      0.77      3252\n",
      "\n",
      "------------------------------------------------------------\n",
      "Fitting 10 folds for each of 1 candidates, totalling 10 fits\n",
      "RDKit Fingerprints\n",
      "\n",
      "\n",
      "\tResults Table (experiment in rows):\n",
      "       1184    301     |  79.73\n",
      "        360   1407     |  79.63\n",
      "    --------------\n",
      "      76.68  82.38\n",
      "\n",
      "             precision    recall  f1-score   support\n",
      "\n",
      "          0       0.77      0.80      0.78      1485\n",
      "          1       0.82      0.80      0.81      1767\n",
      "\n",
      "avg / total       0.80      0.80      0.80      3252\n",
      "\n"
     ]
    }
   ],
   "source": [
    "from sklearn.cross_validation import KFold\n",
    "from sklearn.grid_search import GridSearchCV\n",
    "from sklearn.ensemble import RandomForestClassifier\n",
    "#params = {'max_depth':[2,5,10,20],'min_samples_split':[2,8,32,128],'min_samples_leaf':[1,2,5,10],'compute_importances':[True],'n_estimators':[200]}\n",
    "#grid search is very timeconsuming, ~3hrs\n",
    "params = {'compute_importances': [True], 'min_samples_split': [8], 'max_depth': [20], 'min_samples_leaf': [1],'n_estimators':[200]}\n",
    "cv = KFold(n=len(train),n_folds=10,shuffle=True)\n",
    "gs = GridSearchCV(RandomForestClassifier(), params, cv=cv,verbose=1,refit=True)\n",
    "gs.fit(train_morgan_fps, train_ys)\n",
    "\n",
    "#print 'Best score: %0.2f'%gs.best_score_\n",
    "#print 'Training set performance using best parameters (%s)'%gs.best_params_\n",
    "best_morgan_treemodel = gs.best_estimator_\n",
    "#training set evaluation\n",
    "best_morgan_tree_prediction = best_morgan_treemodel.predict(test_morgan_fps)\n",
    "print 'Morgan Fingerprints'\n",
    "print confusion_matrix_summary(test_ys,best_morgan_tree_prediction)\n",
    "print classification_report(test_ys,best_morgan_tree_prediction)\n",
    "\n",
    "print '------------------------------------------------------------'\n",
    "gs.fit(train_rd_fps, train_ys)\n",
    "#print 'Best score: %0.2f'%gs.best_score_\n",
    "#print 'Training set performance using best parameters (%s)'%gs.best_params_\n",
    "best_rd_treemodel = gs.best_estimator_\n",
    "#training set evaluation\n",
    "best_rd_tree_prediction = best_rd_treemodel.predict(test_rd_fps)\n",
    "print 'RDKit Fingerprints'\n",
    "print confusion_matrix_summary(test_ys,best_rd_tree_prediction)\n",
    "print classification_report(test_ys,best_rd_tree_prediction)\n"
   ]
  },
  {
   "cell_type": "markdown",
   "metadata": {},
   "source": [
    "#### Probabilities can be obtained as proportion of the trees that predict the respective class"
   ]
  },
  {
   "cell_type": "code",
   "execution_count": 11,
   "metadata": {
    "collapsed": false
   },
   "outputs": [
    {
     "name": "stdout",
     "output_type": "stream",
     "text": [
      "Area under the ROC curve : 0.845492\n",
      "Area under the ROC curve : 0.865118\n"
     ]
    },
    {
     "data": {
      "image/png": "[encoded data removed]",
      "text/plain": [
       "<matplotlib.figure.Figure at 0xf594350>"
      ]
     },
     "metadata": {},
     "output_type": "display_data"
    },
    {
     "data": {
      "image/png": "[encoded data removed]",
      "text/plain": [
       "<matplotlib.figure.Figure at 0xa690790>"
      ]
     },
     "metadata": {},
     "output_type": "display_data"
    }
   ],
   "source": [
    "morgan_probabilities = [p[1] for p in best_morgan_treemodel.predict_proba(test_morgan_fps)]\n",
    "rd_probabilities = [p[1] for p in best_rd_treemodel.predict_proba(test_rd_fps)]\n",
    "figure,(plt1,plt2) = pyplot.subplots(1,2)\n",
    "figure.set_size_inches(10,5)\n",
    "figure.tight_layout()\n",
    "\n",
    "createROCPlot(plt1,test_ys,morgan_probabilities,'Morgan FP')\n",
    "createROCPlot(plt2,test_ys,rd_probabilities,'RDKit FP')\n",
    "\n",
    "figure,(plt1,plt2) = pyplot.subplots(1,2)\n",
    "figure.set_size_inches(10,5)\n",
    "figure.tight_layout()\n",
    "\n",
    "createPropAccPlot(plt1,test_ys,morgan_probabilities,'Morgan FP')\n",
    "createPropAccPlot(plt2,test_ys,rd_probabilities,'RDKit FP')\n"
   ]
  },
  {
   "cell_type": "markdown",
   "metadata": {},
   "source": [
    "# Substructure analysis"
   ]
  },
  {
   "cell_type": "markdown",
   "metadata": {},
   "source": [
    "Idea: Compute the probability of a bit for each class, identify bits enriched in one class and report substructures associated with these bits. Then identify substructures that occur predominantly in molecules belonging to one class"
   ]
  },
  {
   "cell_type": "code",
   "execution_count": 12,
   "metadata": {
    "collapsed": false
   },
   "outputs": [
    {
     "name": "stdout",
     "output_type": "stream",
     "text": [
      "bit 6: \t6 (6) molecules, in-class log_probabilities -6.637 -5.154 \t SMILES: n(C)(c(n)N)c(c)c\n",
      "bit 11: \t8 (0) molecules, in-class log_probabilities -4.557 -5.848 \t SMILES: S(C)CC\n",
      "bit 16: \t12 (1) molecules, in-class log_probabilities -4.622 -5.665 \t SMILES: C(C)(CC)(C(=C)C)C(C)C\n",
      "bit 34: \t6 (5) molecules, in-class log_probabilities -5.250 -4.161 \t SMILES: C(C)n\n",
      "bit 64: \t10 (10) molecules, in-class log_probabilities -5.720 -4.413 \t SMILES: c(cc)(cs)C(N)=O\n",
      "bit 79: \t24 (1) molecules, in-class log_probabilities -3.803 -5.665 \t SMILES: C(c)C\n",
      "bit 106: \t7 (1) molecules, in-class log_probabilities -4.194 -5.260 \t SMILES: c(c)(n)O\n",
      "bit 131: \t15 (14) molecules, in-class log_probabilities -5.720 -4.624 \t SMILES: c(c)(c)s\n",
      "bit 144: \t14 (14) molecules, in-class log_probabilities -5.250 -4.125 \t SMILES: N(C)=[N+]\n",
      "bit 164: \t17 (16) molecules, in-class log_probabilities -3.774 -2.695 \t SMILES: c(c)([N+])s\n",
      "bit 199: \t29 (26) molecules, in-class log_probabilities -4.765 -2.784 \t SMILES: c(c(c)[N+])c(c)[N+]\n",
      "bit 255: \t36 (36) molecules, in-class log_probabilities -5.027 -3.506 \t SMILES: [N+](=O)([O-])c(c)o\n",
      "bit 256: \t14 (14) molecules, in-class log_probabilities -5.250 -4.199 \t SMILES: c(C=C)(cc)oc\n",
      "bit 307: \t7 (0) molecules, in-class log_probabilities -4.765 -6.071 \t SMILES: N(C)S\n",
      "bit 312: \t11 (11) molecules, in-class log_probabilities -5.720 -4.567 \t SMILES: N(CC)=[N+]=[N-]\n",
      "bit 394: \t15 (1) molecules, in-class log_probabilities -4.439 -6.358 \t SMILES: CS\n",
      "bit 505: \t10 (9) molecules, in-class log_probabilities -5.943 -4.461 \t SMILES: C(CC)(OC)c(c)c\n",
      "bit 513: \t7 (0) molecules, in-class log_probabilities -5.027 -6.071 \t SMILES: P(=O)(Oc)(Oc)Oc\n",
      "bit 587: \t20 (20) molecules, in-class log_probabilities -5.384 -3.628 \t SMILES: c(cc)(cc)C(N)=O\n",
      "bit 598: \t15 (2) molecules, in-class log_probabilities -3.666 -4.818 \t SMILES: C(c)(C)C\n",
      "bit 606: \t7 (1) molecules, in-class log_probabilities -3.480 -4.624 \t SMILES: c(=O)(nc)n(C)c\n",
      "bit 628: \t15 (2) molecules, in-class log_probabilities -4.239 -5.511 \t SMILES: C[N+]\n",
      "bit 647: \t46 (39) molecules, in-class log_probabilities -4.765 -3.673 \t SMILES: c(N)(cc)cc\n",
      "bit 684: \t7 (0) molecules, in-class log_probabilities -4.691 -6.764 \t SMILES: C(=O)(O)CO\n",
      "bit 715: \t508 (423) molecules, in-class log_probabilities -2.518 -1.379 \t SMILES: [O-]\n",
      "bit 716: \t206 (181) molecules, in-class log_probabilities -3.864 -2.194 \t SMILES: c(c)(c)[N+]\n",
      "bit 716: \t8 (7) molecules, in-class log_probabilities -3.864 -2.194 \t SMILES: n(cc)c(c)c\n",
      "bit 724: \t6 (1) molecules, in-class log_probabilities -4.385 -5.665 \t SMILES: C(c)(c)=N\n",
      "bit 725: \t11 (11) molecules, in-class log_probabilities -2.657 -1.499 \t SMILES: c(c(C)c)c([N+])s\n",
      "bit 725: \t237 (211) molecules, in-class log_probabilities -2.657 -1.499 \t SMILES: c(cc)(cc)c(c)c\n",
      "bit 740: \t28 (27) molecules, in-class log_probabilities -4.845 -3.525 \t SMILES: [N-]=[N+]\n",
      "bit 753: \t486 (411) molecules, in-class log_probabilities -2.852 -1.422 \t SMILES: O=[N+]\n",
      "bit 780: \t20 (19) molecules, in-class log_probabilities -6.231 -4.818 \t SMILES: C(=Cc)c(c)c\n",
      "bit 801: \t12 (1) molecules, in-class log_probabilities -4.691 -5.848 \t SMILES: c(cc)(c(N)s)c(c)n\n",
      "bit 808: \t7 (0) molecules, in-class log_probabilities -5.027 -6.764 \t SMILES: C(C)(C)(Cl)Cl\n",
      "bit 811: \t13 (13) molecules, in-class log_probabilities -5.384 -4.366 \t SMILES: O(C(C)=O)N(C)O\n",
      "bit 815: \t20 (2) molecules, in-class log_probabilities -4.557 -3.180 \t SMILES: S(c)(N)(=O)=O\n",
      "bit 815: \t101 (88) molecules, in-class log_probabilities -4.557 -3.180 \t SMILES: N(N)=O\n",
      "bit 838: \t495 (416) molecules, in-class log_probabilities -2.948 -1.422 \t SMILES: [O-][N+]\n",
      "bit 851: \t7 (0) molecules, in-class log_probabilities -4.497 -5.665 \t SMILES: C(Cc)(NC)C(=O)O\n",
      "bit 860: \t48 (46) molecules, in-class log_probabilities -6.231 -4.322 \t SMILES: c(c(c)[N+])c(c)c\n",
      "bit 870: \t13 (13) molecules, in-class log_probabilities -5.250 -4.056 \t SMILES: c(C)(c(c)c)c(c)c\n",
      "bit 909: \t21 (17) molecules, in-class log_probabilities -4.285 -5.511 \t SMILES: N(C)(C)N\n",
      "bit 922: \t7 (7) molecules, in-class log_probabilities -5.943 -4.238 \t SMILES: s(c(c)c)c(c)c\n",
      "bit 961: \t99 (82) molecules, in-class log_probabilities -3.929 -2.903 \t SMILES: c(cc)c(c)n\n",
      "bit 978: \t7 (0) molecules, in-class log_probabilities -4.285 -5.511 \t SMILES: c(cc)(c(c)C)c(c)[nH]\n",
      "bit 979: \t133 (116) molecules, in-class log_probabilities -4.152 -2.621 \t SMILES: O=N\n",
      "bit 991: \t7 (0) molecules, in-class log_probabilities -4.622 -5.665 \t SMILES: c(cc)(OC)c(c)Cl\n",
      "bit 994: \t11 (11) molecules, in-class log_probabilities -5.943 -4.567 \t SMILES: C(ON)c(c)c\n",
      "bit 1007: \t17 (15) molecules, in-class log_probabilities -5.720 -4.461 \t SMILES: c(c(-c)c)(c(-c)c)c(c)c\n",
      "bit 1015: \t10 (10) molecules, in-class log_probabilities -5.720 -4.567 \t SMILES: c(cc)(cc)N=O\n",
      "bit 1033: \t15 (13) molecules, in-class log_probabilities -5.720 -4.567 \t SMILES: c(nc)(c(n)N)c(n)n\n",
      "bit 1034: \t6 (1) molecules, in-class log_probabilities -3.746 -4.749 \t SMILES: C(C)(C)(O)O\n",
      "bit 1056: \t30 (30) molecules, in-class log_probabilities -5.250 -3.819 \t SMILES: c(cc)c([N+])o\n",
      "bit 1083: \t20 (20) molecules, in-class log_probabilities -4.334 -3.314 \t SMILES: N(=O)N(C)C\n",
      "bit 1098: \t19 (17) molecules, in-class log_probabilities -6.637 -4.413 \t SMILES: N(CC)c(c)c\n",
      "bit 1110: \t16 (3) molecules, in-class log_probabilities -3.641 -5.260 \t SMILES: c(Cl)(cc)c(c)O\n",
      "bit 1129: \t14 (1) molecules, in-class log_probabilities -4.765 -6.071 \t SMILES: C(NC)C(C)O\n",
      "bit 1195: \t460 (395) molecules, in-class log_probabilities -3.026 -1.448 \t SMILES: [N+](c)(=O)[O-]\n",
      "bit 1216: \t31 (31) molecules, in-class log_probabilities -6.637 -3.846 \t SMILES: c(cc)(oc)[N+](=O)[O-]\n",
      "bit 1228: \t77 (62) molecules, in-class log_probabilities -5.720 -6.764 \t SMILES: O(C)C\n",
      "bit 1256: \t23 (3) molecules, in-class log_probabilities -4.497 -6.071 \t SMILES: C(CC)C(=O)O\n",
      "bit 1263: \t7 (6) molecules, in-class log_probabilities -6.231 -4.684 \t SMILES: C(N)(O)=O\n",
      "bit 1276: \t6 (0) molecules, in-class log_probabilities -5.250 -6.358 \t SMILES: O(C(C)=O)C(C)C\n",
      "bit 1276: \t8 (7) molecules, in-class log_probabilities -5.250 -6.358 \t SMILES: C(=CC)c(c)c\n",
      "bit 1300: \t16 (13) molecules, in-class log_probabilities -4.557 -3.283 \t SMILES: C(Cc)C(c)=O\n",
      "bit 1300: \t53 (48) molecules, in-class log_probabilities -4.557 -3.283 \t SMILES: n(c(c)c)c(c)c\n",
      "bit 1326: \t12 (1) molecules, in-class log_probabilities -4.622 -6.764 \t SMILES: C(CC)(C(C)C)C(C)C\n",
      "bit 1354: \t9 (0) molecules, in-class log_probabilities -5.538 -6.764 \t SMILES: c(Cl)(cc)c(c)C\n",
      "bit 1358: \t6 (1) molecules, in-class log_probabilities -5.250 -6.764 \t SMILES: C(C)Nc\n",
      "bit 1365: \t78 (13) molecules, in-class log_probabilities -3.666 -4.892 \t SMILES: c(C)(c)c\n",
      "bit 1365: \t12 (11) molecules, in-class log_probabilities -3.666 -4.892 \t SMILES: c(O)(c(C)c)c(c)C\n",
      "bit 1366: \t59 (9) molecules, in-class log_probabilities -2.841 -4.023 \t SMILES: C(CC)C(C)C\n",
      "bit 1382: \t8 (0) molecules, in-class log_probabilities -4.439 -7.457 \t SMILES: C(=O)(CC)Nc\n",
      "bit 1386: \t66 (12) molecules, in-class log_probabilities -3.322 -4.684 \t SMILES: C(C)(O)=O\n",
      "bit 1386: \t6 (1) molecules, in-class log_probabilities -3.322 -4.684 \t SMILES: C(CC)C(C)=C\n",
      "bit 1393: \t7 (0) molecules, in-class log_probabilities -5.538 -7.457 \t SMILES: C(CC)C(C)N\n",
      "bit 1421: \t15 (2) molecules, in-class log_probabilities -5.538 -6.764 \t SMILES: C(C)(C)=O\n",
      "bit 1421: \t6 (1) molecules, in-class log_probabilities -5.538 -6.764 \t SMILES: O(CC)P(O)(O)=O\n",
      "bit 1433: \t24 (23) molecules, in-class log_probabilities -6.231 -4.567 \t SMILES: c(cc)(c(c)c)[N+](=O)[O-]\n",
      "bit 1434: \t8 (1) molecules, in-class log_probabilities -5.720 -6.764 \t SMILES: c(cc)(cc)C(C)O\n",
      "bit 1444: \t242 (40) molecules, in-class log_probabilities -3.039 -4.056 \t SMILES: C(CC)CC\n",
      "bit 1449: \t28 (27) molecules, in-class log_probabilities -5.133 -4.023 \t SMILES: [N-]\n",
      "bit 1489: \t13 (2) molecules, in-class log_probabilities -5.720 -6.764 \t SMILES: c(cc)(cc)S(N)(=O)=O\n",
      "bit 1490: \t13 (12) molecules, in-class log_probabilities -5.027 -6.764 \t SMILES: C(=O)(NC)c(c)c\n",
      "bit 1500: \t26 (25) molecules, in-class log_probabilities -7.330 -5.848 \t SMILES: c(cc)(c(c)C)c(c)c\n",
      "bit 1532: \t8 (1) molecules, in-class log_probabilities -4.691 -6.358 \t SMILES: C(=O)(O)C=C\n",
      "bit 1532: \t6 (1) molecules, in-class log_probabilities -4.691 -6.358 \t SMILES: c(c(c)S)c(c)N\n",
      "bit 1549: \t8 (7) molecules, in-class log_probabilities -6.637 -5.154 \t SMILES: c(N=N)(c(c)O)c(c)S\n",
      "bit 1553: \t8 (8) molecules, in-class log_probabilities -6.637 -5.154 \t SMILES: c(nc)(c(c)c)c(c)n\n",
      "bit 1554: \t40 (7) molecules, in-class log_probabilities -4.194 -5.511 \t SMILES: c(Cl)(cc)c(c)Cl\n",
      "bit 1562: \t6 (6) molecules, in-class log_probabilities -6.231 -5.059 \t SMILES: c(cc)(c(c)n)c(c)n\n",
      "bit 1566: \t15 (14) molecules, in-class log_probabilities -6.637 -4.892 \t SMILES: c(cc)(c(c)c)c(c)n\n",
      "bit 1574: \t260 (235) molecules, in-class log_probabilities -4.034 -5.665 \t SMILES: c(cc)(c(c)c)c(c)c\n",
      "bit 1574: \t9 (0) molecules, in-class log_probabilities -4.034 -5.665 \t SMILES: N(CC)C(C)C\n",
      "bit 1582: \t23 (2) molecules, in-class log_probabilities -4.152 -5.511 \t SMILES: C(CC)C(C)(C)C\n",
      "bit 1582: \t12 (2) molecules, in-class log_probabilities -4.152 -5.511 \t SMILES: C(C)(C)=CC\n",
      "bit 1592: \t10 (1) molecules, in-class log_probabilities -4.622 -6.071 \t SMILES: O(CC)C(c)=O\n",
      "bit 1611: \t7 (6) molecules, in-class log_probabilities -5.250 -7.457 \t SMILES: n(c(n)N)c(c)c\n",
      "bit 1615: \t9 (9) molecules, in-class log_probabilities -7.330 -4.624 \t SMILES: c(cc)(c(c)c)c(c)[nH]\n",
      "bit 1624: \t25 (2) molecules, in-class log_probabilities -4.034 -5.154 \t SMILES: C(=O)(O)C(C)N\n",
      "bit 1648: \t67 (56) molecules, in-class log_probabilities -4.497 -3.314 \t SMILES: c(c)(c)C\n",
      "bit 1655: \t23 (23) molecules, in-class log_probabilities -5.943 -4.238 \t SMILES: o(c(C)c)c(c)[N+]\n",
      "bit 1660: \t12 (0) molecules, in-class log_probabilities -4.932 -6.358 \t SMILES: C(=O)(NC)C(C)N\n",
      "bit 1660: \t7 (0) molecules, in-class log_probabilities -4.932 -6.358 \t SMILES: c(cc)(CC)c(C)c\n",
      "bit 1674: \t19 (19) molecules, in-class log_probabilities -5.720 -4.684 \t SMILES: C1(c(c)c)OC1c\n",
      "bit 1707: \t44 (39) molecules, in-class log_probabilities -6.637 -5.511 \t SMILES: C1OC1C\n",
      "bit 1718: \t187 (32) molecules, in-class log_probabilities -4.152 -5.848 \t SMILES: C(C)C\n",
      "bit 1718: \t12 (0) molecules, in-class log_probabilities -4.152 -5.848 \t SMILES: C(CC)C(N)=O\n",
      "bit 1718: \t7 (1) molecules, in-class log_probabilities -4.152 -5.848 \t SMILES: C(C=C)C(C)C\n",
      "bit 1733: \t23 (2) molecules, in-class log_probabilities -3.480 -2.110 \t SMILES: C(=O)(CC)OC\n",
      "bit 1734: \t27 (1) molecules, in-class log_probabilities -3.833 -5.059 \t SMILES: C(CC)OC\n",
      "bit 1737: \t116 (22) molecules, in-class log_probabilities -3.053 -4.090 \t SMILES: C(C)(=O)O\n",
      "bit 1746: \t47 (6) molecules, in-class log_probabilities -4.765 -6.071 \t SMILES: C(=O)(O)CC\n",
      "bit 1757: \t27 (3) molecules, in-class log_probabilities -5.384 -6.764 \t SMILES: N(C)(C)C\n",
      "bit 1778: \t16 (1) molecules, in-class log_probabilities -3.864 -5.154 \t SMILES: c(cc)(cc)CC\n",
      "bit 1792: \t6 (6) molecules, in-class log_probabilities -6.637 -5.378 \t SMILES: C(Cl)CN\n",
      "bit 1805: \t21 (3) molecules, in-class log_probabilities -6.637 -5.260 \t SMILES: C(CC)C(C)O\n",
      "bit 1805: \t6 (6) molecules, in-class log_probabilities -6.637 -5.260 \t SMILES: c(c(c)N)c(c)[N+]\n",
      "bit 1809: \t416 (357) molecules, in-class log_probabilities -3.719 -2.270 \t SMILES: [N+](=O)([O-])c(c)c\n",
      "bit 1814: \t286 (252) molecules, in-class log_probabilities -4.239 -2.453 \t SMILES: c(cc)c(c)[N+]\n",
      "bit 1838: \t27 (26) molecules, in-class log_probabilities -5.133 -4.090 \t SMILES: [N+](=N)=[N-]\n",
      "bit 1845: \t34 (3) molecules, in-class log_probabilities -6.231 -5.154 \t SMILES: C(=O)(OC)c(c)c\n",
      "bit 1847: \t22 (1) molecules, in-class log_probabilities -3.962 -5.260 \t SMILES: C(C)(C)N\n",
      "bit 1853: \t26 (5) molecules, in-class log_probabilities -3.962 -5.059 \t SMILES: c(cc)c(C)c\n",
      "bit 1856: \t30 (25) molecules, in-class log_probabilities -5.384 -4.125 \t SMILES: c(cc)c(c)N\n",
      "bit 1875: \t23 (19) molecules, in-class log_probabilities -5.538 -6.764 \t SMILES: c(O)(cc)c(C)c\n",
      "bit 1880: \t36 (36) molecules, in-class log_probabilities -5.720 -6.764 \t SMILES: c(cc)(c(c)[N+])c(c)c\n",
      "bit 1884: \t6 (5) molecules, in-class log_probabilities -4.239 -5.665 \t SMILES: c(cc)(c(c)c)C(C)O\n",
      "bit 1884: \t25 (3) molecules, in-class log_probabilities -4.239 -5.665 \t SMILES: C(c)(C)(C)C\n",
      "bit 1884: \t61 (12) molecules, in-class log_probabilities -4.239 -5.665 \t SMILES: C(C)(C)(C)C\n",
      "bit 1894: \t26 (2) molecules, in-class log_probabilities -5.720 -6.764 \t SMILES: C(CC)=C(C)C\n",
      "bit 1912: \t122 (112) molecules, in-class log_probabilities -4.765 -3.223 \t SMILES: c(c(c)c)(c(c)c)c(c)c\n",
      "bit 1914: \t7 (6) molecules, in-class log_probabilities -4.932 -3.545 \t SMILES: C(CCl)N(C)C\n",
      "bit 1914: \t100 (90) molecules, in-class log_probabilities -4.932 -3.545 \t SMILES: c(c(c)c)c(c)c\n",
      "bit 1923: \t8 (1) molecules, in-class log_probabilities -4.239 -3.238 \t SMILES: C(C)(C)OC\n",
      "bit 1925: \t63 (52) molecules, in-class log_probabilities -5.027 -3.874 \t SMILES: C(=O)(c(c)c)c(c)c\n",
      "bit 1925: \t7 (7) molecules, in-class log_probabilities -5.027 -3.874 \t SMILES: C(C)(N)O\n",
      "bit 1936: \t7 (7) molecules, in-class log_probabilities -5.943 -4.413 \t SMILES: c(c(c)C)c(c)c\n",
      "bit 1940: \t186 (154) molecules, in-class log_probabilities -4.152 -2.882 \t SMILES: c(cc)(cc)[N+](=O)[O-]\n",
      "bit 1940: \t32 (6) molecules, in-class log_probabilities -4.152 -2.882 \t SMILES: C(CC)(C(C)C)C(C)(C)C\n",
      "bit 1950: \t161 (25) molecules, in-class log_probabilities -3.864 -5.378 \t SMILES: C(C)(C)C\n",
      "bit 1963: \t531 (448) molecules, in-class log_probabilities -2.887 -1.403 \t SMILES: [N+]\n",
      "bit 1963: \t6 (0) molecules, in-class log_probabilities -2.887 -1.403 \t SMILES: O(C(C)C)C(C)O\n",
      "bit 1984: \t19 (18) molecules, in-class log_probabilities -3.235 -1.805 \t SMILES: O(C)N\n",
      "bit 1984: \t316 (263) molecules, in-class log_probabilities -3.235 -1.805 \t SMILES: c(c)(c)c\n",
      "bit 2006: \t12 (1) molecules, in-class log_probabilities -5.250 -6.358 \t SMILES: C(c(c)c)C(C)N\n",
      "bit 2016: \t10 (0) molecules, in-class log_probabilities -4.845 -6.764 \t SMILES: N(C(C)=O)C(C)C\n",
      "bit 2022: \t30 (3) molecules, in-class log_probabilities -5.720 -6.764 \t SMILES: C(OC)(OC)C(C)O\n"
     ]
    }
   ],
   "source": [
    "images = []\n",
    "smiles = {}\n",
    "#find all substructures associated with enriched bits\n",
    "for bit in zip(position,enrichment):\n",
    "    i = 0\n",
    "    class0_prob = bit_probabilities[0][bit[0]]\n",
    "    class1_prob = bit_probabilities[1][bit[0]]\n",
    "    for info in train_info:\n",
    "        if info.has_key(bit[0]):\n",
    "            try:\n",
    "                m = data[train[i]][0]\n",
    "                atomId,radius = info[bit[0]][0]\n",
    "                env=Chem.FindAtomEnvironmentOfRadiusN(m,radius,atomId)\n",
    "                amap={}            \n",
    "                #submol = Chem.PathToSubmol(m,env,atomMap=amap)\n",
    "                ats = set([atomId])\n",
    "                for bidx in env:\n",
    "                    bond = m.GetBondWithIdx(bidx)\n",
    "                    ats.add(bond.GetBeginAtomIdx())\n",
    "                    ats.add(bond.GetEndAtomIdx())\n",
    "                smi = Chem.MolFragmentToSmiles(m,atomsToUse=list(ats),bondsToUse=env,rootedAtAtom=atomId)\n",
    "                #smi = Chem.FastFindRings(smi)\n",
    "                \n",
    "                if smiles.has_key(smi):\n",
    "                    num_molecules = smiles[smi][0]\n",
    "                    num_positives = smiles[smi][1]\n",
    "                    if data[train[i]][1] == 1: num_positives+=1\n",
    "                    smiles[smi] = (num_molecules+1,num_positives,bit[0],class0_prob,class1_prob)\n",
    "                else:\n",
    "                    num_positives = 0\n",
    "                    if data[train[i]][1] == 1: num_positives=1\n",
    "                    smiles[smi] = (1,num_positives,bit[0],class0_prob,class1_prob)\n",
    "                \n",
    "            except:\n",
    "                continue\n",
    "        i+=1\n",
    "\n",
    "        results=[]\n",
    "for smi in smiles.keys():\n",
    "    ratio = float(smiles[smi][1])/smiles[smi][0]\n",
    "    if smiles[smi][0] > 5 and (ratio < 0.2 or ratio > 0.8): #show only substructures occuring in at least 5 molecules, with either less than 20% or more than 80% active proportion\n",
    "        results.append((smiles[smi][2],smiles[smi][0],smiles[smi][1],(smiles[smi][3]),(smiles[smi][4]),smi))\n",
    "results.sort(key=lambda x: x[0])\n",
    "for line in results:        \n",
    "    print 'bit %i: \\t%i (%i) molecules, in-class log_probabilities %0.3f %0.3f \\t SMILES: %s'%line"
   ]
  },
  {
   "cell_type": "markdown",
   "metadata": {},
   "source": [
    "# Regression"
   ]
  },
  {
   "cell_type": "markdown",
   "metadata": {},
   "source": [
    "The following section will demonstrate the construction of regression models using Random Forests from scikit-learn. The dataset consists of a csv file with precaclulated descriptors. The data is on the Adenosine A2A receptor (accession P29274) and consists of ~1500 compound obtained from ChEMBL_18. The tutorial uses pandas data frames. \n",
    "\n",
    "The data can be obtained from here : http://www.gjpvanwesten.nl/miscellaneous/A2A_Adenosine_set_mychembl.csv"
   ]
  },
  {
   "cell_type": "code",
   "execution_count": 13,
   "metadata": {
    "collapsed": false
   },
   "outputs": [],
   "source": [
    "import numpy as np\n",
    "import os,sys\n",
    "import gzip\n",
    "import rdkit\n",
    "from rdkit import Chem\n",
    "from rdkit.Chem import AllChem\n",
    "import rdkit.rdBase\n",
    "from rdkit.Chem.MACCSkeys import GenMACCSKeys\n",
    "from rdkit import DataStructs\n",
    "from rdkit.DataStructs import BitVectToText\n",
    "from rdkit.Chem.Draw import IPythonConsole\n",
    "from rdkit.Chem import Draw\n",
    "from rdkit import DataStructs\n",
    "from rdkit.Chem import MCS as MCS\n",
    "from rdkit.Chem import Descriptors as Descriptors\n",
    "from rdkit.ML.Descriptors import MoleculeDescriptors\n",
    "import pandas as pd \n",
    "from rdkit.Chem import PandasTools as PandasTools\n",
    "from rdkit.Chem import Descriptors as Descriptors\n",
    "import pylab as plt\n"
   ]
  },
  {
   "cell_type": "code",
   "execution_count": 14,
   "metadata": {
    "collapsed": false
   },
   "outputs": [],
   "source": [
    "# Definition of a function to remove near zero variance descriptors\n",
    "\n",
    "from collections import defaultdict\n",
    "\n",
    "def rmNearZeroVarDescs(descs,ratio):\n",
    "    colNb = descs.shape[1]\n",
    "    to_keep=[]\n",
    "    for j in range(0,colNb):\n",
    "        descs_now = descs[:,j]\n",
    "        d = defaultdict(int)\n",
    "        for i in descs_now:\n",
    "            d[i] += 1\n",
    "        freqs=sorted(d.iteritems(), key=lambda x: x[1], reverse=True)\n",
    "        if len(freqs) > 1: # there is more than one value..\n",
    "            most_frequent1 = freqs[0][1]\n",
    "            most_frequent2 = freqs[1][1]\n",
    "            if (np.array(most_frequent1)/np.array(most_frequent2)) < ratio:\n",
    "              to_keep.append(j)\n",
    "    return np.array(to_keep)"
   ]
  },
  {
   "cell_type": "markdown",
   "metadata": {},
   "source": [
    "To demonstrate the use, the data is loaded and manipulated with pandas dataframes. "
   ]
  },
  {
   "cell_type": "code",
   "execution_count": 15,
   "metadata": {
    "collapsed": false
   },
   "outputs": [],
   "source": [
    "frame = pd.read_csv('A2A_Adenosine_set_mychembl.csv')"
   ]
  },
  {
   "cell_type": "markdown",
   "metadata": {},
   "source": [
    "The data should be 1567 rows and 497 columns. "
   ]
  },
  {
   "cell_type": "code",
   "execution_count": 16,
   "metadata": {
    "collapsed": false
   },
   "outputs": [
    {
     "data": {
      "text/plain": [
       "(1567, 497)"
      ]
     },
     "execution_count": 16,
     "metadata": {},
     "output_type": "execute_result"
    }
   ],
   "source": [
    "frame.shape"
   ]
  },
  {
   "cell_type": "code",
   "execution_count": 17,
   "metadata": {
    "collapsed": false
   },
   "outputs": [
    {
     "data": {
      "text/html": [
       "<div style=\"max-height:1000px;max-width:1500px;overflow:auto;\">\n",
       "<table border=\"1\" class=\"dataframe\">\n",
       "  <thead>\n",
       "    <tr style=\"text-align: right;\">\n",
       "      <th></th>\n",
       "      <th>ACCESSION</th>\n",
       "      <th>MOLREGNO</th>\n",
       "      <th>PCHEMBL_VALUE</th>\n",
       "      <th>HBA</th>\n",
       "      <th>HBD</th>\n",
       "      <th>PSA</th>\n",
       "      <th>RTB</th>\n",
       "      <th>MED_CHEM_FRIENDLY</th>\n",
       "      <th>NUM_ALERTS</th>\n",
       "      <th>HEAVY_ATOMS</th>\n",
       "      <th>...</th>\n",
       "      <th>CM#FCFP_6#-835254725</th>\n",
       "      <th>CM#FCFP_6#238890401</th>\n",
       "      <th>CM#FCFP_6#522623800</th>\n",
       "      <th>CM#FCFP_6#426949827</th>\n",
       "      <th>CM#FCFP_6#930691991</th>\n",
       "      <th>CM#FCFP_6#-692413328</th>\n",
       "      <th>CM#FCFP_6#-703392038</th>\n",
       "      <th>CM#FCFP_6#238434898</th>\n",
       "      <th>adenosine_temp</th>\n",
       "      <th>diff</th>\n",
       "    </tr>\n",
       "  </thead>\n",
       "  <tbody>\n",
       "    <tr>\n",
       "      <th>0</th>\n",
       "      <td>P29274</td>\n",
       "      <td>591791</td>\n",
       "      <td>7.24</td>\n",
       "      <td>6</td>\n",
       "      <td>2</td>\n",
       "      <td>103.02</td>\n",
       "      <td>5</td>\n",
       "      <td>1</td>\n",
       "      <td>0</td>\n",
       "      <td>25</td>\n",
       "      <td>...</td>\n",
       "      <td>0</td>\n",
       "      <td>0</td>\n",
       "      <td>0</td>\n",
       "      <td>0</td>\n",
       "      <td>0</td>\n",
       "      <td>0</td>\n",
       "      <td>0</td>\n",
       "      <td>0</td>\n",
       "      <td>7.239994</td>\n",
       "      <td>0.000006</td>\n",
       "    </tr>\n",
       "    <tr>\n",
       "      <th>1</th>\n",
       "      <td>P29274</td>\n",
       "      <td>439974</td>\n",
       "      <td>8.27</td>\n",
       "      <td>5</td>\n",
       "      <td>1</td>\n",
       "      <td>89.08</td>\n",
       "      <td>5</td>\n",
       "      <td>1</td>\n",
       "      <td>0</td>\n",
       "      <td>30</td>\n",
       "      <td>...</td>\n",
       "      <td>0</td>\n",
       "      <td>0</td>\n",
       "      <td>0</td>\n",
       "      <td>0</td>\n",
       "      <td>0</td>\n",
       "      <td>0</td>\n",
       "      <td>0</td>\n",
       "      <td>0</td>\n",
       "      <td>8.269871</td>\n",
       "      <td>0.000129</td>\n",
       "    </tr>\n",
       "    <tr>\n",
       "      <th>2</th>\n",
       "      <td>P29274</td>\n",
       "      <td>500067</td>\n",
       "      <td>6.48</td>\n",
       "      <td>6</td>\n",
       "      <td>3</td>\n",
       "      <td>106.24</td>\n",
       "      <td>10</td>\n",
       "      <td>1</td>\n",
       "      <td>1</td>\n",
       "      <td>39</td>\n",
       "      <td>...</td>\n",
       "      <td>0</td>\n",
       "      <td>0</td>\n",
       "      <td>0</td>\n",
       "      <td>0</td>\n",
       "      <td>0</td>\n",
       "      <td>0</td>\n",
       "      <td>0</td>\n",
       "      <td>0</td>\n",
       "      <td>6.480154</td>\n",
       "      <td>0.000154</td>\n",
       "    </tr>\n",
       "    <tr>\n",
       "      <th>3</th>\n",
       "      <td>P29274</td>\n",
       "      <td>1441734</td>\n",
       "      <td>6.91</td>\n",
       "      <td>6</td>\n",
       "      <td>2</td>\n",
       "      <td>106.30</td>\n",
       "      <td>7</td>\n",
       "      <td>1</td>\n",
       "      <td>1</td>\n",
       "      <td>25</td>\n",
       "      <td>...</td>\n",
       "      <td>0</td>\n",
       "      <td>0</td>\n",
       "      <td>0</td>\n",
       "      <td>0</td>\n",
       "      <td>0</td>\n",
       "      <td>0</td>\n",
       "      <td>0</td>\n",
       "      <td>0</td>\n",
       "      <td>6.909724</td>\n",
       "      <td>0.000276</td>\n",
       "    </tr>\n",
       "    <tr>\n",
       "      <th>4</th>\n",
       "      <td>P29274</td>\n",
       "      <td>1421790</td>\n",
       "      <td>5.96</td>\n",
       "      <td>3</td>\n",
       "      <td>2</td>\n",
       "      <td>70.67</td>\n",
       "      <td>4</td>\n",
       "      <td>1</td>\n",
       "      <td>0</td>\n",
       "      <td>17</td>\n",
       "      <td>...</td>\n",
       "      <td>0</td>\n",
       "      <td>0</td>\n",
       "      <td>0</td>\n",
       "      <td>0</td>\n",
       "      <td>0</td>\n",
       "      <td>0</td>\n",
       "      <td>0</td>\n",
       "      <td>0</td>\n",
       "      <td>5.959641</td>\n",
       "      <td>0.000359</td>\n",
       "    </tr>\n",
       "  </tbody>\n",
       "</table>\n",
       "<p>5 rows × 497 columns</p>\n",
       "</div>"
      ],
      "text/plain": [
       "  ACCESSION  MOLREGNO  PCHEMBL_VALUE  HBA  HBD     PSA  RTB  MED_CHEM_FRIENDLY  NUM_ALERTS  HEAVY_ATOMS    ...     CM#FCFP_6#-835254725  CM#FCFP_6#238890401  CM#FCFP_6#522623800  CM#FCFP_6#426949827  CM#FCFP_6#930691991  CM#FCFP_6#-692413328  CM#FCFP_6#-703392038  CM#FCFP_6#238434898  adenosine_temp      diff\n",
       "0    P29274    591791           7.24    6    2  103.02    5                  1           0           25    ...                        0                    0                    0                    0                    0                     0                     0                    0        7.239994  0.000006\n",
       "1    P29274    439974           8.27    5    1   89.08    5                  1           0           30    ...                        0                    0                    0                    0                    0                     0                     0                    0        8.269871  0.000129\n",
       "2    P29274    500067           6.48    6    3  106.24   10                  1           1           39    ...                        0                    0                    0                    0                    0                     0                     0                    0        6.480154  0.000154\n",
       "3    P29274   1441734           6.91    6    2  106.30    7                  1           1           25    ...                        0                    0                    0                    0                    0                     0                     0                    0        6.909724  0.000276\n",
       "4    P29274   1421790           5.96    3    2   70.67    4                  1           0           17    ...                        0                    0                    0                    0                    0                     0                     0                    0        5.959641  0.000359\n",
       "\n",
       "[5 rows x 497 columns]"
      ]
     },
     "execution_count": 17,
     "metadata": {},
     "output_type": "execute_result"
    }
   ],
   "source": [
    "frame.head()"
   ]
  },
  {
   "cell_type": "markdown",
   "metadata": {},
   "source": [
    "The full frame is copied to form the x variables. From this copy the y variable and columns not required for learning are dropped. Subsequently the y variable is copied to a seperate dataframe. "
   ]
  },
  {
   "cell_type": "code",
   "execution_count": 18,
   "metadata": {
    "collapsed": false
   },
   "outputs": [
    {
     "data": {
      "text/plain": [
       "['HBA',\n",
       " 'HBD',\n",
       " 'PSA',\n",
       " 'RTB',\n",
       " 'MED_CHEM_FRIENDLY',\n",
       " 'NUM_ALERTS',\n",
       " 'HEAVY_ATOMS',\n",
       " 'FULL_MWT',\n",
       " 'AROMATIC_RINGS',\n",
       " 'NUM_RO5_VIOLATIONS',\n",
       " 'RO3_PASS',\n",
       " 'Acid',\n",
       " 'Base',\n",
       " 'Unknown',\n",
       " 'Ki',\n",
       " 'Kd',\n",
       " 'IC50',\n",
       " 'EC50',\n",
       " 'AC50',\n",
       " 'Other_activity_type',\n",
       " 'LogP',\n",
       " 'Num_Atoms',\n",
       " 'Num_Hydrogens',\n",
       " 'Num_ExplicitBonds',\n",
       " 'Num_PositiveAtoms',\n",
       " 'Num_NegativeAtoms',\n",
       " 'Num_RingBonds',\n",
       " 'Num_RotatableBonds',\n",
       " 'Num_AromaticBonds',\n",
       " 'Num_BridgeBonds',\n",
       " 'Num_Rings',\n",
       " 'Num_RingAssemblies',\n",
       " 'Num_Chains',\n",
       " 'Num_ChainAssemblies',\n",
       " 'Num_MetalAtoms',\n",
       " 'Num_PiBonds',\n",
       " 'Num_StereoAtoms',\n",
       " 'Num_StereoBonds',\n",
       " 'Num_SingleBonds',\n",
       " 'Num_DoubleBonds',\n",
       " 'Num_TripleBonds',\n",
       " 'Num_AliphaticSingleBonds',\n",
       " 'Num_HydrogenBonds',\n",
       " 'Num_TerminalRotomers',\n",
       " 'Num_H_Acceptors',\n",
       " 'Num_H_Donors',\n",
       " 'H_Count',\n",
       " 'C_Count',\n",
       " 'N_Count',\n",
       " 'O_Count',\n",
       " 'F_Count',\n",
       " 'P_Count',\n",
       " 'S_Count',\n",
       " 'Cl_Count',\n",
       " 'Br_Count',\n",
       " 'I_Count',\n",
       " 'Molecular_Solubility',\n",
       " 'Molecular_Volume',\n",
       " 'Molecular_SASA',\n",
       " 'Molecular_PolarSASA_Fraction',\n",
       " 'Solubility',\n",
       " 'Total_Atoms',\n",
       " 'Num_AliphaticRings',\n",
       " 'Heavy_Atom_Bonds',\n",
       " 'Hydrogen_Atom_Bonds',\n",
       " 'SingleBonds_Frac',\n",
       " 'DoubleBonds_Frac',\n",
       " 'AromaticBonds_Frac',\n",
       " 'BridgeBonds_Frac',\n",
       " 'StereoBonds_Frac',\n",
       " 'RingBonds_Frac',\n",
       " 'Aliphatic_Ringbonds_Frac',\n",
       " 'RotatableBonds_Frac',\n",
       " 'Num_Halogens',\n",
       " 'Carbon_fraction',\n",
       " 'Hydrogen_fraction',\n",
       " 'Nitrogen_fraction',\n",
       " 'Heteroatom_fraction',\n",
       " 'Sulphur_fraction',\n",
       " 'Phosphorus_fraction',\n",
       " 'Halogen_fraction',\n",
       " 'OtherAtom_fraction',\n",
       " 'StereoAtom_Fraction',\n",
       " 'PositiveAtom_Fraction',\n",
       " 'NegativeAtom_Fraction',\n",
       " 'H_Acceptors_Fraction',\n",
       " 'H_Donors_fraction',\n",
       " 'Molecular_Weight',\n",
       " 'Lipinski_Pass',\n",
       " 'Molecular_PolarSurfaceArea',\n",
       " 'Molecular_PolarSurfaceArea_Fraction',\n",
       " 'CM#FCFP_6#-65982584',\n",
       " 'CM#FCFP_6#1220222990',\n",
       " 'CM#FCFP_6#-1982171447',\n",
       " 'CM#FCFP_6#-2001551693',\n",
       " 'CM#FCFP_6#-1771696584',\n",
       " 'CM#FCFP_6#1979799016',\n",
       " 'CM#FCFP_6#-1115205388',\n",
       " 'CM#FCFP_6#-65868451',\n",
       " 'CM#FCFP_6#-492065043',\n",
       " 'CM#FCFP_6#-1642107661',\n",
       " 'CM#FCFP_6#-189641276',\n",
       " 'CM#FCFP_6#1462500218',\n",
       " 'CM#FCFP_6#1531826645',\n",
       " 'CM#FCFP_6#-293671387',\n",
       " 'CM#FCFP_6#-1071560772',\n",
       " 'CM#FCFP_6#27378098',\n",
       " 'CM#FCFP_6#-1001873921',\n",
       " 'CM#FCFP_6#193706886',\n",
       " 'CM#FCFP_6#1164792596',\n",
       " 'CM#FCFP_6#-1146141487',\n",
       " 'CM#FCFP_6#285374308',\n",
       " 'CM#FCFP_6#-498663958',\n",
       " 'CM#FCFP_6#-1479282148',\n",
       " 'CM#FCFP_6#-971683173',\n",
       " 'CM#FCFP_6#-699707120',\n",
       " 'CM#FCFP_6#1253847022',\n",
       " 'CM#FCFP_6#391068706',\n",
       " 'CM#FCFP_6#1982718309',\n",
       " 'CM#FCFP_6#1703564034',\n",
       " 'CM#FCFP_6#1140530667',\n",
       " 'CM#FCFP_6#187601626',\n",
       " 'CM#FCFP_6#-1459071555',\n",
       " 'CM#FCFP_6#-434116010',\n",
       " 'CM#FCFP_6#230514996',\n",
       " 'CM#FCFP_6#-936120204',\n",
       " 'CM#FCFP_6#372254866',\n",
       " 'CM#FCFP_6#-917072037',\n",
       " 'CM#FCFP_6#1692787152',\n",
       " 'CM#FCFP_6#73264552',\n",
       " 'CM#FCFP_6#1827402357',\n",
       " 'CM#FCFP_6#-327407377',\n",
       " 'CM#FCFP_6#-67620761',\n",
       " 'CM#FCFP_6#-1941818284',\n",
       " 'CM#FCFP_6#-1286158246',\n",
       " 'CM#FCFP_6#-54973313',\n",
       " 'CM#FCFP_6#1779217362',\n",
       " 'CM#FCFP_6#-1526113663',\n",
       " 'CM#FCFP_6#-2137417524',\n",
       " 'CM#FCFP_6#-2074416831',\n",
       " 'CM#FCFP_6#-1073796186',\n",
       " 'CM#FCFP_6#-413791989',\n",
       " 'CM#FCFP_6#-1532598714',\n",
       " 'CM#FCFP_6#-378110045',\n",
       " 'CM#FCFP_6#365650923',\n",
       " 'CM#FCFP_6#-1059904848',\n",
       " 'CM#FCFP_6#-1005932975',\n",
       " 'CM#FCFP_6#-972801681',\n",
       " 'CM#FCFP_6#-969679530',\n",
       " 'CM#FCFP_6#1685259762',\n",
       " 'CM#FCFP_6#-2090379603',\n",
       " 'CM#FCFP_6#835252212',\n",
       " 'CM#FCFP_6#1618940161',\n",
       " 'CM#FCFP_6#-1968861350',\n",
       " 'CM#FCFP_6#461422072',\n",
       " 'CM#FCFP_6#1234403192',\n",
       " 'CM#FCFP_6#1430777963',\n",
       " 'CM#FCFP_6#1976692152',\n",
       " 'CM#FCFP_6#69791780',\n",
       " 'CM#FCFP_6#1791505287',\n",
       " 'CM#FCFP_6#1635208540',\n",
       " 'CM#FCFP_6#-1401467450',\n",
       " 'CM#FCFP_6#1972424121',\n",
       " 'CM#FCFP_6#-1670510168',\n",
       " 'CM#FCFP_6#254350405',\n",
       " 'CM#FCFP_6#-645813023',\n",
       " 'CM#FCFP_6#603150292',\n",
       " 'CM#FCFP_6#684199633',\n",
       " 'CM#FCFP_6#480222659',\n",
       " 'CM#FCFP_6#1603387139',\n",
       " 'CM#FCFP_6#-1637545813',\n",
       " 'CM#FCFP_6#-2129824562',\n",
       " 'CM#FCFP_6#-330170411',\n",
       " 'CM#FCFP_6#1213951251',\n",
       " 'CM#FCFP_6#1284402681',\n",
       " 'CM#FCFP_6#623390154',\n",
       " 'CM#FCFP_6#1148911516',\n",
       " 'CM#FCFP_6#1135800885',\n",
       " 'CM#FCFP_6#362731743',\n",
       " 'CM#FCFP_6#-1577786275',\n",
       " 'CM#FCFP_6#1868119574',\n",
       " 'CM#FCFP_6#1068095685',\n",
       " 'CM#FCFP_6#94632228',\n",
       " 'CM#FCFP_6#929973182',\n",
       " 'CM#FCFP_6#-1420307139',\n",
       " 'CM#FCFP_6#444284352',\n",
       " 'CM#FCFP_6#-2080611022',\n",
       " 'CM#FCFP_6#592529482',\n",
       " 'CM#FCFP_6#-222683903',\n",
       " 'CM#FCFP_6#426057100',\n",
       " 'CM#FCFP_6#-2072891781',\n",
       " 'CM#FCFP_6#1330036798',\n",
       " 'CM#FCFP_6#-18280642',\n",
       " 'CM#FCFP_6#18254621',\n",
       " 'CM#FCFP_6#-308845632',\n",
       " 'CM#FCFP_6#1253553371',\n",
       " 'CM#FCFP_6#-1142665917',\n",
       " 'CM#FCFP_6#1163770894',\n",
       " 'CM#FCFP_6#1790016274',\n",
       " 'CM#FCFP_6#982725372',\n",
       " 'CM#FCFP_6#-1145636268',\n",
       " 'CM#FCFP_6#1607499308',\n",
       " 'CM#FCFP_6#1299628955',\n",
       " 'CM#FCFP_6#-1430326583',\n",
       " 'CM#FCFP_6#1268234302',\n",
       " 'CM#FCFP_6#808131372',\n",
       " 'CM#FCFP_6#-769112624',\n",
       " 'CM#FCFP_6#1934560662',\n",
       " 'CM#FCFP_6#1543168363',\n",
       " 'CM#FCFP_6#-2113922173',\n",
       " 'CM#FCFP_6#1161264108',\n",
       " 'CM#FCFP_6#-822042736',\n",
       " 'CM#FCFP_6#-1788355948',\n",
       " 'CM#FCFP_6#-617816210',\n",
       " 'CM#FCFP_6#-742051626',\n",
       " 'CM#FCFP_6#439408450',\n",
       " 'CM#FCFP_6#-1492117349',\n",
       " 'CM#FCFP_6#659537339',\n",
       " 'CM#FCFP_6#1894053239',\n",
       " 'CM#FCFP_6#-458341008',\n",
       " 'CM#FCFP_6#83705358',\n",
       " 'CM#FCFP_6#731405538',\n",
       " 'CM#FCFP_6#514530057',\n",
       " 'CM#FCFP_6#-1915268225',\n",
       " 'CM#FCFP_6#360781885',\n",
       " 'CM#FCFP_6#899878122',\n",
       " 'CM#FCFP_6#-1920691791',\n",
       " 'CM#FCFP_6#761090368',\n",
       " 'CM#FCFP_6#-411183202',\n",
       " 'CM#FCFP_6#102056907',\n",
       " 'CM#FCFP_6#888862702',\n",
       " 'CM#FCFP_6#1838609335',\n",
       " 'CM#FCFP_6#-990511789',\n",
       " 'CM#FCFP_6#460813766',\n",
       " 'CM#FCFP_6#-343334360',\n",
       " 'CM#FCFP_6#728315148',\n",
       " 'CM#FCFP_6#-1050194120',\n",
       " 'CM#FCFP_6#-1978061625',\n",
       " 'CM#FCFP_6#304605719',\n",
       " 'CM#FCFP_6#-1113036043',\n",
       " 'CM#FCFP_6#772808984',\n",
       " 'CM#FCFP_6#486646069',\n",
       " 'CM#FCFP_6#-1943511212',\n",
       " 'CM#FCFP_6#-1339251179',\n",
       " 'CM#FCFP_6#-1094335641',\n",
       " 'CM#FCFP_6#-1001309318',\n",
       " 'CM#FCFP_6#362069713',\n",
       " 'CM#FCFP_6#242046271',\n",
       " 'CM#FCFP_6#870604905',\n",
       " 'CM#FCFP_6#-1481112978',\n",
       " 'CM#FCFP_6#-2140071559',\n",
       " 'CM#FCFP_6#-1946918893',\n",
       " 'CM#FCFP_6#186783495',\n",
       " 'CM#FCFP_6#1195356364',\n",
       " 'CM#FCFP_6#-466948462',\n",
       " 'CM#FCFP_6#-123076023',\n",
       " 'CM#FCFP_6#-371808660',\n",
       " 'CM#FCFP_6#257620176',\n",
       " 'CM#FCFP_6#-400546712',\n",
       " 'CM#FCFP_6#543850689',\n",
       " 'CM#FCFP_6#1628996979',\n",
       " 'CM#FCFP_6#-1438008766',\n",
       " 'CM#FCFP_6#458149324',\n",
       " 'CM#FCFP_6#344221219',\n",
       " 'CM#FCFP_6#1333957356',\n",
       " 'CM#FCFP_6#-230926664',\n",
       " 'CM#FCFP_6#-1351757408',\n",
       " 'CM#FCFP_6#-455356268',\n",
       " 'CM#FCFP_6#35656213',\n",
       " 'CM#FCFP_6#1308153601',\n",
       " 'CM#FCFP_6#744772509',\n",
       " 'CM#FCFP_6#-682235529',\n",
       " 'CM#FCFP_6#1284767392',\n",
       " 'CM#FCFP_6#2124897395',\n",
       " 'CM#FCFP_6#338549743',\n",
       " 'CM#FCFP_6#-1960096778',\n",
       " 'CM#FCFP_6#622039763',\n",
       " 'CM#FCFP_6#860901833',\n",
       " 'CM#FCFP_6#1199403296',\n",
       " 'CM#FCFP_6#-1855248144',\n",
       " 'CM#FCFP_6#-570509192',\n",
       " 'CM#FCFP_6#975191202',\n",
       " 'CM#FCFP_6#-1914943219',\n",
       " 'CM#FCFP_6#-1435777484',\n",
       " 'CM#FCFP_6#1767086105',\n",
       " 'CM#FCFP_6#1935218400',\n",
       " 'CM#FCFP_6#-499162405',\n",
       " 'CM#FCFP_6#-650347350',\n",
       " 'CM#FCFP_6#1690711612',\n",
       " 'CM#FCFP_6#1246724734',\n",
       " 'CM#FCFP_6#1818492813',\n",
       " 'CM#FCFP_6#843746921',\n",
       " 'CM#FCFP_6#1977019013',\n",
       " 'CM#FCFP_6#-174657146',\n",
       " 'CM#FCFP_6#1673458031',\n",
       " 'CM#FCFP_6#-1803454487',\n",
       " 'CM#FCFP_6#663794721',\n",
       " 'CM#FCFP_6#-1741978002',\n",
       " 'CM#FCFP_6#-1291456811',\n",
       " 'CM#FCFP_6#-972090189',\n",
       " 'CM#FCFP_6#-1943506009',\n",
       " 'CM#FCFP_6#1853719422',\n",
       " 'CM#FCFP_6#-1057606618',\n",
       " 'CM#FCFP_6#1988809665',\n",
       " 'CM#FCFP_6#-315789915',\n",
       " 'CM#FCFP_6#2074795133',\n",
       " 'CM#FCFP_6#-746063837',\n",
       " 'CM#FCFP_6#-196821185',\n",
       " 'CM#FCFP_6#-883103639',\n",
       " 'CM#FCFP_6#-1215432213',\n",
       " 'CM#FCFP_6#-1263741263',\n",
       " 'CM#FCFP_6#767545668',\n",
       " 'CM#FCFP_6#362122913',\n",
       " 'CM#FCFP_6#556912035',\n",
       " 'CM#FCFP_6#1977011098',\n",
       " 'CM#FCFP_6#1855929186',\n",
       " 'CM#FCFP_6#91530927',\n",
       " 'CM#FCFP_6#-1838807585',\n",
       " 'CM#FCFP_6#1931481677',\n",
       " 'CM#FCFP_6#1406130289',\n",
       " 'CM#FCFP_6#-1143626567',\n",
       " 'CM#FCFP_6#562470208',\n",
       " 'CM#FCFP_6#-1634335053',\n",
       " 'CM#FCFP_6#804569186',\n",
       " 'CM#FCFP_6#985033767',\n",
       " 'CM#FCFP_6#932957673',\n",
       " 'CM#FCFP_6#-1162472683',\n",
       " 'CM#FCFP_6#-1053061282',\n",
       " 'CM#FCFP_6#722376637',\n",
       " 'CM#FCFP_6#723745966',\n",
       " 'CM#FCFP_6#-401775922',\n",
       " 'CM#FCFP_6#-1460694974',\n",
       " 'CM#FCFP_6#814438839',\n",
       " 'CM#FCFP_6#283309451',\n",
       " 'CM#FCFP_6#1904223630',\n",
       " 'CM#FCFP_6#-249417308',\n",
       " 'CM#FCFP_6#-448308528',\n",
       " 'CM#FCFP_6#1508475473',\n",
       " 'CM#FCFP_6#-1374907068',\n",
       " 'CM#FCFP_6#-540974741',\n",
       " 'CM#FCFP_6#1526117259',\n",
       " 'CM#FCFP_6#869938685',\n",
       " 'CM#FCFP_6#-1957956567',\n",
       " 'CM#FCFP_6#737073353',\n",
       " 'CM#FCFP_6#-619727385',\n",
       " 'CM#FCFP_6#-2083973249',\n",
       " 'CM#FCFP_6#1156755609',\n",
       " 'CM#FCFP_6#-160877196',\n",
       " 'CM#FCFP_6#-1073063049',\n",
       " 'CM#FCFP_6#436975416',\n",
       " 'CM#FCFP_6#1117446859',\n",
       " 'CM#FCFP_6#1197197857',\n",
       " 'CM#FCFP_6#-7655301',\n",
       " 'CM#FCFP_6#-2123312895',\n",
       " 'CM#FCFP_6#-1340282797',\n",
       " 'CM#FCFP_6#610160119',\n",
       " 'CM#FCFP_6#655144241',\n",
       " 'CM#FCFP_6#597068753',\n",
       " 'CM#FCFP_6#1441491593',\n",
       " 'CM#FCFP_6#1734354255',\n",
       " 'CM#FCFP_6#1293778554',\n",
       " 'CM#FCFP_6#840041502',\n",
       " 'CM#FCFP_6#442764008',\n",
       " 'CM#FCFP_6#-2084694990',\n",
       " 'CM#FCFP_6#224707551',\n",
       " 'CM#FCFP_6#72243472',\n",
       " 'CM#FCFP_6#517496183',\n",
       " 'CM#FCFP_6#606312525',\n",
       " 'CM#FCFP_6#-965582482',\n",
       " 'CM#FCFP_6#1097027750',\n",
       " 'CM#FCFP_6#-1384732668',\n",
       " 'CM#FCFP_6#-1529179653',\n",
       " 'CM#FCFP_6#-547603237',\n",
       " 'CM#FCFP_6#-668700475',\n",
       " 'CM#FCFP_6#-1535076754',\n",
       " 'CM#FCFP_6#564330994',\n",
       " 'CM#FCFP_6#1039701897',\n",
       " 'CM#FCFP_6#-1760059174',\n",
       " 'CM#FCFP_6#364727144',\n",
       " 'CM#FCFP_6#873995365',\n",
       " 'CM#FCFP_6#1716732258',\n",
       " 'CM#FCFP_6#-697570237',\n",
       " 'CM#FCFP_6#881330265',\n",
       " 'CM#FCFP_6#-145818131',\n",
       " 'CM#FCFP_6#-1424104851',\n",
       " 'CM#FCFP_6#-1856161761',\n",
       " 'CM#FCFP_6#908827089',\n",
       " 'CM#FCFP_6#-1811624534',\n",
       " 'CM#FCFP_6#1895855546',\n",
       " 'CM#FCFP_6#-4881488',\n",
       " 'CM#FCFP_6#305671550',\n",
       " 'CM#FCFP_6#1676761321',\n",
       " 'CM#FCFP_6#1752769507',\n",
       " 'CM#FCFP_6#412483143',\n",
       " 'CM#FCFP_6#-1748509072',\n",
       " 'CM#FCFP_6#1930116051',\n",
       " 'CM#FCFP_6#1589758501',\n",
       " 'CM#FCFP_6#-753319155',\n",
       " 'CM#FCFP_6#682513269',\n",
       " 'CM#FCFP_6#417888861',\n",
       " 'CM#FCFP_6#-1615197798',\n",
       " 'CM#FCFP_6#2069726452',\n",
       " 'CM#FCFP_6#1650783316',\n",
       " 'CM#FCFP_6#-57892020',\n",
       " 'CM#FCFP_6#2019264906',\n",
       " 'CM#FCFP_6#1789478575',\n",
       " 'CM#FCFP_6#-285234767',\n",
       " 'CM#FCFP_6#305251661',\n",
       " 'CM#FCFP_6#1655769626',\n",
       " 'CM#FCFP_6#1773134291',\n",
       " 'CM#FCFP_6#-589813731',\n",
       " 'CM#FCFP_6#1905931260',\n",
       " 'CM#FCFP_6#1572590862',\n",
       " 'CM#FCFP_6#-682930309',\n",
       " 'CM#FCFP_6#-1523364508',\n",
       " 'CM#FCFP_6#79404425',\n",
       " 'CM#FCFP_6#-58569187',\n",
       " 'CM#FCFP_6#-16171250',\n",
       " 'CM#FCFP_6#1514546927',\n",
       " 'CM#FCFP_6#-1601936993',\n",
       " 'CM#FCFP_6#-1548711670',\n",
       " 'CM#FCFP_6#123029058',\n",
       " 'CM#FCFP_6#514431804',\n",
       " 'CM#FCFP_6#-1219848372',\n",
       " 'CM#FCFP_6#6866222',\n",
       " 'CM#FCFP_6#-2059327199',\n",
       " 'CM#FCFP_6#1245516777',\n",
       " 'CM#FCFP_6#721109147',\n",
       " 'CM#FCFP_6#1148739285',\n",
       " 'CM#FCFP_6#72082411',\n",
       " 'CM#FCFP_6#1664708079',\n",
       " 'CM#FCFP_6#-612705684',\n",
       " 'CM#FCFP_6#-243694182',\n",
       " 'CM#FCFP_6#-1261114447',\n",
       " 'CM#FCFP_6#839741273',\n",
       " 'CM#FCFP_6#1960525771',\n",
       " 'CM#FCFP_6#1957636292',\n",
       " 'CM#FCFP_6#-1781982802',\n",
       " 'CM#FCFP_6#-1968900341',\n",
       " 'CM#FCFP_6#1991572711',\n",
       " 'CM#FCFP_6#839265750',\n",
       " 'CM#FCFP_6#-1816854191',\n",
       " 'CM#FCFP_6#996042223',\n",
       " 'CM#FCFP_6#-291402986',\n",
       " 'CM#FCFP_6#-175209142',\n",
       " 'CM#FCFP_6#1880146817',\n",
       " 'CM#FCFP_6#-1170294589',\n",
       " 'CM#FCFP_6#-648965472',\n",
       " 'CM#FCFP_6#-926642086',\n",
       " 'CM#FCFP_6#-509337055',\n",
       " 'CM#FCFP_6#-925106659',\n",
       " 'CM#FCFP_6#101683474',\n",
       " 'CM#FCFP_6#-283882430',\n",
       " 'CM#FCFP_6#-415156552',\n",
       " 'CM#FCFP_6#-212177535',\n",
       " 'CM#FCFP_6#2073268805',\n",
       " 'CM#FCFP_6#-1815229831',\n",
       " 'CM#FCFP_6#-59057453',\n",
       " 'CM#FCFP_6#-1871596165',\n",
       " 'CM#FCFP_6#-1974151053',\n",
       " 'CM#FCFP_6#968733428',\n",
       " 'CM#FCFP_6#-918244187',\n",
       " 'CM#FCFP_6#-550198050',\n",
       " 'CM#FCFP_6#-636452210',\n",
       " 'CM#FCFP_6#261517095',\n",
       " 'CM#FCFP_6#-1105635900',\n",
       " 'CM#FCFP_6#1257570395',\n",
       " 'CM#FCFP_6#-1014592515',\n",
       " 'CM#FCFP_6#1394363492',\n",
       " 'CM#FCFP_6#-1257270106',\n",
       " 'CM#FCFP_6#1880999728',\n",
       " 'CM#FCFP_6#-1784895416',\n",
       " 'CM#FCFP_6#-712094106',\n",
       " 'CM#FCFP_6#1556104795',\n",
       " 'CM#FCFP_6#238586068',\n",
       " 'CM#FCFP_6#1642539255',\n",
       " 'CM#FCFP_6#-446585171',\n",
       " 'CM#FCFP_6#862622023',\n",
       " 'CM#FCFP_6#1983738699',\n",
       " 'CM#FCFP_6#1963526533',\n",
       " 'CM#FCFP_6#1983298659',\n",
       " 'CM#FCFP_6#2019060838',\n",
       " 'CM#FCFP_6#604539105',\n",
       " 'CM#FCFP_6#-835254725',\n",
       " 'CM#FCFP_6#238890401',\n",
       " 'CM#FCFP_6#522623800',\n",
       " 'CM#FCFP_6#426949827',\n",
       " 'CM#FCFP_6#930691991',\n",
       " 'CM#FCFP_6#-692413328',\n",
       " 'CM#FCFP_6#-703392038',\n",
       " 'CM#FCFP_6#238434898']"
      ]
     },
     "execution_count": 18,
     "metadata": {},
     "output_type": "execute_result"
    }
   ],
   "source": [
    "x = frame\n",
    "PandasTools.AddMoleculeColumnToFrame(x,smilesCol='Smiles',molCol='mol',includeFingerprints=True)\n",
    "\n",
    "#remove properties not required for learning \n",
    "x = x.drop('Smiles',1)\n",
    "x = x.drop('mol',1)\n",
    "x = x.drop('ACCESSION',1)\n",
    "x = x.drop('MOLREGNO',1)\n",
    "x = x.drop('PCHEMBL_VALUE',1)\n",
    "x = x.drop('adenosine_temp' ,1)\n",
    "x = x.drop('diff' ,1)\n",
    "\n",
    "#output variables are transferred to a frame called y\n",
    "y = frame.PCHEMBL_VALUE\n",
    "\n",
    "#use the column names as labels for later\n",
    "Desc_values = list(x.columns)\n",
    "Desc_values"
   ]
  },
  {
   "cell_type": "code",
   "execution_count": 19,
   "metadata": {
    "collapsed": false
   },
   "outputs": [],
   "source": [
    "#set to floating point type\n",
    "x = x.astype('float64')\n",
    "# optional : visualize x.dtypes"
   ]
  },
  {
   "cell_type": "code",
   "execution_count": 20,
   "metadata": {
    "collapsed": false
   },
   "outputs": [],
   "source": [
    "#Optional : check for missing values\n",
    "#pd.isnull(x).any()"
   ]
  },
  {
   "cell_type": "code",
   "execution_count": 21,
   "metadata": {
    "collapsed": false
   },
   "outputs": [],
   "source": [
    "from sklearn import tree, grid_search,cross_validation\n",
    "from sklearn.cross_validation import StratifiedKFold\n",
    "from sklearn.cross_validation import KFold\n",
    "from sklearn.metrics import mean_squared_error\n",
    "from sklearn.metrics import explained_variance_score\n",
    "from sklearn.metrics import r2_score\n",
    "from sklearn import preprocessing\n",
    "from sklearn.grid_search import GridSearchCV"
   ]
  },
  {
   "cell_type": "code",
   "execution_count": 22,
   "metadata": {
    "collapsed": false
   },
   "outputs": [],
   "source": [
    "# Divide the original dataset into training (80%) and test (20%) set\n",
    "X_train2, X_test2, y_train2, y_test2 = cross_validation.train_test_split(x, y, test_size=0.2, random_state=23)"
   ]
  },
  {
   "cell_type": "code",
   "execution_count": 23,
   "metadata": {
    "collapsed": false
   },
   "outputs": [
    {
     "name": "stderr",
     "output_type": "stream",
     "text": [
      "[Parallel(n_jobs=1)]: Done   1 jobs       | elapsed:  1.2min\n",
      "[Parallel(n_jobs=1)]: Done   5 out of   5 | elapsed:  4.9min finished\n"
     ]
    },
    {
     "name": "stdout",
     "output_type": "stream",
     "text": [
      "Fitting 5 folds for each of 1 candidates, totalling 5 fits\n",
      "80% - 20% completed\n",
      "Best score: 0.85\n",
      "Training set performance using best parameters ({'n_estimators': 250, 'oob_score': True})\n",
      "Explained variance (Internal): 0.98112\n",
      "MSE (Internal): 0.01865\n",
      "Explained variance (External): 0.85496\n",
      "MSE (External): 0.13393\n"
     ]
    }
   ],
   "source": [
    "#import and Learn the model\n",
    "from sklearn import tree\n",
    "from sklearn import ensemble\n",
    "from sklearn.cross_validation import KFold\n",
    "from sklearn.grid_search import GridSearchCV\n",
    "\n",
    "\n",
    "custom_forest = ensemble.RandomForestRegressor()\n",
    "params = {'oob_score':[True],'n_estimators':[250]}\n",
    "\n",
    "\n",
    "cv = KFold(n=len(X_train2),n_folds=10,indices=False,shuffle=True)\n",
    "cv_stratified = StratifiedKFold(y_train2, n_folds=5)\n",
    "gs = GridSearchCV(custom_forest, params, cv=cv_stratified,verbose=1,refit=True)\n",
    "gs.fit(X_train2,y_train2)\n",
    "ztest2 = gs.predict(X_test2)\n",
    "ztest_train2 = gs.predict(X_train2)\n",
    "best_forest2 = gs.best_estimator_\n",
    "\n",
    "print '80% - 20% completed' \n",
    "print 'Best score: %0.2f'%gs.best_score_\n",
    "print 'Training set performance using best parameters (%s)'%gs.best_params_\n",
    "\n",
    "print 'Explained variance (Internal): %0.5f'%(best_forest2.score(X_train2,y_train2))\n",
    "print 'MSE (Internal): %0.5f'%(mean_squared_error(y_train2,ztest_train2))\n",
    "print 'Explained variance (External): %0.5f'%(best_forest2.score(X_test2,y_test2))\n",
    "print 'MSE (External): %0.5f'%(mean_squared_error(y_test2,ztest2))"
   ]
  },
  {
   "cell_type": "code",
   "execution_count": 24,
   "metadata": {
    "collapsed": false
   },
   "outputs": [
    {
     "data": {
      "text/plain": [
       "(4.7300000000000004, 9.5199999999999996)"
      ]
     },
     "execution_count": 24,
     "metadata": {},
     "output_type": "execute_result"
    },
    {
     "data": {
      "image/png": "[encoded data removed]",
      "text/plain": [
       "<matplotlib.figure.Figure at 0xadc4ed0>"
      ]
     },
     "metadata": {},
     "output_type": "display_data"
    }
   ],
   "source": [
    "figure,(plt5,plt6) = pylab.subplots(1,2)\n",
    "figure.set_size_inches(15,5)\n",
    "plt5.plot(x-1,x,c='red', linewidth=1,zorder=1)\n",
    "plt5.plot(x+1,x,c='red', linewidth=1,zorder=1)\n",
    "plt5.scatter(y_test2,ztest2,c='green',label='test',zorder=2)\n",
    "minn = np.min(np.concatenate([y_test2,ztest2],axis=0))\n",
    "maxx = np.max(np.concatenate([y_test2,ztest2],axis=0))\n",
    "plt5.set_ylim([minn,maxx])\n",
    "plt5.set_xlim([minn,maxx])\n",
    "plt5.set_title(\"Prediction test set 20%\")\n",
    "\n",
    "plt6.plot(x-1,x,c='red', linewidth=1,zorder=1)\n",
    "plt6.plot(x+1,x,c='red', linewidth=1,zorder=1)\n",
    "plt6.scatter(y_train2,ztest_train2,c='green',label='test',zorder=2)\n",
    "plt6.set_title(\"Prediction training set 80%\")\n",
    "minn = np.min(np.concatenate([y_train2,ztest_train2],axis=0))\n",
    "maxx = np.max(np.concatenate([y_train2,ztest_train2],axis=0))\n",
    "plt6.set_ylim([minn,maxx])\n",
    "plt6.set_xlim([minn,maxx])"
   ]
  },
  {
   "cell_type": "markdown",
   "metadata": {},
   "source": [
    "# Model interpretation"
   ]
  },
  {
   "cell_type": "markdown",
   "metadata": {},
   "source": [
    "Now we will use the best predictor to try and understand the data. We do so by directly interpreting the random forest (obviously these values can also be output to a text file for later interpretation.)"
   ]
  },
  {
   "cell_type": "code",
   "execution_count": 34,
   "metadata": {
    "collapsed": false
   },
   "outputs": [
    {
     "name": "stdout",
     "output_type": "stream",
     "text": [
      "491\n"
     ]
    },
    {
     "data": {
      "image/png": "[encoded data removed]",
      "text/plain": [
       "<matplotlib.figure.Figure at 0xadc4790>"
      ]
     },
     "metadata": {},
     "output_type": "display_data"
    }
   ],
   "source": [
    "feat_imp = best_forest2.feature_importances_\n",
    "print len(feat_imp)\n",
    "fig,a = pyplot.subplots(1,1)\n",
    "fig.set_size_inches(15,5)\n",
    "createImportancePlot(a,list(x.columns),feat_imp,\"Most important descriptors in the optimized tree\")"
   ]
  },
  {
   "cell_type": "code",
   "execution_count": 26,
   "metadata": {
    "collapsed": false
   },
   "outputs": [
    {
     "name": "stdout",
     "output_type": "stream",
     "text": [
      "Cross validated parameters\n",
      "Cross_val_MSE:  0.0186526056972\n",
      "Cross_val_Explained_variance:  0.981131618415\n",
      "Cross_val_R2_score:  0.981117316412\n",
      "\n",
      "Externally validated parameters\n",
      "Ext_val_MSE:  0.133926620336\n",
      "Ext_val_Explained_variance:  0.854971156467\n",
      "Ext_val_R2_score:  0.854962233426\n"
     ]
    }
   ],
   "source": [
    "print \"Cross validated parameters\" \n",
    "Cross_val_MSE_80 = mean_squared_error(y_train2, ztest_train2)\n",
    "print \"Cross_val_MSE: \", Cross_val_MSE_80\n",
    "Cross_val_Exp_var_80 = explained_variance_score(y_train2, ztest_train2)\n",
    "print \"Cross_val_Explained_variance: \" , Cross_val_Exp_var_80\n",
    "Cross_val_R2_80 = r2_score(y_train2, ztest_train2)\n",
    "print \"Cross_val_R2_score: \" , Cross_val_R2_80\n",
    "print \"\"\n",
    "print 'Externally validated parameters'\n",
    "Ext_val_MSE_80 = extvmetrics2 = mean_squared_error(y_test2 , ztest2)\n",
    "print \"Ext_val_MSE: \", Ext_val_MSE_80 \n",
    "Ext_val_Exp_var_80 =explained_variance_score(y_test2 , ztest2)\n",
    "print \"Ext_val_Explained_variance: \" , Ext_val_Exp_var_80\n",
    "Ext_val_R2_80 = r2_score(y_test2 , ztest2)\n",
    "print \"Ext_val_R2_score: \" , Ext_val_R2_80 "
   ]
  },
  {
   "cell_type": "code",
   "execution_count": 27,
   "metadata": {
    "collapsed": false
   },
   "outputs": [
    {
     "data": {
      "text/html": [
       "<div style=\"max-height:1000px;max-width:1500px;overflow:auto;\">\n",
       "<table border=\"1\" class=\"dataframe\">\n",
       "  <thead>\n",
       "    <tr style=\"text-align: right;\">\n",
       "      <th></th>\n",
       "      <th>Parameter</th>\n",
       "      <th>Cross Validation</th>\n",
       "      <th>External Validation</th>\n",
       "      <th>Difference</th>\n",
       "    </tr>\n",
       "  </thead>\n",
       "  <tbody>\n",
       "    <tr>\n",
       "      <th>0</th>\n",
       "      <td>Mean Squared Error</td>\n",
       "      <td>0.018653</td>\n",
       "      <td>0.133927</td>\n",
       "      <td>0.115274</td>\n",
       "    </tr>\n",
       "    <tr>\n",
       "      <th>1</th>\n",
       "      <td>Explained variance</td>\n",
       "      <td>0.981132</td>\n",
       "      <td>0.854971</td>\n",
       "      <td>-0.126160</td>\n",
       "    </tr>\n",
       "    <tr>\n",
       "      <th>2</th>\n",
       "      <td>R2 Score</td>\n",
       "      <td>0.981117</td>\n",
       "      <td>0.854962</td>\n",
       "      <td>-0.126155</td>\n",
       "    </tr>\n",
       "  </tbody>\n",
       "</table>\n",
       "</div>"
      ],
      "text/plain": [
       "            Parameter  Cross Validation  External Validation  Difference\n",
       "0  Mean Squared Error          0.018653             0.133927    0.115274\n",
       "1  Explained variance          0.981132             0.854971   -0.126160\n",
       "2            R2 Score          0.981117             0.854962   -0.126155"
      ]
     },
     "execution_count": 27,
     "metadata": {},
     "output_type": "execute_result"
    }
   ],
   "source": [
    "Validation2 = pd.DataFrame.from_items([ ('Parameter', ['Mean Squared Error' , 'Explained variance' , 'R2 Score']), ('Cross Validation', [Cross_val_MSE_80, Cross_val_Exp_var_80, Cross_val_R2_80 ]), ('External Validation', [Ext_val_MSE_80, Ext_val_Exp_var_80, Ext_val_R2_80 ]), ('Difference', [Ext_val_MSE_80 - Cross_val_MSE_80, Ext_val_Exp_var_80 - Cross_val_Exp_var_80, Ext_val_R2_80 - Cross_val_R2_80])])\n",
    "Validation2"
   ]
  },
  {
   "cell_type": "markdown",
   "metadata": {},
   "source": [
    "# Learning Curves"
   ]
  },
  {
   "cell_type": "markdown",
   "metadata": {},
   "source": [
    "It can be beneficial for a better understanding of the data and the performance gained by the machine learning algorithm to create learning curves. The concept it to create several splits of your data between training and tests sets. Subsequently multiple models are trained and model performance is plotted against training set size. As this can be computationally expensive it is here included as the last section. Again, depending on the hardware this can take some time."
   ]
  },
  {
   "cell_type": "code",
   "execution_count": 28,
   "metadata": {
    "collapsed": false
   },
   "outputs": [],
   "source": [
    "# Divide the original dataset into training 20 - testing 80, and a 50-50 set\n",
    "X_traina, X_testa, y_traina, y_testa = cross_validation.train_test_split(x, y, test_size=0.95, random_state=23)\n",
    "X_train, X_test, y_train, y_test = cross_validation.train_test_split(x, y, test_size=0.8, random_state=23)\n",
    "X_train1, X_test1, y_train1, y_test1 = cross_validation.train_test_split(x, y, test_size=0.5, random_state=23)\n",
    "X_trainb, X_testb, y_trainb, y_testb = cross_validation.train_test_split(x, y, test_size=0.05, random_state=23)\n"
   ]
  },
  {
   "cell_type": "code",
   "execution_count": 29,
   "metadata": {
    "collapsed": false
   },
   "outputs": [
    {
     "name": "stderr",
     "output_type": "stream",
     "text": [
      "[Parallel(n_jobs=1)]: Done   1 jobs       | elapsed:   13.4s\n",
      "[Parallel(n_jobs=1)]: Done   5 out of   5 | elapsed:   31.2s finished\n"
     ]
    },
    {
     "name": "stdout",
     "output_type": "stream",
     "text": [
      "Fitting 5 folds for each of 1 candidates, totalling 5 fits\n",
      "5% - 95% completed"
     ]
    },
    {
     "name": "stderr",
     "output_type": "stream",
     "text": [
      "[Parallel(n_jobs=1)]: Done   1 jobs       | elapsed:   11.3s\n",
      "[Parallel(n_jobs=1)]: Done   5 out of   5 | elapsed:  1.0min finished\n"
     ]
    },
    {
     "name": "stdout",
     "output_type": "stream",
     "text": [
      "\n",
      "Best score: 0.57\n",
      "Training set performance using best parameters ({'n_estimators': 250, 'oob_score': True})\n",
      "Explained variance (Internal): 0.93829\n",
      "MSE (Internal): 0.06413\n",
      "Explained variance (External): 0.46237\n",
      "MSE (External): 0.52245\n",
      "Fitting 5 folds for each of 1 candidates, totalling 5 fits\n",
      "20% - 80% completed"
     ]
    },
    {
     "name": "stderr",
     "output_type": "stream",
     "text": [
      "[Parallel(n_jobs=1)]: Done   1 jobs       | elapsed:   31.4s\n",
      "[Parallel(n_jobs=1)]: Done   5 out of   5 | elapsed:  2.6min finished\n"
     ]
    },
    {
     "name": "stdout",
     "output_type": "stream",
     "text": [
      "\n",
      "Best score: 0.77\n",
      "Training set performance using best parameters ({'n_estimators': 250, 'oob_score': True})\n",
      "Explained variance (Internal): 0.96808\n",
      "MSE (Internal): 0.03352\n",
      "Explained variance (External): 0.70020\n",
      "MSE (External): 0.28624\n",
      "Fitting 5 folds for each of 1 candidates, totalling 5 fits\n",
      "50% - 50% completed\n",
      "Best score: 0.80\n",
      "Training set performance using best parameters ({'n_estimators': 250, 'oob_score': True})\n",
      "Explained variance (Internal): 0.97564\n",
      "MSE (Internal): 0.02439\n",
      "Explained variance (External): 0.80709"
     ]
    },
    {
     "name": "stderr",
     "output_type": "stream",
     "text": [
      "[Parallel(n_jobs=1)]: Done   1 jobs       | elapsed:  1.1min\n",
      "[Parallel(n_jobs=1)]: Done   5 out of   5 | elapsed:  5.2min finished\n"
     ]
    },
    {
     "name": "stdout",
     "output_type": "stream",
     "text": [
      "\n",
      "MSE (External): 0.18306\n",
      "Fitting 5 folds for each of 1 candidates, totalling 5 fits\n",
      "95% - 5% completed\n",
      "Best score: 0.86\n",
      "Training set performance using best parameters ({'n_estimators': 250, 'oob_score': True})\n",
      "Explained variance (Internal): 0.98267\n",
      "MSE (Internal): 0.01718\n",
      "Explained variance (External): 0.75705\n",
      "MSE (External): 0.16002\n"
     ]
    }
   ],
   "source": [
    "cv = KFold(n=len(X_traina),n_folds=10,indices=False,shuffle=True)\n",
    "cv_stratified = StratifiedKFold(y_traina, n_folds=5)\n",
    "gs = GridSearchCV(custom_forest, params, cv=cv_stratified,verbose=1,refit=True)\n",
    "gs.fit(X_traina,y_traina)\n",
    "ztesta = gs.predict(X_testa)\n",
    "ztest_traina = gs.predict(X_traina)\n",
    "best_foresta = gs.best_estimator_\n",
    "\n",
    "#print intermediate results to keep an eye on progress\n",
    "print '5% - 95% completed' \n",
    "print 'Best score: %0.2f'%gs.best_score_\n",
    "print 'Training set performance using best parameters (%s)'%gs.best_params_\n",
    "best_treemodel = gs.best_estimator_\n",
    "print 'Explained variance (Internal): %0.5f'%(best_foresta.score(X_traina,y_traina))\n",
    "print 'MSE (Internal): %0.5f'%(mean_squared_error(y_traina,ztest_traina))\n",
    "print 'Explained variance (External): %0.5f'%(best_foresta.score(X_testa,y_testa))\n",
    "print 'MSE (External): %0.5f'%(mean_squared_error(y_testa,ztesta))\n",
    "\n",
    "\n",
    "cv = KFold(n=len(X_train),n_folds=10,indices=False,shuffle=True)\n",
    "cv_stratified = StratifiedKFold(y_train, n_folds=5)\n",
    "gs = GridSearchCV(custom_forest, params, cv=cv_stratified,verbose=1,refit=True)\n",
    "gs.fit(X_train,y_train)\n",
    "ztest = gs.predict(X_test)\n",
    "ztest_train = gs.predict(X_train)\n",
    "best_forest = gs.best_estimator_\n",
    "\n",
    "#print intermediate results to keep an eye on progress\n",
    "print '20% - 80% completed' \n",
    "print 'Best score: %0.2f'%gs.best_score_\n",
    "print 'Training set performance using best parameters (%s)'%gs.best_params_\n",
    "best_treemodel = gs.best_estimator_\n",
    "print 'Explained variance (Internal): %0.5f'%(best_forest.score(X_train,y_train))\n",
    "print 'MSE (Internal): %0.5f'%(mean_squared_error(y_train,ztest_train))\n",
    "print 'Explained variance (External): %0.5f'%(best_forest.score(X_test,y_test))\n",
    "print 'MSE (External): %0.5f'%(mean_squared_error(y_test,ztest))\n",
    "\n",
    "cv = KFold(n=len(X_train1),n_folds=10,indices=False,shuffle=True)\n",
    "cv_stratified = StratifiedKFold(y_train1, n_folds=5)\n",
    "gs = GridSearchCV(custom_forest, params, cv=cv_stratified,verbose=1,refit=True)\n",
    "gs.fit(X_train1,y_train1)\n",
    "ztest1 = gs.predict(X_test1)\n",
    "ztest_train1 = gs.predict(X_train1)\n",
    "best_forest1 = gs.best_estimator_\n",
    "\n",
    "#print intermediate results to keep an eye on progress\n",
    "print '50% - 50% completed' \n",
    "print 'Best score: %0.2f'%gs.best_score_\n",
    "print 'Training set performance using best parameters (%s)'%gs.best_params_\n",
    "\n",
    "print 'Explained variance (Internal): %0.5f'%(best_forest1.score(X_train1,y_train1))\n",
    "print 'MSE (Internal): %0.5f'%(mean_squared_error(y_train1,ztest_train1))\n",
    "print 'Explained variance (External): %0.5f'%(best_forest1.score(X_test1,y_test1))\n",
    "print 'MSE (External): %0.5f'%(mean_squared_error(y_test1,ztest1))\n",
    "\n",
    "cv = KFold(n=len(X_trainb),n_folds=10,indices=False,shuffle=True)\n",
    "cv_stratified = StratifiedKFold(y_trainb, n_folds=5)\n",
    "gs = GridSearchCV(custom_forest, params, cv=cv_stratified,verbose=1,refit=True)\n",
    "gs.fit(X_trainb,y_trainb)\n",
    "ztestb = gs.predict(X_testb)\n",
    "ztest_trainb = gs.predict(X_trainb)\n",
    "best_forestb = gs.best_estimator_\n",
    "\n",
    "#print intermediate results to keep an eye on progress\n",
    "print '95% - 5% completed' \n",
    "print 'Best score: %0.2f'%gs.best_score_\n",
    "print 'Training set performance using best parameters (%s)'%gs.best_params_\n",
    "\n",
    "print 'Explained variance (Internal): %0.5f'%(best_forestb.score(X_trainb,y_trainb))\n",
    "print 'MSE (Internal): %0.5f'%(mean_squared_error(y_trainb,ztest_trainb))\n",
    "print 'Explained variance (External): %0.5f'%(best_forestb.score(X_testb,y_testb))\n",
    "print 'MSE (External): %0.5f'%(mean_squared_error(y_testb,ztestb))"
   ]
  },
  {
   "cell_type": "code",
   "execution_count": 30,
   "metadata": {
    "collapsed": false
   },
   "outputs": [
    {
     "data": {
      "text/plain": [
       "(4.7300000000000004, 9.5199999999999996)"
      ]
     },
     "execution_count": 30,
     "metadata": {},
     "output_type": "execute_result"
    },
    {
     "data": {
      "image/png": "[encoded data removed]",
      "text/plain": [
       "<matplotlib.figure.Figure at 0x28e0ed90>"
      ]
     },
     "metadata": {},
     "output_type": "display_data"
    },
    {
     "data": {
      "image/png": "[encoded data removed]",
      "text/plain": [
       "<matplotlib.figure.Figure at 0x2ea39fd0>"
      ]
     },
     "metadata": {},
     "output_type": "display_data"
    },
    {
     "data": {
      "image/png": "[encoded data removed]",
      "text/plain": [
       "<matplotlib.figure.Figure at 0x3684f410>"
      ]
     },
     "metadata": {},
     "output_type": "display_data"
    },
    {
     "data": {
      "image/png": "[encoded data removed]",
      "text/plain": [
       "<matplotlib.figure.Figure at 0xf6cb2d0>"
      ]
     },
     "metadata": {},
     "output_type": "display_data"
    }
   ],
   "source": [
    "#create measured vs predicted plots\n",
    "#plt.xkcd()\n",
    "figure,(plt1,plt2) = pylab.subplots(1,2)\n",
    "figure.set_size_inches(15,5)\n",
    "plt1.plot(x-1,x,c='red',linewidth=1,zorder=1)\n",
    "plt1.plot(x+1,x,c='red',linewidth=1,zorder=1)\n",
    "plt1.scatter(y_test,ztest,c='green',label='test',zorder=2)\n",
    "minn = np.min(np.concatenate([y_test,ztest],axis=0))\n",
    "maxx = np.max(np.concatenate([y_test,ztest],axis=0))\n",
    "plt1.set_ylim([minn,maxx])\n",
    "plt1.set_xlim([minn,maxx])\n",
    "plt1.set_title(\"Prediction test set 80%\")\n",
    "\n",
    "plt2.plot(x-1,x,c='red',linewidth=1,zorder=1)\n",
    "plt2.plot(x+1,x,c='red',linewidth=1,zorder=1)\n",
    "plt2.scatter(y_train,ztest_train,c='green',label='test',zorder=2)\n",
    "plt2.set_title(\"Prediction training set 20%\")\n",
    "minn = np.min(np.concatenate([y_train,ztest_train],axis=0))\n",
    "maxx = np.max(np.concatenate([y_train,ztest_train],axis=0))\n",
    "plt2.set_ylim([minn,maxx])\n",
    "plt2.set_xlim([minn,maxx])\n",
    "\n",
    "figure,(plt3,plt4) = pylab.subplots(1,2)\n",
    "figure.set_size_inches(15,5)\n",
    "plt3.plot(x-1,x,c='red', linewidth=1,zorder=1)\n",
    "plt3.plot(x+1,x,c='red', linewidth=1,zorder=1)\n",
    "plt3.scatter(y_test1,ztest1,c='green',label='test',zorder=2)\n",
    "minn = np.min(np.concatenate([y_test,ztest],axis=0))\n",
    "maxx = np.max(np.concatenate([y_test,ztest],axis=0))\n",
    "plt3.set_ylim([minn,maxx])\n",
    "plt3.set_xlim([minn,maxx])\n",
    "plt3.set_title(\"Prediction test set 50%\")\n",
    "\n",
    "plt4.plot(x-1,x,c='red', linewidth=1,zorder=1)\n",
    "plt4.plot(x+1,x,c='red', linewidth=1,zorder=1)\n",
    "plt4.scatter(y_train1,ztest_train1,c='green',label='test',zorder=2)\n",
    "plt4.set_title(\"Prediction training set 50%\")\n",
    "minn = np.min(np.concatenate([y_train,ztest_train],axis=0))\n",
    "maxx = np.max(np.concatenate([y_train,ztest_train],axis=0))\n",
    "plt4.set_ylim([minn,maxx])\n",
    "plt4.set_xlim([minn,maxx])\n",
    "\n",
    "\n",
    "figure,(plt5,plt6) = pylab.subplots(1,2)\n",
    "figure.set_size_inches(15,5)\n",
    "plt5.plot(x-1,x,c='red', linewidth=1,zorder=1)\n",
    "plt5.plot(x+1,x,c='red', linewidth=1,zorder=1)\n",
    "plt5.scatter(y_test2,ztest2,c='green',label='test',zorder=2)\n",
    "minn = np.min(np.concatenate([y_test,ztest],axis=0))\n",
    "maxx = np.max(np.concatenate([y_test,ztest],axis=0))\n",
    "plt5.set_ylim([minn,maxx])\n",
    "plt5.set_xlim([minn,maxx])\n",
    "plt5.set_title(\"Prediction test set 20%\")\n",
    "\n",
    "plt6.plot(x-1,x,c='red', linewidth=1,zorder=1)\n",
    "plt6.plot(x+1,x,c='red', linewidth=1,zorder=1)\n",
    "plt6.scatter(y_train2,ztest_train2,c='green',label='test',zorder=2)\n",
    "plt6.set_title(\"Prediction training set 80%\")\n",
    "minn = np.min(np.concatenate([y_train,ztest_train],axis=0))\n",
    "maxx = np.max(np.concatenate([y_train,ztest_train],axis=0))\n",
    "plt6.set_ylim([minn,maxx])\n",
    "plt6.set_xlim([minn,maxx])\n",
    "\n",
    "figure,(plt7,plt8) = pylab.subplots(1,2)\n",
    "figure.set_size_inches(15,5)\n",
    "plt7.plot(x-1,x,c='red', linewidth=1,zorder=1)\n",
    "plt7.plot(x+1,x,c='red', linewidth=1,zorder=1)\n",
    "plt7.scatter(y_testb,ztestb,c='green',label='test',zorder=2)\n",
    "minn = np.min(np.concatenate([y_test,ztest],axis=0))\n",
    "maxx = np.max(np.concatenate([y_test,ztest],axis=0))\n",
    "plt7.set_ylim([minn,maxx])\n",
    "plt7.set_xlim([minn,maxx])\n",
    "plt7.set_title(\"Prediction test set 5%\")\n",
    "\n",
    "plt8.plot(x-1,x,c='red', linewidth=1,zorder=1)\n",
    "plt8.plot(x+1,x,c='red', linewidth=1,zorder=1)\n",
    "plt8.scatter(y_trainb,ztest_trainb,c='green',label='test',zorder=2)\n",
    "plt8.set_title(\"Prediction training set 80%\")\n",
    "minn = np.min(np.concatenate([y_train,ztest_train],axis=0))\n",
    "maxx = np.max(np.concatenate([y_train,ztest_train],axis=0))\n",
    "plt8.set_ylim([minn,maxx])\n",
    "plt8.set_xlim([minn,maxx])"
   ]
  },
  {
   "cell_type": "code",
   "execution_count": 31,
   "metadata": {
    "collapsed": false
   },
   "outputs": [
    {
     "name": "stdout",
     "output_type": "stream",
     "text": [
      "5%-95%\n",
      "Cross validated parameters\n",
      "Cross_val_MSE:  0.0641316414154\n",
      "Cross_val_R2_score:  0.938287564173\n",
      "\n",
      "Externally validated parameters\n",
      "Ext_val_MSE:  0.522451463992\n",
      "Ext_val_R2_score:  0.462368122942\n",
      "\n",
      "\n",
      "20%-80%\n",
      "Cross_val_MSE:  0.0335233862083\n",
      "Cross_val_Explained_variance:  0.968090406015\n",
      "Cross_val_R2_score:  0.968082904151\n",
      "\n",
      "Ext_val_MSE:  0.28624077071\n",
      "Ext_val_Explained_variance:  0.704093082002\n",
      "Ext_val_R2_score:  0.700198727591\n",
      "\n",
      "\n",
      "50%-50%\n",
      "Cross_val_MSE:  0.0243897386524\n",
      "Cross_val_Explained_variance:  0.975680673534\n",
      "Cross_val_R2_score:  0.975644950266\n",
      "\n",
      "Ext_val_MSE:  0.28624077071\n",
      "Ext_val_Explained_variance:  0.808713471315\n",
      "Ext_val_R2_score:  0.807093420953\n",
      "\n",
      "\n",
      "95%-5%\n",
      "Cross validated parameters\n",
      "Cross_val_MSE:  0.0171829381049\n",
      "Cross_val_R2_score:  0.982673113644\n",
      "\n",
      "Externally validated parameters\n",
      "Ext_val_MSE:  0.160017686744\n",
      "Ext_val_R2_score:  0.757045705184\n"
     ]
    }
   ],
   "source": [
    "print '5%-95%'\n",
    "print \"Cross validated parameters\" \n",
    "Cross_val_MSE_05 = mean_squared_error(y_traina, ztest_traina)\n",
    "print \"Cross_val_MSE: \", Cross_val_MSE_05\n",
    "Cross_val_R2_05 = r2_score(y_traina, ztest_traina)\n",
    "print \"Cross_val_R2_score: \" , Cross_val_R2_05\n",
    "print \"\"\n",
    "print 'Externally validated parameters'\n",
    "Ext_val_MSE_05 = extvmetrics2 = mean_squared_error(y_testa , ztesta)\n",
    "print \"Ext_val_MSE: \", Ext_val_MSE_05 \n",
    "Ext_val_R2_05 = r2_score(y_testa , ztesta)\n",
    "print \"Ext_val_R2_score: \" , Ext_val_R2_05 \n",
    "print ''\n",
    "print ''\n",
    "print '20%-80%'\n",
    "Cross_val_MSE_20 = mean_squared_error(y_train, ztest_train)\n",
    "print \"Cross_val_MSE: \", Cross_val_MSE_20\n",
    "Cross_val_Exp_var_20 = explained_variance_score(y_train, ztest_train)\n",
    "print \"Cross_val_Explained_variance: \" , Cross_val_Exp_var_20\n",
    "Cross_val_R2_20 = r2_score(y_train, ztest_train)\n",
    "print \"Cross_val_R2_score: \" , Cross_val_R2_20\n",
    "print ''\n",
    "Ext_val_MSE_20 = mean_squared_error(y_test , ztest)\n",
    "print \"Ext_val_MSE: \", Ext_val_MSE_20\n",
    "Ext_val_Exp_var_20 = explained_variance_score(y_test , ztest)\n",
    "print \"Ext_val_Explained_variance: \" , Ext_val_Exp_var_20\n",
    "Ext_val_R2_20 = r2_score(y_test , ztest)\n",
    "print \"Ext_val_R2_score: \" , Ext_val_R2_20 \n",
    "print ''\n",
    "print ''\n",
    "print '50%-50%'\n",
    "Cross_val_MSE_50 = mean_squared_error(y_train1, ztest_train1)\n",
    "print \"Cross_val_MSE: \", Cross_val_MSE_50 \n",
    "Cross_val_Exp_var_50 = explained_variance_score(y_train1, ztest_train1)\n",
    "print \"Cross_val_Explained_variance: \" , Cross_val_Exp_var_50\n",
    "Cross_val_R2_50 = r2_score(y_train1, ztest_train1)\n",
    "print \"Cross_val_R2_score: \" , Cross_val_R2_50 \n",
    "print''\n",
    "Ext_val_MSE_50 = mean_squared_error(y_test1 , ztest1)\n",
    "print \"Ext_val_MSE: \", Ext_val_MSE_20\n",
    "Ext_val_Exp_var_50 = explained_variance_score(y_test1 , ztest1)\n",
    "print \"Ext_val_Explained_variance: \" ,Ext_val_Exp_var_50\n",
    "Ext_val_R2_50 = r2_score(y_test1 , ztest1)\n",
    "print \"Ext_val_R2_score: \" , Ext_val_R2_50\n",
    "print ''\n",
    "print ''\n",
    "print '95%-5%'\n",
    "print \"Cross validated parameters\" \n",
    "Cross_val_MSE_95 = mean_squared_error(y_trainb, ztest_trainb)\n",
    "print \"Cross_val_MSE: \", Cross_val_MSE_95\n",
    "Cross_val_R2_95 = r2_score(y_trainb, ztest_trainb)\n",
    "print \"Cross_val_R2_score: \" , Cross_val_R2_95\n",
    "print \"\"\n",
    "print 'Externally validated parameters'\n",
    "Ext_val_MSE_95 = extvmetrics2 = mean_squared_error(y_testb , ztestb)\n",
    "print \"Ext_val_MSE: \", Ext_val_MSE_95 \n",
    "Ext_val_R2_95 = r2_score(y_testb , ztestb)\n",
    "print \"Ext_val_R2_score: \" , Ext_val_R2_95 "
   ]
  },
  {
   "cell_type": "code",
   "execution_count": 32,
   "metadata": {
    "collapsed": false
   },
   "outputs": [],
   "source": [
    "#generation of the arrays\n",
    "learning_x = np.array([5, 20, 50, 80, 95])\n",
    "plot_ext_rmse = np.array([Ext_val_MSE_05 , Ext_val_MSE_20 , Ext_val_MSE_50 , Ext_val_MSE_80 , Ext_val_MSE_95])\n",
    "plot_cross_rmse = np.array([Cross_val_MSE_05 , Cross_val_MSE_20 , Cross_val_MSE_50 , Cross_val_MSE_80 , Cross_val_MSE_95])\n",
    "\n",
    "plot_ext_r2 = np.array([Ext_val_R2_05 , Ext_val_R2_20 , Ext_val_R2_50 , Ext_val_R2_80 , Ext_val_R2_95])\n",
    "plot_cross_r2 = np.array([Cross_val_R2_05 , Cross_val_R2_20 , Cross_val_R2_50 , Cross_val_R2_80 , Cross_val_R2_95])"
   ]
  },
  {
   "cell_type": "code",
   "execution_count": 33,
   "metadata": {
    "collapsed": false
   },
   "outputs": [
    {
     "data": {
      "image/png": "[encoded data removed]",
      "text/plain": [
       "<matplotlib.figure.Figure at 0x2097b050>"
      ]
     },
     "metadata": {},
     "output_type": "display_data"
    }
   ],
   "source": [
    "#the actual plot\n",
    "figure,(plt1,plt2) = pylab.subplots(1,2)\n",
    "figure.set_size_inches(15,5)\n",
    "plt1.set_ylim([0, 1])\n",
    "plt1.set_xlim([0, 100])\n",
    "plt1.set_title('Mean Squared Error')\n",
    "plt1.plot(learning_x,plot_ext_rmse,c='black',linewidth=1,zorder=1)\n",
    "plt1.plot(learning_x,plot_cross_rmse,c='red',linewidth=1,zorder=1)\n",
    "plt1.set_xlabel('Training Set Size (%)')\n",
    "plt1.set_ylabel('MSE')\n",
    "\n",
    "plt2.set_ylim([0, 1])\n",
    "plt2.set_xlim([0, 100])\n",
    "plt2.set_title('R2 Score')\n",
    "plt2.plot(learning_x,plot_ext_r2,c='black',linewidth=1,zorder=1, label='validation')\n",
    "plt2.plot(learning_x,plot_cross_r2,c='red',linewidth=1,zorder=1, label='training')\n",
    "plt2.legend(bbox_to_anchor=(1.05, 1), loc=2, borderaxespad=0.)\n",
    "plt2.set_xlabel('Training Set Size (%)')\n",
    "plt2.set_ylabel('R2 Score')\n",
    "\n",
    "plt.show()"
   ]
  },
  {
   "cell_type": "markdown",
   "metadata": {},
   "source": [
    "Interestingly the performance appears to go down for the 95% training - 5% validaiton split. This is however caused by the much smaller sample. The influence of the outliers on the scores is relatively rather large. This effect will not be so pronounced when using a larger data set than the here used 1500 datapoints. "
   ]
  },
  {
   "cell_type": "code",
   "execution_count": null,
   "metadata": {
    "collapsed": false
   },
   "outputs": [],
   "source": []
  }
 ],
 "metadata": {
  "kernelspec": {
   "display_name": "Python 2",
   "language": "python",
   "name": "python2"
  },
  "language_info": {
   "codemirror_mode": {
    "name": "ipython",
    "version": 2
   },
   "file_extension": ".py",
   "mimetype": "text/x-python",
   "name": "python",
   "nbconvert_exporter": "python",
   "pygments_lexer": "ipython2",
   "version": "2.7.5"
  }
 },
 "nbformat": 4,
 "nbformat_minor": 0
}
